{
 "cells": [
  {
   "cell_type": "markdown",
   "id": "e0294f67",
   "metadata": {},
   "source": [
    "1.\n",
    "F-test\n",
    "AIC\n",
    "\n",
    "2.\n",
    "Third Derivate of g is continuous\n",
    "\n",
    "3.\n",
    "Cubic Spline\n",
    "Natural Cubic Spline\n",
    "\n",
    "4. 2\n",
    "5. -1\n",
    "6. -3\n",
    "7. NA\n",
    "8. 1.93\n",
    "9. 0.44\n",
    "10. Yes\n",
    "11. 1.93\n",
    "12. 0.44\n",
    "13. No\n",
    "\n",
    "14.\n",
    "bs(+1, Intercept)\n",
    "poly\n",
    "\n",
    "15.\n",
    "bs(+1, Intercept)\n",
    "Median\n",
    "\n",
    "16.\n",
    "When lambda is Infinity, = Linear Regression\n",
    "When lambda is Zero, It passes through all data points\n",
    "Fitted curve is NCS"
   ]
  },
  {
   "cell_type": "code",
   "execution_count": 334,
   "id": "6f0f42ce",
   "metadata": {},
   "outputs": [],
   "source": [
    "import numpy as np\n",
    "import pandas as pd\n",
    "from matplotlib.pyplot import subplots\n",
    "\n",
    "import statsmodels.api as sm\n",
    "\n",
    "from statsmodels.stats.outliers_influence import variance_inflation_factor as VIF\n",
    "from statsmodels.stats.anova import anova_lm\n",
    "\n",
    "from ISLP import load_data\n",
    "from ISLP.models import bs, ns\n",
    "\n",
    "from ISLP.models import (ModelSpec as MS,\n",
    "                         summarize,\n",
    "                         poly)"
   ]
  },
  {
   "cell_type": "code",
   "execution_count": 203,
   "id": "1ad7091b",
   "metadata": {},
   "outputs": [],
   "source": [
    "from pygam import (s as s_gam,\n",
    "                   l as l_gam,\n",
    "                   f as f_gam,\n",
    "                   LinearGAM,\n",
    "                   LogisticGAM)\n",
    "\n",
    "from ISLP.transforms import (BSpline,\n",
    "                             NaturalSpline)\n",
    "from ISLP.models import bs, ns\n",
    "from ISLP.pygam import (approx_lam,\n",
    "                        degrees_of_freedom,\n",
    "                        plot as plot_gam,\n",
    "                        anova as anova_gam)"
   ]
  },
  {
   "cell_type": "code",
   "execution_count": 204,
   "id": "3160674f",
   "metadata": {},
   "outputs": [],
   "source": [
    "myData = pd.read_csv(\"https://liangfgithub.github.io/Data/noxData.csv\")"
   ]
  },
  {
   "cell_type": "code",
   "execution_count": 205,
   "id": "834aa640",
   "metadata": {},
   "outputs": [],
   "source": [
    "myData\n",
    "\n",
    "x = myData['dis']\n",
    "y = myData['nox']"
   ]
  },
  {
   "cell_type": "code",
   "execution_count": 373,
   "id": "ca97dfe8",
   "metadata": {},
   "outputs": [
    {
     "name": "stdout",
     "output_type": "stream",
     "text": [
      "3.2074499999999997\n",
      "[2.100175 3.20745  5.188425]\n"
     ]
    }
   ],
   "source": [
    "#model = 'act_hours ~ h_hours + I(h_hours**2)'\n",
    "\n",
    "#sm.OLS(y, x).fit().summary()\n",
    "#dir(poly)\n",
    "#poly_x\n",
    "\n",
    "print(np.median(x))\n",
    "print(np.quantile(x, q=[.25, 0.5, .75]))"
   ]
  },
  {
   "cell_type": "code",
   "execution_count": 384,
   "id": "2d5ae243",
   "metadata": {},
   "outputs": [
    {
     "name": "stdout",
     "output_type": "stream",
     "text": [
      "[2.100175 3.20745  5.188425]\n",
      "     BSpline(df=7, intercept=True, lower_bound=1.1296, upper_bound=12.1265)[0]  \\\n",
      "0                                                  0.0                           \n",
      "1                                                  0.0                           \n",
      "2                                                  0.0                           \n",
      "3                                                  0.0                           \n",
      "4                                                  0.0                           \n",
      "..                                                 ...                           \n",
      "501                                                0.0                           \n",
      "502                                                0.0                           \n",
      "503                                                0.0                           \n",
      "504                                                0.0                           \n",
      "505                                                0.0                           \n",
      "\n",
      "     BSpline(df=7, intercept=True, lower_bound=1.1296, upper_bound=12.1265)[1]  \\\n",
      "0                                             0.000000                           \n",
      "1                                             0.000000                           \n",
      "2                                             0.000000                           \n",
      "3                                             0.000000                           \n",
      "4                                             0.000000                           \n",
      "..                                                 ...                           \n",
      "501                                           0.080990                           \n",
      "502                                           0.162858                           \n",
      "503                                           0.235263                           \n",
      "504                                           0.114723                           \n",
      "505                                           0.072504                           \n",
      "\n",
      "     BSpline(df=7, intercept=True, lower_bound=1.1296, upper_bound=12.1265)[2]  \\\n",
      "0                                             0.053373                           \n",
      "1                                             0.000437                           \n",
      "2                                             0.000437                           \n",
      "3                                             0.000000                           \n",
      "4                                             0.000000                           \n",
      "..                                                 ...                           \n",
      "501                                           0.635428                           \n",
      "502                                           0.649465                           \n",
      "503                                           0.628238                           \n",
      "504                                           0.648554                           \n",
      "505                                           0.629620                           \n",
      "\n",
      "     BSpline(df=7, intercept=True, lower_bound=1.1296, upper_bound=12.1265)[3]  \\\n",
      "0                                             0.751972                           \n",
      "1                                             0.590775                           \n",
      "2                                             0.590775                           \n",
      "3                                             0.359453                           \n",
      "4                                             0.359453                           \n",
      "..                                                 ...                           \n",
      "501                                           0.282002                           \n",
      "502                                           0.187485                           \n",
      "503                                           0.136490                           \n",
      "504                                           0.236020                           \n",
      "505                                           0.295941                           \n",
      "\n",
      "     BSpline(df=7, intercept=True, lower_bound=1.1296, upper_bound=12.1265)[4]  \\\n",
      "0                                             0.190293                           \n",
      "1                                             0.374213                           \n",
      "2                                             0.374213                           \n",
      "3                                             0.499908                           \n",
      "4                                             0.499908                           \n",
      "..                                                 ...                           \n",
      "501                                           0.001581                           \n",
      "502                                           0.000192                           \n",
      "503                                           0.000009                           \n",
      "504                                           0.000702                           \n",
      "505                                           0.001935                           \n",
      "\n",
      "     BSpline(df=7, intercept=True, lower_bound=1.1296, upper_bound=12.1265)[5]  \\\n",
      "0                                             0.004362                           \n",
      "1                                             0.034575                           \n",
      "2                                             0.034575                           \n",
      "3                                             0.138641                           \n",
      "4                                             0.138641                           \n",
      "..                                                 ...                           \n",
      "501                                           0.000000                           \n",
      "502                                           0.000000                           \n",
      "503                                           0.000000                           \n",
      "504                                           0.000000                           \n",
      "505                                           0.000000                           \n",
      "\n",
      "     BSpline(df=7, intercept=True, lower_bound=1.1296, upper_bound=12.1265)[6]  \n",
      "0                                             0.000000                          \n",
      "1                                             0.000000                          \n",
      "2                                             0.000000                          \n",
      "3                                             0.001997                          \n",
      "4                                             0.001997                          \n",
      "..                                                 ...                          \n",
      "501                                           0.000000                          \n",
      "502                                           0.000000                          \n",
      "503                                           0.000000                          \n",
      "504                                           0.000000                          \n",
      "505                                           0.000000                          \n",
      "\n",
      "[506 rows x 7 columns]\n"
     ]
    }
   ],
   "source": [
    "#bs_ = BSpline(internal_knots=[25,40,60], intercept=True).fit(age)\n",
    "bs_ = BSpline(df=7, intercept=True).fit(x)\n",
    "\n",
    "print(bs_.internal_knots_)\n",
    "print(bs_.transform(x))\n",
    "#x\n"
   ]
  },
  {
   "cell_type": "code",
   "execution_count": 375,
   "id": "83bc69f7",
   "metadata": {},
   "outputs": [
    {
     "data": {
      "text/plain": [
       "array([1.7916    , 2.19757143, 2.7778    , 3.66551429, 4.7211    ,\n",
       "       6.3338    ])"
      ]
     },
     "execution_count": 375,
     "metadata": {},
     "output_type": "execute_result"
    }
   ],
   "source": [
    "#bs_ = BSpline(internal_knots=[25,40,60], intercept=True).fit(age)\n",
    "ns_ = NaturalSpline(df=7, intercept=False).fit(x)\n",
    "#bs_.transform(x)\n",
    "ns_.internal_knots_\n",
    "#x\n"
   ]
  },
  {
   "cell_type": "code",
   "execution_count": 387,
   "id": "2a79e670",
   "metadata": {},
   "outputs": [
    {
     "data": {
      "text/html": [
       "<div>\n",
       "<style scoped>\n",
       "    .dataframe tbody tr th:only-of-type {\n",
       "        vertical-align: middle;\n",
       "    }\n",
       "\n",
       "    .dataframe tbody tr th {\n",
       "        vertical-align: top;\n",
       "    }\n",
       "\n",
       "    .dataframe thead th {\n",
       "        text-align: right;\n",
       "    }\n",
       "</style>\n",
       "<table border=\"1\" class=\"dataframe\">\n",
       "  <thead>\n",
       "    <tr style=\"text-align: right;\">\n",
       "      <th></th>\n",
       "      <th>intercept</th>\n",
       "      <th>bs(dis, df=4)[0]</th>\n",
       "      <th>bs(dis, df=4)[1]</th>\n",
       "      <th>bs(dis, df=4)[2]</th>\n",
       "      <th>bs(dis, df=4)[3]</th>\n",
       "    </tr>\n",
       "  </thead>\n",
       "  <tbody>\n",
       "    <tr>\n",
       "      <th>0</th>\n",
       "      <td>1.0</td>\n",
       "      <td>0.390292</td>\n",
       "      <td>0.431315</td>\n",
       "      <td>0.158883</td>\n",
       "      <td>0.019509</td>\n",
       "    </tr>\n",
       "    <tr>\n",
       "      <th>1</th>\n",
       "      <td>1.0</td>\n",
       "      <td>0.275943</td>\n",
       "      <td>0.443723</td>\n",
       "      <td>0.237839</td>\n",
       "      <td>0.042495</td>\n",
       "    </tr>\n",
       "    <tr>\n",
       "      <th>2</th>\n",
       "      <td>1.0</td>\n",
       "      <td>0.275943</td>\n",
       "      <td>0.443723</td>\n",
       "      <td>0.237839</td>\n",
       "      <td>0.042495</td>\n",
       "    </tr>\n",
       "    <tr>\n",
       "      <th>3</th>\n",
       "      <td>1.0</td>\n",
       "      <td>0.167699</td>\n",
       "      <td>0.409211</td>\n",
       "      <td>0.332846</td>\n",
       "      <td>0.090244</td>\n",
       "    </tr>\n",
       "    <tr>\n",
       "      <th>4</th>\n",
       "      <td>1.0</td>\n",
       "      <td>0.167699</td>\n",
       "      <td>0.409211</td>\n",
       "      <td>0.332846</td>\n",
       "      <td>0.090244</td>\n",
       "    </tr>\n",
       "    <tr>\n",
       "      <th>...</th>\n",
       "      <td>...</td>\n",
       "      <td>...</td>\n",
       "      <td>...</td>\n",
       "      <td>...</td>\n",
       "      <td>...</td>\n",
       "    </tr>\n",
       "    <tr>\n",
       "      <th>501</th>\n",
       "      <td>1.0</td>\n",
       "      <td>0.675286</td>\n",
       "      <td>0.283262</td>\n",
       "      <td>0.039607</td>\n",
       "      <td>0.001846</td>\n",
       "    </tr>\n",
       "    <tr>\n",
       "      <th>502</th>\n",
       "      <td>1.0</td>\n",
       "      <td>0.716213</td>\n",
       "      <td>0.252862</td>\n",
       "      <td>0.029758</td>\n",
       "      <td>0.001167</td>\n",
       "    </tr>\n",
       "    <tr>\n",
       "      <th>503</th>\n",
       "      <td>1.0</td>\n",
       "      <td>0.742739</td>\n",
       "      <td>0.232219</td>\n",
       "      <td>0.024201</td>\n",
       "      <td>0.000841</td>\n",
       "    </tr>\n",
       "    <tr>\n",
       "      <th>504</th>\n",
       "      <td>1.0</td>\n",
       "      <td>0.694296</td>\n",
       "      <td>0.269366</td>\n",
       "      <td>0.034835</td>\n",
       "      <td>0.001502</td>\n",
       "    </tr>\n",
       "    <tr>\n",
       "      <th>505</th>\n",
       "      <td>1.0</td>\n",
       "      <td>0.669757</td>\n",
       "      <td>0.287227</td>\n",
       "      <td>0.041059</td>\n",
       "      <td>0.001956</td>\n",
       "    </tr>\n",
       "  </tbody>\n",
       "</table>\n",
       "<p>506 rows × 5 columns</p>\n",
       "</div>"
      ],
      "text/plain": [
       "     intercept  bs(dis, df=4)[0]  bs(dis, df=4)[1]  bs(dis, df=4)[2]  \\\n",
       "0          1.0          0.390292          0.431315          0.158883   \n",
       "1          1.0          0.275943          0.443723          0.237839   \n",
       "2          1.0          0.275943          0.443723          0.237839   \n",
       "3          1.0          0.167699          0.409211          0.332846   \n",
       "4          1.0          0.167699          0.409211          0.332846   \n",
       "..         ...               ...               ...               ...   \n",
       "501        1.0          0.675286          0.283262          0.039607   \n",
       "502        1.0          0.716213          0.252862          0.029758   \n",
       "503        1.0          0.742739          0.232219          0.024201   \n",
       "504        1.0          0.694296          0.269366          0.034835   \n",
       "505        1.0          0.669757          0.287227          0.041059   \n",
       "\n",
       "     bs(dis, df=4)[3]  \n",
       "0            0.019509  \n",
       "1            0.042495  \n",
       "2            0.042495  \n",
       "3            0.090244  \n",
       "4            0.090244  \n",
       "..                ...  \n",
       "501          0.001846  \n",
       "502          0.001167  \n",
       "503          0.000841  \n",
       "504          0.001502  \n",
       "505          0.001956  \n",
       "\n",
       "[506 rows x 5 columns]"
      ]
     },
     "execution_count": 387,
     "metadata": {},
     "output_type": "execute_result"
    }
   ],
   "source": [
    "bs_x = MS([bs('dis', df=4, intercept=True)]).fit(myData)\n",
    "bs_x.transform(myData)\n"
   ]
  },
  {
   "cell_type": "code",
   "execution_count": 341,
   "id": "a3137d31",
   "metadata": {},
   "outputs": [
    {
     "data": {
      "text/html": [
       "<div>\n",
       "<style scoped>\n",
       "    .dataframe tbody tr th:only-of-type {\n",
       "        vertical-align: middle;\n",
       "    }\n",
       "\n",
       "    .dataframe tbody tr th {\n",
       "        vertical-align: top;\n",
       "    }\n",
       "\n",
       "    .dataframe thead th {\n",
       "        text-align: right;\n",
       "    }\n",
       "</style>\n",
       "<table border=\"1\" class=\"dataframe\">\n",
       "  <thead>\n",
       "    <tr style=\"text-align: right;\">\n",
       "      <th></th>\n",
       "      <th>intercept</th>\n",
       "      <th>ns(dis, df=3)[0]</th>\n",
       "      <th>ns(dis, df=3)[1]</th>\n",
       "      <th>ns(dis, df=3)[2]</th>\n",
       "    </tr>\n",
       "  </thead>\n",
       "  <tbody>\n",
       "    <tr>\n",
       "      <th>0</th>\n",
       "      <td>1.0</td>\n",
       "      <td>0.097671</td>\n",
       "      <td>0.599547</td>\n",
       "      <td>-0.317991</td>\n",
       "    </tr>\n",
       "    <tr>\n",
       "      <th>1</th>\n",
       "      <td>1.0</td>\n",
       "      <td>0.281544</td>\n",
       "      <td>0.513711</td>\n",
       "      <td>-0.234343</td>\n",
       "    </tr>\n",
       "    <tr>\n",
       "      <th>2</th>\n",
       "      <td>1.0</td>\n",
       "      <td>0.281544</td>\n",
       "      <td>0.513711</td>\n",
       "      <td>-0.234343</td>\n",
       "    </tr>\n",
       "    <tr>\n",
       "      <th>3</th>\n",
       "      <td>1.0</td>\n",
       "      <td>0.409347</td>\n",
       "      <td>0.435305</td>\n",
       "      <td>-0.111501</td>\n",
       "    </tr>\n",
       "    <tr>\n",
       "      <th>4</th>\n",
       "      <td>1.0</td>\n",
       "      <td>0.409347</td>\n",
       "      <td>0.435305</td>\n",
       "      <td>-0.111501</td>\n",
       "    </tr>\n",
       "    <tr>\n",
       "      <th>...</th>\n",
       "      <td>...</td>\n",
       "      <td>...</td>\n",
       "      <td>...</td>\n",
       "      <td>...</td>\n",
       "    </tr>\n",
       "    <tr>\n",
       "      <th>501</th>\n",
       "      <td>1.0</td>\n",
       "      <td>-0.201423</td>\n",
       "      <td>0.578114</td>\n",
       "      <td>-0.321047</td>\n",
       "    </tr>\n",
       "    <tr>\n",
       "      <th>502</th>\n",
       "      <td>1.0</td>\n",
       "      <td>-0.198985</td>\n",
       "      <td>0.526684</td>\n",
       "      <td>-0.292489</td>\n",
       "    </tr>\n",
       "    <tr>\n",
       "      <th>503</th>\n",
       "      <td>1.0</td>\n",
       "      <td>-0.191260</td>\n",
       "      <td>0.487155</td>\n",
       "      <td>-0.270536</td>\n",
       "    </tr>\n",
       "    <tr>\n",
       "      <th>504</th>\n",
       "      <td>1.0</td>\n",
       "      <td>-0.201855</td>\n",
       "      <td>0.555817</td>\n",
       "      <td>-0.308667</td>\n",
       "    </tr>\n",
       "    <tr>\n",
       "      <th>505</th>\n",
       "      <td>1.0</td>\n",
       "      <td>-0.200778</td>\n",
       "      <td>0.584067</td>\n",
       "      <td>-0.324350</td>\n",
       "    </tr>\n",
       "  </tbody>\n",
       "</table>\n",
       "<p>506 rows × 4 columns</p>\n",
       "</div>"
      ],
      "text/plain": [
       "     intercept  ns(dis, df=3)[0]  ns(dis, df=3)[1]  ns(dis, df=3)[2]\n",
       "0          1.0          0.097671          0.599547         -0.317991\n",
       "1          1.0          0.281544          0.513711         -0.234343\n",
       "2          1.0          0.281544          0.513711         -0.234343\n",
       "3          1.0          0.409347          0.435305         -0.111501\n",
       "4          1.0          0.409347          0.435305         -0.111501\n",
       "..         ...               ...               ...               ...\n",
       "501        1.0         -0.201423          0.578114         -0.321047\n",
       "502        1.0         -0.198985          0.526684         -0.292489\n",
       "503        1.0         -0.191260          0.487155         -0.270536\n",
       "504        1.0         -0.201855          0.555817         -0.308667\n",
       "505        1.0         -0.200778          0.584067         -0.324350\n",
       "\n",
       "[506 rows x 4 columns]"
      ]
     },
     "execution_count": 341,
     "metadata": {},
     "output_type": "execute_result"
    }
   ],
   "source": [
    "ns_x = MS([ns('dis', df=3)]).fit(myData)\n",
    "ns_x.transform(myData)\n"
   ]
  },
  {
   "cell_type": "code",
   "execution_count": 329,
   "id": "ae0a2271",
   "metadata": {},
   "outputs": [
    {
     "data": {
      "text/html": [
       "<table class=\"simpletable\">\n",
       "<caption>OLS Regression Results</caption>\n",
       "<tr>\n",
       "  <th>Dep. Variable:</th>           <td>nox</td>       <th>  R-squared:         </th> <td>   0.736</td> \n",
       "</tr>\n",
       "<tr>\n",
       "  <th>Model:</th>                   <td>OLS</td>       <th>  Adj. R-squared:    </th> <td>   0.728</td> \n",
       "</tr>\n",
       "<tr>\n",
       "  <th>Method:</th>             <td>Least Squares</td>  <th>  F-statistic:       </th> <td>   91.26</td> \n",
       "</tr>\n",
       "<tr>\n",
       "  <th>Date:</th>             <td>Sat, 07 Oct 2023</td> <th>  Prob (F-statistic):</th> <td>3.69e-131</td>\n",
       "</tr>\n",
       "<tr>\n",
       "  <th>Time:</th>                 <td>13:50:51</td>     <th>  Log-Likelihood:    </th> <td>  710.40</td> \n",
       "</tr>\n",
       "<tr>\n",
       "  <th>No. Observations:</th>      <td>   506</td>      <th>  AIC:               </th> <td>  -1389.</td> \n",
       "</tr>\n",
       "<tr>\n",
       "  <th>Df Residuals:</th>          <td>   490</td>      <th>  BIC:               </th> <td>  -1321.</td> \n",
       "</tr>\n",
       "<tr>\n",
       "  <th>Df Model:</th>              <td>    15</td>      <th>                     </th>     <td> </td>    \n",
       "</tr>\n",
       "<tr>\n",
       "  <th>Covariance Type:</th>      <td>nonrobust</td>    <th>                     </th>     <td> </td>    \n",
       "</tr>\n",
       "</table>\n",
       "<table class=\"simpletable\">\n",
       "<tr>\n",
       "              <td></td>                <th>coef</th>     <th>std err</th>      <th>t</th>      <th>P>|t|</th>  <th>[0.025</th>    <th>0.975]</th>  \n",
       "</tr>\n",
       "<tr>\n",
       "  <th>intercept</th>                <td>    0.5547</td> <td>    0.003</td> <td>  206.595</td> <td> 0.000</td> <td>    0.549</td> <td>    0.560</td>\n",
       "</tr>\n",
       "<tr>\n",
       "  <th>poly(dis, degree=15)[0]</th>  <td>   -2.0031</td> <td>    0.060</td> <td>  -33.166</td> <td> 0.000</td> <td>   -2.122</td> <td>   -1.884</td>\n",
       "</tr>\n",
       "<tr>\n",
       "  <th>poly(dis, degree=15)[1]</th>  <td>    0.8563</td> <td>    0.060</td> <td>   14.179</td> <td> 0.000</td> <td>    0.738</td> <td>    0.975</td>\n",
       "</tr>\n",
       "<tr>\n",
       "  <th>poly(dis, degree=15)[2]</th>  <td>   -0.3180</td> <td>    0.060</td> <td>   -5.266</td> <td> 0.000</td> <td>   -0.437</td> <td>   -0.199</td>\n",
       "</tr>\n",
       "<tr>\n",
       "  <th>poly(dis, degree=15)[3]</th>  <td>    0.0335</td> <td>    0.060</td> <td>    0.555</td> <td> 0.579</td> <td>   -0.085</td> <td>    0.152</td>\n",
       "</tr>\n",
       "<tr>\n",
       "  <th>poly(dis, degree=15)[4]</th>  <td>    0.1330</td> <td>    0.060</td> <td>    2.202</td> <td> 0.028</td> <td>    0.014</td> <td>    0.252</td>\n",
       "</tr>\n",
       "<tr>\n",
       "  <th>poly(dis, degree=15)[5]</th>  <td>   -0.1924</td> <td>    0.060</td> <td>   -3.186</td> <td> 0.002</td> <td>   -0.311</td> <td>   -0.074</td>\n",
       "</tr>\n",
       "<tr>\n",
       "  <th>poly(dis, degree=15)[6]</th>  <td>    0.1696</td> <td>    0.060</td> <td>    2.809</td> <td> 0.005</td> <td>    0.051</td> <td>    0.288</td>\n",
       "</tr>\n",
       "<tr>\n",
       "  <th>poly(dis, degree=15)[7]</th>  <td>   -0.1177</td> <td>    0.060</td> <td>   -1.949</td> <td> 0.052</td> <td>   -0.236</td> <td>    0.001</td>\n",
       "</tr>\n",
       "<tr>\n",
       "  <th>poly(dis, degree=15)[8]</th>  <td>    0.0479</td> <td>    0.060</td> <td>    0.794</td> <td> 0.428</td> <td>   -0.071</td> <td>    0.167</td>\n",
       "</tr>\n",
       "<tr>\n",
       "  <th>poly(dis, degree=15)[9]</th>  <td>   -0.0341</td> <td>    0.060</td> <td>   -0.564</td> <td> 0.573</td> <td>   -0.153</td> <td>    0.085</td>\n",
       "</tr>\n",
       "<tr>\n",
       "  <th>poly(dis, degree=15)[10]</th> <td>    0.0018</td> <td>    0.060</td> <td>    0.031</td> <td> 0.976</td> <td>   -0.117</td> <td>    0.121</td>\n",
       "</tr>\n",
       "<tr>\n",
       "  <th>poly(dis, degree=15)[11]</th> <td>   -0.0484</td> <td>    0.060</td> <td>   -0.802</td> <td> 0.423</td> <td>   -0.167</td> <td>    0.070</td>\n",
       "</tr>\n",
       "<tr>\n",
       "  <th>poly(dis, degree=15)[12]</th> <td>    0.1314</td> <td>    0.060</td> <td>    2.175</td> <td> 0.030</td> <td>    0.013</td> <td>    0.250</td>\n",
       "</tr>\n",
       "<tr>\n",
       "  <th>poly(dis, degree=15)[13]</th> <td>    0.0332</td> <td>    0.060</td> <td>    0.549</td> <td> 0.583</td> <td>   -0.086</td> <td>    0.152</td>\n",
       "</tr>\n",
       "<tr>\n",
       "  <th>poly(dis, degree=15)[14]</th> <td>   -0.1552</td> <td>    0.060</td> <td>   -2.570</td> <td> 0.010</td> <td>   -0.274</td> <td>   -0.037</td>\n",
       "</tr>\n",
       "</table>\n",
       "<table class=\"simpletable\">\n",
       "<tr>\n",
       "  <th>Omnibus:</th>       <td>59.434</td> <th>  Durbin-Watson:     </th> <td>   0.347</td>\n",
       "</tr>\n",
       "<tr>\n",
       "  <th>Prob(Omnibus):</th> <td> 0.000</td> <th>  Jarque-Bera (JB):  </th> <td>  79.847</td>\n",
       "</tr>\n",
       "<tr>\n",
       "  <th>Skew:</th>          <td> 0.862</td> <th>  Prob(JB):          </th> <td>4.59e-18</td>\n",
       "</tr>\n",
       "<tr>\n",
       "  <th>Kurtosis:</th>      <td> 3.902</td> <th>  Cond. No.          </th> <td>    22.5</td>\n",
       "</tr>\n",
       "</table><br/><br/>Notes:<br/>[1] Standard Errors assume that the covariance matrix of the errors is correctly specified."
      ],
      "text/latex": [
       "\\begin{center}\n",
       "\\begin{tabular}{lclc}\n",
       "\\toprule\n",
       "\\textbf{Dep. Variable:}           &       nox        & \\textbf{  R-squared:         } &     0.736   \\\\\n",
       "\\textbf{Model:}                   &       OLS        & \\textbf{  Adj. R-squared:    } &     0.728   \\\\\n",
       "\\textbf{Method:}                  &  Least Squares   & \\textbf{  F-statistic:       } &     91.26   \\\\\n",
       "\\textbf{Date:}                    & Sat, 07 Oct 2023 & \\textbf{  Prob (F-statistic):} & 3.69e-131   \\\\\n",
       "\\textbf{Time:}                    &     13:50:51     & \\textbf{  Log-Likelihood:    } &    710.40   \\\\\n",
       "\\textbf{No. Observations:}        &         506      & \\textbf{  AIC:               } &    -1389.   \\\\\n",
       "\\textbf{Df Residuals:}            &         490      & \\textbf{  BIC:               } &    -1321.   \\\\\n",
       "\\textbf{Df Model:}                &          15      & \\textbf{                     } &             \\\\\n",
       "\\textbf{Covariance Type:}         &    nonrobust     & \\textbf{                     } &             \\\\\n",
       "\\bottomrule\n",
       "\\end{tabular}\n",
       "\\begin{tabular}{lcccccc}\n",
       "                                  & \\textbf{coef} & \\textbf{std err} & \\textbf{t} & \\textbf{P$> |$t$|$} & \\textbf{[0.025} & \\textbf{0.975]}  \\\\\n",
       "\\midrule\n",
       "\\textbf{intercept}                &       0.5547  &        0.003     &   206.595  &         0.000        &        0.549    &        0.560     \\\\\n",
       "\\textbf{poly(dis, degree=15)[0]}  &      -2.0031  &        0.060     &   -33.166  &         0.000        &       -2.122    &       -1.884     \\\\\n",
       "\\textbf{poly(dis, degree=15)[1]}  &       0.8563  &        0.060     &    14.179  &         0.000        &        0.738    &        0.975     \\\\\n",
       "\\textbf{poly(dis, degree=15)[2]}  &      -0.3180  &        0.060     &    -5.266  &         0.000        &       -0.437    &       -0.199     \\\\\n",
       "\\textbf{poly(dis, degree=15)[3]}  &       0.0335  &        0.060     &     0.555  &         0.579        &       -0.085    &        0.152     \\\\\n",
       "\\textbf{poly(dis, degree=15)[4]}  &       0.1330  &        0.060     &     2.202  &         0.028        &        0.014    &        0.252     \\\\\n",
       "\\textbf{poly(dis, degree=15)[5]}  &      -0.1924  &        0.060     &    -3.186  &         0.002        &       -0.311    &       -0.074     \\\\\n",
       "\\textbf{poly(dis, degree=15)[6]}  &       0.1696  &        0.060     &     2.809  &         0.005        &        0.051    &        0.288     \\\\\n",
       "\\textbf{poly(dis, degree=15)[7]}  &      -0.1177  &        0.060     &    -1.949  &         0.052        &       -0.236    &        0.001     \\\\\n",
       "\\textbf{poly(dis, degree=15)[8]}  &       0.0479  &        0.060     &     0.794  &         0.428        &       -0.071    &        0.167     \\\\\n",
       "\\textbf{poly(dis, degree=15)[9]}  &      -0.0341  &        0.060     &    -0.564  &         0.573        &       -0.153    &        0.085     \\\\\n",
       "\\textbf{poly(dis, degree=15)[10]} &       0.0018  &        0.060     &     0.031  &         0.976        &       -0.117    &        0.121     \\\\\n",
       "\\textbf{poly(dis, degree=15)[11]} &      -0.0484  &        0.060     &    -0.802  &         0.423        &       -0.167    &        0.070     \\\\\n",
       "\\textbf{poly(dis, degree=15)[12]} &       0.1314  &        0.060     &     2.175  &         0.030        &        0.013    &        0.250     \\\\\n",
       "\\textbf{poly(dis, degree=15)[13]} &       0.0332  &        0.060     &     0.549  &         0.583        &       -0.086    &        0.152     \\\\\n",
       "\\textbf{poly(dis, degree=15)[14]} &      -0.1552  &        0.060     &    -2.570  &         0.010        &       -0.274    &       -0.037     \\\\\n",
       "\\bottomrule\n",
       "\\end{tabular}\n",
       "\\begin{tabular}{lclc}\n",
       "\\textbf{Omnibus:}       & 59.434 & \\textbf{  Durbin-Watson:     } &    0.347  \\\\\n",
       "\\textbf{Prob(Omnibus):} &  0.000 & \\textbf{  Jarque-Bera (JB):  } &   79.847  \\\\\n",
       "\\textbf{Skew:}          &  0.862 & \\textbf{  Prob(JB):          } & 4.59e-18  \\\\\n",
       "\\textbf{Kurtosis:}      &  3.902 & \\textbf{  Cond. No.          } &     22.5  \\\\\n",
       "\\bottomrule\n",
       "\\end{tabular}\n",
       "%\\caption{OLS Regression Results}\n",
       "\\end{center}\n",
       "\n",
       "Notes: \\newline\n",
       " [1] Standard Errors assume that the covariance matrix of the errors is correctly specified."
      ],
      "text/plain": [
       "<class 'statsmodels.iolib.summary.Summary'>\n",
       "\"\"\"\n",
       "                            OLS Regression Results                            \n",
       "==============================================================================\n",
       "Dep. Variable:                    nox   R-squared:                       0.736\n",
       "Model:                            OLS   Adj. R-squared:                  0.728\n",
       "Method:                 Least Squares   F-statistic:                     91.26\n",
       "Date:                Sat, 07 Oct 2023   Prob (F-statistic):          3.69e-131\n",
       "Time:                        13:50:51   Log-Likelihood:                 710.40\n",
       "No. Observations:                 506   AIC:                            -1389.\n",
       "Df Residuals:                     490   BIC:                            -1321.\n",
       "Df Model:                          15                                         \n",
       "Covariance Type:            nonrobust                                         \n",
       "============================================================================================\n",
       "                               coef    std err          t      P>|t|      [0.025      0.975]\n",
       "--------------------------------------------------------------------------------------------\n",
       "intercept                    0.5547      0.003    206.595      0.000       0.549       0.560\n",
       "poly(dis, degree=15)[0]     -2.0031      0.060    -33.166      0.000      -2.122      -1.884\n",
       "poly(dis, degree=15)[1]      0.8563      0.060     14.179      0.000       0.738       0.975\n",
       "poly(dis, degree=15)[2]     -0.3180      0.060     -5.266      0.000      -0.437      -0.199\n",
       "poly(dis, degree=15)[3]      0.0335      0.060      0.555      0.579      -0.085       0.152\n",
       "poly(dis, degree=15)[4]      0.1330      0.060      2.202      0.028       0.014       0.252\n",
       "poly(dis, degree=15)[5]     -0.1924      0.060     -3.186      0.002      -0.311      -0.074\n",
       "poly(dis, degree=15)[6]      0.1696      0.060      2.809      0.005       0.051       0.288\n",
       "poly(dis, degree=15)[7]     -0.1177      0.060     -1.949      0.052      -0.236       0.001\n",
       "poly(dis, degree=15)[8]      0.0479      0.060      0.794      0.428      -0.071       0.167\n",
       "poly(dis, degree=15)[9]     -0.0341      0.060     -0.564      0.573      -0.153       0.085\n",
       "poly(dis, degree=15)[10]     0.0018      0.060      0.031      0.976      -0.117       0.121\n",
       "poly(dis, degree=15)[11]    -0.0484      0.060     -0.802      0.423      -0.167       0.070\n",
       "poly(dis, degree=15)[12]     0.1314      0.060      2.175      0.030       0.013       0.250\n",
       "poly(dis, degree=15)[13]     0.0332      0.060      0.549      0.583      -0.086       0.152\n",
       "poly(dis, degree=15)[14]    -0.1552      0.060     -2.570      0.010      -0.274      -0.037\n",
       "==============================================================================\n",
       "Omnibus:                       59.434   Durbin-Watson:                   0.347\n",
       "Prob(Omnibus):                  0.000   Jarque-Bera (JB):               79.847\n",
       "Skew:                           0.862   Prob(JB):                     4.59e-18\n",
       "Kurtosis:                       3.902   Cond. No.                         22.5\n",
       "==============================================================================\n",
       "\n",
       "Notes:\n",
       "[1] Standard Errors assume that the covariance matrix of the errors is correctly specified.\n",
       "\"\"\""
      ]
     },
     "execution_count": 329,
     "metadata": {},
     "output_type": "execute_result"
    }
   ],
   "source": [
    "poly_x = MS([poly('dis', degree=15)]).fit(myData)\n",
    "M = sm.OLS(y, poly_x.transform(myData)).fit()\n",
    "summarize(M)\n",
    "M.summary()"
   ]
  },
  {
   "cell_type": "code",
   "execution_count": 330,
   "id": "12f09ae1",
   "metadata": {},
   "outputs": [
    {
     "data": {
      "text/plain": [
       "1.79"
      ]
     },
     "execution_count": 330,
     "metadata": {},
     "output_type": "execute_result"
    }
   ],
   "source": [
    "diff = (M.predict(poly_x.transform(myData)) - y)\n",
    "RSS = np.sum(np.square(diff))\n",
    "round(RSS, 2)"
   ]
  },
  {
   "cell_type": "code",
   "execution_count": 331,
   "id": "13758b6a",
   "metadata": {},
   "outputs": [
    {
     "data": {
      "text/plain": [
       "0    0.45\n",
       "1    0.45\n",
       "dtype: float64"
      ]
     },
     "execution_count": 331,
     "metadata": {},
     "output_type": "execute_result"
    }
   ],
   "source": [
    "d = {'dis': [6, 6]}\n",
    "test_data = pd.DataFrame(data=d)\n",
    "test_result = M.predict(poly_x.transform(test_data))\n",
    "np.round(test_result, 2)"
   ]
  },
  {
   "cell_type": "markdown",
   "id": "7aee23af",
   "metadata": {},
   "source": [
    "## scikit learn"
   ]
  },
  {
   "cell_type": "code",
   "execution_count": 206,
   "id": "d1ef6303",
   "metadata": {},
   "outputs": [],
   "source": [
    "X = np.array([x]).T\n",
    "Y = np.array([y]).T\n",
    "#print(X)\n",
    "#print(Y)"
   ]
  },
  {
   "cell_type": "code",
   "execution_count": 207,
   "id": "f4e69fd5",
   "metadata": {},
   "outputs": [],
   "source": [
    "import numpy as np\n",
    "from sklearn.preprocessing import PolynomialFeatures\n",
    "from sklearn.linear_model import LinearRegression\n",
    "from sklearn.metrics import mean_squared_error\n"
   ]
  },
  {
   "cell_type": "code",
   "execution_count": 263,
   "id": "389c18c1",
   "metadata": {},
   "outputs": [
    {
     "name": "stdout",
     "output_type": "stream",
     "text": [
      "reg.coef_: [[ 0.         -0.18208169  0.02192766 -0.000885  ]]\n",
      "reg.intercept_: [0.93412807]\n",
      "LinearRegression()\n"
     ]
    }
   ],
   "source": [
    "#X = np.array([[1, 1], [1, 2], [2, 2], [2, 3]])\n",
    "# y = 1 * x_0 + 2 * x_1 + 3\n",
    "\n",
    "poly_X_fit = PolynomialFeatures(degree=3).fit(X)\n",
    "#poly_X = poly_X_fit.transform(X)\n",
    "\n",
    "reg = LinearRegression().fit(poly_X_fit.transform(X), Y)\n",
    "#print(\"reg.score:\", reg.score(X, Y))\n",
    "#print(\"mean_squared_error:\", mean_squared_error(Y, reg.predict(X)))\n",
    "print(\"reg.coef_:\", reg.coef_)\n",
    "print(\"reg.intercept_:\", reg.intercept_)\n",
    "reg.get_params()\n",
    "print(reg)"
   ]
  },
  {
   "cell_type": "code",
   "execution_count": 264,
   "id": "ff2cfc50",
   "metadata": {},
   "outputs": [],
   "source": [
    "y_pred = reg.predict(poly_X_fit.transform(X))\n",
    "\n",
    "#y_pred"
   ]
  },
  {
   "cell_type": "code",
   "execution_count": 265,
   "id": "a62b6fd8",
   "metadata": {},
   "outputs": [
    {
     "data": {
      "text/plain": [
       "1.9341067071790703"
      ]
     },
     "execution_count": 265,
     "metadata": {},
     "output_type": "execute_result"
    }
   ],
   "source": [
    "np.linalg.norm(Y - y_pred)**2\n",
    "#z = np.linalg.norm(Y - y_pred)\n",
    "#z*z"
   ]
  },
  {
   "cell_type": "code",
   "execution_count": 242,
   "id": "0ca036bd",
   "metadata": {},
   "outputs": [
    {
     "data": {
      "text/plain": [
       "1.9341067071790703"
      ]
     },
     "execution_count": 242,
     "metadata": {},
     "output_type": "execute_result"
    }
   ],
   "source": [
    "from scipy.spatial import distance\n",
    "# a = (1, 2, 3)\n",
    "# b = (4, 5, 6)\n",
    "#distance.euclidean(a, b)\n",
    "dist = distance.euclidean(y, y_pred.T[0])\n"
   ]
  },
  {
   "cell_type": "code",
   "execution_count": 175,
   "id": "9c4f1a8c",
   "metadata": {},
   "outputs": [
    {
     "data": {
      "text/plain": [
       "1.93"
      ]
     },
     "execution_count": 175,
     "metadata": {},
     "output_type": "execute_result"
    }
   ],
   "source": [
    "diff = (y_pred - Y)\n",
    "RSS = np.sum(np.square(diff))\n",
    "round(RSS, 2)"
   ]
  },
  {
   "cell_type": "code",
   "execution_count": 85,
   "id": "84ad5b59",
   "metadata": {},
   "outputs": [
    {
     "data": {
      "text/plain": [
       "0      4.0900\n",
       "1      4.9671\n",
       "2      4.9671\n",
       "3      6.0622\n",
       "4      6.0622\n",
       "        ...  \n",
       "501    2.4786\n",
       "502    2.2875\n",
       "503    2.1675\n",
       "504    2.3889\n",
       "505    2.5050\n",
       "Name: dis, Length: 506, dtype: float64"
      ]
     },
     "execution_count": 85,
     "metadata": {},
     "output_type": "execute_result"
    }
   ],
   "source": [
    "d = {'dis': [6, 6]}\n",
    "test_data = pd.DataFrame(data=d)\n",
    "test_result = M.predict(poly_x.transform(test_data))\n",
    "np.round(test_result, 2)"
   ]
  },
  {
   "cell_type": "code",
   "execution_count": 197,
   "id": "68b46f29",
   "metadata": {},
   "outputs": [
    {
     "name": "stdout",
     "output_type": "stream",
     "text": [
      "beginning x:\n",
      " [1 2 3 4 5 6]\n",
      "reshaped x:\n",
      " [[[1 2]]\n",
      "\n",
      " [[3 4]]\n",
      "\n",
      " [[5 6]]]\n"
     ]
    }
   ],
   "source": [
    "x = np.array([1, 2, 3, 4, 5, 6])\n",
    "print('beginning x:\\n', x)\n",
    "x_reshape = x.reshape((-1, 1, 2))\n",
    "print('reshaped x:\\n', x_reshape)\n"
   ]
  },
  {
   "cell_type": "code",
   "execution_count": 403,
   "id": "65cfb537",
   "metadata": {},
   "outputs": [
    {
     "data": {
      "text/plain": [
       "array([0.  , 0.25, 0.5 , 0.75, 1.  ])"
      ]
     },
     "execution_count": 403,
     "metadata": {},
     "output_type": "execute_result"
    }
   ],
   "source": [
    "np.linspace(0, 1.0, num=5)"
   ]
  },
  {
   "cell_type": "code",
   "execution_count": 401,
   "id": "34cf0a7d",
   "metadata": {},
   "outputs": [
    {
     "data": {
      "text/plain": [
       "array([ 100.        ,  177.827941  ,  316.22776602,  562.34132519,\n",
       "       1000.        ])"
      ]
     },
     "execution_count": 401,
     "metadata": {},
     "output_type": "execute_result"
    }
   ],
   "source": [
    "(np.logspace(2, 3, num=5))"
   ]
  },
  {
   "cell_type": "code",
   "execution_count": 404,
   "id": "ac4062d3",
   "metadata": {},
   "outputs": [
    {
     "data": {
      "text/plain": [
       "array([ 1.        ,  1.77827941,  3.16227766,  5.62341325, 10.        ])"
      ]
     },
     "execution_count": 404,
     "metadata": {},
     "output_type": "execute_result"
    }
   ],
   "source": [
    "10**(np.linspace(0, 1.0, num=5))"
   ]
  },
  {
   "cell_type": "code",
   "execution_count": 405,
   "id": "3fd8e306",
   "metadata": {},
   "outputs": [
    {
     "data": {
      "text/plain": [
       "array([ 1.        ,  1.77827941,  3.16227766,  5.62341325, 10.        ])"
      ]
     },
     "execution_count": 405,
     "metadata": {},
     "output_type": "execute_result"
    }
   ],
   "source": [
    "(np.logspace(0, 1, num=5))"
   ]
  },
  {
   "cell_type": "code",
   "execution_count": 430,
   "id": "4d02d776",
   "metadata": {},
   "outputs": [
    {
     "name": "stdout",
     "output_type": "stream",
     "text": [
      "[[1 2 3]\n",
      " [4 5 6]\n",
      " [7 8 9]]\n",
      "[ 1.61168440e+01 -1.11684397e+00 -8.58274334e-16]\n",
      "[[-0.23197069 -0.52532209 -0.8186735 ]\n",
      " [-0.78583024 -0.08675134  0.61232756]\n",
      " [ 0.40824829 -0.81649658  0.40824829]]\n",
      "------\n",
      "[-0.23197069 -0.52532209 -0.8186735 ]\n",
      "16.11684396980703\n",
      "[ -3.73863537  -8.46653421 -13.19443305]\n",
      "[ -3.73863537  -8.46653421 -13.19443305]\n",
      "[16.11684397 16.11684397 16.11684397]\n",
      "*********\n",
      "[-0.78583024 -0.08675134  0.61232756]\n",
      "-1.1168439698070434\n",
      "[ 0.87764976  0.09688771 -0.68387434]\n",
      "[ 0.87764976  0.09688771 -0.68387434]\n",
      "[-1.11684397 -1.11684397 -1.11684397]\n",
      "*********\n",
      "[ 0.40824829 -0.81649658  0.40824829]\n",
      "-8.582743335036247e-16\n",
      "[-3.50389029e-16  7.00778059e-16 -3.50389029e-16]\n",
      "[-6.66133815e-16 -4.44089210e-16 -4.44089210e-16]\n",
      "[-1.63168795e-15  5.43895982e-16 -1.08779196e-15]\n",
      "*********\n",
      "[-3.98417052e-16  7.96834105e-16 -3.98417052e-16]\n",
      "0.9999999999999996\n",
      "1.0\n",
      "1.0000000000000004\n"
     ]
    }
   ],
   "source": [
    "from numpy import array\n",
    "from numpy.linalg import eig\n",
    "# define matrix\n",
    "A = array([[1, 2, 3], [4, 5, 6], [7, 8, 9]])\n",
    "print(A)\n",
    "# calculate eigendecomposition\n",
    "values, vectors = eig(A)\n",
    "print(values)\n",
    "print(vectors.T)\n",
    "\n",
    "print(\"------\")\n",
    "for i in range(3):\n",
    "    vec = vectors.T[i]\n",
    "    val = values[i]\n",
    "    print(vec)\n",
    "    print(val)\n",
    "    print(vec * val)\n",
    "    print(np.matmul(A, vec))\n",
    "    \n",
    "    print(np.matmul(A, vec) / vec)\n",
    "    \n",
    "    print(\"*********\")\n",
    "#print(vectors.T[0])\n",
    "print(vectors.T[2]*-9.75918483e-16)\n",
    "\n",
    "for i in range(3):\n",
    "    print(np.sum(np.square(vectors.T[i])))\n",
    "    #print(np.sum(np.square(vectors[i])))"
   ]
  },
  {
   "cell_type": "markdown",
   "id": "4cae2cc6",
   "metadata": {},
   "source": [
    "## "
   ]
  },
  {
   "cell_type": "code",
   "execution_count": 434,
   "id": "3e88c12f",
   "metadata": {},
   "outputs": [
    {
     "name": "stdout",
     "output_type": "stream",
     "text": [
      "[[1. 2. 3.]\n",
      " [4. 5. 6.]\n",
      " [7. 8. 9.]]\n"
     ]
    }
   ],
   "source": [
    "Q = vectors\n",
    "# create inverse of eigenvectors matrix\n",
    "R = np.linalg.inv(Q)\n",
    "# create diagonal matrix from eigenvalues\n",
    "L = np.diag(values)\n",
    "# reconstruct the original matrix\n",
    "B = Q.dot(L).dot(R)\n",
    "print(B)"
   ]
  },
  {
   "cell_type": "code",
   "execution_count": null,
   "id": "a3f80d47",
   "metadata": {},
   "outputs": [],
   "source": []
  }
 ],
 "metadata": {
  "kernelspec": {
   "display_name": "Python 3 (ipykernel)",
   "language": "python",
   "name": "python3"
  },
  "language_info": {
   "codemirror_mode": {
    "name": "ipython",
    "version": 3
   },
   "file_extension": ".py",
   "mimetype": "text/x-python",
   "name": "python",
   "nbconvert_exporter": "python",
   "pygments_lexer": "ipython3",
   "version": "3.11.5"
  }
 },
 "nbformat": 4,
 "nbformat_minor": 5
}
