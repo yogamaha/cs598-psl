{
 "cells": [
  {
   "cell_type": "code",
   "execution_count": 1,
   "id": "dd6e48a9",
   "metadata": {},
   "outputs": [],
   "source": [
    "import numpy as np\n",
    "import pandas as pd\n",
    "import matplotlib.pyplot as plt\n",
    "import matplotlib.cm as cm\n",
    "\n",
    "from scipy.linalg import sqrtm\n",
    "\n",
    "from sklearn.discriminant_analysis import LinearDiscriminantAnalysis, QuadraticDiscriminantAnalysis\n",
    "from sklearn.metrics import confusion_matrix\n"
   ]
  },
  {
   "cell_type": "code",
   "execution_count": 40,
   "id": "f9de0f41",
   "metadata": {},
   "outputs": [],
   "source": [
    "train_url = \"zip.train\"\n",
    "train = pd.read_csv(train_url, sep=' ', header=None)\n",
    "Y_train = train.iloc[:, 0]\n",
    "X_train = train.iloc[:, 1:257]"
   ]
  },
  {
   "cell_type": "code",
   "execution_count": 41,
   "id": "cb83f241",
   "metadata": {},
   "outputs": [
    {
     "data": {
      "text/plain": [
       "(7291, 256)"
      ]
     },
     "execution_count": 41,
     "metadata": {},
     "output_type": "execute_result"
    }
   ],
   "source": [
    "X_train.shape"
   ]
  },
  {
   "cell_type": "code",
   "execution_count": 42,
   "id": "93643588",
   "metadata": {},
   "outputs": [],
   "source": [
    "test_url = \"zip.test\"\n",
    "test = pd.read_csv(test_url, sep=' ', header=None)\n",
    "Y_test = test.iloc[:, 0]\n",
    "X_test = test.iloc[:, 1:257]"
   ]
  },
  {
   "cell_type": "code",
   "execution_count": 43,
   "id": "1bb92c16",
   "metadata": {},
   "outputs": [
    {
     "data": {
      "text/plain": [
       "(2007, 256)"
      ]
     },
     "execution_count": 43,
     "metadata": {},
     "output_type": "execute_result"
    }
   ],
   "source": [
    "X_test.shape"
   ]
  },
  {
   "cell_type": "code",
   "execution_count": 7,
   "id": "1b03b4c8",
   "metadata": {},
   "outputs": [],
   "source": [
    "url = \"https://liangfgithub.github.io/Data/digits.csv\"\n",
    "df = pd.read_csv(url)\n",
    "\n",
    "# Split the data into training and testing sets\n",
    "X = df.iloc[:400, 0:256].values\n",
    "Y = df.iloc[:400, 256].values\n",
    "X_test = df.iloc[400:, 0:256].values\n",
    "Y_test = df.iloc[400:, 256].values"
   ]
  },
  {
   "cell_type": "code",
   "execution_count": 44,
   "id": "b74599a8",
   "metadata": {},
   "outputs": [
    {
     "name": "stderr",
     "output_type": "stream",
     "text": [
      "/opt/homebrew/anaconda3/envs/cs598-psl-env/lib/python3.11/site-packages/sklearn/utils/validation.py:767: FutureWarning: is_sparse is deprecated and will be removed in a future version. Check `isinstance(dtype, pd.SparseDtype)` instead.\n",
      "  if not hasattr(array, \"sparse\") and array.dtypes.apply(is_sparse).any():\n",
      "/opt/homebrew/anaconda3/envs/cs598-psl-env/lib/python3.11/site-packages/sklearn/utils/validation.py:605: FutureWarning: is_sparse is deprecated and will be removed in a future version. Check `isinstance(dtype, pd.SparseDtype)` instead.\n",
      "  if is_sparse(pd_dtype):\n",
      "/opt/homebrew/anaconda3/envs/cs598-psl-env/lib/python3.11/site-packages/sklearn/utils/validation.py:614: FutureWarning: is_sparse is deprecated and will be removed in a future version. Check `isinstance(dtype, pd.SparseDtype)` instead.\n",
      "  if is_sparse(pd_dtype) or not is_extension_array_dtype(pd_dtype):\n",
      "/opt/homebrew/anaconda3/envs/cs598-psl-env/lib/python3.11/site-packages/sklearn/utils/validation.py:605: FutureWarning: is_sparse is deprecated and will be removed in a future version. Check `isinstance(dtype, pd.SparseDtype)` instead.\n",
      "  if is_sparse(pd_dtype):\n",
      "/opt/homebrew/anaconda3/envs/cs598-psl-env/lib/python3.11/site-packages/sklearn/utils/validation.py:614: FutureWarning: is_sparse is deprecated and will be removed in a future version. Check `isinstance(dtype, pd.SparseDtype)` instead.\n",
      "  if is_sparse(pd_dtype) or not is_extension_array_dtype(pd_dtype):\n"
     ]
    },
    {
     "data": {
      "text/html": [
       "<style>#sk-container-id-1 {color: black;background-color: white;}#sk-container-id-1 pre{padding: 0;}#sk-container-id-1 div.sk-toggleable {background-color: white;}#sk-container-id-1 label.sk-toggleable__label {cursor: pointer;display: block;width: 100%;margin-bottom: 0;padding: 0.3em;box-sizing: border-box;text-align: center;}#sk-container-id-1 label.sk-toggleable__label-arrow:before {content: \"▸\";float: left;margin-right: 0.25em;color: #696969;}#sk-container-id-1 label.sk-toggleable__label-arrow:hover:before {color: black;}#sk-container-id-1 div.sk-estimator:hover label.sk-toggleable__label-arrow:before {color: black;}#sk-container-id-1 div.sk-toggleable__content {max-height: 0;max-width: 0;overflow: hidden;text-align: left;background-color: #f0f8ff;}#sk-container-id-1 div.sk-toggleable__content pre {margin: 0.2em;color: black;border-radius: 0.25em;background-color: #f0f8ff;}#sk-container-id-1 input.sk-toggleable__control:checked~div.sk-toggleable__content {max-height: 200px;max-width: 100%;overflow: auto;}#sk-container-id-1 input.sk-toggleable__control:checked~label.sk-toggleable__label-arrow:before {content: \"▾\";}#sk-container-id-1 div.sk-estimator input.sk-toggleable__control:checked~label.sk-toggleable__label {background-color: #d4ebff;}#sk-container-id-1 div.sk-label input.sk-toggleable__control:checked~label.sk-toggleable__label {background-color: #d4ebff;}#sk-container-id-1 input.sk-hidden--visually {border: 0;clip: rect(1px 1px 1px 1px);clip: rect(1px, 1px, 1px, 1px);height: 1px;margin: -1px;overflow: hidden;padding: 0;position: absolute;width: 1px;}#sk-container-id-1 div.sk-estimator {font-family: monospace;background-color: #f0f8ff;border: 1px dotted black;border-radius: 0.25em;box-sizing: border-box;margin-bottom: 0.5em;}#sk-container-id-1 div.sk-estimator:hover {background-color: #d4ebff;}#sk-container-id-1 div.sk-parallel-item::after {content: \"\";width: 100%;border-bottom: 1px solid gray;flex-grow: 1;}#sk-container-id-1 div.sk-label:hover label.sk-toggleable__label {background-color: #d4ebff;}#sk-container-id-1 div.sk-serial::before {content: \"\";position: absolute;border-left: 1px solid gray;box-sizing: border-box;top: 0;bottom: 0;left: 50%;z-index: 0;}#sk-container-id-1 div.sk-serial {display: flex;flex-direction: column;align-items: center;background-color: white;padding-right: 0.2em;padding-left: 0.2em;position: relative;}#sk-container-id-1 div.sk-item {position: relative;z-index: 1;}#sk-container-id-1 div.sk-parallel {display: flex;align-items: stretch;justify-content: center;background-color: white;position: relative;}#sk-container-id-1 div.sk-item::before, #sk-container-id-1 div.sk-parallel-item::before {content: \"\";position: absolute;border-left: 1px solid gray;box-sizing: border-box;top: 0;bottom: 0;left: 50%;z-index: -1;}#sk-container-id-1 div.sk-parallel-item {display: flex;flex-direction: column;z-index: 1;position: relative;background-color: white;}#sk-container-id-1 div.sk-parallel-item:first-child::after {align-self: flex-end;width: 50%;}#sk-container-id-1 div.sk-parallel-item:last-child::after {align-self: flex-start;width: 50%;}#sk-container-id-1 div.sk-parallel-item:only-child::after {width: 0;}#sk-container-id-1 div.sk-dashed-wrapped {border: 1px dashed gray;margin: 0 0.4em 0.5em 0.4em;box-sizing: border-box;padding-bottom: 0.4em;background-color: white;}#sk-container-id-1 div.sk-label label {font-family: monospace;font-weight: bold;display: inline-block;line-height: 1.2em;}#sk-container-id-1 div.sk-label-container {text-align: center;}#sk-container-id-1 div.sk-container {/* jupyter's `normalize.less` sets `[hidden] { display: none; }` but bootstrap.min.css set `[hidden] { display: none !important; }` so we also need the `!important` here to be able to override the default hidden behavior on the sphinx rendered scikit-learn.org. See: https://github.com/scikit-learn/scikit-learn/issues/21755 */display: inline-block !important;position: relative;}#sk-container-id-1 div.sk-text-repr-fallback {display: none;}</style><div id=\"sk-container-id-1\" class=\"sk-top-container\"><div class=\"sk-text-repr-fallback\"><pre>LinearDiscriminantAnalysis()</pre><b>In a Jupyter environment, please rerun this cell to show the HTML representation or trust the notebook. <br />On GitHub, the HTML representation is unable to render, please try loading this page with nbviewer.org.</b></div><div class=\"sk-container\" hidden><div class=\"sk-item\"><div class=\"sk-estimator sk-toggleable\"><input class=\"sk-toggleable__control sk-hidden--visually\" id=\"sk-estimator-id-1\" type=\"checkbox\" checked><label for=\"sk-estimator-id-1\" class=\"sk-toggleable__label sk-toggleable__label-arrow\">LinearDiscriminantAnalysis</label><div class=\"sk-toggleable__content\"><pre>LinearDiscriminantAnalysis()</pre></div></div></div></div></div>"
      ],
      "text/plain": [
       "LinearDiscriminantAnalysis()"
      ]
     },
     "execution_count": 44,
     "metadata": {},
     "output_type": "execute_result"
    }
   ],
   "source": [
    "dig_lda = LinearDiscriminantAnalysis()\n",
    "dig_lda.fit(X_train, Y_train)\n"
   ]
  },
  {
   "cell_type": "code",
   "execution_count": 49,
   "id": "d91632e0",
   "metadata": {},
   "outputs": [
    {
     "name": "stderr",
     "output_type": "stream",
     "text": [
      "/opt/homebrew/anaconda3/envs/cs598-psl-env/lib/python3.11/site-packages/sklearn/utils/validation.py:767: FutureWarning: is_sparse is deprecated and will be removed in a future version. Check `isinstance(dtype, pd.SparseDtype)` instead.\n",
      "  if not hasattr(array, \"sparse\") and array.dtypes.apply(is_sparse).any():\n",
      "/opt/homebrew/anaconda3/envs/cs598-psl-env/lib/python3.11/site-packages/sklearn/utils/validation.py:605: FutureWarning: is_sparse is deprecated and will be removed in a future version. Check `isinstance(dtype, pd.SparseDtype)` instead.\n",
      "  if is_sparse(pd_dtype):\n",
      "/opt/homebrew/anaconda3/envs/cs598-psl-env/lib/python3.11/site-packages/sklearn/utils/validation.py:614: FutureWarning: is_sparse is deprecated and will be removed in a future version. Check `isinstance(dtype, pd.SparseDtype)` instead.\n",
      "  if is_sparse(pd_dtype) or not is_extension_array_dtype(pd_dtype):\n",
      "/opt/homebrew/anaconda3/envs/cs598-psl-env/lib/python3.11/site-packages/sklearn/utils/validation.py:605: FutureWarning: is_sparse is deprecated and will be removed in a future version. Check `isinstance(dtype, pd.SparseDtype)` instead.\n",
      "  if is_sparse(pd_dtype):\n",
      "/opt/homebrew/anaconda3/envs/cs598-psl-env/lib/python3.11/site-packages/sklearn/utils/validation.py:614: FutureWarning: is_sparse is deprecated and will be removed in a future version. Check `isinstance(dtype, pd.SparseDtype)` instead.\n",
      "  if is_sparse(pd_dtype) or not is_extension_array_dtype(pd_dtype):\n",
      "/opt/homebrew/anaconda3/envs/cs598-psl-env/lib/python3.11/site-packages/sklearn/utils/validation.py:605: FutureWarning: is_sparse is deprecated and will be removed in a future version. Check `isinstance(dtype, pd.SparseDtype)` instead.\n",
      "  if is_sparse(pd_dtype):\n",
      "/opt/homebrew/anaconda3/envs/cs598-psl-env/lib/python3.11/site-packages/sklearn/utils/validation.py:614: FutureWarning: is_sparse is deprecated and will be removed in a future version. Check `isinstance(dtype, pd.SparseDtype)` instead.\n",
      "  if is_sparse(pd_dtype) or not is_extension_array_dtype(pd_dtype):\n",
      "/opt/homebrew/anaconda3/envs/cs598-psl-env/lib/python3.11/site-packages/sklearn/utils/validation.py:605: FutureWarning: is_sparse is deprecated and will be removed in a future version. Check `isinstance(dtype, pd.SparseDtype)` instead.\n",
      "  if is_sparse(pd_dtype):\n",
      "/opt/homebrew/anaconda3/envs/cs598-psl-env/lib/python3.11/site-packages/sklearn/utils/validation.py:614: FutureWarning: is_sparse is deprecated and will be removed in a future version. Check `isinstance(dtype, pd.SparseDtype)` instead.\n",
      "  if is_sparse(pd_dtype) or not is_extension_array_dtype(pd_dtype):\n"
     ]
    },
    {
     "data": {
      "text/plain": [
       "array([[342,   0,   7,   3,   1,   6,   1,   0,   5,   0],\n",
       "       [  0, 251,   2,   0,   4,   0,   0,   1,   0,   0],\n",
       "       [  0,   0, 157,   3,   6,   0,   3,   0,   2,   0],\n",
       "       [  4,   2,   4, 142,   0,  16,   0,   2,  11,   0],\n",
       "       [  3,   5,  12,   3, 174,   3,   3,   7,   7,   4],\n",
       "       [  1,   0,   2,   9,   0, 125,   3,   0,   4,   0],\n",
       "       [  5,   3,   1,   0,   2,   0, 157,   0,   0,   0],\n",
       "       [  0,   0,   1,   1,   2,   0,   0, 129,   0,   5],\n",
       "       [  3,   1,  12,   4,   1,   5,   3,   1, 135,   3],\n",
       "       [  1,   2,   0,   1,  10,   5,   0,   7,   2, 165]])"
      ]
     },
     "execution_count": 49,
     "metadata": {},
     "output_type": "execute_result"
    }
   ],
   "source": [
    "Y_pred = dig_lda.predict(X_test)\n",
    "mat = confusion_matrix(Y_pred, Y_test)\n",
    "mat"
   ]
  },
  {
   "cell_type": "code",
   "execution_count": 63,
   "id": "61e15984",
   "metadata": {},
   "outputs": [
    {
     "name": "stdout",
     "output_type": "stream",
     "text": [
      "A= 200\n",
      "B= 26\n"
     ]
    }
   ],
   "source": [
    "pred_dist = mat[:,4].T\n",
    "np.sum(pred_dist)\n",
    "\n",
    "print(\"A=\", np.sum(pred_dist))\n",
    "print(\"B=\", np.sum(pred_dist) - positive_dist[4])"
   ]
  },
  {
   "cell_type": "code",
   "execution_count": 76,
   "id": "8e5c2910",
   "metadata": {},
   "outputs": [
    {
     "name": "stdout",
     "output_type": "stream",
     "text": [
      "C= 221\n",
      "D= 47\n"
     ]
    }
   ],
   "source": [
    "positive_dist = mat[4]\n",
    "print(\"C=\", np.sum(positive_dist))\n",
    "print(\"D=\", np.sum(positive_dist) - positive_dist[4])"
   ]
  },
  {
   "cell_type": "code",
   "execution_count": 82,
   "id": "6c3ba5d1",
   "metadata": {},
   "outputs": [
    {
     "name": "stdout",
     "output_type": "stream",
     "text": [
      "E= 6\n"
     ]
    }
   ],
   "source": [
    "print(\"E=\", Y_test[3])\n",
    "#print(\"E=\", Y_pred[3])"
   ]
  },
  {
   "cell_type": "code",
   "execution_count": 81,
   "id": "b16eadce",
   "metadata": {},
   "outputs": [
    {
     "name": "stdout",
     "output_type": "stream",
     "text": [
      "F= 0\n",
      "G= 6\n"
     ]
    },
    {
     "name": "stderr",
     "output_type": "stream",
     "text": [
      "/opt/homebrew/anaconda3/envs/cs598-psl-env/lib/python3.11/site-packages/sklearn/utils/validation.py:767: FutureWarning: is_sparse is deprecated and will be removed in a future version. Check `isinstance(dtype, pd.SparseDtype)` instead.\n",
      "  if not hasattr(array, \"sparse\") and array.dtypes.apply(is_sparse).any():\n",
      "/opt/homebrew/anaconda3/envs/cs598-psl-env/lib/python3.11/site-packages/sklearn/utils/validation.py:605: FutureWarning: is_sparse is deprecated and will be removed in a future version. Check `isinstance(dtype, pd.SparseDtype)` instead.\n",
      "  if is_sparse(pd_dtype):\n",
      "/opt/homebrew/anaconda3/envs/cs598-psl-env/lib/python3.11/site-packages/sklearn/utils/validation.py:614: FutureWarning: is_sparse is deprecated and will be removed in a future version. Check `isinstance(dtype, pd.SparseDtype)` instead.\n",
      "  if is_sparse(pd_dtype) or not is_extension_array_dtype(pd_dtype):\n"
     ]
    }
   ],
   "source": [
    "prob = dig_lda.predict_proba(X_test[3:5])[0]\n",
    "#np.round(np.sort(prob), 3)\n",
    "prob\n",
    "arg = np.argsort(prob)[::-1]\n",
    "print(\"F=\", arg[0])\n",
    "print(\"G=\", arg[1])"
   ]
  },
  {
   "cell_type": "markdown",
   "id": "ffb0425f",
   "metadata": {},
   "source": [
    "Q1:\n",
    " * K p-by-p covariance matrices, one for each class.\n",
    " * A K-dimensional probability vector, which represents the frequency of each of the K classes.\n",
    " * A p-by-K matrix with the j-th column (a p-dim vector) representing the mean of feature X from class j.\n",
    "\n",
    "Q2:\n",
    "* A p-by-K matrix with the j-th column (a p-dim vector) representing the mean of feature X from class j.\n",
    "* A K-by-p matrix, with the (k, j-th entry representing the variance of the j-th feature from class k.\n",
    "* A K-dimensional probability vector, which represents the frequency of each of the K classes.\n",
    "\n",
    "\n",
    "Q3:\n",
    "* A p-by-p covariance matrix.\n",
    "* A K-dimensional probability vector, which represents the frequency of each of the K classes.\n",
    "* A p-by-K matrix with the j-th column (a p-dim vector) representing the mean of feature X from class j.\n",
    "    \n",
    "Q4:\n",
    "* The q directions from PCA have the same norm, but the ones from FDA do not.\n",
    "* The q directions from PCA are orthogonal to each other, but the ones from FDA are not.\n",
    "* If we relabel Y to be 1 for odd digits, and O for even digits, we would only be able to retrieve one direction from FDA.\n",
    "* If we relabel Y to be 1 for odd digits, and O for even digits, the q directions from PCA stay the same.\n"
   ]
  },
  {
   "cell_type": "code",
   "execution_count": null,
   "id": "c48eace7",
   "metadata": {},
   "outputs": [],
   "source": []
  }
 ],
 "metadata": {
  "kernelspec": {
   "display_name": "Python 3 (ipykernel)",
   "language": "python",
   "name": "python3"
  },
  "language_info": {
   "codemirror_mode": {
    "name": "ipython",
    "version": 3
   },
   "file_extension": ".py",
   "mimetype": "text/x-python",
   "name": "python",
   "nbconvert_exporter": "python",
   "pygments_lexer": "ipython3",
   "version": "3.11.5"
  }
 },
 "nbformat": 4,
 "nbformat_minor": 5
}
