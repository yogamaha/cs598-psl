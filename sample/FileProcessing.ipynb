{
 "cells": [
  {
   "cell_type": "code",
   "execution_count": 135,
   "id": "4183901b",
   "metadata": {},
   "outputs": [],
   "source": [
    "import pandas as pd\n",
    "import numpy as np"
   ]
  },
  {
   "cell_type": "code",
   "execution_count": 136,
   "id": "f9977f85",
   "metadata": {},
   "outputs": [],
   "source": [
    "file = \"data.txt\"\n",
    "df = pd.read_csv(file, delimiter=\"\\t\")"
   ]
  },
  {
   "cell_type": "code",
   "execution_count": 137,
   "id": "0ff3164b",
   "metadata": {},
   "outputs": [],
   "source": [
    "df = df.drop_duplicates()"
   ]
  },
  {
   "cell_type": "code",
   "execution_count": 138,
   "id": "ce5467a2",
   "metadata": {},
   "outputs": [
    {
     "data": {
      "text/html": [
       "<div>\n",
       "<style scoped>\n",
       "    .dataframe tbody tr th:only-of-type {\n",
       "        vertical-align: middle;\n",
       "    }\n",
       "\n",
       "    .dataframe tbody tr th {\n",
       "        vertical-align: top;\n",
       "    }\n",
       "\n",
       "    .dataframe thead th {\n",
       "        text-align: right;\n",
       "    }\n",
       "</style>\n",
       "<table border=\"1\" class=\"dataframe\">\n",
       "  <thead>\n",
       "    <tr style=\"text-align: right;\">\n",
       "      <th></th>\n",
       "      <th>Reco</th>\n",
       "    </tr>\n",
       "    <tr>\n",
       "      <th>Anchor</th>\n",
       "      <th></th>\n",
       "    </tr>\n",
       "  </thead>\n",
       "  <tbody>\n",
       "    <tr>\n",
       "      <th>#</th>\n",
       "      <td>10</td>\n",
       "    </tr>\n",
       "    <tr>\n",
       "      <th>100272038</th>\n",
       "      <td>1</td>\n",
       "    </tr>\n",
       "    <tr>\n",
       "      <th>10294990</th>\n",
       "      <td>4</td>\n",
       "    </tr>\n",
       "    <tr>\n",
       "      <th>10313897</th>\n",
       "      <td>1</td>\n",
       "    </tr>\n",
       "    <tr>\n",
       "      <th>103616322</th>\n",
       "      <td>1</td>\n",
       "    </tr>\n",
       "    <tr>\n",
       "      <th>...</th>\n",
       "      <td>...</td>\n",
       "    </tr>\n",
       "    <tr>\n",
       "      <th>993257510</th>\n",
       "      <td>1</td>\n",
       "    </tr>\n",
       "    <tr>\n",
       "      <th>994852015</th>\n",
       "      <td>1</td>\n",
       "    </tr>\n",
       "    <tr>\n",
       "      <th>995415578</th>\n",
       "      <td>6</td>\n",
       "    </tr>\n",
       "    <tr>\n",
       "      <th>999714278</th>\n",
       "      <td>1</td>\n",
       "    </tr>\n",
       "    <tr>\n",
       "      <th>999732035</th>\n",
       "      <td>2</td>\n",
       "    </tr>\n",
       "  </tbody>\n",
       "</table>\n",
       "<p>308 rows × 1 columns</p>\n",
       "</div>"
      ],
      "text/plain": [
       "           Reco\n",
       "Anchor         \n",
       "#            10\n",
       "100272038     1\n",
       "10294990      4\n",
       "10313897      1\n",
       "103616322     1\n",
       "...         ...\n",
       "993257510     1\n",
       "994852015     1\n",
       "995415578     6\n",
       "999714278     1\n",
       "999732035     2\n",
       "\n",
       "[308 rows x 1 columns]"
      ]
     },
     "execution_count": 138,
     "metadata": {},
     "output_type": "execute_result"
    }
   ],
   "source": [
    "df.groupby(\"Anchor\").count()"
   ]
  },
  {
   "cell_type": "code",
   "execution_count": 144,
   "id": "116ca546",
   "metadata": {},
   "outputs": [
    {
     "data": {
      "text/plain": [
       "Anchor\n",
       "#            [15420406, 997230170, 1099461055, 3657411303, ...\n",
       "100272038                                          [216325455]\n",
       "10294990            [486280096, 779517116, 46401422, 53724971]\n",
       "10313897                                          [2237220663]\n",
       "103616322                                           [17201458]\n",
       "                                   ...                        \n",
       "993257510                                         [2744244304]\n",
       "994852015                                         [3059896322]\n",
       "995415578    [1478050499, 1845392115, 1286724525, 111940019...\n",
       "999714278                                         [2938940284]\n",
       "999732035                             [1190138961, 2537462077]\n",
       "Name: Reco, Length: 308, dtype: object"
      ]
     },
     "execution_count": 144,
     "metadata": {},
     "output_type": "execute_result"
    }
   ],
   "source": [
    " df.groupby(\"Anchor\")['Reco'].agg(list)"
   ]
  },
  {
   "cell_type": "code",
   "execution_count": 148,
   "id": "396f4ba1",
   "metadata": {},
   "outputs": [
    {
     "data": {
      "text/plain": [
       "Anchor\n",
       "#            [15420406, 997230170, 1099461055, 3657411303, ...\n",
       "100272038                                          [216325455]\n",
       "10294990            [486280096, 779517116, 46401422, 53724971]\n",
       "10313897                                          [2237220663]\n",
       "103616322                                           [17201458]\n",
       "                                   ...                        \n",
       "993257510                                         [2744244304]\n",
       "994852015                                         [3059896322]\n",
       "995415578    [1478050499, 1845392115, 1286724525, 111940019...\n",
       "999714278                                         [2938940284]\n",
       "999732035                             [1190138961, 2537462077]\n",
       "Name: Reco, Length: 308, dtype: object"
      ]
     },
     "execution_count": 148,
     "metadata": {},
     "output_type": "execute_result"
    }
   ],
   "source": [
    "def process_data(data):\n",
    "    \n",
    "    res = str(data.to_numpy())[1:-1]\n",
    "    #res = res.replace(\" \", \"\\t\")\n",
    "    #print(res)\n",
    "    return res\n",
    "\n",
    "grouped_df = df.groupby(\"Anchor\")['Reco'].apply(process_data)\n",
    "grouped_df = df.groupby(\"Anchor\")['Reco'].apply(list)\n",
    "grouped_df"
   ]
  },
  {
   "cell_type": "code",
   "execution_count": 149,
   "id": "8dedda81",
   "metadata": {},
   "outputs": [],
   "source": [
    "grouped_df.to_csv(\"data_grouped.txt\")"
   ]
  },
  {
   "cell_type": "code",
   "execution_count": null,
   "id": "79a2d68f",
   "metadata": {},
   "outputs": [],
   "source": []
  }
 ],
 "metadata": {
  "kernelspec": {
   "display_name": "Python 3 (ipykernel)",
   "language": "python",
   "name": "python3"
  },
  "language_info": {
   "codemirror_mode": {
    "name": "ipython",
    "version": 3
   },
   "file_extension": ".py",
   "mimetype": "text/x-python",
   "name": "python",
   "nbconvert_exporter": "python",
   "pygments_lexer": "ipython3",
   "version": "3.11.0"
  }
 },
 "nbformat": 4,
 "nbformat_minor": 5
}
