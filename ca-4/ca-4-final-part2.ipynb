{
 "cells": [
  {
   "cell_type": "markdown",
   "id": "f5918585",
   "metadata": {},
   "source": [
    "# Coding Assignment - 4"
   ]
  },
  {
   "cell_type": "markdown",
   "id": "506c15ea",
   "metadata": {},
   "source": [
    "#### Authors:\n",
    "+ Yogananth Mahalingam - ym24 - MCS-DS\n",
    "+ Qi Zhou - qizhou8 - MCS-DS\n",
    "+ Derek Zhang - derekz3 - MCS-DS\n",
    "\n",
    "#### Contributions:\n",
    "Yoga, Derek & Qi worked on it independently. Brainstormed together & created the final version."
   ]
  },
  {
   "cell_type": "markdown",
   "id": "ec7ef33d",
   "metadata": {},
   "source": [
    "## Part 2: HMM"
   ]
  },
  {
   "cell_type": "code",
   "execution_count": 1,
   "id": "b1b85920",
   "metadata": {},
   "outputs": [],
   "source": [
    "import warnings\n",
    "warnings.filterwarnings('ignore')\n",
    "\n",
    "import numpy as np\n",
    "import pandas as pd\n",
    "import seaborn as sns\n",
    "import matplotlib.pyplot as plt\n",
    "\n",
    "from matplotlib.colors import LogNorm\n",
    "\n"
   ]
  },
  {
   "cell_type": "code",
   "execution_count": 2,
   "id": "899a5447",
   "metadata": {},
   "outputs": [],
   "source": [
    "itmax = 100\n",
    "\n",
    "mx = 3\n",
    "mz = 2\n",
    "w = np.array([0.5, 0.5])\n",
    "A = np.array([[0.5, 0.5], \n",
    "              [0.5, 0.5]])\n",
    "B = np.array([[1/9, 3/9, 5/9], \n",
    "              [1/6, 2/6, 3/6]])\n",
    "\n",
    "X = np.loadtxt(\"coding4_part2_data.txt\").astype(int)\n",
    "\n",
    "Z_test = np.genfromtxt(\"Coding4_part2_Z.txt\").astype(int)\n"
   ]
  },
  {
   "cell_type": "code",
   "execution_count": 3,
   "id": "dfe8e001",
   "metadata": {},
   "outputs": [],
   "source": [
    "def BW_onstep(X, mx, mz, w, A, B):\n",
    "    new_w = w\n",
    "    new_A = A\n",
    "    new_B = B\n",
    "    \n",
    "    alpha = calculate_alpha(X, mx, mz, w, new_A, new_B)\n",
    "    beta = calculate_beta(X, mx, mz, w, new_A, new_B)\n",
    "    gamma = calculate_gamma(X, mx, mz, w, A, B, alpha, beta)\n",
    "    \n",
    "    new_w = update_w(X, mx, mz, w, A, B, alpha, beta, gamma)\n",
    "    new_A = update_A(X, mx, mz, w, A, B, alpha, beta, gamma)\n",
    "    new_B = update_B(X, mx, mz, w, A, B, alpha, beta, gamma)\n",
    "    \n",
    "    return (new_w, new_A, new_B)"
   ]
  },
  {
   "cell_type": "code",
   "execution_count": 4,
   "id": "9c061022",
   "metadata": {},
   "outputs": [],
   "source": [
    "def calculate_alpha(X, mx, mz, w, A, B):\n",
    "    n = X.shape[0]\n",
    "    alpha = np.zeros((n, mz))\n",
    "    for t in range(n):\n",
    "        for i in range(mz):\n",
    "            x = X[t] - 1\n",
    "            if t == 0:\n",
    "                #print(f\"B[i, :]={B[i, :]}, x={x}\")\n",
    "                alpha[t,i]=w[i] * B[i,x]\n",
    "            else:\n",
    "                t_prev = t-1\n",
    "                alpha[t,i] = np.sum(alpha[t-1, :] * A[:, i] * B[i, X[t]-1])\n",
    "    return alpha\n",
    "\n",
    "alpha = calculate_alpha(X, mx, mz, w, A, B)\n"
   ]
  },
  {
   "cell_type": "code",
   "execution_count": 5,
   "id": "b8945375",
   "metadata": {},
   "outputs": [],
   "source": [
    "def calculate_beta(X, mx, mz, w, A, B):\n",
    "    n = X.shape[0]\n",
    "    beta = np.ones((n, mz))\n",
    "    \n",
    "    for t in reversed(range(n-1)):\n",
    "        \n",
    "        for i in range(mz):\n",
    "            t_next = t+1\n",
    "            x = X[t_next]-1\n",
    "            \n",
    "            beta[t,i] = np.sum( A[i, :] * B[:, X[t+1]-1 ] * beta[t+1, :] )\n",
    "\n",
    "    \n",
    "    return beta\n",
    "\n",
    "beta = calculate_beta(X, mx, mz, w, A, B)\n"
   ]
  },
  {
   "cell_type": "code",
   "execution_count": 6,
   "id": "b24062a1",
   "metadata": {},
   "outputs": [],
   "source": [
    "def calculate_gamma(X, mx, mz, w, A, B, alpha, beta):\n",
    "    n = X.shape[0]\n",
    "    gamma = np.zeros((n-1, mz, mz))\n",
    "    \n",
    "    for t in range(n-1):\n",
    "        for i in range(mz):\n",
    "            for j in range(mz):\n",
    "                t_next = t+1\n",
    "                x = X[t_next]-1\n",
    "\n",
    "                gamma[t, i, j] = alpha[t,i] * A[i,j] * B[j, X[t+1]-1] * beta[t+1, j]\n",
    "    return gamma\n",
    "\n",
    "gamma = calculate_gamma(X, mx, mz, w, A, B, alpha, beta)\n",
    "    "
   ]
  },
  {
   "cell_type": "code",
   "execution_count": 7,
   "id": "a86fa77e",
   "metadata": {},
   "outputs": [],
   "source": [
    "def update_w(X, mx, mz, w, A, B, alpha, beta, gamma):\n",
    "    updated_w = np.sum(gamma[0], axis=1)\n",
    "    return updated_w\n",
    "\n",
    "updated_w = update_w(X, mx, mz, w, A, B, alpha, beta, gamma)\n"
   ]
  },
  {
   "cell_type": "code",
   "execution_count": 8,
   "id": "6e5504d7",
   "metadata": {},
   "outputs": [],
   "source": [
    "def update_A(X, mx, mz, w, A, B, alpha, beta, gamma):\n",
    "    updated_A = A\n",
    "    updated_A = np.sum(gamma, axis=0) / np.sum(np.sum(gamma, axis=2), axis=0).reshape(-1,1)\n",
    "    return updated_A\n",
    "\n",
    "updated_A = update_A(X, mx, mz, w, A, B, alpha, beta, gamma)\n"
   ]
  },
  {
   "cell_type": "code",
   "execution_count": 9,
   "id": "0d879a49",
   "metadata": {},
   "outputs": [],
   "source": [
    "# def update_A(X, mx, mz, w, A, B, alpha, beta, gamma):\n",
    "#     updated_A = np.zeros(A.shape)\n",
    "#     for i in range(mx):\n",
    "#         for i in range(mx):\n",
    "#     updated_A = np.sum(gamma, axis=0) / np.sum(np.sum(gamma, axis=2), axis=0).reshape(-1,1)\n",
    "#     return updated_A\n",
    "\n",
    "# updated_A = update_A(X, mx, mz, w, A, B, alpha, beta, gamma)\n"
   ]
  },
  {
   "cell_type": "code",
   "execution_count": 10,
   "id": "bbf6ef2c",
   "metadata": {},
   "outputs": [],
   "source": [
    "def update_B(X, mx, mz, w, A, B, alpha, beta, gamma):\n",
    "    n = X.shape[0]\n",
    "    updated_B = np.zeros(B.shape)\n",
    "    \n",
    "    gamma_t = np.sum(gamma, axis=1)\n",
    "    gamma_n = np.sum(gamma[n-2], axis=0)\n",
    "    gamma_t = np.append(gamma_t, np.array([gamma_n]), axis=0)\n",
    "    \n",
    "    for i in range(mz):\n",
    "        for l in range(mx):\n",
    "            \n",
    "            gamma_t_matched = gamma_t[X==(l+1)] \n",
    "            nr = np.sum(gamma_t_matched, axis = 0)[i]\n",
    "            dr = np.sum(gamma_t, axis = 0)[i]\n",
    "            \n",
    "            updated_B[i,l] = nr / dr\n",
    "    return updated_B\n",
    "\n",
    "updated_B = update_B(X, mx, mz, w, A, B, alpha, beta, gamma)\n"
   ]
  },
  {
   "cell_type": "code",
   "execution_count": 11,
   "id": "f24066cb",
   "metadata": {},
   "outputs": [],
   "source": [
    "def myBW(X, mx, mz, w, A, B, itmax):\n",
    "    new_A = A\n",
    "    new_B = B\n",
    "    for i in range(itmax):\n",
    "        (new_w, new_A, new_B) = BW_onstep(X, mx, mz, w, new_A, new_B)\n",
    "        \n",
    "    \n",
    "    return (new_w, new_A, new_B)\n",
    "    "
   ]
  },
  {
   "cell_type": "code",
   "execution_count": 12,
   "id": "03dbd577",
   "metadata": {},
   "outputs": [
    {
     "name": "stdout",
     "output_type": "stream",
     "text": [
      "new_A\n",
      "[[0.48546086 0.51453914]\n",
      " [0.48502678 0.51497322]]\n",
      "new_B:\n",
      "[[0.28499999 0.19000006 0.52499995]\n",
      " [0.28500001 0.18999994 0.52500004]]\n"
     ]
    }
   ],
   "source": [
    "(new_w, new_A, new_B) = myBW(X, mx, mz, w, A, B, itmax)\n",
    "print(f\"new_A\" )\n",
    "print(f\"{new_A}\" )\n",
    "print(f\"new_B:\" )\n",
    "print(f\"{new_B}\" )"
   ]
  },
  {
   "cell_type": "code",
   "execution_count": 13,
   "id": "6f1aacb6",
   "metadata": {},
   "outputs": [],
   "source": [
    "def calculate_delta(X, mx, mz, w, A, B):\n",
    "    n = X.shape[0]\n",
    "    delta = np.zeros((n, mz))\n",
    "    for t in range(n):\n",
    "        for i in range(mz):\n",
    "            x = X[t] - 1\n",
    "            if t == 0:\n",
    "                #print(f\"B[i, :]={B[i, :]}, x={x}\")\n",
    "                delta[t,i]=w[i] * B[i,x]\n",
    "            else:\n",
    "                delta[t,i] = np.max(delta[t-1, :] * A[:, i]) * B[i, X[t]-1]\n",
    "                #delta[t,i] = np.sum(delta[t-1, :] * A[:, i] * B[i, X[t]-1])\n",
    "    return delta\n",
    "\n",
    "# delta = calculate_delta(X, mx, mz, w, new_A_Viterbi, new_B_Viterbi)\n",
    "# delta\n"
   ]
  },
  {
   "cell_type": "code",
   "execution_count": 14,
   "id": "c543f5bf",
   "metadata": {},
   "outputs": [],
   "source": [
    "def myViterbi(X, mx, mz, w, A, B):\n",
    "    n = X.shape[0]\n",
    "    Z = np.zeros(n)\n",
    "    \n",
    "    delta = calculate_delta(X, mx, mz, w, A, B)\n",
    "    for t in reversed(range(n)):\n",
    "        if t == n-1:\n",
    "            index = np.argmax(delta[t])\n",
    "            Z[t] = index + 1\n",
    "        else:\n",
    "            j = int(Z[t+1] - 1)\n",
    "            #print(A[:, j])\n",
    "            index = np.argmax(delta[t] * A[:, j])\n",
    "            Z[t] = index + 1\n",
    "            \n",
    "    \n",
    "    return Z\n"
   ]
  },
  {
   "cell_type": "code",
   "execution_count": 15,
   "id": "571e1504",
   "metadata": {},
   "outputs": [],
   "source": [
    "new_A_Viterbi = np.array([\n",
    "    [0.49793938, 0.50206062],\n",
    "    [0.44883431, 0.55116569]\n",
    "])\n",
    "\n",
    "new_B_Viterbi = np.array([\n",
    "    [0.22159897, 0.20266127, 0.57573976],\n",
    "    [0.34175148, 0.17866665, 0.47958186]\n",
    "])"
   ]
  },
  {
   "cell_type": "code",
   "execution_count": 16,
   "id": "ec120ee6",
   "metadata": {},
   "outputs": [
    {
     "data": {
      "text/plain": [
       "True"
      ]
     },
     "execution_count": 16,
     "metadata": {},
     "output_type": "execute_result"
    }
   ],
   "source": [
    "Z = myViterbi(X, mx, mz, w, new_A_Viterbi, new_B_Viterbi)\n",
    "np.array_equal(Z, Z_test)"
   ]
  }
 ],
 "metadata": {
  "kernelspec": {
   "display_name": "Python 3 (ipykernel)",
   "language": "python",
   "name": "python3"
  },
  "language_info": {
   "codemirror_mode": {
    "name": "ipython",
    "version": 3
   },
   "file_extension": ".py",
   "mimetype": "text/x-python",
   "name": "python",
   "nbconvert_exporter": "python",
   "pygments_lexer": "ipython3",
   "version": "3.11.5"
  }
 },
 "nbformat": 4,
 "nbformat_minor": 5
}
