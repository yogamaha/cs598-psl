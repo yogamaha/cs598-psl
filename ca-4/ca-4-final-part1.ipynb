{
 "cells": [
  {
   "cell_type": "markdown",
   "id": "7c655d63",
   "metadata": {},
   "source": [
    "# Coding Assignment - 4"
   ]
  },
  {
   "cell_type": "markdown",
   "id": "b3d8ed3a",
   "metadata": {},
   "source": [
    "#### Authors:\n",
    "+ Yogananth Mahalingam - ym24 - MCS-DS\n",
    "+ Qi Zhou - qizhou8 - MCS-DS\n",
    "+ Derek Zhang - derekz3 - MCS-DS\n",
    "\n",
    "#### Contributions:\n",
    "Yoga, Derek & Qi worked on it independently. Brainstormed together & created the final version."
   ]
  },
  {
   "cell_type": "markdown",
   "id": "b208f2c6",
   "metadata": {},
   "source": [
    "## Part I: Gaussian Mixtures"
   ]
  },
  {
   "cell_type": "code",
   "execution_count": 1,
   "id": "7f844086",
   "metadata": {},
   "outputs": [],
   "source": [
    "import warnings\n",
    "warnings.filterwarnings('ignore')\n",
    "\n",
    "import numpy as np\n",
    "import pandas as pd\n",
    "import seaborn as sns\n",
    "import matplotlib.pyplot as plt\n",
    "\n",
    "#from scipy.stats import multivariate_normal\n",
    "\n",
    "from matplotlib.colors import LogNorm\n",
    "\n",
    "#from sklearn.model_selection import GridSearchCV\n",
    "#from sklearn.mixture import GaussianMixture"
   ]
  },
  {
   "cell_type": "code",
   "execution_count": 2,
   "id": "033531fd",
   "metadata": {},
   "outputs": [
    {
     "data": {
      "text/plain": [
       "Text(0, 0.5, 'Duration')"
      ]
     },
     "execution_count": 2,
     "metadata": {},
     "output_type": "execute_result"
    },
    {
     "data": {
      "image/png": "[encoded data removed]",
      "text/plain": [
       "<Figure size 640x480 with 1 Axes>"
      ]
     },
     "metadata": {},
     "output_type": "display_data"
    }
   ],
   "source": [
    "data = pd.read_table(\"faithful.dat\", sep=\"\\s+\", index_col=0)\n",
    "plt.scatter(data['eruptions'], data['waiting'], 16)\n",
    "plt.xlabel('Interval')\n",
    "plt.ylabel('Duration')\n"
   ]
  },
  {
   "cell_type": "code",
   "execution_count": 3,
   "id": "4f00c8fd",
   "metadata": {},
   "outputs": [],
   "source": [
    "def myEM(X, G, itmax, prob, mean, sigma):\n",
    "    loglik_val = None\n",
    "    prob_new = None\n",
    "    mean_new = None \n",
    "    sigma_new = None\n",
    "\n",
    "    prob_new = prob\n",
    "    mean_new = mean \n",
    "    sigma_new = sigma\n",
    "        \n",
    "    \n",
    "    for i in range(itmax):\n",
    "        \n",
    "        Z = Estep(X=X, G=G, prob=prob_new, mean=mean_new, sigma=sigma_new)\n",
    "        (prob_new, mean_new, sigma_new) = Mstep(X=X, G=G, prob=prob_new, mean=mean_new, sigma=sigma_new, Z=Z)\n",
    "        loglik_val = loglik(X=X, G=G, prob=prob_new, mean=mean_new, sigma=sigma_new)\n",
    "        \"\"\"\n",
    "        #print(X)\n",
    "        print(\"myEM:Loop\")\n",
    "        print(\"------\")\n",
    "        print(f\"prob_new={prob_new}\")\n",
    "        print(f\"mean_new={mean_new}\")\n",
    "        print(f\"sigma_new={sigma_new}\")\n",
    "        print(f\"loglik={loglik_val}\")\n",
    "        print(\"------\")\n",
    "        \"\"\"\n",
    "        \n",
    "    return (prob_new, mean_new, sigma_new, loglik_val)\n",
    "\n"
   ]
  },
  {
   "cell_type": "code",
   "execution_count": 4,
   "id": "a7dd2145",
   "metadata": {},
   "outputs": [],
   "source": [
    "def Estep(X, G, prob, mean, sigma):\n",
    "    n, d = X.shape\n",
    "    p = np.zeros([G, X.shape[0]])\n",
    "    \n",
    "    eq1 = prob[:, np.newaxis]\n",
    "    \n",
    "    sigma_det = np.linalg.det(sigma)\n",
    "    \n",
    "    A = X.T\n",
    "    A_minus_mean = (A[np.newaxis, :, :] - mean[:, :, np.newaxis])\n",
    "    eq3 = (np.linalg.inv(sigma) @ A_minus_mean) * A_minus_mean\n",
    "    eq3 = -0.5 * np.sum(eq3, axis=1)\n",
    "    eq3 = np.exp(eq3) / np.sqrt( ((2 * np.pi)** d)  * sigma_det )\n",
    "    \n",
    "    p = eq1 * eq3\n",
    "    \n",
    "    p = p / np.sum(p, axis=0)\n",
    "    return p\n",
    "    \n"
   ]
  },
  {
   "cell_type": "code",
   "execution_count": 5,
   "id": "81e09f7a",
   "metadata": {},
   "outputs": [],
   "source": [
    "def Mstep(X, G, prob, mean, sigma, Z):\n",
    "    n = X.shape[0]\n",
    "    prob_new = None\n",
    "    mean_new = None\n",
    "    sigma_new = None\n",
    "    \n",
    "    prob_new = np.mean(Z, axis=1)\n",
    "    \n",
    "    mean_new = np.sum(Z[:, :, np.newaxis] * X, axis = 1) / np.sum(Z[:, :, np.newaxis], axis = 1)\n",
    "    \n",
    "    sigma_new = sigma\n",
    "    \n",
    "    a1 = (X[np.newaxis, :, :] - mean_new[:, np.newaxis, :]) \n",
    "    a2 = (X.T[np.newaxis, :, :] - mean_new[:, :, np.newaxis] )* Z[:,np.newaxis,:]\n",
    "    m1 = np.matmul(a2, a1)\n",
    "    sigma_new = np.sum(m1, axis=0) / n\n",
    "    \n",
    "    return (prob_new, mean_new, sigma_new)\n",
    "\n"
   ]
  },
  {
   "cell_type": "code",
   "execution_count": 6,
   "id": "7f72287b",
   "metadata": {},
   "outputs": [],
   "source": [
    "def loglik(X, G, prob, mean, sigma):\n",
    "    n, d = X.shape\n",
    "    p = np.zeros([G, X.shape[0]])\n",
    "    \n",
    "    eq1 = prob[:, np.newaxis]\n",
    "    \n",
    "    sigma_det = np.linalg.det(sigma)\n",
    "    \n",
    "    A = X.T\n",
    "    A_minus_mean = (A[np.newaxis, :, :] - mean[:, :, np.newaxis])\n",
    "    eq3 = (np.linalg.inv(sigma) @ A_minus_mean) * A_minus_mean\n",
    "    eq3 = -0.5 * np.sum(eq3, axis=1)\n",
    "    eq3 = np.exp(eq3) / np.sqrt( ((2 * np.pi)**d) * sigma_det)\n",
    "    \n",
    "    p = eq1 * eq3\n",
    "    \n",
    "    #print(f\"loglik:p={p.T}\")\n",
    "    \n",
    "    loglik_val = np.sum(np.log(np.sum(p, axis=0)))\n",
    "    \n",
    "    return loglik_val\n"
   ]
  },
  {
   "cell_type": "code",
   "execution_count": 7,
   "id": "16f72691",
   "metadata": {},
   "outputs": [],
   "source": [
    "def init_param(X, G, data_split_count):\n",
    "    n, d = X.shape\n",
    "    \n",
    "    \n",
    "    last_count = n-np.sum(data_split_count)\n",
    "    data_split_count = np.append(data_split_count, last_count)\n",
    "    data_split_count = data_split_count.astype(int)\n",
    "    \n",
    "    p = np.array(data_split_count)\n",
    "    p = p / n\n",
    "    #print(f\"p={p}\")\n",
    "    \n",
    "    #print(f\"data_split_count={data_split_count}\")\n",
    "    \n",
    "    Z = np.repeat(np.arange(G), data_split_count)\n",
    "    #print(Z)\n",
    "    mask = np.arange(G) [..., np.newaxis] == Z[np.newaxis, ...]\n",
    "    #print(mask)\n",
    "    \n",
    "    X_tmp = X[np.newaxis, :, :] * mask[:, :, np.newaxis]\n",
    "    mean = np.sum(X_tmp, axis=1)\n",
    "    mean = mean / data_split_count[..., np.newaxis]\n",
    "    #print(f\"mean={mean}\")\n",
    "    \n",
    "    sigma = mean\n",
    "    \n",
    "    a1 = (X[np.newaxis, :, :] - mean[:, np.newaxis, :]) * mask[:, :, np.newaxis]\n",
    "    a2 = (X.T[np.newaxis, :, :] - mean[:, :, np.newaxis] ) * mask[:, np.newaxis, :]\n",
    "    m1 = np.matmul(a2, a1)\n",
    "    sigma = np.sum(m1, axis=0) / n\n",
    "    \n",
    "    return (p, mean, sigma)\n",
    "\n"
   ]
  },
  {
   "cell_type": "markdown",
   "id": "50f9758b",
   "metadata": {},
   "source": [
    "## Testing"
   ]
  },
  {
   "cell_type": "markdown",
   "id": "fb8fdb89",
   "metadata": {},
   "source": [
    "#### Two component mixture"
   ]
  },
  {
   "cell_type": "code",
   "execution_count": 14,
   "id": "c0ec15de",
   "metadata": {},
   "outputs": [
    {
     "name": "stdout",
     "output_type": "stream",
     "text": [
      "prob\n",
      "[0.04297883 0.95702117]\n",
      "mean\n",
      "[[ 3.49564188  3.48743016]\n",
      " [76.79789154 70.63205853]]\n",
      "sigma\n",
      "[[  1.29793612  13.92433626]\n",
      " [ 13.92433626 182.58009247]]\n",
      "loglik\n",
      "-1289.5693549424104\n"
     ]
    }
   ],
   "source": [
    "G=2\n",
    "data_split_count=np.array([10])\n",
    "\n",
    "(prob, mean, sigma) = init_param(X=data.to_numpy(), G=G, data_split_count=data_split_count)\n",
    "#(prob, mean, sigma, loglik_val) = myEM(X=data.to_numpy(), G=G, itmax=700, prob=prob, mean=mean, sigma=sigma)\n",
    "(prob, mean, sigma, loglik_val) = myEM(X=data.to_numpy(), G=G, itmax=20, prob=prob, mean=mean, sigma=sigma)\n",
    "\n",
    "print(f\"prob\")\n",
    "print(f\"{prob}\")\n",
    "print(f\"mean\")\n",
    "print(f\"{mean.T}\")\n",
    "print(f\"sigma\")\n",
    "print(f\"{sigma}\")\n",
    "print(f\"loglik\")\n",
    "print(f\"{loglik_val}\")"
   ]
  },
  {
   "cell_type": "markdown",
   "id": "dbe7996a",
   "metadata": {},
   "source": [
    "#### Three component mixture"
   ]
  },
  {
   "cell_type": "code",
   "execution_count": 15,
   "id": "13b9b69a",
   "metadata": {},
   "outputs": [
    {
     "name": "stdout",
     "output_type": "stream",
     "text": [
      "prob\n",
      "[0.04363422 0.07718656 0.87917922]\n",
      "mean\n",
      "[[ 3.51006918  2.81616674  3.54564083]\n",
      " [77.10563811 63.35752634 71.25084801]]\n",
      "sigma\n",
      "[[  1.26015772  13.51153756]\n",
      " [ 13.51153756 177.96419105]]\n",
      "loglik\n",
      "-1289.350958862739\n"
     ]
    }
   ],
   "source": [
    "G=3\n",
    "data_split_count=np.array([10, 20])\n",
    "\n",
    "(prob, mean, sigma) = init_param(X=data.to_numpy(), G=G, data_split_count=data_split_count)\n",
    "#(prob, mean, sigma, loglik_val) = myEM(X=data.to_numpy(), G=G, itmax=200, prob=prob, mean=mean, sigma=sigma)\n",
    "(prob, mean, sigma, loglik_val) = myEM(X=data.to_numpy(), G=G, itmax=20, prob=prob, mean=mean, sigma=sigma)\n",
    "\n",
    "print(f\"prob\")\n",
    "print(f\"{prob}\")\n",
    "print(f\"mean\")\n",
    "print(f\"{mean.T}\")\n",
    "print(f\"sigma\")\n",
    "print(f\"{sigma}\")\n",
    "print(f\"loglik\")\n",
    "print(f\"{loglik_val}\")"
   ]
  },
  {
   "cell_type": "code",
   "execution_count": 48,
   "id": "6c9360e4",
   "metadata": {},
   "outputs": [
    {
     "name": "stdout",
     "output_type": "stream",
     "text": [
      "prob=[0.35924785 0.64075215]\n",
      "mean=[[ 2.04619509 54.59651386]\n",
      " [ 4.29603225 80.0362177 ]]\n",
      "sigma=[[ 0.1327766   0.75151708]\n",
      " [ 0.75151708 35.17054472]]\n",
      "loglik=-1140.186759437082\n"
     ]
    }
   ],
   "source": [
    "G=2\n",
    "data_split_count=np.array([10])\n",
    "\n",
    "\n",
    "prob_1 = np.random.rand()\n",
    "prob_1 = 0.05\n",
    "prob = np.array([prob_1, 1-prob_1])\n",
    "#prob = np.array([0.04297883, 0.95702117])\n",
    "\n",
    "mean = np.array([[0, 0], [10, 100]])\n",
    "#mean = np.array([[3.49564188, 76.79789154],[ 3.48743016, 70.63205853]])\n",
    "\n",
    "sigma = np.array([[1, 10], [5, 180]])\n",
    "#sigma=np.array([[  1.29793612,  13.92433626], [ 13.92433626, 182.58009247]])\n",
    "\n",
    "#(prob, mean, sigma) = init_param(X=data.to_numpy(), G=G, data_split_count=data_split_count)\n",
    "(prob, mean, sigma, loglik_val) = myEM(X=data.to_numpy(), G=G, itmax=1000, prob=prob, mean=mean, sigma=sigma)\n",
    "#(prob, mean, sigma, loglik_val) = myEM(X=data.to_numpy(), G=G, itmax=20, prob=prob, mean=mean, sigma=sigma)\n",
    "\n",
    "print(f\"prob={prob}\")\n",
    "print(f\"mean={mean}\")\n",
    "print(f\"sigma={sigma}\")\n",
    "print(f\"loglik={loglik_val}\")"
   ]
  },
  {
   "cell_type": "code",
   "execution_count": 49,
   "id": "60cc30ec",
   "metadata": {},
   "outputs": [
    {
     "name": "stdout",
     "output_type": "stream",
     "text": [
      "prob=[0.03685524 0.96314476]\n",
      "mean=[[ 3.31211483 71.98706055]\n",
      " [ 3.49450513 70.85534934]]\n",
      "sigma=[[  1.29675804  13.93374588]\n",
      " [ 13.93374588 184.09835147]]\n",
      "loglik=-1289.7659495557784\n"
     ]
    }
   ],
   "source": [
    "G=2\n",
    "data_split_count=np.array([10])\n",
    "\n",
    "(prob, mean, sigma) = init_param(X=data.to_numpy(), G=G, data_split_count=data_split_count)\n",
    "(prob, mean, sigma, loglik_val) = myEM(X=data.to_numpy(), G=G, itmax=1, prob=prob, mean=mean, sigma=sigma)\n",
    "#(prob, mean, sigma, loglik_val) = myEM(X=data.to_numpy(), G=G, itmax=20, prob=prob, mean=mean, sigma=sigma)\n",
    "\n",
    "print(f\"prob={prob}\")\n",
    "print(f\"mean={mean}\")\n",
    "print(f\"sigma={sigma}\")\n",
    "print(f\"loglik={loglik_val}\")"
   ]
  },
  {
   "cell_type": "code",
   "execution_count": null,
   "id": "89a4cf0d",
   "metadata": {},
   "outputs": [],
   "source": []
  }
 ],
 "metadata": {
  "kernelspec": {
   "display_name": "Python 3 (ipykernel)",
   "language": "python",
   "name": "python3"
  },
  "language_info": {
   "codemirror_mode": {
    "name": "ipython",
    "version": 3
   },
   "file_extension": ".py",
   "mimetype": "text/x-python",
   "name": "python",
   "nbconvert_exporter": "python",
   "pygments_lexer": "ipython3",
   "version": "3.11.5"
  }
 },
 "nbformat": 4,
 "nbformat_minor": 5
}
