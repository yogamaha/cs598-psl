{
 "cells": [
  {
   "cell_type": "markdown",
   "id": "f5918585",
   "metadata": {},
   "source": [
    "# Coding Assignment - 4"
   ]
  },
  {
   "cell_type": "markdown",
   "id": "506c15ea",
   "metadata": {},
   "source": [
    "#### Authors:\n",
    "+ Yogananth Mahalingam - ym24 - MCS-DS\n",
    "+ Qi Zhou - qizhou8 - MCS-DS\n",
    "+ Derek Zhang - derekz3 - MCS-DS\n",
    "\n",
    "#### Contributions:\n",
    "Yoga, Derek & Qi worked on it independently. Brainstormed together & created the final version."
   ]
  },
  {
   "cell_type": "markdown",
   "id": "ec7ef33d",
   "metadata": {},
   "source": [
    "## Part 2: HMM"
   ]
  },
  {
   "cell_type": "code",
   "execution_count": 23,
   "id": "b1b85920",
   "metadata": {},
   "outputs": [],
   "source": [
    "import warnings\n",
    "warnings.filterwarnings('ignore')\n",
    "\n",
    "import numpy as np\n",
    "import pandas as pd\n",
    "import seaborn as sns\n",
    "import matplotlib.pyplot as plt\n",
    "\n",
    "from matplotlib.colors import LogNorm\n",
    "\n"
   ]
  },
  {
   "cell_type": "code",
   "execution_count": 24,
   "id": "899a5447",
   "metadata": {},
   "outputs": [
    {
     "name": "stdout",
     "output_type": "stream",
     "text": [
      "X.shape=(200,)\n",
      "X=[2 3 3 3 3 3 3 1 3 3 3 3 3 1 1 3 3 3 2 3 3 3 1 3 1 1 1 2 2 3 3 3 3 3 1 3 3\n",
      " 2 2 3 3 3 3 1 1 3 3 3 2 3 3 1 3 1 3 3 3 2 1 1 1 1 3 3 3 3 3 3 3 3 1 1 1 3\n",
      " 3 1 2 1 3 1 1 3 1 1 2 1 3 1 1 2 1 3 3 3 3 1 3 3 3 3 3 3 2 3 3 2 3 2 3 1 3\n",
      " 3 3 3 1 2 2 3 3 3 3 1 2 2 2 1 3 1 3 1 1 3 1 2 3 3 3 2 2 3 1 3 1 2 1 2 1 3\n",
      " 1 3 1 3 3 3 1 1 3 2 3 1 3 3 2 3 3 1 1 1 2 3 1 1 2 1 3 3 3 1 2 1 3 2 3 3 3\n",
      " 3 3 2 1 2 2 3 1 2 3 2 3 2 2 2]\n",
      "Z_test.shape=(200,)\n",
      "Z_test=[1 1 1 1 1 1 1 2 1 1 1 1 1 2 2 1 1 1 1 1 1 1 2 2 2 2 2 1 1 1 1 1 1 1 2 1 1\n",
      " 1 1 1 1 1 1 2 2 1 1 1 1 1 1 2 2 2 1 1 1 1 2 2 2 2 1 1 1 1 1 1 1 1 2 2 2 2\n",
      " 2 2 2 2 2 2 2 2 2 2 2 2 2 2 2 2 2 1 1 1 1 2 1 1 1 1 1 1 1 1 1 1 1 1 1 2 1\n",
      " 1 1 1 2 1 1 1 1 1 1 2 2 2 2 2 2 2 2 2 2 2 2 1 1 1 1 1 1 1 2 2 2 2 2 2 2 2\n",
      " 2 2 2 1 1 1 2 2 2 2 2 2 1 1 1 1 1 2 2 2 2 2 2 2 2 2 1 1 1 2 2 2 1 1 1 1 1\n",
      " 1 1 1 2 2 2 2 2 1 1 1 1 1 1 1]\n"
     ]
    }
   ],
   "source": [
    "itmax = 100\n",
    "\n",
    "mx = 3\n",
    "mz = 2\n",
    "w = np.array([0.5, 0.5])\n",
    "A = np.array([[0.5, 0.5], \n",
    "              [0.5, 0.5]])\n",
    "B = np.array([[1/9, 3/9, 5/9], \n",
    "              [1/6, 2/6, 3/6]])\n",
    "# B = np.array([[1/9, 1/6], \n",
    "#               [3/9, 2/6], \n",
    "#               [5/9, 3/6]])\n",
    "\n",
    "X = np.loadtxt(\"coding4_part2_data.txt\").astype(int)\n",
    "print(f\"X.shape={X.shape}\")\n",
    "print(f\"X={X}\")\n",
    "\n",
    "Z_test = np.genfromtxt(\"Coding4_part2_Z.txt\").astype(int)\n",
    "print(f\"Z_test.shape={Z_test.shape}\")\n",
    "print(f\"Z_test={Z_test}\")\n"
   ]
  },
  {
   "cell_type": "code",
   "execution_count": 25,
   "id": "dfe8e001",
   "metadata": {},
   "outputs": [],
   "source": [
    "def BW_onstep(X, mx, mz, w, A, B):\n",
    "    new_w = w\n",
    "    new_A = A\n",
    "    new_B = B\n",
    "    \n",
    "    alpha = calculate_alpha(X, mx, mz, w, new_A, new_B)\n",
    "    beta = calculate_beta(X, mx, mz, w, new_A, new_B)\n",
    "    gamma = calculate_gamma(X, mx, mz, w, A, B, alpha, beta)\n",
    "    \n",
    "    new_w = update_w(X, mx, mz, w, A, B, alpha, beta, gamma)\n",
    "    new_A = update_A(X, mx, mz, w, A, B, alpha, beta, gamma)\n",
    "    new_B = update_B(X, mx, mz, w, A, B, alpha, beta, gamma)\n",
    "    \n",
    "    return (new_w, new_A, new_B)"
   ]
  },
  {
   "cell_type": "code",
   "execution_count": 26,
   "id": "9c061022",
   "metadata": {},
   "outputs": [],
   "source": [
    "def calculate_alpha(X, mx, mz, w, A, B):\n",
    "    n = X.shape[0]\n",
    "    alpha = np.zeros((n, mz))\n",
    "    for t in range(n):\n",
    "        for i in range(mz):\n",
    "            x = X[t] - 1\n",
    "            if t == 0:\n",
    "                #print(f\"B[i, :]={B[i, :]}, x={x}\")\n",
    "                alpha[t,i]=w[i] * B[i,x]\n",
    "            else:\n",
    "                t_prev = t-1\n",
    "                #print(f\"alpha[t_prev]={alpha[t_prev]}\")\n",
    "                alpha[t,i] = np.sum(alpha[t-1, :] * A[:, i] * B[i, X[t]-1])\n",
    "    return alpha\n",
    "\n",
    "# print(w)\n",
    "# print(A)\n",
    "# print(B)\n",
    "# print(B[0, :])\n",
    "alpha = calculate_alpha(X, mx, mz, w, A, B)\n",
    "#print(alpha)\n",
    "    "
   ]
  },
  {
   "cell_type": "code",
   "execution_count": 27,
   "id": "b8945375",
   "metadata": {},
   "outputs": [],
   "source": [
    "def calculate_beta(X, mx, mz, w, A, B):\n",
    "    n = X.shape[0]\n",
    "    beta = np.ones((n, mz))\n",
    "    \n",
    "    for t in reversed(range(n-1)):\n",
    "        for i in range(mz):\n",
    "            t_next = t+1\n",
    "            x = X[t_next]-1\n",
    "\n",
    "            beta[t,i] = np.sum( A[i, :] * B[:, X[t+1]-1 ] * beta[t+1, :] )\n",
    "    return beta\n",
    "\n",
    "#print(B)\n",
    "beta = calculate_beta(X, mx, mz, w, A, B)\n",
    "#print(beta)\n"
   ]
  },
  {
   "cell_type": "code",
   "execution_count": 28,
   "id": "b24062a1",
   "metadata": {},
   "outputs": [],
   "source": [
    "def calculate_gamma(X, mx, mz, w, A, B, alpha, beta):\n",
    "    n = X.shape[0]\n",
    "    gamma = np.zeros((n-1, mz, mz))\n",
    "    \n",
    "    for t in range(n-1):\n",
    "        for i in range(mz):\n",
    "            for j in range(mz):\n",
    "                t_next = t+1\n",
    "                x = X[t_next]-1\n",
    "\n",
    "                gamma[t, i, j] = alpha[t,i] * A[i,j] * B[j, X[t+1]-1] * beta[t+1, j]\n",
    "    return gamma\n",
    "\n",
    "#print(B)\n",
    "gamma = calculate_gamma(X, mx, mz, w, A, B, alpha, beta)\n",
    "#print(gamma)\n",
    "    "
   ]
  },
  {
   "cell_type": "code",
   "execution_count": 29,
   "id": "01c540f8",
   "metadata": {},
   "outputs": [
    {
     "name": "stdout",
     "output_type": "stream",
     "text": [
      "[[[1.90117435e-97 1.71105692e-97]\n",
      "  [1.90117435e-97 1.71105692e-97]]\n",
      "\n",
      " [[2.00123616e-97 1.80111254e-97]\n",
      "  [1.80111254e-97 1.62100129e-97]]]\n",
      "updated_w=[3.61223127e-97 3.61223127e-97]\n"
     ]
    }
   ],
   "source": [
    "def update_w(X, mx, mz, w, A, B, alpha, beta, gamma):\n",
    "    updated_w = np.sum(gamma[0], axis=1)\n",
    "    #updated_w = gamma\n",
    "    #print(gamma[0])\n",
    "    #print(np.sum(gamma[0], axis=1))\n",
    "    return updated_w\n",
    "\n",
    "print(gamma[0:2])\n",
    "updated_w = update_w(X, mx, mz, w, A, B, alpha, beta, gamma)\n",
    "print(f\"updated_w={updated_w}\")"
   ]
  },
  {
   "cell_type": "code",
   "execution_count": 30,
   "id": "44ee1aa1",
   "metadata": {},
   "outputs": [
    {
     "name": "stdout",
     "output_type": "stream",
     "text": [
      "updated_A=[[0.485465   0.48503179]\n",
      " [0.514535   0.51496821]]\n"
     ]
    }
   ],
   "source": [
    "def update_A(X, mx, mz, w, A, B, alpha, beta, gamma):\n",
    "    updated_A = A\n",
    "    updated_A = np.sum(gamma, axis=0) / np.sum(np.sum(gamma, axis=2), axis=0)\n",
    "    return updated_A\n",
    "\n",
    "updated_A = update_A(X, mx, mz, w, A, B, alpha, beta, gamma)\n",
    "print(f\"updated_A={updated_A}\")"
   ]
  },
  {
   "cell_type": "code",
   "execution_count": 31,
   "id": "b1bd076f",
   "metadata": {},
   "outputs": [
    {
     "name": "stdout",
     "output_type": "stream",
     "text": [
      "updated_B=[[0.11111111 0.33333333 0.55555556]\n",
      " [0.16666667 0.33333333 0.5       ]]\n"
     ]
    }
   ],
   "source": [
    "def update_B(X, mx, mz, w, A, B, alpha, beta, gamma):\n",
    "    updated_B = np.array(B)\n",
    "#     for i in range(mz):\n",
    "#         for l in range(mx):\n",
    "#             x = 1\n",
    "    return updated_B\n",
    "\n",
    "updated_B = update_B(X, mx, mz, w, A, B, alpha, beta, gamma)\n",
    "print(f\"updated_B={updated_B}\")"
   ]
  },
  {
   "cell_type": "code",
   "execution_count": 32,
   "id": "c12a17d1",
   "metadata": {},
   "outputs": [],
   "source": [
    "def myViterbi(X, mx, mz, w, A, B):\n",
    "    #Z = np.repeat(1, 200)\n",
    "    Z = np.array([1])\n",
    "    return Z"
   ]
  },
  {
   "cell_type": "code",
   "execution_count": 33,
   "id": "f24066cb",
   "metadata": {},
   "outputs": [],
   "source": [
    "def myBW(X, mx, mz, w, A, B, itmax):\n",
    "    new_A = A\n",
    "    new_B = B\n",
    "    for i in range(itmax):\n",
    "        (new_w, new_A, new_B) = BW_onstep(X, mx, mz, w, new_A, new_B)\n",
    "    \n",
    "    return (new_w, new_A, new_B)\n",
    "    "
   ]
  },
  {
   "cell_type": "code",
   "execution_count": 34,
   "id": "03dbd577",
   "metadata": {},
   "outputs": [
    {
     "name": "stdout",
     "output_type": "stream",
     "text": [
      "new_w\n",
      "[3.21653928e-96 4.57983123e-95]\n",
      "new_A\n",
      "[[0.08406424 0.06390481]\n",
      " [0.95010617 0.93371112]]\n",
      "new_B:\n",
      "[[0.11111111 0.33333333 0.55555556]\n",
      " [0.16666667 0.33333333 0.5       ]]\n"
     ]
    }
   ],
   "source": [
    "(new_w, new_A, new_B) = myBW(X, mx, mz, w, A, B, itmax)\n",
    "print(f\"new_w\" )\n",
    "print(f\"{new_w}\" )\n",
    "print(f\"new_A\" )\n",
    "print(f\"{new_A}\" )\n",
    "print(f\"new_B:\" )\n",
    "print(f\"{new_B}\" )"
   ]
  },
  {
   "cell_type": "code",
   "execution_count": 35,
   "id": "ec120ee6",
   "metadata": {},
   "outputs": [
    {
     "data": {
      "text/plain": [
       "False"
      ]
     },
     "execution_count": 35,
     "metadata": {},
     "output_type": "execute_result"
    }
   ],
   "source": [
    "Z = myViterbi(X, mx, mz, w, new_A, new_B)\n",
    "np.array_equal(Z, Z_test)"
   ]
  },
  {
   "cell_type": "code",
   "execution_count": null,
   "id": "dd4d483c",
   "metadata": {},
   "outputs": [],
   "source": []
  }
 ],
 "metadata": {
  "kernelspec": {
   "display_name": "Python 3 (ipykernel)",
   "language": "python",
   "name": "python3"
  },
  "language_info": {
   "codemirror_mode": {
    "name": "ipython",
    "version": 3
   },
   "file_extension": ".py",
   "mimetype": "text/x-python",
   "name": "python",
   "nbconvert_exporter": "python",
   "pygments_lexer": "ipython3",
   "version": "3.11.5"
  }
 },
 "nbformat": 4,
 "nbformat_minor": 5
}
