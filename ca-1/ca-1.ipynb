{
 "cells": [
  {
   "cell_type": "markdown",
   "id": "5a670ba3",
   "metadata": {},
   "source": [
    "# Coding Assignment - 1"
   ]
  },
  {
   "cell_type": "code",
   "execution_count": 663,
   "id": "eced740a",
   "metadata": {},
   "outputs": [],
   "source": [
    "import math\n",
    "import numpy as np\n",
    "import matplotlib.pyplot as plt\n",
    "from sklearn.neighbors import KNeighborsClassifier as knn\n",
    "from sklearn import linear_model as lm\n",
    "from sklearn.metrics import confusion_matrix, ConfusionMatrixDisplay\n",
    "\n",
    "np.random.seed(100)\n"
   ]
  },
  {
   "cell_type": "markdown",
   "id": "925709c6",
   "metadata": {},
   "source": [
    "## Part 1: Generate Data"
   ]
  },
  {
   "cell_type": "markdown",
   "id": "3e099d1a",
   "metadata": {},
   "source": [
    "Generate the 20 centers, 10 for each group."
   ]
  },
  {
   "cell_type": "markdown",
   "id": "be1b66d0",
   "metadata": {},
   "source": [
    "<span style=\"color:red\">To Be Done : </span> Make the Centers created based on the formula provided in the problem statement"
   ]
  },
  {
   "cell_type": "code",
   "execution_count": 2,
   "id": "8579258c",
   "metadata": {},
   "outputs": [],
   "source": [
    "csize = 5      \n",
    "p = 2      \n",
    "s = 1;      # sd for generating the centers within each class                    \n",
    "m1 = np.random.normal(size = (csize, p)) * s \\\n",
    "     + np.concatenate([np.array([[1, 0]] * csize)])\n",
    "m0 = np.random.normal(size = (csize, p)) * s \\\n",
    "     + np.concatenate([np.array([[0, 1]] * csize)])"
   ]
  },
  {
   "cell_type": "markdown",
   "id": "957e300b",
   "metadata": {},
   "source": [
    "Generate training & test data."
   ]
  },
  {
   "cell_type": "code",
   "execution_count": 3,
   "id": "c8bff64a",
   "metadata": {},
   "outputs": [],
   "source": [
    "n = 5\n",
    "# Randomly allocate the n samples for class 1  to the 10 clusters\n",
    "id1 = np.random.randint(csize, size = n)\n",
    "id0 = np.random.randint(csize, size = n)\n",
    "\n",
    "# sd for generating data  \n",
    "s = np.sqrt(float(1)/5) \n",
    "\n",
    "traindata = np.random.normal(size = (2 * n, p)) * s \\\n",
    "            + np.concatenate([m1[id1,:], m0[id0,:]])\n",
    "ytrain = np.concatenate(([1]*n, [0]*n))"
   ]
  },
  {
   "cell_type": "code",
   "execution_count": 11,
   "id": "346cba94",
   "metadata": {},
   "outputs": [],
   "source": [
    "N = 5\n",
    "# Randomly allocate the n samples for class 1  to the 10 clusters\n",
    "id1 = np.random.randint(csize, size = N)\n",
    "id0 = np.random.randint(csize, size = N)\n",
    "\n",
    "# sd for generating data  \n",
    "s = np.sqrt(float(1)/5) \n",
    "\n",
    "testdata = np.random.normal(size = (2 * N, p)) * s \\\n",
    "            + np.concatenate([m1[id1,:], m0[id0,:]])\n",
    "ytest = np.concatenate(([1]*N, [0]*N))"
   ]
  },
  {
   "cell_type": "markdown",
   "id": "f704e71f",
   "metadata": {},
   "source": [
    "Visulization"
   ]
  },
  {
   "cell_type": "code",
   "execution_count": 4,
   "id": "3fc281aa",
   "metadata": {},
   "outputs": [
    {
     "data": {
      "image/png": "[encoded data removed]",
      "text/plain": [
       "<Figure size 640x480 with 1 Axes>"
      ]
     },
     "metadata": {},
     "output_type": "display_data"
    }
   ],
   "source": [
    "plt.scatter(traindata[:n, 0], traindata[:n, 1], c = \"blue\", alpha=0.2, label='Class 1')\n",
    "plt.scatter(traindata[n:, 0], traindata[n:, 1], c = \"red\", alpha=0.2, label='Class 0')\n",
    "\n",
    "plt.scatter(m1[:,0], m1[:,1], marker = '+', s = 100, c = \"blue\")\n",
    "plt.scatter(m0[:,0], m0[:,1], marker = '+', s = 100, c = \"red\")\n",
    "\n",
    "plt.legend()\n",
    "plt.show()"
   ]
  },
  {
   "cell_type": "code",
   "execution_count": 5,
   "id": "193b2104",
   "metadata": {},
   "outputs": [],
   "source": [
    "id1 = np.random.randint(csize, size = n)\n"
   ]
  },
  {
   "cell_type": "code",
   "execution_count": 6,
   "id": "6369fb76",
   "metadata": {},
   "outputs": [
    {
     "data": {
      "text/plain": [
       "array([0, 2, 2, 3, 4])"
      ]
     },
     "execution_count": 6,
     "metadata": {},
     "output_type": "execute_result"
    }
   ],
   "source": [
    "id1"
   ]
  },
  {
   "cell_type": "code",
   "execution_count": 7,
   "id": "300d658f",
   "metadata": {},
   "outputs": [
    {
     "data": {
      "text/plain": [
       "array([-0.74976547,  1.3426804 ,  2.1530358 ])"
      ]
     },
     "execution_count": 7,
     "metadata": {},
     "output_type": "execute_result"
    }
   ],
   "source": [
    "np.random.seed(100)\n",
    "\n",
    "np.random.normal(loc=[1,1,1], scale=1)"
   ]
  },
  {
   "cell_type": "markdown",
   "id": "fa7cba07",
   "metadata": {},
   "source": [
    "## Part 2: kNN"
   ]
  },
  {
   "cell_type": "markdown",
   "id": "c02756b4",
   "metadata": {},
   "source": [
    "### 2.1 kNN implementation from scratch, with handling for Distance ties & Voting ties"
   ]
  },
  {
   "cell_type": "code",
   "execution_count": 651,
   "id": "4335299f",
   "metadata": {},
   "outputs": [],
   "source": [
    "# Final\n",
    "\n",
    "def eucledian_distance(A, B):\n",
    "    M = A.shape[0]\n",
    "    N = B.shape[0]\n",
    "    \n",
    "    A_dots = (A*A).sum(axis=1).reshape((M,1))*np.ones(shape=(1,N))\n",
    "    B_dots = (B*B).sum(axis=1)*np.ones(shape=(M,1))\n",
    "    \n",
    "    D_squared =  A_dots + B_dots -2*A.dot(B.T)\n",
    "    \n",
    "    return D_squared\n",
    "    \n",
    "def custom_knn(train_data, test_data, ytrain, k):\n",
    "    distance_matrix = eucledian_distance(test_data, train_data)\n",
    "    \n",
    "    top_k_indices = np.argsort(distance_matrix, axis=1)\n",
    "    ytest_pred = ytrain[top_k_indices]\n",
    "    voting_ties_ytest_pred = np.copy(ytest_pred)\n",
    "    \n",
    "    \"\"\"\n",
    "    Prepare the Distance Matrix for kNN\n",
    "    Identify the top k points\n",
    "    \n",
    "    Distance Ties: For those k points that have distance ties & falling outside of k. \n",
    "    Include them as well for computing Nearest Neighbor.\n",
    "    This would mean, we are using k or more points for prediction\n",
    "    \n",
    "    Mask rest of the points, outside of k, in the distance matrix, by setting it as NaN.\n",
    "    \"\"\"\n",
    "    kth_distance = np.sort(distance_matrix)[:, k-1]\n",
    "    distance_matrix = np.where((distance_matrix <= np.transpose([kth_distance])), distance_matrix, np.nan)\n",
    "    distance_matrix = np.sort(distance_matrix)\n",
    "    \n",
    "    \"\"\"\n",
    "    Voting ties : \n",
    "    Prepare a Distance matrix with one Neighbor less (k-1), by masking the last of k-neighbor as NaN.\n",
    "    \"\"\"\n",
    "    voting_ties_distance_matrix = np.copy(distance_matrix)\n",
    "    voting_ties_distance_matrix[:, np.nanargmax(voting_ties_distance_matrix, axis=1) ] = np.nan\n",
    "    \n",
    "    \"\"\"\n",
    "    Count the predictions & choose the majority as the predicted value\n",
    "    \"\"\"\n",
    "    ytest_pred = ytest_pred * (distance_matrix + 0.1)\n",
    "    \n",
    "    ytest_pred_0_count = np.count_nonzero(ytest_pred == 0, axis = 1)\n",
    "    ytest_pred_1_count = np.count_nonzero(ytest_pred > 0, axis = 1)\n",
    "    \n",
    "    ytest_pred = ytest_pred_1_count > ytest_pred_0_count\n",
    "    ytest_pred = ytest_pred.astype(int)\n",
    "    \n",
    "    \"\"\"\n",
    "    Predict with Voting Ties Distance Matrix\n",
    "    \"\"\"\n",
    "    voting_ties_ytest_pred = voting_ties_ytest_pred * (voting_ties_distance_matrix + 0.1)\n",
    "    \n",
    "    voting_ties_ytest_pred_0_count = np.count_nonzero(voting_ties_ytest_pred == 0, axis = 1)\n",
    "    voting_ties_ytest_pred_1_count = np.count_nonzero(voting_ties_ytest_pred > 0, axis = 1)\n",
    "    \n",
    "    voting_ties_ytest_pred = voting_ties_ytest_pred_1_count > voting_ties_ytest_pred_0_count\n",
    "    voting_ties_ytest_pred = voting_ties_ytest_pred.astype(int)\n",
    "    \n",
    "    \"\"\"\n",
    "    Prepare the final prediction by merging the predicted values, with the Voting tie predictions \n",
    "    for the ones that have voting ties\n",
    "    \"\"\"\n",
    "    ytest_pred_mask = (ytest_pred_1_count == ytest_pred_0_count)\n",
    "    final_ytest_pred = np.ma.sum([np.ma.array([ytest_pred], mask=ytest_pred_mask), np.ma.array([voting_ties_ytest_pred], mask=np.invert(ytest_pred_mask))], axis=0)\n",
    "    \n",
    "    return final_ytest_pred.flatten()\n",
    "\n"
   ]
  },
  {
   "cell_type": "markdown",
   "id": "96abf7aa",
   "metadata": {},
   "source": [
    "### 2.2 Distance Ties & Voting ties"
   ]
  },
  {
   "cell_type": "markdown",
   "id": "139da009",
   "metadata": {},
   "source": [
    "<b>Distance Ties:</b>\n",
    "\n",
    "<li>After selecting k nearest neighbors, if there are still points outside of k, with the same distance.\n",
    "<li>Include those points as well, for computing Nearest Neighbor.\n",
    "<li>This would mean, we are using k or more points for prediction\n",
    "\n",
    "<b>Voting Ties:</b>\n",
    "\n",
    "<li> Voting tie can be handled by having the farthest neighbor among k, removed from voting process.\n",
    "<li> With one less neighbor, tie is guaranteed to be breaken.\n",
    "<li> Now, select the majority value as prediction.\n"
   ]
  },
  {
   "cell_type": "markdown",
   "id": "95f51c08",
   "metadata": {},
   "source": [
    "### 2.3 Testing"
   ]
  },
  {
   "cell_type": "markdown",
   "id": "63997f60",
   "metadata": {},
   "source": [
    "<li>Tested & Compared the predicted results of Custom kNN & sklearn version.\n",
    "<li> Predicted values & Confusion matrix generated for both the versions looks similar."
   ]
  },
  {
   "cell_type": "code",
   "execution_count": 675,
   "id": "b4fd0f5a",
   "metadata": {},
   "outputs": [
    {
     "name": "stdout",
     "output_type": "stream",
     "text": [
      "k=5\n",
      "ytest=[1 1 1 1 1 0 0 0 0 0]\n",
      "ytest_pred_sk=[0 1 1 1 1 0 0 0 1 0]\n",
      "ytest_pred_cm=[0 1 1 1 1 0 0 0 1 0]\n",
      "cm_sk \n",
      "[[4 1]\n",
      " [1 4]]\n",
      "cm_cm \n",
      "[[4 1]\n",
      " [1 4]]\n",
      "---------------------\n",
      "k=3\n",
      "ytest=[1 1 1 1 1 0 0 0 0 0]\n",
      "ytest_pred_sk=[0 1 1 1 1 0 0 0 0 0]\n",
      "ytest_pred_cm=[0 1 1 1 1 0 0 0 0 0]\n",
      "cm_sk \n",
      "[[5 1]\n",
      " [0 4]]\n",
      "cm_cm \n",
      "[[5 1]\n",
      " [0 4]]\n",
      "---------------------\n",
      "k=1\n",
      "ytest=[1 1 1 1 1 0 0 0 0 0]\n",
      "ytest_pred_sk=[1 1 1 1 1 0 0 0 1 0]\n",
      "ytest_pred_cm=[1 1 1 1 1 0 0 0 1 0]\n",
      "cm_sk \n",
      "[[4 0]\n",
      " [1 5]]\n",
      "cm_cm \n",
      "[[4 0]\n",
      " [1 5]]\n",
      "---------------------\n"
     ]
    }
   ],
   "source": [
    "myk = [5, 3, 1]\n",
    "\n",
    "train_err_knn = []\n",
    "test_err_knn = []\n",
    "\n",
    "for k in myk:\n",
    "    myknn = knn(n_neighbors = k)\n",
    "    myknn.fit(traindata, ytrain)\n",
    "    ytest_pred_sk = myknn.predict(testdata)\n",
    "    cm_sk = confusion_matrix(ytest_pred_sk, ytest)\n",
    "#     disp = ConfusionMatrixDisplay(confusion_matrix=cm_sk)\n",
    "#     disp.plot()\n",
    "    ytest_pred_cm = custom_knn(traindata, testdata, ytrain, k)\n",
    "    cm_cm = confusion_matrix(ytest_pred_cm, ytest)\n",
    "    print(\"k=\" + str(k))\n",
    "    print(\"ytest=\" + str(ytest))\n",
    "    print(\"ytest_pred_sk=\" + str(ytest_pred_sk))\n",
    "    print(\"ytest_pred_cm=\" + str(ytest_pred_cm))\n",
    "    print(\"cm_sk \\n\" + str(cm_sk))\n",
    "    print(\"cm_cm \\n\" + str(cm_cm))\n",
    "    print(\"---------------------\")\n",
    "    \n",
    "#     train_err_knn.append(1 - myknn.score(traindata, ytrain))\n",
    "#     test_err_knn.append(1- myknn.score(testdata, ytest))"
   ]
  },
  {
   "cell_type": "code",
   "execution_count": null,
   "id": "8b708fde",
   "metadata": {},
   "outputs": [],
   "source": []
  }
 ],
 "metadata": {
  "kernelspec": {
   "display_name": "Python 3 (ipykernel)",
   "language": "python",
   "name": "python3"
  },
  "language_info": {
   "codemirror_mode": {
    "name": "ipython",
    "version": 3
   },
   "file_extension": ".py",
   "mimetype": "text/x-python",
   "name": "python",
   "nbconvert_exporter": "python",
   "pygments_lexer": "ipython3",
   "version": "3.11.4"
  }
 },
 "nbformat": 4,
 "nbformat_minor": 5
}
