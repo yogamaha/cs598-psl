{
 "cells": [
  {
   "cell_type": "markdown",
   "id": "910be0b4",
   "metadata": {},
   "source": [
    "# (PSL) Coding Assignment 2\n",
    "\n",
    "## Part II: Simulation Study¶"
   ]
  },
  {
   "cell_type": "code",
   "execution_count": 79,
   "id": "095ca1ab",
   "metadata": {},
   "outputs": [],
   "source": [
    "import pandas as pd\n",
    "import numpy as np\n",
    "import matplotlib.pyplot as plt\n",
    "import seaborn as sns\n",
    "\n",
    "from sklearn.metrics import mean_squared_error\n",
    "from sklearn.model_selection import train_test_split\n",
    "from sklearn.linear_model import LinearRegression as lm\n",
    "from sklearn.linear_model import Ridge, RidgeCV, Lasso, LassoCV\n",
    "\n",
    "from sklearn.decomposition import PCA\n",
    "from sklearn.preprocessing import StandardScaler\n",
    "from sklearn.pipeline import Pipeline\n"
   ]
  },
  {
   "cell_type": "code",
   "execution_count": 80,
   "id": "e4a0815b",
   "metadata": {},
   "outputs": [],
   "source": [
    "import warnings\n",
    "from sklearn.exceptions import ConvergenceWarning\n",
    "warnings.filterwarnings(\"ignore\", category=ConvergenceWarning)"
   ]
  },
  {
   "cell_type": "markdown",
   "id": "4a915451",
   "metadata": {},
   "source": [
    "### Load Data\n"
   ]
  },
  {
   "cell_type": "code",
   "execution_count": 84,
   "id": "b450e7e9",
   "metadata": {},
   "outputs": [],
   "source": [
    "url = \"https://raw.githubusercontent.com/liangfgithub/liangfgithub.github.io/master/Data/Coding2_Data2.csv\"\n",
    "url = \"Coding2_Data2.csv\"\n",
    "myData = pd.read_csv(url)\n",
    "# myData.head()\n",
    "Y = myData['Y']\n",
    "X = myData.drop(['Y'], axis = 1)\n"
   ]
  },
  {
   "cell_type": "code",
   "execution_count": 85,
   "id": "6148dec1",
   "metadata": {},
   "outputs": [
    {
     "data": {
      "text/html": [
       "<div>\n",
       "<style scoped>\n",
       "    .dataframe tbody tr th:only-of-type {\n",
       "        vertical-align: middle;\n",
       "    }\n",
       "\n",
       "    .dataframe tbody tr th {\n",
       "        vertical-align: top;\n",
       "    }\n",
       "\n",
       "    .dataframe thead th {\n",
       "        text-align: right;\n",
       "    }\n",
       "</style>\n",
       "<table border=\"1\" class=\"dataframe\">\n",
       "  <thead>\n",
       "    <tr style=\"text-align: right;\">\n",
       "      <th></th>\n",
       "      <th>Y</th>\n",
       "      <th>V1</th>\n",
       "      <th>V2</th>\n",
       "      <th>V3</th>\n",
       "      <th>V4</th>\n",
       "      <th>V5</th>\n",
       "      <th>V6</th>\n",
       "      <th>V7</th>\n",
       "      <th>V8</th>\n",
       "      <th>V9</th>\n",
       "      <th>...</th>\n",
       "      <th>V82</th>\n",
       "      <th>V83</th>\n",
       "      <th>V84</th>\n",
       "      <th>V85</th>\n",
       "      <th>V86</th>\n",
       "      <th>V87</th>\n",
       "      <th>V88</th>\n",
       "      <th>V89</th>\n",
       "      <th>V90</th>\n",
       "      <th>V91</th>\n",
       "    </tr>\n",
       "  </thead>\n",
       "  <tbody>\n",
       "    <tr>\n",
       "      <th>0</th>\n",
       "      <td>3.178054</td>\n",
       "      <td>-5.064036</td>\n",
       "      <td>1.8</td>\n",
       "      <td>0.837248</td>\n",
       "      <td>0</td>\n",
       "      <td>-0.619897</td>\n",
       "      <td>1.883275</td>\n",
       "      <td>3.432567</td>\n",
       "      <td>1.408545</td>\n",
       "      <td>0.000000</td>\n",
       "      <td>...</td>\n",
       "      <td>0.000000</td>\n",
       "      <td>0.000000</td>\n",
       "      <td>0.000000</td>\n",
       "      <td>0.000000</td>\n",
       "      <td>2.588344</td>\n",
       "      <td>22.585037</td>\n",
       "      <td>12.698557</td>\n",
       "      <td>1.805358</td>\n",
       "      <td>1.015072</td>\n",
       "      <td>8.857186</td>\n",
       "    </tr>\n",
       "    <tr>\n",
       "      <th>1</th>\n",
       "      <td>3.072693</td>\n",
       "      <td>-3.600502</td>\n",
       "      <td>0.0</td>\n",
       "      <td>1.955860</td>\n",
       "      <td>0</td>\n",
       "      <td>-0.757153</td>\n",
       "      <td>1.859574</td>\n",
       "      <td>5.529585</td>\n",
       "      <td>1.602836</td>\n",
       "      <td>0.693147</td>\n",
       "      <td>...</td>\n",
       "      <td>3.804642</td>\n",
       "      <td>0.857042</td>\n",
       "      <td>2.751101</td>\n",
       "      <td>2.095553</td>\n",
       "      <td>6.786799</td>\n",
       "      <td>21.785594</td>\n",
       "      <td>16.594394</td>\n",
       "      <td>4.907472</td>\n",
       "      <td>3.738090</td>\n",
       "      <td>11.999253</td>\n",
       "    </tr>\n",
       "    <tr>\n",
       "      <th>2</th>\n",
       "      <td>3.546740</td>\n",
       "      <td>-3.601235</td>\n",
       "      <td>0.0</td>\n",
       "      <td>1.955860</td>\n",
       "      <td>0</td>\n",
       "      <td>-0.757153</td>\n",
       "      <td>1.971996</td>\n",
       "      <td>2.918119</td>\n",
       "      <td>1.602836</td>\n",
       "      <td>0.693147</td>\n",
       "      <td>...</td>\n",
       "      <td>3.804642</td>\n",
       "      <td>0.857042</td>\n",
       "      <td>2.722890</td>\n",
       "      <td>1.391483</td>\n",
       "      <td>6.786799</td>\n",
       "      <td>21.562194</td>\n",
       "      <td>11.018966</td>\n",
       "      <td>4.857148</td>\n",
       "      <td>2.482157</td>\n",
       "      <td>7.886007</td>\n",
       "    </tr>\n",
       "    <tr>\n",
       "      <th>3</th>\n",
       "      <td>3.508556</td>\n",
       "      <td>-3.430523</td>\n",
       "      <td>0.0</td>\n",
       "      <td>0.779325</td>\n",
       "      <td>0</td>\n",
       "      <td>-0.780886</td>\n",
       "      <td>1.945624</td>\n",
       "      <td>1.419592</td>\n",
       "      <td>1.802073</td>\n",
       "      <td>1.098612</td>\n",
       "      <td>...</td>\n",
       "      <td>5.935448</td>\n",
       "      <td>1.947005</td>\n",
       "      <td>4.335454</td>\n",
       "      <td>1.883728</td>\n",
       "      <td>9.574845</td>\n",
       "      <td>21.320586</td>\n",
       "      <td>9.263662</td>\n",
       "      <td>6.993794</td>\n",
       "      <td>3.038760</td>\n",
       "      <td>6.766495</td>\n",
       "    </tr>\n",
       "    <tr>\n",
       "      <th>4</th>\n",
       "      <td>3.589059</td>\n",
       "      <td>-2.672924</td>\n",
       "      <td>0.0</td>\n",
       "      <td>0.779325</td>\n",
       "      <td>0</td>\n",
       "      <td>-0.780886</td>\n",
       "      <td>1.966693</td>\n",
       "      <td>2.162710</td>\n",
       "      <td>1.802073</td>\n",
       "      <td>1.098612</td>\n",
       "      <td>...</td>\n",
       "      <td>5.935448</td>\n",
       "      <td>1.947005</td>\n",
       "      <td>4.360392</td>\n",
       "      <td>2.536343</td>\n",
       "      <td>9.574845</td>\n",
       "      <td>21.443227</td>\n",
       "      <td>12.473049</td>\n",
       "      <td>7.034024</td>\n",
       "      <td>4.091536</td>\n",
       "      <td>9.163148</td>\n",
       "    </tr>\n",
       "    <tr>\n",
       "      <th>...</th>\n",
       "      <td>...</td>\n",
       "      <td>...</td>\n",
       "      <td>...</td>\n",
       "      <td>...</td>\n",
       "      <td>...</td>\n",
       "      <td>...</td>\n",
       "      <td>...</td>\n",
       "      <td>...</td>\n",
       "      <td>...</td>\n",
       "      <td>...</td>\n",
       "      <td>...</td>\n",
       "      <td>...</td>\n",
       "      <td>...</td>\n",
       "      <td>...</td>\n",
       "      <td>...</td>\n",
       "      <td>...</td>\n",
       "      <td>...</td>\n",
       "      <td>...</td>\n",
       "      <td>...</td>\n",
       "      <td>...</td>\n",
       "      <td>...</td>\n",
       "    </tr>\n",
       "    <tr>\n",
       "      <th>501</th>\n",
       "      <td>3.109061</td>\n",
       "      <td>-2.770511</td>\n",
       "      <td>0.0</td>\n",
       "      <td>2.479056</td>\n",
       "      <td>0</td>\n",
       "      <td>-0.556870</td>\n",
       "      <td>1.886008</td>\n",
       "      <td>3.969128</td>\n",
       "      <td>0.907694</td>\n",
       "      <td>0.000000</td>\n",
       "      <td>...</td>\n",
       "      <td>0.000000</td>\n",
       "      <td>0.000000</td>\n",
       "      <td>0.000000</td>\n",
       "      <td>0.000000</td>\n",
       "      <td>24.945695</td>\n",
       "      <td>21.988568</td>\n",
       "      <td>17.443563</td>\n",
       "      <td>17.432057</td>\n",
       "      <td>13.828876</td>\n",
       "      <td>12.189565</td>\n",
       "    </tr>\n",
       "    <tr>\n",
       "      <th>502</th>\n",
       "      <td>3.025291</td>\n",
       "      <td>-3.095111</td>\n",
       "      <td>0.0</td>\n",
       "      <td>2.479056</td>\n",
       "      <td>0</td>\n",
       "      <td>-0.556870</td>\n",
       "      <td>1.811562</td>\n",
       "      <td>5.152149</td>\n",
       "      <td>0.827460</td>\n",
       "      <td>0.000000</td>\n",
       "      <td>...</td>\n",
       "      <td>0.000000</td>\n",
       "      <td>0.000000</td>\n",
       "      <td>0.000000</td>\n",
       "      <td>0.000000</td>\n",
       "      <td>24.945695</td>\n",
       "      <td>22.263994</td>\n",
       "      <td>16.903043</td>\n",
       "      <td>17.650408</td>\n",
       "      <td>13.400363</td>\n",
       "      <td>11.959803</td>\n",
       "    </tr>\n",
       "    <tr>\n",
       "      <th>503</th>\n",
       "      <td>3.173878</td>\n",
       "      <td>-2.800824</td>\n",
       "      <td>0.0</td>\n",
       "      <td>2.479056</td>\n",
       "      <td>0</td>\n",
       "      <td>-0.556870</td>\n",
       "      <td>1.942476</td>\n",
       "      <td>7.899571</td>\n",
       "      <td>0.773574</td>\n",
       "      <td>0.000000</td>\n",
       "      <td>...</td>\n",
       "      <td>0.000000</td>\n",
       "      <td>0.000000</td>\n",
       "      <td>0.000000</td>\n",
       "      <td>0.000000</td>\n",
       "      <td>24.945695</td>\n",
       "      <td>22.263994</td>\n",
       "      <td>13.321757</td>\n",
       "      <td>17.650408</td>\n",
       "      <td>10.561198</td>\n",
       "      <td>9.425853</td>\n",
       "    </tr>\n",
       "    <tr>\n",
       "      <th>504</th>\n",
       "      <td>3.091042</td>\n",
       "      <td>-2.211009</td>\n",
       "      <td>0.0</td>\n",
       "      <td>2.479056</td>\n",
       "      <td>0</td>\n",
       "      <td>-0.556870</td>\n",
       "      <td>1.916040</td>\n",
       "      <td>7.535788</td>\n",
       "      <td>0.870833</td>\n",
       "      <td>0.000000</td>\n",
       "      <td>...</td>\n",
       "      <td>0.000000</td>\n",
       "      <td>0.000000</td>\n",
       "      <td>0.000000</td>\n",
       "      <td>0.000000</td>\n",
       "      <td>24.945695</td>\n",
       "      <td>22.070467</td>\n",
       "      <td>14.279384</td>\n",
       "      <td>17.496984</td>\n",
       "      <td>11.320384</td>\n",
       "      <td>10.015602</td>\n",
       "    </tr>\n",
       "    <tr>\n",
       "      <th>505</th>\n",
       "      <td>2.476538</td>\n",
       "      <td>-3.048922</td>\n",
       "      <td>0.0</td>\n",
       "      <td>2.479056</td>\n",
       "      <td>0</td>\n",
       "      <td>-0.556870</td>\n",
       "      <td>1.796747</td>\n",
       "      <td>5.868517</td>\n",
       "      <td>0.918289</td>\n",
       "      <td>0.000000</td>\n",
       "      <td>...</td>\n",
       "      <td>0.000000</td>\n",
       "      <td>0.000000</td>\n",
       "      <td>0.000000</td>\n",
       "      <td>0.000000</td>\n",
       "      <td>24.945695</td>\n",
       "      <td>22.263994</td>\n",
       "      <td>15.746538</td>\n",
       "      <td>17.650408</td>\n",
       "      <td>12.483511</td>\n",
       "      <td>11.141514</td>\n",
       "    </tr>\n",
       "  </tbody>\n",
       "</table>\n",
       "<p>506 rows × 92 columns</p>\n",
       "</div>"
      ],
      "text/plain": [
       "            Y        V1   V2        V3  V4        V5        V6        V7  \\\n",
       "0    3.178054 -5.064036  1.8  0.837248   0 -0.619897  1.883275  3.432567   \n",
       "1    3.072693 -3.600502  0.0  1.955860   0 -0.757153  1.859574  5.529585   \n",
       "2    3.546740 -3.601235  0.0  1.955860   0 -0.757153  1.971996  2.918119   \n",
       "3    3.508556 -3.430523  0.0  0.779325   0 -0.780886  1.945624  1.419592   \n",
       "4    3.589059 -2.672924  0.0  0.779325   0 -0.780886  1.966693  2.162710   \n",
       "..        ...       ...  ...       ...  ..       ...       ...       ...   \n",
       "501  3.109061 -2.770511  0.0  2.479056   0 -0.556870  1.886008  3.969128   \n",
       "502  3.025291 -3.095111  0.0  2.479056   0 -0.556870  1.811562  5.152149   \n",
       "503  3.173878 -2.800824  0.0  2.479056   0 -0.556870  1.942476  7.899571   \n",
       "504  3.091042 -2.211009  0.0  2.479056   0 -0.556870  1.916040  7.535788   \n",
       "505  2.476538 -3.048922  0.0  2.479056   0 -0.556870  1.796747  5.868517   \n",
       "\n",
       "           V8        V9  ...       V82       V83       V84       V85  \\\n",
       "0    1.408545  0.000000  ...  0.000000  0.000000  0.000000  0.000000   \n",
       "1    1.602836  0.693147  ...  3.804642  0.857042  2.751101  2.095553   \n",
       "2    1.602836  0.693147  ...  3.804642  0.857042  2.722890  1.391483   \n",
       "3    1.802073  1.098612  ...  5.935448  1.947005  4.335454  1.883728   \n",
       "4    1.802073  1.098612  ...  5.935448  1.947005  4.360392  2.536343   \n",
       "..        ...       ...  ...       ...       ...       ...       ...   \n",
       "501  0.907694  0.000000  ...  0.000000  0.000000  0.000000  0.000000   \n",
       "502  0.827460  0.000000  ...  0.000000  0.000000  0.000000  0.000000   \n",
       "503  0.773574  0.000000  ...  0.000000  0.000000  0.000000  0.000000   \n",
       "504  0.870833  0.000000  ...  0.000000  0.000000  0.000000  0.000000   \n",
       "505  0.918289  0.000000  ...  0.000000  0.000000  0.000000  0.000000   \n",
       "\n",
       "           V86        V87        V88        V89        V90        V91  \n",
       "0     2.588344  22.585037  12.698557   1.805358   1.015072   8.857186  \n",
       "1     6.786799  21.785594  16.594394   4.907472   3.738090  11.999253  \n",
       "2     6.786799  21.562194  11.018966   4.857148   2.482157   7.886007  \n",
       "3     9.574845  21.320586   9.263662   6.993794   3.038760   6.766495  \n",
       "4     9.574845  21.443227  12.473049   7.034024   4.091536   9.163148  \n",
       "..         ...        ...        ...        ...        ...        ...  \n",
       "501  24.945695  21.988568  17.443563  17.432057  13.828876  12.189565  \n",
       "502  24.945695  22.263994  16.903043  17.650408  13.400363  11.959803  \n",
       "503  24.945695  22.263994  13.321757  17.650408  10.561198   9.425853  \n",
       "504  24.945695  22.070467  14.279384  17.496984  11.320384  10.015602  \n",
       "505  24.945695  22.263994  15.746538  17.650408  12.483511  11.141514  \n",
       "\n",
       "[506 rows x 92 columns]"
      ]
     },
     "execution_count": 85,
     "metadata": {},
     "output_type": "execute_result"
    }
   ],
   "source": [
    "X.shape, len(Y)\n",
    "myData"
   ]
  },
  {
   "cell_type": "code",
   "execution_count": 86,
   "id": "b4afe05b",
   "metadata": {},
   "outputs": [],
   "source": [
    "n = len(Y)\n",
    "indices = np.arange(0, n)\n",
    "np.random.shuffle(indices)\n",
    "test_ind = indices[:int(np.floor(0.25*n))]\n",
    "train_ind = indices[len(test_ind):]\n",
    "\n",
    "# Splitting the data into training and testing sets\n",
    "X_train = X.iloc[train_ind]\n",
    "Y_train = Y[train_ind]\n",
    "X_test = X.iloc[test_ind]\n",
    "Y_test = Y[test_ind]\n",
    "\n"
   ]
  },
  {
   "cell_type": "code",
   "execution_count": 87,
   "id": "d84c86cb",
   "metadata": {},
   "outputs": [],
   "source": [
    "scaler = StandardScaler()\n",
    "scaler.fit(X_train)\n",
    "\n",
    "X_train_scaled = scaler.transform(X_train)\n",
    "X_test_scaled = scaler.transform(X_test)"
   ]
  },
  {
   "cell_type": "markdown",
   "id": "d2a09d42",
   "metadata": {},
   "source": [
    "### Full Model"
   ]
  },
  {
   "cell_type": "code",
   "execution_count": 88,
   "id": "66be1b90",
   "metadata": {},
   "outputs": [
    {
     "data": {
      "text/plain": [
       "0.029116287480807072"
      ]
     },
     "execution_count": 88,
     "metadata": {},
     "output_type": "execute_result"
    }
   ],
   "source": [
    "full = lm().fit(X_train, Y_train)\n",
    "mean_squared_error(Y_test, full.predict(X_test))"
   ]
  },
  {
   "cell_type": "markdown",
   "id": "90211069",
   "metadata": {},
   "source": [
    "### Ridge Regression"
   ]
  },
  {
   "cell_type": "code",
   "execution_count": 89,
   "id": "db62061e",
   "metadata": {},
   "outputs": [
    {
     "data": {
      "text/plain": [
       "4.641588833612772"
      ]
     },
     "execution_count": 89,
     "metadata": {},
     "output_type": "execute_result"
    }
   ],
   "source": [
    "ridge_alphas = np.logspace(-10, 1, 100)\n",
    "ridgecv = RidgeCV(alphas = ridge_alphas, cv = 10, \n",
    "                  scoring = 'neg_mean_squared_error')\n",
    "ridgecv.fit(X_train, Y_train)\n",
    "ridgecv.alpha_"
   ]
  },
  {
   "cell_type": "code",
   "execution_count": 90,
   "id": "5e5bb244",
   "metadata": {},
   "outputs": [
    {
     "data": {
      "text/plain": [
       "0.032513785151265934"
      ]
     },
     "execution_count": 90,
     "metadata": {},
     "output_type": "execute_result"
    }
   ],
   "source": [
    "ridge_model = Ridge(alpha = ridgecv.alpha_)\n",
    "ridge_model.fit(X_train, Y_train)\n",
    "mean_squared_error(Y_test, ridge_model.predict(X_test))\n"
   ]
  },
  {
   "cell_type": "markdown",
   "id": "ba1e30bf",
   "metadata": {},
   "source": [
    "### Ridge Regression - Scaled"
   ]
  },
  {
   "cell_type": "code",
   "execution_count": 94,
   "id": "60e0418c",
   "metadata": {},
   "outputs": [
    {
     "data": {
      "text/plain": [
       "1.6681005372000557"
      ]
     },
     "execution_count": 94,
     "metadata": {},
     "output_type": "execute_result"
    }
   ],
   "source": [
    "ridge_scaled_alphas = np.logspace(-10, 1, 100)\n",
    "ridge_scaled_ridgecv = RidgeCV(alphas = ridge_scaled_alphas, cv = 10, \n",
    "                  scoring = 'neg_mean_squared_error')\n",
    "ridge_scaled_ridgecv.fit(X_train_scaled, Y_train)\n",
    "ridge_scaled_ridgecv.alpha_"
   ]
  },
  {
   "cell_type": "code",
   "execution_count": 95,
   "id": "7e10e4a5",
   "metadata": {},
   "outputs": [
    {
     "data": {
      "text/plain": [
       "0.032706862563539954"
      ]
     },
     "execution_count": 95,
     "metadata": {},
     "output_type": "execute_result"
    }
   ],
   "source": [
    "ridge_scaled_model = Ridge(alpha = ridge_scaled_ridgecv.alpha_)\n",
    "ridge_scaled_model.fit(X_train_scaled, Y_train)\n",
    "mean_squared_error(Y_test, ridge_scaled_model.predict(X_test_scaled))\n"
   ]
  },
  {
   "cell_type": "code",
   "execution_count": 96,
   "id": "09c5de6b",
   "metadata": {},
   "outputs": [
    {
     "name": "stdout",
     "output_type": "stream",
     "text": [
      "full model coef: [-9.820e-01 -6.760e-01 -2.000e+00 -2.900e-02  2.648e+00 -4.200e-01\n",
      "  3.920e-01  1.876e+00  8.620e-01  3.430e+00 -1.394e+00  5.650e-01\n",
      "  1.286e+00 -4.100e-02 -3.000e-03  1.140e-01  3.906e+00  4.430e-01\n",
      "  4.000e-03  3.030e-01  7.000e-03 -3.760e-01 -1.000e-03 -3.400e-02\n",
      "  4.000e-03 -4.000e-03  9.500e-02 -1.260e-01  2.300e-01 -9.000e-03\n",
      " -5.700e-02 -3.000e-03  3.800e-02  1.100e-02 -9.000e-03  2.400e-02\n",
      "  2.300e-02 -2.370e-01 -7.000e-02  1.000e-03 -2.000e-02 -2.400e-02\n",
      "  9.800e-02 -1.700e-02  5.500e-02 -3.200e-02 -9.530e-01  2.700e-02\n",
      "  1.300e-02 -6.600e-02 -1.530e-01  1.410e-01 -8.000e-03  1.640e-01\n",
      " -5.200e-02 -1.432e+00 -9.000e-02  2.587e+00 -7.000e-03  5.340e-01\n",
      " -2.580e-01  2.380e-01  1.700e-01 -1.090e-01 -2.600e-02 -8.370e-01\n",
      "  4.840e-01 -3.720e-01  8.000e-03 -2.100e-01 -2.900e-02  4.200e-02\n",
      " -4.300e-02  2.000e-03 -2.100e-02 -1.800e-02  6.300e-02 -1.510e-01\n",
      "  5.100e-02 -1.160e-01  9.100e-02  2.300e-01 -8.400e-02 -6.900e-02\n",
      " -5.000e-02  3.200e-01 -7.100e-02 -1.040e-01  6.000e-02 -3.500e-02\n",
      " -6.000e-03]\n",
      "ridge coef: [-0.006 -0.016 -0.014  0.002  0.003  0.023  0.046 -0.009  0.002 -0.006\n",
      " -0.021  0.006  0.    -0.038  0.001  0.059  0.001  0.105  0.001  0.006\n",
      " -0.008 -0.038  0.02  -0.032  0.037 -0.004  0.067 -0.032 -0.175  0.\n",
      "  0.005  0.021  0.022 -0.    -0.01  -0.023  0.022  0.058  0.011  0.001\n",
      " -0.002 -0.016  0.033 -0.008 -0.023 -0.023  0.011 -0.029 -0.008  0.011\n",
      "  0.006  0.005  0.008 -0.003 -0.017 -0.022 -0.06   0.022 -0.025  0.006\n",
      " -0.077  0.034  0.006 -0.02   0.039 -0.047  0.078 -0.14   0.116 -0.006\n",
      " -0.016  0.014  0.004  0.001 -0.014 -0.01   0.025 -0.027  0.017 -0.044\n",
      "  0.027  0.066 -0.03  -0.035 -0.014  0.035  0.029 -0.053 -0.003 -0.026\n",
      "  0.014]\n",
      "ridge scaled coef: [-0.022 -0.    -0.009  0.002  0.025  0.049  0.055 -0.08   0.051 -0.018\n",
      " -0.025  0.058 -0.009 -0.141  0.008  0.141  0.014  0.185  0.032  0.008\n",
      "  0.075  0.004  0.118 -0.107  0.119 -0.029  0.133 -0.005 -0.169  0.027\n",
      " -0.011  0.036  0.007  0.019 -0.077 -0.112  0.03   0.077  0.047 -0.002\n",
      "  0.023 -0.018  0.084 -0.021 -0.007 -0.079  0.049 -0.113 -0.01   0.012\n",
      "  0.092  0.037  0.052  0.041 -0.06  -0.083 -0.115  0.118 -0.035  0.003\n",
      " -0.111  0.045  0.017 -0.063  0.057 -0.147 -0.111 -0.203  0.132 -0.139\n",
      " -0.065  0.089  0.001 -0.011 -0.108 -0.071  0.028 -0.043 -0.023 -0.064\n",
      "  0.111  0.116  0.012 -0.06  -0.071  0.035  0.045 -0.097 -0.005 -0.118\n",
      "  0.031]\n"
     ]
    }
   ],
   "source": [
    "print(\"full model coef:\", np.round(full.coef_, 3))\n",
    "print(\"ridge coef:\", np.round(ridge_model.coef_, 3))\n",
    "print(\"ridge scaled coef:\", np.round(ridge_scaled_model.coef_, 3))\n",
    "#print(np.round(full.coef_, 0))"
   ]
  },
  {
   "cell_type": "code",
   "execution_count": 78,
   "id": "fab078ea",
   "metadata": {},
   "outputs": [
    {
     "data": {
      "text/plain": [
       "array([   1.        ,    5.62341325,   31.6227766 ,  177.827941  ,\n",
       "       1000.        ])"
      ]
     },
     "execution_count": 78,
     "metadata": {},
     "output_type": "execute_result"
    }
   ],
   "source": [
    "np.logspace(0, 3, num=5)"
   ]
  },
  {
   "cell_type": "markdown",
   "id": "bbebadb0",
   "metadata": {},
   "source": [
    "### Lasso\n",
    "\n",
    "You may encounter convergence warnings while running the code. If you find these warnings distracting, they can be suppressed."
   ]
  },
  {
   "cell_type": "code",
   "execution_count": null,
   "id": "11986d37",
   "metadata": {},
   "outputs": [],
   "source": [
    "# import warnings\n",
    "# from sklearn.exceptions import ConvergenceWarning\n",
    "# warnings.filterwarnings(\"ignore\", category=ConvergenceWarning)"
   ]
  },
  {
   "cell_type": "code",
   "execution_count": null,
   "id": "af8aac13",
   "metadata": {},
   "outputs": [],
   "source": [
    "lasso_alphas = np.logspace(-10, 1, 100)\n",
    "lassocv = LassoCV(alphas = lasso_alphas, cv = 10)\n",
    "lassocv.fit(X_train, Y_train)\n",
    "lassocv.alpha_"
   ]
  },
  {
   "cell_type": "code",
   "execution_count": 16,
   "id": "a8d803cc",
   "metadata": {},
   "outputs": [
    {
     "data": {
      "text/plain": [
       "(0.00027825594022071204, 0.004641588833612773)"
      ]
     },
     "execution_count": 16,
     "metadata": {},
     "output_type": "execute_result"
    }
   ],
   "source": [
    "mean_mse = np.mean(lassocv.mse_path_, axis=1)\n",
    "std_mse = np.std(lassocv.mse_path_, axis=1) / np.sqrt(10) \n",
    "\n",
    "cv_alphas = lassocv.alphas_\n",
    "min_idx = np.argmin(mean_mse)\n",
    "\n",
    "alpha_min = cv_alphas[min_idx]\n",
    "\n",
    "threshold = mean_mse[min_idx] + std_mse[min_idx]\n",
    "alpha_1se = max(cv_alphas[np.where(mean_mse <= threshold)])\n",
    "\n",
    "alpha_min, alpha_1se  #alpha_min = lassocv.alpha_"
   ]
  },
  {
   "cell_type": "markdown",
   "id": "8ae0dfd7",
   "metadata": {},
   "source": [
    "Lasso with alpha_min\n",
    "\n"
   ]
  },
  {
   "cell_type": "code",
   "execution_count": null,
   "id": "1dd7cdaf",
   "metadata": {},
   "outputs": [],
   "source": [
    "lasso_model_min = Lasso(alpha = alpha_min, max_iter=10000)\n",
    "lasso_model_min.fit(X_train, Y_train)\n",
    "mean_squared_error(Y_test, lasso_model_min.predict(X_test))"
   ]
  },
  {
   "cell_type": "markdown",
   "id": "70575610",
   "metadata": {},
   "source": [
    "Lasso with alpha_1se\n",
    "\n"
   ]
  },
  {
   "cell_type": "code",
   "execution_count": 19,
   "id": "1cc035a1",
   "metadata": {},
   "outputs": [
    {
     "data": {
      "text/plain": [
       "0.027752051517298967"
      ]
     },
     "execution_count": 19,
     "metadata": {},
     "output_type": "execute_result"
    }
   ],
   "source": [
    "lasso_model_1se = Lasso(alpha = alpha_1se, max_iter=10000)\n",
    "lasso_model_1se.fit(X_train, Y_train)\n",
    "mean_squared_error(Y_test, lasso_model_1se.predict(X_test))"
   ]
  },
  {
   "cell_type": "markdown",
   "id": "983dde39",
   "metadata": {},
   "source": [
    "Refit with alpha_1se\n",
    "\n"
   ]
  },
  {
   "cell_type": "code",
   "execution_count": 20,
   "id": "6a2685c1",
   "metadata": {},
   "outputs": [
    {
     "data": {
      "text/plain": [
       "0.026800302435486898"
      ]
     },
     "execution_count": 20,
     "metadata": {},
     "output_type": "execute_result"
    }
   ],
   "source": [
    "nonzero_indices = np.where(lasso_model_1se.coef_ != 0)[0]\n",
    "lm_refit = lm()\n",
    "lm_refit.fit(X_train.iloc[:, nonzero_indices], Y_train)\n",
    "mean_squared_error(Y_test, lm_refit.predict(X_test.iloc[:, nonzero_indices]))"
   ]
  },
  {
   "cell_type": "markdown",
   "id": "4b4e9319",
   "metadata": {},
   "source": [
    "### PCR\n",
    "\n",
    "This sample code demonstrates the implementation of Principal Component Regression (PCR) using 10-fold cross-validation for selecting the optimal number of components. In the provided code, it is assumed that both X and Y are NumPy arrays. Additionally, scikit-learn's Linear Regression is imported and abbreviated as lm."
   ]
  },
  {
   "cell_type": "code",
   "execution_count": 21,
   "id": "ae2b8f92",
   "metadata": {},
   "outputs": [],
   "source": [
    "class PCR(object):\n",
    "\n",
    "    def __init__(self, num_folds=10):\n",
    "        self.folds = num_folds\n",
    "\n",
    "    def fit(self, X, Y):\n",
    "        n, p = X.shape\n",
    "        indices = np.arange(n)\n",
    "        np.random.shuffle(indices)\n",
    "        index_sets = np.array_split(indices, self.folds)\n",
    "        ncomp = min(p, n - 1 - max([len(i) for i in index_sets]))\n",
    "        cv_err = np.zeros(ncomp)\n",
    "\n",
    "        for ifold in range(self.folds):\n",
    "            train_inds =  np.delete(index_sets, obj=ifold, axis=0).ravel()\n",
    "            test_inds = index_sets[ifold]\n",
    "\n",
    "            X_train = X[train_inds, :]\n",
    "            pipeline = Pipeline([('scaling', StandardScaler()), ('pca', PCA())])\n",
    "            pipeline.fit(X_train)\n",
    "            X_train = pipeline.transform(X_train)\n",
    "            coefs = Y[train_inds].T @ X_train / np.sum(X_train**2, axis=0)\n",
    "            b0 = np.mean(Y[train_inds])\n",
    "\n",
    "            X_test = pipeline.transform(X[test_inds, :])\n",
    "\n",
    "            for k in np.arange(ncomp):\n",
    "                preds = X_test[:, :k] @ coefs.T[:k] + b0\n",
    "                cv_err[k] += cv_err[k] + np.sum((Y[test_inds]-preds)**2)\n",
    "\n",
    "        min_ind = np.argmin(cv_err)\n",
    "        self.ncomp = min_ind+1\n",
    "        pipeline = Pipeline([('scaling', StandardScaler()), ('pca', PCA(n_components=self.ncomp))])\n",
    "        self.transform = pipeline.fit(X)\n",
    "        self.model = lm().fit(self.transform.transform(X), Y)\n",
    "\n",
    "    def predict(self, X):\n",
    "        X_ = self.transform.transform(X)\n",
    "        return self.model.predict(X_)"
   ]
  },
  {
   "cell_type": "code",
   "execution_count": 22,
   "id": "62434d21",
   "metadata": {},
   "outputs": [
    {
     "data": {
      "text/plain": [
       "0.03058443423342267"
      ]
     },
     "execution_count": 22,
     "metadata": {},
     "output_type": "execute_result"
    }
   ],
   "source": [
    "pcr = PCR()\n",
    "pcr.fit(X_train.to_numpy(), Y_train.to_numpy())\n",
    "mean_squared_error(Y_test, pcr.predict(X_test.to_numpy()))"
   ]
  },
  {
   "cell_type": "code",
   "execution_count": 31,
   "id": "47d0aab2",
   "metadata": {},
   "outputs": [],
   "source": [
    "def simulate(X, Y):\n",
    "    n = len(Y)\n",
    "    indices = np.arange(0, n)\n",
    "    np.random.shuffle(indices)\n",
    "    test_ind = indices[:int(np.floor(0.25*n))]\n",
    "    train_ind = indices[len(test_ind):]\n",
    "\n",
    "    # Splitting the data into training and testing sets\n",
    "    X_train = X.iloc[train_ind]\n",
    "    Y_train = Y[train_ind]\n",
    "    X_test = X.iloc[test_ind]\n",
    "    Y_test = Y[test_ind]\n",
    "\n",
    "    # Full Model\n",
    "    full = lm().fit(X_train, Y_train)\n",
    "    full_mse_error = mean_squared_error(Y_test, full.predict(X_test))\n",
    "    \n",
    "    #Ridge\n",
    "    ridge_alphas = np.logspace(-10, 1, 100)\n",
    "    ridgecv = RidgeCV(alphas = ridge_alphas, cv = 10, scoring = 'neg_mean_squared_error')\n",
    "    ridgecv.fit(X_train, Y_train)\n",
    "    ridgecv.alpha_    \n",
    "    \n",
    "    ridge_model = Ridge(alpha = ridgecv.alpha_)\n",
    "    ridge_model.fit(X_train, Y_train)\n",
    "    ridge_mse_error = mean_squared_error(Y_test, ridge_model.predict(X_test))\n",
    "    \n",
    "    #Lasso\n",
    "    lasso_alphas = np.logspace(-10, 1, 100)\n",
    "    lassocv = LassoCV(alphas = lasso_alphas, cv = 10)\n",
    "    lassocv.fit(X_train, Y_train)\n",
    "    lassocv.alpha_    \n",
    "    \n",
    "    mean_mse = np.mean(lassocv.mse_path_, axis=1)\n",
    "    std_mse = np.std(lassocv.mse_path_, axis=1) / np.sqrt(10) \n",
    "\n",
    "    cv_alphas = lassocv.alphas_\n",
    "    min_idx = np.argmin(mean_mse)\n",
    "\n",
    "    alpha_min = cv_alphas[min_idx]\n",
    "\n",
    "    threshold = mean_mse[min_idx] + std_mse[min_idx]\n",
    "    alpha_1se = max(cv_alphas[np.where(mean_mse <= threshold)])\n",
    "\n",
    "    alpha_min, alpha_1se  #alpha_min = lassocv.alpha_    \n",
    "    \n",
    "    #Lasso with alpha_min\n",
    "    lasso_model_min = Lasso(alpha = alpha_min, max_iter=10000)\n",
    "    lasso_model_min.fit(X_train, Y_train)\n",
    "    lasso_alpha_min_mse_error = mean_squared_error(Y_test, lasso_model_min.predict(X_test))\n",
    "    \n",
    "    #Lasso with alpha_1se\n",
    "    lasso_model_1se = Lasso(alpha = alpha_1se, max_iter=10000)\n",
    "    lasso_model_1se.fit(X_train, Y_train)\n",
    "    lasso_alpha_1se_mse_error = mean_squared_error(Y_test, lasso_model_1se.predict(X_test))\n",
    "    \n",
    "    #Refit with alpha_1se\n",
    "    nonzero_indices = np.where(lasso_model_1se.coef_ != 0)[0]\n",
    "    lm_refit = lm()\n",
    "    lm_refit.fit(X_train.iloc[:, nonzero_indices], Y_train)\n",
    "    lm_refit_mse_error = mean_squared_error(Y_test, lm_refit.predict(X_test.iloc[:, nonzero_indices]))    \n",
    "\n",
    "    #PCR\n",
    "    pcr = PCR()\n",
    "    pcr.fit(X_train.to_numpy(), Y_train.to_numpy())\n",
    "    pcr_mse_error = mean_squared_error(Y_test, pcr.predict(X_test.to_numpy()))\n",
    "    \n",
    "    return np.array([full_mse_error, ridge_mse_error, lasso_alpha_min_mse_error, lasso_alpha_1se_mse_error, lm_refit_mse_error, pcr_mse_error])\n",
    "\n"
   ]
  },
  {
   "cell_type": "code",
   "execution_count": 32,
   "id": "25ea903e",
   "metadata": {},
   "outputs": [
    {
     "name": "stdout",
     "output_type": "stream",
     "text": [
      "Simulation: 0\n",
      "Simulation: 1\n",
      "Simulation: 2\n",
      "Simulation: 3\n",
      "Simulation: 4\n",
      "Simulation: 5\n",
      "Simulation: 6\n",
      "Simulation: 7\n",
      "Simulation: 8\n",
      "Simulation: 9\n",
      "Simulation: 10\n",
      "Simulation: 11\n",
      "Simulation: 12\n",
      "Simulation: 13\n",
      "Simulation: 14\n",
      "Simulation: 15\n",
      "Simulation: 16\n",
      "Simulation: 17\n",
      "Simulation: 18\n",
      "Simulation: 19\n",
      "Simulation: 20\n",
      "Simulation: 21\n",
      "Simulation: 22\n",
      "Simulation: 23\n",
      "Simulation: 24\n",
      "Simulation: 25\n",
      "Simulation: 26\n",
      "Simulation: 27\n",
      "Simulation: 28\n",
      "Simulation: 29\n",
      "Simulation: 30\n",
      "Simulation: 31\n",
      "Simulation: 32\n",
      "Simulation: 33\n",
      "Simulation: 34\n",
      "Simulation: 35\n",
      "Simulation: 36\n",
      "Simulation: 37\n",
      "Simulation: 38\n",
      "Simulation: 39\n",
      "Simulation: 40\n",
      "Simulation: 41\n",
      "Simulation: 42\n",
      "Simulation: 43\n",
      "Simulation: 44\n",
      "Simulation: 45\n",
      "Simulation: 46\n",
      "Simulation: 47\n",
      "Simulation: 48\n",
      "Simulation: 49\n"
     ]
    }
   ],
   "source": [
    "simulation_count = 50\n",
    "\n",
    "MSPE1 = np.zeros((simulation_count, 6))\n",
    "\n",
    "for i in range(simulation_count):\n",
    "    print(\"Simulation:\", i)\n",
    "    MSPE1[i] = simulate(X, Y)\n"
   ]
  },
  {
   "cell_type": "code",
   "execution_count": 34,
   "id": "e2518674",
   "metadata": {},
   "outputs": [
    {
     "data": {
      "image/png": "[encoded data removed]",
      "text/plain": [
       "<Figure size 640x480 with 1 Axes>"
      ]
     },
     "metadata": {},
     "output_type": "display_data"
    }
   ],
   "source": [
    "# [b] Graphically summarize findings on the MSPE using a strip chart with a boxplot overlay.\n",
    "\n",
    "fig, ax = plt.subplots()\n",
    "\n",
    "bp1 = sns.boxplot(data=MSPE1)\n",
    "g1 = sns.stripplot(data=MSPE1, ax=ax)\n",
    "\n",
    "xtick_labels = np.array([\"Full\", \"Ridge.min\", \"Lasso.min\", \"Lasso.1se\", \"L.Refit\", \"PCR\"])\n",
    "g1.set_xticks(range(xtick_labels.shape[0]), xtick_labels)\n",
    "ax.set_ylabel('Mean Squared Prediction Error')\n",
    "\n",
    "\n",
    "plt.show()"
   ]
  },
  {
   "cell_type": "code",
   "execution_count": null,
   "id": "dc03d1a5",
   "metadata": {},
   "outputs": [],
   "source": []
  }
 ],
 "metadata": {
  "kernelspec": {
   "display_name": "Python 3 (ipykernel)",
   "language": "python",
   "name": "python3"
  },
  "language_info": {
   "codemirror_mode": {
    "name": "ipython",
    "version": 3
   },
   "file_extension": ".py",
   "mimetype": "text/x-python",
   "name": "python",
   "nbconvert_exporter": "python",
   "pygments_lexer": "ipython3",
   "version": "3.11.5"
  }
 },
 "nbformat": 4,
 "nbformat_minor": 5
}
