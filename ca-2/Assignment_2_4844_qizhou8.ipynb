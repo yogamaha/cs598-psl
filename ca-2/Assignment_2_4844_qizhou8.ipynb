<!DOCTYPE html>
<html>
<head><meta charset="utf-8" />
<meta name="viewport" content="width=device-width, initial-scale=1.0">

<title>PSL_Coding2</title><script src="https://cdnjs.cloudflare.com/ajax/libs/require.js/2.1.10/require.min.js"></script>




<style type="text/css">
    pre { line-height: 125%; }
td.linenos .normal { color: inherit; background-color: transparent; padding-left: 5px; padding-right: 5px; }
span.linenos { color: inherit; background-color: transparent; padding-left: 5px; padding-right: 5px; }
td.linenos .special { color: #000000; background-color: #ffffc0; padding-left: 5px; padding-right: 5px; }
span.linenos.special { color: #000000; background-color: #ffffc0; padding-left: 5px; padding-right: 5px; }
.highlight .hll { background-color: var(--jp-cell-editor-active-background) }
.highlight { background: var(--jp-cell-editor-background); color: var(--jp-mirror-editor-variable-color) }
.highlight .c { color: var(--jp-mirror-editor-comment-color); font-style: italic } /* Comment */
.highlight .err { color: var(--jp-mirror-editor-error-color) } /* Error */
.highlight .k { color: var(--jp-mirror-editor-keyword-color); font-weight: bold } /* Keyword */
.highlight .o { color: var(--jp-mirror-editor-operator-color); font-weight: bold } /* Operator */
.highlight .p { color: var(--jp-mirror-editor-punctuation-color) } /* Punctuation */
.highlight .ch { color: var(--jp-mirror-editor-comment-color); font-style: italic } /* Comment.Hashbang */
.highlight .cm { color: var(--jp-mirror-editor-comment-color); font-style: italic } /* Comment.Multiline */
.highlight .cp { color: var(--jp-mirror-editor-comment-color); font-style: italic } /* Comment.Preproc */
.highlight .cpf { color: var(--jp-mirror-editor-comment-color); font-style: italic } /* Comment.PreprocFile */
.highlight .c1 { color: var(--jp-mirror-editor-comment-color); font-style: italic } /* Comment.Single */
.highlight .cs { color: var(--jp-mirror-editor-comment-color); font-style: italic } /* Comment.Special */
.highlight .kc { color: var(--jp-mirror-editor-keyword-color); font-weight: bold } /* Keyword.Constant */
.highlight .kd { color: var(--jp-mirror-editor-keyword-color); font-weight: bold } /* Keyword.Declaration */
.highlight .kn { color: var(--jp-mirror-editor-keyword-color); font-weight: bold } /* Keyword.Namespace */
.highlight .kp { color: var(--jp-mirror-editor-keyword-color); font-weight: bold } /* Keyword.Pseudo */
.highlight .kr { color: var(--jp-mirror-editor-keyword-color); font-weight: bold } /* Keyword.Reserved */
.highlight .kt { color: var(--jp-mirror-editor-keyword-color); font-weight: bold } /* Keyword.Type */
.highlight .m { color: var(--jp-mirror-editor-number-color) } /* Literal.Number */
.highlight .s { color: var(--jp-mirror-editor-string-color) } /* Literal.String */
.highlight .ow { color: var(--jp-mirror-editor-operator-color); font-weight: bold } /* Operator.Word */
.highlight .pm { color: var(--jp-mirror-editor-punctuation-color) } /* Punctuation.Marker */
.highlight .w { color: var(--jp-mirror-editor-variable-color) } /* Text.Whitespace */
.highlight .mb { color: var(--jp-mirror-editor-number-color) } /* Literal.Number.Bin */
.highlight .mf { color: var(--jp-mirror-editor-number-color) } /* Literal.Number.Float */
.highlight .mh { color: var(--jp-mirror-editor-number-color) } /* Literal.Number.Hex */
.highlight .mi { color: var(--jp-mirror-editor-number-color) } /* Literal.Number.Integer */
.highlight .mo { color: var(--jp-mirror-editor-number-color) } /* Literal.Number.Oct */
.highlight .sa { color: var(--jp-mirror-editor-string-color) } /* Literal.String.Affix */
.highlight .sb { color: var(--jp-mirror-editor-string-color) } /* Literal.String.Backtick */
.highlight .sc { color: var(--jp-mirror-editor-string-color) } /* Literal.String.Char */
.highlight .dl { color: var(--jp-mirror-editor-string-color) } /* Literal.String.Delimiter */
.highlight .sd { color: var(--jp-mirror-editor-string-color) } /* Literal.String.Doc */
.highlight .s2 { color: var(--jp-mirror-editor-string-color) } /* Literal.String.Double */
.highlight .se { color: var(--jp-mirror-editor-string-color) } /* Literal.String.Escape */
.highlight .sh { color: var(--jp-mirror-editor-string-color) } /* Literal.String.Heredoc */
.highlight .si { color: var(--jp-mirror-editor-string-color) } /* Literal.String.Interpol */
.highlight .sx { color: var(--jp-mirror-editor-string-color) } /* Literal.String.Other */
.highlight .sr { color: var(--jp-mirror-editor-string-color) } /* Literal.String.Regex */
.highlight .s1 { color: var(--jp-mirror-editor-string-color) } /* Literal.String.Single */
.highlight .ss { color: var(--jp-mirror-editor-string-color) } /* Literal.String.Symbol */
.highlight .il { color: var(--jp-mirror-editor-number-color) } /* Literal.Number.Integer.Long */
  </style>



<style type="text/css">
/*-----------------------------------------------------------------------------
| Copyright (c) Jupyter Development Team.
| Distributed under the terms of the Modified BSD License.
|----------------------------------------------------------------------------*/

/*
 * Mozilla scrollbar styling
 */

/* use standard opaque scrollbars for most nodes */
[data-jp-theme-scrollbars='true'] {
  scrollbar-color: rgb(var(--jp-scrollbar-thumb-color))
    var(--jp-scrollbar-background-color);
}

/* for code nodes, use a transparent style of scrollbar. These selectors
 * will match lower in the tree, and so will override the above */
[data-jp-theme-scrollbars='true'] .CodeMirror-hscrollbar,
[data-jp-theme-scrollbars='true'] .CodeMirror-vscrollbar {
  scrollbar-color: rgba(var(--jp-scrollbar-thumb-color), 0.5) transparent;
}

/* tiny scrollbar */

.jp-scrollbar-tiny {
  scrollbar-color: rgba(var(--jp-scrollbar-thumb-color), 0.5) transparent;
  scrollbar-width: thin;
}

/*
 * Webkit scrollbar styling
 */

/* use standard opaque scrollbars for most nodes */

[data-jp-theme-scrollbars='true'] ::-webkit-scrollbar,
[data-jp-theme-scrollbars='true'] ::-webkit-scrollbar-corner {
  background: var(--jp-scrollbar-background-color);
}

[data-jp-theme-scrollbars='true'] ::-webkit-scrollbar-thumb {
  background: rgb(var(--jp-scrollbar-thumb-color));
  border: var(--jp-scrollbar-thumb-margin) solid transparent;
  background-clip: content-box;
  border-radius: var(--jp-scrollbar-thumb-radius);
}

[data-jp-theme-scrollbars='true'] ::-webkit-scrollbar-track:horizontal {
  border-left: var(--jp-scrollbar-endpad) solid
    var(--jp-scrollbar-background-color);
  border-right: var(--jp-scrollbar-endpad) solid
    var(--jp-scrollbar-background-color);
}

[data-jp-theme-scrollbars='true'] ::-webkit-scrollbar-track:vertical {
  border-top: var(--jp-scrollbar-endpad) solid
    var(--jp-scrollbar-background-color);
  border-bottom: var(--jp-scrollbar-endpad) solid
    var(--jp-scrollbar-background-color);
}

/* for code nodes, use a transparent style of scrollbar */

[data-jp-theme-scrollbars='true'] .CodeMirror-hscrollbar::-webkit-scrollbar,
[data-jp-theme-scrollbars='true'] .CodeMirror-vscrollbar::-webkit-scrollbar,
[data-jp-theme-scrollbars='true']
  .CodeMirror-hscrollbar::-webkit-scrollbar-corner,
[data-jp-theme-scrollbars='true']
  .CodeMirror-vscrollbar::-webkit-scrollbar-corner {
  background-color: transparent;
}

[data-jp-theme-scrollbars='true']
  .CodeMirror-hscrollbar::-webkit-scrollbar-thumb,
[data-jp-theme-scrollbars='true']
  .CodeMirror-vscrollbar::-webkit-scrollbar-thumb {
  background: rgba(var(--jp-scrollbar-thumb-color), 0.5);
  border: var(--jp-scrollbar-thumb-margin) solid transparent;
  background-clip: content-box;
  border-radius: var(--jp-scrollbar-thumb-radius);
}

[data-jp-theme-scrollbars='true']
  .CodeMirror-hscrollbar::-webkit-scrollbar-track:horizontal {
  border-left: var(--jp-scrollbar-endpad) solid transparent;
  border-right: var(--jp-scrollbar-endpad) solid transparent;
}

[data-jp-theme-scrollbars='true']
  .CodeMirror-vscrollbar::-webkit-scrollbar-track:vertical {
  border-top: var(--jp-scrollbar-endpad) solid transparent;
  border-bottom: var(--jp-scrollbar-endpad) solid transparent;
}

/* tiny scrollbar */

.jp-scrollbar-tiny::-webkit-scrollbar,
.jp-scrollbar-tiny::-webkit-scrollbar-corner {
  background-color: transparent;
  height: 4px;
  width: 4px;
}

.jp-scrollbar-tiny::-webkit-scrollbar-thumb {
  background: rgba(var(--jp-scrollbar-thumb-color), 0.5);
}

.jp-scrollbar-tiny::-webkit-scrollbar-track:horizontal {
  border-left: 0px solid transparent;
  border-right: 0px solid transparent;
}

.jp-scrollbar-tiny::-webkit-scrollbar-track:vertical {
  border-top: 0px solid transparent;
  border-bottom: 0px solid transparent;
}

/*
 * Phosphor
 */

.lm-ScrollBar[data-orientation='horizontal'] {
  min-height: 16px;
  max-height: 16px;
  min-width: 45px;
  border-top: 1px solid #a0a0a0;
}

.lm-ScrollBar[data-orientation='vertical'] {
  min-width: 16px;
  max-width: 16px;
  min-height: 45px;
  border-left: 1px solid #a0a0a0;
}

.lm-ScrollBar-button {
  background-color: #f0f0f0;
  background-position: center center;
  min-height: 15px;
  max-height: 15px;
  min-width: 15px;
  max-width: 15px;
}

.lm-ScrollBar-button:hover {
  background-color: #dadada;
}

.lm-ScrollBar-button.lm-mod-active {
  background-color: #cdcdcd;
}

.lm-ScrollBar-track {
  background: #f0f0f0;
}

.lm-ScrollBar-thumb {
  background: #cdcdcd;
}

.lm-ScrollBar-thumb:hover {
  background: #bababa;
}

.lm-ScrollBar-thumb.lm-mod-active {
  background: #a0a0a0;
}

.lm-ScrollBar[data-orientation='horizontal'] .lm-ScrollBar-thumb {
  height: 100%;
  min-width: 15px;
  border-left: 1px solid #a0a0a0;
  border-right: 1px solid #a0a0a0;
}

.lm-ScrollBar[data-orientation='vertical'] .lm-ScrollBar-thumb {
  width: 100%;
  min-height: 15px;
  border-top: 1px solid #a0a0a0;
  border-bottom: 1px solid #a0a0a0;
}

.lm-ScrollBar[data-orientation='horizontal']
  .lm-ScrollBar-button[data-action='decrement'] {
  background-image: var(--jp-icon-caret-left);
  background-size: 17px;
}

.lm-ScrollBar[data-orientation='horizontal']
  .lm-ScrollBar-button[data-action='increment'] {
  background-image: var(--jp-icon-caret-right);
  background-size: 17px;
}

.lm-ScrollBar[data-orientation='vertical']
  .lm-ScrollBar-button[data-action='decrement'] {
  background-image: var(--jp-icon-caret-up);
  background-size: 17px;
}

.lm-ScrollBar[data-orientation='vertical']
  .lm-ScrollBar-button[data-action='increment'] {
  background-image: var(--jp-icon-caret-down);
  background-size: 17px;
}

/*-----------------------------------------------------------------------------
| Copyright (c) Jupyter Development Team.
| Copyright (c) 2014-2017, PhosphorJS Contributors
|
| Distributed under the terms of the BSD 3-Clause License.
|
| The full license is in the file LICENSE, distributed with this software.
|----------------------------------------------------------------------------*/


/* <DEPRECATED> */ .p-Widget, /* </DEPRECATED> */
.lm-Widget {
  box-sizing: border-box;
  position: relative;
  overflow: hidden;
  cursor: default;
}


/* <DEPRECATED> */ .p-Widget.p-mod-hidden, /* </DEPRECATED> */
.lm-Widget.lm-mod-hidden {
  display: none !important;
}

/*-----------------------------------------------------------------------------
| Copyright (c) Jupyter Development Team.
| Copyright (c) 2014-2017, PhosphorJS Contributors
|
| Distributed under the terms of the BSD 3-Clause License.
|
| The full license is in the file LICENSE, distributed with this software.
|----------------------------------------------------------------------------*/


/* <DEPRECATED> */ .p-CommandPalette, /* </DEPRECATED> */
.lm-CommandPalette {
  display: flex;
  flex-direction: column;
  -webkit-user-select: none;
  -moz-user-select: none;
  -ms-user-select: none;
  user-select: none;
}


/* <DEPRECATED> */ .p-CommandPalette-search, /* </DEPRECATED> */
.lm-CommandPalette-search {
  flex: 0 0 auto;
}


/* <DEPRECATED> */ .p-CommandPalette-content, /* </DEPRECATED> */
.lm-CommandPalette-content {
  flex: 1 1 auto;
  margin: 0;
  padding: 0;
  min-height: 0;
  overflow: auto;
  list-style-type: none;
}


/* <DEPRECATED> */ .p-CommandPalette-header, /* </DEPRECATED> */
.lm-CommandPalette-header {
  overflow: hidden;
  white-space: nowrap;
  text-overflow: ellipsis;
}


/* <DEPRECATED> */ .p-CommandPalette-item, /* </DEPRECATED> */
.lm-CommandPalette-item {
  display: flex;
  flex-direction: row;
}


/* <DEPRECATED> */ .p-CommandPalette-itemIcon, /* </DEPRECATED> */
.lm-CommandPalette-itemIcon {
  flex: 0 0 auto;
}


/* <DEPRECATED> */ .p-CommandPalette-itemContent, /* </DEPRECATED> */
.lm-CommandPalette-itemContent {
  flex: 1 1 auto;
  overflow: hidden;
}


/* <DEPRECATED> */ .p-CommandPalette-itemShortcut, /* </DEPRECATED> */
.lm-CommandPalette-itemShortcut {
  flex: 0 0 auto;
}


/* <DEPRECATED> */ .p-CommandPalette-itemLabel, /* </DEPRECATED> */
.lm-CommandPalette-itemLabel {
  overflow: hidden;
  white-space: nowrap;
  text-overflow: ellipsis;
}

.lm-close-icon {
	border:1px solid transparent;
  background-color: transparent;
  position: absolute;
	z-index:1;
	right:3%;
	top: 0;
	bottom: 0;
	margin: auto;
	padding: 7px 0;
	display: none;
	vertical-align: middle;
  outline: 0;
  cursor: pointer;
}
.lm-close-icon:after {
	content: "X";
	display: block;
	width: 15px;
	height: 15px;
	text-align: center;
	color:#000;
	font-weight: normal;
	font-size: 12px;
	cursor: pointer;
}

/*-----------------------------------------------------------------------------
| Copyright (c) Jupyter Development Team.
| Copyright (c) 2014-2017, PhosphorJS Contributors
|
| Distributed under the terms of the BSD 3-Clause License.
|
| The full license is in the file LICENSE, distributed with this software.
|----------------------------------------------------------------------------*/


/* <DEPRECATED> */ .p-DockPanel, /* </DEPRECATED> */
.lm-DockPanel {
  z-index: 0;
}


/* <DEPRECATED> */ .p-DockPanel-widget, /* </DEPRECATED> */
.lm-DockPanel-widget {
  z-index: 0;
}


/* <DEPRECATED> */ .p-DockPanel-tabBar, /* </DEPRECATED> */
.lm-DockPanel-tabBar {
  z-index: 1;
}


/* <DEPRECATED> */ .p-DockPanel-handle, /* </DEPRECATED> */
.lm-DockPanel-handle {
  z-index: 2;
}


/* <DEPRECATED> */ .p-DockPanel-handle.p-mod-hidden, /* </DEPRECATED> */
.lm-DockPanel-handle.lm-mod-hidden {
  display: none !important;
}


/* <DEPRECATED> */ .p-DockPanel-handle:after, /* </DEPRECATED> */
.lm-DockPanel-handle:after {
  position: absolute;
  top: 0;
  left: 0;
  width: 100%;
  height: 100%;
  content: '';
}


/* <DEPRECATED> */
.p-DockPanel-handle[data-orientation='horizontal'],
/* </DEPRECATED> */
.lm-DockPanel-handle[data-orientation='horizontal'] {
  cursor: ew-resize;
}


/* <DEPRECATED> */
.p-DockPanel-handle[data-orientation='vertical'],
/* </DEPRECATED> */
.lm-DockPanel-handle[data-orientation='vertical'] {
  cursor: ns-resize;
}


/* <DEPRECATED> */
.p-DockPanel-handle[data-orientation='horizontal']:after,
/* </DEPRECATED> */
.lm-DockPanel-handle[data-orientation='horizontal']:after {
  left: 50%;
  min-width: 8px;
  transform: translateX(-50%);
}


/* <DEPRECATED> */
.p-DockPanel-handle[data-orientation='vertical']:after,
/* </DEPRECATED> */
.lm-DockPanel-handle[data-orientation='vertical']:after {
  top: 50%;
  min-height: 8px;
  transform: translateY(-50%);
}


/* <DEPRECATED> */ .p-DockPanel-overlay, /* </DEPRECATED> */
.lm-DockPanel-overlay {
  z-index: 3;
  box-sizing: border-box;
  pointer-events: none;
}


/* <DEPRECATED> */ .p-DockPanel-overlay.p-mod-hidden, /* </DEPRECATED> */
.lm-DockPanel-overlay.lm-mod-hidden {
  display: none !important;
}

/*-----------------------------------------------------------------------------
| Copyright (c) Jupyter Development Team.
| Copyright (c) 2014-2017, PhosphorJS Contributors
|
| Distributed under the terms of the BSD 3-Clause License.
|
| The full license is in the file LICENSE, distributed with this software.
|----------------------------------------------------------------------------*/


/* <DEPRECATED> */ .p-Menu, /* </DEPRECATED> */
.lm-Menu {
  z-index: 10000;
  position: absolute;
  white-space: nowrap;
  overflow-x: hidden;
  overflow-y: auto;
  outline: none;
  -webkit-user-select: none;
  -moz-user-select: none;
  -ms-user-select: none;
  user-select: none;
}


/* <DEPRECATED> */ .p-Menu-content, /* </DEPRECATED> */
.lm-Menu-content {
  margin: 0;
  padding: 0;
  display: table;
  list-style-type: none;
}


/* <DEPRECATED> */ .p-Menu-item, /* </DEPRECATED> */
.lm-Menu-item {
  display: table-row;
}


/* <DEPRECATED> */
.p-Menu-item.p-mod-hidden,
.p-Menu-item.p-mod-collapsed,
/* </DEPRECATED> */
.lm-Menu-item.lm-mod-hidden,
.lm-Menu-item.lm-mod-collapsed {
  display: none !important;
}


/* <DEPRECATED> */
.p-Menu-itemIcon,
.p-Menu-itemSubmenuIcon,
/* </DEPRECATED> */
.lm-Menu-itemIcon,
.lm-Menu-itemSubmenuIcon {
  display: table-cell;
  text-align: center;
}


/* <DEPRECATED> */ .p-Menu-itemLabel, /* </DEPRECATED> */
.lm-Menu-itemLabel {
  display: table-cell;
  text-align: left;
}


/* <DEPRECATED> */ .p-Menu-itemShortcut, /* </DEPRECATED> */
.lm-Menu-itemShortcut {
  display: table-cell;
  text-align: right;
}

/*-----------------------------------------------------------------------------
| Copyright (c) Jupyter Development Team.
| Copyright (c) 2014-2017, PhosphorJS Contributors
|
| Distributed under the terms of the BSD 3-Clause License.
|
| The full license is in the file LICENSE, distributed with this software.
|----------------------------------------------------------------------------*/


/* <DEPRECATED> */ .p-MenuBar, /* </DEPRECATED> */
.lm-MenuBar {
  outline: none;
  -webkit-user-select: none;
  -moz-user-select: none;
  -ms-user-select: none;
  user-select: none;
}


/* <DEPRECATED> */ .p-MenuBar-content, /* </DEPRECATED> */
.lm-MenuBar-content {
  margin: 0;
  padding: 0;
  display: flex;
  flex-direction: row;
  list-style-type: none;
}


/* <DEPRECATED> */ .p--MenuBar-item, /* </DEPRECATED> */
.lm-MenuBar-item {
  box-sizing: border-box;
}


/* <DEPRECATED> */
.p-MenuBar-itemIcon,
.p-MenuBar-itemLabel,
/* </DEPRECATED> */
.lm-MenuBar-itemIcon,
.lm-MenuBar-itemLabel {
  display: inline-block;
}

/*-----------------------------------------------------------------------------
| Copyright (c) Jupyter Development Team.
| Copyright (c) 2014-2017, PhosphorJS Contributors
|
| Distributed under the terms of the BSD 3-Clause License.
|
| The full license is in the file LICENSE, distributed with this software.
|----------------------------------------------------------------------------*/


/* <DEPRECATED> */ .p-ScrollBar, /* </DEPRECATED> */
.lm-ScrollBar {
  display: flex;
  -webkit-user-select: none;
  -moz-user-select: none;
  -ms-user-select: none;
  user-select: none;
}


/* <DEPRECATED> */
.p-ScrollBar[data-orientation='horizontal'],
/* </DEPRECATED> */
.lm-ScrollBar[data-orientation='horizontal'] {
  flex-direction: row;
}


/* <DEPRECATED> */
.p-ScrollBar[data-orientation='vertical'],
/* </DEPRECATED> */
.lm-ScrollBar[data-orientation='vertical'] {
  flex-direction: column;
}


/* <DEPRECATED> */ .p-ScrollBar-button, /* </DEPRECATED> */
.lm-ScrollBar-button {
  box-sizing: border-box;
  flex: 0 0 auto;
}


/* <DEPRECATED> */ .p-ScrollBar-track, /* </DEPRECATED> */
.lm-ScrollBar-track {
  box-sizing: border-box;
  position: relative;
  overflow: hidden;
  flex: 1 1 auto;
}


/* <DEPRECATED> */ .p-ScrollBar-thumb, /* </DEPRECATED> */
.lm-ScrollBar-thumb {
  box-sizing: border-box;
  position: absolute;
}

/*-----------------------------------------------------------------------------
| Copyright (c) Jupyter Development Team.
| Copyright (c) 2014-2017, PhosphorJS Contributors
|
| Distributed under the terms of the BSD 3-Clause License.
|
| The full license is in the file LICENSE, distributed with this software.
|----------------------------------------------------------------------------*/


/* <DEPRECATED> */ .p-SplitPanel-child, /* </DEPRECATED> */
.lm-SplitPanel-child {
  z-index: 0;
}


/* <DEPRECATED> */ .p-SplitPanel-handle, /* </DEPRECATED> */
.lm-SplitPanel-handle {
  z-index: 1;
}


/* <DEPRECATED> */ .p-SplitPanel-handle.p-mod-hidden, /* </DEPRECATED> */
.lm-SplitPanel-handle.lm-mod-hidden {
  display: none !important;
}


/* <DEPRECATED> */ .p-SplitPanel-handle:after, /* </DEPRECATED> */
.lm-SplitPanel-handle:after {
  position: absolute;
  top: 0;
  left: 0;
  width: 100%;
  height: 100%;
  content: '';
}


/* <DEPRECATED> */
.p-SplitPanel[data-orientation='horizontal'] > .p-SplitPanel-handle,
/* </DEPRECATED> */
.lm-SplitPanel[data-orientation='horizontal'] > .lm-SplitPanel-handle {
  cursor: ew-resize;
}


/* <DEPRECATED> */
.p-SplitPanel[data-orientation='vertical'] > .p-SplitPanel-handle,
/* </DEPRECATED> */
.lm-SplitPanel[data-orientation='vertical'] > .lm-SplitPanel-handle {
  cursor: ns-resize;
}


/* <DEPRECATED> */
.p-SplitPanel[data-orientation='horizontal'] > .p-SplitPanel-handle:after,
/* </DEPRECATED> */
.lm-SplitPanel[data-orientation='horizontal'] > .lm-SplitPanel-handle:after {
  left: 50%;
  min-width: 8px;
  transform: translateX(-50%);
}


/* <DEPRECATED> */
.p-SplitPanel[data-orientation='vertical'] > .p-SplitPanel-handle:after,
/* </DEPRECATED> */
.lm-SplitPanel[data-orientation='vertical'] > .lm-SplitPanel-handle:after {
  top: 50%;
  min-height: 8px;
  transform: translateY(-50%);
}

/*-----------------------------------------------------------------------------
| Copyright (c) Jupyter Development Team.
| Copyright (c) 2014-2017, PhosphorJS Contributors
|
| Distributed under the terms of the BSD 3-Clause License.
|
| The full license is in the file LICENSE, distributed with this software.
|----------------------------------------------------------------------------*/


/* <DEPRECATED> */ .p-TabBar, /* </DEPRECATED> */
.lm-TabBar {
  display: flex;
  -webkit-user-select: none;
  -moz-user-select: none;
  -ms-user-select: none;
  user-select: none;
}


/* <DEPRECATED> */ .p-TabBar[data-orientation='horizontal'], /* </DEPRECATED> */
.lm-TabBar[data-orientation='horizontal'] {
  flex-direction: row;
  align-items: flex-end;
}


/* <DEPRECATED> */ .p-TabBar[data-orientation='vertical'], /* </DEPRECATED> */
.lm-TabBar[data-orientation='vertical'] {
  flex-direction: column;
  align-items: flex-end;
}


/* <DEPRECATED> */ .p-TabBar-content, /* </DEPRECATED> */
.lm-TabBar-content {
  margin: 0;
  padding: 0;
  display: flex;
  flex: 1 1 auto;
  list-style-type: none;
}


/* <DEPRECATED> */
.p-TabBar[data-orientation='horizontal'] > .p-TabBar-content,
/* </DEPRECATED> */
.lm-TabBar[data-orientation='horizontal'] > .lm-TabBar-content {
  flex-direction: row;
}


/* <DEPRECATED> */
.p-TabBar[data-orientation='vertical'] > .p-TabBar-content,
/* </DEPRECATED> */
.lm-TabBar[data-orientation='vertical'] > .lm-TabBar-content {
  flex-direction: column;
}


/* <DEPRECATED> */ .p-TabBar-tab, /* </DEPRECATED> */
.lm-TabBar-tab {
  display: flex;
  flex-direction: row;
  box-sizing: border-box;
  overflow: hidden;
}


/* <DEPRECATED> */
.p-TabBar-tabIcon,
.p-TabBar-tabCloseIcon,
/* </DEPRECATED> */
.lm-TabBar-tabIcon,
.lm-TabBar-tabCloseIcon {
  flex: 0 0 auto;
}


/* <DEPRECATED> */ .p-TabBar-tabLabel, /* </DEPRECATED> */
.lm-TabBar-tabLabel {
  flex: 1 1 auto;
  overflow: hidden;
  white-space: nowrap;
}


.lm-TabBar-tabInput {
  user-select: all;
  width: 100%;
  box-sizing : border-box;
}


/* <DEPRECATED> */ .p-TabBar-tab.p-mod-hidden, /* </DEPRECATED> */
.lm-TabBar-tab.lm-mod-hidden {
  display: none !important;
}


.lm-TabBar-addButton.lm-mod-hidden {
  display: none !important;
}


/* <DEPRECATED> */ .p-TabBar.p-mod-dragging .p-TabBar-tab, /* </DEPRECATED> */
.lm-TabBar.lm-mod-dragging .lm-TabBar-tab {
  position: relative;
}


/* <DEPRECATED> */
.p-TabBar.p-mod-dragging[data-orientation='horizontal'] .p-TabBar-tab,
/* </DEPRECATED> */
.lm-TabBar.lm-mod-dragging[data-orientation='horizontal'] .lm-TabBar-tab {
  left: 0;
  transition: left 150ms ease;
}


/* <DEPRECATED> */
.p-TabBar.p-mod-dragging[data-orientation='vertical'] .p-TabBar-tab,
/* </DEPRECATED> */
.lm-TabBar.lm-mod-dragging[data-orientation='vertical'] .lm-TabBar-tab {
  top: 0;
  transition: top 150ms ease;
}


/* <DEPRECATED> */
.p-TabBar.p-mod-dragging .p-TabBar-tab.p-mod-dragging,
/* </DEPRECATED> */
.lm-TabBar.lm-mod-dragging .lm-TabBar-tab.lm-mod-dragging {
  transition: none;
}

.lm-TabBar-tabLabel .lm-TabBar-tabInput {
  user-select: all;
  width: 100%;
  box-sizing : border-box;
  background: inherit;
}

/*-----------------------------------------------------------------------------
| Copyright (c) Jupyter Development Team.
| Copyright (c) 2014-2017, PhosphorJS Contributors
|
| Distributed under the terms of the BSD 3-Clause License.
|
| The full license is in the file LICENSE, distributed with this software.
|----------------------------------------------------------------------------*/


/* <DEPRECATED> */ .p-TabPanel-tabBar, /* </DEPRECATED> */
.lm-TabPanel-tabBar {
  z-index: 1;
}


/* <DEPRECATED> */ .p-TabPanel-stackedPanel, /* </DEPRECATED> */
.lm-TabPanel-stackedPanel {
  z-index: 0;
}

/*-----------------------------------------------------------------------------
| Copyright (c) Jupyter Development Team.
| Copyright (c) 2014-2017, PhosphorJS Contributors
|
| Distributed under the terms of the BSD 3-Clause License.
|
| The full license is in the file LICENSE, distributed with this software.
|----------------------------------------------------------------------------*/

@charset "UTF-8";
html{
  -webkit-box-sizing:border-box;
          box-sizing:border-box; }

*,
*::before,
*::after{
  -webkit-box-sizing:inherit;
          box-sizing:inherit; }

body{
  font-size:14px;
  font-weight:400;
  letter-spacing:0;
  line-height:1.28581;
  text-transform:none;
  color:#182026;
  font-family:-apple-system, "BlinkMacSystemFont", "Segoe UI", "Roboto", "Oxygen", "Ubuntu", "Cantarell", "Open Sans", "Helvetica Neue", "Icons16", sans-serif; }

p{
  margin-bottom:10px;
  margin-top:0; }

small{
  font-size:12px; }

strong{
  font-weight:600; }

::-moz-selection{
  background:rgba(125, 188, 255, 0.6); }

::selection{
  background:rgba(125, 188, 255, 0.6); }
.bp3-heading{
  color:#182026;
  font-weight:600;
  margin:0 0 10px;
  padding:0; }
  .bp3-dark .bp3-heading{
    color:#f5f8fa; }

h1.bp3-heading, .bp3-running-text h1{
  font-size:36px;
  line-height:40px; }

h2.bp3-heading, .bp3-running-text h2{
  font-size:28px;
  line-height:32px; }

h3.bp3-heading, .bp3-running-text h3{
  font-size:22px;
  line-height:25px; }

h4.bp3-heading, .bp3-running-text h4{
  font-size:18px;
  line-height:21px; }

h5.bp3-heading, .bp3-running-text h5{
  font-size:16px;
  line-height:19px; }

h6.bp3-heading, .bp3-running-text h6{
  font-size:14px;
  line-height:16px; }
.bp3-ui-text{
  font-size:14px;
  font-weight:400;
  letter-spacing:0;
  line-height:1.28581;
  text-transform:none; }

.bp3-monospace-text{
  font-family:monospace;
  text-transform:none; }

.bp3-text-muted{
  color:#5c7080; }
  .bp3-dark .bp3-text-muted{
    color:#a7b6c2; }

.bp3-text-disabled{
  color:rgba(92, 112, 128, 0.6); }
  .bp3-dark .bp3-text-disabled{
    color:rgba(167, 182, 194, 0.6); }

.bp3-text-overflow-ellipsis{
  overflow:hidden;
  text-overflow:ellipsis;
  white-space:nowrap;
  word-wrap:normal; }
.bp3-running-text{
  font-size:14px;
  line-height:1.5; }
  .bp3-running-text h1{
    color:#182026;
    font-weight:600;
    margin-bottom:20px;
    margin-top:40px; }
    .bp3-dark .bp3-running-text h1{
      color:#f5f8fa; }
  .bp3-running-text h2{
    color:#182026;
    font-weight:600;
    margin-bottom:20px;
    margin-top:40px; }
    .bp3-dark .bp3-running-text h2{
      color:#f5f8fa; }
  .bp3-running-text h3{
    color:#182026;
    font-weight:600;
    margin-bottom:20px;
    margin-top:40px; }
    .bp3-dark .bp3-running-text h3{
      color:#f5f8fa; }
  .bp3-running-text h4{
    color:#182026;
    font-weight:600;
    margin-bottom:20px;
    margin-top:40px; }
    .bp3-dark .bp3-running-text h4{
      color:#f5f8fa; }
  .bp3-running-text h5{
    color:#182026;
    font-weight:600;
    margin-bottom:20px;
    margin-top:40px; }
    .bp3-dark .bp3-running-text h5{
      color:#f5f8fa; }
  .bp3-running-text h6{
    color:#182026;
    font-weight:600;
    margin-bottom:20px;
    margin-top:40px; }
    .bp3-dark .bp3-running-text h6{
      color:#f5f8fa; }
  .bp3-running-text hr{
    border:none;
    border-bottom:1px solid rgba(16, 22, 26, 0.15);
    margin:20px 0; }
    .bp3-dark .bp3-running-text hr{
      border-color:rgba(255, 255, 255, 0.15); }
  .bp3-running-text p{
    margin:0 0 10px;
    padding:0; }

.bp3-text-large{
  font-size:16px; }

.bp3-text-small{
  font-size:12px; }
a{
  color:#106ba3;
  text-decoration:none; }
  a:hover{
    color:#106ba3;
    cursor:pointer;
    text-decoration:underline; }
  a .bp3-icon, a .bp3-icon-standard, a .bp3-icon-large{
    color:inherit; }
  a code,
  .bp3-dark a code{
    color:inherit; }
  .bp3-dark a,
  .bp3-dark a:hover{
    color:#48aff0; }
    .bp3-dark a .bp3-icon, .bp3-dark a .bp3-icon-standard, .bp3-dark a .bp3-icon-large,
    .bp3-dark a:hover .bp3-icon,
    .bp3-dark a:hover .bp3-icon-standard,
    .bp3-dark a:hover .bp3-icon-large{
      color:inherit; }
.bp3-running-text code, .bp3-code{
  font-family:monospace;
  text-transform:none;
  background:rgba(255, 255, 255, 0.7);
  border-radius:3px;
  -webkit-box-shadow:inset 0 0 0 1px rgba(16, 22, 26, 0.2);
          box-shadow:inset 0 0 0 1px rgba(16, 22, 26, 0.2);
  color:#5c7080;
  font-size:smaller;
  padding:2px 5px; }
  .bp3-dark .bp3-running-text code, .bp3-running-text .bp3-dark code, .bp3-dark .bp3-code{
    background:rgba(16, 22, 26, 0.3);
    -webkit-box-shadow:inset 0 0 0 1px rgba(16, 22, 26, 0.4);
            box-shadow:inset 0 0 0 1px rgba(16, 22, 26, 0.4);
    color:#a7b6c2; }
  .bp3-running-text a > code, a > .bp3-code{
    color:#137cbd; }
    .bp3-dark .bp3-running-text a > code, .bp3-running-text .bp3-dark a > code, .bp3-dark a > .bp3-code{
      color:inherit; }

.bp3-running-text pre, .bp3-code-block{
  font-family:monospace;
  text-transform:none;
  background:rgba(255, 255, 255, 0.7);
  border-radius:3px;
  -webkit-box-shadow:inset 0 0 0 1px rgba(16, 22, 26, 0.15);
          box-shadow:inset 0 0 0 1px rgba(16, 22, 26, 0.15);
  color:#182026;
  display:block;
  font-size:13px;
  line-height:1.4;
  margin:10px 0;
  padding:13px 15px 12px;
  word-break:break-all;
  word-wrap:break-word; }
  .bp3-dark .bp3-running-text pre, .bp3-running-text .bp3-dark pre, .bp3-dark .bp3-code-block{
    background:rgba(16, 22, 26, 0.3);
    -webkit-box-shadow:inset 0 0 0 1px rgba(16, 22, 26, 0.4);
            box-shadow:inset 0 0 0 1px rgba(16, 22, 26, 0.4);
    color:#f5f8fa; }
  .bp3-running-text pre > code, .bp3-code-block > code{
    background:none;
    -webkit-box-shadow:none;
            box-shadow:none;
    color:inherit;
    font-size:inherit;
    padding:0; }

.bp3-running-text kbd, .bp3-key{
  -webkit-box-align:center;
      -ms-flex-align:center;
          align-items:center;
  background:#ffffff;
  border-radius:3px;
  -webkit-box-shadow:0 0 0 1px rgba(16, 22, 26, 0.1), 0 0 0 rgba(16, 22, 26, 0), 0 1px 1px rgba(16, 22, 26, 0.2);
          box-shadow:0 0 0 1px rgba(16, 22, 26, 0.1), 0 0 0 rgba(16, 22, 26, 0), 0 1px 1px rgba(16, 22, 26, 0.2);
  color:#5c7080;
  display:-webkit-inline-box;
  display:-ms-inline-flexbox;
  display:inline-flex;
  font-family:inherit;
  font-size:12px;
  height:24px;
  -webkit-box-pack:center;
      -ms-flex-pack:center;
          justify-content:center;
  line-height:24px;
  min-width:24px;
  padding:3px 6px;
  vertical-align:middle; }
  .bp3-running-text kbd .bp3-icon, .bp3-key .bp3-icon, .bp3-running-text kbd .bp3-icon-standard, .bp3-key .bp3-icon-standard, .bp3-running-text kbd .bp3-icon-large, .bp3-key .bp3-icon-large{
    margin-right:5px; }
  .bp3-dark .bp3-running-text kbd, .bp3-running-text .bp3-dark kbd, .bp3-dark .bp3-key{
    background:#394b59;
    -webkit-box-shadow:0 0 0 1px rgba(16, 22, 26, 0.2), 0 0 0 rgba(16, 22, 26, 0), 0 1px 1px rgba(16, 22, 26, 0.4);
            box-shadow:0 0 0 1px rgba(16, 22, 26, 0.2), 0 0 0 rgba(16, 22, 26, 0), 0 1px 1px rgba(16, 22, 26, 0.4);
    color:#a7b6c2; }
.bp3-running-text blockquote, .bp3-blockquote{
  border-left:solid 4px rgba(167, 182, 194, 0.5);
  margin:0 0 10px;
  padding:0 20px; }
  .bp3-dark .bp3-running-text blockquote, .bp3-running-text .bp3-dark blockquote, .bp3-dark .bp3-blockquote{
    border-color:rgba(115, 134, 148, 0.5); }
.bp3-running-text ul,
.bp3-running-text ol, .bp3-list{
  margin:10px 0;
  padding-left:30px; }
  .bp3-running-text ul li:not(:last-child), .bp3-running-text ol li:not(:last-child), .bp3-list li:not(:last-child){
    margin-bottom:5px; }
  .bp3-running-text ul ol, .bp3-running-text ol ol, .bp3-list ol,
  .bp3-running-text ul ul,
  .bp3-running-text ol ul,
  .bp3-list ul{
    margin-top:5px; }

.bp3-list-unstyled{
  list-style:none;
  margin:0;
  padding:0; }
  .bp3-list-unstyled li{
    padding:0; }
.bp3-rtl{
  text-align:right; }

.bp3-dark{
  color:#f5f8fa; }

:focus{
  outline:rgba(19, 124, 189, 0.6) auto 2px;
  outline-offset:2px;
  -moz-outline-radius:6px; }

.bp3-focus-disabled :focus{
  outline:none !important; }
  .bp3-focus-disabled :focus ~ .bp3-control-indicator{
    outline:none !important; }

.bp3-alert{
  max-width:400px;
  padding:20px; }

.bp3-alert-body{
  display:-webkit-box;
  display:-ms-flexbox;
  display:flex; }
  .bp3-alert-body .bp3-icon{
    font-size:40px;
    margin-right:20px;
    margin-top:0; }

.bp3-alert-contents{
  word-break:break-word; }

.bp3-alert-footer{
  display:-webkit-box;
  display:-ms-flexbox;
  display:flex;
  -webkit-box-orient:horizontal;
  -webkit-box-direction:reverse;
      -ms-flex-direction:row-reverse;
          flex-direction:row-reverse;
  margin-top:10px; }
  .bp3-alert-footer .bp3-button{
    margin-left:10px; }
.bp3-breadcrumbs{
  -webkit-box-align:center;
      -ms-flex-align:center;
          align-items:center;
  cursor:default;
  display:-webkit-box;
  display:-ms-flexbox;
  display:flex;
  -ms-flex-wrap:wrap;
      flex-wrap:wrap;
  height:30px;
  list-style:none;
  margin:0;
  padding:0; }
  .bp3-breadcrumbs > li{
    -webkit-box-align:center;
        -ms-flex-align:center;
            align-items:center;
    display:-webkit-box;
    display:-ms-flexbox;
    display:flex; }
    .bp3-breadcrumbs > li::after{
      background:url("data:image/svg+xml,%3csvg xmlns='http://www.w3.org/2000/svg' viewBox='0 0 16 16'%3e%3cpath fill-rule='evenodd' clip-rule='evenodd' d='M10.71 7.29l-4-4a1.003 1.003 0 00-1.42 1.42L8.59 8 5.3 11.29c-.19.18-.3.43-.3.71a1.003 1.003 0 001.71.71l4-4c.18-.18.29-.43.29-.71 0-.28-.11-.53-.29-.71z' fill='%235C7080'/%3e%3c/svg%3e");
      content:"";
      display:block;
      height:16px;
      margin:0 5px;
      width:16px; }
    .bp3-breadcrumbs > li:last-of-type::after{
      display:none; }

.bp3-breadcrumb,
.bp3-breadcrumb-current,
.bp3-breadcrumbs-collapsed{
  -webkit-box-align:center;
      -ms-flex-align:center;
          align-items:center;
  display:-webkit-inline-box;
  display:-ms-inline-flexbox;
  display:inline-flex;
  font-size:16px; }

.bp3-breadcrumb,
.bp3-breadcrumbs-collapsed{
  color:#5c7080; }

.bp3-breadcrumb:hover{
  text-decoration:none; }

.bp3-breadcrumb.bp3-disabled{
  color:rgba(92, 112, 128, 0.6);
  cursor:not-allowed; }

.bp3-breadcrumb .bp3-icon{
  margin-right:5px; }

.bp3-breadcrumb-current{
  color:inherit;
  font-weight:600; }
  .bp3-breadcrumb-current .bp3-input{
    font-size:inherit;
    font-weight:inherit;
    vertical-align:baseline; }

.bp3-breadcrumbs-collapsed{
  background:#ced9e0;
  border:none;
  border-radius:3px;
  cursor:pointer;
  margin-right:2px;
  padding:1px 5px;
  vertical-align:text-bottom; }
  .bp3-breadcrumbs-collapsed::before{
    background:url("data:image/svg+xml,%3csvg xmlns='http://www.w3.org/2000/svg' viewBox='0 0 16 16'%3e%3cg fill='%235C7080'%3e%3ccircle cx='2' cy='8.03' r='2'/%3e%3ccircle cx='14' cy='8.03' r='2'/%3e%3ccircle cx='8' cy='8.03' r='2'/%3e%3c/g%3e%3c/svg%3e") center no-repeat;
    content:"";
    display:block;
    height:16px;
    width:16px; }
  .bp3-breadcrumbs-collapsed:hover{
    background:#bfccd6;
    color:#182026;
    text-decoration:none; }

.bp3-dark .bp3-breadcrumb,
.bp3-dark .bp3-breadcrumbs-collapsed{
  color:#a7b6c2; }

.bp3-dark .bp3-breadcrumbs > li::after{
  color:#a7b6c2; }

.bp3-dark .bp3-breadcrumb.bp3-disabled{
  color:rgba(167, 182, 194, 0.6); }

.bp3-dark .bp3-breadcrumb-current{
  color:#f5f8fa; }

.bp3-dark .bp3-breadcrumbs-collapsed{
  background:rgba(16, 22, 26, 0.4); }
  .bp3-dark .bp3-breadcrumbs-collapsed:hover{
    background:rgba(16, 22, 26, 0.6);
    color:#f5f8fa; }
.bp3-button{
  display:-webkit-inline-box;
  display:-ms-inline-flexbox;
  display:inline-flex;
  -webkit-box-orient:horizontal;
  -webkit-box-direction:normal;
      -ms-flex-direction:row;
          flex-direction:row;
  -webkit-box-align:center;
      -ms-flex-align:center;
          align-items:center;
  border:none;
  border-radius:3px;
  cursor:pointer;
  font-size:14px;
  -webkit-box-pack:center;
      -ms-flex-pack:center;
          justify-content:center;
  padding:5px 10px;
  text-align:left;
  vertical-align:middle;
  min-height:30px;
  min-width:30px; }
  .bp3-button > *{
    -webkit-box-flex:0;
        -ms-flex-positive:0;
            flex-grow:0;
    -ms-flex-negative:0;
        flex-shrink:0; }
  .bp3-button > .bp3-fill{
    -webkit-box-flex:1;
        -ms-flex-positive:1;
            flex-grow:1;
    -ms-flex-negative:1;
        flex-shrink:1; }
  .bp3-button::before,
  .bp3-button > *{
    margin-right:7px; }
  .bp3-button:empty::before,
  .bp3-button > :last-child{
    margin-right:0; }
  .bp3-button:empty{
    padding:0 !important; }
  .bp3-button:disabled, .bp3-button.bp3-disabled{
    cursor:not-allowed; }
  .bp3-button.bp3-fill{
    display:-webkit-box;
    display:-ms-flexbox;
    display:flex;
    width:100%; }
  .bp3-button.bp3-align-right,
  .bp3-align-right .bp3-button{
    text-align:right; }
  .bp3-button.bp3-align-left,
  .bp3-align-left .bp3-button{
    text-align:left; }
  .bp3-button:not([class*="bp3-intent-"]){
    background-color:#f5f8fa;
    background-image:-webkit-gradient(linear, left top, left bottom, from(rgba(255, 255, 255, 0.8)), to(rgba(255, 255, 255, 0)));
    background-image:linear-gradient(to bottom, rgba(255, 255, 255, 0.8), rgba(255, 255, 255, 0));
    -webkit-box-shadow:inset 0 0 0 1px rgba(16, 22, 26, 0.2), inset 0 -1px 0 rgba(16, 22, 26, 0.1);
            box-shadow:inset 0 0 0 1px rgba(16, 22, 26, 0.2), inset 0 -1px 0 rgba(16, 22, 26, 0.1);
    color:#182026; }
    .bp3-button:not([class*="bp3-intent-"]):hover{
      background-clip:padding-box;
      background-color:#ebf1f5;
      -webkit-box-shadow:inset 0 0 0 1px rgba(16, 22, 26, 0.2), inset 0 -1px 0 rgba(16, 22, 26, 0.1);
              box-shadow:inset 0 0 0 1px rgba(16, 22, 26, 0.2), inset 0 -1px 0 rgba(16, 22, 26, 0.1); }
    .bp3-button:not([class*="bp3-intent-"]):active, .bp3-button:not([class*="bp3-intent-"]).bp3-active{
      background-color:#d8e1e8;
      background-image:none;
      -webkit-box-shadow:inset 0 0 0 1px rgba(16, 22, 26, 0.2), inset 0 1px 2px rgba(16, 22, 26, 0.2);
              box-shadow:inset 0 0 0 1px rgba(16, 22, 26, 0.2), inset 0 1px 2px rgba(16, 22, 26, 0.2); }
    .bp3-button:not([class*="bp3-intent-"]):disabled, .bp3-button:not([class*="bp3-intent-"]).bp3-disabled{
      background-color:rgba(206, 217, 224, 0.5);
      background-image:none;
      -webkit-box-shadow:none;
              box-shadow:none;
      color:rgba(92, 112, 128, 0.6);
      cursor:not-allowed;
      outline:none; }
      .bp3-button:not([class*="bp3-intent-"]):disabled.bp3-active, .bp3-button:not([class*="bp3-intent-"]):disabled.bp3-active:hover, .bp3-button:not([class*="bp3-intent-"]).bp3-disabled.bp3-active, .bp3-button:not([class*="bp3-intent-"]).bp3-disabled.bp3-active:hover{
        background:rgba(206, 217, 224, 0.7); }
  .bp3-button.bp3-intent-primary{
    background-color:#137cbd;
    background-image:-webkit-gradient(linear, left top, left bottom, from(rgba(255, 255, 255, 0.1)), to(rgba(255, 255, 255, 0)));
    background-image:linear-gradient(to bottom, rgba(255, 255, 255, 0.1), rgba(255, 255, 255, 0));
    -webkit-box-shadow:inset 0 0 0 1px rgba(16, 22, 26, 0.4), inset 0 -1px 0 rgba(16, 22, 26, 0.2);
            box-shadow:inset 0 0 0 1px rgba(16, 22, 26, 0.4), inset 0 -1px 0 rgba(16, 22, 26, 0.2);
    color:#ffffff; }
    .bp3-button.bp3-intent-primary:hover, .bp3-button.bp3-intent-primary:active, .bp3-button.bp3-intent-primary.bp3-active{
      color:#ffffff; }
    .bp3-button.bp3-intent-primary:hover{
      background-color:#106ba3;
      -webkit-box-shadow:inset 0 0 0 1px rgba(16, 22, 26, 0.4), inset 0 -1px 0 rgba(16, 22, 26, 0.2);
              box-shadow:inset 0 0 0 1px rgba(16, 22, 26, 0.4), inset 0 -1px 0 rgba(16, 22, 26, 0.2); }
    .bp3-button.bp3-intent-primary:active, .bp3-button.bp3-intent-primary.bp3-active{
      background-color:#0e5a8a;
      background-image:none;
      -webkit-box-shadow:inset 0 0 0 1px rgba(16, 22, 26, 0.4), inset 0 1px 2px rgba(16, 22, 26, 0.2);
              box-shadow:inset 0 0 0 1px rgba(16, 22, 26, 0.4), inset 0 1px 2px rgba(16, 22, 26, 0.2); }
    .bp3-button.bp3-intent-primary:disabled, .bp3-button.bp3-intent-primary.bp3-disabled{
      background-color:rgba(19, 124, 189, 0.5);
      background-image:none;
      border-color:transparent;
      -webkit-box-shadow:none;
              box-shadow:none;
      color:rgba(255, 255, 255, 0.6); }
  .bp3-button.bp3-intent-success{
    background-color:#0f9960;
    background-image:-webkit-gradient(linear, left top, left bottom, from(rgba(255, 255, 255, 0.1)), to(rgba(255, 255, 255, 0)));
    background-image:linear-gradient(to bottom, rgba(255, 255, 255, 0.1), rgba(255, 255, 255, 0));
    -webkit-box-shadow:inset 0 0 0 1px rgba(16, 22, 26, 0.4), inset 0 -1px 0 rgba(16, 22, 26, 0.2);
            box-shadow:inset 0 0 0 1px rgba(16, 22, 26, 0.4), inset 0 -1px 0 rgba(16, 22, 26, 0.2);
    color:#ffffff; }
    .bp3-button.bp3-intent-success:hover, .bp3-button.bp3-intent-success:active, .bp3-button.bp3-intent-success.bp3-active{
      color:#ffffff; }
    .bp3-button.bp3-intent-success:hover{
      background-color:#0d8050;
      -webkit-box-shadow:inset 0 0 0 1px rgba(16, 22, 26, 0.4), inset 0 -1px 0 rgba(16, 22, 26, 0.2);
              box-shadow:inset 0 0 0 1px rgba(16, 22, 26, 0.4), inset 0 -1px 0 rgba(16, 22, 26, 0.2); }
    .bp3-button.bp3-intent-success:active, .bp3-button.bp3-intent-success.bp3-active{
      background-color:#0a6640;
      background-image:none;
      -webkit-box-shadow:inset 0 0 0 1px rgba(16, 22, 26, 0.4), inset 0 1px 2px rgba(16, 22, 26, 0.2);
              box-shadow:inset 0 0 0 1px rgba(16, 22, 26, 0.4), inset 0 1px 2px rgba(16, 22, 26, 0.2); }
    .bp3-button.bp3-intent-success:disabled, .bp3-button.bp3-intent-success.bp3-disabled{
      background-color:rgba(15, 153, 96, 0.5);
      background-image:none;
      border-color:transparent;
      -webkit-box-shadow:none;
              box-shadow:none;
      color:rgba(255, 255, 255, 0.6); }
  .bp3-button.bp3-intent-warning{
    background-color:#d9822b;
    background-image:-webkit-gradient(linear, left top, left bottom, from(rgba(255, 255, 255, 0.1)), to(rgba(255, 255, 255, 0)));
    background-image:linear-gradient(to bottom, rgba(255, 255, 255, 0.1), rgba(255, 255, 255, 0));
    -webkit-box-shadow:inset 0 0 0 1px rgba(16, 22, 26, 0.4), inset 0 -1px 0 rgba(16, 22, 26, 0.2);
            box-shadow:inset 0 0 0 1px rgba(16, 22, 26, 0.4), inset 0 -1px 0 rgba(16, 22, 26, 0.2);
    color:#ffffff; }
    .bp3-button.bp3-intent-warning:hover, .bp3-button.bp3-intent-warning:active, .bp3-button.bp3-intent-warning.bp3-active{
      color:#ffffff; }
    .bp3-button.bp3-intent-warning:hover{
      background-color:#bf7326;
      -webkit-box-shadow:inset 0 0 0 1px rgba(16, 22, 26, 0.4), inset 0 -1px 0 rgba(16, 22, 26, 0.2);
              box-shadow:inset 0 0 0 1px rgba(16, 22, 26, 0.4), inset 0 -1px 0 rgba(16, 22, 26, 0.2); }
    .bp3-button.bp3-intent-warning:active, .bp3-button.bp3-intent-warning.bp3-active{
      background-color:#a66321;
      background-image:none;
      -webkit-box-shadow:inset 0 0 0 1px rgba(16, 22, 26, 0.4), inset 0 1px 2px rgba(16, 22, 26, 0.2);
              box-shadow:inset 0 0 0 1px rgba(16, 22, 26, 0.4), inset 0 1px 2px rgba(16, 22, 26, 0.2); }
    .bp3-button.bp3-intent-warning:disabled, .bp3-button.bp3-intent-warning.bp3-disabled{
      background-color:rgba(217, 130, 43, 0.5);
      background-image:none;
      border-color:transparent;
      -webkit-box-shadow:none;
              box-shadow:none;
      color:rgba(255, 255, 255, 0.6); }
  .bp3-button.bp3-intent-danger{
    background-color:#db3737;
    background-image:-webkit-gradient(linear, left top, left bottom, from(rgba(255, 255, 255, 0.1)), to(rgba(255, 255, 255, 0)));
    background-image:linear-gradient(to bottom, rgba(255, 255, 255, 0.1), rgba(255, 255, 255, 0));
    -webkit-box-shadow:inset 0 0 0 1px rgba(16, 22, 26, 0.4), inset 0 -1px 0 rgba(16, 22, 26, 0.2);
            box-shadow:inset 0 0 0 1px rgba(16, 22, 26, 0.4), inset 0 -1px 0 rgba(16, 22, 26, 0.2);
    color:#ffffff; }
    .bp3-button.bp3-intent-danger:hover, .bp3-button.bp3-intent-danger:active, .bp3-button.bp3-intent-danger.bp3-active{
      color:#ffffff; }
    .bp3-button.bp3-intent-danger:hover{
      background-color:#c23030;
      -webkit-box-shadow:inset 0 0 0 1px rgba(16, 22, 26, 0.4), inset 0 -1px 0 rgba(16, 22, 26, 0.2);
              box-shadow:inset 0 0 0 1px rgba(16, 22, 26, 0.4), inset 0 -1px 0 rgba(16, 22, 26, 0.2); }
    .bp3-button.bp3-intent-danger:active, .bp3-button.bp3-intent-danger.bp3-active{
      background-color:#a82a2a;
      background-image:none;
      -webkit-box-shadow:inset 0 0 0 1px rgba(16, 22, 26, 0.4), inset 0 1px 2px rgba(16, 22, 26, 0.2);
              box-shadow:inset 0 0 0 1px rgba(16, 22, 26, 0.4), inset 0 1px 2px rgba(16, 22, 26, 0.2); }
    .bp3-button.bp3-intent-danger:disabled, .bp3-button.bp3-intent-danger.bp3-disabled{
      background-color:rgba(219, 55, 55, 0.5);
      background-image:none;
      border-color:transparent;
      -webkit-box-shadow:none;
              box-shadow:none;
      color:rgba(255, 255, 255, 0.6); }
  .bp3-button[class*="bp3-intent-"] .bp3-button-spinner .bp3-spinner-head{
    stroke:#ffffff; }
  .bp3-button.bp3-large,
  .bp3-large .bp3-button{
    min-height:40px;
    min-width:40px;
    font-size:16px;
    padding:5px 15px; }
    .bp3-button.bp3-large::before,
    .bp3-button.bp3-large > *,
    .bp3-large .bp3-button::before,
    .bp3-large .bp3-button > *{
      margin-right:10px; }
    .bp3-button.bp3-large:empty::before,
    .bp3-button.bp3-large > :last-child,
    .bp3-large .bp3-button:empty::before,
    .bp3-large .bp3-button > :last-child{
      margin-right:0; }
  .bp3-button.bp3-small,
  .bp3-small .bp3-button{
    min-height:24px;
    min-width:24px;
    padding:0 7px; }
  .bp3-button.bp3-loading{
    position:relative; }
    .bp3-button.bp3-loading[class*="bp3-icon-"]::before{
      visibility:hidden; }
    .bp3-button.bp3-loading .bp3-button-spinner{
      margin:0;
      position:absolute; }
    .bp3-button.bp3-loading > :not(.bp3-button-spinner){
      visibility:hidden; }
  .bp3-button[class*="bp3-icon-"]::before{
    font-family:"Icons16", sans-serif;
    font-size:16px;
    font-style:normal;
    font-weight:400;
    line-height:1;
    -moz-osx-font-smoothing:grayscale;
    -webkit-font-smoothing:antialiased;
    color:#5c7080; }
  .bp3-button .bp3-icon, .bp3-button .bp3-icon-standard, .bp3-button .bp3-icon-large{
    color:#5c7080; }
    .bp3-button .bp3-icon.bp3-align-right, .bp3-button .bp3-icon-standard.bp3-align-right, .bp3-button .bp3-icon-large.bp3-align-right{
      margin-left:7px; }
  .bp3-button .bp3-icon:first-child:last-child,
  .bp3-button .bp3-spinner + .bp3-icon:last-child{
    margin:0 -7px; }
  .bp3-dark .bp3-button:not([class*="bp3-intent-"]){
    background-color:#394b59;
    background-image:-webkit-gradient(linear, left top, left bottom, from(rgba(255, 255, 255, 0.05)), to(rgba(255, 255, 255, 0)));
    background-image:linear-gradient(to bottom, rgba(255, 255, 255, 0.05), rgba(255, 255, 255, 0));
    -webkit-box-shadow:0 0 0 1px rgba(16, 22, 26, 0.4);
            box-shadow:0 0 0 1px rgba(16, 22, 26, 0.4);
    color:#f5f8fa; }
    .bp3-dark .bp3-button:not([class*="bp3-intent-"]):hover, .bp3-dark .bp3-button:not([class*="bp3-intent-"]):active, .bp3-dark .bp3-button:not([class*="bp3-intent-"]).bp3-active{
      color:#f5f8fa; }
    .bp3-dark .bp3-button:not([class*="bp3-intent-"]):hover{
      background-color:#30404d;
      -webkit-box-shadow:0 0 0 1px rgba(16, 22, 26, 0.4);
              box-shadow:0 0 0 1px rgba(16, 22, 26, 0.4); }
    .bp3-dark .bp3-button:not([class*="bp3-intent-"]):active, .bp3-dark .bp3-button:not([class*="bp3-intent-"]).bp3-active{
      background-color:#202b33;
      background-image:none;
      -webkit-box-shadow:0 0 0 1px rgba(16, 22, 26, 0.6), inset 0 1px 2px rgba(16, 22, 26, 0.2);
              box-shadow:0 0 0 1px rgba(16, 22, 26, 0.6), inset 0 1px 2px rgba(16, 22, 26, 0.2); }
    .bp3-dark .bp3-button:not([class*="bp3-intent-"]):disabled, .bp3-dark .bp3-button:not([class*="bp3-intent-"]).bp3-disabled{
      background-color:rgba(57, 75, 89, 0.5);
      background-image:none;
      -webkit-box-shadow:none;
              box-shadow:none;
      color:rgba(167, 182, 194, 0.6); }
      .bp3-dark .bp3-button:not([class*="bp3-intent-"]):disabled.bp3-active, .bp3-dark .bp3-button:not([class*="bp3-intent-"]).bp3-disabled.bp3-active{
        background:rgba(57, 75, 89, 0.7); }
    .bp3-dark .bp3-button:not([class*="bp3-intent-"]) .bp3-button-spinner .bp3-spinner-head{
      background:rgba(16, 22, 26, 0.5);
      stroke:#8a9ba8; }
    .bp3-dark .bp3-button:not([class*="bp3-intent-"])[class*="bp3-icon-"]::before{
      color:#a7b6c2; }
    .bp3-dark .bp3-button:not([class*="bp3-intent-"]) .bp3-icon, .bp3-dark .bp3-button:not([class*="bp3-intent-"]) .bp3-icon-standard, .bp3-dark .bp3-button:not([class*="bp3-intent-"]) .bp3-icon-large{
      color:#a7b6c2; }
  .bp3-dark .bp3-button[class*="bp3-intent-"]{
    -webkit-box-shadow:0 0 0 1px rgba(16, 22, 26, 0.4);
            box-shadow:0 0 0 1px rgba(16, 22, 26, 0.4); }
    .bp3-dark .bp3-button[class*="bp3-intent-"]:hover{
      -webkit-box-shadow:0 0 0 1px rgba(16, 22, 26, 0.4);
              box-shadow:0 0 0 1px rgba(16, 22, 26, 0.4); }
    .bp3-dark .bp3-button[class*="bp3-intent-"]:active, .bp3-dark .bp3-button[class*="bp3-intent-"].bp3-active{
      -webkit-box-shadow:0 0 0 1px rgba(16, 22, 26, 0.4), inset 0 1px 2px rgba(16, 22, 26, 0.2);
              box-shadow:0 0 0 1px rgba(16, 22, 26, 0.4), inset 0 1px 2px rgba(16, 22, 26, 0.2); }
    .bp3-dark .bp3-button[class*="bp3-intent-"]:disabled, .bp3-dark .bp3-button[class*="bp3-intent-"].bp3-disabled{
      background-image:none;
      -webkit-box-shadow:none;
              box-shadow:none;
      color:rgba(255, 255, 255, 0.3); }
    .bp3-dark .bp3-button[class*="bp3-intent-"] .bp3-button-spinner .bp3-spinner-head{
      stroke:#8a9ba8; }
  .bp3-button:disabled::before,
  .bp3-button:disabled .bp3-icon, .bp3-button:disabled .bp3-icon-standard, .bp3-button:disabled .bp3-icon-large, .bp3-button.bp3-disabled::before,
  .bp3-button.bp3-disabled .bp3-icon, .bp3-button.bp3-disabled .bp3-icon-standard, .bp3-button.bp3-disabled .bp3-icon-large, .bp3-button[class*="bp3-intent-"]::before,
  .bp3-button[class*="bp3-intent-"] .bp3-icon, .bp3-button[class*="bp3-intent-"] .bp3-icon-standard, .bp3-button[class*="bp3-intent-"] .bp3-icon-large{
    color:inherit !important; }
  .bp3-button.bp3-minimal{
    background:none;
    -webkit-box-shadow:none;
            box-shadow:none; }
    .bp3-button.bp3-minimal:hover{
      background:rgba(167, 182, 194, 0.3);
      -webkit-box-shadow:none;
              box-shadow:none;
      color:#182026;
      text-decoration:none; }
    .bp3-button.bp3-minimal:active, .bp3-button.bp3-minimal.bp3-active{
      background:rgba(115, 134, 148, 0.3);
      -webkit-box-shadow:none;
              box-shadow:none;
      color:#182026; }
    .bp3-button.bp3-minimal:disabled, .bp3-button.bp3-minimal:disabled:hover, .bp3-button.bp3-minimal.bp3-disabled, .bp3-button.bp3-minimal.bp3-disabled:hover{
      background:none;
      color:rgba(92, 112, 128, 0.6);
      cursor:not-allowed; }
      .bp3-button.bp3-minimal:disabled.bp3-active, .bp3-button.bp3-minimal:disabled:hover.bp3-active, .bp3-button.bp3-minimal.bp3-disabled.bp3-active, .bp3-button.bp3-minimal.bp3-disabled:hover.bp3-active{
        background:rgba(115, 134, 148, 0.3); }
    .bp3-dark .bp3-button.bp3-minimal{
      background:none;
      -webkit-box-shadow:none;
              box-shadow:none;
      color:inherit; }
      .bp3-dark .bp3-button.bp3-minimal:hover, .bp3-dark .bp3-button.bp3-minimal:active, .bp3-dark .bp3-button.bp3-minimal.bp3-active{
        background:none;
        -webkit-box-shadow:none;
                box-shadow:none; }
      .bp3-dark .bp3-button.bp3-minimal:hover{
        background:rgba(138, 155, 168, 0.15); }
      .bp3-dark .bp3-button.bp3-minimal:active, .bp3-dark .bp3-button.bp3-minimal.bp3-active{
        background:rgba(138, 155, 168, 0.3);
        color:#f5f8fa; }
      .bp3-dark .bp3-button.bp3-minimal:disabled, .bp3-dark .bp3-button.bp3-minimal:disabled:hover, .bp3-dark .bp3-button.bp3-minimal.bp3-disabled, .bp3-dark .bp3-button.bp3-minimal.bp3-disabled:hover{
        background:none;
        color:rgba(167, 182, 194, 0.6);
        cursor:not-allowed; }
        .bp3-dark .bp3-button.bp3-minimal:disabled.bp3-active, .bp3-dark .bp3-button.bp3-minimal:disabled:hover.bp3-active, .bp3-dark .bp3-button.bp3-minimal.bp3-disabled.bp3-active, .bp3-dark .bp3-button.bp3-minimal.bp3-disabled:hover.bp3-active{
          background:rgba(138, 155, 168, 0.3); }
    .bp3-button.bp3-minimal.bp3-intent-primary{
      color:#106ba3; }
      .bp3-button.bp3-minimal.bp3-intent-primary:hover, .bp3-button.bp3-minimal.bp3-intent-primary:active, .bp3-button.bp3-minimal.bp3-intent-primary.bp3-active{
        background:none;
        -webkit-box-shadow:none;
                box-shadow:none;
        color:#106ba3; }
      .bp3-button.bp3-minimal.bp3-intent-primary:hover{
        background:rgba(19, 124, 189, 0.15);
        color:#106ba3; }
      .bp3-button.bp3-minimal.bp3-intent-primary:active, .bp3-button.bp3-minimal.bp3-intent-primary.bp3-active{
        background:rgba(19, 124, 189, 0.3);
        color:#106ba3; }
      .bp3-button.bp3-minimal.bp3-intent-primary:disabled, .bp3-button.bp3-minimal.bp3-intent-primary.bp3-disabled{
        background:none;
        color:rgba(16, 107, 163, 0.5); }
        .bp3-button.bp3-minimal.bp3-intent-primary:disabled.bp3-active, .bp3-button.bp3-minimal.bp3-intent-primary.bp3-disabled.bp3-active{
          background:rgba(19, 124, 189, 0.3); }
      .bp3-button.bp3-minimal.bp3-intent-primary .bp3-button-spinner .bp3-spinner-head{
        stroke:#106ba3; }
      .bp3-dark .bp3-button.bp3-minimal.bp3-intent-primary{
        color:#48aff0; }
        .bp3-dark .bp3-button.bp3-minimal.bp3-intent-primary:hover{
          background:rgba(19, 124, 189, 0.2);
          color:#48aff0; }
        .bp3-dark .bp3-button.bp3-minimal.bp3-intent-primary:active, .bp3-dark .bp3-button.bp3-minimal.bp3-intent-primary.bp3-active{
          background:rgba(19, 124, 189, 0.3);
          color:#48aff0; }
        .bp3-dark .bp3-button.bp3-minimal.bp3-intent-primary:disabled, .bp3-dark .bp3-button.bp3-minimal.bp3-intent-primary.bp3-disabled{
          background:none;
          color:rgba(72, 175, 240, 0.5); }
          .bp3-dark .bp3-button.bp3-minimal.bp3-intent-primary:disabled.bp3-active, .bp3-dark .bp3-button.bp3-minimal.bp3-intent-primary.bp3-disabled.bp3-active{
            background:rgba(19, 124, 189, 0.3); }
    .bp3-button.bp3-minimal.bp3-intent-success{
      color:#0d8050; }
      .bp3-button.bp3-minimal.bp3-intent-success:hover, .bp3-button.bp3-minimal.bp3-intent-success:active, .bp3-button.bp3-minimal.bp3-intent-success.bp3-active{
        background:none;
        -webkit-box-shadow:none;
                box-shadow:none;
        color:#0d8050; }
      .bp3-button.bp3-minimal.bp3-intent-success:hover{
        background:rgba(15, 153, 96, 0.15);
        color:#0d8050; }
      .bp3-button.bp3-minimal.bp3-intent-success:active, .bp3-button.bp3-minimal.bp3-intent-success.bp3-active{
        background:rgba(15, 153, 96, 0.3);
        color:#0d8050; }
      .bp3-button.bp3-minimal.bp3-intent-success:disabled, .bp3-button.bp3-minimal.bp3-intent-success.bp3-disabled{
        background:none;
        color:rgba(13, 128, 80, 0.5); }
        .bp3-button.bp3-minimal.bp3-intent-success:disabled.bp3-active, .bp3-button.bp3-minimal.bp3-intent-success.bp3-disabled.bp3-active{
          background:rgba(15, 153, 96, 0.3); }
      .bp3-button.bp3-minimal.bp3-intent-success .bp3-button-spinner .bp3-spinner-head{
        stroke:#0d8050; }
      .bp3-dark .bp3-button.bp3-minimal.bp3-intent-success{
        color:#3dcc91; }
        .bp3-dark .bp3-button.bp3-minimal.bp3-intent-success:hover{
          background:rgba(15, 153, 96, 0.2);
          color:#3dcc91; }
        .bp3-dark .bp3-button.bp3-minimal.bp3-intent-success:active, .bp3-dark .bp3-button.bp3-minimal.bp3-intent-success.bp3-active{
          background:rgba(15, 153, 96, 0.3);
          color:#3dcc91; }
        .bp3-dark .bp3-button.bp3-minimal.bp3-intent-success:disabled, .bp3-dark .bp3-button.bp3-minimal.bp3-intent-success.bp3-disabled{
          background:none;
          color:rgba(61, 204, 145, 0.5); }
          .bp3-dark .bp3-button.bp3-minimal.bp3-intent-success:disabled.bp3-active, .bp3-dark .bp3-button.bp3-minimal.bp3-intent-success.bp3-disabled.bp3-active{
            background:rgba(15, 153, 96, 0.3); }
    .bp3-button.bp3-minimal.bp3-intent-warning{
      color:#bf7326; }
      .bp3-button.bp3-minimal.bp3-intent-warning:hover, .bp3-button.bp3-minimal.bp3-intent-warning:active, .bp3-button.bp3-minimal.bp3-intent-warning.bp3-active{
        background:none;
        -webkit-box-shadow:none;
                box-shadow:none;
        color:#bf7326; }
      .bp3-button.bp3-minimal.bp3-intent-warning:hover{
        background:rgba(217, 130, 43, 0.15);
        color:#bf7326; }
      .bp3-button.bp3-minimal.bp3-intent-warning:active, .bp3-button.bp3-minimal.bp3-intent-warning.bp3-active{
        background:rgba(217, 130, 43, 0.3);
        color:#bf7326; }
      .bp3-button.bp3-minimal.bp3-intent-warning:disabled, .bp3-button.bp3-minimal.bp3-intent-warning.bp3-disabled{
        background:none;
        color:rgba(191, 115, 38, 0.5); }
        .bp3-button.bp3-minimal.bp3-intent-warning:disabled.bp3-active, .bp3-button.bp3-minimal.bp3-intent-warning.bp3-disabled.bp3-active{
          background:rgba(217, 130, 43, 0.3); }
      .bp3-button.bp3-minimal.bp3-intent-warning .bp3-button-spinner .bp3-spinner-head{
        stroke:#bf7326; }
      .bp3-dark .bp3-button.bp3-minimal.bp3-intent-warning{
        color:#ffb366; }
        .bp3-dark .bp3-button.bp3-minimal.bp3-intent-warning:hover{
          background:rgba(217, 130, 43, 0.2);
          color:#ffb366; }
        .bp3-dark .bp3-button.bp3-minimal.bp3-intent-warning:active, .bp3-dark .bp3-button.bp3-minimal.bp3-intent-warning.bp3-active{
          background:rgba(217, 130, 43, 0.3);
          color:#ffb366; }
        .bp3-dark .bp3-button.bp3-minimal.bp3-intent-warning:disabled, .bp3-dark .bp3-button.bp3-minimal.bp3-intent-warning.bp3-disabled{
          background:none;
          color:rgba(255, 179, 102, 0.5); }
          .bp3-dark .bp3-button.bp3-minimal.bp3-intent-warning:disabled.bp3-active, .bp3-dark .bp3-button.bp3-minimal.bp3-intent-warning.bp3-disabled.bp3-active{
            background:rgba(217, 130, 43, 0.3); }
    .bp3-button.bp3-minimal.bp3-intent-danger{
      color:#c23030; }
      .bp3-button.bp3-minimal.bp3-intent-danger:hover, .bp3-button.bp3-minimal.bp3-intent-danger:active, .bp3-button.bp3-minimal.bp3-intent-danger.bp3-active{
        background:none;
        -webkit-box-shadow:none;
                box-shadow:none;
        color:#c23030; }
      .bp3-button.bp3-minimal.bp3-intent-danger:hover{
        background:rgba(219, 55, 55, 0.15);
        color:#c23030; }
      .bp3-button.bp3-minimal.bp3-intent-danger:active, .bp3-button.bp3-minimal.bp3-intent-danger.bp3-active{
        background:rgba(219, 55, 55, 0.3);
        color:#c23030; }
      .bp3-button.bp3-minimal.bp3-intent-danger:disabled, .bp3-button.bp3-minimal.bp3-intent-danger.bp3-disabled{
        background:none;
        color:rgba(194, 48, 48, 0.5); }
        .bp3-button.bp3-minimal.bp3-intent-danger:disabled.bp3-active, .bp3-button.bp3-minimal.bp3-intent-danger.bp3-disabled.bp3-active{
          background:rgba(219, 55, 55, 0.3); }
      .bp3-button.bp3-minimal.bp3-intent-danger .bp3-button-spinner .bp3-spinner-head{
        stroke:#c23030; }
      .bp3-dark .bp3-button.bp3-minimal.bp3-intent-danger{
        color:#ff7373; }
        .bp3-dark .bp3-button.bp3-minimal.bp3-intent-danger:hover{
          background:rgba(219, 55, 55, 0.2);
          color:#ff7373; }
        .bp3-dark .bp3-button.bp3-minimal.bp3-intent-danger:active, .bp3-dark .bp3-button.bp3-minimal.bp3-intent-danger.bp3-active{
          background:rgba(219, 55, 55, 0.3);
          color:#ff7373; }
        .bp3-dark .bp3-button.bp3-minimal.bp3-intent-danger:disabled, .bp3-dark .bp3-button.bp3-minimal.bp3-intent-danger.bp3-disabled{
          background:none;
          color:rgba(255, 115, 115, 0.5); }
          .bp3-dark .bp3-button.bp3-minimal.bp3-intent-danger:disabled.bp3-active, .bp3-dark .bp3-button.bp3-minimal.bp3-intent-danger.bp3-disabled.bp3-active{
            background:rgba(219, 55, 55, 0.3); }
  .bp3-button.bp3-outlined{
    background:none;
    -webkit-box-shadow:none;
            box-shadow:none;
    border:1px solid rgba(24, 32, 38, 0.2);
    -webkit-box-sizing:border-box;
            box-sizing:border-box; }
    .bp3-button.bp3-outlined:hover{
      background:rgba(167, 182, 194, 0.3);
      -webkit-box-shadow:none;
              box-shadow:none;
      color:#182026;
      text-decoration:none; }
    .bp3-button.bp3-outlined:active, .bp3-button.bp3-outlined.bp3-active{
      background:rgba(115, 134, 148, 0.3);
      -webkit-box-shadow:none;
              box-shadow:none;
      color:#182026; }
    .bp3-button.bp3-outlined:disabled, .bp3-button.bp3-outlined:disabled:hover, .bp3-button.bp3-outlined.bp3-disabled, .bp3-button.bp3-outlined.bp3-disabled:hover{
      background:none;
      color:rgba(92, 112, 128, 0.6);
      cursor:not-allowed; }
      .bp3-button.bp3-outlined:disabled.bp3-active, .bp3-button.bp3-outlined:disabled:hover.bp3-active, .bp3-button.bp3-outlined.bp3-disabled.bp3-active, .bp3-button.bp3-outlined.bp3-disabled:hover.bp3-active{
        background:rgba(115, 134, 148, 0.3); }
    .bp3-dark .bp3-button.bp3-outlined{
      background:none;
      -webkit-box-shadow:none;
              box-shadow:none;
      color:inherit; }
      .bp3-dark .bp3-button.bp3-outlined:hover, .bp3-dark .bp3-button.bp3-outlined:active, .bp3-dark .bp3-button.bp3-outlined.bp3-active{
        background:none;
        -webkit-box-shadow:none;
                box-shadow:none; }
      .bp3-dark .bp3-button.bp3-outlined:hover{
        background:rgba(138, 155, 168, 0.15); }
      .bp3-dark .bp3-button.bp3-outlined:active, .bp3-dark .bp3-button.bp3-outlined.bp3-active{
        background:rgba(138, 155, 168, 0.3);
        color:#f5f8fa; }
      .bp3-dark .bp3-button.bp3-outlined:disabled, .bp3-dark .bp3-button.bp3-outlined:disabled:hover, .bp3-dark .bp3-button.bp3-outlined.bp3-disabled, .bp3-dark .bp3-button.bp3-outlined.bp3-disabled:hover{
        background:none;
        color:rgba(167, 182, 194, 0.6);
        cursor:not-allowed; }
        .bp3-dark .bp3-button.bp3-outlined:disabled.bp3-active, .bp3-dark .bp3-button.bp3-outlined:disabled:hover.bp3-active, .bp3-dark .bp3-button.bp3-outlined.bp3-disabled.bp3-active, .bp3-dark .bp3-button.bp3-outlined.bp3-disabled:hover.bp3-active{
          background:rgba(138, 155, 168, 0.3); }
    .bp3-button.bp3-outlined.bp3-intent-primary{
      color:#106ba3; }
      .bp3-button.bp3-outlined.bp3-intent-primary:hover, .bp3-button.bp3-outlined.bp3-intent-primary:active, .bp3-button.bp3-outlined.bp3-intent-primary.bp3-active{
        background:none;
        -webkit-box-shadow:none;
                box-shadow:none;
        color:#106ba3; }
      .bp3-button.bp3-outlined.bp3-intent-primary:hover{
        background:rgba(19, 124, 189, 0.15);
        color:#106ba3; }
      .bp3-button.bp3-outlined.bp3-intent-primary:active, .bp3-button.bp3-outlined.bp3-intent-primary.bp3-active{
        background:rgba(19, 124, 189, 0.3);
        color:#106ba3; }
      .bp3-button.bp3-outlined.bp3-intent-primary:disabled, .bp3-button.bp3-outlined.bp3-intent-primary.bp3-disabled{
        background:none;
        color:rgba(16, 107, 163, 0.5); }
        .bp3-button.bp3-outlined.bp3-intent-primary:disabled.bp3-active, .bp3-button.bp3-outlined.bp3-intent-primary.bp3-disabled.bp3-active{
          background:rgba(19, 124, 189, 0.3); }
      .bp3-button.bp3-outlined.bp3-intent-primary .bp3-button-spinner .bp3-spinner-head{
        stroke:#106ba3; }
      .bp3-dark .bp3-button.bp3-outlined.bp3-intent-primary{
        color:#48aff0; }
        .bp3-dark .bp3-button.bp3-outlined.bp3-intent-primary:hover{
          background:rgba(19, 124, 189, 0.2);
          color:#48aff0; }
        .bp3-dark .bp3-button.bp3-outlined.bp3-intent-primary:active, .bp3-dark .bp3-button.bp3-outlined.bp3-intent-primary.bp3-active{
          background:rgba(19, 124, 189, 0.3);
          color:#48aff0; }
        .bp3-dark .bp3-button.bp3-outlined.bp3-intent-primary:disabled, .bp3-dark .bp3-button.bp3-outlined.bp3-intent-primary.bp3-disabled{
          background:none;
          color:rgba(72, 175, 240, 0.5); }
          .bp3-dark .bp3-button.bp3-outlined.bp3-intent-primary:disabled.bp3-active, .bp3-dark .bp3-button.bp3-outlined.bp3-intent-primary.bp3-disabled.bp3-active{
            background:rgba(19, 124, 189, 0.3); }
    .bp3-button.bp3-outlined.bp3-intent-success{
      color:#0d8050; }
      .bp3-button.bp3-outlined.bp3-intent-success:hover, .bp3-button.bp3-outlined.bp3-intent-success:active, .bp3-button.bp3-outlined.bp3-intent-success.bp3-active{
        background:none;
        -webkit-box-shadow:none;
                box-shadow:none;
        color:#0d8050; }
      .bp3-button.bp3-outlined.bp3-intent-success:hover{
        background:rgba(15, 153, 96, 0.15);
        color:#0d8050; }
      .bp3-button.bp3-outlined.bp3-intent-success:active, .bp3-button.bp3-outlined.bp3-intent-success.bp3-active{
        background:rgba(15, 153, 96, 0.3);
        color:#0d8050; }
      .bp3-button.bp3-outlined.bp3-intent-success:disabled, .bp3-button.bp3-outlined.bp3-intent-success.bp3-disabled{
        background:none;
        color:rgba(13, 128, 80, 0.5); }
        .bp3-button.bp3-outlined.bp3-intent-success:disabled.bp3-active, .bp3-button.bp3-outlined.bp3-intent-success.bp3-disabled.bp3-active{
          background:rgba(15, 153, 96, 0.3); }
      .bp3-button.bp3-outlined.bp3-intent-success .bp3-button-spinner .bp3-spinner-head{
        stroke:#0d8050; }
      .bp3-dark .bp3-button.bp3-outlined.bp3-intent-success{
        color:#3dcc91; }
        .bp3-dark .bp3-button.bp3-outlined.bp3-intent-success:hover{
          background:rgba(15, 153, 96, 0.2);
          color:#3dcc91; }
        .bp3-dark .bp3-button.bp3-outlined.bp3-intent-success:active, .bp3-dark .bp3-button.bp3-outlined.bp3-intent-success.bp3-active{
          background:rgba(15, 153, 96, 0.3);
          color:#3dcc91; }
        .bp3-dark .bp3-button.bp3-outlined.bp3-intent-success:disabled, .bp3-dark .bp3-button.bp3-outlined.bp3-intent-success.bp3-disabled{
          background:none;
          color:rgba(61, 204, 145, 0.5); }
          .bp3-dark .bp3-button.bp3-outlined.bp3-intent-success:disabled.bp3-active, .bp3-dark .bp3-button.bp3-outlined.bp3-intent-success.bp3-disabled.bp3-active{
            background:rgba(15, 153, 96, 0.3); }
    .bp3-button.bp3-outlined.bp3-intent-warning{
      color:#bf7326; }
      .bp3-button.bp3-outlined.bp3-intent-warning:hover, .bp3-button.bp3-outlined.bp3-intent-warning:active, .bp3-button.bp3-outlined.bp3-intent-warning.bp3-active{
        background:none;
        -webkit-box-shadow:none;
                box-shadow:none;
        color:#bf7326; }
      .bp3-button.bp3-outlined.bp3-intent-warning:hover{
        background:rgba(217, 130, 43, 0.15);
        color:#bf7326; }
      .bp3-button.bp3-outlined.bp3-intent-warning:active, .bp3-button.bp3-outlined.bp3-intent-warning.bp3-active{
        background:rgba(217, 130, 43, 0.3);
        color:#bf7326; }
      .bp3-button.bp3-outlined.bp3-intent-warning:disabled, .bp3-button.bp3-outlined.bp3-intent-warning.bp3-disabled{
        background:none;
        color:rgba(191, 115, 38, 0.5); }
        .bp3-button.bp3-outlined.bp3-intent-warning:disabled.bp3-active, .bp3-button.bp3-outlined.bp3-intent-warning.bp3-disabled.bp3-active{
          background:rgba(217, 130, 43, 0.3); }
      .bp3-button.bp3-outlined.bp3-intent-warning .bp3-button-spinner .bp3-spinner-head{
        stroke:#bf7326; }
      .bp3-dark .bp3-button.bp3-outlined.bp3-intent-warning{
        color:#ffb366; }
        .bp3-dark .bp3-button.bp3-outlined.bp3-intent-warning:hover{
          background:rgba(217, 130, 43, 0.2);
          color:#ffb366; }
        .bp3-dark .bp3-button.bp3-outlined.bp3-intent-warning:active, .bp3-dark .bp3-button.bp3-outlined.bp3-intent-warning.bp3-active{
          background:rgba(217, 130, 43, 0.3);
          color:#ffb366; }
        .bp3-dark .bp3-button.bp3-outlined.bp3-intent-warning:disabled, .bp3-dark .bp3-button.bp3-outlined.bp3-intent-warning.bp3-disabled{
          background:none;
          color:rgba(255, 179, 102, 0.5); }
          .bp3-dark .bp3-button.bp3-outlined.bp3-intent-warning:disabled.bp3-active, .bp3-dark .bp3-button.bp3-outlined.bp3-intent-warning.bp3-disabled.bp3-active{
            background:rgba(217, 130, 43, 0.3); }
    .bp3-button.bp3-outlined.bp3-intent-danger{
      color:#c23030; }
      .bp3-button.bp3-outlined.bp3-intent-danger:hover, .bp3-button.bp3-outlined.bp3-intent-danger:active, .bp3-button.bp3-outlined.bp3-intent-danger.bp3-active{
        background:none;
        -webkit-box-shadow:none;
                box-shadow:none;
        color:#c23030; }
      .bp3-button.bp3-outlined.bp3-intent-danger:hover{
        background:rgba(219, 55, 55, 0.15);
        color:#c23030; }
      .bp3-button.bp3-outlined.bp3-intent-danger:active, .bp3-button.bp3-outlined.bp3-intent-danger.bp3-active{
        background:rgba(219, 55, 55, 0.3);
        color:#c23030; }
      .bp3-button.bp3-outlined.bp3-intent-danger:disabled, .bp3-button.bp3-outlined.bp3-intent-danger.bp3-disabled{
        background:none;
        color:rgba(194, 48, 48, 0.5); }
        .bp3-button.bp3-outlined.bp3-intent-danger:disabled.bp3-active, .bp3-button.bp3-outlined.bp3-intent-danger.bp3-disabled.bp3-active{
          background:rgba(219, 55, 55, 0.3); }
      .bp3-button.bp3-outlined.bp3-intent-danger .bp3-button-spinner .bp3-spinner-head{
        stroke:#c23030; }
      .bp3-dark .bp3-button.bp3-outlined.bp3-intent-danger{
        color:#ff7373; }
        .bp3-dark .bp3-button.bp3-outlined.bp3-intent-danger:hover{
          background:rgba(219, 55, 55, 0.2);
          color:#ff7373; }
        .bp3-dark .bp3-button.bp3-outlined.bp3-intent-danger:active, .bp3-dark .bp3-button.bp3-outlined.bp3-intent-danger.bp3-active{
          background:rgba(219, 55, 55, 0.3);
          color:#ff7373; }
        .bp3-dark .bp3-button.bp3-outlined.bp3-intent-danger:disabled, .bp3-dark .bp3-button.bp3-outlined.bp3-intent-danger.bp3-disabled{
          background:none;
          color:rgba(255, 115, 115, 0.5); }
          .bp3-dark .bp3-button.bp3-outlined.bp3-intent-danger:disabled.bp3-active, .bp3-dark .bp3-button.bp3-outlined.bp3-intent-danger.bp3-disabled.bp3-active{
            background:rgba(219, 55, 55, 0.3); }
    .bp3-button.bp3-outlined:disabled, .bp3-button.bp3-outlined.bp3-disabled, .bp3-button.bp3-outlined:disabled:hover, .bp3-button.bp3-outlined.bp3-disabled:hover{
      border-color:rgba(92, 112, 128, 0.1); }
    .bp3-dark .bp3-button.bp3-outlined{
      border-color:rgba(255, 255, 255, 0.4); }
      .bp3-dark .bp3-button.bp3-outlined:disabled, .bp3-dark .bp3-button.bp3-outlined:disabled:hover, .bp3-dark .bp3-button.bp3-outlined.bp3-disabled, .bp3-dark .bp3-button.bp3-outlined.bp3-disabled:hover{
        border-color:rgba(255, 255, 255, 0.2); }
    .bp3-button.bp3-outlined.bp3-intent-primary{
      border-color:rgba(16, 107, 163, 0.6); }
      .bp3-button.bp3-outlined.bp3-intent-primary:disabled, .bp3-button.bp3-outlined.bp3-intent-primary.bp3-disabled{
        border-color:rgba(16, 107, 163, 0.2); }
      .bp3-dark .bp3-button.bp3-outlined.bp3-intent-primary{
        border-color:rgba(72, 175, 240, 0.6); }
        .bp3-dark .bp3-button.bp3-outlined.bp3-intent-primary:disabled, .bp3-dark .bp3-button.bp3-outlined.bp3-intent-primary.bp3-disabled{
          border-color:rgba(72, 175, 240, 0.2); }
    .bp3-button.bp3-outlined.bp3-intent-success{
      border-color:rgba(13, 128, 80, 0.6); }
      .bp3-button.bp3-outlined.bp3-intent-success:disabled, .bp3-button.bp3-outlined.bp3-intent-success.bp3-disabled{
        border-color:rgba(13, 128, 80, 0.2); }
      .bp3-dark .bp3-button.bp3-outlined.bp3-intent-success{
        border-color:rgba(61, 204, 145, 0.6); }
        .bp3-dark .bp3-button.bp3-outlined.bp3-intent-success:disabled, .bp3-dark .bp3-button.bp3-outlined.bp3-intent-success.bp3-disabled{
          border-color:rgba(61, 204, 145, 0.2); }
    .bp3-button.bp3-outlined.bp3-intent-warning{
      border-color:rgba(191, 115, 38, 0.6); }
      .bp3-button.bp3-outlined.bp3-intent-warning:disabled, .bp3-button.bp3-outlined.bp3-intent-warning.bp3-disabled{
        border-color:rgba(191, 115, 38, 0.2); }
      .bp3-dark .bp3-button.bp3-outlined.bp3-intent-warning{
        border-color:rgba(255, 179, 102, 0.6); }
        .bp3-dark .bp3-button.bp3-outlined.bp3-intent-warning:disabled, .bp3-dark .bp3-button.bp3-outlined.bp3-intent-warning.bp3-disabled{
          border-color:rgba(255, 179, 102, 0.2); }
    .bp3-button.bp3-outlined.bp3-intent-danger{
      border-color:rgba(194, 48, 48, 0.6); }
      .bp3-button.bp3-outlined.bp3-intent-danger:disabled, .bp3-button.bp3-outlined.bp3-intent-danger.bp3-disabled{
        border-color:rgba(194, 48, 48, 0.2); }
      .bp3-dark .bp3-button.bp3-outlined.bp3-intent-danger{
        border-color:rgba(255, 115, 115, 0.6); }
        .bp3-dark .bp3-button.bp3-outlined.bp3-intent-danger:disabled, .bp3-dark .bp3-button.bp3-outlined.bp3-intent-danger.bp3-disabled{
          border-color:rgba(255, 115, 115, 0.2); }

a.bp3-button{
  text-align:center;
  text-decoration:none;
  -webkit-transition:none;
  transition:none; }
  a.bp3-button, a.bp3-button:hover, a.bp3-button:active{
    color:#182026; }
  a.bp3-button.bp3-disabled{
    color:rgba(92, 112, 128, 0.6); }

.bp3-button-text{
  -webkit-box-flex:0;
      -ms-flex:0 1 auto;
          flex:0 1 auto; }

.bp3-button.bp3-align-left .bp3-button-text, .bp3-button.bp3-align-right .bp3-button-text,
.bp3-button-group.bp3-align-left .bp3-button-text,
.bp3-button-group.bp3-align-right .bp3-button-text{
  -webkit-box-flex:1;
      -ms-flex:1 1 auto;
          flex:1 1 auto; }
.bp3-button-group{
  display:-webkit-inline-box;
  display:-ms-inline-flexbox;
  display:inline-flex; }
  .bp3-button-group .bp3-button{
    -webkit-box-flex:0;
        -ms-flex:0 0 auto;
            flex:0 0 auto;
    position:relative;
    z-index:4; }
    .bp3-button-group .bp3-button:focus{
      z-index:5; }
    .bp3-button-group .bp3-button:hover{
      z-index:6; }
    .bp3-button-group .bp3-button:active, .bp3-button-group .bp3-button.bp3-active{
      z-index:7; }
    .bp3-button-group .bp3-button:disabled, .bp3-button-group .bp3-button.bp3-disabled{
      z-index:3; }
    .bp3-button-group .bp3-button[class*="bp3-intent-"]{
      z-index:9; }
      .bp3-button-group .bp3-button[class*="bp3-intent-"]:focus{
        z-index:10; }
      .bp3-button-group .bp3-button[class*="bp3-intent-"]:hover{
        z-index:11; }
      .bp3-button-group .bp3-button[class*="bp3-intent-"]:active, .bp3-button-group .bp3-button[class*="bp3-intent-"].bp3-active{
        z-index:12; }
      .bp3-button-group .bp3-button[class*="bp3-intent-"]:disabled, .bp3-button-group .bp3-button[class*="bp3-intent-"].bp3-disabled{
        z-index:8; }
  .bp3-button-group:not(.bp3-minimal) > .bp3-popover-wrapper:not(:first-child) .bp3-button,
  .bp3-button-group:not(.bp3-minimal) > .bp3-button:not(:first-child){
    border-bottom-left-radius:0;
    border-top-left-radius:0; }
  .bp3-button-group:not(.bp3-minimal) > .bp3-popover-wrapper:not(:last-child) .bp3-button,
  .bp3-button-group:not(.bp3-minimal) > .bp3-button:not(:last-child){
    border-bottom-right-radius:0;
    border-top-right-radius:0;
    margin-right:-1px; }
  .bp3-button-group.bp3-minimal .bp3-button{
    background:none;
    -webkit-box-shadow:none;
            box-shadow:none; }
    .bp3-button-group.bp3-minimal .bp3-button:hover{
      background:rgba(167, 182, 194, 0.3);
      -webkit-box-shadow:none;
              box-shadow:none;
      color:#182026;
      text-decoration:none; }
    .bp3-button-group.bp3-minimal .bp3-button:active, .bp3-button-group.bp3-minimal .bp3-button.bp3-active{
      background:rgba(115, 134, 148, 0.3);
      -webkit-box-shadow:none;
              box-shadow:none;
      color:#182026; }
    .bp3-button-group.bp3-minimal .bp3-button:disabled, .bp3-button-group.bp3-minimal .bp3-button:disabled:hover, .bp3-button-group.bp3-minimal .bp3-button.bp3-disabled, .bp3-button-group.bp3-minimal .bp3-button.bp3-disabled:hover{
      background:none;
      color:rgba(92, 112, 128, 0.6);
      cursor:not-allowed; }
      .bp3-button-group.bp3-minimal .bp3-button:disabled.bp3-active, .bp3-button-group.bp3-minimal .bp3-button:disabled:hover.bp3-active, .bp3-button-group.bp3-minimal .bp3-button.bp3-disabled.bp3-active, .bp3-button-group.bp3-minimal .bp3-button.bp3-disabled:hover.bp3-active{
        background:rgba(115, 134, 148, 0.3); }
    .bp3-dark .bp3-button-group.bp3-minimal .bp3-button{
      background:none;
      -webkit-box-shadow:none;
              box-shadow:none;
      color:inherit; }
      .bp3-dark .bp3-button-group.bp3-minimal .bp3-button:hover, .bp3-dark .bp3-button-group.bp3-minimal .bp3-button:active, .bp3-dark .bp3-button-group.bp3-minimal .bp3-button.bp3-active{
        background:none;
        -webkit-box-shadow:none;
                box-shadow:none; }
      .bp3-dark .bp3-button-group.bp3-minimal .bp3-button:hover{
        background:rgba(138, 155, 168, 0.15); }
      .bp3-dark .bp3-button-group.bp3-minimal .bp3-button:active, .bp3-dark .bp3-button-group.bp3-minimal .bp3-button.bp3-active{
        background:rgba(138, 155, 168, 0.3);
        color:#f5f8fa; }
      .bp3-dark .bp3-button-group.bp3-minimal .bp3-button:disabled, .bp3-dark .bp3-button-group.bp3-minimal .bp3-button:disabled:hover, .bp3-dark .bp3-button-group.bp3-minimal .bp3-button.bp3-disabled, .bp3-dark .bp3-button-group.bp3-minimal .bp3-button.bp3-disabled:hover{
        background:none;
        color:rgba(167, 182, 194, 0.6);
        cursor:not-allowed; }
        .bp3-dark .bp3-button-group.bp3-minimal .bp3-button:disabled.bp3-active, .bp3-dark .bp3-button-group.bp3-minimal .bp3-button:disabled:hover.bp3-active, .bp3-dark .bp3-button-group.bp3-minimal .bp3-button.bp3-disabled.bp3-active, .bp3-dark .bp3-button-group.bp3-minimal .bp3-button.bp3-disabled:hover.bp3-active{
          background:rgba(138, 155, 168, 0.3); }
    .bp3-button-group.bp3-minimal .bp3-button.bp3-intent-primary{
      color:#106ba3; }
      .bp3-button-group.bp3-minimal .bp3-button.bp3-intent-primary:hover, .bp3-button-group.bp3-minimal .bp3-button.bp3-intent-primary:active, .bp3-button-group.bp3-minimal .bp3-button.bp3-intent-primary.bp3-active{
        background:none;
        -webkit-box-shadow:none;
                box-shadow:none;
        color:#106ba3; }
      .bp3-button-group.bp3-minimal .bp3-button.bp3-intent-primary:hover{
        background:rgba(19, 124, 189, 0.15);
        color:#106ba3; }
      .bp3-button-group.bp3-minimal .bp3-button.bp3-intent-primary:active, .bp3-button-group.bp3-minimal .bp3-button.bp3-intent-primary.bp3-active{
        background:rgba(19, 124, 189, 0.3);
        color:#106ba3; }
      .bp3-button-group.bp3-minimal .bp3-button.bp3-intent-primary:disabled, .bp3-button-group.bp3-minimal .bp3-button.bp3-intent-primary.bp3-disabled{
        background:none;
        color:rgba(16, 107, 163, 0.5); }
        .bp3-button-group.bp3-minimal .bp3-button.bp3-intent-primary:disabled.bp3-active, .bp3-button-group.bp3-minimal .bp3-button.bp3-intent-primary.bp3-disabled.bp3-active{
          background:rgba(19, 124, 189, 0.3); }
      .bp3-button-group.bp3-minimal .bp3-button.bp3-intent-primary .bp3-button-spinner .bp3-spinner-head{
        stroke:#106ba3; }
      .bp3-dark .bp3-button-group.bp3-minimal .bp3-button.bp3-intent-primary{
        color:#48aff0; }
        .bp3-dark .bp3-button-group.bp3-minimal .bp3-button.bp3-intent-primary:hover{
          background:rgba(19, 124, 189, 0.2);
          color:#48aff0; }
        .bp3-dark .bp3-button-group.bp3-minimal .bp3-button.bp3-intent-primary:active, .bp3-dark .bp3-button-group.bp3-minimal .bp3-button.bp3-intent-primary.bp3-active{
          background:rgba(19, 124, 189, 0.3);
          color:#48aff0; }
        .bp3-dark .bp3-button-group.bp3-minimal .bp3-button.bp3-intent-primary:disabled, .bp3-dark .bp3-button-group.bp3-minimal .bp3-button.bp3-intent-primary.bp3-disabled{
          background:none;
          color:rgba(72, 175, 240, 0.5); }
          .bp3-dark .bp3-button-group.bp3-minimal .bp3-button.bp3-intent-primary:disabled.bp3-active, .bp3-dark .bp3-button-group.bp3-minimal .bp3-button.bp3-intent-primary.bp3-disabled.bp3-active{
            background:rgba(19, 124, 189, 0.3); }
    .bp3-button-group.bp3-minimal .bp3-button.bp3-intent-success{
      color:#0d8050; }
      .bp3-button-group.bp3-minimal .bp3-button.bp3-intent-success:hover, .bp3-button-group.bp3-minimal .bp3-button.bp3-intent-success:active, .bp3-button-group.bp3-minimal .bp3-button.bp3-intent-success.bp3-active{
        background:none;
        -webkit-box-shadow:none;
                box-shadow:none;
        color:#0d8050; }
      .bp3-button-group.bp3-minimal .bp3-button.bp3-intent-success:hover{
        background:rgba(15, 153, 96, 0.15);
        color:#0d8050; }
      .bp3-button-group.bp3-minimal .bp3-button.bp3-intent-success:active, .bp3-button-group.bp3-minimal .bp3-button.bp3-intent-success.bp3-active{
        background:rgba(15, 153, 96, 0.3);
        color:#0d8050; }
      .bp3-button-group.bp3-minimal .bp3-button.bp3-intent-success:disabled, .bp3-button-group.bp3-minimal .bp3-button.bp3-intent-success.bp3-disabled{
        background:none;
        color:rgba(13, 128, 80, 0.5); }
        .bp3-button-group.bp3-minimal .bp3-button.bp3-intent-success:disabled.bp3-active, .bp3-button-group.bp3-minimal .bp3-button.bp3-intent-success.bp3-disabled.bp3-active{
          background:rgba(15, 153, 96, 0.3); }
      .bp3-button-group.bp3-minimal .bp3-button.bp3-intent-success .bp3-button-spinner .bp3-spinner-head{
        stroke:#0d8050; }
      .bp3-dark .bp3-button-group.bp3-minimal .bp3-button.bp3-intent-success{
        color:#3dcc91; }
        .bp3-dark .bp3-button-group.bp3-minimal .bp3-button.bp3-intent-success:hover{
          background:rgba(15, 153, 96, 0.2);
          color:#3dcc91; }
        .bp3-dark .bp3-button-group.bp3-minimal .bp3-button.bp3-intent-success:active, .bp3-dark .bp3-button-group.bp3-minimal .bp3-button.bp3-intent-success.bp3-active{
          background:rgba(15, 153, 96, 0.3);
          color:#3dcc91; }
        .bp3-dark .bp3-button-group.bp3-minimal .bp3-button.bp3-intent-success:disabled, .bp3-dark .bp3-button-group.bp3-minimal .bp3-button.bp3-intent-success.bp3-disabled{
          background:none;
          color:rgba(61, 204, 145, 0.5); }
          .bp3-dark .bp3-button-group.bp3-minimal .bp3-button.bp3-intent-success:disabled.bp3-active, .bp3-dark .bp3-button-group.bp3-minimal .bp3-button.bp3-intent-success.bp3-disabled.bp3-active{
            background:rgba(15, 153, 96, 0.3); }
    .bp3-button-group.bp3-minimal .bp3-button.bp3-intent-warning{
      color:#bf7326; }
      .bp3-button-group.bp3-minimal .bp3-button.bp3-intent-warning:hover, .bp3-button-group.bp3-minimal .bp3-button.bp3-intent-warning:active, .bp3-button-group.bp3-minimal .bp3-button.bp3-intent-warning.bp3-active{
        background:none;
        -webkit-box-shadow:none;
                box-shadow:none;
        color:#bf7326; }
      .bp3-button-group.bp3-minimal .bp3-button.bp3-intent-warning:hover{
        background:rgba(217, 130, 43, 0.15);
        color:#bf7326; }
      .bp3-button-group.bp3-minimal .bp3-button.bp3-intent-warning:active, .bp3-button-group.bp3-minimal .bp3-button.bp3-intent-warning.bp3-active{
        background:rgba(217, 130, 43, 0.3);
        color:#bf7326; }
      .bp3-button-group.bp3-minimal .bp3-button.bp3-intent-warning:disabled, .bp3-button-group.bp3-minimal .bp3-button.bp3-intent-warning.bp3-disabled{
        background:none;
        color:rgba(191, 115, 38, 0.5); }
        .bp3-button-group.bp3-minimal .bp3-button.bp3-intent-warning:disabled.bp3-active, .bp3-button-group.bp3-minimal .bp3-button.bp3-intent-warning.bp3-disabled.bp3-active{
          background:rgba(217, 130, 43, 0.3); }
      .bp3-button-group.bp3-minimal .bp3-button.bp3-intent-warning .bp3-button-spinner .bp3-spinner-head{
        stroke:#bf7326; }
      .bp3-dark .bp3-button-group.bp3-minimal .bp3-button.bp3-intent-warning{
        color:#ffb366; }
        .bp3-dark .bp3-button-group.bp3-minimal .bp3-button.bp3-intent-warning:hover{
          background:rgba(217, 130, 43, 0.2);
          color:#ffb366; }
        .bp3-dark .bp3-button-group.bp3-minimal .bp3-button.bp3-intent-warning:active, .bp3-dark .bp3-button-group.bp3-minimal .bp3-button.bp3-intent-warning.bp3-active{
          background:rgba(217, 130, 43, 0.3);
          color:#ffb366; }
        .bp3-dark .bp3-button-group.bp3-minimal .bp3-button.bp3-intent-warning:disabled, .bp3-dark .bp3-button-group.bp3-minimal .bp3-button.bp3-intent-warning.bp3-disabled{
          background:none;
          color:rgba(255, 179, 102, 0.5); }
          .bp3-dark .bp3-button-group.bp3-minimal .bp3-button.bp3-intent-warning:disabled.bp3-active, .bp3-dark .bp3-button-group.bp3-minimal .bp3-button.bp3-intent-warning.bp3-disabled.bp3-active{
            background:rgba(217, 130, 43, 0.3); }
    .bp3-button-group.bp3-minimal .bp3-button.bp3-intent-danger{
      color:#c23030; }
      .bp3-button-group.bp3-minimal .bp3-button.bp3-intent-danger:hover, .bp3-button-group.bp3-minimal .bp3-button.bp3-intent-danger:active, .bp3-button-group.bp3-minimal .bp3-button.bp3-intent-danger.bp3-active{
        background:none;
        -webkit-box-shadow:none;
                box-shadow:none;
        color:#c23030; }
      .bp3-button-group.bp3-minimal .bp3-button.bp3-intent-danger:hover{
        background:rgba(219, 55, 55, 0.15);
        color:#c23030; }
      .bp3-button-group.bp3-minimal .bp3-button.bp3-intent-danger:active, .bp3-button-group.bp3-minimal .bp3-button.bp3-intent-danger.bp3-active{
        background:rgba(219, 55, 55, 0.3);
        color:#c23030; }
      .bp3-button-group.bp3-minimal .bp3-button.bp3-intent-danger:disabled, .bp3-button-group.bp3-minimal .bp3-button.bp3-intent-danger.bp3-disabled{
        background:none;
        color:rgba(194, 48, 48, 0.5); }
        .bp3-button-group.bp3-minimal .bp3-button.bp3-intent-danger:disabled.bp3-active, .bp3-button-group.bp3-minimal .bp3-button.bp3-intent-danger.bp3-disabled.bp3-active{
          background:rgba(219, 55, 55, 0.3); }
      .bp3-button-group.bp3-minimal .bp3-button.bp3-intent-danger .bp3-button-spinner .bp3-spinner-head{
        stroke:#c23030; }
      .bp3-dark .bp3-button-group.bp3-minimal .bp3-button.bp3-intent-danger{
        color:#ff7373; }
        .bp3-dark .bp3-button-group.bp3-minimal .bp3-button.bp3-intent-danger:hover{
          background:rgba(219, 55, 55, 0.2);
          color:#ff7373; }
        .bp3-dark .bp3-button-group.bp3-minimal .bp3-button.bp3-intent-danger:active, .bp3-dark .bp3-button-group.bp3-minimal .bp3-button.bp3-intent-danger.bp3-active{
          background:rgba(219, 55, 55, 0.3);
          color:#ff7373; }
        .bp3-dark .bp3-button-group.bp3-minimal .bp3-button.bp3-intent-danger:disabled, .bp3-dark .bp3-button-group.bp3-minimal .bp3-button.bp3-intent-danger.bp3-disabled{
          background:none;
          color:rgba(255, 115, 115, 0.5); }
          .bp3-dark .bp3-button-group.bp3-minimal .bp3-button.bp3-intent-danger:disabled.bp3-active, .bp3-dark .bp3-button-group.bp3-minimal .bp3-button.bp3-intent-danger.bp3-disabled.bp3-active{
            background:rgba(219, 55, 55, 0.3); }
  .bp3-button-group .bp3-popover-wrapper,
  .bp3-button-group .bp3-popover-target{
    display:-webkit-box;
    display:-ms-flexbox;
    display:flex;
    -webkit-box-flex:1;
        -ms-flex:1 1 auto;
            flex:1 1 auto; }
  .bp3-button-group.bp3-fill{
    display:-webkit-box;
    display:-ms-flexbox;
    display:flex;
    width:100%; }
  .bp3-button-group .bp3-button.bp3-fill,
  .bp3-button-group.bp3-fill .bp3-button:not(.bp3-fixed){
    -webkit-box-flex:1;
        -ms-flex:1 1 auto;
            flex:1 1 auto; }
  .bp3-button-group.bp3-vertical{
    -webkit-box-align:stretch;
        -ms-flex-align:stretch;
            align-items:stretch;
    -webkit-box-orient:vertical;
    -webkit-box-direction:normal;
        -ms-flex-direction:column;
            flex-direction:column;
    vertical-align:top; }
    .bp3-button-group.bp3-vertical.bp3-fill{
      height:100%;
      width:unset; }
    .bp3-button-group.bp3-vertical .bp3-button{
      margin-right:0 !important;
      width:100%; }
    .bp3-button-group.bp3-vertical:not(.bp3-minimal) > .bp3-popover-wrapper:first-child .bp3-button,
    .bp3-button-group.bp3-vertical:not(.bp3-minimal) > .bp3-button:first-child{
      border-radius:3px 3px 0 0; }
    .bp3-button-group.bp3-vertical:not(.bp3-minimal) > .bp3-popover-wrapper:last-child .bp3-button,
    .bp3-button-group.bp3-vertical:not(.bp3-minimal) > .bp3-button:last-child{
      border-radius:0 0 3px 3px; }
    .bp3-button-group.bp3-vertical:not(.bp3-minimal) > .bp3-popover-wrapper:not(:last-child) .bp3-button,
    .bp3-button-group.bp3-vertical:not(.bp3-minimal) > .bp3-button:not(:last-child){
      margin-bottom:-1px; }
  .bp3-button-group.bp3-align-left .bp3-button{
    text-align:left; }
  .bp3-dark .bp3-button-group:not(.bp3-minimal) > .bp3-popover-wrapper:not(:last-child) .bp3-button,
  .bp3-dark .bp3-button-group:not(.bp3-minimal) > .bp3-button:not(:last-child){
    margin-right:1px; }
  .bp3-dark .bp3-button-group.bp3-vertical > .bp3-popover-wrapper:not(:last-child) .bp3-button,
  .bp3-dark .bp3-button-group.bp3-vertical > .bp3-button:not(:last-child){
    margin-bottom:1px; }
.bp3-callout{
  font-size:14px;
  line-height:1.5;
  background-color:rgba(138, 155, 168, 0.15);
  border-radius:3px;
  padding:10px 12px 9px;
  position:relative;
  width:100%; }
  .bp3-callout[class*="bp3-icon-"]{
    padding-left:40px; }
    .bp3-callout[class*="bp3-icon-"]::before{
      font-family:"Icons20", sans-serif;
      font-size:20px;
      font-style:normal;
      font-weight:400;
      line-height:1;
      -moz-osx-font-smoothing:grayscale;
      -webkit-font-smoothing:antialiased;
      color:#5c7080;
      left:10px;
      position:absolute;
      top:10px; }
  .bp3-callout.bp3-callout-icon{
    padding-left:40px; }
    .bp3-callout.bp3-callout-icon > .bp3-icon:first-child{
      color:#5c7080;
      left:10px;
      position:absolute;
      top:10px; }
  .bp3-callout .bp3-heading{
    line-height:20px;
    margin-bottom:5px;
    margin-top:0; }
    .bp3-callout .bp3-heading:last-child{
      margin-bottom:0; }
  .bp3-dark .bp3-callout{
    background-color:rgba(138, 155, 168, 0.2); }
    .bp3-dark .bp3-callout[class*="bp3-icon-"]::before{
      color:#a7b6c2; }
  .bp3-callout.bp3-intent-primary{
    background-color:rgba(19, 124, 189, 0.15); }
    .bp3-callout.bp3-intent-primary[class*="bp3-icon-"]::before,
    .bp3-callout.bp3-intent-primary > .bp3-icon:first-child,
    .bp3-callout.bp3-intent-primary .bp3-heading{
      color:#106ba3; }
    .bp3-dark .bp3-callout.bp3-intent-primary{
      background-color:rgba(19, 124, 189, 0.25); }
      .bp3-dark .bp3-callout.bp3-intent-primary[class*="bp3-icon-"]::before,
      .bp3-dark .bp3-callout.bp3-intent-primary > .bp3-icon:first-child,
      .bp3-dark .bp3-callout.bp3-intent-primary .bp3-heading{
        color:#48aff0; }
  .bp3-callout.bp3-intent-success{
    background-color:rgba(15, 153, 96, 0.15); }
    .bp3-callout.bp3-intent-success[class*="bp3-icon-"]::before,
    .bp3-callout.bp3-intent-success > .bp3-icon:first-child,
    .bp3-callout.bp3-intent-success .bp3-heading{
      color:#0d8050; }
    .bp3-dark .bp3-callout.bp3-intent-success{
      background-color:rgba(15, 153, 96, 0.25); }
      .bp3-dark .bp3-callout.bp3-intent-success[class*="bp3-icon-"]::before,
      .bp3-dark .bp3-callout.bp3-intent-success > .bp3-icon:first-child,
      .bp3-dark .bp3-callout.bp3-intent-success .bp3-heading{
        color:#3dcc91; }
  .bp3-callout.bp3-intent-warning{
    background-color:rgba(217, 130, 43, 0.15); }
    .bp3-callout.bp3-intent-warning[class*="bp3-icon-"]::before,
    .bp3-callout.bp3-intent-warning > .bp3-icon:first-child,
    .bp3-callout.bp3-intent-warning .bp3-heading{
      color:#bf7326; }
    .bp3-dark .bp3-callout.bp3-intent-warning{
      background-color:rgba(217, 130, 43, 0.25); }
      .bp3-dark .bp3-callout.bp3-intent-warning[class*="bp3-icon-"]::before,
      .bp3-dark .bp3-callout.bp3-intent-warning > .bp3-icon:first-child,
      .bp3-dark .bp3-callout.bp3-intent-warning .bp3-heading{
        color:#ffb366; }
  .bp3-callout.bp3-intent-danger{
    background-color:rgba(219, 55, 55, 0.15); }
    .bp3-callout.bp3-intent-danger[class*="bp3-icon-"]::before,
    .bp3-callout.bp3-intent-danger > .bp3-icon:first-child,
    .bp3-callout.bp3-intent-danger .bp3-heading{
      color:#c23030; }
    .bp3-dark .bp3-callout.bp3-intent-danger{
      background-color:rgba(219, 55, 55, 0.25); }
      .bp3-dark .bp3-callout.bp3-intent-danger[class*="bp3-icon-"]::before,
      .bp3-dark .bp3-callout.bp3-intent-danger > .bp3-icon:first-child,
      .bp3-dark .bp3-callout.bp3-intent-danger .bp3-heading{
        color:#ff7373; }
  .bp3-running-text .bp3-callout{
    margin:20px 0; }
.bp3-card{
  background-color:#ffffff;
  border-radius:3px;
  -webkit-box-shadow:0 0 0 1px rgba(16, 22, 26, 0.15), 0 0 0 rgba(16, 22, 26, 0), 0 0 0 rgba(16, 22, 26, 0);
          box-shadow:0 0 0 1px rgba(16, 22, 26, 0.15), 0 0 0 rgba(16, 22, 26, 0), 0 0 0 rgba(16, 22, 26, 0);
  padding:20px;
  -webkit-transition:-webkit-transform 200ms cubic-bezier(0.4, 1, 0.75, 0.9), -webkit-box-shadow 200ms cubic-bezier(0.4, 1, 0.75, 0.9);
  transition:-webkit-transform 200ms cubic-bezier(0.4, 1, 0.75, 0.9), -webkit-box-shadow 200ms cubic-bezier(0.4, 1, 0.75, 0.9);
  transition:transform 200ms cubic-bezier(0.4, 1, 0.75, 0.9), box-shadow 200ms cubic-bezier(0.4, 1, 0.75, 0.9);
  transition:transform 200ms cubic-bezier(0.4, 1, 0.75, 0.9), box-shadow 200ms cubic-bezier(0.4, 1, 0.75, 0.9), -webkit-transform 200ms cubic-bezier(0.4, 1, 0.75, 0.9), -webkit-box-shadow 200ms cubic-bezier(0.4, 1, 0.75, 0.9); }
  .bp3-card.bp3-dark,
  .bp3-dark .bp3-card{
    background-color:#30404d;
    -webkit-box-shadow:0 0 0 1px rgba(16, 22, 26, 0.4), 0 0 0 rgba(16, 22, 26, 0), 0 0 0 rgba(16, 22, 26, 0);
            box-shadow:0 0 0 1px rgba(16, 22, 26, 0.4), 0 0 0 rgba(16, 22, 26, 0), 0 0 0 rgba(16, 22, 26, 0); }

.bp3-elevation-0{
  -webkit-box-shadow:0 0 0 1px rgba(16, 22, 26, 0.15), 0 0 0 rgba(16, 22, 26, 0), 0 0 0 rgba(16, 22, 26, 0);
          box-shadow:0 0 0 1px rgba(16, 22, 26, 0.15), 0 0 0 rgba(16, 22, 26, 0), 0 0 0 rgba(16, 22, 26, 0); }
  .bp3-elevation-0.bp3-dark,
  .bp3-dark .bp3-elevation-0{
    -webkit-box-shadow:0 0 0 1px rgba(16, 22, 26, 0.4), 0 0 0 rgba(16, 22, 26, 0), 0 0 0 rgba(16, 22, 26, 0);
            box-shadow:0 0 0 1px rgba(16, 22, 26, 0.4), 0 0 0 rgba(16, 22, 26, 0), 0 0 0 rgba(16, 22, 26, 0); }

.bp3-elevation-1{
  -webkit-box-shadow:0 0 0 1px rgba(16, 22, 26, 0.1), 0 0 0 rgba(16, 22, 26, 0), 0 1px 1px rgba(16, 22, 26, 0.2);
          box-shadow:0 0 0 1px rgba(16, 22, 26, 0.1), 0 0 0 rgba(16, 22, 26, 0), 0 1px 1px rgba(16, 22, 26, 0.2); }
  .bp3-elevation-1.bp3-dark,
  .bp3-dark .bp3-elevation-1{
    -webkit-box-shadow:0 0 0 1px rgba(16, 22, 26, 0.2), 0 0 0 rgba(16, 22, 26, 0), 0 1px 1px rgba(16, 22, 26, 0.4);
            box-shadow:0 0 0 1px rgba(16, 22, 26, 0.2), 0 0 0 rgba(16, 22, 26, 0), 0 1px 1px rgba(16, 22, 26, 0.4); }

.bp3-elevation-2{
  -webkit-box-shadow:0 0 0 1px rgba(16, 22, 26, 0.1), 0 1px 1px rgba(16, 22, 26, 0.2), 0 2px 6px rgba(16, 22, 26, 0.2);
          box-shadow:0 0 0 1px rgba(16, 22, 26, 0.1), 0 1px 1px rgba(16, 22, 26, 0.2), 0 2px 6px rgba(16, 22, 26, 0.2); }
  .bp3-elevation-2.bp3-dark,
  .bp3-dark .bp3-elevation-2{
    -webkit-box-shadow:0 0 0 1px rgba(16, 22, 26, 0.2), 0 1px 1px rgba(16, 22, 26, 0.4), 0 2px 6px rgba(16, 22, 26, 0.4);
            box-shadow:0 0 0 1px rgba(16, 22, 26, 0.2), 0 1px 1px rgba(16, 22, 26, 0.4), 0 2px 6px rgba(16, 22, 26, 0.4); }

.bp3-elevation-3{
  -webkit-box-shadow:0 0 0 1px rgba(16, 22, 26, 0.1), 0 2px 4px rgba(16, 22, 26, 0.2), 0 8px 24px rgba(16, 22, 26, 0.2);
          box-shadow:0 0 0 1px rgba(16, 22, 26, 0.1), 0 2px 4px rgba(16, 22, 26, 0.2), 0 8px 24px rgba(16, 22, 26, 0.2); }
  .bp3-elevation-3.bp3-dark,
  .bp3-dark .bp3-elevation-3{
    -webkit-box-shadow:0 0 0 1px rgba(16, 22, 26, 0.2), 0 2px 4px rgba(16, 22, 26, 0.4), 0 8px 24px rgba(16, 22, 26, 0.4);
            box-shadow:0 0 0 1px rgba(16, 22, 26, 0.2), 0 2px 4px rgba(16, 22, 26, 0.4), 0 8px 24px rgba(16, 22, 26, 0.4); }

.bp3-elevation-4{
  -webkit-box-shadow:0 0 0 1px rgba(16, 22, 26, 0.1), 0 4px 8px rgba(16, 22, 26, 0.2), 0 18px 46px 6px rgba(16, 22, 26, 0.2);
          box-shadow:0 0 0 1px rgba(16, 22, 26, 0.1), 0 4px 8px rgba(16, 22, 26, 0.2), 0 18px 46px 6px rgba(16, 22, 26, 0.2); }
  .bp3-elevation-4.bp3-dark,
  .bp3-dark .bp3-elevation-4{
    -webkit-box-shadow:0 0 0 1px rgba(16, 22, 26, 0.2), 0 4px 8px rgba(16, 22, 26, 0.4), 0 18px 46px 6px rgba(16, 22, 26, 0.4);
            box-shadow:0 0 0 1px rgba(16, 22, 26, 0.2), 0 4px 8px rgba(16, 22, 26, 0.4), 0 18px 46px 6px rgba(16, 22, 26, 0.4); }

.bp3-card.bp3-interactive:hover{
  -webkit-box-shadow:0 0 0 1px rgba(16, 22, 26, 0.1), 0 2px 4px rgba(16, 22, 26, 0.2), 0 8px 24px rgba(16, 22, 26, 0.2);
          box-shadow:0 0 0 1px rgba(16, 22, 26, 0.1), 0 2px 4px rgba(16, 22, 26, 0.2), 0 8px 24px rgba(16, 22, 26, 0.2);
  cursor:pointer; }
  .bp3-card.bp3-interactive:hover.bp3-dark,
  .bp3-dark .bp3-card.bp3-interactive:hover{
    -webkit-box-shadow:0 0 0 1px rgba(16, 22, 26, 0.2), 0 2px 4px rgba(16, 22, 26, 0.4), 0 8px 24px rgba(16, 22, 26, 0.4);
            box-shadow:0 0 0 1px rgba(16, 22, 26, 0.2), 0 2px 4px rgba(16, 22, 26, 0.4), 0 8px 24px rgba(16, 22, 26, 0.4); }

.bp3-card.bp3-interactive:active{
  -webkit-box-shadow:0 0 0 1px rgba(16, 22, 26, 0.1), 0 0 0 rgba(16, 22, 26, 0), 0 1px 1px rgba(16, 22, 26, 0.2);
          box-shadow:0 0 0 1px rgba(16, 22, 26, 0.1), 0 0 0 rgba(16, 22, 26, 0), 0 1px 1px rgba(16, 22, 26, 0.2);
  opacity:0.9;
  -webkit-transition-duration:0;
          transition-duration:0; }
  .bp3-card.bp3-interactive:active.bp3-dark,
  .bp3-dark .bp3-card.bp3-interactive:active{
    -webkit-box-shadow:0 0 0 1px rgba(16, 22, 26, 0.2), 0 0 0 rgba(16, 22, 26, 0), 0 1px 1px rgba(16, 22, 26, 0.4);
            box-shadow:0 0 0 1px rgba(16, 22, 26, 0.2), 0 0 0 rgba(16, 22, 26, 0), 0 1px 1px rgba(16, 22, 26, 0.4); }

.bp3-collapse{
  height:0;
  overflow-y:hidden;
  -webkit-transition:height 200ms cubic-bezier(0.4, 1, 0.75, 0.9);
  transition:height 200ms cubic-bezier(0.4, 1, 0.75, 0.9); }
  .bp3-collapse .bp3-collapse-body{
    -webkit-transition:-webkit-transform 200ms cubic-bezier(0.4, 1, 0.75, 0.9);
    transition:-webkit-transform 200ms cubic-bezier(0.4, 1, 0.75, 0.9);
    transition:transform 200ms cubic-bezier(0.4, 1, 0.75, 0.9);
    transition:transform 200ms cubic-bezier(0.4, 1, 0.75, 0.9), -webkit-transform 200ms cubic-bezier(0.4, 1, 0.75, 0.9); }
    .bp3-collapse .bp3-collapse-body[aria-hidden="true"]{
      display:none; }

.bp3-context-menu .bp3-popover-target{
  display:block; }

.bp3-context-menu-popover-target{
  position:fixed; }

.bp3-divider{
  border-bottom:1px solid rgba(16, 22, 26, 0.15);
  border-right:1px solid rgba(16, 22, 26, 0.15);
  margin:5px; }
  .bp3-dark .bp3-divider{
    border-color:rgba(16, 22, 26, 0.4); }
.bp3-dialog-container{
  opacity:1;
  -webkit-transform:scale(1);
          transform:scale(1);
  -webkit-box-align:center;
      -ms-flex-align:center;
          align-items:center;
  display:-webkit-box;
  display:-ms-flexbox;
  display:flex;
  -webkit-box-pack:center;
      -ms-flex-pack:center;
          justify-content:center;
  min-height:100%;
  pointer-events:none;
  -webkit-user-select:none;
     -moz-user-select:none;
      -ms-user-select:none;
          user-select:none;
  width:100%; }
  .bp3-dialog-container.bp3-overlay-enter > .bp3-dialog, .bp3-dialog-container.bp3-overlay-appear > .bp3-dialog{
    opacity:0;
    -webkit-transform:scale(0.5);
            transform:scale(0.5); }
  .bp3-dialog-container.bp3-overlay-enter-active > .bp3-dialog, .bp3-dialog-container.bp3-overlay-appear-active > .bp3-dialog{
    opacity:1;
    -webkit-transform:scale(1);
            transform:scale(1);
    -webkit-transition-delay:0;
            transition-delay:0;
    -webkit-transition-duration:300ms;
            transition-duration:300ms;
    -webkit-transition-property:opacity, -webkit-transform;
    transition-property:opacity, -webkit-transform;
    transition-property:opacity, transform;
    transition-property:opacity, transform, -webkit-transform;
    -webkit-transition-timing-function:cubic-bezier(0.54, 1.12, 0.38, 1.11);
            transition-timing-function:cubic-bezier(0.54, 1.12, 0.38, 1.11); }
  .bp3-dialog-container.bp3-overlay-exit > .bp3-dialog{
    opacity:1;
    -webkit-transform:scale(1);
            transform:scale(1); }
  .bp3-dialog-container.bp3-overlay-exit-active > .bp3-dialog{
    opacity:0;
    -webkit-transform:scale(0.5);
            transform:scale(0.5);
    -webkit-transition-delay:0;
            transition-delay:0;
    -webkit-transition-duration:300ms;
            transition-duration:300ms;
    -webkit-transition-property:opacity, -webkit-transform;
    transition-property:opacity, -webkit-transform;
    transition-property:opacity, transform;
    transition-property:opacity, transform, -webkit-transform;
    -webkit-transition-timing-function:cubic-bezier(0.54, 1.12, 0.38, 1.11);
            transition-timing-function:cubic-bezier(0.54, 1.12, 0.38, 1.11); }

.bp3-dialog{
  background:#ebf1f5;
  border-radius:6px;
  -webkit-box-shadow:0 0 0 1px rgba(16, 22, 26, 0.1), 0 4px 8px rgba(16, 22, 26, 0.2), 0 18px 46px 6px rgba(16, 22, 26, 0.2);
          box-shadow:0 0 0 1px rgba(16, 22, 26, 0.1), 0 4px 8px rgba(16, 22, 26, 0.2), 0 18px 46px 6px rgba(16, 22, 26, 0.2);
  display:-webkit-box;
  display:-ms-flexbox;
  display:flex;
  -webkit-box-orient:vertical;
  -webkit-box-direction:normal;
      -ms-flex-direction:column;
          flex-direction:column;
  margin:30px 0;
  padding-bottom:20px;
  pointer-events:all;
  -webkit-user-select:text;
     -moz-user-select:text;
      -ms-user-select:text;
          user-select:text;
  width:500px; }
  .bp3-dialog:focus{
    outline:0; }
  .bp3-dialog.bp3-dark,
  .bp3-dark .bp3-dialog{
    background:#293742;
    -webkit-box-shadow:0 0 0 1px rgba(16, 22, 26, 0.2), 0 4px 8px rgba(16, 22, 26, 0.4), 0 18px 46px 6px rgba(16, 22, 26, 0.4);
            box-shadow:0 0 0 1px rgba(16, 22, 26, 0.2), 0 4px 8px rgba(16, 22, 26, 0.4), 0 18px 46px 6px rgba(16, 22, 26, 0.4);
    color:#f5f8fa; }

.bp3-dialog-header{
  -webkit-box-align:center;
      -ms-flex-align:center;
          align-items:center;
  background:#ffffff;
  border-radius:6px 6px 0 0;
  -webkit-box-shadow:0 1px 0 rgba(16, 22, 26, 0.15);
          box-shadow:0 1px 0 rgba(16, 22, 26, 0.15);
  display:-webkit-box;
  display:-ms-flexbox;
  display:flex;
  -webkit-box-flex:0;
      -ms-flex:0 0 auto;
          flex:0 0 auto;
  min-height:40px;
  padding-left:20px;
  padding-right:5px;
  z-index:30; }
  .bp3-dialog-header .bp3-icon-large,
  .bp3-dialog-header .bp3-icon{
    color:#5c7080;
    -webkit-box-flex:0;
        -ms-flex:0 0 auto;
            flex:0 0 auto;
    margin-right:10px; }
  .bp3-dialog-header .bp3-heading{
    overflow:hidden;
    text-overflow:ellipsis;
    white-space:nowrap;
    word-wrap:normal;
    -webkit-box-flex:1;
        -ms-flex:1 1 auto;
            flex:1 1 auto;
    line-height:inherit;
    margin:0; }
    .bp3-dialog-header .bp3-heading:last-child{
      margin-right:20px; }
  .bp3-dark .bp3-dialog-header{
    background:#30404d;
    -webkit-box-shadow:0 1px 0 rgba(16, 22, 26, 0.4);
            box-shadow:0 1px 0 rgba(16, 22, 26, 0.4); }
    .bp3-dark .bp3-dialog-header .bp3-icon-large,
    .bp3-dark .bp3-dialog-header .bp3-icon{
      color:#a7b6c2; }

.bp3-dialog-body{
  -webkit-box-flex:1;
      -ms-flex:1 1 auto;
          flex:1 1 auto;
  line-height:18px;
  margin:20px; }

.bp3-dialog-footer{
  -webkit-box-flex:0;
      -ms-flex:0 0 auto;
          flex:0 0 auto;
  margin:0 20px; }

.bp3-dialog-footer-actions{
  display:-webkit-box;
  display:-ms-flexbox;
  display:flex;
  -webkit-box-pack:end;
      -ms-flex-pack:end;
          justify-content:flex-end; }
  .bp3-dialog-footer-actions .bp3-button{
    margin-left:10px; }
.bp3-multistep-dialog-panels{
  display:-webkit-box;
  display:-ms-flexbox;
  display:flex; }

.bp3-multistep-dialog-left-panel{
  display:-webkit-box;
  display:-ms-flexbox;
  display:flex;
  -webkit-box-flex:1;
      -ms-flex:1;
          flex:1;
  -webkit-box-orient:vertical;
  -webkit-box-direction:normal;
      -ms-flex-direction:column;
          flex-direction:column; }
  .bp3-dark .bp3-multistep-dialog-left-panel{
    background:#202b33; }

.bp3-multistep-dialog-right-panel{
  background-color:#f5f8fa;
  border-left:1px solid rgba(16, 22, 26, 0.15);
  border-radius:0 0 6px 0;
  -webkit-box-flex:3;
      -ms-flex:3;
          flex:3;
  min-width:0; }
  .bp3-dark .bp3-multistep-dialog-right-panel{
    background-color:#293742;
    border-left:1px solid rgba(16, 22, 26, 0.4); }

.bp3-multistep-dialog-footer{
  background-color:#ffffff;
  border-radius:0 0 6px 0;
  border-top:1px solid rgba(16, 22, 26, 0.15);
  padding:10px; }
  .bp3-dark .bp3-multistep-dialog-footer{
    background:#30404d;
    border-top:1px solid rgba(16, 22, 26, 0.4); }

.bp3-dialog-step-container{
  background-color:#f5f8fa;
  border-bottom:1px solid rgba(16, 22, 26, 0.15); }
  .bp3-dark .bp3-dialog-step-container{
    background:#293742;
    border-bottom:1px solid rgba(16, 22, 26, 0.4); }
  .bp3-dialog-step-container.bp3-dialog-step-viewed{
    background-color:#ffffff; }
    .bp3-dark .bp3-dialog-step-container.bp3-dialog-step-viewed{
      background:#30404d; }

.bp3-dialog-step{
  -webkit-box-align:center;
      -ms-flex-align:center;
          align-items:center;
  background-color:#f5f8fa;
  border-radius:6px;
  cursor:not-allowed;
  display:-webkit-box;
  display:-ms-flexbox;
  display:flex;
  margin:4px;
  padding:6px 14px; }
  .bp3-dark .bp3-dialog-step{
    background:#293742; }
  .bp3-dialog-step-viewed .bp3-dialog-step{
    background-color:#ffffff;
    cursor:pointer; }
    .bp3-dark .bp3-dialog-step-viewed .bp3-dialog-step{
      background:#30404d; }
  .bp3-dialog-step:hover{
    background-color:#f5f8fa; }
    .bp3-dark .bp3-dialog-step:hover{
      background:#293742; }

.bp3-dialog-step-icon{
  -webkit-box-align:center;
      -ms-flex-align:center;
          align-items:center;
  background-color:rgba(92, 112, 128, 0.6);
  border-radius:50%;
  color:#ffffff;
  display:-webkit-box;
  display:-ms-flexbox;
  display:flex;
  height:25px;
  -webkit-box-pack:center;
      -ms-flex-pack:center;
          justify-content:center;
  width:25px; }
  .bp3-dark .bp3-dialog-step-icon{
    background-color:rgba(167, 182, 194, 0.6); }
  .bp3-active.bp3-dialog-step-viewed .bp3-dialog-step-icon{
    background-color:#2b95d6; }
  .bp3-dialog-step-viewed .bp3-dialog-step-icon{
    background-color:#8a9ba8; }

.bp3-dialog-step-title{
  color:rgba(92, 112, 128, 0.6);
  -webkit-box-flex:1;
      -ms-flex:1;
          flex:1;
  padding-left:10px; }
  .bp3-dark .bp3-dialog-step-title{
    color:rgba(167, 182, 194, 0.6); }
  .bp3-active.bp3-dialog-step-viewed .bp3-dialog-step-title{
    color:#2b95d6; }
  .bp3-dialog-step-viewed:not(.bp3-active) .bp3-dialog-step-title{
    color:#182026; }
    .bp3-dark .bp3-dialog-step-viewed:not(.bp3-active) .bp3-dialog-step-title{
      color:#f5f8fa; }
.bp3-drawer{
  background:#ffffff;
  -webkit-box-shadow:0 0 0 1px rgba(16, 22, 26, 0.1), 0 4px 8px rgba(16, 22, 26, 0.2), 0 18px 46px 6px rgba(16, 22, 26, 0.2);
          box-shadow:0 0 0 1px rgba(16, 22, 26, 0.1), 0 4px 8px rgba(16, 22, 26, 0.2), 0 18px 46px 6px rgba(16, 22, 26, 0.2);
  display:-webkit-box;
  display:-ms-flexbox;
  display:flex;
  -webkit-box-orient:vertical;
  -webkit-box-direction:normal;
      -ms-flex-direction:column;
          flex-direction:column;
  margin:0;
  padding:0; }
  .bp3-drawer:focus{
    outline:0; }
  .bp3-drawer.bp3-position-top{
    height:50%;
    left:0;
    right:0;
    top:0; }
    .bp3-drawer.bp3-position-top.bp3-overlay-enter, .bp3-drawer.bp3-position-top.bp3-overlay-appear{
      -webkit-transform:translateY(-100%);
              transform:translateY(-100%); }
    .bp3-drawer.bp3-position-top.bp3-overlay-enter-active, .bp3-drawer.bp3-position-top.bp3-overlay-appear-active{
      -webkit-transform:translateY(0);
              transform:translateY(0);
      -webkit-transition-delay:0;
              transition-delay:0;
      -webkit-transition-duration:200ms;
              transition-duration:200ms;
      -webkit-transition-property:-webkit-transform;
      transition-property:-webkit-transform;
      transition-property:transform;
      transition-property:transform, -webkit-transform;
      -webkit-transition-timing-function:cubic-bezier(0.4, 1, 0.75, 0.9);
              transition-timing-function:cubic-bezier(0.4, 1, 0.75, 0.9); }
    .bp3-drawer.bp3-position-top.bp3-overlay-exit{
      -webkit-transform:translateY(0);
              transform:translateY(0); }
    .bp3-drawer.bp3-position-top.bp3-overlay-exit-active{
      -webkit-transform:translateY(-100%);
              transform:translateY(-100%);
      -webkit-transition-delay:0;
              transition-delay:0;
      -webkit-transition-duration:100ms;
              transition-duration:100ms;
      -webkit-transition-property:-webkit-transform;
      transition-property:-webkit-transform;
      transition-property:transform;
      transition-property:transform, -webkit-transform;
      -webkit-transition-timing-function:cubic-bezier(0.4, 1, 0.75, 0.9);
              transition-timing-function:cubic-bezier(0.4, 1, 0.75, 0.9); }
  .bp3-drawer.bp3-position-bottom{
    bottom:0;
    height:50%;
    left:0;
    right:0; }
    .bp3-drawer.bp3-position-bottom.bp3-overlay-enter, .bp3-drawer.bp3-position-bottom.bp3-overlay-appear{
      -webkit-transform:translateY(100%);
              transform:translateY(100%); }
    .bp3-drawer.bp3-position-bottom.bp3-overlay-enter-active, .bp3-drawer.bp3-position-bottom.bp3-overlay-appear-active{
      -webkit-transform:translateY(0);
              transform:translateY(0);
      -webkit-transition-delay:0;
              transition-delay:0;
      -webkit-transition-duration:200ms;
              transition-duration:200ms;
      -webkit-transition-property:-webkit-transform;
      transition-property:-webkit-transform;
      transition-property:transform;
      transition-property:transform, -webkit-transform;
      -webkit-transition-timing-function:cubic-bezier(0.4, 1, 0.75, 0.9);
              transition-timing-function:cubic-bezier(0.4, 1, 0.75, 0.9); }
    .bp3-drawer.bp3-position-bottom.bp3-overlay-exit{
      -webkit-transform:translateY(0);
              transform:translateY(0); }
    .bp3-drawer.bp3-position-bottom.bp3-overlay-exit-active{
      -webkit-transform:translateY(100%);
              transform:translateY(100%);
      -webkit-transition-delay:0;
              transition-delay:0;
      -webkit-transition-duration:100ms;
              transition-duration:100ms;
      -webkit-transition-property:-webkit-transform;
      transition-property:-webkit-transform;
      transition-property:transform;
      transition-property:transform, -webkit-transform;
      -webkit-transition-timing-function:cubic-bezier(0.4, 1, 0.75, 0.9);
              transition-timing-function:cubic-bezier(0.4, 1, 0.75, 0.9); }
  .bp3-drawer.bp3-position-left{
    bottom:0;
    left:0;
    top:0;
    width:50%; }
    .bp3-drawer.bp3-position-left.bp3-overlay-enter, .bp3-drawer.bp3-position-left.bp3-overlay-appear{
      -webkit-transform:translateX(-100%);
              transform:translateX(-100%); }
    .bp3-drawer.bp3-position-left.bp3-overlay-enter-active, .bp3-drawer.bp3-position-left.bp3-overlay-appear-active{
      -webkit-transform:translateX(0);
              transform:translateX(0);
      -webkit-transition-delay:0;
              transition-delay:0;
      -webkit-transition-duration:200ms;
              transition-duration:200ms;
      -webkit-transition-property:-webkit-transform;
      transition-property:-webkit-transform;
      transition-property:transform;
      transition-property:transform, -webkit-transform;
      -webkit-transition-timing-function:cubic-bezier(0.4, 1, 0.75, 0.9);
              transition-timing-function:cubic-bezier(0.4, 1, 0.75, 0.9); }
    .bp3-drawer.bp3-position-left.bp3-overlay-exit{
      -webkit-transform:translateX(0);
              transform:translateX(0); }
    .bp3-drawer.bp3-position-left.bp3-overlay-exit-active{
      -webkit-transform:translateX(-100%);
              transform:translateX(-100%);
      -webkit-transition-delay:0;
              transition-delay:0;
      -webkit-transition-duration:100ms;
              transition-duration:100ms;
      -webkit-transition-property:-webkit-transform;
      transition-property:-webkit-transform;
      transition-property:transform;
      transition-property:transform, -webkit-transform;
      -webkit-transition-timing-function:cubic-bezier(0.4, 1, 0.75, 0.9);
              transition-timing-function:cubic-bezier(0.4, 1, 0.75, 0.9); }
  .bp3-drawer.bp3-position-right{
    bottom:0;
    right:0;
    top:0;
    width:50%; }
    .bp3-drawer.bp3-position-right.bp3-overlay-enter, .bp3-drawer.bp3-position-right.bp3-overlay-appear{
      -webkit-transform:translateX(100%);
              transform:translateX(100%); }
    .bp3-drawer.bp3-position-right.bp3-overlay-enter-active, .bp3-drawer.bp3-position-right.bp3-overlay-appear-active{
      -webkit-transform:translateX(0);
              transform:translateX(0);
      -webkit-transition-delay:0;
              transition-delay:0;
      -webkit-transition-duration:200ms;
              transition-duration:200ms;
      -webkit-transition-property:-webkit-transform;
      transition-property:-webkit-transform;
      transition-property:transform;
      transition-property:transform, -webkit-transform;
      -webkit-transition-timing-function:cubic-bezier(0.4, 1, 0.75, 0.9);
              transition-timing-function:cubic-bezier(0.4, 1, 0.75, 0.9); }
    .bp3-drawer.bp3-position-right.bp3-overlay-exit{
      -webkit-transform:translateX(0);
              transform:translateX(0); }
    .bp3-drawer.bp3-position-right.bp3-overlay-exit-active{
      -webkit-transform:translateX(100%);
              transform:translateX(100%);
      -webkit-transition-delay:0;
              transition-delay:0;
      -webkit-transition-duration:100ms;
              transition-duration:100ms;
      -webkit-transition-property:-webkit-transform;
      transition-property:-webkit-transform;
      transition-property:transform;
      transition-property:transform, -webkit-transform;
      -webkit-transition-timing-function:cubic-bezier(0.4, 1, 0.75, 0.9);
              transition-timing-function:cubic-bezier(0.4, 1, 0.75, 0.9); }
  .bp3-drawer:not(.bp3-position-top):not(.bp3-position-bottom):not(.bp3-position-left):not(
  .bp3-position-right):not(.bp3-vertical){
    bottom:0;
    right:0;
    top:0;
    width:50%; }
    .bp3-drawer:not(.bp3-position-top):not(.bp3-position-bottom):not(.bp3-position-left):not(
    .bp3-position-right):not(.bp3-vertical).bp3-overlay-enter, .bp3-drawer:not(.bp3-position-top):not(.bp3-position-bottom):not(.bp3-position-left):not(
    .bp3-position-right):not(.bp3-vertical).bp3-overlay-appear{
      -webkit-transform:translateX(100%);
              transform:translateX(100%); }
    .bp3-drawer:not(.bp3-position-top):not(.bp3-position-bottom):not(.bp3-position-left):not(
    .bp3-position-right):not(.bp3-vertical).bp3-overlay-enter-active, .bp3-drawer:not(.bp3-position-top):not(.bp3-position-bottom):not(.bp3-position-left):not(
    .bp3-position-right):not(.bp3-vertical).bp3-overlay-appear-active{
      -webkit-transform:translateX(0);
              transform:translateX(0);
      -webkit-transition-delay:0;
              transition-delay:0;
      -webkit-transition-duration:200ms;
              transition-duration:200ms;
      -webkit-transition-property:-webkit-transform;
      transition-property:-webkit-transform;
      transition-property:transform;
      transition-property:transform, -webkit-transform;
      -webkit-transition-timing-function:cubic-bezier(0.4, 1, 0.75, 0.9);
              transition-timing-function:cubic-bezier(0.4, 1, 0.75, 0.9); }
    .bp3-drawer:not(.bp3-position-top):not(.bp3-position-bottom):not(.bp3-position-left):not(
    .bp3-position-right):not(.bp3-vertical).bp3-overlay-exit{
      -webkit-transform:translateX(0);
              transform:translateX(0); }
    .bp3-drawer:not(.bp3-position-top):not(.bp3-position-bottom):not(.bp3-position-left):not(
    .bp3-position-right):not(.bp3-vertical).bp3-overlay-exit-active{
      -webkit-transform:translateX(100%);
              transform:translateX(100%);
      -webkit-transition-delay:0;
              transition-delay:0;
      -webkit-transition-duration:100ms;
              transition-duration:100ms;
      -webkit-transition-property:-webkit-transform;
      transition-property:-webkit-transform;
      transition-property:transform;
      transition-property:transform, -webkit-transform;
      -webkit-transition-timing-function:cubic-bezier(0.4, 1, 0.75, 0.9);
              transition-timing-function:cubic-bezier(0.4, 1, 0.75, 0.9); }
  .bp3-drawer:not(.bp3-position-top):not(.bp3-position-bottom):not(.bp3-position-left):not(
  .bp3-position-right).bp3-vertical{
    bottom:0;
    height:50%;
    left:0;
    right:0; }
    .bp3-drawer:not(.bp3-position-top):not(.bp3-position-bottom):not(.bp3-position-left):not(
    .bp3-position-right).bp3-vertical.bp3-overlay-enter, .bp3-drawer:not(.bp3-position-top):not(.bp3-position-bottom):not(.bp3-position-left):not(
    .bp3-position-right).bp3-vertical.bp3-overlay-appear{
      -webkit-transform:translateY(100%);
              transform:translateY(100%); }
    .bp3-drawer:not(.bp3-position-top):not(.bp3-position-bottom):not(.bp3-position-left):not(
    .bp3-position-right).bp3-vertical.bp3-overlay-enter-active, .bp3-drawer:not(.bp3-position-top):not(.bp3-position-bottom):not(.bp3-position-left):not(
    .bp3-position-right).bp3-vertical.bp3-overlay-appear-active{
      -webkit-transform:translateY(0);
              transform:translateY(0);
      -webkit-transition-delay:0;
              transition-delay:0;
      -webkit-transition-duration:200ms;
              transition-duration:200ms;
      -webkit-transition-property:-webkit-transform;
      transition-property:-webkit-transform;
      transition-property:transform;
      transition-property:transform, -webkit-transform;
      -webkit-transition-timing-function:cubic-bezier(0.4, 1, 0.75, 0.9);
              transition-timing-function:cubic-bezier(0.4, 1, 0.75, 0.9); }
    .bp3-drawer:not(.bp3-position-top):not(.bp3-position-bottom):not(.bp3-position-left):not(
    .bp3-position-right).bp3-vertical.bp3-overlay-exit{
      -webkit-transform:translateY(0);
              transform:translateY(0); }
    .bp3-drawer:not(.bp3-position-top):not(.bp3-position-bottom):not(.bp3-position-left):not(
    .bp3-position-right).bp3-vertical.bp3-overlay-exit-active{
      -webkit-transform:translateY(100%);
              transform:translateY(100%);
      -webkit-transition-delay:0;
              transition-delay:0;
      -webkit-transition-duration:100ms;
              transition-duration:100ms;
      -webkit-transition-property:-webkit-transform;
      transition-property:-webkit-transform;
      transition-property:transform;
      transition-property:transform, -webkit-transform;
      -webkit-transition-timing-function:cubic-bezier(0.4, 1, 0.75, 0.9);
              transition-timing-function:cubic-bezier(0.4, 1, 0.75, 0.9); }
  .bp3-drawer.bp3-dark,
  .bp3-dark .bp3-drawer{
    background:#30404d;
    -webkit-box-shadow:0 0 0 1px rgba(16, 22, 26, 0.2), 0 4px 8px rgba(16, 22, 26, 0.4), 0 18px 46px 6px rgba(16, 22, 26, 0.4);
            box-shadow:0 0 0 1px rgba(16, 22, 26, 0.2), 0 4px 8px rgba(16, 22, 26, 0.4), 0 18px 46px 6px rgba(16, 22, 26, 0.4);
    color:#f5f8fa; }

.bp3-drawer-header{
  -webkit-box-align:center;
      -ms-flex-align:center;
          align-items:center;
  border-radius:0;
  -webkit-box-shadow:0 1px 0 rgba(16, 22, 26, 0.15);
          box-shadow:0 1px 0 rgba(16, 22, 26, 0.15);
  display:-webkit-box;
  display:-ms-flexbox;
  display:flex;
  -webkit-box-flex:0;
      -ms-flex:0 0 auto;
          flex:0 0 auto;
  min-height:40px;
  padding:5px;
  padding-left:20px;
  position:relative; }
  .bp3-drawer-header .bp3-icon-large,
  .bp3-drawer-header .bp3-icon{
    color:#5c7080;
    -webkit-box-flex:0;
        -ms-flex:0 0 auto;
            flex:0 0 auto;
    margin-right:10px; }
  .bp3-drawer-header .bp3-heading{
    overflow:hidden;
    text-overflow:ellipsis;
    white-space:nowrap;
    word-wrap:normal;
    -webkit-box-flex:1;
        -ms-flex:1 1 auto;
            flex:1 1 auto;
    line-height:inherit;
    margin:0; }
    .bp3-drawer-header .bp3-heading:last-child{
      margin-right:20px; }
  .bp3-dark .bp3-drawer-header{
    -webkit-box-shadow:0 1px 0 rgba(16, 22, 26, 0.4);
            box-shadow:0 1px 0 rgba(16, 22, 26, 0.4); }
    .bp3-dark .bp3-drawer-header .bp3-icon-large,
    .bp3-dark .bp3-drawer-header .bp3-icon{
      color:#a7b6c2; }

.bp3-drawer-body{
  -webkit-box-flex:1;
      -ms-flex:1 1 auto;
          flex:1 1 auto;
  line-height:18px;
  overflow:auto; }

.bp3-drawer-footer{
  -webkit-box-shadow:inset 0 1px 0 rgba(16, 22, 26, 0.15);
          box-shadow:inset 0 1px 0 rgba(16, 22, 26, 0.15);
  -webkit-box-flex:0;
      -ms-flex:0 0 auto;
          flex:0 0 auto;
  padding:10px 20px;
  position:relative; }
  .bp3-dark .bp3-drawer-footer{
    -webkit-box-shadow:inset 0 1px 0 rgba(16, 22, 26, 0.4);
            box-shadow:inset 0 1px 0 rgba(16, 22, 26, 0.4); }
.bp3-editable-text{
  cursor:text;
  display:inline-block;
  max-width:100%;
  position:relative;
  vertical-align:top;
  white-space:nowrap; }
  .bp3-editable-text::before{
    bottom:-3px;
    left:-3px;
    position:absolute;
    right:-3px;
    top:-3px;
    border-radius:3px;
    content:"";
    -webkit-transition:background-color 100ms cubic-bezier(0.4, 1, 0.75, 0.9), -webkit-box-shadow 100ms cubic-bezier(0.4, 1, 0.75, 0.9);
    transition:background-color 100ms cubic-bezier(0.4, 1, 0.75, 0.9), -webkit-box-shadow 100ms cubic-bezier(0.4, 1, 0.75, 0.9);
    transition:background-color 100ms cubic-bezier(0.4, 1, 0.75, 0.9), box-shadow 100ms cubic-bezier(0.4, 1, 0.75, 0.9);
    transition:background-color 100ms cubic-bezier(0.4, 1, 0.75, 0.9), box-shadow 100ms cubic-bezier(0.4, 1, 0.75, 0.9), -webkit-box-shadow 100ms cubic-bezier(0.4, 1, 0.75, 0.9); }
  .bp3-editable-text:hover::before{
    -webkit-box-shadow:0 0 0 0 rgba(19, 124, 189, 0), 0 0 0 0 rgba(19, 124, 189, 0), inset 0 0 0 1px rgba(16, 22, 26, 0.15);
            box-shadow:0 0 0 0 rgba(19, 124, 189, 0), 0 0 0 0 rgba(19, 124, 189, 0), inset 0 0 0 1px rgba(16, 22, 26, 0.15); }
  .bp3-editable-text.bp3-editable-text-editing::before{
    background-color:#ffffff;
    -webkit-box-shadow:0 0 0 1px #137cbd, 0 0 0 3px rgba(19, 124, 189, 0.3), inset 0 1px 1px rgba(16, 22, 26, 0.2);
            box-shadow:0 0 0 1px #137cbd, 0 0 0 3px rgba(19, 124, 189, 0.3), inset 0 1px 1px rgba(16, 22, 26, 0.2); }
  .bp3-editable-text.bp3-disabled::before{
    -webkit-box-shadow:none;
            box-shadow:none; }
  .bp3-editable-text.bp3-intent-primary .bp3-editable-text-input,
  .bp3-editable-text.bp3-intent-primary .bp3-editable-text-content{
    color:#137cbd; }
  .bp3-editable-text.bp3-intent-primary:hover::before{
    -webkit-box-shadow:0 0 0 0 rgba(19, 124, 189, 0), 0 0 0 0 rgba(19, 124, 189, 0), inset 0 0 0 1px rgba(19, 124, 189, 0.4);
            box-shadow:0 0 0 0 rgba(19, 124, 189, 0), 0 0 0 0 rgba(19, 124, 189, 0), inset 0 0 0 1px rgba(19, 124, 189, 0.4); }
  .bp3-editable-text.bp3-intent-primary.bp3-editable-text-editing::before{
    -webkit-box-shadow:0 0 0 1px #137cbd, 0 0 0 3px rgba(19, 124, 189, 0.3), inset 0 1px 1px rgba(16, 22, 26, 0.2);
            box-shadow:0 0 0 1px #137cbd, 0 0 0 3px rgba(19, 124, 189, 0.3), inset 0 1px 1px rgba(16, 22, 26, 0.2); }
  .bp3-editable-text.bp3-intent-success .bp3-editable-text-input,
  .bp3-editable-text.bp3-intent-success .bp3-editable-text-content{
    color:#0f9960; }
  .bp3-editable-text.bp3-intent-success:hover::before{
    -webkit-box-shadow:0 0 0 0 rgba(15, 153, 96, 0), 0 0 0 0 rgba(15, 153, 96, 0), inset 0 0 0 1px rgba(15, 153, 96, 0.4);
            box-shadow:0 0 0 0 rgba(15, 153, 96, 0), 0 0 0 0 rgba(15, 153, 96, 0), inset 0 0 0 1px rgba(15, 153, 96, 0.4); }
  .bp3-editable-text.bp3-intent-success.bp3-editable-text-editing::before{
    -webkit-box-shadow:0 0 0 1px #0f9960, 0 0 0 3px rgba(15, 153, 96, 0.3), inset 0 1px 1px rgba(16, 22, 26, 0.2);
            box-shadow:0 0 0 1px #0f9960, 0 0 0 3px rgba(15, 153, 96, 0.3), inset 0 1px 1px rgba(16, 22, 26, 0.2); }
  .bp3-editable-text.bp3-intent-warning .bp3-editable-text-input,
  .bp3-editable-text.bp3-intent-warning .bp3-editable-text-content{
    color:#d9822b; }
  .bp3-editable-text.bp3-intent-warning:hover::before{
    -webkit-box-shadow:0 0 0 0 rgba(217, 130, 43, 0), 0 0 0 0 rgba(217, 130, 43, 0), inset 0 0 0 1px rgba(217, 130, 43, 0.4);
            box-shadow:0 0 0 0 rgba(217, 130, 43, 0), 0 0 0 0 rgba(217, 130, 43, 0), inset 0 0 0 1px rgba(217, 130, 43, 0.4); }
  .bp3-editable-text.bp3-intent-warning.bp3-editable-text-editing::before{
    -webkit-box-shadow:0 0 0 1px #d9822b, 0 0 0 3px rgba(217, 130, 43, 0.3), inset 0 1px 1px rgba(16, 22, 26, 0.2);
            box-shadow:0 0 0 1px #d9822b, 0 0 0 3px rgba(217, 130, 43, 0.3), inset 0 1px 1px rgba(16, 22, 26, 0.2); }
  .bp3-editable-text.bp3-intent-danger .bp3-editable-text-input,
  .bp3-editable-text.bp3-intent-danger .bp3-editable-text-content{
    color:#db3737; }
  .bp3-editable-text.bp3-intent-danger:hover::before{
    -webkit-box-shadow:0 0 0 0 rgba(219, 55, 55, 0), 0 0 0 0 rgba(219, 55, 55, 0), inset 0 0 0 1px rgba(219, 55, 55, 0.4);
            box-shadow:0 0 0 0 rgba(219, 55, 55, 0), 0 0 0 0 rgba(219, 55, 55, 0), inset 0 0 0 1px rgba(219, 55, 55, 0.4); }
  .bp3-editable-text.bp3-intent-danger.bp3-editable-text-editing::before{
    -webkit-box-shadow:0 0 0 1px #db3737, 0 0 0 3px rgba(219, 55, 55, 0.3), inset 0 1px 1px rgba(16, 22, 26, 0.2);
            box-shadow:0 0 0 1px #db3737, 0 0 0 3px rgba(219, 55, 55, 0.3), inset 0 1px 1px rgba(16, 22, 26, 0.2); }
  .bp3-dark .bp3-editable-text:hover::before{
    -webkit-box-shadow:0 0 0 0 rgba(19, 124, 189, 0), 0 0 0 0 rgba(19, 124, 189, 0), inset 0 0 0 1px rgba(255, 255, 255, 0.15);
            box-shadow:0 0 0 0 rgba(19, 124, 189, 0), 0 0 0 0 rgba(19, 124, 189, 0), inset 0 0 0 1px rgba(255, 255, 255, 0.15); }
  .bp3-dark .bp3-editable-text.bp3-editable-text-editing::before{
    background-color:rgba(16, 22, 26, 0.3);
    -webkit-box-shadow:0 0 0 1px #137cbd, 0 0 0 3px rgba(19, 124, 189, 0.3), inset 0 0 0 1px rgba(16, 22, 26, 0.3), inset 0 1px 1px rgba(16, 22, 26, 0.4);
            box-shadow:0 0 0 1px #137cbd, 0 0 0 3px rgba(19, 124, 189, 0.3), inset 0 0 0 1px rgba(16, 22, 26, 0.3), inset 0 1px 1px rgba(16, 22, 26, 0.4); }
  .bp3-dark .bp3-editable-text.bp3-disabled::before{
    -webkit-box-shadow:none;
            box-shadow:none; }
  .bp3-dark .bp3-editable-text.bp3-intent-primary .bp3-editable-text-content{
    color:#48aff0; }
  .bp3-dark .bp3-editable-text.bp3-intent-primary:hover::before{
    -webkit-box-shadow:0 0 0 0 rgba(72, 175, 240, 0), 0 0 0 0 rgba(72, 175, 240, 0), inset 0 0 0 1px rgba(72, 175, 240, 0.4);
            box-shadow:0 0 0 0 rgba(72, 175, 240, 0), 0 0 0 0 rgba(72, 175, 240, 0), inset 0 0 0 1px rgba(72, 175, 240, 0.4); }
  .bp3-dark .bp3-editable-text.bp3-intent-primary.bp3-editable-text-editing::before{
    -webkit-box-shadow:0 0 0 1px #48aff0, 0 0 0 3px rgba(72, 175, 240, 0.3), inset 0 0 0 1px rgba(16, 22, 26, 0.3), inset 0 1px 1px rgba(16, 22, 26, 0.4);
            box-shadow:0 0 0 1px #48aff0, 0 0 0 3px rgba(72, 175, 240, 0.3), inset 0 0 0 1px rgba(16, 22, 26, 0.3), inset 0 1px 1px rgba(16, 22, 26, 0.4); }
  .bp3-dark .bp3-editable-text.bp3-intent-success .bp3-editable-text-content{
    color:#3dcc91; }
  .bp3-dark .bp3-editable-text.bp3-intent-success:hover::before{
    -webkit-box-shadow:0 0 0 0 rgba(61, 204, 145, 0), 0 0 0 0 rgba(61, 204, 145, 0), inset 0 0 0 1px rgba(61, 204, 145, 0.4);
            box-shadow:0 0 0 0 rgba(61, 204, 145, 0), 0 0 0 0 rgba(61, 204, 145, 0), inset 0 0 0 1px rgba(61, 204, 145, 0.4); }
  .bp3-dark .bp3-editable-text.bp3-intent-success.bp3-editable-text-editing::before{
    -webkit-box-shadow:0 0 0 1px #3dcc91, 0 0 0 3px rgba(61, 204, 145, 0.3), inset 0 0 0 1px rgba(16, 22, 26, 0.3), inset 0 1px 1px rgba(16, 22, 26, 0.4);
            box-shadow:0 0 0 1px #3dcc91, 0 0 0 3px rgba(61, 204, 145, 0.3), inset 0 0 0 1px rgba(16, 22, 26, 0.3), inset 0 1px 1px rgba(16, 22, 26, 0.4); }
  .bp3-dark .bp3-editable-text.bp3-intent-warning .bp3-editable-text-content{
    color:#ffb366; }
  .bp3-dark .bp3-editable-text.bp3-intent-warning:hover::before{
    -webkit-box-shadow:0 0 0 0 rgba(255, 179, 102, 0), 0 0 0 0 rgba(255, 179, 102, 0), inset 0 0 0 1px rgba(255, 179, 102, 0.4);
            box-shadow:0 0 0 0 rgba(255, 179, 102, 0), 0 0 0 0 rgba(255, 179, 102, 0), inset 0 0 0 1px rgba(255, 179, 102, 0.4); }
  .bp3-dark .bp3-editable-text.bp3-intent-warning.bp3-editable-text-editing::before{
    -webkit-box-shadow:0 0 0 1px #ffb366, 0 0 0 3px rgba(255, 179, 102, 0.3), inset 0 0 0 1px rgba(16, 22, 26, 0.3), inset 0 1px 1px rgba(16, 22, 26, 0.4);
            box-shadow:0 0 0 1px #ffb366, 0 0 0 3px rgba(255, 179, 102, 0.3), inset 0 0 0 1px rgba(16, 22, 26, 0.3), inset 0 1px 1px rgba(16, 22, 26, 0.4); }
  .bp3-dark .bp3-editable-text.bp3-intent-danger .bp3-editable-text-content{
    color:#ff7373; }
  .bp3-dark .bp3-editable-text.bp3-intent-danger:hover::before{
    -webkit-box-shadow:0 0 0 0 rgba(255, 115, 115, 0), 0 0 0 0 rgba(255, 115, 115, 0), inset 0 0 0 1px rgba(255, 115, 115, 0.4);
            box-shadow:0 0 0 0 rgba(255, 115, 115, 0), 0 0 0 0 rgba(255, 115, 115, 0), inset 0 0 0 1px rgba(255, 115, 115, 0.4); }
  .bp3-dark .bp3-editable-text.bp3-intent-danger.bp3-editable-text-editing::before{
    -webkit-box-shadow:0 0 0 1px #ff7373, 0 0 0 3px rgba(255, 115, 115, 0.3), inset 0 0 0 1px rgba(16, 22, 26, 0.3), inset 0 1px 1px rgba(16, 22, 26, 0.4);
            box-shadow:0 0 0 1px #ff7373, 0 0 0 3px rgba(255, 115, 115, 0.3), inset 0 0 0 1px rgba(16, 22, 26, 0.3), inset 0 1px 1px rgba(16, 22, 26, 0.4); }

.bp3-editable-text-input,
.bp3-editable-text-content{
  color:inherit;
  display:inherit;
  font:inherit;
  letter-spacing:inherit;
  max-width:inherit;
  min-width:inherit;
  position:relative;
  resize:none;
  text-transform:inherit;
  vertical-align:top; }

.bp3-editable-text-input{
  background:none;
  border:none;
  -webkit-box-shadow:none;
          box-shadow:none;
  padding:0;
  white-space:pre-wrap;
  width:100%; }
  .bp3-editable-text-input::-webkit-input-placeholder{
    color:rgba(92, 112, 128, 0.6);
    opacity:1; }
  .bp3-editable-text-input::-moz-placeholder{
    color:rgba(92, 112, 128, 0.6);
    opacity:1; }
  .bp3-editable-text-input:-ms-input-placeholder{
    color:rgba(92, 112, 128, 0.6);
    opacity:1; }
  .bp3-editable-text-input::-ms-input-placeholder{
    color:rgba(92, 112, 128, 0.6);
    opacity:1; }
  .bp3-editable-text-input::placeholder{
    color:rgba(92, 112, 128, 0.6);
    opacity:1; }
  .bp3-editable-text-input:focus{
    outline:none; }
  .bp3-editable-text-input::-ms-clear{
    display:none; }

.bp3-editable-text-content{
  overflow:hidden;
  padding-right:2px;
  text-overflow:ellipsis;
  white-space:pre; }
  .bp3-editable-text-editing > .bp3-editable-text-content{
    left:0;
    position:absolute;
    visibility:hidden; }
  .bp3-editable-text-placeholder > .bp3-editable-text-content{
    color:rgba(92, 112, 128, 0.6); }
    .bp3-dark .bp3-editable-text-placeholder > .bp3-editable-text-content{
      color:rgba(167, 182, 194, 0.6); }

.bp3-editable-text.bp3-multiline{
  display:block; }
  .bp3-editable-text.bp3-multiline .bp3-editable-text-content{
    overflow:auto;
    white-space:pre-wrap;
    word-wrap:break-word; }
.bp3-divider{
  border-bottom:1px solid rgba(16, 22, 26, 0.15);
  border-right:1px solid rgba(16, 22, 26, 0.15);
  margin:5px; }
  .bp3-dark .bp3-divider{
    border-color:rgba(16, 22, 26, 0.4); }
.bp3-control-group{
  -webkit-transform:translateZ(0);
          transform:translateZ(0);
  display:-webkit-box;
  display:-ms-flexbox;
  display:flex;
  -webkit-box-orient:horizontal;
  -webkit-box-direction:normal;
      -ms-flex-direction:row;
          flex-direction:row;
  -webkit-box-align:stretch;
      -ms-flex-align:stretch;
          align-items:stretch; }
  .bp3-control-group > *{
    -webkit-box-flex:0;
        -ms-flex-positive:0;
            flex-grow:0;
    -ms-flex-negative:0;
        flex-shrink:0; }
  .bp3-control-group > .bp3-fill{
    -webkit-box-flex:1;
        -ms-flex-positive:1;
            flex-grow:1;
    -ms-flex-negative:1;
        flex-shrink:1; }
  .bp3-control-group .bp3-button,
  .bp3-control-group .bp3-html-select,
  .bp3-control-group .bp3-input,
  .bp3-control-group .bp3-select{
    position:relative; }
  .bp3-control-group .bp3-input{
    border-radius:inherit;
    z-index:2; }
    .bp3-control-group .bp3-input:focus{
      border-radius:3px;
      z-index:14; }
    .bp3-control-group .bp3-input[class*="bp3-intent"]{
      z-index:13; }
      .bp3-control-group .bp3-input[class*="bp3-intent"]:focus{
        z-index:15; }
    .bp3-control-group .bp3-input[readonly], .bp3-control-group .bp3-input:disabled, .bp3-control-group .bp3-input.bp3-disabled{
      z-index:1; }
  .bp3-control-group .bp3-input-group[class*="bp3-intent"] .bp3-input{
    z-index:13; }
    .bp3-control-group .bp3-input-group[class*="bp3-intent"] .bp3-input:focus{
      z-index:15; }
  .bp3-control-group .bp3-button,
  .bp3-control-group .bp3-html-select select,
  .bp3-control-group .bp3-select select{
    -webkit-transform:translateZ(0);
            transform:translateZ(0);
    border-radius:inherit;
    z-index:4; }
    .bp3-control-group .bp3-button:focus,
    .bp3-control-group .bp3-html-select select:focus,
    .bp3-control-group .bp3-select select:focus{
      z-index:5; }
    .bp3-control-group .bp3-button:hover,
    .bp3-control-group .bp3-html-select select:hover,
    .bp3-control-group .bp3-select select:hover{
      z-index:6; }
    .bp3-control-group .bp3-button:active,
    .bp3-control-group .bp3-html-select select:active,
    .bp3-control-group .bp3-select select:active{
      z-index:7; }
    .bp3-control-group .bp3-button[readonly], .bp3-control-group .bp3-button:disabled, .bp3-control-group .bp3-button.bp3-disabled,
    .bp3-control-group .bp3-html-select select[readonly],
    .bp3-control-group .bp3-html-select select:disabled,
    .bp3-control-group .bp3-html-select select.bp3-disabled,
    .bp3-control-group .bp3-select select[readonly],
    .bp3-control-group .bp3-select select:disabled,
    .bp3-control-group .bp3-select select.bp3-disabled{
      z-index:3; }
    .bp3-control-group .bp3-button[class*="bp3-intent"],
    .bp3-control-group .bp3-html-select select[class*="bp3-intent"],
    .bp3-control-group .bp3-select select[class*="bp3-intent"]{
      z-index:9; }
      .bp3-control-group .bp3-button[class*="bp3-intent"]:focus,
      .bp3-control-group .bp3-html-select select[class*="bp3-intent"]:focus,
      .bp3-control-group .bp3-select select[class*="bp3-intent"]:focus{
        z-index:10; }
      .bp3-control-group .bp3-button[class*="bp3-intent"]:hover,
      .bp3-control-group .bp3-html-select select[class*="bp3-intent"]:hover,
      .bp3-control-group .bp3-select select[class*="bp3-intent"]:hover{
        z-index:11; }
      .bp3-control-group .bp3-button[class*="bp3-intent"]:active,
      .bp3-control-group .bp3-html-select select[class*="bp3-intent"]:active,
      .bp3-control-group .bp3-select select[class*="bp3-intent"]:active{
        z-index:12; }
      .bp3-control-group .bp3-button[class*="bp3-intent"][readonly], .bp3-control-group .bp3-button[class*="bp3-intent"]:disabled, .bp3-control-group .bp3-button[class*="bp3-intent"].bp3-disabled,
      .bp3-control-group .bp3-html-select select[class*="bp3-intent"][readonly],
      .bp3-control-group .bp3-html-select select[class*="bp3-intent"]:disabled,
      .bp3-control-group .bp3-html-select select[class*="bp3-intent"].bp3-disabled,
      .bp3-control-group .bp3-select select[class*="bp3-intent"][readonly],
      .bp3-control-group .bp3-select select[class*="bp3-intent"]:disabled,
      .bp3-control-group .bp3-select select[class*="bp3-intent"].bp3-disabled{
        z-index:8; }
  .bp3-control-group .bp3-input-group > .bp3-icon,
  .bp3-control-group .bp3-input-group > .bp3-button,
  .bp3-control-group .bp3-input-group > .bp3-input-left-container,
  .bp3-control-group .bp3-input-group > .bp3-input-action{
    z-index:16; }
  .bp3-control-group .bp3-select::after,
  .bp3-control-group .bp3-html-select::after,
  .bp3-control-group .bp3-select > .bp3-icon,
  .bp3-control-group .bp3-html-select > .bp3-icon{
    z-index:17; }
  .bp3-control-group .bp3-select:focus-within{
    z-index:5; }
  .bp3-control-group:not(.bp3-vertical) > *:not(.bp3-divider){
    margin-right:-1px; }
  .bp3-control-group:not(.bp3-vertical) > .bp3-divider:not(:first-child){
    margin-left:6px; }
  .bp3-dark .bp3-control-group:not(.bp3-vertical) > *:not(.bp3-divider){
    margin-right:0; }
  .bp3-dark .bp3-control-group:not(.bp3-vertical) > .bp3-button + .bp3-button{
    margin-left:1px; }
  .bp3-control-group .bp3-popover-wrapper,
  .bp3-control-group .bp3-popover-target{
    border-radius:inherit; }
  .bp3-control-group > :first-child{
    border-radius:3px 0 0 3px; }
  .bp3-control-group > :last-child{
    border-radius:0 3px 3px 0;
    margin-right:0; }
  .bp3-control-group > :only-child{
    border-radius:3px;
    margin-right:0; }
  .bp3-control-group .bp3-input-group .bp3-button{
    border-radius:3px; }
  .bp3-control-group .bp3-numeric-input:not(:first-child) .bp3-input-group{
    border-bottom-left-radius:0;
    border-top-left-radius:0; }
  .bp3-control-group.bp3-fill{
    width:100%; }
  .bp3-control-group > .bp3-fill{
    -webkit-box-flex:1;
        -ms-flex:1 1 auto;
            flex:1 1 auto; }
  .bp3-control-group.bp3-fill > *:not(.bp3-fixed){
    -webkit-box-flex:1;
        -ms-flex:1 1 auto;
            flex:1 1 auto; }
  .bp3-control-group.bp3-vertical{
    -webkit-box-orient:vertical;
    -webkit-box-direction:normal;
        -ms-flex-direction:column;
            flex-direction:column; }
    .bp3-control-group.bp3-vertical > *{
      margin-top:-1px; }
    .bp3-control-group.bp3-vertical > :first-child{
      border-radius:3px 3px 0 0;
      margin-top:0; }
    .bp3-control-group.bp3-vertical > :last-child{
      border-radius:0 0 3px 3px; }
.bp3-control{
  cursor:pointer;
  display:block;
  margin-bottom:10px;
  position:relative;
  text-transform:none; }
  .bp3-control input:checked ~ .bp3-control-indicator{
    background-color:#137cbd;
    background-image:-webkit-gradient(linear, left top, left bottom, from(rgba(255, 255, 255, 0.1)), to(rgba(255, 255, 255, 0)));
    background-image:linear-gradient(to bottom, rgba(255, 255, 255, 0.1), rgba(255, 255, 255, 0));
    -webkit-box-shadow:inset 0 0 0 1px rgba(16, 22, 26, 0.4), inset 0 -1px 0 rgba(16, 22, 26, 0.2);
            box-shadow:inset 0 0 0 1px rgba(16, 22, 26, 0.4), inset 0 -1px 0 rgba(16, 22, 26, 0.2);
    color:#ffffff; }
  .bp3-control:hover input:checked ~ .bp3-control-indicator{
    background-color:#106ba3;
    -webkit-box-shadow:inset 0 0 0 1px rgba(16, 22, 26, 0.4), inset 0 -1px 0 rgba(16, 22, 26, 0.2);
            box-shadow:inset 0 0 0 1px rgba(16, 22, 26, 0.4), inset 0 -1px 0 rgba(16, 22, 26, 0.2); }
  .bp3-control input:not(:disabled):active:checked ~ .bp3-control-indicator{
    background:#0e5a8a;
    -webkit-box-shadow:inset 0 0 0 1px rgba(16, 22, 26, 0.4), inset 0 1px 2px rgba(16, 22, 26, 0.2);
            box-shadow:inset 0 0 0 1px rgba(16, 22, 26, 0.4), inset 0 1px 2px rgba(16, 22, 26, 0.2); }
  .bp3-control input:disabled:checked ~ .bp3-control-indicator{
    background:rgba(19, 124, 189, 0.5);
    -webkit-box-shadow:none;
            box-shadow:none; }
  .bp3-dark .bp3-control input:checked ~ .bp3-control-indicator{
    -webkit-box-shadow:0 0 0 1px rgba(16, 22, 26, 0.4);
            box-shadow:0 0 0 1px rgba(16, 22, 26, 0.4); }
  .bp3-dark .bp3-control:hover input:checked ~ .bp3-control-indicator{
    background-color:#106ba3;
    -webkit-box-shadow:0 0 0 1px rgba(16, 22, 26, 0.4);
            box-shadow:0 0 0 1px rgba(16, 22, 26, 0.4); }
  .bp3-dark .bp3-control input:not(:disabled):active:checked ~ .bp3-control-indicator{
    background-color:#0e5a8a;
    -webkit-box-shadow:0 0 0 1px rgba(16, 22, 26, 0.4), inset 0 1px 2px rgba(16, 22, 26, 0.2);
            box-shadow:0 0 0 1px rgba(16, 22, 26, 0.4), inset 0 1px 2px rgba(16, 22, 26, 0.2); }
  .bp3-dark .bp3-control input:disabled:checked ~ .bp3-control-indicator{
    background:rgba(14, 90, 138, 0.5);
    -webkit-box-shadow:none;
            box-shadow:none; }
  .bp3-control:not(.bp3-align-right){
    padding-left:26px; }
    .bp3-control:not(.bp3-align-right) .bp3-control-indicator{
      margin-left:-26px; }
  .bp3-control.bp3-align-right{
    padding-right:26px; }
    .bp3-control.bp3-align-right .bp3-control-indicator{
      margin-right:-26px; }
  .bp3-control.bp3-disabled{
    color:rgba(92, 112, 128, 0.6);
    cursor:not-allowed; }
  .bp3-control.bp3-inline{
    display:inline-block;
    margin-right:20px; }
  .bp3-control input{
    left:0;
    opacity:0;
    position:absolute;
    top:0;
    z-index:-1; }
  .bp3-control .bp3-control-indicator{
    background-clip:padding-box;
    background-color:#f5f8fa;
    background-image:-webkit-gradient(linear, left top, left bottom, from(rgba(255, 255, 255, 0.8)), to(rgba(255, 255, 255, 0)));
    background-image:linear-gradient(to bottom, rgba(255, 255, 255, 0.8), rgba(255, 255, 255, 0));
    border:none;
    -webkit-box-shadow:inset 0 0 0 1px rgba(16, 22, 26, 0.2), inset 0 -1px 0 rgba(16, 22, 26, 0.1);
            box-shadow:inset 0 0 0 1px rgba(16, 22, 26, 0.2), inset 0 -1px 0 rgba(16, 22, 26, 0.1);
    cursor:pointer;
    display:inline-block;
    font-size:16px;
    height:1em;
    margin-right:10px;
    margin-top:-3px;
    position:relative;
    -webkit-user-select:none;
       -moz-user-select:none;
        -ms-user-select:none;
            user-select:none;
    vertical-align:middle;
    width:1em; }
    .bp3-control .bp3-control-indicator::before{
      content:"";
      display:block;
      height:1em;
      width:1em; }
  .bp3-control:hover .bp3-control-indicator{
    background-color:#ebf1f5; }
  .bp3-control input:not(:disabled):active ~ .bp3-control-indicator{
    background:#d8e1e8;
    -webkit-box-shadow:inset 0 0 0 1px rgba(16, 22, 26, 0.2), inset 0 1px 2px rgba(16, 22, 26, 0.2);
            box-shadow:inset 0 0 0 1px rgba(16, 22, 26, 0.2), inset 0 1px 2px rgba(16, 22, 26, 0.2); }
  .bp3-control input:disabled ~ .bp3-control-indicator{
    background:rgba(206, 217, 224, 0.5);
    -webkit-box-shadow:none;
            box-shadow:none;
    cursor:not-allowed; }
  .bp3-control input:focus ~ .bp3-control-indicator{
    outline:rgba(19, 124, 189, 0.6) auto 2px;
    outline-offset:2px;
    -moz-outline-radius:6px; }
  .bp3-control.bp3-align-right .bp3-control-indicator{
    float:right;
    margin-left:10px;
    margin-top:1px; }
  .bp3-control.bp3-large{
    font-size:16px; }
    .bp3-control.bp3-large:not(.bp3-align-right){
      padding-left:30px; }
      .bp3-control.bp3-large:not(.bp3-align-right) .bp3-control-indicator{
        margin-left:-30px; }
    .bp3-control.bp3-large.bp3-align-right{
      padding-right:30px; }
      .bp3-control.bp3-large.bp3-align-right .bp3-control-indicator{
        margin-right:-30px; }
    .bp3-control.bp3-large .bp3-control-indicator{
      font-size:20px; }
    .bp3-control.bp3-large.bp3-align-right .bp3-control-indicator{
      margin-top:0; }
  .bp3-control.bp3-checkbox input:indeterminate ~ .bp3-control-indicator{
    background-color:#137cbd;
    background-image:-webkit-gradient(linear, left top, left bottom, from(rgba(255, 255, 255, 0.1)), to(rgba(255, 255, 255, 0)));
    background-image:linear-gradient(to bottom, rgba(255, 255, 255, 0.1), rgba(255, 255, 255, 0));
    -webkit-box-shadow:inset 0 0 0 1px rgba(16, 22, 26, 0.4), inset 0 -1px 0 rgba(16, 22, 26, 0.2);
            box-shadow:inset 0 0 0 1px rgba(16, 22, 26, 0.4), inset 0 -1px 0 rgba(16, 22, 26, 0.2);
    color:#ffffff; }
  .bp3-control.bp3-checkbox:hover input:indeterminate ~ .bp3-control-indicator{
    background-color:#106ba3;
    -webkit-box-shadow:inset 0 0 0 1px rgba(16, 22, 26, 0.4), inset 0 -1px 0 rgba(16, 22, 26, 0.2);
            box-shadow:inset 0 0 0 1px rgba(16, 22, 26, 0.4), inset 0 -1px 0 rgba(16, 22, 26, 0.2); }
  .bp3-control.bp3-checkbox input:not(:disabled):active:indeterminate ~ .bp3-control-indicator{
    background:#0e5a8a;
    -webkit-box-shadow:inset 0 0 0 1px rgba(16, 22, 26, 0.4), inset 0 1px 2px rgba(16, 22, 26, 0.2);
            box-shadow:inset 0 0 0 1px rgba(16, 22, 26, 0.4), inset 0 1px 2px rgba(16, 22, 26, 0.2); }
  .bp3-control.bp3-checkbox input:disabled:indeterminate ~ .bp3-control-indicator{
    background:rgba(19, 124, 189, 0.5);
    -webkit-box-shadow:none;
            box-shadow:none; }
  .bp3-dark .bp3-control.bp3-checkbox input:indeterminate ~ .bp3-control-indicator{
    -webkit-box-shadow:0 0 0 1px rgba(16, 22, 26, 0.4);
            box-shadow:0 0 0 1px rgba(16, 22, 26, 0.4); }
  .bp3-dark .bp3-control.bp3-checkbox:hover input:indeterminate ~ .bp3-control-indicator{
    background-color:#106ba3;
    -webkit-box-shadow:0 0 0 1px rgba(16, 22, 26, 0.4);
            box-shadow:0 0 0 1px rgba(16, 22, 26, 0.4); }
  .bp3-dark .bp3-control.bp3-checkbox input:not(:disabled):active:indeterminate ~ .bp3-control-indicator{
    background-color:#0e5a8a;
    -webkit-box-shadow:0 0 0 1px rgba(16, 22, 26, 0.4), inset 0 1px 2px rgba(16, 22, 26, 0.2);
            box-shadow:0 0 0 1px rgba(16, 22, 26, 0.4), inset 0 1px 2px rgba(16, 22, 26, 0.2); }
  .bp3-dark .bp3-control.bp3-checkbox input:disabled:indeterminate ~ .bp3-control-indicator{
    background:rgba(14, 90, 138, 0.5);
    -webkit-box-shadow:none;
            box-shadow:none; }
  .bp3-control.bp3-checkbox .bp3-control-indicator{
    border-radius:3px; }
  .bp3-control.bp3-checkbox input:checked ~ .bp3-control-indicator::before{
    background-image:url("data:image/svg+xml,%3csvg xmlns='http://www.w3.org/2000/svg' viewBox='0 0 16 16'%3e%3cpath fill-rule='evenodd' clip-rule='evenodd' d='M12 5c-.28 0-.53.11-.71.29L7 9.59l-2.29-2.3a1.003 1.003 0 00-1.42 1.42l3 3c.18.18.43.29.71.29s.53-.11.71-.29l5-5A1.003 1.003 0 0012 5z' fill='white'/%3e%3c/svg%3e"); }
  .bp3-control.bp3-checkbox input:indeterminate ~ .bp3-control-indicator::before{
    background-image:url("data:image/svg+xml,%3csvg xmlns='http://www.w3.org/2000/svg' viewBox='0 0 16 16'%3e%3cpath fill-rule='evenodd' clip-rule='evenodd' d='M11 7H5c-.55 0-1 .45-1 1s.45 1 1 1h6c.55 0 1-.45 1-1s-.45-1-1-1z' fill='white'/%3e%3c/svg%3e"); }
  .bp3-control.bp3-radio .bp3-control-indicator{
    border-radius:50%; }
  .bp3-control.bp3-radio input:checked ~ .bp3-control-indicator::before{
    background-image:radial-gradient(#ffffff, #ffffff 28%, transparent 32%); }
  .bp3-control.bp3-radio input:checked:disabled ~ .bp3-control-indicator::before{
    opacity:0.5; }
  .bp3-control.bp3-radio input:focus ~ .bp3-control-indicator{
    -moz-outline-radius:16px; }
  .bp3-control.bp3-switch input ~ .bp3-control-indicator{
    background:rgba(167, 182, 194, 0.5); }
  .bp3-control.bp3-switch:hover input ~ .bp3-control-indicator{
    background:rgba(115, 134, 148, 0.5); }
  .bp3-control.bp3-switch input:not(:disabled):active ~ .bp3-control-indicator{
    background:rgba(92, 112, 128, 0.5); }
  .bp3-control.bp3-switch input:disabled ~ .bp3-control-indicator{
    background:rgba(206, 217, 224, 0.5); }
    .bp3-control.bp3-switch input:disabled ~ .bp3-control-indicator::before{
      background:rgba(255, 255, 255, 0.8); }
  .bp3-control.bp3-switch input:checked ~ .bp3-control-indicator{
    background:#137cbd; }
  .bp3-control.bp3-switch:hover input:checked ~ .bp3-control-indicator{
    background:#106ba3; }
  .bp3-control.bp3-switch input:checked:not(:disabled):active ~ .bp3-control-indicator{
    background:#0e5a8a; }
  .bp3-control.bp3-switch input:checked:disabled ~ .bp3-control-indicator{
    background:rgba(19, 124, 189, 0.5); }
    .bp3-control.bp3-switch input:checked:disabled ~ .bp3-control-indicator::before{
      background:rgba(255, 255, 255, 0.8); }
  .bp3-control.bp3-switch:not(.bp3-align-right){
    padding-left:38px; }
    .bp3-control.bp3-switch:not(.bp3-align-right) .bp3-control-indicator{
      margin-left:-38px; }
  .bp3-control.bp3-switch.bp3-align-right{
    padding-right:38px; }
    .bp3-control.bp3-switch.bp3-align-right .bp3-control-indicator{
      margin-right:-38px; }
  .bp3-control.bp3-switch .bp3-control-indicator{
    border:none;
    border-radius:1.75em;
    -webkit-box-shadow:none !important;
            box-shadow:none !important;
    min-width:1.75em;
    -webkit-transition:background-color 100ms cubic-bezier(0.4, 1, 0.75, 0.9);
    transition:background-color 100ms cubic-bezier(0.4, 1, 0.75, 0.9);
    width:auto; }
    .bp3-control.bp3-switch .bp3-control-indicator::before{
      background:#ffffff;
      border-radius:50%;
      -webkit-box-shadow:0 0 0 1px rgba(16, 22, 26, 0.2), 0 1px 1px rgba(16, 22, 26, 0.2);
              box-shadow:0 0 0 1px rgba(16, 22, 26, 0.2), 0 1px 1px rgba(16, 22, 26, 0.2);
      height:calc(1em - 4px);
      left:0;
      margin:2px;
      position:absolute;
      -webkit-transition:left 100ms cubic-bezier(0.4, 1, 0.75, 0.9);
      transition:left 100ms cubic-bezier(0.4, 1, 0.75, 0.9);
      width:calc(1em - 4px); }
  .bp3-control.bp3-switch input:checked ~ .bp3-control-indicator::before{
    left:calc(100% - 1em); }
  .bp3-control.bp3-switch.bp3-large:not(.bp3-align-right){
    padding-left:45px; }
    .bp3-control.bp3-switch.bp3-large:not(.bp3-align-right) .bp3-control-indicator{
      margin-left:-45px; }
  .bp3-control.bp3-switch.bp3-large.bp3-align-right{
    padding-right:45px; }
    .bp3-control.bp3-switch.bp3-large.bp3-align-right .bp3-control-indicator{
      margin-right:-45px; }
  .bp3-dark .bp3-control.bp3-switch input ~ .bp3-control-indicator{
    background:rgba(16, 22, 26, 0.5); }
  .bp3-dark .bp3-control.bp3-switch:hover input ~ .bp3-control-indicator{
    background:rgba(16, 22, 26, 0.7); }
  .bp3-dark .bp3-control.bp3-switch input:not(:disabled):active ~ .bp3-control-indicator{
    background:rgba(16, 22, 26, 0.9); }
  .bp3-dark .bp3-control.bp3-switch input:disabled ~ .bp3-control-indicator{
    background:rgba(57, 75, 89, 0.5); }
    .bp3-dark .bp3-control.bp3-switch input:disabled ~ .bp3-control-indicator::before{
      background:rgba(16, 22, 26, 0.4); }
  .bp3-dark .bp3-control.bp3-switch input:checked ~ .bp3-control-indicator{
    background:#137cbd; }
  .bp3-dark .bp3-control.bp3-switch:hover input:checked ~ .bp3-control-indicator{
    background:#106ba3; }
  .bp3-dark .bp3-control.bp3-switch input:checked:not(:disabled):active ~ .bp3-control-indicator{
    background:#0e5a8a; }
  .bp3-dark .bp3-control.bp3-switch input:checked:disabled ~ .bp3-control-indicator{
    background:rgba(14, 90, 138, 0.5); }
    .bp3-dark .bp3-control.bp3-switch input:checked:disabled ~ .bp3-control-indicator::before{
      background:rgba(16, 22, 26, 0.4); }
  .bp3-dark .bp3-control.bp3-switch .bp3-control-indicator::before{
    background:#394b59;
    -webkit-box-shadow:0 0 0 1px rgba(16, 22, 26, 0.4);
            box-shadow:0 0 0 1px rgba(16, 22, 26, 0.4); }
  .bp3-dark .bp3-control.bp3-switch input:checked ~ .bp3-control-indicator::before{
    -webkit-box-shadow:inset 0 0 0 1px rgba(16, 22, 26, 0.4);
            box-shadow:inset 0 0 0 1px rgba(16, 22, 26, 0.4); }
  .bp3-control.bp3-switch .bp3-switch-inner-text{
    font-size:0.7em;
    text-align:center; }
  .bp3-control.bp3-switch .bp3-control-indicator-child:first-child{
    line-height:0;
    margin-left:0.5em;
    margin-right:1.2em;
    visibility:hidden; }
  .bp3-control.bp3-switch .bp3-control-indicator-child:last-child{
    line-height:1em;
    margin-left:1.2em;
    margin-right:0.5em;
    visibility:visible; }
  .bp3-control.bp3-switch input:checked ~ .bp3-control-indicator .bp3-control-indicator-child:first-child{
    line-height:1em;
    visibility:visible; }
  .bp3-control.bp3-switch input:checked ~ .bp3-control-indicator .bp3-control-indicator-child:last-child{
    line-height:0;
    visibility:hidden; }
  .bp3-dark .bp3-control{
    color:#f5f8fa; }
    .bp3-dark .bp3-control.bp3-disabled{
      color:rgba(167, 182, 194, 0.6); }
    .bp3-dark .bp3-control .bp3-control-indicator{
      background-color:#394b59;
      background-image:-webkit-gradient(linear, left top, left bottom, from(rgba(255, 255, 255, 0.05)), to(rgba(255, 255, 255, 0)));
      background-image:linear-gradient(to bottom, rgba(255, 255, 255, 0.05), rgba(255, 255, 255, 0));
      -webkit-box-shadow:0 0 0 1px rgba(16, 22, 26, 0.4);
              box-shadow:0 0 0 1px rgba(16, 22, 26, 0.4); }
    .bp3-dark .bp3-control:hover .bp3-control-indicator{
      background-color:#30404d; }
    .bp3-dark .bp3-control input:not(:disabled):active ~ .bp3-control-indicator{
      background:#202b33;
      -webkit-box-shadow:0 0 0 1px rgba(16, 22, 26, 0.6), inset 0 1px 2px rgba(16, 22, 26, 0.2);
              box-shadow:0 0 0 1px rgba(16, 22, 26, 0.6), inset 0 1px 2px rgba(16, 22, 26, 0.2); }
    .bp3-dark .bp3-control input:disabled ~ .bp3-control-indicator{
      background:rgba(57, 75, 89, 0.5);
      -webkit-box-shadow:none;
              box-shadow:none;
      cursor:not-allowed; }
    .bp3-dark .bp3-control.bp3-checkbox input:disabled:checked ~ .bp3-control-indicator, .bp3-dark .bp3-control.bp3-checkbox input:disabled:indeterminate ~ .bp3-control-indicator{
      color:rgba(167, 182, 194, 0.6); }
.bp3-file-input{
  cursor:pointer;
  display:inline-block;
  height:30px;
  position:relative; }
  .bp3-file-input input{
    margin:0;
    min-width:200px;
    opacity:0; }
    .bp3-file-input input:disabled + .bp3-file-upload-input,
    .bp3-file-input input.bp3-disabled + .bp3-file-upload-input{
      background:rgba(206, 217, 224, 0.5);
      -webkit-box-shadow:none;
              box-shadow:none;
      color:rgba(92, 112, 128, 0.6);
      cursor:not-allowed;
      resize:none; }
      .bp3-file-input input:disabled + .bp3-file-upload-input::after,
      .bp3-file-input input.bp3-disabled + .bp3-file-upload-input::after{
        background-color:rgba(206, 217, 224, 0.5);
        background-image:none;
        -webkit-box-shadow:none;
                box-shadow:none;
        color:rgba(92, 112, 128, 0.6);
        cursor:not-allowed;
        outline:none; }
        .bp3-file-input input:disabled + .bp3-file-upload-input::after.bp3-active, .bp3-file-input input:disabled + .bp3-file-upload-input::after.bp3-active:hover,
        .bp3-file-input input.bp3-disabled + .bp3-file-upload-input::after.bp3-active,
        .bp3-file-input input.bp3-disabled + .bp3-file-upload-input::after.bp3-active:hover{
          background:rgba(206, 217, 224, 0.7); }
      .bp3-dark .bp3-file-input input:disabled + .bp3-file-upload-input, .bp3-dark
      .bp3-file-input input.bp3-disabled + .bp3-file-upload-input{
        background:rgba(57, 75, 89, 0.5);
        -webkit-box-shadow:none;
                box-shadow:none;
        color:rgba(167, 182, 194, 0.6); }
        .bp3-dark .bp3-file-input input:disabled + .bp3-file-upload-input::after, .bp3-dark
        .bp3-file-input input.bp3-disabled + .bp3-file-upload-input::after{
          background-color:rgba(57, 75, 89, 0.5);
          background-image:none;
          -webkit-box-shadow:none;
                  box-shadow:none;
          color:rgba(167, 182, 194, 0.6); }
          .bp3-dark .bp3-file-input input:disabled + .bp3-file-upload-input::after.bp3-active, .bp3-dark
          .bp3-file-input input.bp3-disabled + .bp3-file-upload-input::after.bp3-active{
            background:rgba(57, 75, 89, 0.7); }
  .bp3-file-input.bp3-file-input-has-selection .bp3-file-upload-input{
    color:#182026; }
  .bp3-dark .bp3-file-input.bp3-file-input-has-selection .bp3-file-upload-input{
    color:#f5f8fa; }
  .bp3-file-input.bp3-fill{
    width:100%; }
  .bp3-file-input.bp3-large,
  .bp3-large .bp3-file-input{
    height:40px; }
  .bp3-file-input .bp3-file-upload-input-custom-text::after{
    content:attr(bp3-button-text); }

.bp3-file-upload-input{
  -webkit-appearance:none;
     -moz-appearance:none;
          appearance:none;
  background:#ffffff;
  border:none;
  border-radius:3px;
  -webkit-box-shadow:0 0 0 0 rgba(19, 124, 189, 0), 0 0 0 0 rgba(19, 124, 189, 0), inset 0 0 0 1px rgba(16, 22, 26, 0.15), inset 0 1px 1px rgba(16, 22, 26, 0.2);
          box-shadow:0 0 0 0 rgba(19, 124, 189, 0), 0 0 0 0 rgba(19, 124, 189, 0), inset 0 0 0 1px rgba(16, 22, 26, 0.15), inset 0 1px 1px rgba(16, 22, 26, 0.2);
  color:#182026;
  font-size:14px;
  font-weight:400;
  height:30px;
  line-height:30px;
  outline:none;
  padding:0 10px;
  -webkit-transition:-webkit-box-shadow 100ms cubic-bezier(0.4, 1, 0.75, 0.9);
  transition:-webkit-box-shadow 100ms cubic-bezier(0.4, 1, 0.75, 0.9);
  transition:box-shadow 100ms cubic-bezier(0.4, 1, 0.75, 0.9);
  transition:box-shadow 100ms cubic-bezier(0.4, 1, 0.75, 0.9), -webkit-box-shadow 100ms cubic-bezier(0.4, 1, 0.75, 0.9);
  vertical-align:middle;
  overflow:hidden;
  text-overflow:ellipsis;
  white-space:nowrap;
  word-wrap:normal;
  color:rgba(92, 112, 128, 0.6);
  left:0;
  padding-right:80px;
  position:absolute;
  right:0;
  top:0;
  -webkit-user-select:none;
     -moz-user-select:none;
      -ms-user-select:none;
          user-select:none; }
  .bp3-file-upload-input::-webkit-input-placeholder{
    color:rgba(92, 112, 128, 0.6);
    opacity:1; }
  .bp3-file-upload-input::-moz-placeholder{
    color:rgba(92, 112, 128, 0.6);
    opacity:1; }
  .bp3-file-upload-input:-ms-input-placeholder{
    color:rgba(92, 112, 128, 0.6);
    opacity:1; }
  .bp3-file-upload-input::-ms-input-placeholder{
    color:rgba(92, 112, 128, 0.6);
    opacity:1; }
  .bp3-file-upload-input::placeholder{
    color:rgba(92, 112, 128, 0.6);
    opacity:1; }
  .bp3-file-upload-input:focus, .bp3-file-upload-input.bp3-active{
    -webkit-box-shadow:0 0 0 1px #137cbd, 0 0 0 3px rgba(19, 124, 189, 0.3), inset 0 1px 1px rgba(16, 22, 26, 0.2);
            box-shadow:0 0 0 1px #137cbd, 0 0 0 3px rgba(19, 124, 189, 0.3), inset 0 1px 1px rgba(16, 22, 26, 0.2); }
  .bp3-file-upload-input[type="search"], .bp3-file-upload-input.bp3-round{
    border-radius:30px;
    -webkit-box-sizing:border-box;
            box-sizing:border-box;
    padding-left:10px; }
  .bp3-file-upload-input[readonly]{
    -webkit-box-shadow:inset 0 0 0 1px rgba(16, 22, 26, 0.15);
            box-shadow:inset 0 0 0 1px rgba(16, 22, 26, 0.15); }
  .bp3-file-upload-input:disabled, .bp3-file-upload-input.bp3-disabled{
    background:rgba(206, 217, 224, 0.5);
    -webkit-box-shadow:none;
            box-shadow:none;
    color:rgba(92, 112, 128, 0.6);
    cursor:not-allowed;
    resize:none; }
  .bp3-file-upload-input::after{
    background-color:#f5f8fa;
    background-image:-webkit-gradient(linear, left top, left bottom, from(rgba(255, 255, 255, 0.8)), to(rgba(255, 255, 255, 0)));
    background-image:linear-gradient(to bottom, rgba(255, 255, 255, 0.8), rgba(255, 255, 255, 0));
    -webkit-box-shadow:inset 0 0 0 1px rgba(16, 22, 26, 0.2), inset 0 -1px 0 rgba(16, 22, 26, 0.1);
            box-shadow:inset 0 0 0 1px rgba(16, 22, 26, 0.2), inset 0 -1px 0 rgba(16, 22, 26, 0.1);
    color:#182026;
    min-height:24px;
    min-width:24px;
    overflow:hidden;
    text-overflow:ellipsis;
    white-space:nowrap;
    word-wrap:normal;
    border-radius:3px;
    content:"Browse";
    line-height:24px;
    margin:3px;
    position:absolute;
    right:0;
    text-align:center;
    top:0;
    width:70px; }
    .bp3-file-upload-input::after:hover{
      background-clip:padding-box;
      background-color:#ebf1f5;
      -webkit-box-shadow:inset 0 0 0 1px rgba(16, 22, 26, 0.2), inset 0 -1px 0 rgba(16, 22, 26, 0.1);
              box-shadow:inset 0 0 0 1px rgba(16, 22, 26, 0.2), inset 0 -1px 0 rgba(16, 22, 26, 0.1); }
    .bp3-file-upload-input::after:active, .bp3-file-upload-input::after.bp3-active{
      background-color:#d8e1e8;
      background-image:none;
      -webkit-box-shadow:inset 0 0 0 1px rgba(16, 22, 26, 0.2), inset 0 1px 2px rgba(16, 22, 26, 0.2);
              box-shadow:inset 0 0 0 1px rgba(16, 22, 26, 0.2), inset 0 1px 2px rgba(16, 22, 26, 0.2); }
    .bp3-file-upload-input::after:disabled, .bp3-file-upload-input::after.bp3-disabled{
      background-color:rgba(206, 217, 224, 0.5);
      background-image:none;
      -webkit-box-shadow:none;
              box-shadow:none;
      color:rgba(92, 112, 128, 0.6);
      cursor:not-allowed;
      outline:none; }
      .bp3-file-upload-input::after:disabled.bp3-active, .bp3-file-upload-input::after:disabled.bp3-active:hover, .bp3-file-upload-input::after.bp3-disabled.bp3-active, .bp3-file-upload-input::after.bp3-disabled.bp3-active:hover{
        background:rgba(206, 217, 224, 0.7); }
  .bp3-file-upload-input:hover::after{
    background-clip:padding-box;
    background-color:#ebf1f5;
    -webkit-box-shadow:inset 0 0 0 1px rgba(16, 22, 26, 0.2), inset 0 -1px 0 rgba(16, 22, 26, 0.1);
            box-shadow:inset 0 0 0 1px rgba(16, 22, 26, 0.2), inset 0 -1px 0 rgba(16, 22, 26, 0.1); }
  .bp3-file-upload-input:active::after{
    background-color:#d8e1e8;
    background-image:none;
    -webkit-box-shadow:inset 0 0 0 1px rgba(16, 22, 26, 0.2), inset 0 1px 2px rgba(16, 22, 26, 0.2);
            box-shadow:inset 0 0 0 1px rgba(16, 22, 26, 0.2), inset 0 1px 2px rgba(16, 22, 26, 0.2); }
  .bp3-large .bp3-file-upload-input{
    font-size:16px;
    height:40px;
    line-height:40px;
    padding-right:95px; }
    .bp3-large .bp3-file-upload-input[type="search"], .bp3-large .bp3-file-upload-input.bp3-round{
      padding:0 15px; }
    .bp3-large .bp3-file-upload-input::after{
      min-height:30px;
      min-width:30px;
      line-height:30px;
      margin:5px;
      width:85px; }
  .bp3-dark .bp3-file-upload-input{
    background:rgba(16, 22, 26, 0.3);
    -webkit-box-shadow:0 0 0 0 rgba(19, 124, 189, 0), 0 0 0 0 rgba(19, 124, 189, 0), 0 0 0 0 rgba(19, 124, 189, 0), inset 0 0 0 1px rgba(16, 22, 26, 0.3), inset 0 1px 1px rgba(16, 22, 26, 0.4);
            box-shadow:0 0 0 0 rgba(19, 124, 189, 0), 0 0 0 0 rgba(19, 124, 189, 0), 0 0 0 0 rgba(19, 124, 189, 0), inset 0 0 0 1px rgba(16, 22, 26, 0.3), inset 0 1px 1px rgba(16, 22, 26, 0.4);
    color:#f5f8fa;
    color:rgba(167, 182, 194, 0.6); }
    .bp3-dark .bp3-file-upload-input::-webkit-input-placeholder{
      color:rgba(167, 182, 194, 0.6); }
    .bp3-dark .bp3-file-upload-input::-moz-placeholder{
      color:rgba(167, 182, 194, 0.6); }
    .bp3-dark .bp3-file-upload-input:-ms-input-placeholder{
      color:rgba(167, 182, 194, 0.6); }
    .bp3-dark .bp3-file-upload-input::-ms-input-placeholder{
      color:rgba(167, 182, 194, 0.6); }
    .bp3-dark .bp3-file-upload-input::placeholder{
      color:rgba(167, 182, 194, 0.6); }
    .bp3-dark .bp3-file-upload-input:focus{
      -webkit-box-shadow:0 0 0 1px #137cbd, 0 0 0 1px #137cbd, 0 0 0 3px rgba(19, 124, 189, 0.3), inset 0 0 0 1px rgba(16, 22, 26, 0.3), inset 0 1px 1px rgba(16, 22, 26, 0.4);
              box-shadow:0 0 0 1px #137cbd, 0 0 0 1px #137cbd, 0 0 0 3px rgba(19, 124, 189, 0.3), inset 0 0 0 1px rgba(16, 22, 26, 0.3), inset 0 1px 1px rgba(16, 22, 26, 0.4); }
    .bp3-dark .bp3-file-upload-input[readonly]{
      -webkit-box-shadow:inset 0 0 0 1px rgba(16, 22, 26, 0.4);
              box-shadow:inset 0 0 0 1px rgba(16, 22, 26, 0.4); }
    .bp3-dark .bp3-file-upload-input:disabled, .bp3-dark .bp3-file-upload-input.bp3-disabled{
      background:rgba(57, 75, 89, 0.5);
      -webkit-box-shadow:none;
              box-shadow:none;
      color:rgba(167, 182, 194, 0.6); }
    .bp3-dark .bp3-file-upload-input::after{
      background-color:#394b59;
      background-image:-webkit-gradient(linear, left top, left bottom, from(rgba(255, 255, 255, 0.05)), to(rgba(255, 255, 255, 0)));
      background-image:linear-gradient(to bottom, rgba(255, 255, 255, 0.05), rgba(255, 255, 255, 0));
      -webkit-box-shadow:0 0 0 1px rgba(16, 22, 26, 0.4);
              box-shadow:0 0 0 1px rgba(16, 22, 26, 0.4);
      color:#f5f8fa; }
      .bp3-dark .bp3-file-upload-input::after:hover, .bp3-dark .bp3-file-upload-input::after:active, .bp3-dark .bp3-file-upload-input::after.bp3-active{
        color:#f5f8fa; }
      .bp3-dark .bp3-file-upload-input::after:hover{
        background-color:#30404d;
        -webkit-box-shadow:0 0 0 1px rgba(16, 22, 26, 0.4);
                box-shadow:0 0 0 1px rgba(16, 22, 26, 0.4); }
      .bp3-dark .bp3-file-upload-input::after:active, .bp3-dark .bp3-file-upload-input::after.bp3-active{
        background-color:#202b33;
        background-image:none;
        -webkit-box-shadow:0 0 0 1px rgba(16, 22, 26, 0.6), inset 0 1px 2px rgba(16, 22, 26, 0.2);
                box-shadow:0 0 0 1px rgba(16, 22, 26, 0.6), inset 0 1px 2px rgba(16, 22, 26, 0.2); }
      .bp3-dark .bp3-file-upload-input::after:disabled, .bp3-dark .bp3-file-upload-input::after.bp3-disabled{
        background-color:rgba(57, 75, 89, 0.5);
        background-image:none;
        -webkit-box-shadow:none;
                box-shadow:none;
        color:rgba(167, 182, 194, 0.6); }
        .bp3-dark .bp3-file-upload-input::after:disabled.bp3-active, .bp3-dark .bp3-file-upload-input::after.bp3-disabled.bp3-active{
          background:rgba(57, 75, 89, 0.7); }
      .bp3-dark .bp3-file-upload-input::after .bp3-button-spinner .bp3-spinner-head{
        background:rgba(16, 22, 26, 0.5);
        stroke:#8a9ba8; }
    .bp3-dark .bp3-file-upload-input:hover::after{
      background-color:#30404d;
      -webkit-box-shadow:0 0 0 1px rgba(16, 22, 26, 0.4);
              box-shadow:0 0 0 1px rgba(16, 22, 26, 0.4); }
    .bp3-dark .bp3-file-upload-input:active::after{
      background-color:#202b33;
      background-image:none;
      -webkit-box-shadow:0 0 0 1px rgba(16, 22, 26, 0.6), inset 0 1px 2px rgba(16, 22, 26, 0.2);
              box-shadow:0 0 0 1px rgba(16, 22, 26, 0.6), inset 0 1px 2px rgba(16, 22, 26, 0.2); }
.bp3-file-upload-input::after{
  -webkit-box-shadow:inset 0 0 0 1px rgba(16, 22, 26, 0.2), inset 0 -1px 0 rgba(16, 22, 26, 0.1);
          box-shadow:inset 0 0 0 1px rgba(16, 22, 26, 0.2), inset 0 -1px 0 rgba(16, 22, 26, 0.1); }
.bp3-form-group{
  display:-webkit-box;
  display:-ms-flexbox;
  display:flex;
  -webkit-box-orient:vertical;
  -webkit-box-direction:normal;
      -ms-flex-direction:column;
          flex-direction:column;
  margin:0 0 15px; }
  .bp3-form-group label.bp3-label{
    margin-bottom:5px; }
  .bp3-form-group .bp3-control{
    margin-top:7px; }
  .bp3-form-group .bp3-form-helper-text{
    color:#5c7080;
    font-size:12px;
    margin-top:5px; }
  .bp3-form-group.bp3-intent-primary .bp3-form-helper-text{
    color:#106ba3; }
  .bp3-form-group.bp3-intent-success .bp3-form-helper-text{
    color:#0d8050; }
  .bp3-form-group.bp3-intent-warning .bp3-form-helper-text{
    color:#bf7326; }
  .bp3-form-group.bp3-intent-danger .bp3-form-helper-text{
    color:#c23030; }
  .bp3-form-group.bp3-inline{
    -webkit-box-align:start;
        -ms-flex-align:start;
            align-items:flex-start;
    -webkit-box-orient:horizontal;
    -webkit-box-direction:normal;
        -ms-flex-direction:row;
            flex-direction:row; }
    .bp3-form-group.bp3-inline.bp3-large label.bp3-label{
      line-height:40px;
      margin:0 10px 0 0; }
    .bp3-form-group.bp3-inline label.bp3-label{
      line-height:30px;
      margin:0 10px 0 0; }
  .bp3-form-group.bp3-disabled .bp3-label,
  .bp3-form-group.bp3-disabled .bp3-text-muted,
  .bp3-form-group.bp3-disabled .bp3-form-helper-text{
    color:rgba(92, 112, 128, 0.6) !important; }
  .bp3-dark .bp3-form-group.bp3-intent-primary .bp3-form-helper-text{
    color:#48aff0; }
  .bp3-dark .bp3-form-group.bp3-intent-success .bp3-form-helper-text{
    color:#3dcc91; }
  .bp3-dark .bp3-form-group.bp3-intent-warning .bp3-form-helper-text{
    color:#ffb366; }
  .bp3-dark .bp3-form-group.bp3-intent-danger .bp3-form-helper-text{
    color:#ff7373; }
  .bp3-dark .bp3-form-group .bp3-form-helper-text{
    color:#a7b6c2; }
  .bp3-dark .bp3-form-group.bp3-disabled .bp3-label,
  .bp3-dark .bp3-form-group.bp3-disabled .bp3-text-muted,
  .bp3-dark .bp3-form-group.bp3-disabled .bp3-form-helper-text{
    color:rgba(167, 182, 194, 0.6) !important; }
.bp3-input-group{
  display:block;
  position:relative; }
  .bp3-input-group .bp3-input{
    position:relative;
    width:100%; }
    .bp3-input-group .bp3-input:not(:first-child){
      padding-left:30px; }
    .bp3-input-group .bp3-input:not(:last-child){
      padding-right:30px; }
  .bp3-input-group .bp3-input-action,
  .bp3-input-group > .bp3-input-left-container,
  .bp3-input-group > .bp3-button,
  .bp3-input-group > .bp3-icon{
    position:absolute;
    top:0; }
    .bp3-input-group .bp3-input-action:first-child,
    .bp3-input-group > .bp3-input-left-container:first-child,
    .bp3-input-group > .bp3-button:first-child,
    .bp3-input-group > .bp3-icon:first-child{
      left:0; }
    .bp3-input-group .bp3-input-action:last-child,
    .bp3-input-group > .bp3-input-left-container:last-child,
    .bp3-input-group > .bp3-button:last-child,
    .bp3-input-group > .bp3-icon:last-child{
      right:0; }
  .bp3-input-group .bp3-button{
    min-height:24px;
    min-width:24px;
    margin:3px;
    padding:0 7px; }
    .bp3-input-group .bp3-button:empty{
      padding:0; }
  .bp3-input-group > .bp3-input-left-container,
  .bp3-input-group > .bp3-icon{
    z-index:1; }
  .bp3-input-group > .bp3-input-left-container > .bp3-icon,
  .bp3-input-group > .bp3-icon{
    color:#5c7080; }
    .bp3-input-group > .bp3-input-left-container > .bp3-icon:empty,
    .bp3-input-group > .bp3-icon:empty{
      font-family:"Icons16", sans-serif;
      font-size:16px;
      font-style:normal;
      font-weight:400;
      line-height:1;
      -moz-osx-font-smoothing:grayscale;
      -webkit-font-smoothing:antialiased; }
  .bp3-input-group > .bp3-input-left-container > .bp3-icon,
  .bp3-input-group > .bp3-icon,
  .bp3-input-group .bp3-input-action > .bp3-spinner{
    margin:7px; }
  .bp3-input-group .bp3-tag{
    margin:5px; }
  .bp3-input-group .bp3-input:not(:focus) + .bp3-button.bp3-minimal:not(:hover):not(:focus),
  .bp3-input-group .bp3-input:not(:focus) + .bp3-input-action .bp3-button.bp3-minimal:not(:hover):not(:focus){
    color:#5c7080; }
    .bp3-dark .bp3-input-group .bp3-input:not(:focus) + .bp3-button.bp3-minimal:not(:hover):not(:focus), .bp3-dark
    .bp3-input-group .bp3-input:not(:focus) + .bp3-input-action .bp3-button.bp3-minimal:not(:hover):not(:focus){
      color:#a7b6c2; }
    .bp3-input-group .bp3-input:not(:focus) + .bp3-button.bp3-minimal:not(:hover):not(:focus) .bp3-icon, .bp3-input-group .bp3-input:not(:focus) + .bp3-button.bp3-minimal:not(:hover):not(:focus) .bp3-icon-standard, .bp3-input-group .bp3-input:not(:focus) + .bp3-button.bp3-minimal:not(:hover):not(:focus) .bp3-icon-large,
    .bp3-input-group .bp3-input:not(:focus) + .bp3-input-action .bp3-button.bp3-minimal:not(:hover):not(:focus) .bp3-icon,
    .bp3-input-group .bp3-input:not(:focus) + .bp3-input-action .bp3-button.bp3-minimal:not(:hover):not(:focus) .bp3-icon-standard,
    .bp3-input-group .bp3-input:not(:focus) + .bp3-input-action .bp3-button.bp3-minimal:not(:hover):not(:focus) .bp3-icon-large{
      color:#5c7080; }
  .bp3-input-group .bp3-input:not(:focus) + .bp3-button.bp3-minimal:disabled,
  .bp3-input-group .bp3-input:not(:focus) + .bp3-input-action .bp3-button.bp3-minimal:disabled{
    color:rgba(92, 112, 128, 0.6) !important; }
    .bp3-input-group .bp3-input:not(:focus) + .bp3-button.bp3-minimal:disabled .bp3-icon, .bp3-input-group .bp3-input:not(:focus) + .bp3-button.bp3-minimal:disabled .bp3-icon-standard, .bp3-input-group .bp3-input:not(:focus) + .bp3-button.bp3-minimal:disabled .bp3-icon-large,
    .bp3-input-group .bp3-input:not(:focus) + .bp3-input-action .bp3-button.bp3-minimal:disabled .bp3-icon,
    .bp3-input-group .bp3-input:not(:focus) + .bp3-input-action .bp3-button.bp3-minimal:disabled .bp3-icon-standard,
    .bp3-input-group .bp3-input:not(:focus) + .bp3-input-action .bp3-button.bp3-minimal:disabled .bp3-icon-large{
      color:rgba(92, 112, 128, 0.6) !important; }
  .bp3-input-group.bp3-disabled{
    cursor:not-allowed; }
    .bp3-input-group.bp3-disabled .bp3-icon{
      color:rgba(92, 112, 128, 0.6); }
  .bp3-input-group.bp3-large .bp3-button{
    min-height:30px;
    min-width:30px;
    margin:5px; }
  .bp3-input-group.bp3-large > .bp3-input-left-container > .bp3-icon,
  .bp3-input-group.bp3-large > .bp3-icon,
  .bp3-input-group.bp3-large .bp3-input-action > .bp3-spinner{
    margin:12px; }
  .bp3-input-group.bp3-large .bp3-input{
    font-size:16px;
    height:40px;
    line-height:40px; }
    .bp3-input-group.bp3-large .bp3-input[type="search"], .bp3-input-group.bp3-large .bp3-input.bp3-round{
      padding:0 15px; }
    .bp3-input-group.bp3-large .bp3-input:not(:first-child){
      padding-left:40px; }
    .bp3-input-group.bp3-large .bp3-input:not(:last-child){
      padding-right:40px; }
  .bp3-input-group.bp3-small .bp3-button{
    min-height:20px;
    min-width:20px;
    margin:2px; }
  .bp3-input-group.bp3-small .bp3-tag{
    min-height:20px;
    min-width:20px;
    margin:2px; }
  .bp3-input-group.bp3-small > .bp3-input-left-container > .bp3-icon,
  .bp3-input-group.bp3-small > .bp3-icon,
  .bp3-input-group.bp3-small .bp3-input-action > .bp3-spinner{
    margin:4px; }
  .bp3-input-group.bp3-small .bp3-input{
    font-size:12px;
    height:24px;
    line-height:24px;
    padding-left:8px;
    padding-right:8px; }
    .bp3-input-group.bp3-small .bp3-input[type="search"], .bp3-input-group.bp3-small .bp3-input.bp3-round{
      padding:0 12px; }
    .bp3-input-group.bp3-small .bp3-input:not(:first-child){
      padding-left:24px; }
    .bp3-input-group.bp3-small .bp3-input:not(:last-child){
      padding-right:24px; }
  .bp3-input-group.bp3-fill{
    -webkit-box-flex:1;
        -ms-flex:1 1 auto;
            flex:1 1 auto;
    width:100%; }
  .bp3-input-group.bp3-round .bp3-button,
  .bp3-input-group.bp3-round .bp3-input,
  .bp3-input-group.bp3-round .bp3-tag{
    border-radius:30px; }
  .bp3-dark .bp3-input-group .bp3-icon{
    color:#a7b6c2; }
  .bp3-dark .bp3-input-group.bp3-disabled .bp3-icon{
    color:rgba(167, 182, 194, 0.6); }
  .bp3-input-group.bp3-intent-primary .bp3-input{
    -webkit-box-shadow:0 0 0 0 rgba(19, 124, 189, 0), 0 0 0 0 rgba(19, 124, 189, 0), inset 0 0 0 1px #137cbd, inset 0 0 0 1px rgba(16, 22, 26, 0.15), inset 0 1px 1px rgba(16, 22, 26, 0.2);
            box-shadow:0 0 0 0 rgba(19, 124, 189, 0), 0 0 0 0 rgba(19, 124, 189, 0), inset 0 0 0 1px #137cbd, inset 0 0 0 1px rgba(16, 22, 26, 0.15), inset 0 1px 1px rgba(16, 22, 26, 0.2); }
    .bp3-input-group.bp3-intent-primary .bp3-input:focus{
      -webkit-box-shadow:0 0 0 1px #137cbd, 0 0 0 3px rgba(19, 124, 189, 0.3), inset 0 1px 1px rgba(16, 22, 26, 0.2);
              box-shadow:0 0 0 1px #137cbd, 0 0 0 3px rgba(19, 124, 189, 0.3), inset 0 1px 1px rgba(16, 22, 26, 0.2); }
    .bp3-input-group.bp3-intent-primary .bp3-input[readonly]{
      -webkit-box-shadow:inset 0 0 0 1px #137cbd;
              box-shadow:inset 0 0 0 1px #137cbd; }
    .bp3-input-group.bp3-intent-primary .bp3-input:disabled, .bp3-input-group.bp3-intent-primary .bp3-input.bp3-disabled{
      -webkit-box-shadow:none;
              box-shadow:none; }
  .bp3-input-group.bp3-intent-primary > .bp3-icon{
    color:#106ba3; }
    .bp3-dark .bp3-input-group.bp3-intent-primary > .bp3-icon{
      color:#48aff0; }
  .bp3-input-group.bp3-intent-success .bp3-input{
    -webkit-box-shadow:0 0 0 0 rgba(15, 153, 96, 0), 0 0 0 0 rgba(15, 153, 96, 0), inset 0 0 0 1px #0f9960, inset 0 0 0 1px rgba(16, 22, 26, 0.15), inset 0 1px 1px rgba(16, 22, 26, 0.2);
            box-shadow:0 0 0 0 rgba(15, 153, 96, 0), 0 0 0 0 rgba(15, 153, 96, 0), inset 0 0 0 1px #0f9960, inset 0 0 0 1px rgba(16, 22, 26, 0.15), inset 0 1px 1px rgba(16, 22, 26, 0.2); }
    .bp3-input-group.bp3-intent-success .bp3-input:focus{
      -webkit-box-shadow:0 0 0 1px #0f9960, 0 0 0 3px rgba(15, 153, 96, 0.3), inset 0 1px 1px rgba(16, 22, 26, 0.2);
              box-shadow:0 0 0 1px #0f9960, 0 0 0 3px rgba(15, 153, 96, 0.3), inset 0 1px 1px rgba(16, 22, 26, 0.2); }
    .bp3-input-group.bp3-intent-success .bp3-input[readonly]{
      -webkit-box-shadow:inset 0 0 0 1px #0f9960;
              box-shadow:inset 0 0 0 1px #0f9960; }
    .bp3-input-group.bp3-intent-success .bp3-input:disabled, .bp3-input-group.bp3-intent-success .bp3-input.bp3-disabled{
      -webkit-box-shadow:none;
              box-shadow:none; }
  .bp3-input-group.bp3-intent-success > .bp3-icon{
    color:#0d8050; }
    .bp3-dark .bp3-input-group.bp3-intent-success > .bp3-icon{
      color:#3dcc91; }
  .bp3-input-group.bp3-intent-warning .bp3-input{
    -webkit-box-shadow:0 0 0 0 rgba(217, 130, 43, 0), 0 0 0 0 rgba(217, 130, 43, 0), inset 0 0 0 1px #d9822b, inset 0 0 0 1px rgba(16, 22, 26, 0.15), inset 0 1px 1px rgba(16, 22, 26, 0.2);
            box-shadow:0 0 0 0 rgba(217, 130, 43, 0), 0 0 0 0 rgba(217, 130, 43, 0), inset 0 0 0 1px #d9822b, inset 0 0 0 1px rgba(16, 22, 26, 0.15), inset 0 1px 1px rgba(16, 22, 26, 0.2); }
    .bp3-input-group.bp3-intent-warning .bp3-input:focus{
      -webkit-box-shadow:0 0 0 1px #d9822b, 0 0 0 3px rgba(217, 130, 43, 0.3), inset 0 1px 1px rgba(16, 22, 26, 0.2);
              box-shadow:0 0 0 1px #d9822b, 0 0 0 3px rgba(217, 130, 43, 0.3), inset 0 1px 1px rgba(16, 22, 26, 0.2); }
    .bp3-input-group.bp3-intent-warning .bp3-input[readonly]{
      -webkit-box-shadow:inset 0 0 0 1px #d9822b;
              box-shadow:inset 0 0 0 1px #d9822b; }
    .bp3-input-group.bp3-intent-warning .bp3-input:disabled, .bp3-input-group.bp3-intent-warning .bp3-input.bp3-disabled{
      -webkit-box-shadow:none;
              box-shadow:none; }
  .bp3-input-group.bp3-intent-warning > .bp3-icon{
    color:#bf7326; }
    .bp3-dark .bp3-input-group.bp3-intent-warning > .bp3-icon{
      color:#ffb366; }
  .bp3-input-group.bp3-intent-danger .bp3-input{
    -webkit-box-shadow:0 0 0 0 rgba(219, 55, 55, 0), 0 0 0 0 rgba(219, 55, 55, 0), inset 0 0 0 1px #db3737, inset 0 0 0 1px rgba(16, 22, 26, 0.15), inset 0 1px 1px rgba(16, 22, 26, 0.2);
            box-shadow:0 0 0 0 rgba(219, 55, 55, 0), 0 0 0 0 rgba(219, 55, 55, 0), inset 0 0 0 1px #db3737, inset 0 0 0 1px rgba(16, 22, 26, 0.15), inset 0 1px 1px rgba(16, 22, 26, 0.2); }
    .bp3-input-group.bp3-intent-danger .bp3-input:focus{
      -webkit-box-shadow:0 0 0 1px #db3737, 0 0 0 3px rgba(219, 55, 55, 0.3), inset 0 1px 1px rgba(16, 22, 26, 0.2);
              box-shadow:0 0 0 1px #db3737, 0 0 0 3px rgba(219, 55, 55, 0.3), inset 0 1px 1px rgba(16, 22, 26, 0.2); }
    .bp3-input-group.bp3-intent-danger .bp3-input[readonly]{
      -webkit-box-shadow:inset 0 0 0 1px #db3737;
              box-shadow:inset 0 0 0 1px #db3737; }
    .bp3-input-group.bp3-intent-danger .bp3-input:disabled, .bp3-input-group.bp3-intent-danger .bp3-input.bp3-disabled{
      -webkit-box-shadow:none;
              box-shadow:none; }
  .bp3-input-group.bp3-intent-danger > .bp3-icon{
    color:#c23030; }
    .bp3-dark .bp3-input-group.bp3-intent-danger > .bp3-icon{
      color:#ff7373; }
.bp3-input{
  -webkit-appearance:none;
     -moz-appearance:none;
          appearance:none;
  background:#ffffff;
  border:none;
  border-radius:3px;
  -webkit-box-shadow:0 0 0 0 rgba(19, 124, 189, 0), 0 0 0 0 rgba(19, 124, 189, 0), inset 0 0 0 1px rgba(16, 22, 26, 0.15), inset 0 1px 1px rgba(16, 22, 26, 0.2);
          box-shadow:0 0 0 0 rgba(19, 124, 189, 0), 0 0 0 0 rgba(19, 124, 189, 0), inset 0 0 0 1px rgba(16, 22, 26, 0.15), inset 0 1px 1px rgba(16, 22, 26, 0.2);
  color:#182026;
  font-size:14px;
  font-weight:400;
  height:30px;
  line-height:30px;
  outline:none;
  padding:0 10px;
  -webkit-transition:-webkit-box-shadow 100ms cubic-bezier(0.4, 1, 0.75, 0.9);
  transition:-webkit-box-shadow 100ms cubic-bezier(0.4, 1, 0.75, 0.9);
  transition:box-shadow 100ms cubic-bezier(0.4, 1, 0.75, 0.9);
  transition:box-shadow 100ms cubic-bezier(0.4, 1, 0.75, 0.9), -webkit-box-shadow 100ms cubic-bezier(0.4, 1, 0.75, 0.9);
  vertical-align:middle; }
  .bp3-input::-webkit-input-placeholder{
    color:rgba(92, 112, 128, 0.6);
    opacity:1; }
  .bp3-input::-moz-placeholder{
    color:rgba(92, 112, 128, 0.6);
    opacity:1; }
  .bp3-input:-ms-input-placeholder{
    color:rgba(92, 112, 128, 0.6);
    opacity:1; }
  .bp3-input::-ms-input-placeholder{
    color:rgba(92, 112, 128, 0.6);
    opacity:1; }
  .bp3-input::placeholder{
    color:rgba(92, 112, 128, 0.6);
    opacity:1; }
  .bp3-input:focus, .bp3-input.bp3-active{
    -webkit-box-shadow:0 0 0 1px #137cbd, 0 0 0 3px rgba(19, 124, 189, 0.3), inset 0 1px 1px rgba(16, 22, 26, 0.2);
            box-shadow:0 0 0 1px #137cbd, 0 0 0 3px rgba(19, 124, 189, 0.3), inset 0 1px 1px rgba(16, 22, 26, 0.2); }
  .bp3-input[type="search"], .bp3-input.bp3-round{
    border-radius:30px;
    -webkit-box-sizing:border-box;
            box-sizing:border-box;
    padding-left:10px; }
  .bp3-input[readonly]{
    -webkit-box-shadow:inset 0 0 0 1px rgba(16, 22, 26, 0.15);
            box-shadow:inset 0 0 0 1px rgba(16, 22, 26, 0.15); }
  .bp3-input:disabled, .bp3-input.bp3-disabled{
    background:rgba(206, 217, 224, 0.5);
    -webkit-box-shadow:none;
            box-shadow:none;
    color:rgba(92, 112, 128, 0.6);
    cursor:not-allowed;
    resize:none; }
  .bp3-input.bp3-large{
    font-size:16px;
    height:40px;
    line-height:40px; }
    .bp3-input.bp3-large[type="search"], .bp3-input.bp3-large.bp3-round{
      padding:0 15px; }
  .bp3-input.bp3-small{
    font-size:12px;
    height:24px;
    line-height:24px;
    padding-left:8px;
    padding-right:8px; }
    .bp3-input.bp3-small[type="search"], .bp3-input.bp3-small.bp3-round{
      padding:0 12px; }
  .bp3-input.bp3-fill{
    -webkit-box-flex:1;
        -ms-flex:1 1 auto;
            flex:1 1 auto;
    width:100%; }
  .bp3-dark .bp3-input{
    background:rgba(16, 22, 26, 0.3);
    -webkit-box-shadow:0 0 0 0 rgba(19, 124, 189, 0), 0 0 0 0 rgba(19, 124, 189, 0), 0 0 0 0 rgba(19, 124, 189, 0), inset 0 0 0 1px rgba(16, 22, 26, 0.3), inset 0 1px 1px rgba(16, 22, 26, 0.4);
            box-shadow:0 0 0 0 rgba(19, 124, 189, 0), 0 0 0 0 rgba(19, 124, 189, 0), 0 0 0 0 rgba(19, 124, 189, 0), inset 0 0 0 1px rgba(16, 22, 26, 0.3), inset 0 1px 1px rgba(16, 22, 26, 0.4);
    color:#f5f8fa; }
    .bp3-dark .bp3-input::-webkit-input-placeholder{
      color:rgba(167, 182, 194, 0.6); }
    .bp3-dark .bp3-input::-moz-placeholder{
      color:rgba(167, 182, 194, 0.6); }
    .bp3-dark .bp3-input:-ms-input-placeholder{
      color:rgba(167, 182, 194, 0.6); }
    .bp3-dark .bp3-input::-ms-input-placeholder{
      color:rgba(167, 182, 194, 0.6); }
    .bp3-dark .bp3-input::placeholder{
      color:rgba(167, 182, 194, 0.6); }
    .bp3-dark .bp3-input:focus{
      -webkit-box-shadow:0 0 0 1px #137cbd, 0 0 0 1px #137cbd, 0 0 0 3px rgba(19, 124, 189, 0.3), inset 0 0 0 1px rgba(16, 22, 26, 0.3), inset 0 1px 1px rgba(16, 22, 26, 0.4);
              box-shadow:0 0 0 1px #137cbd, 0 0 0 1px #137cbd, 0 0 0 3px rgba(19, 124, 189, 0.3), inset 0 0 0 1px rgba(16, 22, 26, 0.3), inset 0 1px 1px rgba(16, 22, 26, 0.4); }
    .bp3-dark .bp3-input[readonly]{
      -webkit-box-shadow:inset 0 0 0 1px rgba(16, 22, 26, 0.4);
              box-shadow:inset 0 0 0 1px rgba(16, 22, 26, 0.4); }
    .bp3-dark .bp3-input:disabled, .bp3-dark .bp3-input.bp3-disabled{
      background:rgba(57, 75, 89, 0.5);
      -webkit-box-shadow:none;
              box-shadow:none;
      color:rgba(167, 182, 194, 0.6); }
  .bp3-input.bp3-intent-primary{
    -webkit-box-shadow:0 0 0 0 rgba(19, 124, 189, 0), 0 0 0 0 rgba(19, 124, 189, 0), inset 0 0 0 1px #137cbd, inset 0 0 0 1px rgba(16, 22, 26, 0.15), inset 0 1px 1px rgba(16, 22, 26, 0.2);
            box-shadow:0 0 0 0 rgba(19, 124, 189, 0), 0 0 0 0 rgba(19, 124, 189, 0), inset 0 0 0 1px #137cbd, inset 0 0 0 1px rgba(16, 22, 26, 0.15), inset 0 1px 1px rgba(16, 22, 26, 0.2); }
    .bp3-input.bp3-intent-primary:focus{
      -webkit-box-shadow:0 0 0 1px #137cbd, 0 0 0 3px rgba(19, 124, 189, 0.3), inset 0 1px 1px rgba(16, 22, 26, 0.2);
              box-shadow:0 0 0 1px #137cbd, 0 0 0 3px rgba(19, 124, 189, 0.3), inset 0 1px 1px rgba(16, 22, 26, 0.2); }
    .bp3-input.bp3-intent-primary[readonly]{
      -webkit-box-shadow:inset 0 0 0 1px #137cbd;
              box-shadow:inset 0 0 0 1px #137cbd; }
    .bp3-input.bp3-intent-primary:disabled, .bp3-input.bp3-intent-primary.bp3-disabled{
      -webkit-box-shadow:none;
              box-shadow:none; }
    .bp3-dark .bp3-input.bp3-intent-primary{
      -webkit-box-shadow:0 0 0 0 rgba(19, 124, 189, 0), 0 0 0 0 rgba(19, 124, 189, 0), 0 0 0 0 rgba(19, 124, 189, 0), inset 0 0 0 1px #137cbd, inset 0 0 0 1px rgba(16, 22, 26, 0.3), inset 0 1px 1px rgba(16, 22, 26, 0.4);
              box-shadow:0 0 0 0 rgba(19, 124, 189, 0), 0 0 0 0 rgba(19, 124, 189, 0), 0 0 0 0 rgba(19, 124, 189, 0), inset 0 0 0 1px #137cbd, inset 0 0 0 1px rgba(16, 22, 26, 0.3), inset 0 1px 1px rgba(16, 22, 26, 0.4); }
      .bp3-dark .bp3-input.bp3-intent-primary:focus{
        -webkit-box-shadow:0 0 0 1px #137cbd, 0 0 0 1px #137cbd, 0 0 0 3px rgba(19, 124, 189, 0.3), inset 0 0 0 1px rgba(16, 22, 26, 0.3), inset 0 1px 1px rgba(16, 22, 26, 0.4);
                box-shadow:0 0 0 1px #137cbd, 0 0 0 1px #137cbd, 0 0 0 3px rgba(19, 124, 189, 0.3), inset 0 0 0 1px rgba(16, 22, 26, 0.3), inset 0 1px 1px rgba(16, 22, 26, 0.4); }
      .bp3-dark .bp3-input.bp3-intent-primary[readonly]{
        -webkit-box-shadow:inset 0 0 0 1px #137cbd;
                box-shadow:inset 0 0 0 1px #137cbd; }
      .bp3-dark .bp3-input.bp3-intent-primary:disabled, .bp3-dark .bp3-input.bp3-intent-primary.bp3-disabled{
        -webkit-box-shadow:none;
                box-shadow:none; }
  .bp3-input.bp3-intent-success{
    -webkit-box-shadow:0 0 0 0 rgba(15, 153, 96, 0), 0 0 0 0 rgba(15, 153, 96, 0), inset 0 0 0 1px #0f9960, inset 0 0 0 1px rgba(16, 22, 26, 0.15), inset 0 1px 1px rgba(16, 22, 26, 0.2);
            box-shadow:0 0 0 0 rgba(15, 153, 96, 0), 0 0 0 0 rgba(15, 153, 96, 0), inset 0 0 0 1px #0f9960, inset 0 0 0 1px rgba(16, 22, 26, 0.15), inset 0 1px 1px rgba(16, 22, 26, 0.2); }
    .bp3-input.bp3-intent-success:focus{
      -webkit-box-shadow:0 0 0 1px #0f9960, 0 0 0 3px rgba(15, 153, 96, 0.3), inset 0 1px 1px rgba(16, 22, 26, 0.2);
              box-shadow:0 0 0 1px #0f9960, 0 0 0 3px rgba(15, 153, 96, 0.3), inset 0 1px 1px rgba(16, 22, 26, 0.2); }
    .bp3-input.bp3-intent-success[readonly]{
      -webkit-box-shadow:inset 0 0 0 1px #0f9960;
              box-shadow:inset 0 0 0 1px #0f9960; }
    .bp3-input.bp3-intent-success:disabled, .bp3-input.bp3-intent-success.bp3-disabled{
      -webkit-box-shadow:none;
              box-shadow:none; }
    .bp3-dark .bp3-input.bp3-intent-success{
      -webkit-box-shadow:0 0 0 0 rgba(15, 153, 96, 0), 0 0 0 0 rgba(15, 153, 96, 0), 0 0 0 0 rgba(15, 153, 96, 0), inset 0 0 0 1px #0f9960, inset 0 0 0 1px rgba(16, 22, 26, 0.3), inset 0 1px 1px rgba(16, 22, 26, 0.4);
              box-shadow:0 0 0 0 rgba(15, 153, 96, 0), 0 0 0 0 rgba(15, 153, 96, 0), 0 0 0 0 rgba(15, 153, 96, 0), inset 0 0 0 1px #0f9960, inset 0 0 0 1px rgba(16, 22, 26, 0.3), inset 0 1px 1px rgba(16, 22, 26, 0.4); }
      .bp3-dark .bp3-input.bp3-intent-success:focus{
        -webkit-box-shadow:0 0 0 1px #0f9960, 0 0 0 1px #0f9960, 0 0 0 3px rgba(15, 153, 96, 0.3), inset 0 0 0 1px rgba(16, 22, 26, 0.3), inset 0 1px 1px rgba(16, 22, 26, 0.4);
                box-shadow:0 0 0 1px #0f9960, 0 0 0 1px #0f9960, 0 0 0 3px rgba(15, 153, 96, 0.3), inset 0 0 0 1px rgba(16, 22, 26, 0.3), inset 0 1px 1px rgba(16, 22, 26, 0.4); }
      .bp3-dark .bp3-input.bp3-intent-success[readonly]{
        -webkit-box-shadow:inset 0 0 0 1px #0f9960;
                box-shadow:inset 0 0 0 1px #0f9960; }
      .bp3-dark .bp3-input.bp3-intent-success:disabled, .bp3-dark .bp3-input.bp3-intent-success.bp3-disabled{
        -webkit-box-shadow:none;
                box-shadow:none; }
  .bp3-input.bp3-intent-warning{
    -webkit-box-shadow:0 0 0 0 rgba(217, 130, 43, 0), 0 0 0 0 rgba(217, 130, 43, 0), inset 0 0 0 1px #d9822b, inset 0 0 0 1px rgba(16, 22, 26, 0.15), inset 0 1px 1px rgba(16, 22, 26, 0.2);
            box-shadow:0 0 0 0 rgba(217, 130, 43, 0), 0 0 0 0 rgba(217, 130, 43, 0), inset 0 0 0 1px #d9822b, inset 0 0 0 1px rgba(16, 22, 26, 0.15), inset 0 1px 1px rgba(16, 22, 26, 0.2); }
    .bp3-input.bp3-intent-warning:focus{
      -webkit-box-shadow:0 0 0 1px #d9822b, 0 0 0 3px rgba(217, 130, 43, 0.3), inset 0 1px 1px rgba(16, 22, 26, 0.2);
              box-shadow:0 0 0 1px #d9822b, 0 0 0 3px rgba(217, 130, 43, 0.3), inset 0 1px 1px rgba(16, 22, 26, 0.2); }
    .bp3-input.bp3-intent-warning[readonly]{
      -webkit-box-shadow:inset 0 0 0 1px #d9822b;
              box-shadow:inset 0 0 0 1px #d9822b; }
    .bp3-input.bp3-intent-warning:disabled, .bp3-input.bp3-intent-warning.bp3-disabled{
      -webkit-box-shadow:none;
              box-shadow:none; }
    .bp3-dark .bp3-input.bp3-intent-warning{
      -webkit-box-shadow:0 0 0 0 rgba(217, 130, 43, 0), 0 0 0 0 rgba(217, 130, 43, 0), 0 0 0 0 rgba(217, 130, 43, 0), inset 0 0 0 1px #d9822b, inset 0 0 0 1px rgba(16, 22, 26, 0.3), inset 0 1px 1px rgba(16, 22, 26, 0.4);
              box-shadow:0 0 0 0 rgba(217, 130, 43, 0), 0 0 0 0 rgba(217, 130, 43, 0), 0 0 0 0 rgba(217, 130, 43, 0), inset 0 0 0 1px #d9822b, inset 0 0 0 1px rgba(16, 22, 26, 0.3), inset 0 1px 1px rgba(16, 22, 26, 0.4); }
      .bp3-dark .bp3-input.bp3-intent-warning:focus{
        -webkit-box-shadow:0 0 0 1px #d9822b, 0 0 0 1px #d9822b, 0 0 0 3px rgba(217, 130, 43, 0.3), inset 0 0 0 1px rgba(16, 22, 26, 0.3), inset 0 1px 1px rgba(16, 22, 26, 0.4);
                box-shadow:0 0 0 1px #d9822b, 0 0 0 1px #d9822b, 0 0 0 3px rgba(217, 130, 43, 0.3), inset 0 0 0 1px rgba(16, 22, 26, 0.3), inset 0 1px 1px rgba(16, 22, 26, 0.4); }
      .bp3-dark .bp3-input.bp3-intent-warning[readonly]{
        -webkit-box-shadow:inset 0 0 0 1px #d9822b;
                box-shadow:inset 0 0 0 1px #d9822b; }
      .bp3-dark .bp3-input.bp3-intent-warning:disabled, .bp3-dark .bp3-input.bp3-intent-warning.bp3-disabled{
        -webkit-box-shadow:none;
                box-shadow:none; }
  .bp3-input.bp3-intent-danger{
    -webkit-box-shadow:0 0 0 0 rgba(219, 55, 55, 0), 0 0 0 0 rgba(219, 55, 55, 0), inset 0 0 0 1px #db3737, inset 0 0 0 1px rgba(16, 22, 26, 0.15), inset 0 1px 1px rgba(16, 22, 26, 0.2);
            box-shadow:0 0 0 0 rgba(219, 55, 55, 0), 0 0 0 0 rgba(219, 55, 55, 0), inset 0 0 0 1px #db3737, inset 0 0 0 1px rgba(16, 22, 26, 0.15), inset 0 1px 1px rgba(16, 22, 26, 0.2); }
    .bp3-input.bp3-intent-danger:focus{
      -webkit-box-shadow:0 0 0 1px #db3737, 0 0 0 3px rgba(219, 55, 55, 0.3), inset 0 1px 1px rgba(16, 22, 26, 0.2);
              box-shadow:0 0 0 1px #db3737, 0 0 0 3px rgba(219, 55, 55, 0.3), inset 0 1px 1px rgba(16, 22, 26, 0.2); }
    .bp3-input.bp3-intent-danger[readonly]{
      -webkit-box-shadow:inset 0 0 0 1px #db3737;
              box-shadow:inset 0 0 0 1px #db3737; }
    .bp3-input.bp3-intent-danger:disabled, .bp3-input.bp3-intent-danger.bp3-disabled{
      -webkit-box-shadow:none;
              box-shadow:none; }
    .bp3-dark .bp3-input.bp3-intent-danger{
      -webkit-box-shadow:0 0 0 0 rgba(219, 55, 55, 0), 0 0 0 0 rgba(219, 55, 55, 0), 0 0 0 0 rgba(219, 55, 55, 0), inset 0 0 0 1px #db3737, inset 0 0 0 1px rgba(16, 22, 26, 0.3), inset 0 1px 1px rgba(16, 22, 26, 0.4);
              box-shadow:0 0 0 0 rgba(219, 55, 55, 0), 0 0 0 0 rgba(219, 55, 55, 0), 0 0 0 0 rgba(219, 55, 55, 0), inset 0 0 0 1px #db3737, inset 0 0 0 1px rgba(16, 22, 26, 0.3), inset 0 1px 1px rgba(16, 22, 26, 0.4); }
      .bp3-dark .bp3-input.bp3-intent-danger:focus{
        -webkit-box-shadow:0 0 0 1px #db3737, 0 0 0 1px #db3737, 0 0 0 3px rgba(219, 55, 55, 0.3), inset 0 0 0 1px rgba(16, 22, 26, 0.3), inset 0 1px 1px rgba(16, 22, 26, 0.4);
                box-shadow:0 0 0 1px #db3737, 0 0 0 1px #db3737, 0 0 0 3px rgba(219, 55, 55, 0.3), inset 0 0 0 1px rgba(16, 22, 26, 0.3), inset 0 1px 1px rgba(16, 22, 26, 0.4); }
      .bp3-dark .bp3-input.bp3-intent-danger[readonly]{
        -webkit-box-shadow:inset 0 0 0 1px #db3737;
                box-shadow:inset 0 0 0 1px #db3737; }
      .bp3-dark .bp3-input.bp3-intent-danger:disabled, .bp3-dark .bp3-input.bp3-intent-danger.bp3-disabled{
        -webkit-box-shadow:none;
                box-shadow:none; }
  .bp3-input::-ms-clear{
    display:none; }
textarea.bp3-input{
  max-width:100%;
  padding:10px; }
  textarea.bp3-input, textarea.bp3-input.bp3-large, textarea.bp3-input.bp3-small{
    height:auto;
    line-height:inherit; }
  textarea.bp3-input.bp3-small{
    padding:8px; }
  .bp3-dark textarea.bp3-input{
    background:rgba(16, 22, 26, 0.3);
    -webkit-box-shadow:0 0 0 0 rgba(19, 124, 189, 0), 0 0 0 0 rgba(19, 124, 189, 0), 0 0 0 0 rgba(19, 124, 189, 0), inset 0 0 0 1px rgba(16, 22, 26, 0.3), inset 0 1px 1px rgba(16, 22, 26, 0.4);
            box-shadow:0 0 0 0 rgba(19, 124, 189, 0), 0 0 0 0 rgba(19, 124, 189, 0), 0 0 0 0 rgba(19, 124, 189, 0), inset 0 0 0 1px rgba(16, 22, 26, 0.3), inset 0 1px 1px rgba(16, 22, 26, 0.4);
    color:#f5f8fa; }
    .bp3-dark textarea.bp3-input::-webkit-input-placeholder{
      color:rgba(167, 182, 194, 0.6); }
    .bp3-dark textarea.bp3-input::-moz-placeholder{
      color:rgba(167, 182, 194, 0.6); }
    .bp3-dark textarea.bp3-input:-ms-input-placeholder{
      color:rgba(167, 182, 194, 0.6); }
    .bp3-dark textarea.bp3-input::-ms-input-placeholder{
      color:rgba(167, 182, 194, 0.6); }
    .bp3-dark textarea.bp3-input::placeholder{
      color:rgba(167, 182, 194, 0.6); }
    .bp3-dark textarea.bp3-input:focus{
      -webkit-box-shadow:0 0 0 1px #137cbd, 0 0 0 1px #137cbd, 0 0 0 3px rgba(19, 124, 189, 0.3), inset 0 0 0 1px rgba(16, 22, 26, 0.3), inset 0 1px 1px rgba(16, 22, 26, 0.4);
              box-shadow:0 0 0 1px #137cbd, 0 0 0 1px #137cbd, 0 0 0 3px rgba(19, 124, 189, 0.3), inset 0 0 0 1px rgba(16, 22, 26, 0.3), inset 0 1px 1px rgba(16, 22, 26, 0.4); }
    .bp3-dark textarea.bp3-input[readonly]{
      -webkit-box-shadow:inset 0 0 0 1px rgba(16, 22, 26, 0.4);
              box-shadow:inset 0 0 0 1px rgba(16, 22, 26, 0.4); }
    .bp3-dark textarea.bp3-input:disabled, .bp3-dark textarea.bp3-input.bp3-disabled{
      background:rgba(57, 75, 89, 0.5);
      -webkit-box-shadow:none;
              box-shadow:none;
      color:rgba(167, 182, 194, 0.6); }
label.bp3-label{
  display:block;
  margin-bottom:15px;
  margin-top:0; }
  label.bp3-label .bp3-html-select,
  label.bp3-label .bp3-input,
  label.bp3-label .bp3-select,
  label.bp3-label .bp3-slider,
  label.bp3-label .bp3-popover-wrapper{
    display:block;
    margin-top:5px;
    text-transform:none; }
  label.bp3-label .bp3-button-group{
    margin-top:5px; }
  label.bp3-label .bp3-select select,
  label.bp3-label .bp3-html-select select{
    font-weight:400;
    vertical-align:top;
    width:100%; }
  label.bp3-label.bp3-disabled,
  label.bp3-label.bp3-disabled .bp3-text-muted{
    color:rgba(92, 112, 128, 0.6); }
  label.bp3-label.bp3-inline{
    line-height:30px; }
    label.bp3-label.bp3-inline .bp3-html-select,
    label.bp3-label.bp3-inline .bp3-input,
    label.bp3-label.bp3-inline .bp3-input-group,
    label.bp3-label.bp3-inline .bp3-select,
    label.bp3-label.bp3-inline .bp3-popover-wrapper{
      display:inline-block;
      margin:0 0 0 5px;
      vertical-align:top; }
    label.bp3-label.bp3-inline .bp3-button-group{
      margin:0 0 0 5px; }
    label.bp3-label.bp3-inline .bp3-input-group .bp3-input{
      margin-left:0; }
    label.bp3-label.bp3-inline.bp3-large{
      line-height:40px; }
  label.bp3-label:not(.bp3-inline) .bp3-popover-target{
    display:block; }
  .bp3-dark label.bp3-label{
    color:#f5f8fa; }
    .bp3-dark label.bp3-label.bp3-disabled,
    .bp3-dark label.bp3-label.bp3-disabled .bp3-text-muted{
      color:rgba(167, 182, 194, 0.6); }
.bp3-numeric-input .bp3-button-group.bp3-vertical > .bp3-button{
  -webkit-box-flex:1;
      -ms-flex:1 1 14px;
          flex:1 1 14px;
  min-height:0;
  padding:0;
  width:30px; }
  .bp3-numeric-input .bp3-button-group.bp3-vertical > .bp3-button:first-child{
    border-radius:0 3px 0 0; }
  .bp3-numeric-input .bp3-button-group.bp3-vertical > .bp3-button:last-child{
    border-radius:0 0 3px 0; }

.bp3-numeric-input .bp3-button-group.bp3-vertical:first-child > .bp3-button:first-child{
  border-radius:3px 0 0 0; }

.bp3-numeric-input .bp3-button-group.bp3-vertical:first-child > .bp3-button:last-child{
  border-radius:0 0 0 3px; }

.bp3-numeric-input.bp3-large .bp3-button-group.bp3-vertical > .bp3-button{
  width:40px; }

form{
  display:block; }
.bp3-html-select select,
.bp3-select select{
  display:-webkit-inline-box;
  display:-ms-inline-flexbox;
  display:inline-flex;
  -webkit-box-orient:horizontal;
  -webkit-box-direction:normal;
      -ms-flex-direction:row;
          flex-direction:row;
  -webkit-box-align:center;
      -ms-flex-align:center;
          align-items:center;
  border:none;
  border-radius:3px;
  cursor:pointer;
  font-size:14px;
  -webkit-box-pack:center;
      -ms-flex-pack:center;
          justify-content:center;
  padding:5px 10px;
  text-align:left;
  vertical-align:middle;
  background-color:#f5f8fa;
  background-image:-webkit-gradient(linear, left top, left bottom, from(rgba(255, 255, 255, 0.8)), to(rgba(255, 255, 255, 0)));
  background-image:linear-gradient(to bottom, rgba(255, 255, 255, 0.8), rgba(255, 255, 255, 0));
  -webkit-box-shadow:inset 0 0 0 1px rgba(16, 22, 26, 0.2), inset 0 -1px 0 rgba(16, 22, 26, 0.1);
          box-shadow:inset 0 0 0 1px rgba(16, 22, 26, 0.2), inset 0 -1px 0 rgba(16, 22, 26, 0.1);
  color:#182026;
  -moz-appearance:none;
  -webkit-appearance:none;
  border-radius:3px;
  height:30px;
  padding:0 25px 0 10px;
  width:100%; }
  .bp3-html-select select > *, .bp3-select select > *{
    -webkit-box-flex:0;
        -ms-flex-positive:0;
            flex-grow:0;
    -ms-flex-negative:0;
        flex-shrink:0; }
  .bp3-html-select select > .bp3-fill, .bp3-select select > .bp3-fill{
    -webkit-box-flex:1;
        -ms-flex-positive:1;
            flex-grow:1;
    -ms-flex-negative:1;
        flex-shrink:1; }
  .bp3-html-select select::before,
  .bp3-select select::before, .bp3-html-select select > *, .bp3-select select > *{
    margin-right:7px; }
  .bp3-html-select select:empty::before,
  .bp3-select select:empty::before,
  .bp3-html-select select > :last-child,
  .bp3-select select > :last-child{
    margin-right:0; }
  .bp3-html-select select:hover,
  .bp3-select select:hover{
    background-clip:padding-box;
    background-color:#ebf1f5;
    -webkit-box-shadow:inset 0 0 0 1px rgba(16, 22, 26, 0.2), inset 0 -1px 0 rgba(16, 22, 26, 0.1);
            box-shadow:inset 0 0 0 1px rgba(16, 22, 26, 0.2), inset 0 -1px 0 rgba(16, 22, 26, 0.1); }
  .bp3-html-select select:active,
  .bp3-select select:active, .bp3-html-select select.bp3-active,
  .bp3-select select.bp3-active{
    background-color:#d8e1e8;
    background-image:none;
    -webkit-box-shadow:inset 0 0 0 1px rgba(16, 22, 26, 0.2), inset 0 1px 2px rgba(16, 22, 26, 0.2);
            box-shadow:inset 0 0 0 1px rgba(16, 22, 26, 0.2), inset 0 1px 2px rgba(16, 22, 26, 0.2); }
  .bp3-html-select select:disabled,
  .bp3-select select:disabled, .bp3-html-select select.bp3-disabled,
  .bp3-select select.bp3-disabled{
    background-color:rgba(206, 217, 224, 0.5);
    background-image:none;
    -webkit-box-shadow:none;
            box-shadow:none;
    color:rgba(92, 112, 128, 0.6);
    cursor:not-allowed;
    outline:none; }
    .bp3-html-select select:disabled.bp3-active,
    .bp3-select select:disabled.bp3-active, .bp3-html-select select:disabled.bp3-active:hover,
    .bp3-select select:disabled.bp3-active:hover, .bp3-html-select select.bp3-disabled.bp3-active,
    .bp3-select select.bp3-disabled.bp3-active, .bp3-html-select select.bp3-disabled.bp3-active:hover,
    .bp3-select select.bp3-disabled.bp3-active:hover{
      background:rgba(206, 217, 224, 0.7); }

.bp3-html-select.bp3-minimal select,
.bp3-select.bp3-minimal select{
  background:none;
  -webkit-box-shadow:none;
          box-shadow:none; }
  .bp3-html-select.bp3-minimal select:hover,
  .bp3-select.bp3-minimal select:hover{
    background:rgba(167, 182, 194, 0.3);
    -webkit-box-shadow:none;
            box-shadow:none;
    color:#182026;
    text-decoration:none; }
  .bp3-html-select.bp3-minimal select:active,
  .bp3-select.bp3-minimal select:active, .bp3-html-select.bp3-minimal select.bp3-active,
  .bp3-select.bp3-minimal select.bp3-active{
    background:rgba(115, 134, 148, 0.3);
    -webkit-box-shadow:none;
            box-shadow:none;
    color:#182026; }
  .bp3-html-select.bp3-minimal select:disabled,
  .bp3-select.bp3-minimal select:disabled, .bp3-html-select.bp3-minimal select:disabled:hover,
  .bp3-select.bp3-minimal select:disabled:hover, .bp3-html-select.bp3-minimal select.bp3-disabled,
  .bp3-select.bp3-minimal select.bp3-disabled, .bp3-html-select.bp3-minimal select.bp3-disabled:hover,
  .bp3-select.bp3-minimal select.bp3-disabled:hover{
    background:none;
    color:rgba(92, 112, 128, 0.6);
    cursor:not-allowed; }
    .bp3-html-select.bp3-minimal select:disabled.bp3-active,
    .bp3-select.bp3-minimal select:disabled.bp3-active, .bp3-html-select.bp3-minimal select:disabled:hover.bp3-active,
    .bp3-select.bp3-minimal select:disabled:hover.bp3-active, .bp3-html-select.bp3-minimal select.bp3-disabled.bp3-active,
    .bp3-select.bp3-minimal select.bp3-disabled.bp3-active, .bp3-html-select.bp3-minimal select.bp3-disabled:hover.bp3-active,
    .bp3-select.bp3-minimal select.bp3-disabled:hover.bp3-active{
      background:rgba(115, 134, 148, 0.3); }
  .bp3-dark .bp3-html-select.bp3-minimal select, .bp3-html-select.bp3-minimal .bp3-dark select,
  .bp3-dark .bp3-select.bp3-minimal select, .bp3-select.bp3-minimal .bp3-dark select{
    background:none;
    -webkit-box-shadow:none;
            box-shadow:none;
    color:inherit; }
    .bp3-dark .bp3-html-select.bp3-minimal select:hover, .bp3-html-select.bp3-minimal .bp3-dark select:hover,
    .bp3-dark .bp3-select.bp3-minimal select:hover, .bp3-select.bp3-minimal .bp3-dark select:hover, .bp3-dark .bp3-html-select.bp3-minimal select:active, .bp3-html-select.bp3-minimal .bp3-dark select:active,
    .bp3-dark .bp3-select.bp3-minimal select:active, .bp3-select.bp3-minimal .bp3-dark select:active, .bp3-dark .bp3-html-select.bp3-minimal select.bp3-active, .bp3-html-select.bp3-minimal .bp3-dark select.bp3-active,
    .bp3-dark .bp3-select.bp3-minimal select.bp3-active, .bp3-select.bp3-minimal .bp3-dark select.bp3-active{
      background:none;
      -webkit-box-shadow:none;
              box-shadow:none; }
    .bp3-dark .bp3-html-select.bp3-minimal select:hover, .bp3-html-select.bp3-minimal .bp3-dark select:hover,
    .bp3-dark .bp3-select.bp3-minimal select:hover, .bp3-select.bp3-minimal .bp3-dark select:hover{
      background:rgba(138, 155, 168, 0.15); }
    .bp3-dark .bp3-html-select.bp3-minimal select:active, .bp3-html-select.bp3-minimal .bp3-dark select:active,
    .bp3-dark .bp3-select.bp3-minimal select:active, .bp3-select.bp3-minimal .bp3-dark select:active, .bp3-dark .bp3-html-select.bp3-minimal select.bp3-active, .bp3-html-select.bp3-minimal .bp3-dark select.bp3-active,
    .bp3-dark .bp3-select.bp3-minimal select.bp3-active, .bp3-select.bp3-minimal .bp3-dark select.bp3-active{
      background:rgba(138, 155, 168, 0.3);
      color:#f5f8fa; }
    .bp3-dark .bp3-html-select.bp3-minimal select:disabled, .bp3-html-select.bp3-minimal .bp3-dark select:disabled,
    .bp3-dark .bp3-select.bp3-minimal select:disabled, .bp3-select.bp3-minimal .bp3-dark select:disabled, .bp3-dark .bp3-html-select.bp3-minimal select:disabled:hover, .bp3-html-select.bp3-minimal .bp3-dark select:disabled:hover,
    .bp3-dark .bp3-select.bp3-minimal select:disabled:hover, .bp3-select.bp3-minimal .bp3-dark select:disabled:hover, .bp3-dark .bp3-html-select.bp3-minimal select.bp3-disabled, .bp3-html-select.bp3-minimal .bp3-dark select.bp3-disabled,
    .bp3-dark .bp3-select.bp3-minimal select.bp3-disabled, .bp3-select.bp3-minimal .bp3-dark select.bp3-disabled, .bp3-dark .bp3-html-select.bp3-minimal select.bp3-disabled:hover, .bp3-html-select.bp3-minimal .bp3-dark select.bp3-disabled:hover,
    .bp3-dark .bp3-select.bp3-minimal select.bp3-disabled:hover, .bp3-select.bp3-minimal .bp3-dark select.bp3-disabled:hover{
      background:none;
      color:rgba(167, 182, 194, 0.6);
      cursor:not-allowed; }
      .bp3-dark .bp3-html-select.bp3-minimal select:disabled.bp3-active, .bp3-html-select.bp3-minimal .bp3-dark select:disabled.bp3-active,
      .bp3-dark .bp3-select.bp3-minimal select:disabled.bp3-active, .bp3-select.bp3-minimal .bp3-dark select:disabled.bp3-active, .bp3-dark .bp3-html-select.bp3-minimal select:disabled:hover.bp3-active, .bp3-html-select.bp3-minimal .bp3-dark select:disabled:hover.bp3-active,
      .bp3-dark .bp3-select.bp3-minimal select:disabled:hover.bp3-active, .bp3-select.bp3-minimal .bp3-dark select:disabled:hover.bp3-active, .bp3-dark .bp3-html-select.bp3-minimal select.bp3-disabled.bp3-active, .bp3-html-select.bp3-minimal .bp3-dark select.bp3-disabled.bp3-active,
      .bp3-dark .bp3-select.bp3-minimal select.bp3-disabled.bp3-active, .bp3-select.bp3-minimal .bp3-dark select.bp3-disabled.bp3-active, .bp3-dark .bp3-html-select.bp3-minimal select.bp3-disabled:hover.bp3-active, .bp3-html-select.bp3-minimal .bp3-dark select.bp3-disabled:hover.bp3-active,
      .bp3-dark .bp3-select.bp3-minimal select.bp3-disabled:hover.bp3-active, .bp3-select.bp3-minimal .bp3-dark select.bp3-disabled:hover.bp3-active{
        background:rgba(138, 155, 168, 0.3); }
  .bp3-html-select.bp3-minimal select.bp3-intent-primary,
  .bp3-select.bp3-minimal select.bp3-intent-primary{
    color:#106ba3; }
    .bp3-html-select.bp3-minimal select.bp3-intent-primary:hover,
    .bp3-select.bp3-minimal select.bp3-intent-primary:hover, .bp3-html-select.bp3-minimal select.bp3-intent-primary:active,
    .bp3-select.bp3-minimal select.bp3-intent-primary:active, .bp3-html-select.bp3-minimal select.bp3-intent-primary.bp3-active,
    .bp3-select.bp3-minimal select.bp3-intent-primary.bp3-active{
      background:none;
      -webkit-box-shadow:none;
              box-shadow:none;
      color:#106ba3; }
    .bp3-html-select.bp3-minimal select.bp3-intent-primary:hover,
    .bp3-select.bp3-minimal select.bp3-intent-primary:hover{
      background:rgba(19, 124, 189, 0.15);
      color:#106ba3; }
    .bp3-html-select.bp3-minimal select.bp3-intent-primary:active,
    .bp3-select.bp3-minimal select.bp3-intent-primary:active, .bp3-html-select.bp3-minimal select.bp3-intent-primary.bp3-active,
    .bp3-select.bp3-minimal select.bp3-intent-primary.bp3-active{
      background:rgba(19, 124, 189, 0.3);
      color:#106ba3; }
    .bp3-html-select.bp3-minimal select.bp3-intent-primary:disabled,
    .bp3-select.bp3-minimal select.bp3-intent-primary:disabled, .bp3-html-select.bp3-minimal select.bp3-intent-primary.bp3-disabled,
    .bp3-select.bp3-minimal select.bp3-intent-primary.bp3-disabled{
      background:none;
      color:rgba(16, 107, 163, 0.5); }
      .bp3-html-select.bp3-minimal select.bp3-intent-primary:disabled.bp3-active,
      .bp3-select.bp3-minimal select.bp3-intent-primary:disabled.bp3-active, .bp3-html-select.bp3-minimal select.bp3-intent-primary.bp3-disabled.bp3-active,
      .bp3-select.bp3-minimal select.bp3-intent-primary.bp3-disabled.bp3-active{
        background:rgba(19, 124, 189, 0.3); }
    .bp3-html-select.bp3-minimal select.bp3-intent-primary .bp3-button-spinner .bp3-spinner-head, .bp3-select.bp3-minimal select.bp3-intent-primary .bp3-button-spinner .bp3-spinner-head{
      stroke:#106ba3; }
    .bp3-dark .bp3-html-select.bp3-minimal select.bp3-intent-primary, .bp3-html-select.bp3-minimal .bp3-dark select.bp3-intent-primary,
    .bp3-dark .bp3-select.bp3-minimal select.bp3-intent-primary, .bp3-select.bp3-minimal .bp3-dark select.bp3-intent-primary{
      color:#48aff0; }
      .bp3-dark .bp3-html-select.bp3-minimal select.bp3-intent-primary:hover, .bp3-html-select.bp3-minimal .bp3-dark select.bp3-intent-primary:hover,
      .bp3-dark .bp3-select.bp3-minimal select.bp3-intent-primary:hover, .bp3-select.bp3-minimal .bp3-dark select.bp3-intent-primary:hover{
        background:rgba(19, 124, 189, 0.2);
        color:#48aff0; }
      .bp3-dark .bp3-html-select.bp3-minimal select.bp3-intent-primary:active, .bp3-html-select.bp3-minimal .bp3-dark select.bp3-intent-primary:active,
      .bp3-dark .bp3-select.bp3-minimal select.bp3-intent-primary:active, .bp3-select.bp3-minimal .bp3-dark select.bp3-intent-primary:active, .bp3-dark .bp3-html-select.bp3-minimal select.bp3-intent-primary.bp3-active, .bp3-html-select.bp3-minimal .bp3-dark select.bp3-intent-primary.bp3-active,
      .bp3-dark .bp3-select.bp3-minimal select.bp3-intent-primary.bp3-active, .bp3-select.bp3-minimal .bp3-dark select.bp3-intent-primary.bp3-active{
        background:rgba(19, 124, 189, 0.3);
        color:#48aff0; }
      .bp3-dark .bp3-html-select.bp3-minimal select.bp3-intent-primary:disabled, .bp3-html-select.bp3-minimal .bp3-dark select.bp3-intent-primary:disabled,
      .bp3-dark .bp3-select.bp3-minimal select.bp3-intent-primary:disabled, .bp3-select.bp3-minimal .bp3-dark select.bp3-intent-primary:disabled, .bp3-dark .bp3-html-select.bp3-minimal select.bp3-intent-primary.bp3-disabled, .bp3-html-select.bp3-minimal .bp3-dark select.bp3-intent-primary.bp3-disabled,
      .bp3-dark .bp3-select.bp3-minimal select.bp3-intent-primary.bp3-disabled, .bp3-select.bp3-minimal .bp3-dark select.bp3-intent-primary.bp3-disabled{
        background:none;
        color:rgba(72, 175, 240, 0.5); }
        .bp3-dark .bp3-html-select.bp3-minimal select.bp3-intent-primary:disabled.bp3-active, .bp3-html-select.bp3-minimal .bp3-dark select.bp3-intent-primary:disabled.bp3-active,
        .bp3-dark .bp3-select.bp3-minimal select.bp3-intent-primary:disabled.bp3-active, .bp3-select.bp3-minimal .bp3-dark select.bp3-intent-primary:disabled.bp3-active, .bp3-dark .bp3-html-select.bp3-minimal select.bp3-intent-primary.bp3-disabled.bp3-active, .bp3-html-select.bp3-minimal .bp3-dark select.bp3-intent-primary.bp3-disabled.bp3-active,
        .bp3-dark .bp3-select.bp3-minimal select.bp3-intent-primary.bp3-disabled.bp3-active, .bp3-select.bp3-minimal .bp3-dark select.bp3-intent-primary.bp3-disabled.bp3-active{
          background:rgba(19, 124, 189, 0.3); }
  .bp3-html-select.bp3-minimal select.bp3-intent-success,
  .bp3-select.bp3-minimal select.bp3-intent-success{
    color:#0d8050; }
    .bp3-html-select.bp3-minimal select.bp3-intent-success:hover,
    .bp3-select.bp3-minimal select.bp3-intent-success:hover, .bp3-html-select.bp3-minimal select.bp3-intent-success:active,
    .bp3-select.bp3-minimal select.bp3-intent-success:active, .bp3-html-select.bp3-minimal select.bp3-intent-success.bp3-active,
    .bp3-select.bp3-minimal select.bp3-intent-success.bp3-active{
      background:none;
      -webkit-box-shadow:none;
              box-shadow:none;
      color:#0d8050; }
    .bp3-html-select.bp3-minimal select.bp3-intent-success:hover,
    .bp3-select.bp3-minimal select.bp3-intent-success:hover{
      background:rgba(15, 153, 96, 0.15);
      color:#0d8050; }
    .bp3-html-select.bp3-minimal select.bp3-intent-success:active,
    .bp3-select.bp3-minimal select.bp3-intent-success:active, .bp3-html-select.bp3-minimal select.bp3-intent-success.bp3-active,
    .bp3-select.bp3-minimal select.bp3-intent-success.bp3-active{
      background:rgba(15, 153, 96, 0.3);
      color:#0d8050; }
    .bp3-html-select.bp3-minimal select.bp3-intent-success:disabled,
    .bp3-select.bp3-minimal select.bp3-intent-success:disabled, .bp3-html-select.bp3-minimal select.bp3-intent-success.bp3-disabled,
    .bp3-select.bp3-minimal select.bp3-intent-success.bp3-disabled{
      background:none;
      color:rgba(13, 128, 80, 0.5); }
      .bp3-html-select.bp3-minimal select.bp3-intent-success:disabled.bp3-active,
      .bp3-select.bp3-minimal select.bp3-intent-success:disabled.bp3-active, .bp3-html-select.bp3-minimal select.bp3-intent-success.bp3-disabled.bp3-active,
      .bp3-select.bp3-minimal select.bp3-intent-success.bp3-disabled.bp3-active{
        background:rgba(15, 153, 96, 0.3); }
    .bp3-html-select.bp3-minimal select.bp3-intent-success .bp3-button-spinner .bp3-spinner-head, .bp3-select.bp3-minimal select.bp3-intent-success .bp3-button-spinner .bp3-spinner-head{
      stroke:#0d8050; }
    .bp3-dark .bp3-html-select.bp3-minimal select.bp3-intent-success, .bp3-html-select.bp3-minimal .bp3-dark select.bp3-intent-success,
    .bp3-dark .bp3-select.bp3-minimal select.bp3-intent-success, .bp3-select.bp3-minimal .bp3-dark select.bp3-intent-success{
      color:#3dcc91; }
      .bp3-dark .bp3-html-select.bp3-minimal select.bp3-intent-success:hover, .bp3-html-select.bp3-minimal .bp3-dark select.bp3-intent-success:hover,
      .bp3-dark .bp3-select.bp3-minimal select.bp3-intent-success:hover, .bp3-select.bp3-minimal .bp3-dark select.bp3-intent-success:hover{
        background:rgba(15, 153, 96, 0.2);
        color:#3dcc91; }
      .bp3-dark .bp3-html-select.bp3-minimal select.bp3-intent-success:active, .bp3-html-select.bp3-minimal .bp3-dark select.bp3-intent-success:active,
      .bp3-dark .bp3-select.bp3-minimal select.bp3-intent-success:active, .bp3-select.bp3-minimal .bp3-dark select.bp3-intent-success:active, .bp3-dark .bp3-html-select.bp3-minimal select.bp3-intent-success.bp3-active, .bp3-html-select.bp3-minimal .bp3-dark select.bp3-intent-success.bp3-active,
      .bp3-dark .bp3-select.bp3-minimal select.bp3-intent-success.bp3-active, .bp3-select.bp3-minimal .bp3-dark select.bp3-intent-success.bp3-active{
        background:rgba(15, 153, 96, 0.3);
        color:#3dcc91; }
      .bp3-dark .bp3-html-select.bp3-minimal select.bp3-intent-success:disabled, .bp3-html-select.bp3-minimal .bp3-dark select.bp3-intent-success:disabled,
      .bp3-dark .bp3-select.bp3-minimal select.bp3-intent-success:disabled, .bp3-select.bp3-minimal .bp3-dark select.bp3-intent-success:disabled, .bp3-dark .bp3-html-select.bp3-minimal select.bp3-intent-success.bp3-disabled, .bp3-html-select.bp3-minimal .bp3-dark select.bp3-intent-success.bp3-disabled,
      .bp3-dark .bp3-select.bp3-minimal select.bp3-intent-success.bp3-disabled, .bp3-select.bp3-minimal .bp3-dark select.bp3-intent-success.bp3-disabled{
        background:none;
        color:rgba(61, 204, 145, 0.5); }
        .bp3-dark .bp3-html-select.bp3-minimal select.bp3-intent-success:disabled.bp3-active, .bp3-html-select.bp3-minimal .bp3-dark select.bp3-intent-success:disabled.bp3-active,
        .bp3-dark .bp3-select.bp3-minimal select.bp3-intent-success:disabled.bp3-active, .bp3-select.bp3-minimal .bp3-dark select.bp3-intent-success:disabled.bp3-active, .bp3-dark .bp3-html-select.bp3-minimal select.bp3-intent-success.bp3-disabled.bp3-active, .bp3-html-select.bp3-minimal .bp3-dark select.bp3-intent-success.bp3-disabled.bp3-active,
        .bp3-dark .bp3-select.bp3-minimal select.bp3-intent-success.bp3-disabled.bp3-active, .bp3-select.bp3-minimal .bp3-dark select.bp3-intent-success.bp3-disabled.bp3-active{
          background:rgba(15, 153, 96, 0.3); }
  .bp3-html-select.bp3-minimal select.bp3-intent-warning,
  .bp3-select.bp3-minimal select.bp3-intent-warning{
    color:#bf7326; }
    .bp3-html-select.bp3-minimal select.bp3-intent-warning:hover,
    .bp3-select.bp3-minimal select.bp3-intent-warning:hover, .bp3-html-select.bp3-minimal select.bp3-intent-warning:active,
    .bp3-select.bp3-minimal select.bp3-intent-warning:active, .bp3-html-select.bp3-minimal select.bp3-intent-warning.bp3-active,
    .bp3-select.bp3-minimal select.bp3-intent-warning.bp3-active{
      background:none;
      -webkit-box-shadow:none;
              box-shadow:none;
      color:#bf7326; }
    .bp3-html-select.bp3-minimal select.bp3-intent-warning:hover,
    .bp3-select.bp3-minimal select.bp3-intent-warning:hover{
      background:rgba(217, 130, 43, 0.15);
      color:#bf7326; }
    .bp3-html-select.bp3-minimal select.bp3-intent-warning:active,
    .bp3-select.bp3-minimal select.bp3-intent-warning:active, .bp3-html-select.bp3-minimal select.bp3-intent-warning.bp3-active,
    .bp3-select.bp3-minimal select.bp3-intent-warning.bp3-active{
      background:rgba(217, 130, 43, 0.3);
      color:#bf7326; }
    .bp3-html-select.bp3-minimal select.bp3-intent-warning:disabled,
    .bp3-select.bp3-minimal select.bp3-intent-warning:disabled, .bp3-html-select.bp3-minimal select.bp3-intent-warning.bp3-disabled,
    .bp3-select.bp3-minimal select.bp3-intent-warning.bp3-disabled{
      background:none;
      color:rgba(191, 115, 38, 0.5); }
      .bp3-html-select.bp3-minimal select.bp3-intent-warning:disabled.bp3-active,
      .bp3-select.bp3-minimal select.bp3-intent-warning:disabled.bp3-active, .bp3-html-select.bp3-minimal select.bp3-intent-warning.bp3-disabled.bp3-active,
      .bp3-select.bp3-minimal select.bp3-intent-warning.bp3-disabled.bp3-active{
        background:rgba(217, 130, 43, 0.3); }
    .bp3-html-select.bp3-minimal select.bp3-intent-warning .bp3-button-spinner .bp3-spinner-head, .bp3-select.bp3-minimal select.bp3-intent-warning .bp3-button-spinner .bp3-spinner-head{
      stroke:#bf7326; }
    .bp3-dark .bp3-html-select.bp3-minimal select.bp3-intent-warning, .bp3-html-select.bp3-minimal .bp3-dark select.bp3-intent-warning,
    .bp3-dark .bp3-select.bp3-minimal select.bp3-intent-warning, .bp3-select.bp3-minimal .bp3-dark select.bp3-intent-warning{
      color:#ffb366; }
      .bp3-dark .bp3-html-select.bp3-minimal select.bp3-intent-warning:hover, .bp3-html-select.bp3-minimal .bp3-dark select.bp3-intent-warning:hover,
      .bp3-dark .bp3-select.bp3-minimal select.bp3-intent-warning:hover, .bp3-select.bp3-minimal .bp3-dark select.bp3-intent-warning:hover{
        background:rgba(217, 130, 43, 0.2);
        color:#ffb366; }
      .bp3-dark .bp3-html-select.bp3-minimal select.bp3-intent-warning:active, .bp3-html-select.bp3-minimal .bp3-dark select.bp3-intent-warning:active,
      .bp3-dark .bp3-select.bp3-minimal select.bp3-intent-warning:active, .bp3-select.bp3-minimal .bp3-dark select.bp3-intent-warning:active, .bp3-dark .bp3-html-select.bp3-minimal select.bp3-intent-warning.bp3-active, .bp3-html-select.bp3-minimal .bp3-dark select.bp3-intent-warning.bp3-active,
      .bp3-dark .bp3-select.bp3-minimal select.bp3-intent-warning.bp3-active, .bp3-select.bp3-minimal .bp3-dark select.bp3-intent-warning.bp3-active{
        background:rgba(217, 130, 43, 0.3);
        color:#ffb366; }
      .bp3-dark .bp3-html-select.bp3-minimal select.bp3-intent-warning:disabled, .bp3-html-select.bp3-minimal .bp3-dark select.bp3-intent-warning:disabled,
      .bp3-dark .bp3-select.bp3-minimal select.bp3-intent-warning:disabled, .bp3-select.bp3-minimal .bp3-dark select.bp3-intent-warning:disabled, .bp3-dark .bp3-html-select.bp3-minimal select.bp3-intent-warning.bp3-disabled, .bp3-html-select.bp3-minimal .bp3-dark select.bp3-intent-warning.bp3-disabled,
      .bp3-dark .bp3-select.bp3-minimal select.bp3-intent-warning.bp3-disabled, .bp3-select.bp3-minimal .bp3-dark select.bp3-intent-warning.bp3-disabled{
        background:none;
        color:rgba(255, 179, 102, 0.5); }
        .bp3-dark .bp3-html-select.bp3-minimal select.bp3-intent-warning:disabled.bp3-active, .bp3-html-select.bp3-minimal .bp3-dark select.bp3-intent-warning:disabled.bp3-active,
        .bp3-dark .bp3-select.bp3-minimal select.bp3-intent-warning:disabled.bp3-active, .bp3-select.bp3-minimal .bp3-dark select.bp3-intent-warning:disabled.bp3-active, .bp3-dark .bp3-html-select.bp3-minimal select.bp3-intent-warning.bp3-disabled.bp3-active, .bp3-html-select.bp3-minimal .bp3-dark select.bp3-intent-warning.bp3-disabled.bp3-active,
        .bp3-dark .bp3-select.bp3-minimal select.bp3-intent-warning.bp3-disabled.bp3-active, .bp3-select.bp3-minimal .bp3-dark select.bp3-intent-warning.bp3-disabled.bp3-active{
          background:rgba(217, 130, 43, 0.3); }
  .bp3-html-select.bp3-minimal select.bp3-intent-danger,
  .bp3-select.bp3-minimal select.bp3-intent-danger{
    color:#c23030; }
    .bp3-html-select.bp3-minimal select.bp3-intent-danger:hover,
    .bp3-select.bp3-minimal select.bp3-intent-danger:hover, .bp3-html-select.bp3-minimal select.bp3-intent-danger:active,
    .bp3-select.bp3-minimal select.bp3-intent-danger:active, .bp3-html-select.bp3-minimal select.bp3-intent-danger.bp3-active,
    .bp3-select.bp3-minimal select.bp3-intent-danger.bp3-active{
      background:none;
      -webkit-box-shadow:none;
              box-shadow:none;
      color:#c23030; }
    .bp3-html-select.bp3-minimal select.bp3-intent-danger:hover,
    .bp3-select.bp3-minimal select.bp3-intent-danger:hover{
      background:rgba(219, 55, 55, 0.15);
      color:#c23030; }
    .bp3-html-select.bp3-minimal select.bp3-intent-danger:active,
    .bp3-select.bp3-minimal select.bp3-intent-danger:active, .bp3-html-select.bp3-minimal select.bp3-intent-danger.bp3-active,
    .bp3-select.bp3-minimal select.bp3-intent-danger.bp3-active{
      background:rgba(219, 55, 55, 0.3);
      color:#c23030; }
    .bp3-html-select.bp3-minimal select.bp3-intent-danger:disabled,
    .bp3-select.bp3-minimal select.bp3-intent-danger:disabled, .bp3-html-select.bp3-minimal select.bp3-intent-danger.bp3-disabled,
    .bp3-select.bp3-minimal select.bp3-intent-danger.bp3-disabled{
      background:none;
      color:rgba(194, 48, 48, 0.5); }
      .bp3-html-select.bp3-minimal select.bp3-intent-danger:disabled.bp3-active,
      .bp3-select.bp3-minimal select.bp3-intent-danger:disabled.bp3-active, .bp3-html-select.bp3-minimal select.bp3-intent-danger.bp3-disabled.bp3-active,
      .bp3-select.bp3-minimal select.bp3-intent-danger.bp3-disabled.bp3-active{
        background:rgba(219, 55, 55, 0.3); }
    .bp3-html-select.bp3-minimal select.bp3-intent-danger .bp3-button-spinner .bp3-spinner-head, .bp3-select.bp3-minimal select.bp3-intent-danger .bp3-button-spinner .bp3-spinner-head{
      stroke:#c23030; }
    .bp3-dark .bp3-html-select.bp3-minimal select.bp3-intent-danger, .bp3-html-select.bp3-minimal .bp3-dark select.bp3-intent-danger,
    .bp3-dark .bp3-select.bp3-minimal select.bp3-intent-danger, .bp3-select.bp3-minimal .bp3-dark select.bp3-intent-danger{
      color:#ff7373; }
      .bp3-dark .bp3-html-select.bp3-minimal select.bp3-intent-danger:hover, .bp3-html-select.bp3-minimal .bp3-dark select.bp3-intent-danger:hover,
      .bp3-dark .bp3-select.bp3-minimal select.bp3-intent-danger:hover, .bp3-select.bp3-minimal .bp3-dark select.bp3-intent-danger:hover{
        background:rgba(219, 55, 55, 0.2);
        color:#ff7373; }
      .bp3-dark .bp3-html-select.bp3-minimal select.bp3-intent-danger:active, .bp3-html-select.bp3-minimal .bp3-dark select.bp3-intent-danger:active,
      .bp3-dark .bp3-select.bp3-minimal select.bp3-intent-danger:active, .bp3-select.bp3-minimal .bp3-dark select.bp3-intent-danger:active, .bp3-dark .bp3-html-select.bp3-minimal select.bp3-intent-danger.bp3-active, .bp3-html-select.bp3-minimal .bp3-dark select.bp3-intent-danger.bp3-active,
      .bp3-dark .bp3-select.bp3-minimal select.bp3-intent-danger.bp3-active, .bp3-select.bp3-minimal .bp3-dark select.bp3-intent-danger.bp3-active{
        background:rgba(219, 55, 55, 0.3);
        color:#ff7373; }
      .bp3-dark .bp3-html-select.bp3-minimal select.bp3-intent-danger:disabled, .bp3-html-select.bp3-minimal .bp3-dark select.bp3-intent-danger:disabled,
      .bp3-dark .bp3-select.bp3-minimal select.bp3-intent-danger:disabled, .bp3-select.bp3-minimal .bp3-dark select.bp3-intent-danger:disabled, .bp3-dark .bp3-html-select.bp3-minimal select.bp3-intent-danger.bp3-disabled, .bp3-html-select.bp3-minimal .bp3-dark select.bp3-intent-danger.bp3-disabled,
      .bp3-dark .bp3-select.bp3-minimal select.bp3-intent-danger.bp3-disabled, .bp3-select.bp3-minimal .bp3-dark select.bp3-intent-danger.bp3-disabled{
        background:none;
        color:rgba(255, 115, 115, 0.5); }
        .bp3-dark .bp3-html-select.bp3-minimal select.bp3-intent-danger:disabled.bp3-active, .bp3-html-select.bp3-minimal .bp3-dark select.bp3-intent-danger:disabled.bp3-active,
        .bp3-dark .bp3-select.bp3-minimal select.bp3-intent-danger:disabled.bp3-active, .bp3-select.bp3-minimal .bp3-dark select.bp3-intent-danger:disabled.bp3-active, .bp3-dark .bp3-html-select.bp3-minimal select.bp3-intent-danger.bp3-disabled.bp3-active, .bp3-html-select.bp3-minimal .bp3-dark select.bp3-intent-danger.bp3-disabled.bp3-active,
        .bp3-dark .bp3-select.bp3-minimal select.bp3-intent-danger.bp3-disabled.bp3-active, .bp3-select.bp3-minimal .bp3-dark select.bp3-intent-danger.bp3-disabled.bp3-active{
          background:rgba(219, 55, 55, 0.3); }

.bp3-html-select.bp3-large select,
.bp3-select.bp3-large select{
  font-size:16px;
  height:40px;
  padding-right:35px; }

.bp3-dark .bp3-html-select select, .bp3-dark .bp3-select select{
  background-color:#394b59;
  background-image:-webkit-gradient(linear, left top, left bottom, from(rgba(255, 255, 255, 0.05)), to(rgba(255, 255, 255, 0)));
  background-image:linear-gradient(to bottom, rgba(255, 255, 255, 0.05), rgba(255, 255, 255, 0));
  -webkit-box-shadow:0 0 0 1px rgba(16, 22, 26, 0.4);
          box-shadow:0 0 0 1px rgba(16, 22, 26, 0.4);
  color:#f5f8fa; }
  .bp3-dark .bp3-html-select select:hover, .bp3-dark .bp3-select select:hover, .bp3-dark .bp3-html-select select:active, .bp3-dark .bp3-select select:active, .bp3-dark .bp3-html-select select.bp3-active, .bp3-dark .bp3-select select.bp3-active{
    color:#f5f8fa; }
  .bp3-dark .bp3-html-select select:hover, .bp3-dark .bp3-select select:hover{
    background-color:#30404d;
    -webkit-box-shadow:0 0 0 1px rgba(16, 22, 26, 0.4);
            box-shadow:0 0 0 1px rgba(16, 22, 26, 0.4); }
  .bp3-dark .bp3-html-select select:active, .bp3-dark .bp3-select select:active, .bp3-dark .bp3-html-select select.bp3-active, .bp3-dark .bp3-select select.bp3-active{
    background-color:#202b33;
    background-image:none;
    -webkit-box-shadow:0 0 0 1px rgba(16, 22, 26, 0.6), inset 0 1px 2px rgba(16, 22, 26, 0.2);
            box-shadow:0 0 0 1px rgba(16, 22, 26, 0.6), inset 0 1px 2px rgba(16, 22, 26, 0.2); }
  .bp3-dark .bp3-html-select select:disabled, .bp3-dark .bp3-select select:disabled, .bp3-dark .bp3-html-select select.bp3-disabled, .bp3-dark .bp3-select select.bp3-disabled{
    background-color:rgba(57, 75, 89, 0.5);
    background-image:none;
    -webkit-box-shadow:none;
            box-shadow:none;
    color:rgba(167, 182, 194, 0.6); }
    .bp3-dark .bp3-html-select select:disabled.bp3-active, .bp3-dark .bp3-select select:disabled.bp3-active, .bp3-dark .bp3-html-select select.bp3-disabled.bp3-active, .bp3-dark .bp3-select select.bp3-disabled.bp3-active{
      background:rgba(57, 75, 89, 0.7); }
  .bp3-dark .bp3-html-select select .bp3-button-spinner .bp3-spinner-head, .bp3-dark .bp3-select select .bp3-button-spinner .bp3-spinner-head{
    background:rgba(16, 22, 26, 0.5);
    stroke:#8a9ba8; }

.bp3-html-select select:disabled,
.bp3-select select:disabled{
  background-color:rgba(206, 217, 224, 0.5);
  -webkit-box-shadow:none;
          box-shadow:none;
  color:rgba(92, 112, 128, 0.6);
  cursor:not-allowed; }

.bp3-html-select .bp3-icon,
.bp3-select .bp3-icon, .bp3-select::after{
  color:#5c7080;
  pointer-events:none;
  position:absolute;
  right:7px;
  top:7px; }
  .bp3-html-select .bp3-disabled.bp3-icon,
  .bp3-select .bp3-disabled.bp3-icon, .bp3-disabled.bp3-select::after{
    color:rgba(92, 112, 128, 0.6); }
.bp3-html-select,
.bp3-select{
  display:inline-block;
  letter-spacing:normal;
  position:relative;
  vertical-align:middle; }
  .bp3-html-select select::-ms-expand,
  .bp3-select select::-ms-expand{
    display:none; }
  .bp3-html-select .bp3-icon,
  .bp3-select .bp3-icon{
    color:#5c7080; }
    .bp3-html-select .bp3-icon:hover,
    .bp3-select .bp3-icon:hover{
      color:#182026; }
    .bp3-dark .bp3-html-select .bp3-icon, .bp3-dark
    .bp3-select .bp3-icon{
      color:#a7b6c2; }
      .bp3-dark .bp3-html-select .bp3-icon:hover, .bp3-dark
      .bp3-select .bp3-icon:hover{
        color:#f5f8fa; }
  .bp3-html-select.bp3-large::after,
  .bp3-html-select.bp3-large .bp3-icon,
  .bp3-select.bp3-large::after,
  .bp3-select.bp3-large .bp3-icon{
    right:12px;
    top:12px; }
  .bp3-html-select.bp3-fill,
  .bp3-html-select.bp3-fill select,
  .bp3-select.bp3-fill,
  .bp3-select.bp3-fill select{
    width:100%; }
  .bp3-dark .bp3-html-select option, .bp3-dark
  .bp3-select option{
    background-color:#30404d;
    color:#f5f8fa; }
  .bp3-dark .bp3-html-select option:disabled, .bp3-dark
  .bp3-select option:disabled{
    color:rgba(167, 182, 194, 0.6); }
  .bp3-dark .bp3-html-select::after, .bp3-dark
  .bp3-select::after{
    color:#a7b6c2; }

.bp3-select::after{
  font-family:"Icons16", sans-serif;
  font-size:16px;
  font-style:normal;
  font-weight:400;
  line-height:1;
  -moz-osx-font-smoothing:grayscale;
  -webkit-font-smoothing:antialiased;
  content:""; }
.bp3-running-text table, table.bp3-html-table{
  border-spacing:0;
  font-size:14px; }
  .bp3-running-text table th, table.bp3-html-table th,
  .bp3-running-text table td,
  table.bp3-html-table td{
    padding:11px;
    text-align:left;
    vertical-align:top; }
  .bp3-running-text table th, table.bp3-html-table th{
    color:#182026;
    font-weight:600; }
  
  .bp3-running-text table td,
  table.bp3-html-table td{
    color:#182026; }
  .bp3-running-text table tbody tr:first-child th, table.bp3-html-table tbody tr:first-child th,
  .bp3-running-text table tbody tr:first-child td,
  table.bp3-html-table tbody tr:first-child td,
  .bp3-running-text table tfoot tr:first-child th,
  table.bp3-html-table tfoot tr:first-child th,
  .bp3-running-text table tfoot tr:first-child td,
  table.bp3-html-table tfoot tr:first-child td{
    -webkit-box-shadow:inset 0 1px 0 0 rgba(16, 22, 26, 0.15);
            box-shadow:inset 0 1px 0 0 rgba(16, 22, 26, 0.15); }
  .bp3-dark .bp3-running-text table th, .bp3-running-text .bp3-dark table th, .bp3-dark table.bp3-html-table th{
    color:#f5f8fa; }
  .bp3-dark .bp3-running-text table td, .bp3-running-text .bp3-dark table td, .bp3-dark table.bp3-html-table td{
    color:#f5f8fa; }
  .bp3-dark .bp3-running-text table tbody tr:first-child th, .bp3-running-text .bp3-dark table tbody tr:first-child th, .bp3-dark table.bp3-html-table tbody tr:first-child th,
  .bp3-dark .bp3-running-text table tbody tr:first-child td,
  .bp3-running-text .bp3-dark table tbody tr:first-child td,
  .bp3-dark table.bp3-html-table tbody tr:first-child td,
  .bp3-dark .bp3-running-text table tfoot tr:first-child th,
  .bp3-running-text .bp3-dark table tfoot tr:first-child th,
  .bp3-dark table.bp3-html-table tfoot tr:first-child th,
  .bp3-dark .bp3-running-text table tfoot tr:first-child td,
  .bp3-running-text .bp3-dark table tfoot tr:first-child td,
  .bp3-dark table.bp3-html-table tfoot tr:first-child td{
    -webkit-box-shadow:inset 0 1px 0 0 rgba(255, 255, 255, 0.15);
            box-shadow:inset 0 1px 0 0 rgba(255, 255, 255, 0.15); }

table.bp3-html-table.bp3-html-table-condensed th,
table.bp3-html-table.bp3-html-table-condensed td, table.bp3-html-table.bp3-small th,
table.bp3-html-table.bp3-small td{
  padding-bottom:6px;
  padding-top:6px; }

table.bp3-html-table.bp3-html-table-striped tbody tr:nth-child(odd) td{
  background:rgba(191, 204, 214, 0.15); }

table.bp3-html-table.bp3-html-table-bordered th:not(:first-child){
  -webkit-box-shadow:inset 1px 0 0 0 rgba(16, 22, 26, 0.15);
          box-shadow:inset 1px 0 0 0 rgba(16, 22, 26, 0.15); }

table.bp3-html-table.bp3-html-table-bordered tbody tr td,
table.bp3-html-table.bp3-html-table-bordered tfoot tr td{
  -webkit-box-shadow:inset 0 1px 0 0 rgba(16, 22, 26, 0.15);
          box-shadow:inset 0 1px 0 0 rgba(16, 22, 26, 0.15); }
  table.bp3-html-table.bp3-html-table-bordered tbody tr td:not(:first-child),
  table.bp3-html-table.bp3-html-table-bordered tfoot tr td:not(:first-child){
    -webkit-box-shadow:inset 1px 1px 0 0 rgba(16, 22, 26, 0.15);
            box-shadow:inset 1px 1px 0 0 rgba(16, 22, 26, 0.15); }

table.bp3-html-table.bp3-html-table-bordered.bp3-html-table-striped tbody tr:not(:first-child) td{
  -webkit-box-shadow:none;
          box-shadow:none; }
  table.bp3-html-table.bp3-html-table-bordered.bp3-html-table-striped tbody tr:not(:first-child) td:not(:first-child){
    -webkit-box-shadow:inset 1px 0 0 0 rgba(16, 22, 26, 0.15);
            box-shadow:inset 1px 0 0 0 rgba(16, 22, 26, 0.15); }

table.bp3-html-table.bp3-interactive tbody tr:hover td{
  background-color:rgba(191, 204, 214, 0.3);
  cursor:pointer; }

table.bp3-html-table.bp3-interactive tbody tr:active td{
  background-color:rgba(191, 204, 214, 0.4); }

.bp3-dark table.bp3-html-table{ }
  .bp3-dark table.bp3-html-table.bp3-html-table-striped tbody tr:nth-child(odd) td{
    background:rgba(92, 112, 128, 0.15); }
  .bp3-dark table.bp3-html-table.bp3-html-table-bordered th:not(:first-child){
    -webkit-box-shadow:inset 1px 0 0 0 rgba(255, 255, 255, 0.15);
            box-shadow:inset 1px 0 0 0 rgba(255, 255, 255, 0.15); }
  .bp3-dark table.bp3-html-table.bp3-html-table-bordered tbody tr td,
  .bp3-dark table.bp3-html-table.bp3-html-table-bordered tfoot tr td{
    -webkit-box-shadow:inset 0 1px 0 0 rgba(255, 255, 255, 0.15);
            box-shadow:inset 0 1px 0 0 rgba(255, 255, 255, 0.15); }
    .bp3-dark table.bp3-html-table.bp3-html-table-bordered tbody tr td:not(:first-child),
    .bp3-dark table.bp3-html-table.bp3-html-table-bordered tfoot tr td:not(:first-child){
      -webkit-box-shadow:inset 1px 1px 0 0 rgba(255, 255, 255, 0.15);
              box-shadow:inset 1px 1px 0 0 rgba(255, 255, 255, 0.15); }
  .bp3-dark table.bp3-html-table.bp3-html-table-bordered.bp3-html-table-striped tbody tr:not(:first-child) td{
    -webkit-box-shadow:inset 1px 0 0 0 rgba(255, 255, 255, 0.15);
            box-shadow:inset 1px 0 0 0 rgba(255, 255, 255, 0.15); }
    .bp3-dark table.bp3-html-table.bp3-html-table-bordered.bp3-html-table-striped tbody tr:not(:first-child) td:first-child{
      -webkit-box-shadow:none;
              box-shadow:none; }
  .bp3-dark table.bp3-html-table.bp3-interactive tbody tr:hover td{
    background-color:rgba(92, 112, 128, 0.3);
    cursor:pointer; }
  .bp3-dark table.bp3-html-table.bp3-interactive tbody tr:active td{
    background-color:rgba(92, 112, 128, 0.4); }

.bp3-key-combo{
  display:-webkit-box;
  display:-ms-flexbox;
  display:flex;
  -webkit-box-orient:horizontal;
  -webkit-box-direction:normal;
      -ms-flex-direction:row;
          flex-direction:row;
  -webkit-box-align:center;
      -ms-flex-align:center;
          align-items:center; }
  .bp3-key-combo > *{
    -webkit-box-flex:0;
        -ms-flex-positive:0;
            flex-grow:0;
    -ms-flex-negative:0;
        flex-shrink:0; }
  .bp3-key-combo > .bp3-fill{
    -webkit-box-flex:1;
        -ms-flex-positive:1;
            flex-grow:1;
    -ms-flex-negative:1;
        flex-shrink:1; }
  .bp3-key-combo::before,
  .bp3-key-combo > *{
    margin-right:5px; }
  .bp3-key-combo:empty::before,
  .bp3-key-combo > :last-child{
    margin-right:0; }

.bp3-hotkey-dialog{
  padding-bottom:0;
  top:40px; }
  .bp3-hotkey-dialog .bp3-dialog-body{
    margin:0;
    padding:0; }
  .bp3-hotkey-dialog .bp3-hotkey-label{
    -webkit-box-flex:1;
        -ms-flex-positive:1;
            flex-grow:1; }

.bp3-hotkey-column{
  margin:auto;
  max-height:80vh;
  overflow-y:auto;
  padding:30px; }
  .bp3-hotkey-column .bp3-heading{
    margin-bottom:20px; }
    .bp3-hotkey-column .bp3-heading:not(:first-child){
      margin-top:40px; }

.bp3-hotkey{
  -webkit-box-align:center;
      -ms-flex-align:center;
          align-items:center;
  display:-webkit-box;
  display:-ms-flexbox;
  display:flex;
  -webkit-box-pack:justify;
      -ms-flex-pack:justify;
          justify-content:space-between;
  margin-left:0;
  margin-right:0; }
  .bp3-hotkey:not(:last-child){
    margin-bottom:10px; }
.bp3-icon{
  display:inline-block;
  -webkit-box-flex:0;
      -ms-flex:0 0 auto;
          flex:0 0 auto;
  vertical-align:text-bottom; }
  .bp3-icon:not(:empty)::before{
    content:"" !important;
    content:unset !important; }
  .bp3-icon > svg{
    display:block; }
    .bp3-icon > svg:not([fill]){
      fill:currentColor; }

.bp3-icon.bp3-intent-primary, .bp3-icon-standard.bp3-intent-primary, .bp3-icon-large.bp3-intent-primary{
  color:#106ba3; }
  .bp3-dark .bp3-icon.bp3-intent-primary, .bp3-dark .bp3-icon-standard.bp3-intent-primary, .bp3-dark .bp3-icon-large.bp3-intent-primary{
    color:#48aff0; }

.bp3-icon.bp3-intent-success, .bp3-icon-standard.bp3-intent-success, .bp3-icon-large.bp3-intent-success{
  color:#0d8050; }
  .bp3-dark .bp3-icon.bp3-intent-success, .bp3-dark .bp3-icon-standard.bp3-intent-success, .bp3-dark .bp3-icon-large.bp3-intent-success{
    color:#3dcc91; }

.bp3-icon.bp3-intent-warning, .bp3-icon-standard.bp3-intent-warning, .bp3-icon-large.bp3-intent-warning{
  color:#bf7326; }
  .bp3-dark .bp3-icon.bp3-intent-warning, .bp3-dark .bp3-icon-standard.bp3-intent-warning, .bp3-dark .bp3-icon-large.bp3-intent-warning{
    color:#ffb366; }

.bp3-icon.bp3-intent-danger, .bp3-icon-standard.bp3-intent-danger, .bp3-icon-large.bp3-intent-danger{
  color:#c23030; }
  .bp3-dark .bp3-icon.bp3-intent-danger, .bp3-dark .bp3-icon-standard.bp3-intent-danger, .bp3-dark .bp3-icon-large.bp3-intent-danger{
    color:#ff7373; }

span.bp3-icon-standard{
  font-family:"Icons16", sans-serif;
  font-size:16px;
  font-style:normal;
  font-weight:400;
  line-height:1;
  -moz-osx-font-smoothing:grayscale;
  -webkit-font-smoothing:antialiased;
  display:inline-block; }

span.bp3-icon-large{
  font-family:"Icons20", sans-serif;
  font-size:20px;
  font-style:normal;
  font-weight:400;
  line-height:1;
  -moz-osx-font-smoothing:grayscale;
  -webkit-font-smoothing:antialiased;
  display:inline-block; }

span.bp3-icon:empty{
  font-family:"Icons20";
  font-size:inherit;
  font-style:normal;
  font-weight:400;
  line-height:1; }
  span.bp3-icon:empty::before{
    -moz-osx-font-smoothing:grayscale;
    -webkit-font-smoothing:antialiased; }

.bp3-icon-add::before{
  content:""; }

.bp3-icon-add-column-left::before{
  content:""; }

.bp3-icon-add-column-right::before{
  content:""; }

.bp3-icon-add-row-bottom::before{
  content:""; }

.bp3-icon-add-row-top::before{
  content:""; }

.bp3-icon-add-to-artifact::before{
  content:""; }

.bp3-icon-add-to-folder::before{
  content:""; }

.bp3-icon-airplane::before{
  content:""; }

.bp3-icon-align-center::before{
  content:""; }

.bp3-icon-align-justify::before{
  content:""; }

.bp3-icon-align-left::before{
  content:""; }

.bp3-icon-align-right::before{
  content:""; }

.bp3-icon-alignment-bottom::before{
  content:""; }

.bp3-icon-alignment-horizontal-center::before{
  content:""; }

.bp3-icon-alignment-left::before{
  content:""; }

.bp3-icon-alignment-right::before{
  content:""; }

.bp3-icon-alignment-top::before{
  content:""; }

.bp3-icon-alignment-vertical-center::before{
  content:""; }

.bp3-icon-annotation::before{
  content:""; }

.bp3-icon-application::before{
  content:""; }

.bp3-icon-applications::before{
  content:""; }

.bp3-icon-archive::before{
  content:""; }

.bp3-icon-arrow-bottom-left::before{
  content:"↙"; }

.bp3-icon-arrow-bottom-right::before{
  content:"↘"; }

.bp3-icon-arrow-down::before{
  content:"↓"; }

.bp3-icon-arrow-left::before{
  content:"←"; }

.bp3-icon-arrow-right::before{
  content:"→"; }

.bp3-icon-arrow-top-left::before{
  content:"↖"; }

.bp3-icon-arrow-top-right::before{
  content:"↗"; }

.bp3-icon-arrow-up::before{
  content:"↑"; }

.bp3-icon-arrows-horizontal::before{
  content:"↔"; }

.bp3-icon-arrows-vertical::before{
  content:"↕"; }

.bp3-icon-asterisk::before{
  content:"*"; }

.bp3-icon-automatic-updates::before{
  content:""; }

.bp3-icon-badge::before{
  content:""; }

.bp3-icon-ban-circle::before{
  content:""; }

.bp3-icon-bank-account::before{
  content:""; }

.bp3-icon-barcode::before{
  content:""; }

.bp3-icon-blank::before{
  content:""; }

.bp3-icon-blocked-person::before{
  content:""; }

.bp3-icon-bold::before{
  content:""; }

.bp3-icon-book::before{
  content:""; }

.bp3-icon-bookmark::before{
  content:""; }

.bp3-icon-box::before{
  content:""; }

.bp3-icon-briefcase::before{
  content:""; }

.bp3-icon-bring-data::before{
  content:""; }

.bp3-icon-build::before{
  content:""; }

.bp3-icon-calculator::before{
  content:""; }

.bp3-icon-calendar::before{
  content:""; }

.bp3-icon-camera::before{
  content:""; }

.bp3-icon-caret-down::before{
  content:"⌄"; }

.bp3-icon-caret-left::before{
  content:"〈"; }

.bp3-icon-caret-right::before{
  content:"〉"; }

.bp3-icon-caret-up::before{
  content:"⌃"; }

.bp3-icon-cell-tower::before{
  content:""; }

.bp3-icon-changes::before{
  content:""; }

.bp3-icon-chart::before{
  content:""; }

.bp3-icon-chat::before{
  content:""; }

.bp3-icon-chevron-backward::before{
  content:""; }

.bp3-icon-chevron-down::before{
  content:""; }

.bp3-icon-chevron-forward::before{
  content:""; }

.bp3-icon-chevron-left::before{
  content:""; }

.bp3-icon-chevron-right::before{
  content:""; }

.bp3-icon-chevron-up::before{
  content:""; }

.bp3-icon-circle::before{
  content:""; }

.bp3-icon-circle-arrow-down::before{
  content:""; }

.bp3-icon-circle-arrow-left::before{
  content:""; }

.bp3-icon-circle-arrow-right::before{
  content:""; }

.bp3-icon-circle-arrow-up::before{
  content:""; }

.bp3-icon-citation::before{
  content:""; }

.bp3-icon-clean::before{
  content:""; }

.bp3-icon-clipboard::before{
  content:""; }

.bp3-icon-cloud::before{
  content:"☁"; }

.bp3-icon-cloud-download::before{
  content:""; }

.bp3-icon-cloud-upload::before{
  content:""; }

.bp3-icon-code::before{
  content:""; }

.bp3-icon-code-block::before{
  content:""; }

.bp3-icon-cog::before{
  content:""; }

.bp3-icon-collapse-all::before{
  content:""; }

.bp3-icon-column-layout::before{
  content:""; }

.bp3-icon-comment::before{
  content:""; }

.bp3-icon-comparison::before{
  content:""; }

.bp3-icon-compass::before{
  content:""; }

.bp3-icon-compressed::before{
  content:""; }

.bp3-icon-confirm::before{
  content:""; }

.bp3-icon-console::before{
  content:""; }

.bp3-icon-contrast::before{
  content:""; }

.bp3-icon-control::before{
  content:""; }

.bp3-icon-credit-card::before{
  content:""; }

.bp3-icon-cross::before{
  content:"✗"; }

.bp3-icon-crown::before{
  content:""; }

.bp3-icon-cube::before{
  content:""; }

.bp3-icon-cube-add::before{
  content:""; }

.bp3-icon-cube-remove::before{
  content:""; }

.bp3-icon-curved-range-chart::before{
  content:""; }

.bp3-icon-cut::before{
  content:""; }

.bp3-icon-dashboard::before{
  content:""; }

.bp3-icon-data-lineage::before{
  content:""; }

.bp3-icon-database::before{
  content:""; }

.bp3-icon-delete::before{
  content:""; }

.bp3-icon-delta::before{
  content:"Δ"; }

.bp3-icon-derive-column::before{
  content:""; }

.bp3-icon-desktop::before{
  content:""; }

.bp3-icon-diagnosis::before{
  content:""; }

.bp3-icon-diagram-tree::before{
  content:""; }

.bp3-icon-direction-left::before{
  content:""; }

.bp3-icon-direction-right::before{
  content:""; }

.bp3-icon-disable::before{
  content:""; }

.bp3-icon-document::before{
  content:""; }

.bp3-icon-document-open::before{
  content:""; }

.bp3-icon-document-share::before{
  content:""; }

.bp3-icon-dollar::before{
  content:"$"; }

.bp3-icon-dot::before{
  content:"•"; }

.bp3-icon-double-caret-horizontal::before{
  content:""; }

.bp3-icon-double-caret-vertical::before{
  content:""; }

.bp3-icon-double-chevron-down::before{
  content:""; }

.bp3-icon-double-chevron-left::before{
  content:""; }

.bp3-icon-double-chevron-right::before{
  content:""; }

.bp3-icon-double-chevron-up::before{
  content:""; }

.bp3-icon-doughnut-chart::before{
  content:""; }

.bp3-icon-download::before{
  content:""; }

.bp3-icon-drag-handle-horizontal::before{
  content:""; }

.bp3-icon-drag-handle-vertical::before{
  content:""; }

.bp3-icon-draw::before{
  content:""; }

.bp3-icon-drive-time::before{
  content:""; }

.bp3-icon-duplicate::before{
  content:""; }

.bp3-icon-edit::before{
  content:"✎"; }

.bp3-icon-eject::before{
  content:"⏏"; }

.bp3-icon-endorsed::before{
  content:""; }

.bp3-icon-envelope::before{
  content:"✉"; }

.bp3-icon-equals::before{
  content:""; }

.bp3-icon-eraser::before{
  content:""; }

.bp3-icon-error::before{
  content:""; }

.bp3-icon-euro::before{
  content:"€"; }

.bp3-icon-exchange::before{
  content:""; }

.bp3-icon-exclude-row::before{
  content:""; }

.bp3-icon-expand-all::before{
  content:""; }

.bp3-icon-export::before{
  content:""; }

.bp3-icon-eye-off::before{
  content:""; }

.bp3-icon-eye-on::before{
  content:""; }

.bp3-icon-eye-open::before{
  content:""; }

.bp3-icon-fast-backward::before{
  content:""; }

.bp3-icon-fast-forward::before{
  content:""; }

.bp3-icon-feed::before{
  content:""; }

.bp3-icon-feed-subscribed::before{
  content:""; }

.bp3-icon-film::before{
  content:""; }

.bp3-icon-filter::before{
  content:""; }

.bp3-icon-filter-keep::before{
  content:""; }

.bp3-icon-filter-list::before{
  content:""; }

.bp3-icon-filter-open::before{
  content:""; }

.bp3-icon-filter-remove::before{
  content:""; }

.bp3-icon-flag::before{
  content:"⚑"; }

.bp3-icon-flame::before{
  content:""; }

.bp3-icon-flash::before{
  content:""; }

.bp3-icon-floppy-disk::before{
  content:""; }

.bp3-icon-flow-branch::before{
  content:""; }

.bp3-icon-flow-end::before{
  content:""; }

.bp3-icon-flow-linear::before{
  content:""; }

.bp3-icon-flow-review::before{
  content:""; }

.bp3-icon-flow-review-branch::before{
  content:""; }

.bp3-icon-flows::before{
  content:""; }

.bp3-icon-folder-close::before{
  content:""; }

.bp3-icon-folder-new::before{
  content:""; }

.bp3-icon-folder-open::before{
  content:""; }

.bp3-icon-folder-shared::before{
  content:""; }

.bp3-icon-folder-shared-open::before{
  content:""; }

.bp3-icon-follower::before{
  content:""; }

.bp3-icon-following::before{
  content:""; }

.bp3-icon-font::before{
  content:""; }

.bp3-icon-fork::before{
  content:""; }

.bp3-icon-form::before{
  content:""; }

.bp3-icon-full-circle::before{
  content:""; }

.bp3-icon-full-stacked-chart::before{
  content:""; }

.bp3-icon-fullscreen::before{
  content:""; }

.bp3-icon-function::before{
  content:""; }

.bp3-icon-gantt-chart::before{
  content:""; }

.bp3-icon-geolocation::before{
  content:""; }

.bp3-icon-geosearch::before{
  content:""; }

.bp3-icon-git-branch::before{
  content:""; }

.bp3-icon-git-commit::before{
  content:""; }

.bp3-icon-git-merge::before{
  content:""; }

.bp3-icon-git-new-branch::before{
  content:""; }

.bp3-icon-git-pull::before{
  content:""; }

.bp3-icon-git-push::before{
  content:""; }

.bp3-icon-git-repo::before{
  content:""; }

.bp3-icon-glass::before{
  content:""; }

.bp3-icon-globe::before{
  content:""; }

.bp3-icon-globe-network::before{
  content:""; }

.bp3-icon-graph::before{
  content:""; }

.bp3-icon-graph-remove::before{
  content:""; }

.bp3-icon-greater-than::before{
  content:""; }

.bp3-icon-greater-than-or-equal-to::before{
  content:""; }

.bp3-icon-grid::before{
  content:""; }

.bp3-icon-grid-view::before{
  content:""; }

.bp3-icon-group-objects::before{
  content:""; }

.bp3-icon-grouped-bar-chart::before{
  content:""; }

.bp3-icon-hand::before{
  content:""; }

.bp3-icon-hand-down::before{
  content:""; }

.bp3-icon-hand-left::before{
  content:""; }

.bp3-icon-hand-right::before{
  content:""; }

.bp3-icon-hand-up::before{
  content:""; }

.bp3-icon-header::before{
  content:""; }

.bp3-icon-header-one::before{
  content:""; }

.bp3-icon-header-two::before{
  content:""; }

.bp3-icon-headset::before{
  content:""; }

.bp3-icon-heart::before{
  content:"♥"; }

.bp3-icon-heart-broken::before{
  content:""; }

.bp3-icon-heat-grid::before{
  content:""; }

.bp3-icon-heatmap::before{
  content:""; }

.bp3-icon-help::before{
  content:"?"; }

.bp3-icon-helper-management::before{
  content:""; }

.bp3-icon-highlight::before{
  content:""; }

.bp3-icon-history::before{
  content:""; }

.bp3-icon-home::before{
  content:"⌂"; }

.bp3-icon-horizontal-bar-chart::before{
  content:""; }

.bp3-icon-horizontal-bar-chart-asc::before{
  content:""; }

.bp3-icon-horizontal-bar-chart-desc::before{
  content:""; }

.bp3-icon-horizontal-distribution::before{
  content:""; }

.bp3-icon-id-number::before{
  content:""; }

.bp3-icon-image-rotate-left::before{
  content:""; }

.bp3-icon-image-rotate-right::before{
  content:""; }

.bp3-icon-import::before{
  content:""; }

.bp3-icon-inbox::before{
  content:""; }

.bp3-icon-inbox-filtered::before{
  content:""; }

.bp3-icon-inbox-geo::before{
  content:""; }

.bp3-icon-inbox-search::before{
  content:""; }

.bp3-icon-inbox-update::before{
  content:""; }

.bp3-icon-info-sign::before{
  content:"ℹ"; }

.bp3-icon-inheritance::before{
  content:""; }

.bp3-icon-inner-join::before{
  content:""; }

.bp3-icon-insert::before{
  content:""; }

.bp3-icon-intersection::before{
  content:""; }

.bp3-icon-ip-address::before{
  content:""; }

.bp3-icon-issue::before{
  content:""; }

.bp3-icon-issue-closed::before{
  content:""; }

.bp3-icon-issue-new::before{
  content:""; }

.bp3-icon-italic::before{
  content:""; }

.bp3-icon-join-table::before{
  content:""; }

.bp3-icon-key::before{
  content:""; }

.bp3-icon-key-backspace::before{
  content:""; }

.bp3-icon-key-command::before{
  content:""; }

.bp3-icon-key-control::before{
  content:""; }

.bp3-icon-key-delete::before{
  content:""; }

.bp3-icon-key-enter::before{
  content:""; }

.bp3-icon-key-escape::before{
  content:""; }

.bp3-icon-key-option::before{
  content:""; }

.bp3-icon-key-shift::before{
  content:""; }

.bp3-icon-key-tab::before{
  content:""; }

.bp3-icon-known-vehicle::before{
  content:""; }

.bp3-icon-lab-test::before{
  content:""; }

.bp3-icon-label::before{
  content:""; }

.bp3-icon-layer::before{
  content:""; }

.bp3-icon-layers::before{
  content:""; }

.bp3-icon-layout::before{
  content:""; }

.bp3-icon-layout-auto::before{
  content:""; }

.bp3-icon-layout-balloon::before{
  content:""; }

.bp3-icon-layout-circle::before{
  content:""; }

.bp3-icon-layout-grid::before{
  content:""; }

.bp3-icon-layout-group-by::before{
  content:""; }

.bp3-icon-layout-hierarchy::before{
  content:""; }

.bp3-icon-layout-linear::before{
  content:""; }

.bp3-icon-layout-skew-grid::before{
  content:""; }

.bp3-icon-layout-sorted-clusters::before{
  content:""; }

.bp3-icon-learning::before{
  content:""; }

.bp3-icon-left-join::before{
  content:""; }

.bp3-icon-less-than::before{
  content:""; }

.bp3-icon-less-than-or-equal-to::before{
  content:""; }

.bp3-icon-lifesaver::before{
  content:""; }

.bp3-icon-lightbulb::before{
  content:""; }

.bp3-icon-link::before{
  content:""; }

.bp3-icon-list::before{
  content:"☰"; }

.bp3-icon-list-columns::before{
  content:""; }

.bp3-icon-list-detail-view::before{
  content:""; }

.bp3-icon-locate::before{
  content:""; }

.bp3-icon-lock::before{
  content:""; }

.bp3-icon-log-in::before{
  content:""; }

.bp3-icon-log-out::before{
  content:""; }

.bp3-icon-manual::before{
  content:""; }

.bp3-icon-manually-entered-data::before{
  content:""; }

.bp3-icon-map::before{
  content:""; }

.bp3-icon-map-create::before{
  content:""; }

.bp3-icon-map-marker::before{
  content:""; }

.bp3-icon-maximize::before{
  content:""; }

.bp3-icon-media::before{
  content:""; }

.bp3-icon-menu::before{
  content:""; }

.bp3-icon-menu-closed::before{
  content:""; }

.bp3-icon-menu-open::before{
  content:""; }

.bp3-icon-merge-columns::before{
  content:""; }

.bp3-icon-merge-links::before{
  content:""; }

.bp3-icon-minimize::before{
  content:""; }

.bp3-icon-minus::before{
  content:"−"; }

.bp3-icon-mobile-phone::before{
  content:""; }

.bp3-icon-mobile-video::before{
  content:""; }

.bp3-icon-moon::before{
  content:""; }

.bp3-icon-more::before{
  content:""; }

.bp3-icon-mountain::before{
  content:""; }

.bp3-icon-move::before{
  content:""; }

.bp3-icon-mugshot::before{
  content:""; }

.bp3-icon-multi-select::before{
  content:""; }

.bp3-icon-music::before{
  content:""; }

.bp3-icon-new-drawing::before{
  content:""; }

.bp3-icon-new-grid-item::before{
  content:""; }

.bp3-icon-new-layer::before{
  content:""; }

.bp3-icon-new-layers::before{
  content:""; }

.bp3-icon-new-link::before{
  content:""; }

.bp3-icon-new-object::before{
  content:""; }

.bp3-icon-new-person::before{
  content:""; }

.bp3-icon-new-prescription::before{
  content:""; }

.bp3-icon-new-text-box::before{
  content:""; }

.bp3-icon-ninja::before{
  content:""; }

.bp3-icon-not-equal-to::before{
  content:""; }

.bp3-icon-notifications::before{
  content:""; }

.bp3-icon-notifications-updated::before{
  content:""; }

.bp3-icon-numbered-list::before{
  content:""; }

.bp3-icon-numerical::before{
  content:""; }

.bp3-icon-office::before{
  content:""; }

.bp3-icon-offline::before{
  content:""; }

.bp3-icon-oil-field::before{
  content:""; }

.bp3-icon-one-column::before{
  content:""; }

.bp3-icon-outdated::before{
  content:""; }

.bp3-icon-page-layout::before{
  content:""; }

.bp3-icon-panel-stats::before{
  content:""; }

.bp3-icon-panel-table::before{
  content:""; }

.bp3-icon-paperclip::before{
  content:""; }

.bp3-icon-paragraph::before{
  content:""; }

.bp3-icon-path::before{
  content:""; }

.bp3-icon-path-search::before{
  content:""; }

.bp3-icon-pause::before{
  content:""; }

.bp3-icon-people::before{
  content:""; }

.bp3-icon-percentage::before{
  content:""; }

.bp3-icon-person::before{
  content:""; }

.bp3-icon-phone::before{
  content:"☎"; }

.bp3-icon-pie-chart::before{
  content:""; }

.bp3-icon-pin::before{
  content:""; }

.bp3-icon-pivot::before{
  content:""; }

.bp3-icon-pivot-table::before{
  content:""; }

.bp3-icon-play::before{
  content:""; }

.bp3-icon-plus::before{
  content:"+"; }

.bp3-icon-polygon-filter::before{
  content:""; }

.bp3-icon-power::before{
  content:""; }

.bp3-icon-predictive-analysis::before{
  content:""; }

.bp3-icon-prescription::before{
  content:""; }

.bp3-icon-presentation::before{
  content:""; }

.bp3-icon-print::before{
  content:"⎙"; }

.bp3-icon-projects::before{
  content:""; }

.bp3-icon-properties::before{
  content:""; }

.bp3-icon-property::before{
  content:""; }

.bp3-icon-publish-function::before{
  content:""; }

.bp3-icon-pulse::before{
  content:""; }

.bp3-icon-random::before{
  content:""; }

.bp3-icon-record::before{
  content:""; }

.bp3-icon-redo::before{
  content:""; }

.bp3-icon-refresh::before{
  content:""; }

.bp3-icon-regression-chart::before{
  content:""; }

.bp3-icon-remove::before{
  content:""; }

.bp3-icon-remove-column::before{
  content:""; }

.bp3-icon-remove-column-left::before{
  content:""; }

.bp3-icon-remove-column-right::before{
  content:""; }

.bp3-icon-remove-row-bottom::before{
  content:""; }

.bp3-icon-remove-row-top::before{
  content:""; }

.bp3-icon-repeat::before{
  content:""; }

.bp3-icon-reset::before{
  content:""; }

.bp3-icon-resolve::before{
  content:""; }

.bp3-icon-rig::before{
  content:""; }

.bp3-icon-right-join::before{
  content:""; }

.bp3-icon-ring::before{
  content:""; }

.bp3-icon-rotate-document::before{
  content:""; }

.bp3-icon-rotate-page::before{
  content:""; }

.bp3-icon-satellite::before{
  content:""; }

.bp3-icon-saved::before{
  content:""; }

.bp3-icon-scatter-plot::before{
  content:""; }

.bp3-icon-search::before{
  content:""; }

.bp3-icon-search-around::before{
  content:""; }

.bp3-icon-search-template::before{
  content:""; }

.bp3-icon-search-text::before{
  content:""; }

.bp3-icon-segmented-control::before{
  content:""; }

.bp3-icon-select::before{
  content:""; }

.bp3-icon-selection::before{
  content:"⦿"; }

.bp3-icon-send-to::before{
  content:""; }

.bp3-icon-send-to-graph::before{
  content:""; }

.bp3-icon-send-to-map::before{
  content:""; }

.bp3-icon-series-add::before{
  content:""; }

.bp3-icon-series-configuration::before{
  content:""; }

.bp3-icon-series-derived::before{
  content:""; }

.bp3-icon-series-filtered::before{
  content:""; }

.bp3-icon-series-search::before{
  content:""; }

.bp3-icon-settings::before{
  content:""; }

.bp3-icon-share::before{
  content:""; }

.bp3-icon-shield::before{
  content:""; }

.bp3-icon-shop::before{
  content:""; }

.bp3-icon-shopping-cart::before{
  content:""; }

.bp3-icon-signal-search::before{
  content:""; }

.bp3-icon-sim-card::before{
  content:""; }

.bp3-icon-slash::before{
  content:""; }

.bp3-icon-small-cross::before{
  content:""; }

.bp3-icon-small-minus::before{
  content:""; }

.bp3-icon-small-plus::before{
  content:""; }

.bp3-icon-small-tick::before{
  content:""; }

.bp3-icon-snowflake::before{
  content:""; }

.bp3-icon-social-media::before{
  content:""; }

.bp3-icon-sort::before{
  content:""; }

.bp3-icon-sort-alphabetical::before{
  content:""; }

.bp3-icon-sort-alphabetical-desc::before{
  content:""; }

.bp3-icon-sort-asc::before{
  content:""; }

.bp3-icon-sort-desc::before{
  content:""; }

.bp3-icon-sort-numerical::before{
  content:""; }

.bp3-icon-sort-numerical-desc::before{
  content:""; }

.bp3-icon-split-columns::before{
  content:""; }

.bp3-icon-square::before{
  content:""; }

.bp3-icon-stacked-chart::before{
  content:""; }

.bp3-icon-star::before{
  content:"★"; }

.bp3-icon-star-empty::before{
  content:"☆"; }

.bp3-icon-step-backward::before{
  content:""; }

.bp3-icon-step-chart::before{
  content:""; }

.bp3-icon-step-forward::before{
  content:""; }

.bp3-icon-stop::before{
  content:""; }

.bp3-icon-stopwatch::before{
  content:""; }

.bp3-icon-strikethrough::before{
  content:""; }

.bp3-icon-style::before{
  content:""; }

.bp3-icon-swap-horizontal::before{
  content:""; }

.bp3-icon-swap-vertical::before{
  content:""; }

.bp3-icon-symbol-circle::before{
  content:""; }

.bp3-icon-symbol-cross::before{
  content:""; }

.bp3-icon-symbol-diamond::before{
  content:""; }

.bp3-icon-symbol-square::before{
  content:""; }

.bp3-icon-symbol-triangle-down::before{
  content:""; }

.bp3-icon-symbol-triangle-up::before{
  content:""; }

.bp3-icon-tag::before{
  content:""; }

.bp3-icon-take-action::before{
  content:""; }

.bp3-icon-taxi::before{
  content:""; }

.bp3-icon-text-highlight::before{
  content:""; }

.bp3-icon-th::before{
  content:""; }

.bp3-icon-th-derived::before{
  content:""; }

.bp3-icon-th-disconnect::before{
  content:""; }

.bp3-icon-th-filtered::before{
  content:""; }

.bp3-icon-th-list::before{
  content:""; }

.bp3-icon-thumbs-down::before{
  content:""; }

.bp3-icon-thumbs-up::before{
  content:""; }

.bp3-icon-tick::before{
  content:"✓"; }

.bp3-icon-tick-circle::before{
  content:""; }

.bp3-icon-time::before{
  content:"⏲"; }

.bp3-icon-timeline-area-chart::before{
  content:""; }

.bp3-icon-timeline-bar-chart::before{
  content:""; }

.bp3-icon-timeline-events::before{
  content:""; }

.bp3-icon-timeline-line-chart::before{
  content:""; }

.bp3-icon-tint::before{
  content:""; }

.bp3-icon-torch::before{
  content:""; }

.bp3-icon-tractor::before{
  content:""; }

.bp3-icon-train::before{
  content:""; }

.bp3-icon-translate::before{
  content:""; }

.bp3-icon-trash::before{
  content:""; }

.bp3-icon-tree::before{
  content:""; }

.bp3-icon-trending-down::before{
  content:""; }

.bp3-icon-trending-up::before{
  content:""; }

.bp3-icon-truck::before{
  content:""; }

.bp3-icon-two-columns::before{
  content:""; }

.bp3-icon-unarchive::before{
  content:""; }

.bp3-icon-underline::before{
  content:"⎁"; }

.bp3-icon-undo::before{
  content:"⎌"; }

.bp3-icon-ungroup-objects::before{
  content:""; }

.bp3-icon-unknown-vehicle::before{
  content:""; }

.bp3-icon-unlock::before{
  content:""; }

.bp3-icon-unpin::before{
  content:""; }

.bp3-icon-unresolve::before{
  content:""; }

.bp3-icon-updated::before{
  content:""; }

.bp3-icon-upload::before{
  content:""; }

.bp3-icon-user::before{
  content:""; }

.bp3-icon-variable::before{
  content:""; }

.bp3-icon-vertical-bar-chart-asc::before{
  content:""; }

.bp3-icon-vertical-bar-chart-desc::before{
  content:""; }

.bp3-icon-vertical-distribution::before{
  content:""; }

.bp3-icon-video::before{
  content:""; }

.bp3-icon-volume-down::before{
  content:""; }

.bp3-icon-volume-off::before{
  content:""; }

.bp3-icon-volume-up::before{
  content:""; }

.bp3-icon-walk::before{
  content:""; }

.bp3-icon-warning-sign::before{
  content:""; }

.bp3-icon-waterfall-chart::before{
  content:""; }

.bp3-icon-widget::before{
  content:""; }

.bp3-icon-widget-button::before{
  content:""; }

.bp3-icon-widget-footer::before{
  content:""; }

.bp3-icon-widget-header::before{
  content:""; }

.bp3-icon-wrench::before{
  content:""; }

.bp3-icon-zoom-in::before{
  content:""; }

.bp3-icon-zoom-out::before{
  content:""; }

.bp3-icon-zoom-to-fit::before{
  content:""; }
.bp3-submenu > .bp3-popover-wrapper{
  display:block; }

.bp3-submenu .bp3-popover-target{
  display:block; }
  .bp3-submenu .bp3-popover-target.bp3-popover-open > .bp3-menu-item{ }

.bp3-submenu.bp3-popover{
  -webkit-box-shadow:none;
          box-shadow:none;
  padding:0 5px; }
  .bp3-submenu.bp3-popover > .bp3-popover-content{
    -webkit-box-shadow:0 0 0 1px rgba(16, 22, 26, 0.1), 0 2px 4px rgba(16, 22, 26, 0.2), 0 8px 24px rgba(16, 22, 26, 0.2);
            box-shadow:0 0 0 1px rgba(16, 22, 26, 0.1), 0 2px 4px rgba(16, 22, 26, 0.2), 0 8px 24px rgba(16, 22, 26, 0.2); }
  .bp3-dark .bp3-submenu.bp3-popover, .bp3-submenu.bp3-popover.bp3-dark{
    -webkit-box-shadow:none;
            box-shadow:none; }
    .bp3-dark .bp3-submenu.bp3-popover > .bp3-popover-content, .bp3-submenu.bp3-popover.bp3-dark > .bp3-popover-content{
      -webkit-box-shadow:0 0 0 1px rgba(16, 22, 26, 0.2), 0 2px 4px rgba(16, 22, 26, 0.4), 0 8px 24px rgba(16, 22, 26, 0.4);
              box-shadow:0 0 0 1px rgba(16, 22, 26, 0.2), 0 2px 4px rgba(16, 22, 26, 0.4), 0 8px 24px rgba(16, 22, 26, 0.4); }
.bp3-menu{
  background:#ffffff;
  border-radius:3px;
  color:#182026;
  list-style:none;
  margin:0;
  min-width:180px;
  padding:5px;
  text-align:left; }

.bp3-menu-divider{
  border-top:1px solid rgba(16, 22, 26, 0.15);
  display:block;
  margin:5px; }
  .bp3-dark .bp3-menu-divider{
    border-top-color:rgba(255, 255, 255, 0.15); }

.bp3-menu-item{
  display:-webkit-box;
  display:-ms-flexbox;
  display:flex;
  -webkit-box-orient:horizontal;
  -webkit-box-direction:normal;
      -ms-flex-direction:row;
          flex-direction:row;
  -webkit-box-align:start;
      -ms-flex-align:start;
          align-items:flex-start;
  border-radius:2px;
  color:inherit;
  line-height:20px;
  padding:5px 7px;
  text-decoration:none;
  -webkit-user-select:none;
     -moz-user-select:none;
      -ms-user-select:none;
          user-select:none; }
  .bp3-menu-item > *{
    -webkit-box-flex:0;
        -ms-flex-positive:0;
            flex-grow:0;
    -ms-flex-negative:0;
        flex-shrink:0; }
  .bp3-menu-item > .bp3-fill{
    -webkit-box-flex:1;
        -ms-flex-positive:1;
            flex-grow:1;
    -ms-flex-negative:1;
        flex-shrink:1; }
  .bp3-menu-item::before,
  .bp3-menu-item > *{
    margin-right:7px; }
  .bp3-menu-item:empty::before,
  .bp3-menu-item > :last-child{
    margin-right:0; }
  .bp3-menu-item > .bp3-fill{
    word-break:break-word; }
  .bp3-menu-item:hover, .bp3-submenu .bp3-popover-target.bp3-popover-open > .bp3-menu-item{
    background-color:rgba(167, 182, 194, 0.3);
    cursor:pointer;
    text-decoration:none; }
  .bp3-menu-item.bp3-disabled{
    background-color:inherit;
    color:rgba(92, 112, 128, 0.6);
    cursor:not-allowed; }
  .bp3-dark .bp3-menu-item{
    color:inherit; }
    .bp3-dark .bp3-menu-item:hover, .bp3-dark .bp3-submenu .bp3-popover-target.bp3-popover-open > .bp3-menu-item, .bp3-submenu .bp3-dark .bp3-popover-target.bp3-popover-open > .bp3-menu-item{
      background-color:rgba(138, 155, 168, 0.15);
      color:inherit; }
    .bp3-dark .bp3-menu-item.bp3-disabled{
      background-color:inherit;
      color:rgba(167, 182, 194, 0.6); }
  .bp3-menu-item.bp3-intent-primary{
    color:#106ba3; }
    .bp3-menu-item.bp3-intent-primary .bp3-icon{
      color:inherit; }
    .bp3-menu-item.bp3-intent-primary::before, .bp3-menu-item.bp3-intent-primary::after,
    .bp3-menu-item.bp3-intent-primary .bp3-menu-item-label{
      color:#106ba3; }
    .bp3-menu-item.bp3-intent-primary:hover, .bp3-submenu .bp3-popover-target.bp3-popover-open > .bp3-intent-primary.bp3-menu-item, .bp3-menu-item.bp3-intent-primary.bp3-active{
      background-color:#137cbd; }
    .bp3-menu-item.bp3-intent-primary:active{
      background-color:#106ba3; }
    .bp3-menu-item.bp3-intent-primary:hover, .bp3-submenu .bp3-popover-target.bp3-popover-open > .bp3-intent-primary.bp3-menu-item, .bp3-menu-item.bp3-intent-primary:hover::before, .bp3-submenu .bp3-popover-target.bp3-popover-open > .bp3-intent-primary.bp3-menu-item::before, .bp3-menu-item.bp3-intent-primary:hover::after, .bp3-submenu .bp3-popover-target.bp3-popover-open > .bp3-intent-primary.bp3-menu-item::after,
    .bp3-menu-item.bp3-intent-primary:hover .bp3-menu-item-label,
    .bp3-submenu .bp3-popover-target.bp3-popover-open > .bp3-intent-primary.bp3-menu-item .bp3-menu-item-label, .bp3-menu-item.bp3-intent-primary:active, .bp3-menu-item.bp3-intent-primary:active::before, .bp3-menu-item.bp3-intent-primary:active::after,
    .bp3-menu-item.bp3-intent-primary:active .bp3-menu-item-label, .bp3-menu-item.bp3-intent-primary.bp3-active, .bp3-menu-item.bp3-intent-primary.bp3-active::before, .bp3-menu-item.bp3-intent-primary.bp3-active::after,
    .bp3-menu-item.bp3-intent-primary.bp3-active .bp3-menu-item-label{
      color:#ffffff; }
  .bp3-menu-item.bp3-intent-success{
    color:#0d8050; }
    .bp3-menu-item.bp3-intent-success .bp3-icon{
      color:inherit; }
    .bp3-menu-item.bp3-intent-success::before, .bp3-menu-item.bp3-intent-success::after,
    .bp3-menu-item.bp3-intent-success .bp3-menu-item-label{
      color:#0d8050; }
    .bp3-menu-item.bp3-intent-success:hover, .bp3-submenu .bp3-popover-target.bp3-popover-open > .bp3-intent-success.bp3-menu-item, .bp3-menu-item.bp3-intent-success.bp3-active{
      background-color:#0f9960; }
    .bp3-menu-item.bp3-intent-success:active{
      background-color:#0d8050; }
    .bp3-menu-item.bp3-intent-success:hover, .bp3-submenu .bp3-popover-target.bp3-popover-open > .bp3-intent-success.bp3-menu-item, .bp3-menu-item.bp3-intent-success:hover::before, .bp3-submenu .bp3-popover-target.bp3-popover-open > .bp3-intent-success.bp3-menu-item::before, .bp3-menu-item.bp3-intent-success:hover::after, .bp3-submenu .bp3-popover-target.bp3-popover-open > .bp3-intent-success.bp3-menu-item::after,
    .bp3-menu-item.bp3-intent-success:hover .bp3-menu-item-label,
    .bp3-submenu .bp3-popover-target.bp3-popover-open > .bp3-intent-success.bp3-menu-item .bp3-menu-item-label, .bp3-menu-item.bp3-intent-success:active, .bp3-menu-item.bp3-intent-success:active::before, .bp3-menu-item.bp3-intent-success:active::after,
    .bp3-menu-item.bp3-intent-success:active .bp3-menu-item-label, .bp3-menu-item.bp3-intent-success.bp3-active, .bp3-menu-item.bp3-intent-success.bp3-active::before, .bp3-menu-item.bp3-intent-success.bp3-active::after,
    .bp3-menu-item.bp3-intent-success.bp3-active .bp3-menu-item-label{
      color:#ffffff; }
  .bp3-menu-item.bp3-intent-warning{
    color:#bf7326; }
    .bp3-menu-item.bp3-intent-warning .bp3-icon{
      color:inherit; }
    .bp3-menu-item.bp3-intent-warning::before, .bp3-menu-item.bp3-intent-warning::after,
    .bp3-menu-item.bp3-intent-warning .bp3-menu-item-label{
      color:#bf7326; }
    .bp3-menu-item.bp3-intent-warning:hover, .bp3-submenu .bp3-popover-target.bp3-popover-open > .bp3-intent-warning.bp3-menu-item, .bp3-menu-item.bp3-intent-warning.bp3-active{
      background-color:#d9822b; }
    .bp3-menu-item.bp3-intent-warning:active{
      background-color:#bf7326; }
    .bp3-menu-item.bp3-intent-warning:hover, .bp3-submenu .bp3-popover-target.bp3-popover-open > .bp3-intent-warning.bp3-menu-item, .bp3-menu-item.bp3-intent-warning:hover::before, .bp3-submenu .bp3-popover-target.bp3-popover-open > .bp3-intent-warning.bp3-menu-item::before, .bp3-menu-item.bp3-intent-warning:hover::after, .bp3-submenu .bp3-popover-target.bp3-popover-open > .bp3-intent-warning.bp3-menu-item::after,
    .bp3-menu-item.bp3-intent-warning:hover .bp3-menu-item-label,
    .bp3-submenu .bp3-popover-target.bp3-popover-open > .bp3-intent-warning.bp3-menu-item .bp3-menu-item-label, .bp3-menu-item.bp3-intent-warning:active, .bp3-menu-item.bp3-intent-warning:active::before, .bp3-menu-item.bp3-intent-warning:active::after,
    .bp3-menu-item.bp3-intent-warning:active .bp3-menu-item-label, .bp3-menu-item.bp3-intent-warning.bp3-active, .bp3-menu-item.bp3-intent-warning.bp3-active::before, .bp3-menu-item.bp3-intent-warning.bp3-active::after,
    .bp3-menu-item.bp3-intent-warning.bp3-active .bp3-menu-item-label{
      color:#ffffff; }
  .bp3-menu-item.bp3-intent-danger{
    color:#c23030; }
    .bp3-menu-item.bp3-intent-danger .bp3-icon{
      color:inherit; }
    .bp3-menu-item.bp3-intent-danger::before, .bp3-menu-item.bp3-intent-danger::after,
    .bp3-menu-item.bp3-intent-danger .bp3-menu-item-label{
      color:#c23030; }
    .bp3-menu-item.bp3-intent-danger:hover, .bp3-submenu .bp3-popover-target.bp3-popover-open > .bp3-intent-danger.bp3-menu-item, .bp3-menu-item.bp3-intent-danger.bp3-active{
      background-color:#db3737; }
    .bp3-menu-item.bp3-intent-danger:active{
      background-color:#c23030; }
    .bp3-menu-item.bp3-intent-danger:hover, .bp3-submenu .bp3-popover-target.bp3-popover-open > .bp3-intent-danger.bp3-menu-item, .bp3-menu-item.bp3-intent-danger:hover::before, .bp3-submenu .bp3-popover-target.bp3-popover-open > .bp3-intent-danger.bp3-menu-item::before, .bp3-menu-item.bp3-intent-danger:hover::after, .bp3-submenu .bp3-popover-target.bp3-popover-open > .bp3-intent-danger.bp3-menu-item::after,
    .bp3-menu-item.bp3-intent-danger:hover .bp3-menu-item-label,
    .bp3-submenu .bp3-popover-target.bp3-popover-open > .bp3-intent-danger.bp3-menu-item .bp3-menu-item-label, .bp3-menu-item.bp3-intent-danger:active, .bp3-menu-item.bp3-intent-danger:active::before, .bp3-menu-item.bp3-intent-danger:active::after,
    .bp3-menu-item.bp3-intent-danger:active .bp3-menu-item-label, .bp3-menu-item.bp3-intent-danger.bp3-active, .bp3-menu-item.bp3-intent-danger.bp3-active::before, .bp3-menu-item.bp3-intent-danger.bp3-active::after,
    .bp3-menu-item.bp3-intent-danger.bp3-active .bp3-menu-item-label{
      color:#ffffff; }
  .bp3-menu-item::before{
    font-family:"Icons16", sans-serif;
    font-size:16px;
    font-style:normal;
    font-weight:400;
    line-height:1;
    -moz-osx-font-smoothing:grayscale;
    -webkit-font-smoothing:antialiased;
    margin-right:7px; }
  .bp3-menu-item::before,
  .bp3-menu-item > .bp3-icon{
    color:#5c7080;
    margin-top:2px; }
  .bp3-menu-item .bp3-menu-item-label{
    color:#5c7080; }
  .bp3-menu-item:hover, .bp3-submenu .bp3-popover-target.bp3-popover-open > .bp3-menu-item{
    color:inherit; }
  .bp3-menu-item.bp3-active, .bp3-menu-item:active{
    background-color:rgba(115, 134, 148, 0.3); }
  .bp3-menu-item.bp3-disabled{
    background-color:inherit !important;
    color:rgba(92, 112, 128, 0.6) !important;
    cursor:not-allowed !important;
    outline:none !important; }
    .bp3-menu-item.bp3-disabled::before,
    .bp3-menu-item.bp3-disabled > .bp3-icon,
    .bp3-menu-item.bp3-disabled .bp3-menu-item-label{
      color:rgba(92, 112, 128, 0.6) !important; }
  .bp3-large .bp3-menu-item{
    font-size:16px;
    line-height:22px;
    padding:9px 7px; }
    .bp3-large .bp3-menu-item .bp3-icon{
      margin-top:3px; }
    .bp3-large .bp3-menu-item::before{
      font-family:"Icons20", sans-serif;
      font-size:20px;
      font-style:normal;
      font-weight:400;
      line-height:1;
      -moz-osx-font-smoothing:grayscale;
      -webkit-font-smoothing:antialiased;
      margin-right:10px;
      margin-top:1px; }

button.bp3-menu-item{
  background:none;
  border:none;
  text-align:left;
  width:100%; }
.bp3-menu-header{
  border-top:1px solid rgba(16, 22, 26, 0.15);
  display:block;
  margin:5px;
  cursor:default;
  padding-left:2px; }
  .bp3-dark .bp3-menu-header{
    border-top-color:rgba(255, 255, 255, 0.15); }
  .bp3-menu-header:first-of-type{
    border-top:none; }
  .bp3-menu-header > h6{
    color:#182026;
    font-weight:600;
    overflow:hidden;
    text-overflow:ellipsis;
    white-space:nowrap;
    word-wrap:normal;
    line-height:17px;
    margin:0;
    padding:10px 7px 0 1px; }
    .bp3-dark .bp3-menu-header > h6{
      color:#f5f8fa; }
  .bp3-menu-header:first-of-type > h6{
    padding-top:0; }
  .bp3-large .bp3-menu-header > h6{
    font-size:18px;
    padding-bottom:5px;
    padding-top:15px; }
  .bp3-large .bp3-menu-header:first-of-type > h6{
    padding-top:0; }

.bp3-dark .bp3-menu{
  background:#30404d;
  color:#f5f8fa; }

.bp3-dark .bp3-menu-item{ }
  .bp3-dark .bp3-menu-item.bp3-intent-primary{
    color:#48aff0; }
    .bp3-dark .bp3-menu-item.bp3-intent-primary .bp3-icon{
      color:inherit; }
    .bp3-dark .bp3-menu-item.bp3-intent-primary::before, .bp3-dark .bp3-menu-item.bp3-intent-primary::after,
    .bp3-dark .bp3-menu-item.bp3-intent-primary .bp3-menu-item-label{
      color:#48aff0; }
    .bp3-dark .bp3-menu-item.bp3-intent-primary:hover, .bp3-dark .bp3-submenu .bp3-popover-target.bp3-popover-open > .bp3-intent-primary.bp3-menu-item, .bp3-submenu .bp3-dark .bp3-popover-target.bp3-popover-open > .bp3-intent-primary.bp3-menu-item, .bp3-dark .bp3-menu-item.bp3-intent-primary.bp3-active{
      background-color:#137cbd; }
    .bp3-dark .bp3-menu-item.bp3-intent-primary:active{
      background-color:#106ba3; }
    .bp3-dark .bp3-menu-item.bp3-intent-primary:hover, .bp3-dark .bp3-submenu .bp3-popover-target.bp3-popover-open > .bp3-intent-primary.bp3-menu-item, .bp3-submenu .bp3-dark .bp3-popover-target.bp3-popover-open > .bp3-intent-primary.bp3-menu-item, .bp3-dark .bp3-menu-item.bp3-intent-primary:hover::before, .bp3-dark .bp3-submenu .bp3-popover-target.bp3-popover-open > .bp3-intent-primary.bp3-menu-item::before, .bp3-submenu .bp3-dark .bp3-popover-target.bp3-popover-open > .bp3-intent-primary.bp3-menu-item::before, .bp3-dark .bp3-menu-item.bp3-intent-primary:hover::after, .bp3-dark .bp3-submenu .bp3-popover-target.bp3-popover-open > .bp3-intent-primary.bp3-menu-item::after, .bp3-submenu .bp3-dark .bp3-popover-target.bp3-popover-open > .bp3-intent-primary.bp3-menu-item::after,
    .bp3-dark .bp3-menu-item.bp3-intent-primary:hover .bp3-menu-item-label,
    .bp3-dark .bp3-submenu .bp3-popover-target.bp3-popover-open > .bp3-intent-primary.bp3-menu-item .bp3-menu-item-label,
    .bp3-submenu .bp3-dark .bp3-popover-target.bp3-popover-open > .bp3-intent-primary.bp3-menu-item .bp3-menu-item-label, .bp3-dark .bp3-menu-item.bp3-intent-primary:active, .bp3-dark .bp3-menu-item.bp3-intent-primary:active::before, .bp3-dark .bp3-menu-item.bp3-intent-primary:active::after,
    .bp3-dark .bp3-menu-item.bp3-intent-primary:active .bp3-menu-item-label, .bp3-dark .bp3-menu-item.bp3-intent-primary.bp3-active, .bp3-dark .bp3-menu-item.bp3-intent-primary.bp3-active::before, .bp3-dark .bp3-menu-item.bp3-intent-primary.bp3-active::after,
    .bp3-dark .bp3-menu-item.bp3-intent-primary.bp3-active .bp3-menu-item-label{
      color:#ffffff; }
  .bp3-dark .bp3-menu-item.bp3-intent-success{
    color:#3dcc91; }
    .bp3-dark .bp3-menu-item.bp3-intent-success .bp3-icon{
      color:inherit; }
    .bp3-dark .bp3-menu-item.bp3-intent-success::before, .bp3-dark .bp3-menu-item.bp3-intent-success::after,
    .bp3-dark .bp3-menu-item.bp3-intent-success .bp3-menu-item-label{
      color:#3dcc91; }
    .bp3-dark .bp3-menu-item.bp3-intent-success:hover, .bp3-dark .bp3-submenu .bp3-popover-target.bp3-popover-open > .bp3-intent-success.bp3-menu-item, .bp3-submenu .bp3-dark .bp3-popover-target.bp3-popover-open > .bp3-intent-success.bp3-menu-item, .bp3-dark .bp3-menu-item.bp3-intent-success.bp3-active{
      background-color:#0f9960; }
    .bp3-dark .bp3-menu-item.bp3-intent-success:active{
      background-color:#0d8050; }
    .bp3-dark .bp3-menu-item.bp3-intent-success:hover, .bp3-dark .bp3-submenu .bp3-popover-target.bp3-popover-open > .bp3-intent-success.bp3-menu-item, .bp3-submenu .bp3-dark .bp3-popover-target.bp3-popover-open > .bp3-intent-success.bp3-menu-item, .bp3-dark .bp3-menu-item.bp3-intent-success:hover::before, .bp3-dark .bp3-submenu .bp3-popover-target.bp3-popover-open > .bp3-intent-success.bp3-menu-item::before, .bp3-submenu .bp3-dark .bp3-popover-target.bp3-popover-open > .bp3-intent-success.bp3-menu-item::before, .bp3-dark .bp3-menu-item.bp3-intent-success:hover::after, .bp3-dark .bp3-submenu .bp3-popover-target.bp3-popover-open > .bp3-intent-success.bp3-menu-item::after, .bp3-submenu .bp3-dark .bp3-popover-target.bp3-popover-open > .bp3-intent-success.bp3-menu-item::after,
    .bp3-dark .bp3-menu-item.bp3-intent-success:hover .bp3-menu-item-label,
    .bp3-dark .bp3-submenu .bp3-popover-target.bp3-popover-open > .bp3-intent-success.bp3-menu-item .bp3-menu-item-label,
    .bp3-submenu .bp3-dark .bp3-popover-target.bp3-popover-open > .bp3-intent-success.bp3-menu-item .bp3-menu-item-label, .bp3-dark .bp3-menu-item.bp3-intent-success:active, .bp3-dark .bp3-menu-item.bp3-intent-success:active::before, .bp3-dark .bp3-menu-item.bp3-intent-success:active::after,
    .bp3-dark .bp3-menu-item.bp3-intent-success:active .bp3-menu-item-label, .bp3-dark .bp3-menu-item.bp3-intent-success.bp3-active, .bp3-dark .bp3-menu-item.bp3-intent-success.bp3-active::before, .bp3-dark .bp3-menu-item.bp3-intent-success.bp3-active::after,
    .bp3-dark .bp3-menu-item.bp3-intent-success.bp3-active .bp3-menu-item-label{
      color:#ffffff; }
  .bp3-dark .bp3-menu-item.bp3-intent-warning{
    color:#ffb366; }
    .bp3-dark .bp3-menu-item.bp3-intent-warning .bp3-icon{
      color:inherit; }
    .bp3-dark .bp3-menu-item.bp3-intent-warning::before, .bp3-dark .bp3-menu-item.bp3-intent-warning::after,
    .bp3-dark .bp3-menu-item.bp3-intent-warning .bp3-menu-item-label{
      color:#ffb366; }
    .bp3-dark .bp3-menu-item.bp3-intent-warning:hover, .bp3-dark .bp3-submenu .bp3-popover-target.bp3-popover-open > .bp3-intent-warning.bp3-menu-item, .bp3-submenu .bp3-dark .bp3-popover-target.bp3-popover-open > .bp3-intent-warning.bp3-menu-item, .bp3-dark .bp3-menu-item.bp3-intent-warning.bp3-active{
      background-color:#d9822b; }
    .bp3-dark .bp3-menu-item.bp3-intent-warning:active{
      background-color:#bf7326; }
    .bp3-dark .bp3-menu-item.bp3-intent-warning:hover, .bp3-dark .bp3-submenu .bp3-popover-target.bp3-popover-open > .bp3-intent-warning.bp3-menu-item, .bp3-submenu .bp3-dark .bp3-popover-target.bp3-popover-open > .bp3-intent-warning.bp3-menu-item, .bp3-dark .bp3-menu-item.bp3-intent-warning:hover::before, .bp3-dark .bp3-submenu .bp3-popover-target.bp3-popover-open > .bp3-intent-warning.bp3-menu-item::before, .bp3-submenu .bp3-dark .bp3-popover-target.bp3-popover-open > .bp3-intent-warning.bp3-menu-item::before, .bp3-dark .bp3-menu-item.bp3-intent-warning:hover::after, .bp3-dark .bp3-submenu .bp3-popover-target.bp3-popover-open > .bp3-intent-warning.bp3-menu-item::after, .bp3-submenu .bp3-dark .bp3-popover-target.bp3-popover-open > .bp3-intent-warning.bp3-menu-item::after,
    .bp3-dark .bp3-menu-item.bp3-intent-warning:hover .bp3-menu-item-label,
    .bp3-dark .bp3-submenu .bp3-popover-target.bp3-popover-open > .bp3-intent-warning.bp3-menu-item .bp3-menu-item-label,
    .bp3-submenu .bp3-dark .bp3-popover-target.bp3-popover-open > .bp3-intent-warning.bp3-menu-item .bp3-menu-item-label, .bp3-dark .bp3-menu-item.bp3-intent-warning:active, .bp3-dark .bp3-menu-item.bp3-intent-warning:active::before, .bp3-dark .bp3-menu-item.bp3-intent-warning:active::after,
    .bp3-dark .bp3-menu-item.bp3-intent-warning:active .bp3-menu-item-label, .bp3-dark .bp3-menu-item.bp3-intent-warning.bp3-active, .bp3-dark .bp3-menu-item.bp3-intent-warning.bp3-active::before, .bp3-dark .bp3-menu-item.bp3-intent-warning.bp3-active::after,
    .bp3-dark .bp3-menu-item.bp3-intent-warning.bp3-active .bp3-menu-item-label{
      color:#ffffff; }
  .bp3-dark .bp3-menu-item.bp3-intent-danger{
    color:#ff7373; }
    .bp3-dark .bp3-menu-item.bp3-intent-danger .bp3-icon{
      color:inherit; }
    .bp3-dark .bp3-menu-item.bp3-intent-danger::before, .bp3-dark .bp3-menu-item.bp3-intent-danger::after,
    .bp3-dark .bp3-menu-item.bp3-intent-danger .bp3-menu-item-label{
      color:#ff7373; }
    .bp3-dark .bp3-menu-item.bp3-intent-danger:hover, .bp3-dark .bp3-submenu .bp3-popover-target.bp3-popover-open > .bp3-intent-danger.bp3-menu-item, .bp3-submenu .bp3-dark .bp3-popover-target.bp3-popover-open > .bp3-intent-danger.bp3-menu-item, .bp3-dark .bp3-menu-item.bp3-intent-danger.bp3-active{
      background-color:#db3737; }
    .bp3-dark .bp3-menu-item.bp3-intent-danger:active{
      background-color:#c23030; }
    .bp3-dark .bp3-menu-item.bp3-intent-danger:hover, .bp3-dark .bp3-submenu .bp3-popover-target.bp3-popover-open > .bp3-intent-danger.bp3-menu-item, .bp3-submenu .bp3-dark .bp3-popover-target.bp3-popover-open > .bp3-intent-danger.bp3-menu-item, .bp3-dark .bp3-menu-item.bp3-intent-danger:hover::before, .bp3-dark .bp3-submenu .bp3-popover-target.bp3-popover-open > .bp3-intent-danger.bp3-menu-item::before, .bp3-submenu .bp3-dark .bp3-popover-target.bp3-popover-open > .bp3-intent-danger.bp3-menu-item::before, .bp3-dark .bp3-menu-item.bp3-intent-danger:hover::after, .bp3-dark .bp3-submenu .bp3-popover-target.bp3-popover-open > .bp3-intent-danger.bp3-menu-item::after, .bp3-submenu .bp3-dark .bp3-popover-target.bp3-popover-open > .bp3-intent-danger.bp3-menu-item::after,
    .bp3-dark .bp3-menu-item.bp3-intent-danger:hover .bp3-menu-item-label,
    .bp3-dark .bp3-submenu .bp3-popover-target.bp3-popover-open > .bp3-intent-danger.bp3-menu-item .bp3-menu-item-label,
    .bp3-submenu .bp3-dark .bp3-popover-target.bp3-popover-open > .bp3-intent-danger.bp3-menu-item .bp3-menu-item-label, .bp3-dark .bp3-menu-item.bp3-intent-danger:active, .bp3-dark .bp3-menu-item.bp3-intent-danger:active::before, .bp3-dark .bp3-menu-item.bp3-intent-danger:active::after,
    .bp3-dark .bp3-menu-item.bp3-intent-danger:active .bp3-menu-item-label, .bp3-dark .bp3-menu-item.bp3-intent-danger.bp3-active, .bp3-dark .bp3-menu-item.bp3-intent-danger.bp3-active::before, .bp3-dark .bp3-menu-item.bp3-intent-danger.bp3-active::after,
    .bp3-dark .bp3-menu-item.bp3-intent-danger.bp3-active .bp3-menu-item-label{
      color:#ffffff; }
  .bp3-dark .bp3-menu-item::before,
  .bp3-dark .bp3-menu-item > .bp3-icon{
    color:#a7b6c2; }
  .bp3-dark .bp3-menu-item .bp3-menu-item-label{
    color:#a7b6c2; }
  .bp3-dark .bp3-menu-item.bp3-active, .bp3-dark .bp3-menu-item:active{
    background-color:rgba(138, 155, 168, 0.3); }
  .bp3-dark .bp3-menu-item.bp3-disabled{
    color:rgba(167, 182, 194, 0.6) !important; }
    .bp3-dark .bp3-menu-item.bp3-disabled::before,
    .bp3-dark .bp3-menu-item.bp3-disabled > .bp3-icon,
    .bp3-dark .bp3-menu-item.bp3-disabled .bp3-menu-item-label{
      color:rgba(167, 182, 194, 0.6) !important; }

.bp3-dark .bp3-menu-divider,
.bp3-dark .bp3-menu-header{
  border-color:rgba(255, 255, 255, 0.15); }

.bp3-dark .bp3-menu-header > h6{
  color:#f5f8fa; }

.bp3-label .bp3-menu{
  margin-top:5px; }
.bp3-navbar{
  background-color:#ffffff;
  -webkit-box-shadow:0 0 0 1px rgba(16, 22, 26, 0.1), 0 0 0 rgba(16, 22, 26, 0), 0 1px 1px rgba(16, 22, 26, 0.2);
          box-shadow:0 0 0 1px rgba(16, 22, 26, 0.1), 0 0 0 rgba(16, 22, 26, 0), 0 1px 1px rgba(16, 22, 26, 0.2);
  height:50px;
  padding:0 15px;
  position:relative;
  width:100%;
  z-index:10; }
  .bp3-navbar.bp3-dark,
  .bp3-dark .bp3-navbar{
    background-color:#394b59; }
  .bp3-navbar.bp3-dark{
    -webkit-box-shadow:inset 0 0 0 1px rgba(16, 22, 26, 0.2), 0 0 0 rgba(16, 22, 26, 0), 0 1px 1px rgba(16, 22, 26, 0.4);
            box-shadow:inset 0 0 0 1px rgba(16, 22, 26, 0.2), 0 0 0 rgba(16, 22, 26, 0), 0 1px 1px rgba(16, 22, 26, 0.4); }
  .bp3-dark .bp3-navbar{
    -webkit-box-shadow:0 0 0 1px rgba(16, 22, 26, 0.2), 0 0 0 rgba(16, 22, 26, 0), 0 1px 1px rgba(16, 22, 26, 0.4);
            box-shadow:0 0 0 1px rgba(16, 22, 26, 0.2), 0 0 0 rgba(16, 22, 26, 0), 0 1px 1px rgba(16, 22, 26, 0.4); }
  .bp3-navbar.bp3-fixed-top{
    left:0;
    position:fixed;
    right:0;
    top:0; }

.bp3-navbar-heading{
  font-size:16px;
  margin-right:15px; }

.bp3-navbar-group{
  -webkit-box-align:center;
      -ms-flex-align:center;
          align-items:center;
  display:-webkit-box;
  display:-ms-flexbox;
  display:flex;
  height:50px; }
  .bp3-navbar-group.bp3-align-left{
    float:left; }
  .bp3-navbar-group.bp3-align-right{
    float:right; }

.bp3-navbar-divider{
  border-left:1px solid rgba(16, 22, 26, 0.15);
  height:20px;
  margin:0 10px; }
  .bp3-dark .bp3-navbar-divider{
    border-left-color:rgba(255, 255, 255, 0.15); }
.bp3-non-ideal-state{
  display:-webkit-box;
  display:-ms-flexbox;
  display:flex;
  -webkit-box-orient:vertical;
  -webkit-box-direction:normal;
      -ms-flex-direction:column;
          flex-direction:column;
  -webkit-box-align:center;
      -ms-flex-align:center;
          align-items:center;
  height:100%;
  -webkit-box-pack:center;
      -ms-flex-pack:center;
          justify-content:center;
  text-align:center;
  width:100%; }
  .bp3-non-ideal-state > *{
    -webkit-box-flex:0;
        -ms-flex-positive:0;
            flex-grow:0;
    -ms-flex-negative:0;
        flex-shrink:0; }
  .bp3-non-ideal-state > .bp3-fill{
    -webkit-box-flex:1;
        -ms-flex-positive:1;
            flex-grow:1;
    -ms-flex-negative:1;
        flex-shrink:1; }
  .bp3-non-ideal-state::before,
  .bp3-non-ideal-state > *{
    margin-bottom:20px; }
  .bp3-non-ideal-state:empty::before,
  .bp3-non-ideal-state > :last-child{
    margin-bottom:0; }
  .bp3-non-ideal-state > *{
    max-width:400px; }

.bp3-non-ideal-state-visual{
  color:rgba(92, 112, 128, 0.6);
  font-size:60px; }
  .bp3-dark .bp3-non-ideal-state-visual{
    color:rgba(167, 182, 194, 0.6); }

.bp3-overflow-list{
  display:-webkit-box;
  display:-ms-flexbox;
  display:flex;
  -ms-flex-wrap:nowrap;
      flex-wrap:nowrap;
  min-width:0; }

.bp3-overflow-list-spacer{
  -ms-flex-negative:1;
      flex-shrink:1;
  width:1px; }

body.bp3-overlay-open{
  overflow:hidden; }

.bp3-overlay{
  bottom:0;
  left:0;
  position:static;
  right:0;
  top:0;
  z-index:20; }
  .bp3-overlay:not(.bp3-overlay-open){
    pointer-events:none; }
  .bp3-overlay.bp3-overlay-container{
    overflow:hidden;
    position:fixed; }
    .bp3-overlay.bp3-overlay-container.bp3-overlay-inline{
      position:absolute; }
  .bp3-overlay.bp3-overlay-scroll-container{
    overflow:auto;
    position:fixed; }
    .bp3-overlay.bp3-overlay-scroll-container.bp3-overlay-inline{
      position:absolute; }
  .bp3-overlay.bp3-overlay-inline{
    display:inline;
    overflow:visible; }

.bp3-overlay-content{
  position:fixed;
  z-index:20; }
  .bp3-overlay-inline .bp3-overlay-content,
  .bp3-overlay-scroll-container .bp3-overlay-content{
    position:absolute; }

.bp3-overlay-backdrop{
  bottom:0;
  left:0;
  position:fixed;
  right:0;
  top:0;
  opacity:1;
  background-color:rgba(16, 22, 26, 0.7);
  overflow:auto;
  -webkit-user-select:none;
     -moz-user-select:none;
      -ms-user-select:none;
          user-select:none;
  z-index:20; }
  .bp3-overlay-backdrop.bp3-overlay-enter, .bp3-overlay-backdrop.bp3-overlay-appear{
    opacity:0; }
  .bp3-overlay-backdrop.bp3-overlay-enter-active, .bp3-overlay-backdrop.bp3-overlay-appear-active{
    opacity:1;
    -webkit-transition-delay:0;
            transition-delay:0;
    -webkit-transition-duration:200ms;
            transition-duration:200ms;
    -webkit-transition-property:opacity;
    transition-property:opacity;
    -webkit-transition-timing-function:cubic-bezier(0.4, 1, 0.75, 0.9);
            transition-timing-function:cubic-bezier(0.4, 1, 0.75, 0.9); }
  .bp3-overlay-backdrop.bp3-overlay-exit{
    opacity:1; }
  .bp3-overlay-backdrop.bp3-overlay-exit-active{
    opacity:0;
    -webkit-transition-delay:0;
            transition-delay:0;
    -webkit-transition-duration:200ms;
            transition-duration:200ms;
    -webkit-transition-property:opacity;
    transition-property:opacity;
    -webkit-transition-timing-function:cubic-bezier(0.4, 1, 0.75, 0.9);
            transition-timing-function:cubic-bezier(0.4, 1, 0.75, 0.9); }
  .bp3-overlay-backdrop:focus{
    outline:none; }
  .bp3-overlay-inline .bp3-overlay-backdrop{
    position:absolute; }
.bp3-panel-stack{
  overflow:hidden;
  position:relative; }

.bp3-panel-stack-header{
  -webkit-box-align:center;
      -ms-flex-align:center;
          align-items:center;
  -webkit-box-shadow:0 1px rgba(16, 22, 26, 0.15);
          box-shadow:0 1px rgba(16, 22, 26, 0.15);
  display:-webkit-box;
  display:-ms-flexbox;
  display:flex;
  -ms-flex-negative:0;
      flex-shrink:0;
  height:30px;
  z-index:1; }
  .bp3-dark .bp3-panel-stack-header{
    -webkit-box-shadow:0 1px rgba(255, 255, 255, 0.15);
            box-shadow:0 1px rgba(255, 255, 255, 0.15); }
  .bp3-panel-stack-header > span{
    -webkit-box-align:stretch;
        -ms-flex-align:stretch;
            align-items:stretch;
    display:-webkit-box;
    display:-ms-flexbox;
    display:flex;
    -webkit-box-flex:1;
        -ms-flex:1;
            flex:1; }
  .bp3-panel-stack-header .bp3-heading{
    margin:0 5px; }

.bp3-button.bp3-panel-stack-header-back{
  margin-left:5px;
  padding-left:0;
  white-space:nowrap; }
  .bp3-button.bp3-panel-stack-header-back .bp3-icon{
    margin:0 2px; }

.bp3-panel-stack-view{
  bottom:0;
  left:0;
  position:absolute;
  right:0;
  top:0;
  background-color:#ffffff;
  border-right:1px solid rgba(16, 22, 26, 0.15);
  display:-webkit-box;
  display:-ms-flexbox;
  display:flex;
  -webkit-box-orient:vertical;
  -webkit-box-direction:normal;
      -ms-flex-direction:column;
          flex-direction:column;
  margin-right:-1px;
  overflow-y:auto;
  z-index:1; }
  .bp3-dark .bp3-panel-stack-view{
    background-color:#30404d; }
  .bp3-panel-stack-view:nth-last-child(n + 4){
    display:none; }

.bp3-panel-stack-push .bp3-panel-stack-enter, .bp3-panel-stack-push .bp3-panel-stack-appear{
  -webkit-transform:translateX(100%);
          transform:translateX(100%);
  opacity:0; }

.bp3-panel-stack-push .bp3-panel-stack-enter-active, .bp3-panel-stack-push .bp3-panel-stack-appear-active{
  -webkit-transform:translate(0%);
          transform:translate(0%);
  opacity:1;
  -webkit-transition-delay:0;
          transition-delay:0;
  -webkit-transition-duration:400ms;
          transition-duration:400ms;
  -webkit-transition-property:opacity, -webkit-transform;
  transition-property:opacity, -webkit-transform;
  transition-property:transform, opacity;
  transition-property:transform, opacity, -webkit-transform;
  -webkit-transition-timing-function:ease;
          transition-timing-function:ease; }

.bp3-panel-stack-push .bp3-panel-stack-exit{
  -webkit-transform:translate(0%);
          transform:translate(0%);
  opacity:1; }

.bp3-panel-stack-push .bp3-panel-stack-exit-active{
  -webkit-transform:translateX(-50%);
          transform:translateX(-50%);
  opacity:0;
  -webkit-transition-delay:0;
          transition-delay:0;
  -webkit-transition-duration:400ms;
          transition-duration:400ms;
  -webkit-transition-property:opacity, -webkit-transform;
  transition-property:opacity, -webkit-transform;
  transition-property:transform, opacity;
  transition-property:transform, opacity, -webkit-transform;
  -webkit-transition-timing-function:ease;
          transition-timing-function:ease; }

.bp3-panel-stack-pop .bp3-panel-stack-enter, .bp3-panel-stack-pop .bp3-panel-stack-appear{
  -webkit-transform:translateX(-50%);
          transform:translateX(-50%);
  opacity:0; }

.bp3-panel-stack-pop .bp3-panel-stack-enter-active, .bp3-panel-stack-pop .bp3-panel-stack-appear-active{
  -webkit-transform:translate(0%);
          transform:translate(0%);
  opacity:1;
  -webkit-transition-delay:0;
          transition-delay:0;
  -webkit-transition-duration:400ms;
          transition-duration:400ms;
  -webkit-transition-property:opacity, -webkit-transform;
  transition-property:opacity, -webkit-transform;
  transition-property:transform, opacity;
  transition-property:transform, opacity, -webkit-transform;
  -webkit-transition-timing-function:ease;
          transition-timing-function:ease; }

.bp3-panel-stack-pop .bp3-panel-stack-exit{
  -webkit-transform:translate(0%);
          transform:translate(0%);
  opacity:1; }

.bp3-panel-stack-pop .bp3-panel-stack-exit-active{
  -webkit-transform:translateX(100%);
          transform:translateX(100%);
  opacity:0;
  -webkit-transition-delay:0;
          transition-delay:0;
  -webkit-transition-duration:400ms;
          transition-duration:400ms;
  -webkit-transition-property:opacity, -webkit-transform;
  transition-property:opacity, -webkit-transform;
  transition-property:transform, opacity;
  transition-property:transform, opacity, -webkit-transform;
  -webkit-transition-timing-function:ease;
          transition-timing-function:ease; }
.bp3-panel-stack2{
  overflow:hidden;
  position:relative; }

.bp3-panel-stack2-header{
  -webkit-box-align:center;
      -ms-flex-align:center;
          align-items:center;
  -webkit-box-shadow:0 1px rgba(16, 22, 26, 0.15);
          box-shadow:0 1px rgba(16, 22, 26, 0.15);
  display:-webkit-box;
  display:-ms-flexbox;
  display:flex;
  -ms-flex-negative:0;
      flex-shrink:0;
  height:30px;
  z-index:1; }
  .bp3-dark .bp3-panel-stack2-header{
    -webkit-box-shadow:0 1px rgba(255, 255, 255, 0.15);
            box-shadow:0 1px rgba(255, 255, 255, 0.15); }
  .bp3-panel-stack2-header > span{
    -webkit-box-align:stretch;
        -ms-flex-align:stretch;
            align-items:stretch;
    display:-webkit-box;
    display:-ms-flexbox;
    display:flex;
    -webkit-box-flex:1;
        -ms-flex:1;
            flex:1; }
  .bp3-panel-stack2-header .bp3-heading{
    margin:0 5px; }

.bp3-button.bp3-panel-stack2-header-back{
  margin-left:5px;
  padding-left:0;
  white-space:nowrap; }
  .bp3-button.bp3-panel-stack2-header-back .bp3-icon{
    margin:0 2px; }

.bp3-panel-stack2-view{
  bottom:0;
  left:0;
  position:absolute;
  right:0;
  top:0;
  background-color:#ffffff;
  border-right:1px solid rgba(16, 22, 26, 0.15);
  display:-webkit-box;
  display:-ms-flexbox;
  display:flex;
  -webkit-box-orient:vertical;
  -webkit-box-direction:normal;
      -ms-flex-direction:column;
          flex-direction:column;
  margin-right:-1px;
  overflow-y:auto;
  z-index:1; }
  .bp3-dark .bp3-panel-stack2-view{
    background-color:#30404d; }
  .bp3-panel-stack2-view:nth-last-child(n + 4){
    display:none; }

.bp3-panel-stack2-push .bp3-panel-stack2-enter, .bp3-panel-stack2-push .bp3-panel-stack2-appear{
  -webkit-transform:translateX(100%);
          transform:translateX(100%);
  opacity:0; }

.bp3-panel-stack2-push .bp3-panel-stack2-enter-active, .bp3-panel-stack2-push .bp3-panel-stack2-appear-active{
  -webkit-transform:translate(0%);
          transform:translate(0%);
  opacity:1;
  -webkit-transition-delay:0;
          transition-delay:0;
  -webkit-transition-duration:400ms;
          transition-duration:400ms;
  -webkit-transition-property:opacity, -webkit-transform;
  transition-property:opacity, -webkit-transform;
  transition-property:transform, opacity;
  transition-property:transform, opacity, -webkit-transform;
  -webkit-transition-timing-function:ease;
          transition-timing-function:ease; }

.bp3-panel-stack2-push .bp3-panel-stack2-exit{
  -webkit-transform:translate(0%);
          transform:translate(0%);
  opacity:1; }

.bp3-panel-stack2-push .bp3-panel-stack2-exit-active{
  -webkit-transform:translateX(-50%);
          transform:translateX(-50%);
  opacity:0;
  -webkit-transition-delay:0;
          transition-delay:0;
  -webkit-transition-duration:400ms;
          transition-duration:400ms;
  -webkit-transition-property:opacity, -webkit-transform;
  transition-property:opacity, -webkit-transform;
  transition-property:transform, opacity;
  transition-property:transform, opacity, -webkit-transform;
  -webkit-transition-timing-function:ease;
          transition-timing-function:ease; }

.bp3-panel-stack2-pop .bp3-panel-stack2-enter, .bp3-panel-stack2-pop .bp3-panel-stack2-appear{
  -webkit-transform:translateX(-50%);
          transform:translateX(-50%);
  opacity:0; }

.bp3-panel-stack2-pop .bp3-panel-stack2-enter-active, .bp3-panel-stack2-pop .bp3-panel-stack2-appear-active{
  -webkit-transform:translate(0%);
          transform:translate(0%);
  opacity:1;
  -webkit-transition-delay:0;
          transition-delay:0;
  -webkit-transition-duration:400ms;
          transition-duration:400ms;
  -webkit-transition-property:opacity, -webkit-transform;
  transition-property:opacity, -webkit-transform;
  transition-property:transform, opacity;
  transition-property:transform, opacity, -webkit-transform;
  -webkit-transition-timing-function:ease;
          transition-timing-function:ease; }

.bp3-panel-stack2-pop .bp3-panel-stack2-exit{
  -webkit-transform:translate(0%);
          transform:translate(0%);
  opacity:1; }

.bp3-panel-stack2-pop .bp3-panel-stack2-exit-active{
  -webkit-transform:translateX(100%);
          transform:translateX(100%);
  opacity:0;
  -webkit-transition-delay:0;
          transition-delay:0;
  -webkit-transition-duration:400ms;
          transition-duration:400ms;
  -webkit-transition-property:opacity, -webkit-transform;
  transition-property:opacity, -webkit-transform;
  transition-property:transform, opacity;
  transition-property:transform, opacity, -webkit-transform;
  -webkit-transition-timing-function:ease;
          transition-timing-function:ease; }
.bp3-popover{
  -webkit-box-shadow:0 0 0 1px rgba(16, 22, 26, 0.1), 0 2px 4px rgba(16, 22, 26, 0.2), 0 8px 24px rgba(16, 22, 26, 0.2);
          box-shadow:0 0 0 1px rgba(16, 22, 26, 0.1), 0 2px 4px rgba(16, 22, 26, 0.2), 0 8px 24px rgba(16, 22, 26, 0.2);
  -webkit-transform:scale(1);
          transform:scale(1);
  border-radius:3px;
  display:inline-block;
  z-index:20; }
  .bp3-popover .bp3-popover-arrow{
    height:30px;
    position:absolute;
    width:30px; }
    .bp3-popover .bp3-popover-arrow::before{
      height:20px;
      margin:5px;
      width:20px; }
  .bp3-tether-element-attached-bottom.bp3-tether-target-attached-top > .bp3-popover{
    margin-bottom:17px;
    margin-top:-17px; }
    .bp3-tether-element-attached-bottom.bp3-tether-target-attached-top > .bp3-popover > .bp3-popover-arrow{
      bottom:-11px; }
      .bp3-tether-element-attached-bottom.bp3-tether-target-attached-top > .bp3-popover > .bp3-popover-arrow svg{
        -webkit-transform:rotate(-90deg);
                transform:rotate(-90deg); }
  .bp3-tether-element-attached-left.bp3-tether-target-attached-right > .bp3-popover{
    margin-left:17px; }
    .bp3-tether-element-attached-left.bp3-tether-target-attached-right > .bp3-popover > .bp3-popover-arrow{
      left:-11px; }
      .bp3-tether-element-attached-left.bp3-tether-target-attached-right > .bp3-popover > .bp3-popover-arrow svg{
        -webkit-transform:rotate(0);
                transform:rotate(0); }
  .bp3-tether-element-attached-top.bp3-tether-target-attached-bottom > .bp3-popover{
    margin-top:17px; }
    .bp3-tether-element-attached-top.bp3-tether-target-attached-bottom > .bp3-popover > .bp3-popover-arrow{
      top:-11px; }
      .bp3-tether-element-attached-top.bp3-tether-target-attached-bottom > .bp3-popover > .bp3-popover-arrow svg{
        -webkit-transform:rotate(90deg);
                transform:rotate(90deg); }
  .bp3-tether-element-attached-right.bp3-tether-target-attached-left > .bp3-popover{
    margin-left:-17px;
    margin-right:17px; }
    .bp3-tether-element-attached-right.bp3-tether-target-attached-left > .bp3-popover > .bp3-popover-arrow{
      right:-11px; }
      .bp3-tether-element-attached-right.bp3-tether-target-attached-left > .bp3-popover > .bp3-popover-arrow svg{
        -webkit-transform:rotate(180deg);
                transform:rotate(180deg); }
  .bp3-tether-element-attached-middle > .bp3-popover > .bp3-popover-arrow{
    top:50%;
    -webkit-transform:translateY(-50%);
            transform:translateY(-50%); }
  .bp3-tether-element-attached-center > .bp3-popover > .bp3-popover-arrow{
    right:50%;
    -webkit-transform:translateX(50%);
            transform:translateX(50%); }
  .bp3-tether-element-attached-top.bp3-tether-target-attached-top > .bp3-popover > .bp3-popover-arrow{
    top:-0.3934px; }
  .bp3-tether-element-attached-right.bp3-tether-target-attached-right > .bp3-popover > .bp3-popover-arrow{
    right:-0.3934px; }
  .bp3-tether-element-attached-left.bp3-tether-target-attached-left > .bp3-popover > .bp3-popover-arrow{
    left:-0.3934px; }
  .bp3-tether-element-attached-bottom.bp3-tether-target-attached-bottom > .bp3-popover > .bp3-popover-arrow{
    bottom:-0.3934px; }
  .bp3-tether-element-attached-top.bp3-tether-element-attached-left > .bp3-popover{
    -webkit-transform-origin:top left;
            transform-origin:top left; }
  .bp3-tether-element-attached-top.bp3-tether-element-attached-center > .bp3-popover{
    -webkit-transform-origin:top center;
            transform-origin:top center; }
  .bp3-tether-element-attached-top.bp3-tether-element-attached-right > .bp3-popover{
    -webkit-transform-origin:top right;
            transform-origin:top right; }
  .bp3-tether-element-attached-middle.bp3-tether-element-attached-left > .bp3-popover{
    -webkit-transform-origin:center left;
            transform-origin:center left; }
  .bp3-tether-element-attached-middle.bp3-tether-element-attached-center > .bp3-popover{
    -webkit-transform-origin:center center;
            transform-origin:center center; }
  .bp3-tether-element-attached-middle.bp3-tether-element-attached-right > .bp3-popover{
    -webkit-transform-origin:center right;
            transform-origin:center right; }
  .bp3-tether-element-attached-bottom.bp3-tether-element-attached-left > .bp3-popover{
    -webkit-transform-origin:bottom left;
            transform-origin:bottom left; }
  .bp3-tether-element-attached-bottom.bp3-tether-element-attached-center > .bp3-popover{
    -webkit-transform-origin:bottom center;
            transform-origin:bottom center; }
  .bp3-tether-element-attached-bottom.bp3-tether-element-attached-right > .bp3-popover{
    -webkit-transform-origin:bottom right;
            transform-origin:bottom right; }
  .bp3-popover .bp3-popover-content{
    background:#ffffff;
    color:inherit; }
  .bp3-popover .bp3-popover-arrow::before{
    -webkit-box-shadow:1px 1px 6px rgba(16, 22, 26, 0.2);
            box-shadow:1px 1px 6px rgba(16, 22, 26, 0.2); }
  .bp3-popover .bp3-popover-arrow-border{
    fill:#10161a;
    fill-opacity:0.1; }
  .bp3-popover .bp3-popover-arrow-fill{
    fill:#ffffff; }
  .bp3-popover-enter > .bp3-popover, .bp3-popover-appear > .bp3-popover{
    -webkit-transform:scale(0.3);
            transform:scale(0.3); }
  .bp3-popover-enter-active > .bp3-popover, .bp3-popover-appear-active > .bp3-popover{
    -webkit-transform:scale(1);
            transform:scale(1);
    -webkit-transition-delay:0;
            transition-delay:0;
    -webkit-transition-duration:300ms;
            transition-duration:300ms;
    -webkit-transition-property:-webkit-transform;
    transition-property:-webkit-transform;
    transition-property:transform;
    transition-property:transform, -webkit-transform;
    -webkit-transition-timing-function:cubic-bezier(0.54, 1.12, 0.38, 1.11);
            transition-timing-function:cubic-bezier(0.54, 1.12, 0.38, 1.11); }
  .bp3-popover-exit > .bp3-popover{
    -webkit-transform:scale(1);
            transform:scale(1); }
  .bp3-popover-exit-active > .bp3-popover{
    -webkit-transform:scale(0.3);
            transform:scale(0.3);
    -webkit-transition-delay:0;
            transition-delay:0;
    -webkit-transition-duration:300ms;
            transition-duration:300ms;
    -webkit-transition-property:-webkit-transform;
    transition-property:-webkit-transform;
    transition-property:transform;
    transition-property:transform, -webkit-transform;
    -webkit-transition-timing-function:cubic-bezier(0.54, 1.12, 0.38, 1.11);
            transition-timing-function:cubic-bezier(0.54, 1.12, 0.38, 1.11); }
  .bp3-popover .bp3-popover-content{
    border-radius:3px;
    position:relative; }
  .bp3-popover.bp3-popover-content-sizing .bp3-popover-content{
    max-width:350px;
    padding:20px; }
  .bp3-popover-target + .bp3-overlay .bp3-popover.bp3-popover-content-sizing{
    width:350px; }
  .bp3-popover.bp3-minimal{
    margin:0 !important; }
    .bp3-popover.bp3-minimal .bp3-popover-arrow{
      display:none; }
    .bp3-popover.bp3-minimal.bp3-popover{
      -webkit-transform:scale(1);
              transform:scale(1); }
      .bp3-popover-enter > .bp3-popover.bp3-minimal.bp3-popover, .bp3-popover-appear > .bp3-popover.bp3-minimal.bp3-popover{
        -webkit-transform:scale(1);
                transform:scale(1); }
      .bp3-popover-enter-active > .bp3-popover.bp3-minimal.bp3-popover, .bp3-popover-appear-active > .bp3-popover.bp3-minimal.bp3-popover{
        -webkit-transform:scale(1);
                transform:scale(1);
        -webkit-transition-delay:0;
                transition-delay:0;
        -webkit-transition-duration:100ms;
                transition-duration:100ms;
        -webkit-transition-property:-webkit-transform;
        transition-property:-webkit-transform;
        transition-property:transform;
        transition-property:transform, -webkit-transform;
        -webkit-transition-timing-function:cubic-bezier(0.4, 1, 0.75, 0.9);
                transition-timing-function:cubic-bezier(0.4, 1, 0.75, 0.9); }
      .bp3-popover-exit > .bp3-popover.bp3-minimal.bp3-popover{
        -webkit-transform:scale(1);
                transform:scale(1); }
      .bp3-popover-exit-active > .bp3-popover.bp3-minimal.bp3-popover{
        -webkit-transform:scale(1);
                transform:scale(1);
        -webkit-transition-delay:0;
                transition-delay:0;
        -webkit-transition-duration:100ms;
                transition-duration:100ms;
        -webkit-transition-property:-webkit-transform;
        transition-property:-webkit-transform;
        transition-property:transform;
        transition-property:transform, -webkit-transform;
        -webkit-transition-timing-function:cubic-bezier(0.4, 1, 0.75, 0.9);
                transition-timing-function:cubic-bezier(0.4, 1, 0.75, 0.9); }
  .bp3-popover.bp3-dark,
  .bp3-dark .bp3-popover{
    -webkit-box-shadow:0 0 0 1px rgba(16, 22, 26, 0.2), 0 2px 4px rgba(16, 22, 26, 0.4), 0 8px 24px rgba(16, 22, 26, 0.4);
            box-shadow:0 0 0 1px rgba(16, 22, 26, 0.2), 0 2px 4px rgba(16, 22, 26, 0.4), 0 8px 24px rgba(16, 22, 26, 0.4); }
    .bp3-popover.bp3-dark .bp3-popover-content,
    .bp3-dark .bp3-popover .bp3-popover-content{
      background:#30404d;
      color:inherit; }
    .bp3-popover.bp3-dark .bp3-popover-arrow::before,
    .bp3-dark .bp3-popover .bp3-popover-arrow::before{
      -webkit-box-shadow:1px 1px 6px rgba(16, 22, 26, 0.4);
              box-shadow:1px 1px 6px rgba(16, 22, 26, 0.4); }
    .bp3-popover.bp3-dark .bp3-popover-arrow-border,
    .bp3-dark .bp3-popover .bp3-popover-arrow-border{
      fill:#10161a;
      fill-opacity:0.2; }
    .bp3-popover.bp3-dark .bp3-popover-arrow-fill,
    .bp3-dark .bp3-popover .bp3-popover-arrow-fill{
      fill:#30404d; }

.bp3-popover-arrow::before{
  border-radius:2px;
  content:"";
  display:block;
  position:absolute;
  -webkit-transform:rotate(45deg);
          transform:rotate(45deg); }

.bp3-tether-pinned .bp3-popover-arrow{
  display:none; }

.bp3-popover-backdrop{
  background:rgba(255, 255, 255, 0); }

.bp3-transition-container{
  opacity:1;
  display:-webkit-box;
  display:-ms-flexbox;
  display:flex;
  z-index:20; }
  .bp3-transition-container.bp3-popover-enter, .bp3-transition-container.bp3-popover-appear{
    opacity:0; }
  .bp3-transition-container.bp3-popover-enter-active, .bp3-transition-container.bp3-popover-appear-active{
    opacity:1;
    -webkit-transition-delay:0;
            transition-delay:0;
    -webkit-transition-duration:100ms;
            transition-duration:100ms;
    -webkit-transition-property:opacity;
    transition-property:opacity;
    -webkit-transition-timing-function:cubic-bezier(0.4, 1, 0.75, 0.9);
            transition-timing-function:cubic-bezier(0.4, 1, 0.75, 0.9); }
  .bp3-transition-container.bp3-popover-exit{
    opacity:1; }
  .bp3-transition-container.bp3-popover-exit-active{
    opacity:0;
    -webkit-transition-delay:0;
            transition-delay:0;
    -webkit-transition-duration:100ms;
            transition-duration:100ms;
    -webkit-transition-property:opacity;
    transition-property:opacity;
    -webkit-transition-timing-function:cubic-bezier(0.4, 1, 0.75, 0.9);
            transition-timing-function:cubic-bezier(0.4, 1, 0.75, 0.9); }
  .bp3-transition-container:focus{
    outline:none; }
  .bp3-transition-container.bp3-popover-leave .bp3-popover-content{
    pointer-events:none; }
  .bp3-transition-container[data-x-out-of-boundaries]{
    display:none; }

span.bp3-popover-target{
  display:inline-block; }

.bp3-popover-wrapper.bp3-fill{
  width:100%; }

.bp3-portal{
  left:0;
  position:absolute;
  right:0;
  top:0; }
@-webkit-keyframes linear-progress-bar-stripes{
  from{
    background-position:0 0; }
  to{
    background-position:30px 0; } }
@keyframes linear-progress-bar-stripes{
  from{
    background-position:0 0; }
  to{
    background-position:30px 0; } }

.bp3-progress-bar{
  background:rgba(92, 112, 128, 0.2);
  border-radius:40px;
  display:block;
  height:8px;
  overflow:hidden;
  position:relative;
  width:100%; }
  .bp3-progress-bar .bp3-progress-meter{
    background:linear-gradient(-45deg, rgba(255, 255, 255, 0.2) 25%, transparent 25%, transparent 50%, rgba(255, 255, 255, 0.2) 50%, rgba(255, 255, 255, 0.2) 75%, transparent 75%);
    background-color:rgba(92, 112, 128, 0.8);
    background-size:30px 30px;
    border-radius:40px;
    height:100%;
    position:absolute;
    -webkit-transition:width 200ms cubic-bezier(0.4, 1, 0.75, 0.9);
    transition:width 200ms cubic-bezier(0.4, 1, 0.75, 0.9);
    width:100%; }
  .bp3-progress-bar:not(.bp3-no-animation):not(.bp3-no-stripes) .bp3-progress-meter{
    animation:linear-progress-bar-stripes 300ms linear infinite reverse; }
  .bp3-progress-bar.bp3-no-stripes .bp3-progress-meter{
    background-image:none; }

.bp3-dark .bp3-progress-bar{
  background:rgba(16, 22, 26, 0.5); }
  .bp3-dark .bp3-progress-bar .bp3-progress-meter{
    background-color:#8a9ba8; }

.bp3-progress-bar.bp3-intent-primary .bp3-progress-meter{
  background-color:#137cbd; }

.bp3-progress-bar.bp3-intent-success .bp3-progress-meter{
  background-color:#0f9960; }

.bp3-progress-bar.bp3-intent-warning .bp3-progress-meter{
  background-color:#d9822b; }

.bp3-progress-bar.bp3-intent-danger .bp3-progress-meter{
  background-color:#db3737; }
@-webkit-keyframes skeleton-glow{
  from{
    background:rgba(206, 217, 224, 0.2);
    border-color:rgba(206, 217, 224, 0.2); }
  to{
    background:rgba(92, 112, 128, 0.2);
    border-color:rgba(92, 112, 128, 0.2); } }
@keyframes skeleton-glow{
  from{
    background:rgba(206, 217, 224, 0.2);
    border-color:rgba(206, 217, 224, 0.2); }
  to{
    background:rgba(92, 112, 128, 0.2);
    border-color:rgba(92, 112, 128, 0.2); } }
.bp3-skeleton{
  -webkit-animation:1000ms linear infinite alternate skeleton-glow;
          animation:1000ms linear infinite alternate skeleton-glow;
  background:rgba(206, 217, 224, 0.2);
  background-clip:padding-box !important;
  border-color:rgba(206, 217, 224, 0.2) !important;
  border-radius:2px;
  -webkit-box-shadow:none !important;
          box-shadow:none !important;
  color:transparent !important;
  cursor:default;
  pointer-events:none;
  -webkit-user-select:none;
     -moz-user-select:none;
      -ms-user-select:none;
          user-select:none; }
  .bp3-skeleton::before, .bp3-skeleton::after,
  .bp3-skeleton *{
    visibility:hidden !important; }
.bp3-slider{
  height:40px;
  min-width:150px;
  width:100%;
  cursor:default;
  outline:none;
  position:relative;
  -webkit-user-select:none;
     -moz-user-select:none;
      -ms-user-select:none;
          user-select:none; }
  .bp3-slider:hover{
    cursor:pointer; }
  .bp3-slider:active{
    cursor:-webkit-grabbing;
    cursor:grabbing; }
  .bp3-slider.bp3-disabled{
    cursor:not-allowed;
    opacity:0.5; }
  .bp3-slider.bp3-slider-unlabeled{
    height:16px; }

.bp3-slider-track,
.bp3-slider-progress{
  height:6px;
  left:0;
  right:0;
  top:5px;
  position:absolute; }

.bp3-slider-track{
  border-radius:3px;
  overflow:hidden; }

.bp3-slider-progress{
  background:rgba(92, 112, 128, 0.2); }
  .bp3-dark .bp3-slider-progress{
    background:rgba(16, 22, 26, 0.5); }
  .bp3-slider-progress.bp3-intent-primary{
    background-color:#137cbd; }
  .bp3-slider-progress.bp3-intent-success{
    background-color:#0f9960; }
  .bp3-slider-progress.bp3-intent-warning{
    background-color:#d9822b; }
  .bp3-slider-progress.bp3-intent-danger{
    background-color:#db3737; }

.bp3-slider-handle{
  background-color:#f5f8fa;
  background-image:-webkit-gradient(linear, left top, left bottom, from(rgba(255, 255, 255, 0.8)), to(rgba(255, 255, 255, 0)));
  background-image:linear-gradient(to bottom, rgba(255, 255, 255, 0.8), rgba(255, 255, 255, 0));
  -webkit-box-shadow:inset 0 0 0 1px rgba(16, 22, 26, 0.2), inset 0 -1px 0 rgba(16, 22, 26, 0.1);
          box-shadow:inset 0 0 0 1px rgba(16, 22, 26, 0.2), inset 0 -1px 0 rgba(16, 22, 26, 0.1);
  color:#182026;
  border-radius:3px;
  -webkit-box-shadow:0 0 0 1px rgba(16, 22, 26, 0.2), 0 1px 1px rgba(16, 22, 26, 0.2);
          box-shadow:0 0 0 1px rgba(16, 22, 26, 0.2), 0 1px 1px rgba(16, 22, 26, 0.2);
  cursor:pointer;
  height:16px;
  left:0;
  position:absolute;
  top:0;
  width:16px; }
  .bp3-slider-handle:hover{
    background-clip:padding-box;
    background-color:#ebf1f5;
    -webkit-box-shadow:inset 0 0 0 1px rgba(16, 22, 26, 0.2), inset 0 -1px 0 rgba(16, 22, 26, 0.1);
            box-shadow:inset 0 0 0 1px rgba(16, 22, 26, 0.2), inset 0 -1px 0 rgba(16, 22, 26, 0.1); }
  .bp3-slider-handle:active, .bp3-slider-handle.bp3-active{
    background-color:#d8e1e8;
    background-image:none;
    -webkit-box-shadow:inset 0 0 0 1px rgba(16, 22, 26, 0.2), inset 0 1px 2px rgba(16, 22, 26, 0.2);
            box-shadow:inset 0 0 0 1px rgba(16, 22, 26, 0.2), inset 0 1px 2px rgba(16, 22, 26, 0.2); }
  .bp3-slider-handle:disabled, .bp3-slider-handle.bp3-disabled{
    background-color:rgba(206, 217, 224, 0.5);
    background-image:none;
    -webkit-box-shadow:none;
            box-shadow:none;
    color:rgba(92, 112, 128, 0.6);
    cursor:not-allowed;
    outline:none; }
    .bp3-slider-handle:disabled.bp3-active, .bp3-slider-handle:disabled.bp3-active:hover, .bp3-slider-handle.bp3-disabled.bp3-active, .bp3-slider-handle.bp3-disabled.bp3-active:hover{
      background:rgba(206, 217, 224, 0.7); }
  .bp3-slider-handle:focus{
    z-index:1; }
  .bp3-slider-handle:hover{
    background-clip:padding-box;
    background-color:#ebf1f5;
    -webkit-box-shadow:inset 0 0 0 1px rgba(16, 22, 26, 0.2), inset 0 -1px 0 rgba(16, 22, 26, 0.1);
            box-shadow:inset 0 0 0 1px rgba(16, 22, 26, 0.2), inset 0 -1px 0 rgba(16, 22, 26, 0.1);
    -webkit-box-shadow:0 0 0 1px rgba(16, 22, 26, 0.2), 0 1px 1px rgba(16, 22, 26, 0.2);
            box-shadow:0 0 0 1px rgba(16, 22, 26, 0.2), 0 1px 1px rgba(16, 22, 26, 0.2);
    cursor:-webkit-grab;
    cursor:grab;
    z-index:2; }
  .bp3-slider-handle.bp3-active{
    background-color:#d8e1e8;
    background-image:none;
    -webkit-box-shadow:inset 0 0 0 1px rgba(16, 22, 26, 0.2), inset 0 1px 2px rgba(16, 22, 26, 0.2);
            box-shadow:inset 0 0 0 1px rgba(16, 22, 26, 0.2), inset 0 1px 2px rgba(16, 22, 26, 0.2);
    -webkit-box-shadow:0 0 0 1px rgba(16, 22, 26, 0.2), inset 0 1px 1px rgba(16, 22, 26, 0.1);
            box-shadow:0 0 0 1px rgba(16, 22, 26, 0.2), inset 0 1px 1px rgba(16, 22, 26, 0.1);
    cursor:-webkit-grabbing;
    cursor:grabbing; }
  .bp3-disabled .bp3-slider-handle{
    background:#bfccd6;
    -webkit-box-shadow:none;
            box-shadow:none;
    pointer-events:none; }
  .bp3-dark .bp3-slider-handle{
    background-color:#394b59;
    background-image:-webkit-gradient(linear, left top, left bottom, from(rgba(255, 255, 255, 0.05)), to(rgba(255, 255, 255, 0)));
    background-image:linear-gradient(to bottom, rgba(255, 255, 255, 0.05), rgba(255, 255, 255, 0));
    -webkit-box-shadow:0 0 0 1px rgba(16, 22, 26, 0.4);
            box-shadow:0 0 0 1px rgba(16, 22, 26, 0.4);
    color:#f5f8fa; }
    .bp3-dark .bp3-slider-handle:hover, .bp3-dark .bp3-slider-handle:active, .bp3-dark .bp3-slider-handle.bp3-active{
      color:#f5f8fa; }
    .bp3-dark .bp3-slider-handle:hover{
      background-color:#30404d;
      -webkit-box-shadow:0 0 0 1px rgba(16, 22, 26, 0.4);
              box-shadow:0 0 0 1px rgba(16, 22, 26, 0.4); }
    .bp3-dark .bp3-slider-handle:active, .bp3-dark .bp3-slider-handle.bp3-active{
      background-color:#202b33;
      background-image:none;
      -webkit-box-shadow:0 0 0 1px rgba(16, 22, 26, 0.6), inset 0 1px 2px rgba(16, 22, 26, 0.2);
              box-shadow:0 0 0 1px rgba(16, 22, 26, 0.6), inset 0 1px 2px rgba(16, 22, 26, 0.2); }
    .bp3-dark .bp3-slider-handle:disabled, .bp3-dark .bp3-slider-handle.bp3-disabled{
      background-color:rgba(57, 75, 89, 0.5);
      background-image:none;
      -webkit-box-shadow:none;
              box-shadow:none;
      color:rgba(167, 182, 194, 0.6); }
      .bp3-dark .bp3-slider-handle:disabled.bp3-active, .bp3-dark .bp3-slider-handle.bp3-disabled.bp3-active{
        background:rgba(57, 75, 89, 0.7); }
    .bp3-dark .bp3-slider-handle .bp3-button-spinner .bp3-spinner-head{
      background:rgba(16, 22, 26, 0.5);
      stroke:#8a9ba8; }
    .bp3-dark .bp3-slider-handle, .bp3-dark .bp3-slider-handle:hover{
      background-color:#394b59; }
    .bp3-dark .bp3-slider-handle.bp3-active{
      background-color:#293742; }
  .bp3-dark .bp3-disabled .bp3-slider-handle{
    background:#5c7080;
    border-color:#5c7080;
    -webkit-box-shadow:none;
            box-shadow:none; }
  .bp3-slider-handle .bp3-slider-label{
    background:#394b59;
    border-radius:3px;
    -webkit-box-shadow:0 0 0 1px rgba(16, 22, 26, 0.1), 0 2px 4px rgba(16, 22, 26, 0.2), 0 8px 24px rgba(16, 22, 26, 0.2);
            box-shadow:0 0 0 1px rgba(16, 22, 26, 0.1), 0 2px 4px rgba(16, 22, 26, 0.2), 0 8px 24px rgba(16, 22, 26, 0.2);
    color:#f5f8fa;
    margin-left:8px; }
    .bp3-dark .bp3-slider-handle .bp3-slider-label{
      background:#e1e8ed;
      -webkit-box-shadow:0 0 0 1px rgba(16, 22, 26, 0.2), 0 2px 4px rgba(16, 22, 26, 0.4), 0 8px 24px rgba(16, 22, 26, 0.4);
              box-shadow:0 0 0 1px rgba(16, 22, 26, 0.2), 0 2px 4px rgba(16, 22, 26, 0.4), 0 8px 24px rgba(16, 22, 26, 0.4);
      color:#394b59; }
    .bp3-disabled .bp3-slider-handle .bp3-slider-label{
      -webkit-box-shadow:none;
              box-shadow:none; }
  .bp3-slider-handle.bp3-start, .bp3-slider-handle.bp3-end{
    width:8px; }
  .bp3-slider-handle.bp3-start{
    border-bottom-right-radius:0;
    border-top-right-radius:0; }
  .bp3-slider-handle.bp3-end{
    border-bottom-left-radius:0;
    border-top-left-radius:0;
    margin-left:8px; }
    .bp3-slider-handle.bp3-end .bp3-slider-label{
      margin-left:0; }

.bp3-slider-label{
  -webkit-transform:translate(-50%, 20px);
          transform:translate(-50%, 20px);
  display:inline-block;
  font-size:12px;
  line-height:1;
  padding:2px 5px;
  position:absolute;
  vertical-align:top; }

.bp3-slider.bp3-vertical{
  height:150px;
  min-width:40px;
  width:40px; }
  .bp3-slider.bp3-vertical .bp3-slider-track,
  .bp3-slider.bp3-vertical .bp3-slider-progress{
    bottom:0;
    height:auto;
    left:5px;
    top:0;
    width:6px; }
  .bp3-slider.bp3-vertical .bp3-slider-progress{
    top:auto; }
  .bp3-slider.bp3-vertical .bp3-slider-label{
    -webkit-transform:translate(20px, 50%);
            transform:translate(20px, 50%); }
  .bp3-slider.bp3-vertical .bp3-slider-handle{
    top:auto; }
    .bp3-slider.bp3-vertical .bp3-slider-handle .bp3-slider-label{
      margin-left:0;
      margin-top:-8px; }
    .bp3-slider.bp3-vertical .bp3-slider-handle.bp3-end, .bp3-slider.bp3-vertical .bp3-slider-handle.bp3-start{
      height:8px;
      margin-left:0;
      width:16px; }
    .bp3-slider.bp3-vertical .bp3-slider-handle.bp3-start{
      border-bottom-right-radius:3px;
      border-top-left-radius:0; }
      .bp3-slider.bp3-vertical .bp3-slider-handle.bp3-start .bp3-slider-label{
        -webkit-transform:translate(20px);
                transform:translate(20px); }
    .bp3-slider.bp3-vertical .bp3-slider-handle.bp3-end{
      border-bottom-left-radius:0;
      border-bottom-right-radius:0;
      border-top-left-radius:3px;
      margin-bottom:8px; }

@-webkit-keyframes pt-spinner-animation{
  from{
    -webkit-transform:rotate(0deg);
            transform:rotate(0deg); }
  to{
    -webkit-transform:rotate(360deg);
            transform:rotate(360deg); } }

@keyframes pt-spinner-animation{
  from{
    -webkit-transform:rotate(0deg);
            transform:rotate(0deg); }
  to{
    -webkit-transform:rotate(360deg);
            transform:rotate(360deg); } }

.bp3-spinner{
  -webkit-box-align:center;
      -ms-flex-align:center;
          align-items:center;
  display:-webkit-box;
  display:-ms-flexbox;
  display:flex;
  -webkit-box-pack:center;
      -ms-flex-pack:center;
          justify-content:center;
  overflow:visible;
  vertical-align:middle; }
  .bp3-spinner svg{
    display:block; }
  .bp3-spinner path{
    fill-opacity:0; }
  .bp3-spinner .bp3-spinner-head{
    stroke:rgba(92, 112, 128, 0.8);
    stroke-linecap:round;
    -webkit-transform-origin:center;
            transform-origin:center;
    -webkit-transition:stroke-dashoffset 200ms cubic-bezier(0.4, 1, 0.75, 0.9);
    transition:stroke-dashoffset 200ms cubic-bezier(0.4, 1, 0.75, 0.9); }
  .bp3-spinner .bp3-spinner-track{
    stroke:rgba(92, 112, 128, 0.2); }

.bp3-spinner-animation{
  -webkit-animation:pt-spinner-animation 500ms linear infinite;
          animation:pt-spinner-animation 500ms linear infinite; }
  .bp3-no-spin > .bp3-spinner-animation{
    -webkit-animation:none;
            animation:none; }

.bp3-dark .bp3-spinner .bp3-spinner-head{
  stroke:#8a9ba8; }

.bp3-dark .bp3-spinner .bp3-spinner-track{
  stroke:rgba(16, 22, 26, 0.5); }

.bp3-spinner.bp3-intent-primary .bp3-spinner-head{
  stroke:#137cbd; }

.bp3-spinner.bp3-intent-success .bp3-spinner-head{
  stroke:#0f9960; }

.bp3-spinner.bp3-intent-warning .bp3-spinner-head{
  stroke:#d9822b; }

.bp3-spinner.bp3-intent-danger .bp3-spinner-head{
  stroke:#db3737; }
.bp3-tabs.bp3-vertical{
  display:-webkit-box;
  display:-ms-flexbox;
  display:flex; }
  .bp3-tabs.bp3-vertical > .bp3-tab-list{
    -webkit-box-align:start;
        -ms-flex-align:start;
            align-items:flex-start;
    -webkit-box-orient:vertical;
    -webkit-box-direction:normal;
        -ms-flex-direction:column;
            flex-direction:column; }
    .bp3-tabs.bp3-vertical > .bp3-tab-list .bp3-tab{
      border-radius:3px;
      padding:0 10px;
      width:100%; }
      .bp3-tabs.bp3-vertical > .bp3-tab-list .bp3-tab[aria-selected="true"]{
        background-color:rgba(19, 124, 189, 0.2);
        -webkit-box-shadow:none;
                box-shadow:none; }
    .bp3-tabs.bp3-vertical > .bp3-tab-list .bp3-tab-indicator-wrapper .bp3-tab-indicator{
      background-color:rgba(19, 124, 189, 0.2);
      border-radius:3px;
      bottom:0;
      height:auto;
      left:0;
      right:0;
      top:0; }
  .bp3-tabs.bp3-vertical > .bp3-tab-panel{
    margin-top:0;
    padding-left:20px; }

.bp3-tab-list{
  -webkit-box-align:end;
      -ms-flex-align:end;
          align-items:flex-end;
  border:none;
  display:-webkit-box;
  display:-ms-flexbox;
  display:flex;
  -webkit-box-flex:0;
      -ms-flex:0 0 auto;
          flex:0 0 auto;
  list-style:none;
  margin:0;
  padding:0;
  position:relative; }
  .bp3-tab-list > *:not(:last-child){
    margin-right:20px; }

.bp3-tab{
  overflow:hidden;
  text-overflow:ellipsis;
  white-space:nowrap;
  word-wrap:normal;
  color:#182026;
  cursor:pointer;
  -webkit-box-flex:0;
      -ms-flex:0 0 auto;
          flex:0 0 auto;
  font-size:14px;
  line-height:30px;
  max-width:100%;
  position:relative;
  vertical-align:top; }
  .bp3-tab a{
    color:inherit;
    display:block;
    text-decoration:none; }
  .bp3-tab-indicator-wrapper ~ .bp3-tab{
    background-color:transparent !important;
    -webkit-box-shadow:none !important;
            box-shadow:none !important; }
  .bp3-tab[aria-disabled="true"]{
    color:rgba(92, 112, 128, 0.6);
    cursor:not-allowed; }
  .bp3-tab[aria-selected="true"]{
    border-radius:0;
    -webkit-box-shadow:inset 0 -3px 0 #106ba3;
            box-shadow:inset 0 -3px 0 #106ba3; }
  .bp3-tab[aria-selected="true"], .bp3-tab:not([aria-disabled="true"]):hover{
    color:#106ba3; }
  .bp3-tab:focus{
    -moz-outline-radius:0; }
  .bp3-large > .bp3-tab{
    font-size:16px;
    line-height:40px; }

.bp3-tab-panel{
  margin-top:20px; }
  .bp3-tab-panel[aria-hidden="true"]{
    display:none; }

.bp3-tab-indicator-wrapper{
  left:0;
  pointer-events:none;
  position:absolute;
  top:0;
  -webkit-transform:translateX(0), translateY(0);
          transform:translateX(0), translateY(0);
  -webkit-transition:height, width, -webkit-transform;
  transition:height, width, -webkit-transform;
  transition:height, transform, width;
  transition:height, transform, width, -webkit-transform;
  -webkit-transition-duration:200ms;
          transition-duration:200ms;
  -webkit-transition-timing-function:cubic-bezier(0.4, 1, 0.75, 0.9);
          transition-timing-function:cubic-bezier(0.4, 1, 0.75, 0.9); }
  .bp3-tab-indicator-wrapper .bp3-tab-indicator{
    background-color:#106ba3;
    bottom:0;
    height:3px;
    left:0;
    position:absolute;
    right:0; }
  .bp3-tab-indicator-wrapper.bp3-no-animation{
    -webkit-transition:none;
    transition:none; }

.bp3-dark .bp3-tab{
  color:#f5f8fa; }
  .bp3-dark .bp3-tab[aria-disabled="true"]{
    color:rgba(167, 182, 194, 0.6); }
  .bp3-dark .bp3-tab[aria-selected="true"]{
    -webkit-box-shadow:inset 0 -3px 0 #48aff0;
            box-shadow:inset 0 -3px 0 #48aff0; }
  .bp3-dark .bp3-tab[aria-selected="true"], .bp3-dark .bp3-tab:not([aria-disabled="true"]):hover{
    color:#48aff0; }

.bp3-dark .bp3-tab-indicator{
  background-color:#48aff0; }

.bp3-flex-expander{
  -webkit-box-flex:1;
      -ms-flex:1 1;
          flex:1 1; }
.bp3-tag{
  display:-webkit-inline-box;
  display:-ms-inline-flexbox;
  display:inline-flex;
  -webkit-box-orient:horizontal;
  -webkit-box-direction:normal;
      -ms-flex-direction:row;
          flex-direction:row;
  -webkit-box-align:center;
      -ms-flex-align:center;
          align-items:center;
  background-color:#5c7080;
  border:none;
  border-radius:3px;
  -webkit-box-shadow:none;
          box-shadow:none;
  color:#f5f8fa;
  font-size:12px;
  line-height:16px;
  max-width:100%;
  min-height:20px;
  min-width:20px;
  padding:2px 6px;
  position:relative; }
  .bp3-tag.bp3-interactive{
    cursor:pointer; }
    .bp3-tag.bp3-interactive:hover{
      background-color:rgba(92, 112, 128, 0.85); }
    .bp3-tag.bp3-interactive.bp3-active, .bp3-tag.bp3-interactive:active{
      background-color:rgba(92, 112, 128, 0.7); }
  .bp3-tag > *{
    -webkit-box-flex:0;
        -ms-flex-positive:0;
            flex-grow:0;
    -ms-flex-negative:0;
        flex-shrink:0; }
  .bp3-tag > .bp3-fill{
    -webkit-box-flex:1;
        -ms-flex-positive:1;
            flex-grow:1;
    -ms-flex-negative:1;
        flex-shrink:1; }
  .bp3-tag::before,
  .bp3-tag > *{
    margin-right:4px; }
  .bp3-tag:empty::before,
  .bp3-tag > :last-child{
    margin-right:0; }
  .bp3-tag:focus{
    outline:rgba(19, 124, 189, 0.6) auto 2px;
    outline-offset:0;
    -moz-outline-radius:6px; }
  .bp3-tag.bp3-round{
    border-radius:30px;
    padding-left:8px;
    padding-right:8px; }
  .bp3-dark .bp3-tag{
    background-color:#bfccd6;
    color:#182026; }
    .bp3-dark .bp3-tag.bp3-interactive{
      cursor:pointer; }
      .bp3-dark .bp3-tag.bp3-interactive:hover{
        background-color:rgba(191, 204, 214, 0.85); }
      .bp3-dark .bp3-tag.bp3-interactive.bp3-active, .bp3-dark .bp3-tag.bp3-interactive:active{
        background-color:rgba(191, 204, 214, 0.7); }
    .bp3-dark .bp3-tag > .bp3-icon, .bp3-dark .bp3-tag .bp3-icon-standard, .bp3-dark .bp3-tag .bp3-icon-large{
      fill:currentColor; }
  .bp3-tag > .bp3-icon, .bp3-tag .bp3-icon-standard, .bp3-tag .bp3-icon-large{
    fill:#ffffff; }
  .bp3-tag.bp3-large,
  .bp3-large .bp3-tag{
    font-size:14px;
    line-height:20px;
    min-height:30px;
    min-width:30px;
    padding:5px 10px; }
    .bp3-tag.bp3-large::before,
    .bp3-tag.bp3-large > *,
    .bp3-large .bp3-tag::before,
    .bp3-large .bp3-tag > *{
      margin-right:7px; }
    .bp3-tag.bp3-large:empty::before,
    .bp3-tag.bp3-large > :last-child,
    .bp3-large .bp3-tag:empty::before,
    .bp3-large .bp3-tag > :last-child{
      margin-right:0; }
    .bp3-tag.bp3-large.bp3-round,
    .bp3-large .bp3-tag.bp3-round{
      padding-left:12px;
      padding-right:12px; }
  .bp3-tag.bp3-intent-primary{
    background:#137cbd;
    color:#ffffff; }
    .bp3-tag.bp3-intent-primary.bp3-interactive{
      cursor:pointer; }
      .bp3-tag.bp3-intent-primary.bp3-interactive:hover{
        background-color:rgba(19, 124, 189, 0.85); }
      .bp3-tag.bp3-intent-primary.bp3-interactive.bp3-active, .bp3-tag.bp3-intent-primary.bp3-interactive:active{
        background-color:rgba(19, 124, 189, 0.7); }
  .bp3-tag.bp3-intent-success{
    background:#0f9960;
    color:#ffffff; }
    .bp3-tag.bp3-intent-success.bp3-interactive{
      cursor:pointer; }
      .bp3-tag.bp3-intent-success.bp3-interactive:hover{
        background-color:rgba(15, 153, 96, 0.85); }
      .bp3-tag.bp3-intent-success.bp3-interactive.bp3-active, .bp3-tag.bp3-intent-success.bp3-interactive:active{
        background-color:rgba(15, 153, 96, 0.7); }
  .bp3-tag.bp3-intent-warning{
    background:#d9822b;
    color:#ffffff; }
    .bp3-tag.bp3-intent-warning.bp3-interactive{
      cursor:pointer; }
      .bp3-tag.bp3-intent-warning.bp3-interactive:hover{
        background-color:rgba(217, 130, 43, 0.85); }
      .bp3-tag.bp3-intent-warning.bp3-interactive.bp3-active, .bp3-tag.bp3-intent-warning.bp3-interactive:active{
        background-color:rgba(217, 130, 43, 0.7); }
  .bp3-tag.bp3-intent-danger{
    background:#db3737;
    color:#ffffff; }
    .bp3-tag.bp3-intent-danger.bp3-interactive{
      cursor:pointer; }
      .bp3-tag.bp3-intent-danger.bp3-interactive:hover{
        background-color:rgba(219, 55, 55, 0.85); }
      .bp3-tag.bp3-intent-danger.bp3-interactive.bp3-active, .bp3-tag.bp3-intent-danger.bp3-interactive:active{
        background-color:rgba(219, 55, 55, 0.7); }
  .bp3-tag.bp3-fill{
    display:-webkit-box;
    display:-ms-flexbox;
    display:flex;
    width:100%; }
  .bp3-tag.bp3-minimal > .bp3-icon, .bp3-tag.bp3-minimal .bp3-icon-standard, .bp3-tag.bp3-minimal .bp3-icon-large{
    fill:#5c7080; }
  .bp3-tag.bp3-minimal:not([class*="bp3-intent-"]){
    background-color:rgba(138, 155, 168, 0.2);
    color:#182026; }
    .bp3-tag.bp3-minimal:not([class*="bp3-intent-"]).bp3-interactive{
      cursor:pointer; }
      .bp3-tag.bp3-minimal:not([class*="bp3-intent-"]).bp3-interactive:hover{
        background-color:rgba(92, 112, 128, 0.3); }
      .bp3-tag.bp3-minimal:not([class*="bp3-intent-"]).bp3-interactive.bp3-active, .bp3-tag.bp3-minimal:not([class*="bp3-intent-"]).bp3-interactive:active{
        background-color:rgba(92, 112, 128, 0.4); }
    .bp3-dark .bp3-tag.bp3-minimal:not([class*="bp3-intent-"]){
      color:#f5f8fa; }
      .bp3-dark .bp3-tag.bp3-minimal:not([class*="bp3-intent-"]).bp3-interactive{
        cursor:pointer; }
        .bp3-dark .bp3-tag.bp3-minimal:not([class*="bp3-intent-"]).bp3-interactive:hover{
          background-color:rgba(191, 204, 214, 0.3); }
        .bp3-dark .bp3-tag.bp3-minimal:not([class*="bp3-intent-"]).bp3-interactive.bp3-active, .bp3-dark .bp3-tag.bp3-minimal:not([class*="bp3-intent-"]).bp3-interactive:active{
          background-color:rgba(191, 204, 214, 0.4); }
      .bp3-dark .bp3-tag.bp3-minimal:not([class*="bp3-intent-"]) > .bp3-icon, .bp3-dark .bp3-tag.bp3-minimal:not([class*="bp3-intent-"]) .bp3-icon-standard, .bp3-dark .bp3-tag.bp3-minimal:not([class*="bp3-intent-"]) .bp3-icon-large{
        fill:#a7b6c2; }
  .bp3-tag.bp3-minimal.bp3-intent-primary{
    background-color:rgba(19, 124, 189, 0.15);
    color:#106ba3; }
    .bp3-tag.bp3-minimal.bp3-intent-primary.bp3-interactive{
      cursor:pointer; }
      .bp3-tag.bp3-minimal.bp3-intent-primary.bp3-interactive:hover{
        background-color:rgba(19, 124, 189, 0.25); }
      .bp3-tag.bp3-minimal.bp3-intent-primary.bp3-interactive.bp3-active, .bp3-tag.bp3-minimal.bp3-intent-primary.bp3-interactive:active{
        background-color:rgba(19, 124, 189, 0.35); }
    .bp3-tag.bp3-minimal.bp3-intent-primary > .bp3-icon, .bp3-tag.bp3-minimal.bp3-intent-primary .bp3-icon-standard, .bp3-tag.bp3-minimal.bp3-intent-primary .bp3-icon-large{
      fill:#137cbd; }
    .bp3-dark .bp3-tag.bp3-minimal.bp3-intent-primary{
      background-color:rgba(19, 124, 189, 0.25);
      color:#48aff0; }
      .bp3-dark .bp3-tag.bp3-minimal.bp3-intent-primary.bp3-interactive{
        cursor:pointer; }
        .bp3-dark .bp3-tag.bp3-minimal.bp3-intent-primary.bp3-interactive:hover{
          background-color:rgba(19, 124, 189, 0.35); }
        .bp3-dark .bp3-tag.bp3-minimal.bp3-intent-primary.bp3-interactive.bp3-active, .bp3-dark .bp3-tag.bp3-minimal.bp3-intent-primary.bp3-interactive:active{
          background-color:rgba(19, 124, 189, 0.45); }
  .bp3-tag.bp3-minimal.bp3-intent-success{
    background-color:rgba(15, 153, 96, 0.15);
    color:#0d8050; }
    .bp3-tag.bp3-minimal.bp3-intent-success.bp3-interactive{
      cursor:pointer; }
      .bp3-tag.bp3-minimal.bp3-intent-success.bp3-interactive:hover{
        background-color:rgba(15, 153, 96, 0.25); }
      .bp3-tag.bp3-minimal.bp3-intent-success.bp3-interactive.bp3-active, .bp3-tag.bp3-minimal.bp3-intent-success.bp3-interactive:active{
        background-color:rgba(15, 153, 96, 0.35); }
    .bp3-tag.bp3-minimal.bp3-intent-success > .bp3-icon, .bp3-tag.bp3-minimal.bp3-intent-success .bp3-icon-standard, .bp3-tag.bp3-minimal.bp3-intent-success .bp3-icon-large{
      fill:#0f9960; }
    .bp3-dark .bp3-tag.bp3-minimal.bp3-intent-success{
      background-color:rgba(15, 153, 96, 0.25);
      color:#3dcc91; }
      .bp3-dark .bp3-tag.bp3-minimal.bp3-intent-success.bp3-interactive{
        cursor:pointer; }
        .bp3-dark .bp3-tag.bp3-minimal.bp3-intent-success.bp3-interactive:hover{
          background-color:rgba(15, 153, 96, 0.35); }
        .bp3-dark .bp3-tag.bp3-minimal.bp3-intent-success.bp3-interactive.bp3-active, .bp3-dark .bp3-tag.bp3-minimal.bp3-intent-success.bp3-interactive:active{
          background-color:rgba(15, 153, 96, 0.45); }
  .bp3-tag.bp3-minimal.bp3-intent-warning{
    background-color:rgba(217, 130, 43, 0.15);
    color:#bf7326; }
    .bp3-tag.bp3-minimal.bp3-intent-warning.bp3-interactive{
      cursor:pointer; }
      .bp3-tag.bp3-minimal.bp3-intent-warning.bp3-interactive:hover{
        background-color:rgba(217, 130, 43, 0.25); }
      .bp3-tag.bp3-minimal.bp3-intent-warning.bp3-interactive.bp3-active, .bp3-tag.bp3-minimal.bp3-intent-warning.bp3-interactive:active{
        background-color:rgba(217, 130, 43, 0.35); }
    .bp3-tag.bp3-minimal.bp3-intent-warning > .bp3-icon, .bp3-tag.bp3-minimal.bp3-intent-warning .bp3-icon-standard, .bp3-tag.bp3-minimal.bp3-intent-warning .bp3-icon-large{
      fill:#d9822b; }
    .bp3-dark .bp3-tag.bp3-minimal.bp3-intent-warning{
      background-color:rgba(217, 130, 43, 0.25);
      color:#ffb366; }
      .bp3-dark .bp3-tag.bp3-minimal.bp3-intent-warning.bp3-interactive{
        cursor:pointer; }
        .bp3-dark .bp3-tag.bp3-minimal.bp3-intent-warning.bp3-interactive:hover{
          background-color:rgba(217, 130, 43, 0.35); }
        .bp3-dark .bp3-tag.bp3-minimal.bp3-intent-warning.bp3-interactive.bp3-active, .bp3-dark .bp3-tag.bp3-minimal.bp3-intent-warning.bp3-interactive:active{
          background-color:rgba(217, 130, 43, 0.45); }
  .bp3-tag.bp3-minimal.bp3-intent-danger{
    background-color:rgba(219, 55, 55, 0.15);
    color:#c23030; }
    .bp3-tag.bp3-minimal.bp3-intent-danger.bp3-interactive{
      cursor:pointer; }
      .bp3-tag.bp3-minimal.bp3-intent-danger.bp3-interactive:hover{
        background-color:rgba(219, 55, 55, 0.25); }
      .bp3-tag.bp3-minimal.bp3-intent-danger.bp3-interactive.bp3-active, .bp3-tag.bp3-minimal.bp3-intent-danger.bp3-interactive:active{
        background-color:rgba(219, 55, 55, 0.35); }
    .bp3-tag.bp3-minimal.bp3-intent-danger > .bp3-icon, .bp3-tag.bp3-minimal.bp3-intent-danger .bp3-icon-standard, .bp3-tag.bp3-minimal.bp3-intent-danger .bp3-icon-large{
      fill:#db3737; }
    .bp3-dark .bp3-tag.bp3-minimal.bp3-intent-danger{
      background-color:rgba(219, 55, 55, 0.25);
      color:#ff7373; }
      .bp3-dark .bp3-tag.bp3-minimal.bp3-intent-danger.bp3-interactive{
        cursor:pointer; }
        .bp3-dark .bp3-tag.bp3-minimal.bp3-intent-danger.bp3-interactive:hover{
          background-color:rgba(219, 55, 55, 0.35); }
        .bp3-dark .bp3-tag.bp3-minimal.bp3-intent-danger.bp3-interactive.bp3-active, .bp3-dark .bp3-tag.bp3-minimal.bp3-intent-danger.bp3-interactive:active{
          background-color:rgba(219, 55, 55, 0.45); }

.bp3-tag-remove{
  background:none;
  border:none;
  color:inherit;
  cursor:pointer;
  display:-webkit-box;
  display:-ms-flexbox;
  display:flex;
  margin-bottom:-2px;
  margin-right:-6px !important;
  margin-top:-2px;
  opacity:0.5;
  padding:2px;
  padding-left:0; }
  .bp3-tag-remove:hover{
    background:none;
    opacity:0.8;
    text-decoration:none; }
  .bp3-tag-remove:active{
    opacity:1; }
  .bp3-tag-remove:empty::before{
    font-family:"Icons16", sans-serif;
    font-size:16px;
    font-style:normal;
    font-weight:400;
    line-height:1;
    -moz-osx-font-smoothing:grayscale;
    -webkit-font-smoothing:antialiased;
    content:""; }
  .bp3-large .bp3-tag-remove{
    margin-right:-10px !important;
    padding:0 5px 0 0; }
    .bp3-large .bp3-tag-remove:empty::before{
      font-family:"Icons20", sans-serif;
      font-size:20px;
      font-style:normal;
      font-weight:400;
      line-height:1; }
.bp3-tag-input{
  display:-webkit-box;
  display:-ms-flexbox;
  display:flex;
  -webkit-box-orient:horizontal;
  -webkit-box-direction:normal;
      -ms-flex-direction:row;
          flex-direction:row;
  -webkit-box-align:start;
      -ms-flex-align:start;
          align-items:flex-start;
  cursor:text;
  height:auto;
  line-height:inherit;
  min-height:30px;
  padding-left:5px;
  padding-right:0; }
  .bp3-tag-input > *{
    -webkit-box-flex:0;
        -ms-flex-positive:0;
            flex-grow:0;
    -ms-flex-negative:0;
        flex-shrink:0; }
  .bp3-tag-input > .bp3-tag-input-values{
    -webkit-box-flex:1;
        -ms-flex-positive:1;
            flex-grow:1;
    -ms-flex-negative:1;
        flex-shrink:1; }
  .bp3-tag-input .bp3-tag-input-icon{
    color:#5c7080;
    margin-left:2px;
    margin-right:7px;
    margin-top:7px; }
  .bp3-tag-input .bp3-tag-input-values{
    display:-webkit-box;
    display:-ms-flexbox;
    display:flex;
    -webkit-box-orient:horizontal;
    -webkit-box-direction:normal;
        -ms-flex-direction:row;
            flex-direction:row;
    -webkit-box-align:center;
        -ms-flex-align:center;
            align-items:center;
    -ms-flex-item-align:stretch;
        align-self:stretch;
    -ms-flex-wrap:wrap;
        flex-wrap:wrap;
    margin-right:7px;
    margin-top:5px;
    min-width:0; }
    .bp3-tag-input .bp3-tag-input-values > *{
      -webkit-box-flex:0;
          -ms-flex-positive:0;
              flex-grow:0;
      -ms-flex-negative:0;
          flex-shrink:0; }
    .bp3-tag-input .bp3-tag-input-values > .bp3-fill{
      -webkit-box-flex:1;
          -ms-flex-positive:1;
              flex-grow:1;
      -ms-flex-negative:1;
          flex-shrink:1; }
    .bp3-tag-input .bp3-tag-input-values::before,
    .bp3-tag-input .bp3-tag-input-values > *{
      margin-right:5px; }
    .bp3-tag-input .bp3-tag-input-values:empty::before,
    .bp3-tag-input .bp3-tag-input-values > :last-child{
      margin-right:0; }
    .bp3-tag-input .bp3-tag-input-values:first-child .bp3-input-ghost:first-child{
      padding-left:5px; }
    .bp3-tag-input .bp3-tag-input-values > *{
      margin-bottom:5px; }
  .bp3-tag-input .bp3-tag{
    overflow-wrap:break-word; }
    .bp3-tag-input .bp3-tag.bp3-active{
      outline:rgba(19, 124, 189, 0.6) auto 2px;
      outline-offset:0;
      -moz-outline-radius:6px; }
  .bp3-tag-input .bp3-input-ghost{
    -webkit-box-flex:1;
        -ms-flex:1 1 auto;
            flex:1 1 auto;
    line-height:20px;
    width:80px; }
    .bp3-tag-input .bp3-input-ghost:disabled, .bp3-tag-input .bp3-input-ghost.bp3-disabled{
      cursor:not-allowed; }
  .bp3-tag-input .bp3-button,
  .bp3-tag-input .bp3-spinner{
    margin:3px;
    margin-left:0; }
  .bp3-tag-input .bp3-button{
    min-height:24px;
    min-width:24px;
    padding:0 7px; }
  .bp3-tag-input.bp3-large{
    height:auto;
    min-height:40px; }
    .bp3-tag-input.bp3-large::before,
    .bp3-tag-input.bp3-large > *{
      margin-right:10px; }
    .bp3-tag-input.bp3-large:empty::before,
    .bp3-tag-input.bp3-large > :last-child{
      margin-right:0; }
    .bp3-tag-input.bp3-large .bp3-tag-input-icon{
      margin-left:5px;
      margin-top:10px; }
    .bp3-tag-input.bp3-large .bp3-input-ghost{
      line-height:30px; }
    .bp3-tag-input.bp3-large .bp3-button{
      min-height:30px;
      min-width:30px;
      padding:5px 10px;
      margin:5px;
      margin-left:0; }
    .bp3-tag-input.bp3-large .bp3-spinner{
      margin:8px;
      margin-left:0; }
  .bp3-tag-input.bp3-active{
    background-color:#ffffff;
    -webkit-box-shadow:0 0 0 1px #137cbd, 0 0 0 3px rgba(19, 124, 189, 0.3), inset 0 1px 1px rgba(16, 22, 26, 0.2);
            box-shadow:0 0 0 1px #137cbd, 0 0 0 3px rgba(19, 124, 189, 0.3), inset 0 1px 1px rgba(16, 22, 26, 0.2); }
    .bp3-tag-input.bp3-active.bp3-intent-primary{
      -webkit-box-shadow:0 0 0 1px #106ba3, 0 0 0 3px rgba(16, 107, 163, 0.3), inset 0 1px 1px rgba(16, 22, 26, 0.2);
              box-shadow:0 0 0 1px #106ba3, 0 0 0 3px rgba(16, 107, 163, 0.3), inset 0 1px 1px rgba(16, 22, 26, 0.2); }
    .bp3-tag-input.bp3-active.bp3-intent-success{
      -webkit-box-shadow:0 0 0 1px #0d8050, 0 0 0 3px rgba(13, 128, 80, 0.3), inset 0 1px 1px rgba(16, 22, 26, 0.2);
              box-shadow:0 0 0 1px #0d8050, 0 0 0 3px rgba(13, 128, 80, 0.3), inset 0 1px 1px rgba(16, 22, 26, 0.2); }
    .bp3-tag-input.bp3-active.bp3-intent-warning{
      -webkit-box-shadow:0 0 0 1px #bf7326, 0 0 0 3px rgba(191, 115, 38, 0.3), inset 0 1px 1px rgba(16, 22, 26, 0.2);
              box-shadow:0 0 0 1px #bf7326, 0 0 0 3px rgba(191, 115, 38, 0.3), inset 0 1px 1px rgba(16, 22, 26, 0.2); }
    .bp3-tag-input.bp3-active.bp3-intent-danger{
      -webkit-box-shadow:0 0 0 1px #c23030, 0 0 0 3px rgba(194, 48, 48, 0.3), inset 0 1px 1px rgba(16, 22, 26, 0.2);
              box-shadow:0 0 0 1px #c23030, 0 0 0 3px rgba(194, 48, 48, 0.3), inset 0 1px 1px rgba(16, 22, 26, 0.2); }
  .bp3-dark .bp3-tag-input .bp3-tag-input-icon, .bp3-tag-input.bp3-dark .bp3-tag-input-icon{
    color:#a7b6c2; }
  .bp3-dark .bp3-tag-input .bp3-input-ghost, .bp3-tag-input.bp3-dark .bp3-input-ghost{
    color:#f5f8fa; }
    .bp3-dark .bp3-tag-input .bp3-input-ghost::-webkit-input-placeholder, .bp3-tag-input.bp3-dark .bp3-input-ghost::-webkit-input-placeholder{
      color:rgba(167, 182, 194, 0.6); }
    .bp3-dark .bp3-tag-input .bp3-input-ghost::-moz-placeholder, .bp3-tag-input.bp3-dark .bp3-input-ghost::-moz-placeholder{
      color:rgba(167, 182, 194, 0.6); }
    .bp3-dark .bp3-tag-input .bp3-input-ghost:-ms-input-placeholder, .bp3-tag-input.bp3-dark .bp3-input-ghost:-ms-input-placeholder{
      color:rgba(167, 182, 194, 0.6); }
    .bp3-dark .bp3-tag-input .bp3-input-ghost::-ms-input-placeholder, .bp3-tag-input.bp3-dark .bp3-input-ghost::-ms-input-placeholder{
      color:rgba(167, 182, 194, 0.6); }
    .bp3-dark .bp3-tag-input .bp3-input-ghost::placeholder, .bp3-tag-input.bp3-dark .bp3-input-ghost::placeholder{
      color:rgba(167, 182, 194, 0.6); }
  .bp3-dark .bp3-tag-input.bp3-active, .bp3-tag-input.bp3-dark.bp3-active{
    background-color:rgba(16, 22, 26, 0.3);
    -webkit-box-shadow:0 0 0 1px #137cbd, 0 0 0 1px #137cbd, 0 0 0 3px rgba(19, 124, 189, 0.3), inset 0 0 0 1px rgba(16, 22, 26, 0.3), inset 0 1px 1px rgba(16, 22, 26, 0.4);
            box-shadow:0 0 0 1px #137cbd, 0 0 0 1px #137cbd, 0 0 0 3px rgba(19, 124, 189, 0.3), inset 0 0 0 1px rgba(16, 22, 26, 0.3), inset 0 1px 1px rgba(16, 22, 26, 0.4); }
    .bp3-dark .bp3-tag-input.bp3-active.bp3-intent-primary, .bp3-tag-input.bp3-dark.bp3-active.bp3-intent-primary{
      -webkit-box-shadow:0 0 0 1px #106ba3, 0 0 0 3px rgba(16, 107, 163, 0.3), inset 0 0 0 1px rgba(16, 22, 26, 0.3), inset 0 1px 1px rgba(16, 22, 26, 0.4);
              box-shadow:0 0 0 1px #106ba3, 0 0 0 3px rgba(16, 107, 163, 0.3), inset 0 0 0 1px rgba(16, 22, 26, 0.3), inset 0 1px 1px rgba(16, 22, 26, 0.4); }
    .bp3-dark .bp3-tag-input.bp3-active.bp3-intent-success, .bp3-tag-input.bp3-dark.bp3-active.bp3-intent-success{
      -webkit-box-shadow:0 0 0 1px #0d8050, 0 0 0 3px rgba(13, 128, 80, 0.3), inset 0 0 0 1px rgba(16, 22, 26, 0.3), inset 0 1px 1px rgba(16, 22, 26, 0.4);
              box-shadow:0 0 0 1px #0d8050, 0 0 0 3px rgba(13, 128, 80, 0.3), inset 0 0 0 1px rgba(16, 22, 26, 0.3), inset 0 1px 1px rgba(16, 22, 26, 0.4); }
    .bp3-dark .bp3-tag-input.bp3-active.bp3-intent-warning, .bp3-tag-input.bp3-dark.bp3-active.bp3-intent-warning{
      -webkit-box-shadow:0 0 0 1px #bf7326, 0 0 0 3px rgba(191, 115, 38, 0.3), inset 0 0 0 1px rgba(16, 22, 26, 0.3), inset 0 1px 1px rgba(16, 22, 26, 0.4);
              box-shadow:0 0 0 1px #bf7326, 0 0 0 3px rgba(191, 115, 38, 0.3), inset 0 0 0 1px rgba(16, 22, 26, 0.3), inset 0 1px 1px rgba(16, 22, 26, 0.4); }
    .bp3-dark .bp3-tag-input.bp3-active.bp3-intent-danger, .bp3-tag-input.bp3-dark.bp3-active.bp3-intent-danger{
      -webkit-box-shadow:0 0 0 1px #c23030, 0 0 0 3px rgba(194, 48, 48, 0.3), inset 0 0 0 1px rgba(16, 22, 26, 0.3), inset 0 1px 1px rgba(16, 22, 26, 0.4);
              box-shadow:0 0 0 1px #c23030, 0 0 0 3px rgba(194, 48, 48, 0.3), inset 0 0 0 1px rgba(16, 22, 26, 0.3), inset 0 1px 1px rgba(16, 22, 26, 0.4); }

.bp3-input-ghost{
  background:none;
  border:none;
  -webkit-box-shadow:none;
          box-shadow:none;
  padding:0; }
  .bp3-input-ghost::-webkit-input-placeholder{
    color:rgba(92, 112, 128, 0.6);
    opacity:1; }
  .bp3-input-ghost::-moz-placeholder{
    color:rgba(92, 112, 128, 0.6);
    opacity:1; }
  .bp3-input-ghost:-ms-input-placeholder{
    color:rgba(92, 112, 128, 0.6);
    opacity:1; }
  .bp3-input-ghost::-ms-input-placeholder{
    color:rgba(92, 112, 128, 0.6);
    opacity:1; }
  .bp3-input-ghost::placeholder{
    color:rgba(92, 112, 128, 0.6);
    opacity:1; }
  .bp3-input-ghost:focus{
    outline:none !important; }
.bp3-toast{
  -webkit-box-align:start;
      -ms-flex-align:start;
          align-items:flex-start;
  background-color:#ffffff;
  border-radius:3px;
  -webkit-box-shadow:0 0 0 1px rgba(16, 22, 26, 0.1), 0 2px 4px rgba(16, 22, 26, 0.2), 0 8px 24px rgba(16, 22, 26, 0.2);
          box-shadow:0 0 0 1px rgba(16, 22, 26, 0.1), 0 2px 4px rgba(16, 22, 26, 0.2), 0 8px 24px rgba(16, 22, 26, 0.2);
  display:-webkit-box;
  display:-ms-flexbox;
  display:flex;
  margin:20px 0 0;
  max-width:500px;
  min-width:300px;
  pointer-events:all;
  position:relative !important; }
  .bp3-toast.bp3-toast-enter, .bp3-toast.bp3-toast-appear{
    -webkit-transform:translateY(-40px);
            transform:translateY(-40px); }
  .bp3-toast.bp3-toast-enter-active, .bp3-toast.bp3-toast-appear-active{
    -webkit-transform:translateY(0);
            transform:translateY(0);
    -webkit-transition-delay:0;
            transition-delay:0;
    -webkit-transition-duration:300ms;
            transition-duration:300ms;
    -webkit-transition-property:-webkit-transform;
    transition-property:-webkit-transform;
    transition-property:transform;
    transition-property:transform, -webkit-transform;
    -webkit-transition-timing-function:cubic-bezier(0.54, 1.12, 0.38, 1.11);
            transition-timing-function:cubic-bezier(0.54, 1.12, 0.38, 1.11); }
  .bp3-toast.bp3-toast-enter ~ .bp3-toast, .bp3-toast.bp3-toast-appear ~ .bp3-toast{
    -webkit-transform:translateY(-40px);
            transform:translateY(-40px); }
  .bp3-toast.bp3-toast-enter-active ~ .bp3-toast, .bp3-toast.bp3-toast-appear-active ~ .bp3-toast{
    -webkit-transform:translateY(0);
            transform:translateY(0);
    -webkit-transition-delay:0;
            transition-delay:0;
    -webkit-transition-duration:300ms;
            transition-duration:300ms;
    -webkit-transition-property:-webkit-transform;
    transition-property:-webkit-transform;
    transition-property:transform;
    transition-property:transform, -webkit-transform;
    -webkit-transition-timing-function:cubic-bezier(0.54, 1.12, 0.38, 1.11);
            transition-timing-function:cubic-bezier(0.54, 1.12, 0.38, 1.11); }
  .bp3-toast.bp3-toast-exit{
    opacity:1;
    -webkit-filter:blur(0);
            filter:blur(0); }
  .bp3-toast.bp3-toast-exit-active{
    opacity:0;
    -webkit-filter:blur(10px);
            filter:blur(10px);
    -webkit-transition-delay:0;
            transition-delay:0;
    -webkit-transition-duration:300ms;
            transition-duration:300ms;
    -webkit-transition-property:opacity, -webkit-filter;
    transition-property:opacity, -webkit-filter;
    transition-property:opacity, filter;
    transition-property:opacity, filter, -webkit-filter;
    -webkit-transition-timing-function:cubic-bezier(0.4, 1, 0.75, 0.9);
            transition-timing-function:cubic-bezier(0.4, 1, 0.75, 0.9); }
  .bp3-toast.bp3-toast-exit ~ .bp3-toast{
    -webkit-transform:translateY(0);
            transform:translateY(0); }
  .bp3-toast.bp3-toast-exit-active ~ .bp3-toast{
    -webkit-transform:translateY(-40px);
            transform:translateY(-40px);
    -webkit-transition-delay:50ms;
            transition-delay:50ms;
    -webkit-transition-duration:100ms;
            transition-duration:100ms;
    -webkit-transition-property:-webkit-transform;
    transition-property:-webkit-transform;
    transition-property:transform;
    transition-property:transform, -webkit-transform;
    -webkit-transition-timing-function:cubic-bezier(0.4, 1, 0.75, 0.9);
            transition-timing-function:cubic-bezier(0.4, 1, 0.75, 0.9); }
  .bp3-toast .bp3-button-group{
    -webkit-box-flex:0;
        -ms-flex:0 0 auto;
            flex:0 0 auto;
    padding:5px;
    padding-left:0; }
  .bp3-toast > .bp3-icon{
    color:#5c7080;
    margin:12px;
    margin-right:0; }
  .bp3-toast.bp3-dark,
  .bp3-dark .bp3-toast{
    background-color:#394b59;
    -webkit-box-shadow:0 0 0 1px rgba(16, 22, 26, 0.2), 0 2px 4px rgba(16, 22, 26, 0.4), 0 8px 24px rgba(16, 22, 26, 0.4);
            box-shadow:0 0 0 1px rgba(16, 22, 26, 0.2), 0 2px 4px rgba(16, 22, 26, 0.4), 0 8px 24px rgba(16, 22, 26, 0.4); }
    .bp3-toast.bp3-dark > .bp3-icon,
    .bp3-dark .bp3-toast > .bp3-icon{
      color:#a7b6c2; }
  .bp3-toast[class*="bp3-intent-"] a{
    color:rgba(255, 255, 255, 0.7); }
    .bp3-toast[class*="bp3-intent-"] a:hover{
      color:#ffffff; }
  .bp3-toast[class*="bp3-intent-"] > .bp3-icon{
    color:#ffffff; }
  .bp3-toast[class*="bp3-intent-"] .bp3-button, .bp3-toast[class*="bp3-intent-"] .bp3-button::before,
  .bp3-toast[class*="bp3-intent-"] .bp3-button .bp3-icon, .bp3-toast[class*="bp3-intent-"] .bp3-button:active{
    color:rgba(255, 255, 255, 0.7) !important; }
  .bp3-toast[class*="bp3-intent-"] .bp3-button:focus{
    outline-color:rgba(255, 255, 255, 0.5); }
  .bp3-toast[class*="bp3-intent-"] .bp3-button:hover{
    background-color:rgba(255, 255, 255, 0.15) !important;
    color:#ffffff !important; }
  .bp3-toast[class*="bp3-intent-"] .bp3-button:active{
    background-color:rgba(255, 255, 255, 0.3) !important;
    color:#ffffff !important; }
  .bp3-toast[class*="bp3-intent-"] .bp3-button::after{
    background:rgba(255, 255, 255, 0.3) !important; }
  .bp3-toast.bp3-intent-primary{
    background-color:#137cbd;
    color:#ffffff; }
  .bp3-toast.bp3-intent-success{
    background-color:#0f9960;
    color:#ffffff; }
  .bp3-toast.bp3-intent-warning{
    background-color:#d9822b;
    color:#ffffff; }
  .bp3-toast.bp3-intent-danger{
    background-color:#db3737;
    color:#ffffff; }

.bp3-toast-message{
  -webkit-box-flex:1;
      -ms-flex:1 1 auto;
          flex:1 1 auto;
  padding:11px;
  word-break:break-word; }

.bp3-toast-container{
  -webkit-box-align:center;
      -ms-flex-align:center;
          align-items:center;
  display:-webkit-box !important;
  display:-ms-flexbox !important;
  display:flex !important;
  -webkit-box-orient:vertical;
  -webkit-box-direction:normal;
      -ms-flex-direction:column;
          flex-direction:column;
  left:0;
  overflow:hidden;
  padding:0 20px 20px;
  pointer-events:none;
  right:0;
  z-index:40; }
  .bp3-toast-container.bp3-toast-container-in-portal{
    position:fixed; }
  .bp3-toast-container.bp3-toast-container-inline{
    position:absolute; }
  .bp3-toast-container.bp3-toast-container-top{
    top:0; }
  .bp3-toast-container.bp3-toast-container-bottom{
    bottom:0;
    -webkit-box-orient:vertical;
    -webkit-box-direction:reverse;
        -ms-flex-direction:column-reverse;
            flex-direction:column-reverse;
    top:auto; }
  .bp3-toast-container.bp3-toast-container-left{
    -webkit-box-align:start;
        -ms-flex-align:start;
            align-items:flex-start; }
  .bp3-toast-container.bp3-toast-container-right{
    -webkit-box-align:end;
        -ms-flex-align:end;
            align-items:flex-end; }

.bp3-toast-container-bottom .bp3-toast.bp3-toast-enter:not(.bp3-toast-enter-active),
.bp3-toast-container-bottom .bp3-toast.bp3-toast-enter:not(.bp3-toast-enter-active) ~ .bp3-toast, .bp3-toast-container-bottom .bp3-toast.bp3-toast-appear:not(.bp3-toast-appear-active),
.bp3-toast-container-bottom .bp3-toast.bp3-toast-appear:not(.bp3-toast-appear-active) ~ .bp3-toast,
.bp3-toast-container-bottom .bp3-toast.bp3-toast-exit-active ~ .bp3-toast,
.bp3-toast-container-bottom .bp3-toast.bp3-toast-leave-active ~ .bp3-toast{
  -webkit-transform:translateY(60px);
          transform:translateY(60px); }
.bp3-tooltip{
  -webkit-box-shadow:0 0 0 1px rgba(16, 22, 26, 0.1), 0 2px 4px rgba(16, 22, 26, 0.2), 0 8px 24px rgba(16, 22, 26, 0.2);
          box-shadow:0 0 0 1px rgba(16, 22, 26, 0.1), 0 2px 4px rgba(16, 22, 26, 0.2), 0 8px 24px rgba(16, 22, 26, 0.2);
  -webkit-transform:scale(1);
          transform:scale(1); }
  .bp3-tooltip .bp3-popover-arrow{
    height:22px;
    position:absolute;
    width:22px; }
    .bp3-tooltip .bp3-popover-arrow::before{
      height:14px;
      margin:4px;
      width:14px; }
  .bp3-tether-element-attached-bottom.bp3-tether-target-attached-top > .bp3-tooltip{
    margin-bottom:11px;
    margin-top:-11px; }
    .bp3-tether-element-attached-bottom.bp3-tether-target-attached-top > .bp3-tooltip > .bp3-popover-arrow{
      bottom:-8px; }
      .bp3-tether-element-attached-bottom.bp3-tether-target-attached-top > .bp3-tooltip > .bp3-popover-arrow svg{
        -webkit-transform:rotate(-90deg);
                transform:rotate(-90deg); }
  .bp3-tether-element-attached-left.bp3-tether-target-attached-right > .bp3-tooltip{
    margin-left:11px; }
    .bp3-tether-element-attached-left.bp3-tether-target-attached-right > .bp3-tooltip > .bp3-popover-arrow{
      left:-8px; }
      .bp3-tether-element-attached-left.bp3-tether-target-attached-right > .bp3-tooltip > .bp3-popover-arrow svg{
        -webkit-transform:rotate(0);
                transform:rotate(0); }
  .bp3-tether-element-attached-top.bp3-tether-target-attached-bottom > .bp3-tooltip{
    margin-top:11px; }
    .bp3-tether-element-attached-top.bp3-tether-target-attached-bottom > .bp3-tooltip > .bp3-popover-arrow{
      top:-8px; }
      .bp3-tether-element-attached-top.bp3-tether-target-attached-bottom > .bp3-tooltip > .bp3-popover-arrow svg{
        -webkit-transform:rotate(90deg);
                transform:rotate(90deg); }
  .bp3-tether-element-attached-right.bp3-tether-target-attached-left > .bp3-tooltip{
    margin-left:-11px;
    margin-right:11px; }
    .bp3-tether-element-attached-right.bp3-tether-target-attached-left > .bp3-tooltip > .bp3-popover-arrow{
      right:-8px; }
      .bp3-tether-element-attached-right.bp3-tether-target-attached-left > .bp3-tooltip > .bp3-popover-arrow svg{
        -webkit-transform:rotate(180deg);
                transform:rotate(180deg); }
  .bp3-tether-element-attached-middle > .bp3-tooltip > .bp3-popover-arrow{
    top:50%;
    -webkit-transform:translateY(-50%);
            transform:translateY(-50%); }
  .bp3-tether-element-attached-center > .bp3-tooltip > .bp3-popover-arrow{
    right:50%;
    -webkit-transform:translateX(50%);
            transform:translateX(50%); }
  .bp3-tether-element-attached-top.bp3-tether-target-attached-top > .bp3-tooltip > .bp3-popover-arrow{
    top:-0.22183px; }
  .bp3-tether-element-attached-right.bp3-tether-target-attached-right > .bp3-tooltip > .bp3-popover-arrow{
    right:-0.22183px; }
  .bp3-tether-element-attached-left.bp3-tether-target-attached-left > .bp3-tooltip > .bp3-popover-arrow{
    left:-0.22183px; }
  .bp3-tether-element-attached-bottom.bp3-tether-target-attached-bottom > .bp3-tooltip > .bp3-popover-arrow{
    bottom:-0.22183px; }
  .bp3-tether-element-attached-top.bp3-tether-element-attached-left > .bp3-tooltip{
    -webkit-transform-origin:top left;
            transform-origin:top left; }
  .bp3-tether-element-attached-top.bp3-tether-element-attached-center > .bp3-tooltip{
    -webkit-transform-origin:top center;
            transform-origin:top center; }
  .bp3-tether-element-attached-top.bp3-tether-element-attached-right > .bp3-tooltip{
    -webkit-transform-origin:top right;
            transform-origin:top right; }
  .bp3-tether-element-attached-middle.bp3-tether-element-attached-left > .bp3-tooltip{
    -webkit-transform-origin:center left;
            transform-origin:center left; }
  .bp3-tether-element-attached-middle.bp3-tether-element-attached-center > .bp3-tooltip{
    -webkit-transform-origin:center center;
            transform-origin:center center; }
  .bp3-tether-element-attached-middle.bp3-tether-element-attached-right > .bp3-tooltip{
    -webkit-transform-origin:center right;
            transform-origin:center right; }
  .bp3-tether-element-attached-bottom.bp3-tether-element-attached-left > .bp3-tooltip{
    -webkit-transform-origin:bottom left;
            transform-origin:bottom left; }
  .bp3-tether-element-attached-bottom.bp3-tether-element-attached-center > .bp3-tooltip{
    -webkit-transform-origin:bottom center;
            transform-origin:bottom center; }
  .bp3-tether-element-attached-bottom.bp3-tether-element-attached-right > .bp3-tooltip{
    -webkit-transform-origin:bottom right;
            transform-origin:bottom right; }
  .bp3-tooltip .bp3-popover-content{
    background:#394b59;
    color:#f5f8fa; }
  .bp3-tooltip .bp3-popover-arrow::before{
    -webkit-box-shadow:1px 1px 6px rgba(16, 22, 26, 0.2);
            box-shadow:1px 1px 6px rgba(16, 22, 26, 0.2); }
  .bp3-tooltip .bp3-popover-arrow-border{
    fill:#10161a;
    fill-opacity:0.1; }
  .bp3-tooltip .bp3-popover-arrow-fill{
    fill:#394b59; }
  .bp3-popover-enter > .bp3-tooltip, .bp3-popover-appear > .bp3-tooltip{
    -webkit-transform:scale(0.8);
            transform:scale(0.8); }
  .bp3-popover-enter-active > .bp3-tooltip, .bp3-popover-appear-active > .bp3-tooltip{
    -webkit-transform:scale(1);
            transform:scale(1);
    -webkit-transition-delay:0;
            transition-delay:0;
    -webkit-transition-duration:100ms;
            transition-duration:100ms;
    -webkit-transition-property:-webkit-transform;
    transition-property:-webkit-transform;
    transition-property:transform;
    transition-property:transform, -webkit-transform;
    -webkit-transition-timing-function:cubic-bezier(0.4, 1, 0.75, 0.9);
            transition-timing-function:cubic-bezier(0.4, 1, 0.75, 0.9); }
  .bp3-popover-exit > .bp3-tooltip{
    -webkit-transform:scale(1);
            transform:scale(1); }
  .bp3-popover-exit-active > .bp3-tooltip{
    -webkit-transform:scale(0.8);
            transform:scale(0.8);
    -webkit-transition-delay:0;
            transition-delay:0;
    -webkit-transition-duration:100ms;
            transition-duration:100ms;
    -webkit-transition-property:-webkit-transform;
    transition-property:-webkit-transform;
    transition-property:transform;
    transition-property:transform, -webkit-transform;
    -webkit-transition-timing-function:cubic-bezier(0.4, 1, 0.75, 0.9);
            transition-timing-function:cubic-bezier(0.4, 1, 0.75, 0.9); }
  .bp3-tooltip .bp3-popover-content{
    padding:10px 12px; }
  .bp3-tooltip.bp3-dark,
  .bp3-dark .bp3-tooltip{
    -webkit-box-shadow:0 0 0 1px rgba(16, 22, 26, 0.2), 0 2px 4px rgba(16, 22, 26, 0.4), 0 8px 24px rgba(16, 22, 26, 0.4);
            box-shadow:0 0 0 1px rgba(16, 22, 26, 0.2), 0 2px 4px rgba(16, 22, 26, 0.4), 0 8px 24px rgba(16, 22, 26, 0.4); }
    .bp3-tooltip.bp3-dark .bp3-popover-content,
    .bp3-dark .bp3-tooltip .bp3-popover-content{
      background:#e1e8ed;
      color:#394b59; }
    .bp3-tooltip.bp3-dark .bp3-popover-arrow::before,
    .bp3-dark .bp3-tooltip .bp3-popover-arrow::before{
      -webkit-box-shadow:1px 1px 6px rgba(16, 22, 26, 0.4);
              box-shadow:1px 1px 6px rgba(16, 22, 26, 0.4); }
    .bp3-tooltip.bp3-dark .bp3-popover-arrow-border,
    .bp3-dark .bp3-tooltip .bp3-popover-arrow-border{
      fill:#10161a;
      fill-opacity:0.2; }
    .bp3-tooltip.bp3-dark .bp3-popover-arrow-fill,
    .bp3-dark .bp3-tooltip .bp3-popover-arrow-fill{
      fill:#e1e8ed; }
  .bp3-tooltip.bp3-intent-primary .bp3-popover-content{
    background:#137cbd;
    color:#ffffff; }
  .bp3-tooltip.bp3-intent-primary .bp3-popover-arrow-fill{
    fill:#137cbd; }
  .bp3-tooltip.bp3-intent-success .bp3-popover-content{
    background:#0f9960;
    color:#ffffff; }
  .bp3-tooltip.bp3-intent-success .bp3-popover-arrow-fill{
    fill:#0f9960; }
  .bp3-tooltip.bp3-intent-warning .bp3-popover-content{
    background:#d9822b;
    color:#ffffff; }
  .bp3-tooltip.bp3-intent-warning .bp3-popover-arrow-fill{
    fill:#d9822b; }
  .bp3-tooltip.bp3-intent-danger .bp3-popover-content{
    background:#db3737;
    color:#ffffff; }
  .bp3-tooltip.bp3-intent-danger .bp3-popover-arrow-fill{
    fill:#db3737; }

.bp3-tooltip-indicator{
  border-bottom:dotted 1px;
  cursor:help; }
.bp3-tree .bp3-icon, .bp3-tree .bp3-icon-standard, .bp3-tree .bp3-icon-large{
  color:#5c7080; }
  .bp3-tree .bp3-icon.bp3-intent-primary, .bp3-tree .bp3-icon-standard.bp3-intent-primary, .bp3-tree .bp3-icon-large.bp3-intent-primary{
    color:#137cbd; }
  .bp3-tree .bp3-icon.bp3-intent-success, .bp3-tree .bp3-icon-standard.bp3-intent-success, .bp3-tree .bp3-icon-large.bp3-intent-success{
    color:#0f9960; }
  .bp3-tree .bp3-icon.bp3-intent-warning, .bp3-tree .bp3-icon-standard.bp3-intent-warning, .bp3-tree .bp3-icon-large.bp3-intent-warning{
    color:#d9822b; }
  .bp3-tree .bp3-icon.bp3-intent-danger, .bp3-tree .bp3-icon-standard.bp3-intent-danger, .bp3-tree .bp3-icon-large.bp3-intent-danger{
    color:#db3737; }

.bp3-tree-node-list{
  list-style:none;
  margin:0;
  padding-left:0; }

.bp3-tree-root{
  background-color:transparent;
  cursor:default;
  padding-left:0;
  position:relative; }

.bp3-tree-node-content-0{
  padding-left:0px; }

.bp3-tree-node-content-1{
  padding-left:23px; }

.bp3-tree-node-content-2{
  padding-left:46px; }

.bp3-tree-node-content-3{
  padding-left:69px; }

.bp3-tree-node-content-4{
  padding-left:92px; }

.bp3-tree-node-content-5{
  padding-left:115px; }

.bp3-tree-node-content-6{
  padding-left:138px; }

.bp3-tree-node-content-7{
  padding-left:161px; }

.bp3-tree-node-content-8{
  padding-left:184px; }

.bp3-tree-node-content-9{
  padding-left:207px; }

.bp3-tree-node-content-10{
  padding-left:230px; }

.bp3-tree-node-content-11{
  padding-left:253px; }

.bp3-tree-node-content-12{
  padding-left:276px; }

.bp3-tree-node-content-13{
  padding-left:299px; }

.bp3-tree-node-content-14{
  padding-left:322px; }

.bp3-tree-node-content-15{
  padding-left:345px; }

.bp3-tree-node-content-16{
  padding-left:368px; }

.bp3-tree-node-content-17{
  padding-left:391px; }

.bp3-tree-node-content-18{
  padding-left:414px; }

.bp3-tree-node-content-19{
  padding-left:437px; }

.bp3-tree-node-content-20{
  padding-left:460px; }

.bp3-tree-node-content{
  -webkit-box-align:center;
      -ms-flex-align:center;
          align-items:center;
  display:-webkit-box;
  display:-ms-flexbox;
  display:flex;
  height:30px;
  padding-right:5px;
  width:100%; }
  .bp3-tree-node-content:hover{
    background-color:rgba(191, 204, 214, 0.4); }

.bp3-tree-node-caret,
.bp3-tree-node-caret-none{
  min-width:30px; }

.bp3-tree-node-caret{
  color:#5c7080;
  cursor:pointer;
  padding:7px;
  -webkit-transform:rotate(0deg);
          transform:rotate(0deg);
  -webkit-transition:-webkit-transform 200ms cubic-bezier(0.4, 1, 0.75, 0.9);
  transition:-webkit-transform 200ms cubic-bezier(0.4, 1, 0.75, 0.9);
  transition:transform 200ms cubic-bezier(0.4, 1, 0.75, 0.9);
  transition:transform 200ms cubic-bezier(0.4, 1, 0.75, 0.9), -webkit-transform 200ms cubic-bezier(0.4, 1, 0.75, 0.9); }
  .bp3-tree-node-caret:hover{
    color:#182026; }
  .bp3-dark .bp3-tree-node-caret{
    color:#a7b6c2; }
    .bp3-dark .bp3-tree-node-caret:hover{
      color:#f5f8fa; }
  .bp3-tree-node-caret.bp3-tree-node-caret-open{
    -webkit-transform:rotate(90deg);
            transform:rotate(90deg); }
  .bp3-tree-node-caret.bp3-icon-standard::before{
    content:""; }

.bp3-tree-node-icon{
  margin-right:7px;
  position:relative; }

.bp3-tree-node-label{
  overflow:hidden;
  text-overflow:ellipsis;
  white-space:nowrap;
  word-wrap:normal;
  -webkit-box-flex:1;
      -ms-flex:1 1 auto;
          flex:1 1 auto;
  position:relative;
  -webkit-user-select:none;
     -moz-user-select:none;
      -ms-user-select:none;
          user-select:none; }
  .bp3-tree-node-label span{
    display:inline; }

.bp3-tree-node-secondary-label{
  padding:0 5px;
  -webkit-user-select:none;
     -moz-user-select:none;
      -ms-user-select:none;
          user-select:none; }
  .bp3-tree-node-secondary-label .bp3-popover-wrapper,
  .bp3-tree-node-secondary-label .bp3-popover-target{
    -webkit-box-align:center;
        -ms-flex-align:center;
            align-items:center;
    display:-webkit-box;
    display:-ms-flexbox;
    display:flex; }

.bp3-tree-node.bp3-disabled .bp3-tree-node-content{
  background-color:inherit;
  color:rgba(92, 112, 128, 0.6);
  cursor:not-allowed; }

.bp3-tree-node.bp3-disabled .bp3-tree-node-caret,
.bp3-tree-node.bp3-disabled .bp3-tree-node-icon{
  color:rgba(92, 112, 128, 0.6);
  cursor:not-allowed; }

.bp3-tree-node.bp3-tree-node-selected > .bp3-tree-node-content{
  background-color:#137cbd; }
  .bp3-tree-node.bp3-tree-node-selected > .bp3-tree-node-content,
  .bp3-tree-node.bp3-tree-node-selected > .bp3-tree-node-content .bp3-icon, .bp3-tree-node.bp3-tree-node-selected > .bp3-tree-node-content .bp3-icon-standard, .bp3-tree-node.bp3-tree-node-selected > .bp3-tree-node-content .bp3-icon-large{
    color:#ffffff; }
  .bp3-tree-node.bp3-tree-node-selected > .bp3-tree-node-content .bp3-tree-node-caret::before{
    color:rgba(255, 255, 255, 0.7); }
  .bp3-tree-node.bp3-tree-node-selected > .bp3-tree-node-content .bp3-tree-node-caret:hover::before{
    color:#ffffff; }

.bp3-dark .bp3-tree-node-content:hover{
  background-color:rgba(92, 112, 128, 0.3); }

.bp3-dark .bp3-tree .bp3-icon, .bp3-dark .bp3-tree .bp3-icon-standard, .bp3-dark .bp3-tree .bp3-icon-large{
  color:#a7b6c2; }
  .bp3-dark .bp3-tree .bp3-icon.bp3-intent-primary, .bp3-dark .bp3-tree .bp3-icon-standard.bp3-intent-primary, .bp3-dark .bp3-tree .bp3-icon-large.bp3-intent-primary{
    color:#137cbd; }
  .bp3-dark .bp3-tree .bp3-icon.bp3-intent-success, .bp3-dark .bp3-tree .bp3-icon-standard.bp3-intent-success, .bp3-dark .bp3-tree .bp3-icon-large.bp3-intent-success{
    color:#0f9960; }
  .bp3-dark .bp3-tree .bp3-icon.bp3-intent-warning, .bp3-dark .bp3-tree .bp3-icon-standard.bp3-intent-warning, .bp3-dark .bp3-tree .bp3-icon-large.bp3-intent-warning{
    color:#d9822b; }
  .bp3-dark .bp3-tree .bp3-icon.bp3-intent-danger, .bp3-dark .bp3-tree .bp3-icon-standard.bp3-intent-danger, .bp3-dark .bp3-tree .bp3-icon-large.bp3-intent-danger{
    color:#db3737; }

.bp3-dark .bp3-tree-node.bp3-tree-node-selected > .bp3-tree-node-content{
  background-color:#137cbd; }
.bp3-omnibar{
  -webkit-filter:blur(0);
          filter:blur(0);
  opacity:1;
  background-color:#ffffff;
  border-radius:3px;
  -webkit-box-shadow:0 0 0 1px rgba(16, 22, 26, 0.1), 0 4px 8px rgba(16, 22, 26, 0.2), 0 18px 46px 6px rgba(16, 22, 26, 0.2);
          box-shadow:0 0 0 1px rgba(16, 22, 26, 0.1), 0 4px 8px rgba(16, 22, 26, 0.2), 0 18px 46px 6px rgba(16, 22, 26, 0.2);
  left:calc(50% - 250px);
  top:20vh;
  width:500px;
  z-index:21; }
  .bp3-omnibar.bp3-overlay-enter, .bp3-omnibar.bp3-overlay-appear{
    -webkit-filter:blur(20px);
            filter:blur(20px);
    opacity:0.2; }
  .bp3-omnibar.bp3-overlay-enter-active, .bp3-omnibar.bp3-overlay-appear-active{
    -webkit-filter:blur(0);
            filter:blur(0);
    opacity:1;
    -webkit-transition-delay:0;
            transition-delay:0;
    -webkit-transition-duration:200ms;
            transition-duration:200ms;
    -webkit-transition-property:opacity, -webkit-filter;
    transition-property:opacity, -webkit-filter;
    transition-property:filter, opacity;
    transition-property:filter, opacity, -webkit-filter;
    -webkit-transition-timing-function:cubic-bezier(0.4, 1, 0.75, 0.9);
            transition-timing-function:cubic-bezier(0.4, 1, 0.75, 0.9); }
  .bp3-omnibar.bp3-overlay-exit{
    -webkit-filter:blur(0);
            filter:blur(0);
    opacity:1; }
  .bp3-omnibar.bp3-overlay-exit-active{
    -webkit-filter:blur(20px);
            filter:blur(20px);
    opacity:0.2;
    -webkit-transition-delay:0;
            transition-delay:0;
    -webkit-transition-duration:200ms;
            transition-duration:200ms;
    -webkit-transition-property:opacity, -webkit-filter;
    transition-property:opacity, -webkit-filter;
    transition-property:filter, opacity;
    transition-property:filter, opacity, -webkit-filter;
    -webkit-transition-timing-function:cubic-bezier(0.4, 1, 0.75, 0.9);
            transition-timing-function:cubic-bezier(0.4, 1, 0.75, 0.9); }
  .bp3-omnibar .bp3-input{
    background-color:transparent;
    border-radius:0; }
    .bp3-omnibar .bp3-input, .bp3-omnibar .bp3-input:focus{
      -webkit-box-shadow:none;
              box-shadow:none; }
  .bp3-omnibar .bp3-menu{
    background-color:transparent;
    border-radius:0;
    -webkit-box-shadow:inset 0 1px 0 rgba(16, 22, 26, 0.15);
            box-shadow:inset 0 1px 0 rgba(16, 22, 26, 0.15);
    max-height:calc(60vh - 40px);
    overflow:auto; }
    .bp3-omnibar .bp3-menu:empty{
      display:none; }
  .bp3-dark .bp3-omnibar, .bp3-omnibar.bp3-dark{
    background-color:#30404d;
    -webkit-box-shadow:0 0 0 1px rgba(16, 22, 26, 0.2), 0 4px 8px rgba(16, 22, 26, 0.4), 0 18px 46px 6px rgba(16, 22, 26, 0.4);
            box-shadow:0 0 0 1px rgba(16, 22, 26, 0.2), 0 4px 8px rgba(16, 22, 26, 0.4), 0 18px 46px 6px rgba(16, 22, 26, 0.4); }

.bp3-omnibar-overlay .bp3-overlay-backdrop{
  background-color:rgba(16, 22, 26, 0.2); }

.bp3-select-popover .bp3-popover-content{
  padding:5px; }

.bp3-select-popover .bp3-input-group{
  margin-bottom:0; }

.bp3-select-popover .bp3-menu{
  max-height:300px;
  max-width:400px;
  overflow:auto;
  padding:0; }
  .bp3-select-popover .bp3-menu:not(:first-child){
    padding-top:5px; }

.bp3-multi-select{
  min-width:150px; }

.bp3-multi-select-popover .bp3-menu{
  max-height:300px;
  max-width:400px;
  overflow:auto; }

.bp3-select-popover .bp3-popover-content{
  padding:5px; }

.bp3-select-popover .bp3-input-group{
  margin-bottom:0; }

.bp3-select-popover .bp3-menu{
  max-height:300px;
  max-width:400px;
  overflow:auto;
  padding:0; }
  .bp3-select-popover .bp3-menu:not(:first-child){
    padding-top:5px; }
/*-----------------------------------------------------------------------------
| Copyright (c) Jupyter Development Team.
| Distributed under the terms of the Modified BSD License.
|----------------------------------------------------------------------------*/

/* This file was auto-generated by ensureUiComponents() in @jupyterlab/buildutils */

/**
 * (DEPRECATED) Support for consuming icons as CSS background images
 */

/* Icons urls */

:root {
  --jp-icon-add: url(data:image/svg+xml;base64,PHN2ZyB4bWxucz0iaHR0cDovL3d3dy53My5vcmcvMjAwMC9zdmciIHdpZHRoPSIxNiIgdmlld0JveD0iMCAwIDI0IDI0Ij4KICA8ZyBjbGFzcz0ianAtaWNvbjMiIGZpbGw9IiM2MTYxNjEiPgogICAgPHBhdGggZD0iTTE5IDEzaC02djZoLTJ2LTZINXYtMmg2VjVoMnY2aDZ2MnoiLz4KICA8L2c+Cjwvc3ZnPgo=);
  --jp-icon-bug: url(data:image/svg+xml;base64,PHN2ZyB2aWV3Qm94PSIwIDAgMjQgMjQiIHdpZHRoPSIxNiIgeG1sbnM9Imh0dHA6Ly93d3cudzMub3JnLzIwMDAvc3ZnIj4KICA8ZyBjbGFzcz0ianAtaWNvbjMganAtaWNvbi1zZWxlY3RhYmxlIiBmaWxsPSIjNjE2MTYxIj4KICAgIDxwYXRoIGQ9Ik0yMCA4aC0yLjgxYy0uNDUtLjc4LTEuMDctMS40NS0xLjgyLTEuOTZMMTcgNC40MSAxNS41OSAzbC0yLjE3IDIuMTdDMTIuOTYgNS4wNiAxMi40OSA1IDEyIDVjLS40OSAwLS45Ni4wNi0xLjQxLjE3TDguNDEgMyA3IDQuNDFsMS42MiAxLjYzQzcuODggNi41NSA3LjI2IDcuMjIgNi44MSA4SDR2MmgyLjA5Yy0uMDUuMzMtLjA5LjY2LS4wOSAxdjFINHYyaDJ2MWMwIC4zNC4wNC42Ny4wOSAxSDR2MmgyLjgxYzEuMDQgMS43OSAyLjk3IDMgNS4xOSAzczQuMTUtMS4yMSA1LjE5LTNIMjB2LTJoLTIuMDljLjA1LS4zMy4wOS0uNjYuMDktMXYtMWgydi0yaC0ydi0xYzAtLjM0LS4wNC0uNjctLjA5LTFIMjBWOHptLTYgOGgtNHYtMmg0djJ6bTAtNGgtNHYtMmg0djJ6Ii8+CiAgPC9nPgo8L3N2Zz4K);
  --jp-icon-build: url(data:image/svg+xml;base64,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);
  --jp-icon-caret-down-empty-thin: url(data:image/svg+xml;base64,PHN2ZyB4bWxucz0iaHR0cDovL3d3dy53My5vcmcvMjAwMC9zdmciIHdpZHRoPSIxNiIgdmlld0JveD0iMCAwIDIwIDIwIj4KCTxnIGNsYXNzPSJqcC1pY29uMyIgZmlsbD0iIzYxNjE2MSIgc2hhcGUtcmVuZGVyaW5nPSJnZW9tZXRyaWNQcmVjaXNpb24iPgoJCTxwb2x5Z29uIGNsYXNzPSJzdDEiIHBvaW50cz0iOS45LDEzLjYgMy42LDcuNCA0LjQsNi42IDkuOSwxMi4yIDE1LjQsNi43IDE2LjEsNy40ICIvPgoJPC9nPgo8L3N2Zz4K);
  --jp-icon-caret-down-empty: url(data:image/svg+xml;base64,PHN2ZyB4bWxucz0iaHR0cDovL3d3dy53My5vcmcvMjAwMC9zdmciIHdpZHRoPSIxNiIgdmlld0JveD0iMCAwIDE4IDE4Ij4KICA8ZyBjbGFzcz0ianAtaWNvbjMiIGZpbGw9IiM2MTYxNjEiIHNoYXBlLXJlbmRlcmluZz0iZ2VvbWV0cmljUHJlY2lzaW9uIj4KICAgIDxwYXRoIGQ9Ik01LjIsNS45TDksOS43bDMuOC0zLjhsMS4yLDEuMmwtNC45LDVsLTQuOS01TDUuMiw1Ljl6Ii8+CiAgPC9nPgo8L3N2Zz4K);
  --jp-icon-caret-down: url(data:image/svg+xml;base64,PHN2ZyB4bWxucz0iaHR0cDovL3d3dy53My5vcmcvMjAwMC9zdmciIHdpZHRoPSIxNiIgdmlld0JveD0iMCAwIDE4IDE4Ij4KICA8ZyBjbGFzcz0ianAtaWNvbjMiIGZpbGw9IiM2MTYxNjEiIHNoYXBlLXJlbmRlcmluZz0iZ2VvbWV0cmljUHJlY2lzaW9uIj4KICAgIDxwYXRoIGQ9Ik01LjIsNy41TDksMTEuMmwzLjgtMy44SDUuMnoiLz4KICA8L2c+Cjwvc3ZnPgo=);
  --jp-icon-caret-left: url(data:image/svg+xml;base64,PHN2ZyB4bWxucz0iaHR0cDovL3d3dy53My5vcmcvMjAwMC9zdmciIHdpZHRoPSIxNiIgdmlld0JveD0iMCAwIDE4IDE4Ij4KCTxnIGNsYXNzPSJqcC1pY29uMyIgZmlsbD0iIzYxNjE2MSIgc2hhcGUtcmVuZGVyaW5nPSJnZW9tZXRyaWNQcmVjaXNpb24iPgoJCTxwYXRoIGQ9Ik0xMC44LDEyLjhMNy4xLDlsMy44LTMuOGwwLDcuNkgxMC44eiIvPgogIDwvZz4KPC9zdmc+Cg==);
  --jp-icon-caret-right: url(data:image/svg+xml;base64,PHN2ZyB4bWxucz0iaHR0cDovL3d3dy53My5vcmcvMjAwMC9zdmciIHdpZHRoPSIxNiIgdmlld0JveD0iMCAwIDE4IDE4Ij4KICA8ZyBjbGFzcz0ianAtaWNvbjMiIGZpbGw9IiM2MTYxNjEiIHNoYXBlLXJlbmRlcmluZz0iZ2VvbWV0cmljUHJlY2lzaW9uIj4KICAgIDxwYXRoIGQ9Ik03LjIsNS4yTDEwLjksOWwtMy44LDMuOFY1LjJINy4yeiIvPgogIDwvZz4KPC9zdmc+Cg==);
  --jp-icon-caret-up-empty-thin: url(data:image/svg+xml;base64,PHN2ZyB4bWxucz0iaHR0cDovL3d3dy53My5vcmcvMjAwMC9zdmciIHdpZHRoPSIxNiIgdmlld0JveD0iMCAwIDIwIDIwIj4KCTxnIGNsYXNzPSJqcC1pY29uMyIgZmlsbD0iIzYxNjE2MSIgc2hhcGUtcmVuZGVyaW5nPSJnZW9tZXRyaWNQcmVjaXNpb24iPgoJCTxwb2x5Z29uIGNsYXNzPSJzdDEiIHBvaW50cz0iMTUuNCwxMy4zIDkuOSw3LjcgNC40LDEzLjIgMy42LDEyLjUgOS45LDYuMyAxNi4xLDEyLjYgIi8+Cgk8L2c+Cjwvc3ZnPgo=);
  --jp-icon-caret-up: url(data:image/svg+xml;base64,PHN2ZyB4bWxucz0iaHR0cDovL3d3dy53My5vcmcvMjAwMC9zdmciIHdpZHRoPSIxNiIgdmlld0JveD0iMCAwIDE4IDE4Ij4KCTxnIGNsYXNzPSJqcC1pY29uMyIgZmlsbD0iIzYxNjE2MSIgc2hhcGUtcmVuZGVyaW5nPSJnZW9tZXRyaWNQcmVjaXNpb24iPgoJCTxwYXRoIGQ9Ik01LjIsMTAuNUw5LDYuOGwzLjgsMy44SDUuMnoiLz4KICA8L2c+Cjwvc3ZnPgo=);
  --jp-icon-case-sensitive: url(data:image/svg+xml;base64,PHN2ZyB4bWxucz0iaHR0cDovL3d3dy53My5vcmcvMjAwMC9zdmciIHdpZHRoPSIxNiIgdmlld0JveD0iMCAwIDIwIDIwIj4KICA8ZyBjbGFzcz0ianAtaWNvbjIiIGZpbGw9IiM0MTQxNDEiPgogICAgPHJlY3QgeD0iMiIgeT0iMiIgd2lkdGg9IjE2IiBoZWlnaHQ9IjE2Ii8+CiAgPC9nPgogIDxnIGNsYXNzPSJqcC1pY29uLWFjY2VudDIiIGZpbGw9IiNGRkYiPgogICAgPHBhdGggZD0iTTcuNiw4aDAuOWwzLjUsOGgtMS4xTDEwLDE0SDZsLTAuOSwySDRMNy42LDh6IE04LDkuMUw2LjQsMTNoMy4yTDgsOS4xeiIvPgogICAgPHBhdGggZD0iTTE2LjYsOS44Yy0wLjIsMC4xLTAuNCwwLjEtMC43LDAuMWMtMC4yLDAtMC40LTAuMS0wLjYtMC4yYy0wLjEtMC4xLTAuMi0wLjQtMC4yLTAuNyBjLTAuMywwLjMtMC42LDAuNS0wLjksMC43Yy0wLjMsMC4xLTAuNywwLjItMS4xLDAuMmMtMC4zLDAtMC41LDAtMC43LTAuMWMtMC4yLTAuMS0wLjQtMC4yLTAuNi0wLjNjLTAuMi0wLjEtMC4zLTAuMy0wLjQtMC41IGMtMC4xLTAuMi0wLjEtMC40LTAuMS0wLjdjMC0wLjMsMC4xLTAuNiwwLjItMC44YzAuMS0wLjIsMC4zLTAuNCwwLjQtMC41QzEyLDcsMTIuMiw2LjksMTIuNSw2LjhjMC4yLTAuMSwwLjUtMC4xLDAuNy0wLjIgYzAuMy0wLjEsMC41LTAuMSwwLjctMC4xYzAuMiwwLDAuNC0wLjEsMC42LTAuMWMwLjIsMCwwLjMtMC4xLDAuNC0wLjJjMC4xLTAuMSwwLjItMC4yLDAuMi0wLjRjMC0xLTEuMS0xLTEuMy0xIGMtMC40LDAtMS40LDAtMS40LDEuMmgtMC45YzAtMC40LDAuMS0wLjcsMC4yLTFjMC4xLTAuMiwwLjMtMC40LDAuNS0wLjZjMC4yLTAuMiwwLjUtMC4zLDAuOC0wLjNDMTMuMyw0LDEzLjYsNCwxMy45LDQgYzAuMywwLDAuNSwwLDAuOCwwLjFjMC4zLDAsMC41LDAuMSwwLjcsMC4yYzAuMiwwLjEsMC40LDAuMywwLjUsMC41QzE2LDUsMTYsNS4yLDE2LDUuNnYyLjljMCwwLjIsMCwwLjQsMCwwLjUgYzAsMC4xLDAuMSwwLjIsMC4zLDAuMmMwLjEsMCwwLjIsMCwwLjMsMFY5Ljh6IE0xNS4yLDYuOWMtMS4yLDAuNi0zLjEsMC4yLTMuMSwxLjRjMCwxLjQsMy4xLDEsMy4xLTAuNVY2Ljl6Ii8+CiAgPC9nPgo8L3N2Zz4K);
  --jp-icon-check: url(data:image/svg+xml;base64,PHN2ZyB4bWxucz0iaHR0cDovL3d3dy53My5vcmcvMjAwMC9zdmciIHdpZHRoPSIxNiIgdmlld0JveD0iMCAwIDI0IDI0Ij4KICA8ZyBjbGFzcz0ianAtaWNvbjMganAtaWNvbi1zZWxlY3RhYmxlIiBmaWxsPSIjNjE2MTYxIj4KICAgIDxwYXRoIGQ9Ik05IDE2LjE3TDQuODMgMTJsLTEuNDIgMS40MUw5IDE5IDIxIDdsLTEuNDEtMS40MXoiLz4KICA8L2c+Cjwvc3ZnPgo=);
  --jp-icon-circle-empty: url(data:image/svg+xml;base64,PHN2ZyB4bWxucz0iaHR0cDovL3d3dy53My5vcmcvMjAwMC9zdmciIHdpZHRoPSIxNiIgdmlld0JveD0iMCAwIDI0IDI0Ij4KICA8ZyBjbGFzcz0ianAtaWNvbjMiIGZpbGw9IiM2MTYxNjEiPgogICAgPHBhdGggZD0iTTEyIDJDNi40NyAyIDIgNi40NyAyIDEyczQuNDcgMTAgMTAgMTAgMTAtNC40NyAxMC0xMFMxNy41MyAyIDEyIDJ6bTAgMThjLTQuNDEgMC04LTMuNTktOC04czMuNTktOCA4LTggOCAzLjU5IDggOC0zLjU5IDgtOCA4eiIvPgogIDwvZz4KPC9zdmc+Cg==);
  --jp-icon-circle: url(data:image/svg+xml;base64,PHN2ZyB2aWV3Qm94PSIwIDAgMTggMTgiIHdpZHRoPSIxNiIgeG1sbnM9Imh0dHA6Ly93d3cudzMub3JnLzIwMDAvc3ZnIj4KICA8ZyBjbGFzcz0ianAtaWNvbjMiIGZpbGw9IiM2MTYxNjEiPgogICAgPGNpcmNsZSBjeD0iOSIgY3k9IjkiIHI9IjgiLz4KICA8L2c+Cjwvc3ZnPgo=);
  --jp-icon-clear: url(data:image/svg+xml;base64,PHN2ZyB4bWxucz0iaHR0cDovL3d3dy53My5vcmcvMjAwMC9zdmciIHdpZHRoPSIxNiIgdmlld0JveD0iMCAwIDI0IDI0Ij4KICA8bWFzayBpZD0iZG9udXRIb2xlIj4KICAgIDxyZWN0IHdpZHRoPSIyNCIgaGVpZ2h0PSIyNCIgZmlsbD0id2hpdGUiIC8+CiAgICA8Y2lyY2xlIGN4PSIxMiIgY3k9IjEyIiByPSI4IiBmaWxsPSJibGFjayIvPgogIDwvbWFzaz4KCiAgPGcgY2xhc3M9ImpwLWljb24zIiBmaWxsPSIjNjE2MTYxIj4KICAgIDxyZWN0IGhlaWdodD0iMTgiIHdpZHRoPSIyIiB4PSIxMSIgeT0iMyIgdHJhbnNmb3JtPSJyb3RhdGUoMzE1LCAxMiwgMTIpIi8+CiAgICA8Y2lyY2xlIGN4PSIxMiIgY3k9IjEyIiByPSIxMCIgbWFzaz0idXJsKCNkb251dEhvbGUpIi8+CiAgPC9nPgo8L3N2Zz4K);
  --jp-icon-close: url(data:image/svg+xml;base64,PHN2ZyB2aWV3Qm94PSIwIDAgMjQgMjQiIHdpZHRoPSIxNiIgeG1sbnM9Imh0dHA6Ly93d3cudzMub3JnLzIwMDAvc3ZnIj4KICA8ZyBjbGFzcz0ianAtaWNvbi1ub25lIGpwLWljb24tc2VsZWN0YWJsZS1pbnZlcnNlIGpwLWljb24zLWhvdmVyIiBmaWxsPSJub25lIj4KICAgIDxjaXJjbGUgY3g9IjEyIiBjeT0iMTIiIHI9IjExIi8+CiAgPC9nPgoKICA8ZyBjbGFzcz0ianAtaWNvbjMganAtaWNvbi1zZWxlY3RhYmxlIGpwLWljb24tYWNjZW50Mi1ob3ZlciIgZmlsbD0iIzYxNjE2MSI+CiAgICA8cGF0aCBkPSJNMTkgNi40MUwxNy41OSA1IDEyIDEwLjU5IDYuNDEgNSA1IDYuNDEgMTAuNTkgMTIgNSAxNy41OSA2LjQxIDE5IDEyIDEzLjQxIDE3LjU5IDE5IDE5IDE3LjU5IDEzLjQxIDEyeiIvPgogIDwvZz4KCiAgPGcgY2xhc3M9ImpwLWljb24tbm9uZSBqcC1pY29uLWJ1c3kiIGZpbGw9Im5vbmUiPgogICAgPGNpcmNsZSBjeD0iMTIiIGN5PSIxMiIgcj0iNyIvPgogIDwvZz4KPC9zdmc+Cg==);
  --jp-icon-code: url(data:image/svg+xml;base64,PHN2ZyB3aWR0aD0iMjIiIGhlaWdodD0iMjIiIHZpZXdCb3g9IjAgMCAyOCAyOCIgeG1sbnM9Imh0dHA6Ly93d3cudzMub3JnLzIwMDAvc3ZnIj4KCTxnIGNsYXNzPSJqcC1pY29uMyIgZmlsbD0iIzYxNjE2MSI+CgkJPHBhdGggZD0iTTExLjQgMTguNkw2LjggMTRMMTEuNCA5LjRMMTAgOEw0IDE0TDEwIDIwTDExLjQgMTguNlpNMTYuNiAxOC42TDIxLjIgMTRMMTYuNiA5LjRMMTggOEwyNCAxNEwxOCAyMEwxNi42IDE4LjZWMTguNloiLz4KCTwvZz4KPC9zdmc+Cg==);
  --jp-icon-console: url(data:image/svg+xml;base64,PHN2ZyB4bWxucz0iaHR0cDovL3d3dy53My5vcmcvMjAwMC9zdmciIHdpZHRoPSIxNiIgdmlld0JveD0iMCAwIDIwMCAyMDAiPgogIDxnIGNsYXNzPSJqcC1pY29uLWJyYW5kMSBqcC1pY29uLXNlbGVjdGFibGUiIGZpbGw9IiMwMjg4RDEiPgogICAgPHBhdGggZD0iTTIwIDE5LjhoMTYwdjE1OS45SDIweiIvPgogIDwvZz4KICA8ZyBjbGFzcz0ianAtaWNvbi1zZWxlY3RhYmxlLWludmVyc2UiIGZpbGw9IiNmZmYiPgogICAgPHBhdGggZD0iTTEwNSAxMjcuM2g0MHYxMi44aC00MHpNNTEuMSA3N0w3NCA5OS45bC0yMy4zIDIzLjMgMTAuNSAxMC41IDIzLjMtMjMuM0w5NSA5OS45IDg0LjUgODkuNCA2MS42IDY2LjV6Ii8+CiAgPC9nPgo8L3N2Zz4K);
  --jp-icon-copy: url(data:image/svg+xml;base64,PHN2ZyB2aWV3Qm94PSIwIDAgMTggMTgiIHdpZHRoPSIxNiIgeG1sbnM9Imh0dHA6Ly93d3cudzMub3JnLzIwMDAvc3ZnIj4KICA8ZyBjbGFzcz0ianAtaWNvbjMiIGZpbGw9IiM2MTYxNjEiPgogICAgPHBhdGggZD0iTTExLjksMUgzLjJDMi40LDEsMS43LDEuNywxLjcsMi41djEwLjJoMS41VjIuNWg4LjdWMXogTTE0LjEsMy45aC04Yy0wLjgsMC0xLjUsMC43LTEuNSwxLjV2MTAuMmMwLDAuOCwwLjcsMS41LDEuNSwxLjVoOCBjMC44LDAsMS41LTAuNywxLjUtMS41VjUuNEMxNS41LDQuNiwxNC45LDMuOSwxNC4xLDMuOXogTTE0LjEsMTUuNWgtOFY1LjRoOFYxNS41eiIvPgogIDwvZz4KPC9zdmc+Cg==);
  --jp-icon-copyright: url(data:image/svg+xml;base64,PHN2ZyB4bWxucz0iaHR0cDovL3d3dy53My5vcmcvMjAwMC9zdmciIGVuYWJsZS1iYWNrZ3JvdW5kPSJuZXcgMCAwIDI0IDI0IiBoZWlnaHQ9IjI0IiB2aWV3Qm94PSIwIDAgMjQgMjQiIHdpZHRoPSIyNCI+CiAgPGcgY2xhc3M9ImpwLWljb24zIiBmaWxsPSIjNjE2MTYxIj4KICAgIDxwYXRoIGQ9Ik0xMS44OCw5LjE0YzEuMjgsMC4wNiwxLjYxLDEuMTUsMS42MywxLjY2aDEuNzljLTAuMDgtMS45OC0xLjQ5LTMuMTktMy40NS0zLjE5QzkuNjQsNy42MSw4LDksOCwxMi4xNCBjMCwxLjk0LDAuOTMsNC4yNCwzLjg0LDQuMjRjMi4yMiwwLDMuNDEtMS42NSwzLjQ0LTIuOTVoLTEuNzljLTAuMDMsMC41OS0wLjQ1LDEuMzgtMS42MywxLjQ0QzEwLjU1LDE0LjgzLDEwLDEzLjgxLDEwLDEyLjE0IEMxMCw5LjI1LDExLjI4LDkuMTYsMTEuODgsOS4xNHogTTEyLDJDNi40OCwyLDIsNi40OCwyLDEyczQuNDgsMTAsMTAsMTBzMTAtNC40OCwxMC0xMFMxNy41MiwyLDEyLDJ6IE0xMiwyMGMtNC40MSwwLTgtMy41OS04LTggczMuNTktOCw4LThzOCwzLjU5LDgsOFMxNi40MSwyMCwxMiwyMHoiLz4KICA8L2c+Cjwvc3ZnPgo=);
  --jp-icon-cut: url(data:image/svg+xml;base64,PHN2ZyB2aWV3Qm94PSIwIDAgMjQgMjQiIHdpZHRoPSIxNiIgeG1sbnM9Imh0dHA6Ly93d3cudzMub3JnLzIwMDAvc3ZnIj4KICA8ZyBjbGFzcz0ianAtaWNvbjMiIGZpbGw9IiM2MTYxNjEiPgogICAgPHBhdGggZD0iTTkuNjQgNy42NGMuMjMtLjUuMzYtMS4wNS4zNi0xLjY0IDAtMi4yMS0xLjc5LTQtNC00UzIgMy43OSAyIDZzMS43OSA0IDQgNGMuNTkgMCAxLjE0LS4xMyAxLjY0LS4zNkwxMCAxMmwtMi4zNiAyLjM2QzcuMTQgMTQuMTMgNi41OSAxNCA2IDE0Yy0yLjIxIDAtNCAxLjc5LTQgNHMxLjc5IDQgNCA0IDQtMS43OSA0LTRjMC0uNTktLjEzLTEuMTQtLjM2LTEuNjRMMTIgMTRsNyA3aDN2LTFMOS42NCA3LjY0ek02IDhjLTEuMSAwLTItLjg5LTItMnMuOS0yIDItMiAyIC44OSAyIDItLjkgMi0yIDJ6bTAgMTJjLTEuMSAwLTItLjg5LTItMnMuOS0yIDItMiAyIC44OSAyIDItLjkgMi0yIDJ6bTYtNy41Yy0uMjggMC0uNS0uMjItLjUtLjVzLjIyLS41LjUtLjUuNS4yMi41LjUtLjIyLjUtLjUuNXpNMTkgM2wtNiA2IDIgMiA3LTdWM3oiLz4KICA8L2c+Cjwvc3ZnPgo=);
  --jp-icon-download: url(data:image/svg+xml;base64,PHN2ZyB2aWV3Qm94PSIwIDAgMjQgMjQiIHdpZHRoPSIxNiIgeG1sbnM9Imh0dHA6Ly93d3cudzMub3JnLzIwMDAvc3ZnIj4KICA8ZyBjbGFzcz0ianAtaWNvbjMiIGZpbGw9IiM2MTYxNjEiPgogICAgPHBhdGggZD0iTTE5IDloLTRWM0g5djZINWw3IDcgNy03ek01IDE4djJoMTR2LTJINXoiLz4KICA8L2c+Cjwvc3ZnPgo=);
  --jp-icon-edit: url(data:image/svg+xml;base64,PHN2ZyB2aWV3Qm94PSIwIDAgMjQgMjQiIHdpZHRoPSIxNiIgeG1sbnM9Imh0dHA6Ly93d3cudzMub3JnLzIwMDAvc3ZnIj4KICA8ZyBjbGFzcz0ianAtaWNvbjMiIGZpbGw9IiM2MTYxNjEiPgogICAgPHBhdGggZD0iTTMgMTcuMjVWMjFoMy43NUwxNy44MSA5Ljk0bC0zLjc1LTMuNzVMMyAxNy4yNXpNMjAuNzEgNy4wNGMuMzktLjM5LjM5LTEuMDIgMC0xLjQxbC0yLjM0LTIuMzRjLS4zOS0uMzktMS4wMi0uMzktMS40MSAwbC0xLjgzIDEuODMgMy43NSAzLjc1IDEuODMtMS44M3oiLz4KICA8L2c+Cjwvc3ZnPgo=);
  --jp-icon-ellipses: url(data:image/svg+xml;base64,PHN2ZyB2aWV3Qm94PSIwIDAgMjQgMjQiIHdpZHRoPSIxNiIgeG1sbnM9Imh0dHA6Ly93d3cudzMub3JnLzIwMDAvc3ZnIj4KICA8ZyBjbGFzcz0ianAtaWNvbjMiIGZpbGw9IiM2MTYxNjEiPgogICAgPGNpcmNsZSBjeD0iNSIgY3k9IjEyIiByPSIyIi8+CiAgICA8Y2lyY2xlIGN4PSIxMiIgY3k9IjEyIiByPSIyIi8+CiAgICA8Y2lyY2xlIGN4PSIxOSIgY3k9IjEyIiByPSIyIi8+CiAgPC9nPgo8L3N2Zz4K);
  --jp-icon-extension: url(data:image/svg+xml;base64,PHN2ZyB4bWxucz0iaHR0cDovL3d3dy53My5vcmcvMjAwMC9zdmciIHdpZHRoPSIxNiIgdmlld0JveD0iMCAwIDI0IDI0Ij4KICA8ZyBjbGFzcz0ianAtaWNvbjMiIGZpbGw9IiM2MTYxNjEiPgogICAgPHBhdGggZD0iTTIwLjUgMTFIMTlWN2MwLTEuMS0uOS0yLTItMmgtNFYzLjVDMTMgMi4xMiAxMS44OCAxIDEwLjUgMVM4IDIuMTIgOCAzLjVWNUg0Yy0xLjEgMC0xLjk5LjktMS45OSAydjMuOEgzLjVjMS40OSAwIDIuNyAxLjIxIDIuNyAyLjdzLTEuMjEgMi43LTIuNyAyLjdIMlYyMGMwIDEuMS45IDIgMiAyaDMuOHYtMS41YzAtMS40OSAxLjIxLTIuNyAyLjctMi43IDEuNDkgMCAyLjcgMS4yMSAyLjcgMi43VjIySDE3YzEuMSAwIDItLjkgMi0ydi00aDEuNWMxLjM4IDAgMi41LTEuMTIgMi41LTIuNVMyMS44OCAxMSAyMC41IDExeiIvPgogIDwvZz4KPC9zdmc+Cg==);
  --jp-icon-fast-forward: url(data:image/svg+xml;base64,PHN2ZyB4bWxucz0iaHR0cDovL3d3dy53My5vcmcvMjAwMC9zdmciIHdpZHRoPSIyNCIgaGVpZ2h0PSIyNCIgdmlld0JveD0iMCAwIDI0IDI0Ij4KICAgIDxnIGNsYXNzPSJqcC1pY29uMyIgZmlsbD0iIzYxNjE2MSI+CiAgICAgICAgPHBhdGggZD0iTTQgMThsOC41LTZMNCA2djEyem05LTEydjEybDguNS02TDEzIDZ6Ii8+CiAgICA8L2c+Cjwvc3ZnPgo=);
  --jp-icon-file-upload: url(data:image/svg+xml;base64,PHN2ZyB4bWxucz0iaHR0cDovL3d3dy53My5vcmcvMjAwMC9zdmciIHdpZHRoPSIxNiIgdmlld0JveD0iMCAwIDI0IDI0Ij4KICA8ZyBjbGFzcz0ianAtaWNvbjMiIGZpbGw9IiM2MTYxNjEiPgogICAgPHBhdGggZD0iTTkgMTZoNnYtNmg0bC03LTctNyA3aDR6bS00IDJoMTR2Mkg1eiIvPgogIDwvZz4KPC9zdmc+Cg==);
  --jp-icon-file: url(data:image/svg+xml;base64,PHN2ZyB4bWxucz0iaHR0cDovL3d3dy53My5vcmcvMjAwMC9zdmciIHdpZHRoPSIxNiIgdmlld0JveD0iMCAwIDIyIDIyIj4KICA8cGF0aCBjbGFzcz0ianAtaWNvbjMganAtaWNvbi1zZWxlY3RhYmxlIiBmaWxsPSIjNjE2MTYxIiBkPSJNMTkuMyA4LjJsLTUuNS01LjVjLS4zLS4zLS43LS41LTEuMi0uNUgzLjljLS44LjEtMS42LjktMS42IDEuOHYxNC4xYzAgLjkuNyAxLjYgMS42IDEuNmgxNC4yYy45IDAgMS42LS43IDEuNi0xLjZWOS40Yy4xLS41LS4xLS45LS40LTEuMnptLTUuOC0zLjNsMy40IDMuNmgtMy40VjQuOXptMy45IDEyLjdINC43Yy0uMSAwLS4yIDAtLjItLjJWNC43YzAtLjIuMS0uMy4yLS4zaDcuMnY0LjRzMCAuOC4zIDEuMWMuMy4zIDEuMS4zIDEuMS4zaDQuM3Y3LjJzLS4xLjItLjIuMnoiLz4KPC9zdmc+Cg==);
  --jp-icon-filter-list: url(data:image/svg+xml;base64,PHN2ZyB4bWxucz0iaHR0cDovL3d3dy53My5vcmcvMjAwMC9zdmciIHdpZHRoPSIxNiIgdmlld0JveD0iMCAwIDI0IDI0Ij4KICA8ZyBjbGFzcz0ianAtaWNvbjMiIGZpbGw9IiM2MTYxNjEiPgogICAgPHBhdGggZD0iTTEwIDE4aDR2LTJoLTR2MnpNMyA2djJoMThWNkgzem0zIDdoMTJ2LTJINnYyeiIvPgogIDwvZz4KPC9zdmc+Cg==);
  --jp-icon-folder: url(data:image/svg+xml;base64,PHN2ZyB4bWxucz0iaHR0cDovL3d3dy53My5vcmcvMjAwMC9zdmciIHdpZHRoPSIxNiIgdmlld0JveD0iMCAwIDI0IDI0Ij4KICA8cGF0aCBjbGFzcz0ianAtaWNvbjMganAtaWNvbi1zZWxlY3RhYmxlIiBmaWxsPSIjNjE2MTYxIiBkPSJNMTAgNEg0Yy0xLjEgMC0xLjk5LjktMS45OSAyTDIgMThjMCAxLjEuOSAyIDIgMmgxNmMxLjEgMCAyLS45IDItMlY4YzAtMS4xLS45LTItMi0yaC04bC0yLTJ6Ii8+Cjwvc3ZnPgo=);
  --jp-icon-html5: url(data:image/svg+xml;base64,PHN2ZyB4bWxucz0iaHR0cDovL3d3dy53My5vcmcvMjAwMC9zdmciIHdpZHRoPSIxNiIgdmlld0JveD0iMCAwIDUxMiA1MTIiPgogIDxwYXRoIGNsYXNzPSJqcC1pY29uMCBqcC1pY29uLXNlbGVjdGFibGUiIGZpbGw9IiMwMDAiIGQ9Ik0xMDguNCAwaDIzdjIyLjhoMjEuMlYwaDIzdjY5aC0yM1Y0NmgtMjF2MjNoLTIzLjJNMjA2IDIzaC0yMC4zVjBoNjMuN3YyM0gyMjl2NDZoLTIzbTUzLjUtNjloMjQuMWwxNC44IDI0LjNMMzEzLjIgMGgyNC4xdjY5aC0yM1YzNC44bC0xNi4xIDI0LjgtMTYuMS0yNC44VjY5aC0yMi42bTg5LjItNjloMjN2NDYuMmgzMi42VjY5aC01NS42Ii8+CiAgPHBhdGggY2xhc3M9ImpwLWljb24tc2VsZWN0YWJsZSIgZmlsbD0iI2U0NGQyNiIgZD0iTTEwNy42IDQ3MWwtMzMtMzcwLjRoMzYyLjhsLTMzIDM3MC4yTDI1NS43IDUxMiIvPgogIDxwYXRoIGNsYXNzPSJqcC1pY29uLXNlbGVjdGFibGUiIGZpbGw9IiNmMTY1MjkiIGQ9Ik0yNTYgNDgwLjVWMTMxaDE0OC4zTDM3NiA0NDciLz4KICA8cGF0aCBjbGFzcz0ianAtaWNvbi1zZWxlY3RhYmxlLWludmVyc2UiIGZpbGw9IiNlYmViZWIiIGQ9Ik0xNDIgMTc2LjNoMTE0djQ1LjRoLTY0LjJsNC4yIDQ2LjVoNjB2NDUuM0gxNTQuNG0yIDIyLjhIMjAybDMuMiAzNi4zIDUwLjggMTMuNnY0Ny40bC05My4yLTI2Ii8+CiAgPHBhdGggY2xhc3M9ImpwLWljb24tc2VsZWN0YWJsZS1pbnZlcnNlIiBmaWxsPSIjZmZmIiBkPSJNMzY5LjYgMTc2LjNIMjU1Ljh2NDUuNGgxMDkuNm0tNC4xIDQ2LjVIMjU1Ljh2NDUuNGg1NmwtNS4zIDU5LTUwLjcgMTMuNnY0Ny4ybDkzLTI1LjgiLz4KPC9zdmc+Cg==);
  --jp-icon-image: url(data:image/svg+xml;base64,PHN2ZyB4bWxucz0iaHR0cDovL3d3dy53My5vcmcvMjAwMC9zdmciIHdpZHRoPSIxNiIgdmlld0JveD0iMCAwIDIyIDIyIj4KICA8cGF0aCBjbGFzcz0ianAtaWNvbi1icmFuZDQganAtaWNvbi1zZWxlY3RhYmxlLWludmVyc2UiIGZpbGw9IiNGRkYiIGQ9Ik0yLjIgMi4yaDE3LjV2MTcuNUgyLjJ6Ii8+CiAgPHBhdGggY2xhc3M9ImpwLWljb24tYnJhbmQwIGpwLWljb24tc2VsZWN0YWJsZSIgZmlsbD0iIzNGNTFCNSIgZD0iTTIuMiAyLjJ2MTcuNWgxNy41bC4xLTE3LjVIMi4yem0xMi4xIDIuMmMxLjIgMCAyLjIgMSAyLjIgMi4ycy0xIDIuMi0yLjIgMi4yLTIuMi0xLTIuMi0yLjIgMS0yLjIgMi4yLTIuMnpNNC40IDE3LjZsMy4zLTguOCAzLjMgNi42IDIuMi0zLjIgNC40IDUuNEg0LjR6Ii8+Cjwvc3ZnPgo=);
  --jp-icon-inspector: url(data:image/svg+xml;base64,PHN2ZyB4bWxucz0iaHR0cDovL3d3dy53My5vcmcvMjAwMC9zdmciIHdpZHRoPSIxNiIgdmlld0JveD0iMCAwIDI0IDI0Ij4KICA8cGF0aCBjbGFzcz0ianAtaWNvbjMganAtaWNvbi1zZWxlY3RhYmxlIiBmaWxsPSIjNjE2MTYxIiBkPSJNMjAgNEg0Yy0xLjEgMC0xLjk5LjktMS45OSAyTDIgMThjMCAxLjEuOSAyIDIgMmgxNmMxLjEgMCAyLS45IDItMlY2YzAtMS4xLS45LTItMi0yem0tNSAxNEg0di00aDExdjR6bTAtNUg0VjloMTF2NHptNSA1aC00VjloNHY5eiIvPgo8L3N2Zz4K);
  --jp-icon-json: url(data:image/svg+xml;base64,PHN2ZyB4bWxucz0iaHR0cDovL3d3dy53My5vcmcvMjAwMC9zdmciIHdpZHRoPSIxNiIgdmlld0JveD0iMCAwIDIyIDIyIj4KICA8ZyBjbGFzcz0ianAtaWNvbi13YXJuMSBqcC1pY29uLXNlbGVjdGFibGUiIGZpbGw9IiNGOUE4MjUiPgogICAgPHBhdGggZD0iTTIwLjIgMTEuOGMtMS42IDAtMS43LjUtMS43IDEgMCAuNC4xLjkuMSAxLjMuMS41LjEuOS4xIDEuMyAwIDEuNy0xLjQgMi4zLTMuNSAyLjNoLS45di0xLjloLjVjMS4xIDAgMS40IDAgMS40LS44IDAtLjMgMC0uNi0uMS0xIDAtLjQtLjEtLjgtLjEtMS4yIDAtMS4zIDAtMS44IDEuMy0yLTEuMy0uMi0xLjMtLjctMS4zLTIgMC0uNC4xLS44LjEtMS4yLjEtLjQuMS0uNy4xLTEgMC0uOC0uNC0uNy0xLjQtLjhoLS41VjQuMWguOWMyLjIgMCAzLjUuNyAzLjUgMi4zIDAgLjQtLjEuOS0uMSAxLjMtLjEuNS0uMS45LS4xIDEuMyAwIC41LjIgMSAxLjcgMXYxLjh6TTEuOCAxMC4xYzEuNiAwIDEuNy0uNSAxLjctMSAwLS40LS4xLS45LS4xLTEuMy0uMS0uNS0uMS0uOS0uMS0xLjMgMC0xLjYgMS40LTIuMyAzLjUtMi4zaC45djEuOWgtLjVjLTEgMC0xLjQgMC0xLjQuOCAwIC4zIDAgLjYuMSAxIDAgLjIuMS42LjEgMSAwIDEuMyAwIDEuOC0xLjMgMkM2IDExLjIgNiAxMS43IDYgMTNjMCAuNC0uMS44LS4xIDEuMi0uMS4zLS4xLjctLjEgMSAwIC44LjMuOCAxLjQuOGguNXYxLjloLS45Yy0yLjEgMC0zLjUtLjYtMy41LTIuMyAwLS40LjEtLjkuMS0xLjMuMS0uNS4xLS45LjEtMS4zIDAtLjUtLjItMS0xLjctMXYtMS45eiIvPgogICAgPGNpcmNsZSBjeD0iMTEiIGN5PSIxMy44IiByPSIyLjEiLz4KICAgIDxjaXJjbGUgY3g9IjExIiBjeT0iOC4yIiByPSIyLjEiLz4KICA8L2c+Cjwvc3ZnPgo=);
  --jp-icon-julia: url(data:image/svg+xml;base64,PHN2ZyB4bWxucz0iaHR0cDovL3d3dy53My5vcmcvMjAwMC9zdmciIHdpZHRoPSIxNiIgdmlld0JveD0iMCAwIDMyNSAzMDAiPgogIDxnIGNsYXNzPSJqcC1icmFuZDAganAtaWNvbi1zZWxlY3RhYmxlIiBmaWxsPSIjY2IzYzMzIj4KICAgIDxwYXRoIGQ9Ik0gMTUwLjg5ODQzOCAyMjUgQyAxNTAuODk4NDM4IDI2Ni40MjE4NzUgMTE3LjMyMDMxMiAzMDAgNzUuODk4NDM4IDMwMCBDIDM0LjQ3NjU2MiAzMDAgMC44OTg0MzggMjY2LjQyMTg3NSAwLjg5ODQzOCAyMjUgQyAwLjg5ODQzOCAxODMuNTc4MTI1IDM0LjQ3NjU2MiAxNTAgNzUuODk4NDM4IDE1MCBDIDExNy4zMjAzMTIgMTUwIDE1MC44OTg0MzggMTgzLjU3ODEyNSAxNTAuODk4NDM4IDIyNSIvPgogIDwvZz4KICA8ZyBjbGFzcz0ianAtYnJhbmQwIGpwLWljb24tc2VsZWN0YWJsZSIgZmlsbD0iIzM4OTgyNiI+CiAgICA8cGF0aCBkPSJNIDIzNy41IDc1IEMgMjM3LjUgMTE2LjQyMTg3NSAyMDMuOTIxODc1IDE1MCAxNjIuNSAxNTAgQyAxMjEuMDc4MTI1IDE1MCA4Ny41IDExNi40MjE4NzUgODcuNSA3NSBDIDg3LjUgMzMuNTc4MTI1IDEyMS4wNzgxMjUgMCAxNjIuNSAwIEMgMjAzLjkyMTg3NSAwIDIzNy41IDMzLjU3ODEyNSAyMzcuNSA3NSIvPgogIDwvZz4KICA8ZyBjbGFzcz0ianAtYnJhbmQwIGpwLWljb24tc2VsZWN0YWJsZSIgZmlsbD0iIzk1NThiMiI+CiAgICA8cGF0aCBkPSJNIDMyNC4xMDE1NjIgMjI1IEMgMzI0LjEwMTU2MiAyNjYuNDIxODc1IDI5MC41MjM0MzggMzAwIDI0OS4xMDE1NjIgMzAwIEMgMjA3LjY3OTY4OCAzMDAgMTc0LjEwMTU2MiAyNjYuNDIxODc1IDE3NC4xMDE1NjIgMjI1IEMgMTc0LjEwMTU2MiAxODMuNTc4MTI1IDIwNy42Nzk2ODggMTUwIDI0OS4xMDE1NjIgMTUwIEMgMjkwLjUyMzQzOCAxNTAgMzI0LjEwMTU2MiAxODMuNTc4MTI1IDMyNC4xMDE1NjIgMjI1Ii8+CiAgPC9nPgo8L3N2Zz4K);
  --jp-icon-jupyter-favicon: url(data:image/svg+xml;base64,PHN2ZyB3aWR0aD0iMTUyIiBoZWlnaHQ9IjE2NSIgdmlld0JveD0iMCAwIDE1MiAxNjUiIHZlcnNpb249IjEuMSIgeG1sbnM9Imh0dHA6Ly93d3cudzMub3JnLzIwMDAvc3ZnIj4KICA8ZyBjbGFzcz0ianAtaWNvbi13YXJuMCIgZmlsbD0iI0YzNzcyNiI+CiAgICA8cGF0aCB0cmFuc2Zvcm09InRyYW5zbGF0ZSgwLjA3ODk0NywgMTEwLjU4MjkyNykiIGQ9Ik03NS45NDIyODQyLDI5LjU4MDQ1NjEgQzQzLjMwMjM5NDcsMjkuNTgwNDU2MSAxNC43OTY3ODMyLDE3LjY1MzQ2MzQgMCwwIEM1LjUxMDgzMjExLDE1Ljg0MDY4MjkgMTUuNzgxNTM4OSwyOS41NjY3NzMyIDI5LjM5MDQ5NDcsMzkuMjc4NDE3MSBDNDIuOTk5Nyw0OC45ODk4NTM3IDU5LjI3MzcsNTQuMjA2NzgwNSA3NS45NjA1Nzg5LDU0LjIwNjc4MDUgQzkyLjY0NzQ1NzksNTQuMjA2NzgwNSAxMDguOTIxNDU4LDQ4Ljk4OTg1MzcgMTIyLjUzMDY2MywzOS4yNzg0MTcxIEMxMzYuMTM5NDUzLDI5LjU2Njc3MzIgMTQ2LjQxMDI4NCwxNS44NDA2ODI5IDE1MS45MjExNTgsMCBDMTM3LjA4Nzg2OCwxNy42NTM0NjM0IDEwOC41ODI1ODksMjkuNTgwNDU2MSA3NS45NDIyODQyLDI5LjU4MDQ1NjEgTDc1Ljk0MjI4NDIsMjkuNTgwNDU2MSBaIiAvPgogICAgPHBhdGggdHJhbnNmb3JtPSJ0cmFuc2xhdGUoMC4wMzczNjgsIDAuNzA0ODc4KSIgZD0iTTc1Ljk3ODQ1NzksMjQuNjI2NDA3MyBDMTA4LjYxODc2MywyNC42MjY0MDczIDEzNy4xMjQ0NTgsMzYuNTUzNDQxNSAxNTEuOTIxMTU4LDU0LjIwNjc4MDUgQzE0Ni40MTAyODQsMzguMzY2MjIyIDEzNi4xMzk0NTMsMjQuNjQwMTMxNyAxMjIuNTMwNjYzLDE0LjkyODQ4NzggQzEwOC45MjE0NTgsNS4yMTY4NDM5IDkyLjY0NzQ1NzksMCA3NS45NjA1Nzg5LDAgQzU5LjI3MzcsMCA0Mi45OTk3LDUuMjE2ODQzOSAyOS4zOTA0OTQ3LDE0LjkyODQ4NzggQzE1Ljc4MTUzODksMjQuNjQwMTMxNyA1LjUxMDgzMjExLDM4LjM2NjIyMiAwLDU0LjIwNjc4MDUgQzE0LjgzMzA4MTYsMzYuNTg5OTI5MyA0My4zMzg1Njg0LDI0LjYyNjQwNzMgNzUuOTc4NDU3OSwyNC42MjY0MDczIEw3NS45Nzg0NTc5LDI0LjYyNjQwNzMgWiIgLz4KICA8L2c+Cjwvc3ZnPgo=);
  --jp-icon-jupyter: url(data:image/svg+xml;base64,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);
  --jp-icon-jupyterlab-wordmark: url(data:image/svg+xml;base64,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);
  --jp-icon-kernel: url(data:image/svg+xml;base64,PHN2ZyB4bWxucz0iaHR0cDovL3d3dy53My5vcmcvMjAwMC9zdmciIHdpZHRoPSIxNiIgdmlld0JveD0iMCAwIDI0IDI0Ij4KICAgIDxwYXRoIGNsYXNzPSJqcC1pY29uMiIgZmlsbD0iIzYxNjE2MSIgZD0iTTE1IDlIOXY2aDZWOXptLTIgNGgtMnYtMmgydjJ6bTgtMlY5aC0yVjdjMC0xLjEtLjktMi0yLTJoLTJWM2gtMnYyaC0yVjNIOXYySDdjLTEuMSAwLTIgLjktMiAydjJIM3YyaDJ2MkgzdjJoMnYyYzAgMS4xLjkgMiAyIDJoMnYyaDJ2LTJoMnYyaDJ2LTJoMmMxLjEgMCAyLS45IDItMnYtMmgydi0yaC0ydi0yaDJ6bS00IDZIN1Y3aDEwdjEweiIvPgo8L3N2Zz4K);
  --jp-icon-keyboard: url(data:image/svg+xml;base64,PHN2ZyB4bWxucz0iaHR0cDovL3d3dy53My5vcmcvMjAwMC9zdmciIHdpZHRoPSIxNiIgdmlld0JveD0iMCAwIDI0IDI0Ij4KICA8cGF0aCBjbGFzcz0ianAtaWNvbjMganAtaWNvbi1zZWxlY3RhYmxlIiBmaWxsPSIjNjE2MTYxIiBkPSJNMjAgNUg0Yy0xLjEgMC0xLjk5LjktMS45OSAyTDIgMTdjMCAxLjEuOSAyIDIgMmgxNmMxLjEgMCAyLS45IDItMlY3YzAtMS4xLS45LTItMi0yem0tOSAzaDJ2MmgtMlY4em0wIDNoMnYyaC0ydi0yek04IDhoMnYySDhWOHptMCAzaDJ2Mkg4di0yem0tMSAySDV2LTJoMnYyem0wLTNINVY4aDJ2MnptOSA3SDh2LTJoOHYyem0wLTRoLTJ2LTJoMnYyem0wLTNoLTJWOGgydjJ6bTMgM2gtMnYtMmgydjJ6bTAtM2gtMlY4aDJ2MnoiLz4KPC9zdmc+Cg==);
  --jp-icon-launcher: url(data:image/svg+xml;base64,PHN2ZyB4bWxucz0iaHR0cDovL3d3dy53My5vcmcvMjAwMC9zdmciIHdpZHRoPSIxNiIgdmlld0JveD0iMCAwIDI0IDI0Ij4KICA8cGF0aCBjbGFzcz0ianAtaWNvbjMganAtaWNvbi1zZWxlY3RhYmxlIiBmaWxsPSIjNjE2MTYxIiBkPSJNMTkgMTlINVY1aDdWM0g1YTIgMiAwIDAwLTIgMnYxNGEyIDIgMCAwMDIgMmgxNGMxLjEgMCAyLS45IDItMnYtN2gtMnY3ek0xNCAzdjJoMy41OWwtOS44MyA5LjgzIDEuNDEgMS40MUwxOSA2LjQxVjEwaDJWM2gtN3oiLz4KPC9zdmc+Cg==);
  --jp-icon-line-form: url(data:image/svg+xml;base64,PHN2ZyB4bWxucz0iaHR0cDovL3d3dy53My5vcmcvMjAwMC9zdmciIHdpZHRoPSIxNiIgdmlld0JveD0iMCAwIDI0IDI0Ij4KICAgIDxwYXRoIGZpbGw9IndoaXRlIiBkPSJNNS44OCA0LjEyTDEzLjc2IDEybC03Ljg4IDcuODhMOCAyMmwxMC0xMEw4IDJ6Ii8+Cjwvc3ZnPgo=);
  --jp-icon-link: url(data:image/svg+xml;base64,PHN2ZyB2aWV3Qm94PSIwIDAgMjQgMjQiIHdpZHRoPSIxNiIgeG1sbnM9Imh0dHA6Ly93d3cudzMub3JnLzIwMDAvc3ZnIj4KICA8ZyBjbGFzcz0ianAtaWNvbjMiIGZpbGw9IiM2MTYxNjEiPgogICAgPHBhdGggZD0iTTMuOSAxMmMwLTEuNzEgMS4zOS0zLjEgMy4xLTMuMWg0VjdIN2MtMi43NiAwLTUgMi4yNC01IDVzMi4yNCA1IDUgNWg0di0xLjlIN2MtMS43MSAwLTMuMS0xLjM5LTMuMS0zLjF6TTggMTNoOHYtMkg4djJ6bTktNmgtNHYxLjloNGMxLjcxIDAgMy4xIDEuMzkgMy4xIDMuMXMtMS4zOSAzLjEtMy4xIDMuMWgtNFYxN2g0YzIuNzYgMCA1LTIuMjQgNS01cy0yLjI0LTUtNS01eiIvPgogIDwvZz4KPC9zdmc+Cg==);
  --jp-icon-list: url(data:image/svg+xml;base64,PHN2ZyB4bWxucz0iaHR0cDovL3d3dy53My5vcmcvMjAwMC9zdmciIHdpZHRoPSIxNiIgdmlld0JveD0iMCAwIDI0IDI0Ij4KICAgIDxwYXRoIGNsYXNzPSJqcC1pY29uMiBqcC1pY29uLXNlbGVjdGFibGUiIGZpbGw9IiM2MTYxNjEiIGQ9Ik0xOSA1djE0SDVWNWgxNG0xLjEtMkgzLjljLS41IDAtLjkuNC0uOS45djE2LjJjMCAuNC40LjkuOS45aDE2LjJjLjQgMCAuOS0uNS45LS45VjMuOWMwLS41LS41LS45LS45LS45ek0xMSA3aDZ2MmgtNlY3em0wIDRoNnYyaC02di0yem0wIDRoNnYyaC02ek03IDdoMnYySDd6bTAgNGgydjJIN3ptMCA0aDJ2Mkg3eiIvPgo8L3N2Zz4=);
  --jp-icon-listings-info: url(data:image/svg+xml;base64,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);
  --jp-icon-markdown: url(data:image/svg+xml;base64,PHN2ZyB4bWxucz0iaHR0cDovL3d3dy53My5vcmcvMjAwMC9zdmciIHdpZHRoPSIxNiIgdmlld0JveD0iMCAwIDIyIDIyIj4KICA8cGF0aCBjbGFzcz0ianAtaWNvbi1jb250cmFzdDAganAtaWNvbi1zZWxlY3RhYmxlIiBmaWxsPSIjN0IxRkEyIiBkPSJNNSAxNC45aDEybC02LjEgNnptOS40LTYuOGMwLTEuMy0uMS0yLjktLjEtNC41LS40IDEuNC0uOSAyLjktMS4zIDQuM2wtMS4zIDQuM2gtMkw4LjUgNy45Yy0uNC0xLjMtLjctMi45LTEtNC4zLS4xIDEuNi0uMSAzLjItLjIgNC42TDcgMTIuNEg0LjhsLjctMTFoMy4zTDEwIDVjLjQgMS4yLjcgMi43IDEgMy45LjMtMS4yLjctMi42IDEtMy45bDEuMi0zLjdoMy4zbC42IDExaC0yLjRsLS4zLTQuMnoiLz4KPC9zdmc+Cg==);
  --jp-icon-new-folder: url(data:image/svg+xml;base64,PHN2ZyB4bWxucz0iaHR0cDovL3d3dy53My5vcmcvMjAwMC9zdmciIHdpZHRoPSIxNiIgdmlld0JveD0iMCAwIDI0IDI0Ij4KICA8ZyBjbGFzcz0ianAtaWNvbjMiIGZpbGw9IiM2MTYxNjEiPgogICAgPHBhdGggZD0iTTIwIDZoLThsLTItMkg0Yy0xLjExIDAtMS45OS44OS0xLjk5IDJMMiAxOGMwIDEuMTEuODkgMiAyIDJoMTZjMS4xMSAwIDItLjg5IDItMlY4YzAtMS4xMS0uODktMi0yLTJ6bS0xIDhoLTN2M2gtMnYtM2gtM3YtMmgzVjloMnYzaDN2MnoiLz4KICA8L2c+Cjwvc3ZnPgo=);
  --jp-icon-not-trusted: url(data:image/svg+xml;base64,PHN2ZyBmaWxsPSJub25lIiB4bWxucz0iaHR0cDovL3d3dy53My5vcmcvMjAwMC9zdmciIHdpZHRoPSIxNiIgdmlld0JveD0iMCAwIDI1IDI1Ij4KICAgIDxwYXRoIGNsYXNzPSJqcC1pY29uMiIgc3Ryb2tlPSIjMzMzMzMzIiBzdHJva2Utd2lkdGg9IjIiIHRyYW5zZm9ybT0idHJhbnNsYXRlKDMgMykiIGQ9Ik0xLjg2MDk0IDExLjQ0MDlDMC44MjY0NDggOC43NzAyNyAwLjg2Mzc3OSA2LjA1NzY0IDEuMjQ5MDcgNC4xOTkzMkMyLjQ4MjA2IDMuOTMzNDcgNC4wODA2OCAzLjQwMzQ3IDUuNjAxMDIgMi44NDQ5QzcuMjM1NDkgMi4yNDQ0IDguODU2NjYgMS41ODE1IDkuOTg3NiAxLjA5NTM5QzExLjA1OTcgMS41ODM0MSAxMi42MDk0IDIuMjQ0NCAxNC4yMTggMi44NDMzOUMxNS43NTAzIDMuNDEzOTQgMTcuMzk5NSAzLjk1MjU4IDE4Ljc1MzkgNC4yMTM4NUMxOS4xMzY0IDYuMDcxNzcgMTkuMTcwOSA4Ljc3NzIyIDE4LjEzOSAxMS40NDA5QzE3LjAzMDMgMTQuMzAzMiAxNC42NjY4IDE3LjE4NDQgOS45OTk5OSAxOC45MzU0QzUuMzMzMTkgMTcuMTg0NCAyLjk2OTY4IDE0LjMwMzIgMS44NjA5NCAxMS40NDA5WiIvPgogICAgPHBhdGggY2xhc3M9ImpwLWljb24yIiBzdHJva2U9IiMzMzMzMzMiIHN0cm9rZS13aWR0aD0iMiIgdHJhbnNmb3JtPSJ0cmFuc2xhdGUoOS4zMTU5MiA5LjMyMDMxKSIgZD0iTTcuMzY4NDIgMEwwIDcuMzY0NzkiLz4KICAgIDxwYXRoIGNsYXNzPSJqcC1pY29uMiIgc3Ryb2tlPSIjMzMzMzMzIiBzdHJva2Utd2lkdGg9IjIiIHRyYW5zZm9ybT0idHJhbnNsYXRlKDkuMzE1OTIgMTYuNjgzNikgc2NhbGUoMSAtMSkiIGQ9Ik03LjM2ODQyIDBMMCA3LjM2NDc5Ii8+Cjwvc3ZnPgo=);
  --jp-icon-notebook: url(data:image/svg+xml;base64,PHN2ZyB4bWxucz0iaHR0cDovL3d3dy53My5vcmcvMjAwMC9zdmciIHdpZHRoPSIxNiIgdmlld0JveD0iMCAwIDIyIDIyIj4KICA8ZyBjbGFzcz0ianAtaWNvbi13YXJuMCBqcC1pY29uLXNlbGVjdGFibGUiIGZpbGw9IiNFRjZDMDAiPgogICAgPHBhdGggZD0iTTE4LjcgMy4zdjE1LjRIMy4zVjMuM2gxNS40bTEuNS0xLjVIMS44djE4LjNoMTguM2wuMS0xOC4zeiIvPgogICAgPHBhdGggZD0iTTE2LjUgMTYuNWwtNS40LTQuMy01LjYgNC4zdi0xMWgxMXoiLz4KICA8L2c+Cjwvc3ZnPgo=);
  --jp-icon-numbering: url(data:image/svg+xml;base64,PHN2ZyB3aWR0aD0iMjIiIGhlaWdodD0iMjIiIHZpZXdCb3g9IjAgMCAyOCAyOCIgeG1sbnM9Imh0dHA6Ly93d3cudzMub3JnLzIwMDAvc3ZnIj4KCTxnIGNsYXNzPSJqcC1pY29uMyIgZmlsbD0iIzYxNjE2MSI+CgkJPHBhdGggZD0iTTQgMTlINlYxOS41SDVWMjAuNUg2VjIxSDRWMjJIN1YxOEg0VjE5Wk01IDEwSDZWNkg0VjdINVYxMFpNNCAxM0g1LjhMNCAxNS4xVjE2SDdWMTVINS4yTDcgMTIuOVYxMkg0VjEzWk05IDdWOUgyM1Y3SDlaTTkgMjFIMjNWMTlIOVYyMVpNOSAxNUgyM1YxM0g5VjE1WiIvPgoJPC9nPgo8L3N2Zz4K);
  --jp-icon-offline-bolt: url(data:image/svg+xml;base64,PHN2ZyB4bWxucz0iaHR0cDovL3d3dy53My5vcmcvMjAwMC9zdmciIHZpZXdCb3g9IjAgMCAyNCAyNCIgd2lkdGg9IjE2Ij4KICA8ZyBjbGFzcz0ianAtaWNvbjMiIGZpbGw9IiM2MTYxNjEiPgogICAgPHBhdGggZD0iTTEyIDIuMDJjLTUuNTEgMC05Ljk4IDQuNDctOS45OCA5Ljk4czQuNDcgOS45OCA5Ljk4IDkuOTggOS45OC00LjQ3IDkuOTgtOS45OFMxNy41MSAyLjAyIDEyIDIuMDJ6TTExLjQ4IDIwdi02LjI2SDhMMTMgNHY2LjI2aDMuMzVMMTEuNDggMjB6Ii8+CiAgPC9nPgo8L3N2Zz4K);
  --jp-icon-palette: url(data:image/svg+xml;base64,PHN2ZyB4bWxucz0iaHR0cDovL3d3dy53My5vcmcvMjAwMC9zdmciIHdpZHRoPSIxNiIgdmlld0JveD0iMCAwIDI0IDI0Ij4KICA8ZyBjbGFzcz0ianAtaWNvbjMiIGZpbGw9IiM2MTYxNjEiPgogICAgPHBhdGggZD0iTTE4IDEzVjIwSDRWNkg5LjAyQzkuMDcgNS4yOSA5LjI0IDQuNjIgOS41IDRINEMyLjkgNCAyIDQuOSAyIDZWMjBDMiAyMS4xIDIuOSAyMiA0IDIySDE4QzE5LjEgMjIgMjAgMjEuMSAyMCAyMFYxNUwxOCAxM1pNMTkuMyA4Ljg5QzE5Ljc0IDguMTkgMjAgNy4zOCAyMCA2LjVDMjAgNC4wMSAxNy45OSAyIDE1LjUgMkMxMy4wMSAyIDExIDQuMDEgMTEgNi41QzExIDguOTkgMTMuMDEgMTEgMTUuNDkgMTFDMTYuMzcgMTEgMTcuMTkgMTAuNzQgMTcuODggMTAuM0wyMSAxMy40MkwyMi40MiAxMkwxOS4zIDguODlaTTE1LjUgOUMxNC4xMiA5IDEzIDcuODggMTMgNi41QzEzIDUuMTIgMTQuMTIgNCAxNS41IDRDMTYuODggNCAxOCA1LjEyIDE4IDYuNUMxOCA3Ljg4IDE2Ljg4IDkgMTUuNSA5WiIvPgogICAgPHBhdGggZmlsbC1ydWxlPSJldmVub2RkIiBjbGlwLXJ1bGU9ImV2ZW5vZGQiIGQ9Ik00IDZIOS4wMTg5NEM5LjAwNjM5IDYuMTY1MDIgOSA2LjMzMTc2IDkgNi41QzkgOC44MTU3NyAxMC4yMTEgMTAuODQ4NyAxMi4wMzQzIDEySDlWMTRIMTZWMTIuOTgxMUMxNi41NzAzIDEyLjkzNzcgMTcuMTIgMTIuODIwNyAxNy42Mzk2IDEyLjYzOTZMMTggMTNWMjBINFY2Wk04IDhINlYxMEg4VjhaTTYgMTJIOFYxNEg2VjEyWk04IDE2SDZWMThIOFYxNlpNOSAxNkgxNlYxOEg5VjE2WiIvPgogIDwvZz4KPC9zdmc+Cg==);
  --jp-icon-paste: url(data:image/svg+xml;base64,PHN2ZyBoZWlnaHQ9IjI0IiB2aWV3Qm94PSIwIDAgMjQgMjQiIHdpZHRoPSIyNCIgeG1sbnM9Imh0dHA6Ly93d3cudzMub3JnLzIwMDAvc3ZnIj4KICAgIDxnIGNsYXNzPSJqcC1pY29uMyIgZmlsbD0iIzYxNjE2MSI+CiAgICAgICAgPHBhdGggZD0iTTE5IDJoLTQuMThDMTQuNC44NCAxMy4zIDAgMTIgMGMtMS4zIDAtMi40Ljg0LTIuODIgMkg1Yy0xLjEgMC0yIC45LTIgMnYxNmMwIDEuMS45IDIgMiAyaDE0YzEuMSAwIDItLjkgMi0yVjRjMC0xLjEtLjktMi0yLTJ6bS03IDBjLjU1IDAgMSAuNDUgMSAxcy0uNDUgMS0xIDEtMS0uNDUtMS0xIC40NS0xIDEtMXptNyAxOEg1VjRoMnYzaDEwVjRoMnYxNnoiLz4KICAgIDwvZz4KPC9zdmc+Cg==);
  --jp-icon-pdf: url(data:image/svg+xml;base64,PHN2ZwogICB4bWxucz0iaHR0cDovL3d3dy53My5vcmcvMjAwMC9zdmciIHZpZXdCb3g9IjAgMCAyMiAyMiIgd2lkdGg9IjE2Ij4KICAgIDxwYXRoIHRyYW5zZm9ybT0icm90YXRlKDQ1KSIgY2xhc3M9ImpwLWljb24tc2VsZWN0YWJsZSIgZmlsbD0iI0ZGMkEyQSIKICAgICAgIGQ9Im0gMjIuMzQ0MzY5LC0zLjAxNjM2NDIgaCA1LjYzODYwNCB2IDEuNTc5MjQzMyBoIC0zLjU0OTIyNyB2IDEuNTA4NjkyOTkgaCAzLjMzNzU3NiBWIDEuNjUwODE1NCBoIC0zLjMzNzU3NiB2IDMuNDM1MjYxMyBoIC0yLjA4OTM3NyB6IG0gLTcuMTM2NDQ0LDEuNTc5MjQzMyB2IDQuOTQzOTU0MyBoIDAuNzQ4OTIgcSAxLjI4MDc2MSwwIDEuOTUzNzAzLC0wLjYzNDk1MzUgMC42NzgzNjksLTAuNjM0OTUzNSAwLjY3ODM2OSwtMS44NDUxNjQxIDAsLTEuMjA0NzgzNTUgLTAuNjcyOTQyLC0xLjgzNDMxMDExIC0wLjY3Mjk0MiwtMC42Mjk1MjY1OSAtMS45NTkxMywtMC42Mjk1MjY1OSB6IG0gLTIuMDg5Mzc3LC0xLjU3OTI0MzMgaCAyLjIwMzM0MyBxIDEuODQ1MTY0LDAgMi43NDYwMzksMC4yNjU5MjA3IDAuOTA2MzAxLDAuMjYwNDkzNyAxLjU1MjEwOCwwLjg5MDAyMDMgMC41Njk4MywwLjU0ODEyMjMgMC44NDY2MDUsMS4yNjQ0ODAwNiAwLjI3Njc3NCwwLjcxNjM1NzgxIDAuMjc2Nzc0LDEuNjIyNjU4OTQgMCwwLjkxNzE1NTEgLTAuMjc2Nzc0LDEuNjM4OTM5OSAtMC4yNzY3NzUsMC43MTYzNTc4IC0wLjg0NjYwNSwxLjI2NDQ4IC0wLjY1MTIzNCwwLjYyOTUyNjYgLTEuNTYyOTYyLDAuODk1NDQ3MyAtMC45MTE3MjgsMC4yNjA0OTM3IC0yLjczNTE4NSwwLjI2MDQ5MzcgaCAtMi4yMDMzNDMgeiBtIC04LjE0NTg1NjUsMCBoIDMuNDY3ODIzIHEgMS41NDY2ODE2LDAgMi4zNzE1Nzg1LDAuNjg5MjIzIDAuODMwMzI0LDAuNjgzNzk2MSAwLjgzMDMyNCwxLjk1MzcwMzE0IDAsMS4yNzUzMzM5NyAtMC44MzAzMjQsMS45NjQ1NTcwNiBRIDkuOTg3MTk2MSwyLjI3NDkxNSA4LjQ0MDUxNDUsMi4yNzQ5MTUgSCA3LjA2MjA2ODQgViA1LjA4NjA3NjcgSCA0Ljk3MjY5MTUgWiBtIDIuMDg5Mzc2OSwxLjUxNDExOTkgdiAyLjI2MzAzOTQzIGggMS4xNTU5NDEgcSAwLjYwNzgxODgsMCAwLjkzODg2MjksLTAuMjkzMDU1NDcgMC4zMzEwNDQxLC0wLjI5ODQ4MjQxIDAuMzMxMDQ0MSwtMC44NDExNzc3MiAwLC0wLjU0MjY5NTMxIC0wLjMzMTA0NDEsLTAuODM1NzUwNzQgLTAuMzMxMDQ0MSwtMC4yOTMwNTU1IC0wLjkzODg2MjksLTAuMjkzMDU1NSB6IgovPgo8L3N2Zz4K);
  --jp-icon-python: url(data:image/svg+xml;base64,PHN2ZyB4bWxucz0iaHR0cDovL3d3dy53My5vcmcvMjAwMC9zdmciIHdpZHRoPSIxNiIgdmlld0JveD0iMCAwIDIyIDIyIj4KICA8ZyBjbGFzcz0ianAtaWNvbi1icmFuZDAganAtaWNvbi1zZWxlY3RhYmxlIiBmaWxsPSIjMEQ0N0ExIj4KICAgIDxwYXRoIGQ9Ik0xMS4xIDYuOVY1LjhINi45YzAtLjUgMC0xLjMuMi0xLjYuNC0uNy44LTEuMSAxLjctMS40IDEuNy0uMyAyLjUtLjMgMy45LS4xIDEgLjEgMS45LjkgMS45IDEuOXY0LjJjMCAuNS0uOSAxLjYtMiAxLjZIOC44Yy0xLjUgMC0yLjQgMS40LTIuNCAyLjh2Mi4ySDQuN0MzLjUgMTUuMSAzIDE0IDMgMTMuMVY5Yy0uMS0xIC42LTIgMS44LTIgMS41LS4xIDYuMy0uMSA2LjMtLjF6Ii8+CiAgICA8cGF0aCBkPSJNMTAuOSAxNS4xdjEuMWg0LjJjMCAuNSAwIDEuMy0uMiAxLjYtLjQuNy0uOCAxLjEtMS43IDEuNC0xLjcuMy0yLjUuMy0zLjkuMS0xLS4xLTEuOS0uOS0xLjktMS45di00LjJjMC0uNS45LTEuNiAyLTEuNmgzLjhjMS41IDAgMi40LTEuNCAyLjQtMi44VjYuNmgxLjdDMTguNSA2LjkgMTkgOCAxOSA4LjlWMTNjMCAxLS43IDIuMS0xLjkgMi4xaC02LjJ6Ii8+CiAgPC9nPgo8L3N2Zz4K);
  --jp-icon-r-kernel: url(data:image/svg+xml;base64,PHN2ZyB4bWxucz0iaHR0cDovL3d3dy53My5vcmcvMjAwMC9zdmciIHdpZHRoPSIxNiIgdmlld0JveD0iMCAwIDIyIDIyIj4KICA8cGF0aCBjbGFzcz0ianAtaWNvbi1jb250cmFzdDMganAtaWNvbi1zZWxlY3RhYmxlIiBmaWxsPSIjMjE5NkYzIiBkPSJNNC40IDIuNWMxLjItLjEgMi45LS4zIDQuOS0uMyAyLjUgMCA0LjEuNCA1LjIgMS4zIDEgLjcgMS41IDEuOSAxLjUgMy41IDAgMi0xLjQgMy41LTIuOSA0LjEgMS4yLjQgMS43IDEuNiAyLjIgMyAuNiAxLjkgMSAzLjkgMS4zIDQuNmgtMy44Yy0uMy0uNC0uOC0xLjctMS4yLTMuN3MtMS4yLTIuNi0yLjYtMi42aC0uOXY2LjRINC40VjIuNXptMy43IDYuOWgxLjRjMS45IDAgMi45LS45IDIuOS0yLjNzLTEtMi4zLTIuOC0yLjNjLS43IDAtMS4zIDAtMS42LjJ2NC41aC4xdi0uMXoiLz4KPC9zdmc+Cg==);
  --jp-icon-react: url(data:image/svg+xml;base64,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);
  --jp-icon-redo: url(data:image/svg+xml;base64,PHN2ZyB4bWxucz0iaHR0cDovL3d3dy53My5vcmcvMjAwMC9zdmciIGhlaWdodD0iMjQiIHZpZXdCb3g9IjAgMCAyNCAyNCIgd2lkdGg9IjE2Ij4KICA8ZyBjbGFzcz0ianAtaWNvbjMiIGZpbGw9IiM2MTYxNjEiPgogICAgICA8cGF0aCBkPSJNMCAwaDI0djI0SDB6IiBmaWxsPSJub25lIi8+PHBhdGggZD0iTTE4LjQgMTAuNkMxNi41NSA4Ljk5IDE0LjE1IDggMTEuNSA4Yy00LjY1IDAtOC41OCAzLjAzLTkuOTYgNy4yMkwzLjkgMTZjMS4wNS0zLjE5IDQuMDUtNS41IDcuNi01LjUgMS45NSAwIDMuNzMuNzIgNS4xMiAxLjg4TDEzIDE2aDlWN2wtMy42IDMuNnoiLz4KICA8L2c+Cjwvc3ZnPgo=);
  --jp-icon-refresh: url(data:image/svg+xml;base64,PHN2ZyB4bWxucz0iaHR0cDovL3d3dy53My5vcmcvMjAwMC9zdmciIHdpZHRoPSIxNiIgdmlld0JveD0iMCAwIDE4IDE4Ij4KICAgIDxnIGNsYXNzPSJqcC1pY29uMyIgZmlsbD0iIzYxNjE2MSI+CiAgICAgICAgPHBhdGggZD0iTTkgMTMuNWMtMi40OSAwLTQuNS0yLjAxLTQuNS00LjVTNi41MSA0LjUgOSA0LjVjMS4yNCAwIDIuMzYuNTIgMy4xNyAxLjMzTDEwIDhoNVYzbC0xLjc2IDEuNzZDMTIuMTUgMy42OCAxMC42NiAzIDkgMyA1LjY5IDMgMy4wMSA1LjY5IDMuMDEgOVM1LjY5IDE1IDkgMTVjMi45NyAwIDUuNDMtMi4xNiA1LjktNWgtMS41MmMtLjQ2IDItMi4yNCAzLjUtNC4zOCAzLjV6Ii8+CiAgICA8L2c+Cjwvc3ZnPgo=);
  --jp-icon-regex: url(data:image/svg+xml;base64,PHN2ZyB4bWxucz0iaHR0cDovL3d3dy53My5vcmcvMjAwMC9zdmciIHdpZHRoPSIxNiIgdmlld0JveD0iMCAwIDIwIDIwIj4KICA8ZyBjbGFzcz0ianAtaWNvbjIiIGZpbGw9IiM0MTQxNDEiPgogICAgPHJlY3QgeD0iMiIgeT0iMiIgd2lkdGg9IjE2IiBoZWlnaHQ9IjE2Ii8+CiAgPC9nPgoKICA8ZyBjbGFzcz0ianAtaWNvbi1hY2NlbnQyIiBmaWxsPSIjRkZGIj4KICAgIDxjaXJjbGUgY2xhc3M9InN0MiIgY3g9IjUuNSIgY3k9IjE0LjUiIHI9IjEuNSIvPgogICAgPHJlY3QgeD0iMTIiIHk9IjQiIGNsYXNzPSJzdDIiIHdpZHRoPSIxIiBoZWlnaHQ9IjgiLz4KICAgIDxyZWN0IHg9IjguNSIgeT0iNy41IiB0cmFuc2Zvcm09Im1hdHJpeCgwLjg2NiAtMC41IDAuNSAwLjg2NiAtMi4zMjU1IDcuMzIxOSkiIGNsYXNzPSJzdDIiIHdpZHRoPSI4IiBoZWlnaHQ9IjEiLz4KICAgIDxyZWN0IHg9IjEyIiB5PSI0IiB0cmFuc2Zvcm09Im1hdHJpeCgwLjUgLTAuODY2IDAuODY2IDAuNSAtMC42Nzc5IDE0LjgyNTIpIiBjbGFzcz0ic3QyIiB3aWR0aD0iMSIgaGVpZ2h0PSI4Ii8+CiAgPC9nPgo8L3N2Zz4K);
  --jp-icon-run: url(data:image/svg+xml;base64,PHN2ZyBoZWlnaHQ9IjI0IiB2aWV3Qm94PSIwIDAgMjQgMjQiIHdpZHRoPSIyNCIgeG1sbnM9Imh0dHA6Ly93d3cudzMub3JnLzIwMDAvc3ZnIj4KICAgIDxnIGNsYXNzPSJqcC1pY29uMyIgZmlsbD0iIzYxNjE2MSI+CiAgICAgICAgPHBhdGggZD0iTTggNXYxNGwxMS03eiIvPgogICAgPC9nPgo8L3N2Zz4K);
  --jp-icon-running: url(data:image/svg+xml;base64,PHN2ZyB4bWxucz0iaHR0cDovL3d3dy53My5vcmcvMjAwMC9zdmciIHdpZHRoPSIxNiIgdmlld0JveD0iMCAwIDUxMiA1MTIiPgogIDxnIGNsYXNzPSJqcC1pY29uMyIgZmlsbD0iIzYxNjE2MSI+CiAgICA8cGF0aCBkPSJNMjU2IDhDMTE5IDggOCAxMTkgOCAyNTZzMTExIDI0OCAyNDggMjQ4IDI0OC0xMTEgMjQ4LTI0OFMzOTMgOCAyNTYgOHptOTYgMzI4YzAgOC44LTcuMiAxNi0xNiAxNkgxNzZjLTguOCAwLTE2LTcuMi0xNi0xNlYxNzZjMC04LjggNy4yLTE2IDE2LTE2aDE2MGM4LjggMCAxNiA3LjIgMTYgMTZ2MTYweiIvPgogIDwvZz4KPC9zdmc+Cg==);
  --jp-icon-save: url(data:image/svg+xml;base64,PHN2ZyBoZWlnaHQ9IjI0IiB2aWV3Qm94PSIwIDAgMjQgMjQiIHdpZHRoPSIyNCIgeG1sbnM9Imh0dHA6Ly93d3cudzMub3JnLzIwMDAvc3ZnIj4KICAgIDxnIGNsYXNzPSJqcC1pY29uMyIgZmlsbD0iIzYxNjE2MSI+CiAgICAgICAgPHBhdGggZD0iTTE3IDNINWMtMS4xMSAwLTIgLjktMiAydjE0YzAgMS4xLjg5IDIgMiAyaDE0YzEuMSAwIDItLjkgMi0yVjdsLTQtNHptLTUgMTZjLTEuNjYgMC0zLTEuMzQtMy0zczEuMzQtMyAzLTMgMyAxLjM0IDMgMy0xLjM0IDMtMyAzem0zLTEwSDVWNWgxMHY0eiIvPgogICAgPC9nPgo8L3N2Zz4K);
  --jp-icon-search: url(data:image/svg+xml;base64,PHN2ZyB2aWV3Qm94PSIwIDAgMTggMTgiIHdpZHRoPSIxNiIgeG1sbnM9Imh0dHA6Ly93d3cudzMub3JnLzIwMDAvc3ZnIj4KICA8ZyBjbGFzcz0ianAtaWNvbjMiIGZpbGw9IiM2MTYxNjEiPgogICAgPHBhdGggZD0iTTEyLjEsMTAuOWgtMC43bC0wLjItMC4yYzAuOC0wLjksMS4zLTIuMiwxLjMtMy41YzAtMy0yLjQtNS40LTUuNC01LjRTMS44LDQuMiwxLjgsNy4xczIuNCw1LjQsNS40LDUuNCBjMS4zLDAsMi41LTAuNSwzLjUtMS4zbDAuMiwwLjJ2MC43bDQuMSw0LjFsMS4yLTEuMkwxMi4xLDEwLjl6IE03LjEsMTAuOWMtMi4xLDAtMy43LTEuNy0zLjctMy43czEuNy0zLjcsMy43LTMuN3MzLjcsMS43LDMuNywzLjcgUzkuMiwxMC45LDcuMSwxMC45eiIvPgogIDwvZz4KPC9zdmc+Cg==);
  --jp-icon-settings: url(data:image/svg+xml;base64,PHN2ZyB4bWxucz0iaHR0cDovL3d3dy53My5vcmcvMjAwMC9zdmciIHdpZHRoPSIxNiIgdmlld0JveD0iMCAwIDI0IDI0Ij4KICA8cGF0aCBjbGFzcz0ianAtaWNvbjMganAtaWNvbi1zZWxlY3RhYmxlIiBmaWxsPSIjNjE2MTYxIiBkPSJNMTkuNDMgMTIuOThjLjA0LS4zMi4wNy0uNjQuMDctLjk4cy0uMDMtLjY2LS4wNy0uOThsMi4xMS0xLjY1Yy4xOS0uMTUuMjQtLjQyLjEyLS42NGwtMi0zLjQ2Yy0uMTItLjIyLS4zOS0uMy0uNjEtLjIybC0yLjQ5IDFjLS41Mi0uNC0xLjA4LS43My0xLjY5LS45OGwtLjM4LTIuNjVBLjQ4OC40ODggMCAwMDE0IDJoLTRjLS4yNSAwLS40Ni4xOC0uNDkuNDJsLS4zOCAyLjY1Yy0uNjEuMjUtMS4xNy41OS0xLjY5Ljk4bC0yLjQ5LTFjLS4yMy0uMDktLjQ5IDAtLjYxLjIybC0yIDMuNDZjLS4xMy4yMi0uMDcuNDkuMTIuNjRsMi4xMSAxLjY1Yy0uMDQuMzItLjA3LjY1LS4wNy45OHMuMDMuNjYuMDcuOThsLTIuMTEgMS42NWMtLjE5LjE1LS4yNC40Mi0uMTIuNjRsMiAzLjQ2Yy4xMi4yMi4zOS4zLjYxLjIybDIuNDktMWMuNTIuNCAxLjA4LjczIDEuNjkuOThsLjM4IDIuNjVjLjAzLjI0LjI0LjQyLjQ5LjQyaDRjLjI1IDAgLjQ2LS4xOC40OS0uNDJsLjM4LTIuNjVjLjYxLS4yNSAxLjE3LS41OSAxLjY5LS45OGwyLjQ5IDFjLjIzLjA5LjQ5IDAgLjYxLS4yMmwyLTMuNDZjLjEyLS4yMi4wNy0uNDktLjEyLS42NGwtMi4xMS0xLjY1ek0xMiAxNS41Yy0xLjkzIDAtMy41LTEuNTctMy41LTMuNXMxLjU3LTMuNSAzLjUtMy41IDMuNSAxLjU3IDMuNSAzLjUtMS41NyAzLjUtMy41IDMuNXoiLz4KPC9zdmc+Cg==);
  --jp-icon-spreadsheet: url(data:image/svg+xml;base64,PHN2ZyB4bWxucz0iaHR0cDovL3d3dy53My5vcmcvMjAwMC9zdmciIHdpZHRoPSIxNiIgdmlld0JveD0iMCAwIDIyIDIyIj4KICA8cGF0aCBjbGFzcz0ianAtaWNvbi1jb250cmFzdDEganAtaWNvbi1zZWxlY3RhYmxlIiBmaWxsPSIjNENBRjUwIiBkPSJNMi4yIDIuMnYxNy42aDE3LjZWMi4ySDIuMnptMTUuNCA3LjdoLTUuNVY0LjRoNS41djUuNXpNOS45IDQuNHY1LjVINC40VjQuNGg1LjV6bS01LjUgNy43aDUuNXY1LjVINC40di01LjV6bTcuNyA1LjV2LTUuNWg1LjV2NS41aC01LjV6Ii8+Cjwvc3ZnPgo=);
  --jp-icon-stop: url(data:image/svg+xml;base64,PHN2ZyBoZWlnaHQ9IjI0IiB2aWV3Qm94PSIwIDAgMjQgMjQiIHdpZHRoPSIyNCIgeG1sbnM9Imh0dHA6Ly93d3cudzMub3JnLzIwMDAvc3ZnIj4KICAgIDxnIGNsYXNzPSJqcC1pY29uMyIgZmlsbD0iIzYxNjE2MSI+CiAgICAgICAgPHBhdGggZD0iTTAgMGgyNHYyNEgweiIgZmlsbD0ibm9uZSIvPgogICAgICAgIDxwYXRoIGQ9Ik02IDZoMTJ2MTJINnoiLz4KICAgIDwvZz4KPC9zdmc+Cg==);
  --jp-icon-tab: url(data:image/svg+xml;base64,PHN2ZyB4bWxucz0iaHR0cDovL3d3dy53My5vcmcvMjAwMC9zdmciIHdpZHRoPSIxNiIgdmlld0JveD0iMCAwIDI0IDI0Ij4KICA8ZyBjbGFzcz0ianAtaWNvbjMiIGZpbGw9IiM2MTYxNjEiPgogICAgPHBhdGggZD0iTTIxIDNIM2MtMS4xIDAtMiAuOS0yIDJ2MTRjMCAxLjEuOSAyIDIgMmgxOGMxLjEgMCAyLS45IDItMlY1YzAtMS4xLS45LTItMi0yem0wIDE2SDNWNWgxMHY0aDh2MTB6Ii8+CiAgPC9nPgo8L3N2Zz4K);
  --jp-icon-table-rows: url(data:image/svg+xml;base64,PHN2ZyBoZWlnaHQ9IjI0IiB2aWV3Qm94PSIwIDAgMjQgMjQiIHdpZHRoPSIyNCIgeG1sbnM9Imh0dHA6Ly93d3cudzMub3JnLzIwMDAvc3ZnIj4KICAgIDxnIGNsYXNzPSJqcC1pY29uMyIgZmlsbD0iIzYxNjE2MSI+CiAgICAgICAgPHBhdGggZD0iTTAgMGgyNHYyNEgweiIgZmlsbD0ibm9uZSIvPgogICAgICAgIDxwYXRoIGQ9Ik0yMSw4SDNWNGgxOFY4eiBNMjEsMTBIM3Y0aDE4VjEweiBNMjEsMTZIM3Y0aDE4VjE2eiIvPgogICAgPC9nPgo8L3N2Zz4=);
  --jp-icon-tag: url(data:image/svg+xml;base64,PHN2ZyB3aWR0aD0iMjgiIGhlaWdodD0iMjgiIHZpZXdCb3g9IjAgMCA0MyAyOCIgeG1sbnM9Imh0dHA6Ly93d3cudzMub3JnLzIwMDAvc3ZnIj4KCTxnIGNsYXNzPSJqcC1pY29uMyIgZmlsbD0iIzYxNjE2MSI+CgkJPHBhdGggZD0iTTI4LjgzMzIgMTIuMzM0TDMyLjk5OTggMTYuNTAwN0wzNy4xNjY1IDEyLjMzNEgyOC44MzMyWiIvPgoJCTxwYXRoIGQ9Ik0xNi4yMDk1IDIxLjYxMDRDMTUuNjg3MyAyMi4xMjk5IDE0Ljg0NDMgMjIuMTI5OSAxNC4zMjQ4IDIxLjYxMDRMNi45ODI5IDE0LjcyNDVDNi41NzI0IDE0LjMzOTQgNi4wODMxMyAxMy42MDk4IDYuMDQ3ODYgMTMuMDQ4MkM1Ljk1MzQ3IDExLjUyODggNi4wMjAwMiA4LjYxOTQ0IDYuMDY2MjEgNy4wNzY5NUM2LjA4MjgxIDYuNTE0NzcgNi41NTU0OCA2LjA0MzQ3IDcuMTE4MDQgNi4wMzA1NUM5LjA4ODYzIDUuOTg0NzMgMTMuMjYzOCA1LjkzNTc5IDEzLjY1MTggNi4zMjQyNUwyMS43MzY5IDEzLjYzOUMyMi4yNTYgMTQuMTU4NSAyMS43ODUxIDE1LjQ3MjQgMjEuMjYyIDE1Ljk5NDZMMTYuMjA5NSAyMS42MTA0Wk05Ljc3NTg1IDguMjY1QzkuMzM1NTEgNy44MjU2NiA4LjYyMzUxIDcuODI1NjYgOC4xODI4IDguMjY1QzcuNzQzNDYgOC43MDU3MSA3Ljc0MzQ2IDkuNDE3MzMgOC4xODI4IDkuODU2NjdDOC42MjM4MiAxMC4yOTY0IDkuMzM1ODIgMTAuMjk2NCA5Ljc3NTg1IDkuODU2NjdDMTAuMjE1NiA5LjQxNzMzIDEwLjIxNTYgOC43MDUzMyA5Ljc3NTg1IDguMjY1WiIvPgoJPC9nPgo8L3N2Zz4K);
  --jp-icon-terminal: url(data:image/svg+xml;base64,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);
  --jp-icon-text-editor: url(data:image/svg+xml;base64,PHN2ZyB4bWxucz0iaHR0cDovL3d3dy53My5vcmcvMjAwMC9zdmciIHdpZHRoPSIxNiIgdmlld0JveD0iMCAwIDI0IDI0Ij4KICA8cGF0aCBjbGFzcz0ianAtaWNvbjMganAtaWNvbi1zZWxlY3RhYmxlIiBmaWxsPSIjNjE2MTYxIiBkPSJNMTUgMTVIM3YyaDEydi0yem0wLThIM3YyaDEyVjd6TTMgMTNoMTh2LTJIM3Yyem0wIDhoMTh2LTJIM3Yyek0zIDN2MmgxOFYzSDN6Ii8+Cjwvc3ZnPgo=);
  --jp-icon-toc: url(data:image/svg+xml;base64,PHN2ZyB4bWxucz0iaHR0cDovL3d3dy53My5vcmcvMjAwMC9zdmciIHdpZHRoPSIyNCIgaGVpZ2h0PSIyNCIgdmlld0JveD0iMCAwIDI0IDI0Ij4KICA8ZyBjbGFzcz0ianAtaWNvbjMganAtaWNvbi1zZWxlY3RhYmxlIiBmaWxsPSIjNjE2MTYxIj4KICAgIDxwYXRoIGQ9Ik03LDVIMjFWN0g3VjVNNywxM1YxMUgyMVYxM0g3TTQsNC41QTEuNSwxLjUgMCAwLDEgNS41LDZBMS41LDEuNSAwIDAsMSA0LDcuNUExLjUsMS41IDAgMCwxIDIuNSw2QTEuNSwxLjUgMCAwLDEgNCw0LjVNNCwxMC41QTEuNSwxLjUgMCAwLDEgNS41LDEyQTEuNSwxLjUgMCAwLDEgNCwxMy41QTEuNSwxLjUgMCAwLDEgMi41LDEyQTEuNSwxLjUgMCAwLDEgNCwxMC41TTcsMTlWMTdIMjFWMTlIN000LDE2LjVBMS41LDEuNSAwIDAsMSA1LjUsMThBMS41LDEuNSAwIDAsMSA0LDE5LjVBMS41LDEuNSAwIDAsMSAyLjUsMThBMS41LDEuNSAwIDAsMSA0LDE2LjVaIiAvPgogIDwvZz4KPC9zdmc+Cg==);
  --jp-icon-tree-view: url(data:image/svg+xml;base64,PHN2ZyBoZWlnaHQ9IjI0IiB2aWV3Qm94PSIwIDAgMjQgMjQiIHdpZHRoPSIyNCIgeG1sbnM9Imh0dHA6Ly93d3cudzMub3JnLzIwMDAvc3ZnIj4KICAgIDxnIGNsYXNzPSJqcC1pY29uMyIgZmlsbD0iIzYxNjE2MSI+CiAgICAgICAgPHBhdGggZD0iTTAgMGgyNHYyNEgweiIgZmlsbD0ibm9uZSIvPgogICAgICAgIDxwYXRoIGQ9Ik0yMiAxMVYzaC03djNIOVYzSDJ2OGg3VjhoMnYxMGg0djNoN3YtOGgtN3YzaC0yVjhoMnYzeiIvPgogICAgPC9nPgo8L3N2Zz4=);
  --jp-icon-trusted: url(data:image/svg+xml;base64,PHN2ZyBmaWxsPSJub25lIiB4bWxucz0iaHR0cDovL3d3dy53My5vcmcvMjAwMC9zdmciIHdpZHRoPSIxNiIgdmlld0JveD0iMCAwIDI0IDI1Ij4KICAgIDxwYXRoIGNsYXNzPSJqcC1pY29uMiIgc3Ryb2tlPSIjMzMzMzMzIiBzdHJva2Utd2lkdGg9IjIiIHRyYW5zZm9ybT0idHJhbnNsYXRlKDIgMykiIGQ9Ik0xLjg2MDk0IDExLjQ0MDlDMC44MjY0NDggOC43NzAyNyAwLjg2Mzc3OSA2LjA1NzY0IDEuMjQ5MDcgNC4xOTkzMkMyLjQ4MjA2IDMuOTMzNDcgNC4wODA2OCAzLjQwMzQ3IDUuNjAxMDIgMi44NDQ5QzcuMjM1NDkgMi4yNDQ0IDguODU2NjYgMS41ODE1IDkuOTg3NiAxLjA5NTM5QzExLjA1OTcgMS41ODM0MSAxMi42MDk0IDIuMjQ0NCAxNC4yMTggMi44NDMzOUMxNS43NTAzIDMuNDEzOTQgMTcuMzk5NSAzLjk1MjU4IDE4Ljc1MzkgNC4yMTM4NUMxOS4xMzY0IDYuMDcxNzcgMTkuMTcwOSA4Ljc3NzIyIDE4LjEzOSAxMS40NDA5QzE3LjAzMDMgMTQuMzAzMiAxNC42NjY4IDE3LjE4NDQgOS45OTk5OSAxOC45MzU0QzUuMzMzMiAxNy4xODQ0IDIuOTY5NjggMTQuMzAzMiAxLjg2MDk0IDExLjQ0MDlaIi8+CiAgICA8cGF0aCBjbGFzcz0ianAtaWNvbjIiIGZpbGw9IiMzMzMzMzMiIHN0cm9rZT0iIzMzMzMzMyIgdHJhbnNmb3JtPSJ0cmFuc2xhdGUoOCA5Ljg2NzE5KSIgZD0iTTIuODYwMTUgNC44NjUzNUwwLjcyNjU0OSAyLjk5OTU5TDAgMy42MzA0NUwyLjg2MDE1IDYuMTMxNTdMOCAwLjYzMDg3Mkw3LjI3ODU3IDBMMi44NjAxNSA0Ljg2NTM1WiIvPgo8L3N2Zz4K);
  --jp-icon-undo: url(data:image/svg+xml;base64,PHN2ZyB2aWV3Qm94PSIwIDAgMjQgMjQiIHdpZHRoPSIxNiIgeG1sbnM9Imh0dHA6Ly93d3cudzMub3JnLzIwMDAvc3ZnIj4KICA8ZyBjbGFzcz0ianAtaWNvbjMiIGZpbGw9IiM2MTYxNjEiPgogICAgPHBhdGggZD0iTTEyLjUgOGMtMi42NSAwLTUuMDUuOTktNi45IDIuNkwyIDd2OWg5bC0zLjYyLTMuNjJjMS4zOS0xLjE2IDMuMTYtMS44OCA1LjEyLTEuODggMy41NCAwIDYuNTUgMi4zMSA3LjYgNS41bDIuMzctLjc4QzIxLjA4IDExLjAzIDE3LjE1IDggMTIuNSA4eiIvPgogIDwvZz4KPC9zdmc+Cg==);
  --jp-icon-vega: url(data:image/svg+xml;base64,PHN2ZyB4bWxucz0iaHR0cDovL3d3dy53My5vcmcvMjAwMC9zdmciIHdpZHRoPSIxNiIgdmlld0JveD0iMCAwIDIyIDIyIj4KICA8ZyBjbGFzcz0ianAtaWNvbjEganAtaWNvbi1zZWxlY3RhYmxlIiBmaWxsPSIjMjEyMTIxIj4KICAgIDxwYXRoIGQ9Ik0xMC42IDUuNGwyLjItMy4ySDIuMnY3LjNsNC02LjZ6Ii8+CiAgICA8cGF0aCBkPSJNMTUuOCAyLjJsLTQuNCA2LjZMNyA2LjNsLTQuOCA4djUuNWgxNy42VjIuMmgtNHptLTcgMTUuNEg1LjV2LTQuNGgzLjN2NC40em00LjQgMEg5LjhWOS44aDMuNHY3Ljh6bTQuNCAwaC0zLjRWNi41aDMuNHYxMS4xeiIvPgogIDwvZz4KPC9zdmc+Cg==);
  --jp-icon-yaml: url(data:image/svg+xml;base64,PHN2ZyB4bWxucz0iaHR0cDovL3d3dy53My5vcmcvMjAwMC9zdmciIHdpZHRoPSIxNiIgdmlld0JveD0iMCAwIDIyIDIyIj4KICA8ZyBjbGFzcz0ianAtaWNvbi1jb250cmFzdDIganAtaWNvbi1zZWxlY3RhYmxlIiBmaWxsPSIjRDgxQjYwIj4KICAgIDxwYXRoIGQ9Ik03LjIgMTguNnYtNS40TDMgNS42aDMuM2wxLjQgMy4xYy4zLjkuNiAxLjYgMSAyLjUuMy0uOC42LTEuNiAxLTIuNWwxLjQtMy4xaDMuNGwtNC40IDcuNnY1LjVsLTIuOS0uMXoiLz4KICAgIDxjaXJjbGUgY2xhc3M9InN0MCIgY3g9IjE3LjYiIGN5PSIxNi41IiByPSIyLjEiLz4KICAgIDxjaXJjbGUgY2xhc3M9InN0MCIgY3g9IjE3LjYiIGN5PSIxMSIgcj0iMi4xIi8+CiAgPC9nPgo8L3N2Zz4K);
}

/* Icon CSS class declarations */

.jp-AddIcon {
  background-image: var(--jp-icon-add);
}
.jp-BugIcon {
  background-image: var(--jp-icon-bug);
}
.jp-BuildIcon {
  background-image: var(--jp-icon-build);
}
.jp-CaretDownEmptyIcon {
  background-image: var(--jp-icon-caret-down-empty);
}
.jp-CaretDownEmptyThinIcon {
  background-image: var(--jp-icon-caret-down-empty-thin);
}
.jp-CaretDownIcon {
  background-image: var(--jp-icon-caret-down);
}
.jp-CaretLeftIcon {
  background-image: var(--jp-icon-caret-left);
}
.jp-CaretRightIcon {
  background-image: var(--jp-icon-caret-right);
}
.jp-CaretUpEmptyThinIcon {
  background-image: var(--jp-icon-caret-up-empty-thin);
}
.jp-CaretUpIcon {
  background-image: var(--jp-icon-caret-up);
}
.jp-CaseSensitiveIcon {
  background-image: var(--jp-icon-case-sensitive);
}
.jp-CheckIcon {
  background-image: var(--jp-icon-check);
}
.jp-CircleEmptyIcon {
  background-image: var(--jp-icon-circle-empty);
}
.jp-CircleIcon {
  background-image: var(--jp-icon-circle);
}
.jp-ClearIcon {
  background-image: var(--jp-icon-clear);
}
.jp-CloseIcon {
  background-image: var(--jp-icon-close);
}
.jp-CodeIcon {
  background-image: var(--jp-icon-code);
}
.jp-ConsoleIcon {
  background-image: var(--jp-icon-console);
}
.jp-CopyIcon {
  background-image: var(--jp-icon-copy);
}
.jp-CopyrightIcon {
  background-image: var(--jp-icon-copyright);
}
.jp-CutIcon {
  background-image: var(--jp-icon-cut);
}
.jp-DownloadIcon {
  background-image: var(--jp-icon-download);
}
.jp-EditIcon {
  background-image: var(--jp-icon-edit);
}
.jp-EllipsesIcon {
  background-image: var(--jp-icon-ellipses);
}
.jp-ExtensionIcon {
  background-image: var(--jp-icon-extension);
}
.jp-FastForwardIcon {
  background-image: var(--jp-icon-fast-forward);
}
.jp-FileIcon {
  background-image: var(--jp-icon-file);
}
.jp-FileUploadIcon {
  background-image: var(--jp-icon-file-upload);
}
.jp-FilterListIcon {
  background-image: var(--jp-icon-filter-list);
}
.jp-FolderIcon {
  background-image: var(--jp-icon-folder);
}
.jp-Html5Icon {
  background-image: var(--jp-icon-html5);
}
.jp-ImageIcon {
  background-image: var(--jp-icon-image);
}
.jp-InspectorIcon {
  background-image: var(--jp-icon-inspector);
}
.jp-JsonIcon {
  background-image: var(--jp-icon-json);
}
.jp-JuliaIcon {
  background-image: var(--jp-icon-julia);
}
.jp-JupyterFaviconIcon {
  background-image: var(--jp-icon-jupyter-favicon);
}
.jp-JupyterIcon {
  background-image: var(--jp-icon-jupyter);
}
.jp-JupyterlabWordmarkIcon {
  background-image: var(--jp-icon-jupyterlab-wordmark);
}
.jp-KernelIcon {
  background-image: var(--jp-icon-kernel);
}
.jp-KeyboardIcon {
  background-image: var(--jp-icon-keyboard);
}
.jp-LauncherIcon {
  background-image: var(--jp-icon-launcher);
}
.jp-LineFormIcon {
  background-image: var(--jp-icon-line-form);
}
.jp-LinkIcon {
  background-image: var(--jp-icon-link);
}
.jp-ListIcon {
  background-image: var(--jp-icon-list);
}
.jp-ListingsInfoIcon {
  background-image: var(--jp-icon-listings-info);
}
.jp-MarkdownIcon {
  background-image: var(--jp-icon-markdown);
}
.jp-NewFolderIcon {
  background-image: var(--jp-icon-new-folder);
}
.jp-NotTrustedIcon {
  background-image: var(--jp-icon-not-trusted);
}
.jp-NotebookIcon {
  background-image: var(--jp-icon-notebook);
}
.jp-NumberingIcon {
  background-image: var(--jp-icon-numbering);
}
.jp-OfflineBoltIcon {
  background-image: var(--jp-icon-offline-bolt);
}
.jp-PaletteIcon {
  background-image: var(--jp-icon-palette);
}
.jp-PasteIcon {
  background-image: var(--jp-icon-paste);
}
.jp-PdfIcon {
  background-image: var(--jp-icon-pdf);
}
.jp-PythonIcon {
  background-image: var(--jp-icon-python);
}
.jp-RKernelIcon {
  background-image: var(--jp-icon-r-kernel);
}
.jp-ReactIcon {
  background-image: var(--jp-icon-react);
}
.jp-RedoIcon {
  background-image: var(--jp-icon-redo);
}
.jp-RefreshIcon {
  background-image: var(--jp-icon-refresh);
}
.jp-RegexIcon {
  background-image: var(--jp-icon-regex);
}
.jp-RunIcon {
  background-image: var(--jp-icon-run);
}
.jp-RunningIcon {
  background-image: var(--jp-icon-running);
}
.jp-SaveIcon {
  background-image: var(--jp-icon-save);
}
.jp-SearchIcon {
  background-image: var(--jp-icon-search);
}
.jp-SettingsIcon {
  background-image: var(--jp-icon-settings);
}
.jp-SpreadsheetIcon {
  background-image: var(--jp-icon-spreadsheet);
}
.jp-StopIcon {
  background-image: var(--jp-icon-stop);
}
.jp-TabIcon {
  background-image: var(--jp-icon-tab);
}
.jp-TableRowsIcon {
  background-image: var(--jp-icon-table-rows);
}
.jp-TagIcon {
  background-image: var(--jp-icon-tag);
}
.jp-TerminalIcon {
  background-image: var(--jp-icon-terminal);
}
.jp-TextEditorIcon {
  background-image: var(--jp-icon-text-editor);
}
.jp-TocIcon {
  background-image: var(--jp-icon-toc);
}
.jp-TreeViewIcon {
  background-image: var(--jp-icon-tree-view);
}
.jp-TrustedIcon {
  background-image: var(--jp-icon-trusted);
}
.jp-UndoIcon {
  background-image: var(--jp-icon-undo);
}
.jp-VegaIcon {
  background-image: var(--jp-icon-vega);
}
.jp-YamlIcon {
  background-image: var(--jp-icon-yaml);
}

/*-----------------------------------------------------------------------------
| Copyright (c) Jupyter Development Team.
| Distributed under the terms of the Modified BSD License.
|----------------------------------------------------------------------------*/

/**
 * (DEPRECATED) Support for consuming icons as CSS background images
 */

.jp-Icon,
.jp-MaterialIcon {
  background-position: center;
  background-repeat: no-repeat;
  background-size: 16px;
  min-width: 16px;
  min-height: 16px;
}

.jp-Icon-cover {
  background-position: center;
  background-repeat: no-repeat;
  background-size: cover;
}

/**
 * (DEPRECATED) Support for specific CSS icon sizes
 */

.jp-Icon-16 {
  background-size: 16px;
  min-width: 16px;
  min-height: 16px;
}

.jp-Icon-18 {
  background-size: 18px;
  min-width: 18px;
  min-height: 18px;
}

.jp-Icon-20 {
  background-size: 20px;
  min-width: 20px;
  min-height: 20px;
}

/*-----------------------------------------------------------------------------
| Copyright (c) Jupyter Development Team.
| Distributed under the terms of the Modified BSD License.
|----------------------------------------------------------------------------*/

/**
 * Support for icons as inline SVG HTMLElements
 */

/* recolor the primary elements of an icon */
.jp-icon0[fill] {
  fill: var(--jp-inverse-layout-color0);
}
.jp-icon1[fill] {
  fill: var(--jp-inverse-layout-color1);
}
.jp-icon2[fill] {
  fill: var(--jp-inverse-layout-color2);
}
.jp-icon3[fill] {
  fill: var(--jp-inverse-layout-color3);
}
.jp-icon4[fill] {
  fill: var(--jp-inverse-layout-color4);
}

.jp-icon0[stroke] {
  stroke: var(--jp-inverse-layout-color0);
}
.jp-icon1[stroke] {
  stroke: var(--jp-inverse-layout-color1);
}
.jp-icon2[stroke] {
  stroke: var(--jp-inverse-layout-color2);
}
.jp-icon3[stroke] {
  stroke: var(--jp-inverse-layout-color3);
}
.jp-icon4[stroke] {
  stroke: var(--jp-inverse-layout-color4);
}
/* recolor the accent elements of an icon */
.jp-icon-accent0[fill] {
  fill: var(--jp-layout-color0);
}
.jp-icon-accent1[fill] {
  fill: var(--jp-layout-color1);
}
.jp-icon-accent2[fill] {
  fill: var(--jp-layout-color2);
}
.jp-icon-accent3[fill] {
  fill: var(--jp-layout-color3);
}
.jp-icon-accent4[fill] {
  fill: var(--jp-layout-color4);
}

.jp-icon-accent0[stroke] {
  stroke: var(--jp-layout-color0);
}
.jp-icon-accent1[stroke] {
  stroke: var(--jp-layout-color1);
}
.jp-icon-accent2[stroke] {
  stroke: var(--jp-layout-color2);
}
.jp-icon-accent3[stroke] {
  stroke: var(--jp-layout-color3);
}
.jp-icon-accent4[stroke] {
  stroke: var(--jp-layout-color4);
}
/* set the color of an icon to transparent */
.jp-icon-none[fill] {
  fill: none;
}

.jp-icon-none[stroke] {
  stroke: none;
}
/* brand icon colors. Same for light and dark */
.jp-icon-brand0[fill] {
  fill: var(--jp-brand-color0);
}
.jp-icon-brand1[fill] {
  fill: var(--jp-brand-color1);
}
.jp-icon-brand2[fill] {
  fill: var(--jp-brand-color2);
}
.jp-icon-brand3[fill] {
  fill: var(--jp-brand-color3);
}
.jp-icon-brand4[fill] {
  fill: var(--jp-brand-color4);
}

.jp-icon-brand0[stroke] {
  stroke: var(--jp-brand-color0);
}
.jp-icon-brand1[stroke] {
  stroke: var(--jp-brand-color1);
}
.jp-icon-brand2[stroke] {
  stroke: var(--jp-brand-color2);
}
.jp-icon-brand3[stroke] {
  stroke: var(--jp-brand-color3);
}
.jp-icon-brand4[stroke] {
  stroke: var(--jp-brand-color4);
}
/* warn icon colors. Same for light and dark */
.jp-icon-warn0[fill] {
  fill: var(--jp-warn-color0);
}
.jp-icon-warn1[fill] {
  fill: var(--jp-warn-color1);
}
.jp-icon-warn2[fill] {
  fill: var(--jp-warn-color2);
}
.jp-icon-warn3[fill] {
  fill: var(--jp-warn-color3);
}

.jp-icon-warn0[stroke] {
  stroke: var(--jp-warn-color0);
}
.jp-icon-warn1[stroke] {
  stroke: var(--jp-warn-color1);
}
.jp-icon-warn2[stroke] {
  stroke: var(--jp-warn-color2);
}
.jp-icon-warn3[stroke] {
  stroke: var(--jp-warn-color3);
}
/* icon colors that contrast well with each other and most backgrounds */
.jp-icon-contrast0[fill] {
  fill: var(--jp-icon-contrast-color0);
}
.jp-icon-contrast1[fill] {
  fill: var(--jp-icon-contrast-color1);
}
.jp-icon-contrast2[fill] {
  fill: var(--jp-icon-contrast-color2);
}
.jp-icon-contrast3[fill] {
  fill: var(--jp-icon-contrast-color3);
}

.jp-icon-contrast0[stroke] {
  stroke: var(--jp-icon-contrast-color0);
}
.jp-icon-contrast1[stroke] {
  stroke: var(--jp-icon-contrast-color1);
}
.jp-icon-contrast2[stroke] {
  stroke: var(--jp-icon-contrast-color2);
}
.jp-icon-contrast3[stroke] {
  stroke: var(--jp-icon-contrast-color3);
}

/* CSS for icons in selected items in the settings editor */
#setting-editor .jp-PluginList .jp-mod-selected .jp-icon-selectable[fill] {
  fill: #fff;
}
#setting-editor
  .jp-PluginList
  .jp-mod-selected
  .jp-icon-selectable-inverse[fill] {
  fill: var(--jp-brand-color1);
}

/* CSS for icons in selected filebrowser listing items */
.jp-DirListing-item.jp-mod-selected .jp-icon-selectable[fill] {
  fill: #fff;
}
.jp-DirListing-item.jp-mod-selected .jp-icon-selectable-inverse[fill] {
  fill: var(--jp-brand-color1);
}

/* CSS for icons in selected tabs in the sidebar tab manager */
#tab-manager .lm-TabBar-tab.jp-mod-active .jp-icon-selectable[fill] {
  fill: #fff;
}

#tab-manager .lm-TabBar-tab.jp-mod-active .jp-icon-selectable-inverse[fill] {
  fill: var(--jp-brand-color1);
}
#tab-manager
  .lm-TabBar-tab.jp-mod-active
  .jp-icon-hover
  :hover
  .jp-icon-selectable[fill] {
  fill: var(--jp-brand-color1);
}

#tab-manager
  .lm-TabBar-tab.jp-mod-active
  .jp-icon-hover
  :hover
  .jp-icon-selectable-inverse[fill] {
  fill: #fff;
}

/**
 * TODO: come up with non css-hack solution for showing the busy icon on top
 *  of the close icon
 * CSS for complex behavior of close icon of tabs in the sidebar tab manager
 */
#tab-manager
  .lm-TabBar-tab.jp-mod-dirty
  > .lm-TabBar-tabCloseIcon
  > :not(:hover)
  > .jp-icon3[fill] {
  fill: none;
}
#tab-manager
  .lm-TabBar-tab.jp-mod-dirty
  > .lm-TabBar-tabCloseIcon
  > :not(:hover)
  > .jp-icon-busy[fill] {
  fill: var(--jp-inverse-layout-color3);
}

#tab-manager
  .lm-TabBar-tab.jp-mod-dirty.jp-mod-active
  > .lm-TabBar-tabCloseIcon
  > :not(:hover)
  > .jp-icon-busy[fill] {
  fill: #fff;
}

/**
* TODO: come up with non css-hack solution for showing the busy icon on top
*  of the close icon
* CSS for complex behavior of close icon of tabs in the main area tabbar
*/
.lm-DockPanel-tabBar
  .lm-TabBar-tab.lm-mod-closable.jp-mod-dirty
  > .lm-TabBar-tabCloseIcon
  > :not(:hover)
  > .jp-icon3[fill] {
  fill: none;
}
.lm-DockPanel-tabBar
  .lm-TabBar-tab.lm-mod-closable.jp-mod-dirty
  > .lm-TabBar-tabCloseIcon
  > :not(:hover)
  > .jp-icon-busy[fill] {
  fill: var(--jp-inverse-layout-color3);
}

/* CSS for icons in status bar */
#jp-main-statusbar .jp-mod-selected .jp-icon-selectable[fill] {
  fill: #fff;
}

#jp-main-statusbar .jp-mod-selected .jp-icon-selectable-inverse[fill] {
  fill: var(--jp-brand-color1);
}
/* special handling for splash icon CSS. While the theme CSS reloads during
   splash, the splash icon can loose theming. To prevent that, we set a
   default for its color variable */
:root {
  --jp-warn-color0: var(--md-orange-700);
}

/* not sure what to do with this one, used in filebrowser listing */
.jp-DragIcon {
  margin-right: 4px;
}

/*-----------------------------------------------------------------------------
| Copyright (c) Jupyter Development Team.
| Distributed under the terms of the Modified BSD License.
|----------------------------------------------------------------------------*/

/**
 * Support for alt colors for icons as inline SVG HTMLElements
 */

/* alt recolor the primary elements of an icon */
.jp-icon-alt .jp-icon0[fill] {
  fill: var(--jp-layout-color0);
}
.jp-icon-alt .jp-icon1[fill] {
  fill: var(--jp-layout-color1);
}
.jp-icon-alt .jp-icon2[fill] {
  fill: var(--jp-layout-color2);
}
.jp-icon-alt .jp-icon3[fill] {
  fill: var(--jp-layout-color3);
}
.jp-icon-alt .jp-icon4[fill] {
  fill: var(--jp-layout-color4);
}

.jp-icon-alt .jp-icon0[stroke] {
  stroke: var(--jp-layout-color0);
}
.jp-icon-alt .jp-icon1[stroke] {
  stroke: var(--jp-layout-color1);
}
.jp-icon-alt .jp-icon2[stroke] {
  stroke: var(--jp-layout-color2);
}
.jp-icon-alt .jp-icon3[stroke] {
  stroke: var(--jp-layout-color3);
}
.jp-icon-alt .jp-icon4[stroke] {
  stroke: var(--jp-layout-color4);
}

/* alt recolor the accent elements of an icon */
.jp-icon-alt .jp-icon-accent0[fill] {
  fill: var(--jp-inverse-layout-color0);
}
.jp-icon-alt .jp-icon-accent1[fill] {
  fill: var(--jp-inverse-layout-color1);
}
.jp-icon-alt .jp-icon-accent2[fill] {
  fill: var(--jp-inverse-layout-color2);
}
.jp-icon-alt .jp-icon-accent3[fill] {
  fill: var(--jp-inverse-layout-color3);
}
.jp-icon-alt .jp-icon-accent4[fill] {
  fill: var(--jp-inverse-layout-color4);
}

.jp-icon-alt .jp-icon-accent0[stroke] {
  stroke: var(--jp-inverse-layout-color0);
}
.jp-icon-alt .jp-icon-accent1[stroke] {
  stroke: var(--jp-inverse-layout-color1);
}
.jp-icon-alt .jp-icon-accent2[stroke] {
  stroke: var(--jp-inverse-layout-color2);
}
.jp-icon-alt .jp-icon-accent3[stroke] {
  stroke: var(--jp-inverse-layout-color3);
}
.jp-icon-alt .jp-icon-accent4[stroke] {
  stroke: var(--jp-inverse-layout-color4);
}

/*-----------------------------------------------------------------------------
| Copyright (c) Jupyter Development Team.
| Distributed under the terms of the Modified BSD License.
|----------------------------------------------------------------------------*/

.jp-icon-hoverShow:not(:hover) svg {
  display: none !important;
}

/**
 * Support for hover colors for icons as inline SVG HTMLElements
 */

/**
 * regular colors
 */

/* recolor the primary elements of an icon */
.jp-icon-hover :hover .jp-icon0-hover[fill] {
  fill: var(--jp-inverse-layout-color0);
}
.jp-icon-hover :hover .jp-icon1-hover[fill] {
  fill: var(--jp-inverse-layout-color1);
}
.jp-icon-hover :hover .jp-icon2-hover[fill] {
  fill: var(--jp-inverse-layout-color2);
}
.jp-icon-hover :hover .jp-icon3-hover[fill] {
  fill: var(--jp-inverse-layout-color3);
}
.jp-icon-hover :hover .jp-icon4-hover[fill] {
  fill: var(--jp-inverse-layout-color4);
}

.jp-icon-hover :hover .jp-icon0-hover[stroke] {
  stroke: var(--jp-inverse-layout-color0);
}
.jp-icon-hover :hover .jp-icon1-hover[stroke] {
  stroke: var(--jp-inverse-layout-color1);
}
.jp-icon-hover :hover .jp-icon2-hover[stroke] {
  stroke: var(--jp-inverse-layout-color2);
}
.jp-icon-hover :hover .jp-icon3-hover[stroke] {
  stroke: var(--jp-inverse-layout-color3);
}
.jp-icon-hover :hover .jp-icon4-hover[stroke] {
  stroke: var(--jp-inverse-layout-color4);
}

/* recolor the accent elements of an icon */
.jp-icon-hover :hover .jp-icon-accent0-hover[fill] {
  fill: var(--jp-layout-color0);
}
.jp-icon-hover :hover .jp-icon-accent1-hover[fill] {
  fill: var(--jp-layout-color1);
}
.jp-icon-hover :hover .jp-icon-accent2-hover[fill] {
  fill: var(--jp-layout-color2);
}
.jp-icon-hover :hover .jp-icon-accent3-hover[fill] {
  fill: var(--jp-layout-color3);
}
.jp-icon-hover :hover .jp-icon-accent4-hover[fill] {
  fill: var(--jp-layout-color4);
}

.jp-icon-hover :hover .jp-icon-accent0-hover[stroke] {
  stroke: var(--jp-layout-color0);
}
.jp-icon-hover :hover .jp-icon-accent1-hover[stroke] {
  stroke: var(--jp-layout-color1);
}
.jp-icon-hover :hover .jp-icon-accent2-hover[stroke] {
  stroke: var(--jp-layout-color2);
}
.jp-icon-hover :hover .jp-icon-accent3-hover[stroke] {
  stroke: var(--jp-layout-color3);
}
.jp-icon-hover :hover .jp-icon-accent4-hover[stroke] {
  stroke: var(--jp-layout-color4);
}

/* set the color of an icon to transparent */
.jp-icon-hover :hover .jp-icon-none-hover[fill] {
  fill: none;
}

.jp-icon-hover :hover .jp-icon-none-hover[stroke] {
  stroke: none;
}

/**
 * inverse colors
 */

/* inverse recolor the primary elements of an icon */
.jp-icon-hover.jp-icon-alt :hover .jp-icon0-hover[fill] {
  fill: var(--jp-layout-color0);
}
.jp-icon-hover.jp-icon-alt :hover .jp-icon1-hover[fill] {
  fill: var(--jp-layout-color1);
}
.jp-icon-hover.jp-icon-alt :hover .jp-icon2-hover[fill] {
  fill: var(--jp-layout-color2);
}
.jp-icon-hover.jp-icon-alt :hover .jp-icon3-hover[fill] {
  fill: var(--jp-layout-color3);
}
.jp-icon-hover.jp-icon-alt :hover .jp-icon4-hover[fill] {
  fill: var(--jp-layout-color4);
}

.jp-icon-hover.jp-icon-alt :hover .jp-icon0-hover[stroke] {
  stroke: var(--jp-layout-color0);
}
.jp-icon-hover.jp-icon-alt :hover .jp-icon1-hover[stroke] {
  stroke: var(--jp-layout-color1);
}
.jp-icon-hover.jp-icon-alt :hover .jp-icon2-hover[stroke] {
  stroke: var(--jp-layout-color2);
}
.jp-icon-hover.jp-icon-alt :hover .jp-icon3-hover[stroke] {
  stroke: var(--jp-layout-color3);
}
.jp-icon-hover.jp-icon-alt :hover .jp-icon4-hover[stroke] {
  stroke: var(--jp-layout-color4);
}

/* inverse recolor the accent elements of an icon */
.jp-icon-hover.jp-icon-alt :hover .jp-icon-accent0-hover[fill] {
  fill: var(--jp-inverse-layout-color0);
}
.jp-icon-hover.jp-icon-alt :hover .jp-icon-accent1-hover[fill] {
  fill: var(--jp-inverse-layout-color1);
}
.jp-icon-hover.jp-icon-alt :hover .jp-icon-accent2-hover[fill] {
  fill: var(--jp-inverse-layout-color2);
}
.jp-icon-hover.jp-icon-alt :hover .jp-icon-accent3-hover[fill] {
  fill: var(--jp-inverse-layout-color3);
}
.jp-icon-hover.jp-icon-alt :hover .jp-icon-accent4-hover[fill] {
  fill: var(--jp-inverse-layout-color4);
}

.jp-icon-hover.jp-icon-alt :hover .jp-icon-accent0-hover[stroke] {
  stroke: var(--jp-inverse-layout-color0);
}
.jp-icon-hover.jp-icon-alt :hover .jp-icon-accent1-hover[stroke] {
  stroke: var(--jp-inverse-layout-color1);
}
.jp-icon-hover.jp-icon-alt :hover .jp-icon-accent2-hover[stroke] {
  stroke: var(--jp-inverse-layout-color2);
}
.jp-icon-hover.jp-icon-alt :hover .jp-icon-accent3-hover[stroke] {
  stroke: var(--jp-inverse-layout-color3);
}
.jp-icon-hover.jp-icon-alt :hover .jp-icon-accent4-hover[stroke] {
  stroke: var(--jp-inverse-layout-color4);
}

/*-----------------------------------------------------------------------------
| Copyright (c) Jupyter Development Team.
| Distributed under the terms of the Modified BSD License.
|----------------------------------------------------------------------------*/

.jp-switch {
  display: flex;
  align-items: center;
  padding-left: 4px;
  padding-right: 4px;
  font-size: var(--jp-ui-font-size1);
  background-color: transparent;
  color: var(--jp-ui-font-color1);
  border: none;
  height: 20px;
}

.jp-switch:hover {
  background-color: var(--jp-layout-color2);
}

.jp-switch-label {
  margin-right: 5px;
}

.jp-switch-track {
  cursor: pointer;
  background-color: var(--jp-border-color1);
  -webkit-transition: 0.4s;
  transition: 0.4s;
  border-radius: 34px;
  height: 16px;
  width: 35px;
  position: relative;
}

.jp-switch-track::before {
  content: '';
  position: absolute;
  height: 10px;
  width: 10px;
  margin: 3px;
  left: 0px;
  background-color: var(--jp-ui-inverse-font-color1);
  -webkit-transition: 0.4s;
  transition: 0.4s;
  border-radius: 50%;
}

.jp-switch[aria-checked='true'] .jp-switch-track {
  background-color: var(--jp-warn-color0);
}

.jp-switch[aria-checked='true'] .jp-switch-track::before {
  /* track width (35) - margins (3 + 3) - thumb width (10) */
  left: 19px;
}

/*-----------------------------------------------------------------------------
| Copyright (c) Jupyter Development Team.
| Distributed under the terms of the Modified BSD License.
|----------------------------------------------------------------------------*/

/* Sibling imports */

/* Override Blueprint's _reset.scss styles */
html {
  box-sizing: unset;
}

*,
*::before,
*::after {
  box-sizing: unset;
}

body {
  color: unset;
  font-family: var(--jp-ui-font-family);
}

p {
  margin-top: unset;
  margin-bottom: unset;
}

small {
  font-size: unset;
}

strong {
  font-weight: unset;
}

/* Override Blueprint's _typography.scss styles */
a {
  text-decoration: unset;
  color: unset;
}
a:hover {
  text-decoration: unset;
  color: unset;
}

/* Override Blueprint's _accessibility.scss styles */
:focus {
  outline: unset;
  outline-offset: unset;
  -moz-outline-radius: unset;
}

/* Styles for ui-components */
.jp-Button {
  border-radius: var(--jp-border-radius);
  padding: 0px 12px;
  font-size: var(--jp-ui-font-size1);
}

/* Use our own theme for hover styles */
button.jp-Button.bp3-button.bp3-minimal:hover {
  background-color: var(--jp-layout-color2);
}
.jp-Button.minimal {
  color: unset !important;
}

.jp-Button.jp-ToolbarButtonComponent {
  text-transform: none;
}

.jp-InputGroup input {
  box-sizing: border-box;
  border-radius: 0;
  background-color: transparent;
  color: var(--jp-ui-font-color0);
  box-shadow: inset 0 0 0 var(--jp-border-width) var(--jp-input-border-color);
}

.jp-InputGroup input:focus {
  box-shadow: inset 0 0 0 var(--jp-border-width)
      var(--jp-input-active-box-shadow-color),
    inset 0 0 0 3px var(--jp-input-active-box-shadow-color);
}

.jp-InputGroup input::placeholder,
input::placeholder {
  color: var(--jp-ui-font-color3);
}

.jp-BPIcon {
  display: inline-block;
  vertical-align: middle;
  margin: auto;
}

/* Stop blueprint futzing with our icon fills */
.bp3-icon.jp-BPIcon > svg:not([fill]) {
  fill: var(--jp-inverse-layout-color3);
}

.jp-InputGroupAction {
  padding: 6px;
}

.jp-HTMLSelect.jp-DefaultStyle select {
  background-color: initial;
  border: none;
  border-radius: 0;
  box-shadow: none;
  color: var(--jp-ui-font-color0);
  display: block;
  font-size: var(--jp-ui-font-size1);
  height: 24px;
  line-height: 14px;
  padding: 0 25px 0 10px;
  text-align: left;
  -moz-appearance: none;
  -webkit-appearance: none;
}

/* Use our own theme for hover and option styles */
.jp-HTMLSelect.jp-DefaultStyle select:hover,
.jp-HTMLSelect.jp-DefaultStyle select > option {
  background-color: var(--jp-layout-color2);
  color: var(--jp-ui-font-color0);
}
select {
  box-sizing: border-box;
}

/*-----------------------------------------------------------------------------
| Copyright (c) Jupyter Development Team.
| Distributed under the terms of the Modified BSD License.
|----------------------------------------------------------------------------*/

.jp-Collapse {
  display: flex;
  flex-direction: column;
  align-items: stretch;
  border-top: 1px solid var(--jp-border-color2);
  border-bottom: 1px solid var(--jp-border-color2);
}

.jp-Collapse-header {
  padding: 1px 12px;
  color: var(--jp-ui-font-color1);
  background-color: var(--jp-layout-color1);
  font-size: var(--jp-ui-font-size2);
}

.jp-Collapse-header:hover {
  background-color: var(--jp-layout-color2);
}

.jp-Collapse-contents {
  padding: 0px 12px 0px 12px;
  background-color: var(--jp-layout-color1);
  color: var(--jp-ui-font-color1);
  overflow: auto;
}

/*-----------------------------------------------------------------------------
| Copyright (c) Jupyter Development Team.
| Distributed under the terms of the Modified BSD License.
|----------------------------------------------------------------------------*/

/*-----------------------------------------------------------------------------
| Variables
|----------------------------------------------------------------------------*/

:root {
  --jp-private-commandpalette-search-height: 28px;
}

/*-----------------------------------------------------------------------------
| Overall styles
|----------------------------------------------------------------------------*/

.lm-CommandPalette {
  padding-bottom: 0px;
  color: var(--jp-ui-font-color1);
  background: var(--jp-layout-color1);
  /* This is needed so that all font sizing of children done in ems is
   * relative to this base size */
  font-size: var(--jp-ui-font-size1);
}

/*-----------------------------------------------------------------------------
| Modal variant
|----------------------------------------------------------------------------*/

.jp-ModalCommandPalette {
  position: absolute;
  z-index: 10000;
  top: 38px;
  left: 30%;
  margin: 0;
  padding: 4px;
  width: 40%;
  box-shadow: var(--jp-elevation-z4);
  border-radius: 4px;
  background: var(--jp-layout-color0);
}

.jp-ModalCommandPalette .lm-CommandPalette {
  max-height: 40vh;
}

.jp-ModalCommandPalette .lm-CommandPalette .lm-close-icon::after {
  display: none;
}

.jp-ModalCommandPalette .lm-CommandPalette .lm-CommandPalette-header {
  display: none;
}

.jp-ModalCommandPalette .lm-CommandPalette .lm-CommandPalette-item {
  margin-left: 4px;
  margin-right: 4px;
}

.jp-ModalCommandPalette
  .lm-CommandPalette
  .lm-CommandPalette-item.lm-mod-disabled {
  display: none;
}

/*-----------------------------------------------------------------------------
| Search
|----------------------------------------------------------------------------*/

.lm-CommandPalette-search {
  padding: 4px;
  background-color: var(--jp-layout-color1);
  z-index: 2;
}

.lm-CommandPalette-wrapper {
  overflow: overlay;
  padding: 0px 9px;
  background-color: var(--jp-input-active-background);
  height: 30px;
  box-shadow: inset 0 0 0 var(--jp-border-width) var(--jp-input-border-color);
}

.lm-CommandPalette.lm-mod-focused .lm-CommandPalette-wrapper {
  box-shadow: inset 0 0 0 1px var(--jp-input-active-box-shadow-color),
    inset 0 0 0 3px var(--jp-input-active-box-shadow-color);
}

.jp-SearchIconGroup {
  color: white;
  background-color: var(--jp-brand-color1);
  position: absolute;
  top: 4px;
  right: 4px;
  padding: 5px 5px 1px 5px;
}

.jp-SearchIconGroup svg {
  height: 20px;
  width: 20px;
}

.jp-SearchIconGroup .jp-icon3[fill] {
  fill: var(--jp-layout-color0);
}

.lm-CommandPalette-input {
  background: transparent;
  width: calc(100% - 18px);
  float: left;
  border: none;
  outline: none;
  font-size: var(--jp-ui-font-size1);
  color: var(--jp-ui-font-color0);
  line-height: var(--jp-private-commandpalette-search-height);
}

.lm-CommandPalette-input::-webkit-input-placeholder,
.lm-CommandPalette-input::-moz-placeholder,
.lm-CommandPalette-input:-ms-input-placeholder {
  color: var(--jp-ui-font-color2);
  font-size: var(--jp-ui-font-size1);
}

/*-----------------------------------------------------------------------------
| Results
|----------------------------------------------------------------------------*/

.lm-CommandPalette-header:first-child {
  margin-top: 0px;
}

.lm-CommandPalette-header {
  border-bottom: solid var(--jp-border-width) var(--jp-border-color2);
  color: var(--jp-ui-font-color1);
  cursor: pointer;
  display: flex;
  font-size: var(--jp-ui-font-size0);
  font-weight: 600;
  letter-spacing: 1px;
  margin-top: 8px;
  padding: 8px 0 8px 12px;
  text-transform: uppercase;
}

.lm-CommandPalette-header.lm-mod-active {
  background: var(--jp-layout-color2);
}

.lm-CommandPalette-header > mark {
  background-color: transparent;
  font-weight: bold;
  color: var(--jp-ui-font-color1);
}

.lm-CommandPalette-item {
  padding: 4px 12px 4px 4px;
  color: var(--jp-ui-font-color1);
  font-size: var(--jp-ui-font-size1);
  font-weight: 400;
  display: flex;
}

.lm-CommandPalette-item.lm-mod-disabled {
  color: var(--jp-ui-font-color2);
}

.lm-CommandPalette-item.lm-mod-active {
  color: var(--jp-ui-inverse-font-color1);
  background: var(--jp-brand-color1);
}

.lm-CommandPalette-item.lm-mod-active .lm-CommandPalette-itemLabel > mark {
  color: var(--jp-ui-inverse-font-color0);
}

.lm-CommandPalette-item.lm-mod-active .jp-icon-selectable[fill] {
  fill: var(--jp-layout-color0);
}

.lm-CommandPalette-item.lm-mod-active .lm-CommandPalette-itemLabel > mark {
  color: var(--jp-ui-inverse-font-color0);
}

.lm-CommandPalette-item.lm-mod-active:hover:not(.lm-mod-disabled) {
  color: var(--jp-ui-inverse-font-color1);
  background: var(--jp-brand-color1);
}

.lm-CommandPalette-item:hover:not(.lm-mod-active):not(.lm-mod-disabled) {
  background: var(--jp-layout-color2);
}

.lm-CommandPalette-itemContent {
  overflow: hidden;
}

.lm-CommandPalette-itemLabel > mark {
  color: var(--jp-ui-font-color0);
  background-color: transparent;
  font-weight: bold;
}

.lm-CommandPalette-item.lm-mod-disabled mark {
  color: var(--jp-ui-font-color2);
}

.lm-CommandPalette-item .lm-CommandPalette-itemIcon {
  margin: 0 4px 0 0;
  position: relative;
  width: 16px;
  top: 2px;
  flex: 0 0 auto;
}

.lm-CommandPalette-item.lm-mod-disabled .lm-CommandPalette-itemIcon {
  opacity: 0.6;
}

.lm-CommandPalette-item .lm-CommandPalette-itemShortcut {
  flex: 0 0 auto;
}

.lm-CommandPalette-itemCaption {
  display: none;
}

.lm-CommandPalette-content {
  background-color: var(--jp-layout-color1);
}

.lm-CommandPalette-content:empty:after {
  content: 'No results';
  margin: auto;
  margin-top: 20px;
  width: 100px;
  display: block;
  font-size: var(--jp-ui-font-size2);
  font-family: var(--jp-ui-font-family);
  font-weight: lighter;
}

.lm-CommandPalette-emptyMessage {
  text-align: center;
  margin-top: 24px;
  line-height: 1.32;
  padding: 0px 8px;
  color: var(--jp-content-font-color3);
}

/*-----------------------------------------------------------------------------
| Copyright (c) 2014-2017, Jupyter Development Team.
|
| Distributed under the terms of the Modified BSD License.
|----------------------------------------------------------------------------*/

.jp-Dialog {
  position: absolute;
  z-index: 10000;
  display: flex;
  flex-direction: column;
  align-items: center;
  justify-content: center;
  top: 0px;
  left: 0px;
  margin: 0;
  padding: 0;
  width: 100%;
  height: 100%;
  background: var(--jp-dialog-background);
}

.jp-Dialog-content {
  display: flex;
  flex-direction: column;
  margin-left: auto;
  margin-right: auto;
  background: var(--jp-layout-color1);
  padding: 24px;
  padding-bottom: 12px;
  min-width: 300px;
  min-height: 150px;
  max-width: 1000px;
  max-height: 500px;
  box-sizing: border-box;
  box-shadow: var(--jp-elevation-z20);
  word-wrap: break-word;
  border-radius: var(--jp-border-radius);
  /* This is needed so that all font sizing of children done in ems is
   * relative to this base size */
  font-size: var(--jp-ui-font-size1);
  color: var(--jp-ui-font-color1);
  resize: both;
}

.jp-Dialog-button {
  overflow: visible;
}

button.jp-Dialog-button:focus {
  outline: 1px solid var(--jp-brand-color1);
  outline-offset: 4px;
  -moz-outline-radius: 0px;
}

button.jp-Dialog-button:focus::-moz-focus-inner {
  border: 0;
}

button.jp-Dialog-close-button {
  padding: 0;
  height: 100%;
  min-width: unset;
  min-height: unset;
}

.jp-Dialog-header {
  display: flex;
  justify-content: space-between;
  flex: 0 0 auto;
  padding-bottom: 12px;
  font-size: var(--jp-ui-font-size3);
  font-weight: 400;
  color: var(--jp-ui-font-color0);
}

.jp-Dialog-body {
  display: flex;
  flex-direction: column;
  flex: 1 1 auto;
  font-size: var(--jp-ui-font-size1);
  background: var(--jp-layout-color1);
  overflow: auto;
}

.jp-Dialog-footer {
  display: flex;
  flex-direction: row;
  justify-content: flex-end;
  flex: 0 0 auto;
  margin-left: -12px;
  margin-right: -12px;
  padding: 12px;
}

.jp-Dialog-title {
  overflow: hidden;
  white-space: nowrap;
  text-overflow: ellipsis;
}

.jp-Dialog-body > .jp-select-wrapper {
  width: 100%;
}

.jp-Dialog-body > button {
  padding: 0px 16px;
}

.jp-Dialog-body > label {
  line-height: 1.4;
  color: var(--jp-ui-font-color0);
}

.jp-Dialog-button.jp-mod-styled:not(:last-child) {
  margin-right: 12px;
}

/*-----------------------------------------------------------------------------
| Copyright (c) 2014-2016, Jupyter Development Team.
|
| Distributed under the terms of the Modified BSD License.
|----------------------------------------------------------------------------*/

.jp-HoverBox {
  position: fixed;
}

.jp-HoverBox.jp-mod-outofview {
  display: none;
}

/*-----------------------------------------------------------------------------
| Copyright (c) Jupyter Development Team.
| Distributed under the terms of the Modified BSD License.
|----------------------------------------------------------------------------*/

.jp-IFrame {
  width: 100%;
  height: 100%;
}

.jp-IFrame > iframe {
  border: none;
}

/*
When drag events occur, `p-mod-override-cursor` is added to the body.
Because iframes steal all cursor events, the following two rules are necessary
to suppress pointer events while resize drags are occurring. There may be a
better solution to this problem.
*/
body.lm-mod-override-cursor .jp-IFrame {
  position: relative;
}

body.lm-mod-override-cursor .jp-IFrame:before {
  content: '';
  position: absolute;
  top: 0;
  left: 0;
  right: 0;
  bottom: 0;
  background: transparent;
}

.jp-Input-Boolean-Dialog {
  flex-direction: row-reverse;
  align-items: end;
  width: 100%;
}

.jp-Input-Boolean-Dialog > label {
  flex: 1 1 auto;
}

/*-----------------------------------------------------------------------------
| Copyright (c) 2014-2016, Jupyter Development Team.
|
| Distributed under the terms of the Modified BSD License.
|----------------------------------------------------------------------------*/

.jp-MainAreaWidget > :focus {
  outline: none;
}

/**
 * google-material-color v1.2.6
 * https://github.com/danlevan/google-material-color
 */
:root {
  --md-red-50: #ffebee;
  --md-red-100: #ffcdd2;
  --md-red-200: #ef9a9a;
  --md-red-300: #e57373;
  --md-red-400: #ef5350;
  --md-red-500: #f44336;
  --md-red-600: #e53935;
  --md-red-700: #d32f2f;
  --md-red-800: #c62828;
  --md-red-900: #b71c1c;
  --md-red-A100: #ff8a80;
  --md-red-A200: #ff5252;
  --md-red-A400: #ff1744;
  --md-red-A700: #d50000;

  --md-pink-50: #fce4ec;
  --md-pink-100: #f8bbd0;
  --md-pink-200: #f48fb1;
  --md-pink-300: #f06292;
  --md-pink-400: #ec407a;
  --md-pink-500: #e91e63;
  --md-pink-600: #d81b60;
  --md-pink-700: #c2185b;
  --md-pink-800: #ad1457;
  --md-pink-900: #880e4f;
  --md-pink-A100: #ff80ab;
  --md-pink-A200: #ff4081;
  --md-pink-A400: #f50057;
  --md-pink-A700: #c51162;

  --md-purple-50: #f3e5f5;
  --md-purple-100: #e1bee7;
  --md-purple-200: #ce93d8;
  --md-purple-300: #ba68c8;
  --md-purple-400: #ab47bc;
  --md-purple-500: #9c27b0;
  --md-purple-600: #8e24aa;
  --md-purple-700: #7b1fa2;
  --md-purple-800: #6a1b9a;
  --md-purple-900: #4a148c;
  --md-purple-A100: #ea80fc;
  --md-purple-A200: #e040fb;
  --md-purple-A400: #d500f9;
  --md-purple-A700: #aa00ff;

  --md-deep-purple-50: #ede7f6;
  --md-deep-purple-100: #d1c4e9;
  --md-deep-purple-200: #b39ddb;
  --md-deep-purple-300: #9575cd;
  --md-deep-purple-400: #7e57c2;
  --md-deep-purple-500: #673ab7;
  --md-deep-purple-600: #5e35b1;
  --md-deep-purple-700: #512da8;
  --md-deep-purple-800: #4527a0;
  --md-deep-purple-900: #311b92;
  --md-deep-purple-A100: #b388ff;
  --md-deep-purple-A200: #7c4dff;
  --md-deep-purple-A400: #651fff;
  --md-deep-purple-A700: #6200ea;

  --md-indigo-50: #e8eaf6;
  --md-indigo-100: #c5cae9;
  --md-indigo-200: #9fa8da;
  --md-indigo-300: #7986cb;
  --md-indigo-400: #5c6bc0;
  --md-indigo-500: #3f51b5;
  --md-indigo-600: #3949ab;
  --md-indigo-700: #303f9f;
  --md-indigo-800: #283593;
  --md-indigo-900: #1a237e;
  --md-indigo-A100: #8c9eff;
  --md-indigo-A200: #536dfe;
  --md-indigo-A400: #3d5afe;
  --md-indigo-A700: #304ffe;

  --md-blue-50: #e3f2fd;
  --md-blue-100: #bbdefb;
  --md-blue-200: #90caf9;
  --md-blue-300: #64b5f6;
  --md-blue-400: #42a5f5;
  --md-blue-500: #2196f3;
  --md-blue-600: #1e88e5;
  --md-blue-700: #1976d2;
  --md-blue-800: #1565c0;
  --md-blue-900: #0d47a1;
  --md-blue-A100: #82b1ff;
  --md-blue-A200: #448aff;
  --md-blue-A400: #2979ff;
  --md-blue-A700: #2962ff;

  --md-light-blue-50: #e1f5fe;
  --md-light-blue-100: #b3e5fc;
  --md-light-blue-200: #81d4fa;
  --md-light-blue-300: #4fc3f7;
  --md-light-blue-400: #29b6f6;
  --md-light-blue-500: #03a9f4;
  --md-light-blue-600: #039be5;
  --md-light-blue-700: #0288d1;
  --md-light-blue-800: #0277bd;
  --md-light-blue-900: #01579b;
  --md-light-blue-A100: #80d8ff;
  --md-light-blue-A200: #40c4ff;
  --md-light-blue-A400: #00b0ff;
  --md-light-blue-A700: #0091ea;

  --md-cyan-50: #e0f7fa;
  --md-cyan-100: #b2ebf2;
  --md-cyan-200: #80deea;
  --md-cyan-300: #4dd0e1;
  --md-cyan-400: #26c6da;
  --md-cyan-500: #00bcd4;
  --md-cyan-600: #00acc1;
  --md-cyan-700: #0097a7;
  --md-cyan-800: #00838f;
  --md-cyan-900: #006064;
  --md-cyan-A100: #84ffff;
  --md-cyan-A200: #18ffff;
  --md-cyan-A400: #00e5ff;
  --md-cyan-A700: #00b8d4;

  --md-teal-50: #e0f2f1;
  --md-teal-100: #b2dfdb;
  --md-teal-200: #80cbc4;
  --md-teal-300: #4db6ac;
  --md-teal-400: #26a69a;
  --md-teal-500: #009688;
  --md-teal-600: #00897b;
  --md-teal-700: #00796b;
  --md-teal-800: #00695c;
  --md-teal-900: #004d40;
  --md-teal-A100: #a7ffeb;
  --md-teal-A200: #64ffda;
  --md-teal-A400: #1de9b6;
  --md-teal-A700: #00bfa5;

  --md-green-50: #e8f5e9;
  --md-green-100: #c8e6c9;
  --md-green-200: #a5d6a7;
  --md-green-300: #81c784;
  --md-green-400: #66bb6a;
  --md-green-500: #4caf50;
  --md-green-600: #43a047;
  --md-green-700: #388e3c;
  --md-green-800: #2e7d32;
  --md-green-900: #1b5e20;
  --md-green-A100: #b9f6ca;
  --md-green-A200: #69f0ae;
  --md-green-A400: #00e676;
  --md-green-A700: #00c853;

  --md-light-green-50: #f1f8e9;
  --md-light-green-100: #dcedc8;
  --md-light-green-200: #c5e1a5;
  --md-light-green-300: #aed581;
  --md-light-green-400: #9ccc65;
  --md-light-green-500: #8bc34a;
  --md-light-green-600: #7cb342;
  --md-light-green-700: #689f38;
  --md-light-green-800: #558b2f;
  --md-light-green-900: #33691e;
  --md-light-green-A100: #ccff90;
  --md-light-green-A200: #b2ff59;
  --md-light-green-A400: #76ff03;
  --md-light-green-A700: #64dd17;

  --md-lime-50: #f9fbe7;
  --md-lime-100: #f0f4c3;
  --md-lime-200: #e6ee9c;
  --md-lime-300: #dce775;
  --md-lime-400: #d4e157;
  --md-lime-500: #cddc39;
  --md-lime-600: #c0ca33;
  --md-lime-700: #afb42b;
  --md-lime-800: #9e9d24;
  --md-lime-900: #827717;
  --md-lime-A100: #f4ff81;
  --md-lime-A200: #eeff41;
  --md-lime-A400: #c6ff00;
  --md-lime-A700: #aeea00;

  --md-yellow-50: #fffde7;
  --md-yellow-100: #fff9c4;
  --md-yellow-200: #fff59d;
  --md-yellow-300: #fff176;
  --md-yellow-400: #ffee58;
  --md-yellow-500: #ffeb3b;
  --md-yellow-600: #fdd835;
  --md-yellow-700: #fbc02d;
  --md-yellow-800: #f9a825;
  --md-yellow-900: #f57f17;
  --md-yellow-A100: #ffff8d;
  --md-yellow-A200: #ffff00;
  --md-yellow-A400: #ffea00;
  --md-yellow-A700: #ffd600;

  --md-amber-50: #fff8e1;
  --md-amber-100: #ffecb3;
  --md-amber-200: #ffe082;
  --md-amber-300: #ffd54f;
  --md-amber-400: #ffca28;
  --md-amber-500: #ffc107;
  --md-amber-600: #ffb300;
  --md-amber-700: #ffa000;
  --md-amber-800: #ff8f00;
  --md-amber-900: #ff6f00;
  --md-amber-A100: #ffe57f;
  --md-amber-A200: #ffd740;
  --md-amber-A400: #ffc400;
  --md-amber-A700: #ffab00;

  --md-orange-50: #fff3e0;
  --md-orange-100: #ffe0b2;
  --md-orange-200: #ffcc80;
  --md-orange-300: #ffb74d;
  --md-orange-400: #ffa726;
  --md-orange-500: #ff9800;
  --md-orange-600: #fb8c00;
  --md-orange-700: #f57c00;
  --md-orange-800: #ef6c00;
  --md-orange-900: #e65100;
  --md-orange-A100: #ffd180;
  --md-orange-A200: #ffab40;
  --md-orange-A400: #ff9100;
  --md-orange-A700: #ff6d00;

  --md-deep-orange-50: #fbe9e7;
  --md-deep-orange-100: #ffccbc;
  --md-deep-orange-200: #ffab91;
  --md-deep-orange-300: #ff8a65;
  --md-deep-orange-400: #ff7043;
  --md-deep-orange-500: #ff5722;
  --md-deep-orange-600: #f4511e;
  --md-deep-orange-700: #e64a19;
  --md-deep-orange-800: #d84315;
  --md-deep-orange-900: #bf360c;
  --md-deep-orange-A100: #ff9e80;
  --md-deep-orange-A200: #ff6e40;
  --md-deep-orange-A400: #ff3d00;
  --md-deep-orange-A700: #dd2c00;

  --md-brown-50: #efebe9;
  --md-brown-100: #d7ccc8;
  --md-brown-200: #bcaaa4;
  --md-brown-300: #a1887f;
  --md-brown-400: #8d6e63;
  --md-brown-500: #795548;
  --md-brown-600: #6d4c41;
  --md-brown-700: #5d4037;
  --md-brown-800: #4e342e;
  --md-brown-900: #3e2723;

  --md-grey-50: #fafafa;
  --md-grey-100: #f5f5f5;
  --md-grey-200: #eeeeee;
  --md-grey-300: #e0e0e0;
  --md-grey-400: #bdbdbd;
  --md-grey-500: #9e9e9e;
  --md-grey-600: #757575;
  --md-grey-700: #616161;
  --md-grey-800: #424242;
  --md-grey-900: #212121;

  --md-blue-grey-50: #eceff1;
  --md-blue-grey-100: #cfd8dc;
  --md-blue-grey-200: #b0bec5;
  --md-blue-grey-300: #90a4ae;
  --md-blue-grey-400: #78909c;
  --md-blue-grey-500: #607d8b;
  --md-blue-grey-600: #546e7a;
  --md-blue-grey-700: #455a64;
  --md-blue-grey-800: #37474f;
  --md-blue-grey-900: #263238;
}

/*-----------------------------------------------------------------------------
| Copyright (c) 2017, Jupyter Development Team.
|
| Distributed under the terms of the Modified BSD License.
|----------------------------------------------------------------------------*/

.jp-Spinner {
  position: absolute;
  display: flex;
  justify-content: center;
  align-items: center;
  z-index: 10;
  left: 0;
  top: 0;
  width: 100%;
  height: 100%;
  background: var(--jp-layout-color0);
  outline: none;
}

.jp-SpinnerContent {
  font-size: 10px;
  margin: 50px auto;
  text-indent: -9999em;
  width: 3em;
  height: 3em;
  border-radius: 50%;
  background: var(--jp-brand-color3);
  background: linear-gradient(
    to right,
    #f37626 10%,
    rgba(255, 255, 255, 0) 42%
  );
  position: relative;
  animation: load3 1s infinite linear, fadeIn 1s;
}

.jp-SpinnerContent:before {
  width: 50%;
  height: 50%;
  background: #f37626;
  border-radius: 100% 0 0 0;
  position: absolute;
  top: 0;
  left: 0;
  content: '';
}

.jp-SpinnerContent:after {
  background: var(--jp-layout-color0);
  width: 75%;
  height: 75%;
  border-radius: 50%;
  content: '';
  margin: auto;
  position: absolute;
  top: 0;
  left: 0;
  bottom: 0;
  right: 0;
}

@keyframes fadeIn {
  0% {
    opacity: 0;
  }
  100% {
    opacity: 1;
  }
}

@keyframes load3 {
  0% {
    transform: rotate(0deg);
  }
  100% {
    transform: rotate(360deg);
  }
}

/*-----------------------------------------------------------------------------
| Copyright (c) 2014-2017, Jupyter Development Team.
|
| Distributed under the terms of the Modified BSD License.
|----------------------------------------------------------------------------*/

button.jp-mod-styled {
  font-size: var(--jp-ui-font-size1);
  color: var(--jp-ui-font-color0);
  border: none;
  box-sizing: border-box;
  text-align: center;
  line-height: 32px;
  height: 32px;
  padding: 0px 12px;
  letter-spacing: 0.8px;
  outline: none;
  appearance: none;
  -webkit-appearance: none;
  -moz-appearance: none;
}

input.jp-mod-styled {
  background: var(--jp-input-background);
  height: 28px;
  box-sizing: border-box;
  border: var(--jp-border-width) solid var(--jp-border-color1);
  padding-left: 7px;
  padding-right: 7px;
  font-size: var(--jp-ui-font-size2);
  color: var(--jp-ui-font-color0);
  outline: none;
  appearance: none;
  -webkit-appearance: none;
  -moz-appearance: none;
}

input[type='checkbox'].jp-mod-styled {
  appearance: checkbox;
  -webkit-appearance: checkbox;
  -moz-appearance: checkbox;
  height: auto;
}

input.jp-mod-styled:focus {
  border: var(--jp-border-width) solid var(--md-blue-500);
  box-shadow: inset 0 0 4px var(--md-blue-300);
}

.jp-FileDialog-Checkbox {
  margin-top: 35px;
  display: flex;
  flex-direction: row;
  align-items: end;
  width: 100%;
}

.jp-FileDialog-Checkbox > label {
  flex: 1 1 auto;
}

.jp-select-wrapper {
  display: flex;
  position: relative;
  flex-direction: column;
  padding: 1px;
  background-color: var(--jp-layout-color1);
  height: 28px;
  box-sizing: border-box;
  margin-bottom: 12px;
}

.jp-select-wrapper.jp-mod-focused select.jp-mod-styled {
  border: var(--jp-border-width) solid var(--jp-input-active-border-color);
  box-shadow: var(--jp-input-box-shadow);
  background-color: var(--jp-input-active-background);
}

select.jp-mod-styled:hover {
  background-color: var(--jp-layout-color1);
  cursor: pointer;
  color: var(--jp-ui-font-color0);
  background-color: var(--jp-input-hover-background);
  box-shadow: inset 0 0px 1px rgba(0, 0, 0, 0.5);
}

select.jp-mod-styled {
  flex: 1 1 auto;
  height: 32px;
  width: 100%;
  font-size: var(--jp-ui-font-size2);
  background: var(--jp-input-background);
  color: var(--jp-ui-font-color0);
  padding: 0 25px 0 8px;
  border: var(--jp-border-width) solid var(--jp-input-border-color);
  border-radius: 0px;
  outline: none;
  appearance: none;
  -webkit-appearance: none;
  -moz-appearance: none;
}

/*-----------------------------------------------------------------------------
| Copyright (c) 2014-2016, Jupyter Development Team.
|
| Distributed under the terms of the Modified BSD License.
|----------------------------------------------------------------------------*/

:root {
  --jp-private-toolbar-height: calc(
    28px + var(--jp-border-width)
  ); /* leave 28px for content */
}

.jp-Toolbar {
  color: var(--jp-ui-font-color1);
  flex: 0 0 auto;
  display: flex;
  flex-direction: row;
  border-bottom: var(--jp-border-width) solid var(--jp-toolbar-border-color);
  box-shadow: var(--jp-toolbar-box-shadow);
  background: var(--jp-toolbar-background);
  min-height: var(--jp-toolbar-micro-height);
  padding: 2px;
  z-index: 1;
  overflow-x: auto;
}

/* Toolbar items */

.jp-Toolbar > .jp-Toolbar-item.jp-Toolbar-spacer {
  flex-grow: 1;
  flex-shrink: 1;
}

.jp-Toolbar-item.jp-Toolbar-kernelStatus {
  display: inline-block;
  width: 32px;
  background-repeat: no-repeat;
  background-position: center;
  background-size: 16px;
}

.jp-Toolbar > .jp-Toolbar-item {
  flex: 0 0 auto;
  display: flex;
  padding-left: 1px;
  padding-right: 1px;
  font-size: var(--jp-ui-font-size1);
  line-height: var(--jp-private-toolbar-height);
  height: 100%;
}

/* Toolbar buttons */

/* This is the div we use to wrap the react component into a Widget */
div.jp-ToolbarButton {
  color: transparent;
  border: none;
  box-sizing: border-box;
  outline: none;
  appearance: none;
  -webkit-appearance: none;
  -moz-appearance: none;
  padding: 0px;
  margin: 0px;
}

button.jp-ToolbarButtonComponent {
  background: var(--jp-layout-color1);
  border: none;
  box-sizing: border-box;
  outline: none;
  appearance: none;
  -webkit-appearance: none;
  -moz-appearance: none;
  padding: 0px 6px;
  margin: 0px;
  height: 24px;
  border-radius: var(--jp-border-radius);
  display: flex;
  align-items: center;
  text-align: center;
  font-size: 14px;
  min-width: unset;
  min-height: unset;
}

button.jp-ToolbarButtonComponent:disabled {
  opacity: 0.4;
}

button.jp-ToolbarButtonComponent span {
  padding: 0px;
  flex: 0 0 auto;
}

button.jp-ToolbarButtonComponent .jp-ToolbarButtonComponent-label {
  font-size: var(--jp-ui-font-size1);
  line-height: 100%;
  padding-left: 2px;
  color: var(--jp-ui-font-color1);
}

#jp-main-dock-panel[data-mode='single-document']
  .jp-MainAreaWidget
  > .jp-Toolbar.jp-Toolbar-micro {
  padding: 0;
  min-height: 0;
}

#jp-main-dock-panel[data-mode='single-document']
  .jp-MainAreaWidget
  > .jp-Toolbar {
  border: none;
  box-shadow: none;
}

/*-----------------------------------------------------------------------------
| Copyright (c) 2014-2017, Jupyter Development Team.
|
| Distributed under the terms of the Modified BSD License.
|----------------------------------------------------------------------------*/

/*-----------------------------------------------------------------------------
| Copyright (c) Jupyter Development Team.
| Copyright (c) 2014-2017, PhosphorJS Contributors
|
| Distributed under the terms of the BSD 3-Clause License.
|
| The full license is in the file LICENSE, distributed with this software.
|----------------------------------------------------------------------------*/


/* <DEPRECATED> */ body.p-mod-override-cursor *, /* </DEPRECATED> */
body.lm-mod-override-cursor * {
  cursor: inherit !important;
}

/*-----------------------------------------------------------------------------
| Copyright (c) 2014-2016, Jupyter Development Team.
|
| Distributed under the terms of the Modified BSD License.
|----------------------------------------------------------------------------*/

.jp-JSONEditor {
  display: flex;
  flex-direction: column;
  width: 100%;
}

.jp-JSONEditor-host {
  flex: 1 1 auto;
  border: var(--jp-border-width) solid var(--jp-input-border-color);
  border-radius: 0px;
  background: var(--jp-layout-color0);
  min-height: 50px;
  padding: 1px;
}

.jp-JSONEditor.jp-mod-error .jp-JSONEditor-host {
  border-color: red;
  outline-color: red;
}

.jp-JSONEditor-header {
  display: flex;
  flex: 1 0 auto;
  padding: 0 0 0 12px;
}

.jp-JSONEditor-header label {
  flex: 0 0 auto;
}

.jp-JSONEditor-commitButton {
  height: 16px;
  width: 16px;
  background-size: 18px;
  background-repeat: no-repeat;
  background-position: center;
}

.jp-JSONEditor-host.jp-mod-focused {
  background-color: var(--jp-input-active-background);
  border: 1px solid var(--jp-input-active-border-color);
  box-shadow: var(--jp-input-box-shadow);
}

.jp-Editor.jp-mod-dropTarget {
  border: var(--jp-border-width) solid var(--jp-input-active-border-color);
  box-shadow: var(--jp-input-box-shadow);
}

/* BASICS */

.CodeMirror {
  /* Set height, width, borders, and global font properties here */
  font-family: monospace;
  height: 300px;
  color: black;
  direction: ltr;
}

/* PADDING */

.CodeMirror-lines {
  padding: 4px 0; /* Vertical padding around content */
}
.CodeMirror pre.CodeMirror-line,
.CodeMirror pre.CodeMirror-line-like {
  padding: 0 4px; /* Horizontal padding of content */
}

.CodeMirror-scrollbar-filler, .CodeMirror-gutter-filler {
  background-color: white; /* The little square between H and V scrollbars */
}

/* GUTTER */

.CodeMirror-gutters {
  border-right: 1px solid #ddd;
  background-color: #f7f7f7;
  white-space: nowrap;
}
.CodeMirror-linenumbers {}
.CodeMirror-linenumber {
  padding: 0 3px 0 5px;
  min-width: 20px;
  text-align: right;
  color: #999;
  white-space: nowrap;
}

.CodeMirror-guttermarker { color: black; }
.CodeMirror-guttermarker-subtle { color: #999; }

/* CURSOR */

.CodeMirror-cursor {
  border-left: 1px solid black;
  border-right: none;
  width: 0;
}
/* Shown when moving in bi-directional text */
.CodeMirror div.CodeMirror-secondarycursor {
  border-left: 1px solid silver;
}
.cm-fat-cursor .CodeMirror-cursor {
  width: auto;
  border: 0 !important;
  background: #7e7;
}
.cm-fat-cursor div.CodeMirror-cursors {
  z-index: 1;
}
.cm-fat-cursor-mark {
  background-color: rgba(20, 255, 20, 0.5);
  -webkit-animation: blink 1.06s steps(1) infinite;
  -moz-animation: blink 1.06s steps(1) infinite;
  animation: blink 1.06s steps(1) infinite;
}
.cm-animate-fat-cursor {
  width: auto;
  border: 0;
  -webkit-animation: blink 1.06s steps(1) infinite;
  -moz-animation: blink 1.06s steps(1) infinite;
  animation: blink 1.06s steps(1) infinite;
  background-color: #7e7;
}
@-moz-keyframes blink {
  0% {}
  50% { background-color: transparent; }
  100% {}
}
@-webkit-keyframes blink {
  0% {}
  50% { background-color: transparent; }
  100% {}
}
@keyframes blink {
  0% {}
  50% { background-color: transparent; }
  100% {}
}

/* Can style cursor different in overwrite (non-insert) mode */
.CodeMirror-overwrite .CodeMirror-cursor {}

.cm-tab { display: inline-block; text-decoration: inherit; }

.CodeMirror-rulers {
  position: absolute;
  left: 0; right: 0; top: -50px; bottom: 0;
  overflow: hidden;
}
.CodeMirror-ruler {
  border-left: 1px solid #ccc;
  top: 0; bottom: 0;
  position: absolute;
}

/* DEFAULT THEME */

.cm-s-default .cm-header {color: blue;}
.cm-s-default .cm-quote {color: #090;}
.cm-negative {color: #d44;}
.cm-positive {color: #292;}
.cm-header, .cm-strong {font-weight: bold;}
.cm-em {font-style: italic;}
.cm-link {text-decoration: underline;}
.cm-strikethrough {text-decoration: line-through;}

.cm-s-default .cm-keyword {color: #708;}
.cm-s-default .cm-atom {color: #219;}
.cm-s-default .cm-number {color: #164;}
.cm-s-default .cm-def {color: #00f;}
.cm-s-default .cm-variable,
.cm-s-default .cm-punctuation,
.cm-s-default .cm-property,
.cm-s-default .cm-operator {}
.cm-s-default .cm-variable-2 {color: #05a;}
.cm-s-default .cm-variable-3, .cm-s-default .cm-type {color: #085;}
.cm-s-default .cm-comment {color: #a50;}
.cm-s-default .cm-string {color: #a11;}
.cm-s-default .cm-string-2 {color: #f50;}
.cm-s-default .cm-meta {color: #555;}
.cm-s-default .cm-qualifier {color: #555;}
.cm-s-default .cm-builtin {color: #30a;}
.cm-s-default .cm-bracket {color: #997;}
.cm-s-default .cm-tag {color: #170;}
.cm-s-default .cm-attribute {color: #00c;}
.cm-s-default .cm-hr {color: #999;}
.cm-s-default .cm-link {color: #00c;}

.cm-s-default .cm-error {color: #f00;}
.cm-invalidchar {color: #f00;}

.CodeMirror-composing { border-bottom: 2px solid; }

/* Default styles for common addons */

div.CodeMirror span.CodeMirror-matchingbracket {color: #0b0;}
div.CodeMirror span.CodeMirror-nonmatchingbracket {color: #a22;}
.CodeMirror-matchingtag { background: rgba(255, 150, 0, .3); }
.CodeMirror-activeline-background {background: #e8f2ff;}

/* STOP */

/* The rest of this file contains styles related to the mechanics of
   the editor. You probably shouldn't touch them. */

.CodeMirror {
  position: relative;
  overflow: hidden;
  background: white;
}

.CodeMirror-scroll {
  overflow: scroll !important; /* Things will break if this is overridden */
  /* 50px is the magic margin used to hide the element's real scrollbars */
  /* See overflow: hidden in .CodeMirror */
  margin-bottom: -50px; margin-right: -50px;
  padding-bottom: 50px;
  height: 100%;
  outline: none; /* Prevent dragging from highlighting the element */
  position: relative;
}
.CodeMirror-sizer {
  position: relative;
  border-right: 50px solid transparent;
}

/* The fake, visible scrollbars. Used to force redraw during scrolling
   before actual scrolling happens, thus preventing shaking and
   flickering artifacts. */
.CodeMirror-vscrollbar, .CodeMirror-hscrollbar, .CodeMirror-scrollbar-filler, .CodeMirror-gutter-filler {
  position: absolute;
  z-index: 6;
  display: none;
  outline: none;
}
.CodeMirror-vscrollbar {
  right: 0; top: 0;
  overflow-x: hidden;
  overflow-y: scroll;
}
.CodeMirror-hscrollbar {
  bottom: 0; left: 0;
  overflow-y: hidden;
  overflow-x: scroll;
}
.CodeMirror-scrollbar-filler {
  right: 0; bottom: 0;
}
.CodeMirror-gutter-filler {
  left: 0; bottom: 0;
}

.CodeMirror-gutters {
  position: absolute; left: 0; top: 0;
  min-height: 100%;
  z-index: 3;
}
.CodeMirror-gutter {
  white-space: normal;
  height: 100%;
  display: inline-block;
  vertical-align: top;
  margin-bottom: -50px;
}
.CodeMirror-gutter-wrapper {
  position: absolute;
  z-index: 4;
  background: none !important;
  border: none !important;
}
.CodeMirror-gutter-background {
  position: absolute;
  top: 0; bottom: 0;
  z-index: 4;
}
.CodeMirror-gutter-elt {
  position: absolute;
  cursor: default;
  z-index: 4;
}
.CodeMirror-gutter-wrapper ::selection { background-color: transparent }
.CodeMirror-gutter-wrapper ::-moz-selection { background-color: transparent }

.CodeMirror-lines {
  cursor: text;
  min-height: 1px; /* prevents collapsing before first draw */
}
.CodeMirror pre.CodeMirror-line,
.CodeMirror pre.CodeMirror-line-like {
  /* Reset some styles that the rest of the page might have set */
  -moz-border-radius: 0; -webkit-border-radius: 0; border-radius: 0;
  border-width: 0;
  background: transparent;
  font-family: inherit;
  font-size: inherit;
  margin: 0;
  white-space: pre;
  word-wrap: normal;
  line-height: inherit;
  color: inherit;
  z-index: 2;
  position: relative;
  overflow: visible;
  -webkit-tap-highlight-color: transparent;
  -webkit-font-variant-ligatures: contextual;
  font-variant-ligatures: contextual;
}
.CodeMirror-wrap pre.CodeMirror-line,
.CodeMirror-wrap pre.CodeMirror-line-like {
  word-wrap: break-word;
  white-space: pre-wrap;
  word-break: normal;
}

.CodeMirror-linebackground {
  position: absolute;
  left: 0; right: 0; top: 0; bottom: 0;
  z-index: 0;
}

.CodeMirror-linewidget {
  position: relative;
  z-index: 2;
  padding: 0.1px; /* Force widget margins to stay inside of the container */
}

.CodeMirror-widget {}

.CodeMirror-rtl pre { direction: rtl; }

.CodeMirror-code {
  outline: none;
}

/* Force content-box sizing for the elements where we expect it */
.CodeMirror-scroll,
.CodeMirror-sizer,
.CodeMirror-gutter,
.CodeMirror-gutters,
.CodeMirror-linenumber {
  -moz-box-sizing: content-box;
  box-sizing: content-box;
}

.CodeMirror-measure {
  position: absolute;
  width: 100%;
  height: 0;
  overflow: hidden;
  visibility: hidden;
}

.CodeMirror-cursor {
  position: absolute;
  pointer-events: none;
}
.CodeMirror-measure pre { position: static; }

div.CodeMirror-cursors {
  visibility: hidden;
  position: relative;
  z-index: 3;
}
div.CodeMirror-dragcursors {
  visibility: visible;
}

.CodeMirror-focused div.CodeMirror-cursors {
  visibility: visible;
}

.CodeMirror-selected { background: #d9d9d9; }
.CodeMirror-focused .CodeMirror-selected { background: #d7d4f0; }
.CodeMirror-crosshair { cursor: crosshair; }
.CodeMirror-line::selection, .CodeMirror-line > span::selection, .CodeMirror-line > span > span::selection { background: #d7d4f0; }
.CodeMirror-line::-moz-selection, .CodeMirror-line > span::-moz-selection, .CodeMirror-line > span > span::-moz-selection { background: #d7d4f0; }

.cm-searching {
  background-color: #ffa;
  background-color: rgba(255, 255, 0, .4);
}

/* Used to force a border model for a node */
.cm-force-border { padding-right: .1px; }

@media print {
  /* Hide the cursor when printing */
  .CodeMirror div.CodeMirror-cursors {
    visibility: hidden;
  }
}

/* See issue #2901 */
.cm-tab-wrap-hack:after { content: ''; }

/* Help users use markselection to safely style text background */
span.CodeMirror-selectedtext { background: none; }

.CodeMirror-dialog {
  position: absolute;
  left: 0; right: 0;
  background: inherit;
  z-index: 15;
  padding: .1em .8em;
  overflow: hidden;
  color: inherit;
}

.CodeMirror-dialog-top {
  border-bottom: 1px solid #eee;
  top: 0;
}

.CodeMirror-dialog-bottom {
  border-top: 1px solid #eee;
  bottom: 0;
}

.CodeMirror-dialog input {
  border: none;
  outline: none;
  background: transparent;
  width: 20em;
  color: inherit;
  font-family: monospace;
}

.CodeMirror-dialog button {
  font-size: 70%;
}

.CodeMirror-foldmarker {
  color: blue;
  text-shadow: #b9f 1px 1px 2px, #b9f -1px -1px 2px, #b9f 1px -1px 2px, #b9f -1px 1px 2px;
  font-family: arial;
  line-height: .3;
  cursor: pointer;
}
.CodeMirror-foldgutter {
  width: .7em;
}
.CodeMirror-foldgutter-open,
.CodeMirror-foldgutter-folded {
  cursor: pointer;
}
.CodeMirror-foldgutter-open:after {
  content: "\25BE";
}
.CodeMirror-foldgutter-folded:after {
  content: "\25B8";
}

/*-----------------------------------------------------------------------------
| Copyright (c) Jupyter Development Team.
| Distributed under the terms of the Modified BSD License.
|----------------------------------------------------------------------------*/

.CodeMirror {
  line-height: var(--jp-code-line-height);
  font-size: var(--jp-code-font-size);
  font-family: var(--jp-code-font-family);
  border: 0;
  border-radius: 0;
  height: auto;
  /* Changed to auto to autogrow */
}

.CodeMirror pre {
  padding: 0 var(--jp-code-padding);
}

.jp-CodeMirrorEditor[data-type='inline'] .CodeMirror-dialog {
  background-color: var(--jp-layout-color0);
  color: var(--jp-content-font-color1);
}

/* This causes https://github.com/jupyter/jupyterlab/issues/522 */
/* May not cause it not because we changed it! */
.CodeMirror-lines {
  padding: var(--jp-code-padding) 0;
}

.CodeMirror-linenumber {
  padding: 0 8px;
}

.jp-CodeMirrorEditor {
  cursor: text;
}

.jp-CodeMirrorEditor[data-type='inline'] .CodeMirror-cursor {
  border-left: var(--jp-code-cursor-width0) solid var(--jp-editor-cursor-color);
}

/* When zoomed out 67% and 33% on a screen of 1440 width x 900 height */
@media screen and (min-width: 2138px) and (max-width: 4319px) {
  .jp-CodeMirrorEditor[data-type='inline'] .CodeMirror-cursor {
    border-left: var(--jp-code-cursor-width1) solid
      var(--jp-editor-cursor-color);
  }
}

/* When zoomed out less than 33% */
@media screen and (min-width: 4320px) {
  .jp-CodeMirrorEditor[data-type='inline'] .CodeMirror-cursor {
    border-left: var(--jp-code-cursor-width2) solid
      var(--jp-editor-cursor-color);
  }
}

.CodeMirror.jp-mod-readOnly .CodeMirror-cursor {
  display: none;
}

.CodeMirror-gutters {
  border-right: 1px solid var(--jp-border-color2);
  background-color: var(--jp-layout-color0);
}

.jp-CollaboratorCursor {
  border-left: 5px solid transparent;
  border-right: 5px solid transparent;
  border-top: none;
  border-bottom: 3px solid;
  background-clip: content-box;
  margin-left: -5px;
  margin-right: -5px;
}

.CodeMirror-selectedtext.cm-searching {
  background-color: var(--jp-search-selected-match-background-color) !important;
  color: var(--jp-search-selected-match-color) !important;
}

.cm-searching {
  background-color: var(
    --jp-search-unselected-match-background-color
  ) !important;
  color: var(--jp-search-unselected-match-color) !important;
}

.CodeMirror-focused .CodeMirror-selected {
  background-color: var(--jp-editor-selected-focused-background);
}

.CodeMirror-selected {
  background-color: var(--jp-editor-selected-background);
}

.jp-CollaboratorCursor-hover {
  position: absolute;
  z-index: 1;
  transform: translateX(-50%);
  color: white;
  border-radius: 3px;
  padding-left: 4px;
  padding-right: 4px;
  padding-top: 1px;
  padding-bottom: 1px;
  text-align: center;
  font-size: var(--jp-ui-font-size1);
  white-space: nowrap;
}

.jp-CodeMirror-ruler {
  border-left: 1px dashed var(--jp-border-color2);
}

/**
 * Here is our jupyter theme for CodeMirror syntax highlighting
 * This is used in our marked.js syntax highlighting and CodeMirror itself
 * The string "jupyter" is set in ../codemirror/widget.DEFAULT_CODEMIRROR_THEME
 * This came from the classic notebook, which came form highlight.js/GitHub
 */

/**
 * CodeMirror themes are handling the background/color in this way. This works
 * fine for CodeMirror editors outside the notebook, but the notebook styles
 * these things differently.
 */
.CodeMirror.cm-s-jupyter {
  background: var(--jp-layout-color0);
  color: var(--jp-content-font-color1);
}

/* In the notebook, we want this styling to be handled by its container */
.jp-CodeConsole .CodeMirror.cm-s-jupyter,
.jp-Notebook .CodeMirror.cm-s-jupyter {
  background: transparent;
}

.cm-s-jupyter .CodeMirror-cursor {
  border-left: var(--jp-code-cursor-width0) solid var(--jp-editor-cursor-color);
}
.cm-s-jupyter span.cm-keyword {
  color: var(--jp-mirror-editor-keyword-color);
  font-weight: bold;
}
.cm-s-jupyter span.cm-atom {
  color: var(--jp-mirror-editor-atom-color);
}
.cm-s-jupyter span.cm-number {
  color: var(--jp-mirror-editor-number-color);
}
.cm-s-jupyter span.cm-def {
  color: var(--jp-mirror-editor-def-color);
}
.cm-s-jupyter span.cm-variable {
  color: var(--jp-mirror-editor-variable-color);
}
.cm-s-jupyter span.cm-variable-2 {
  color: var(--jp-mirror-editor-variable-2-color);
}
.cm-s-jupyter span.cm-variable-3 {
  color: var(--jp-mirror-editor-variable-3-color);
}
.cm-s-jupyter span.cm-punctuation {
  color: var(--jp-mirror-editor-punctuation-color);
}
.cm-s-jupyter span.cm-property {
  color: var(--jp-mirror-editor-property-color);
}
.cm-s-jupyter span.cm-operator {
  color: var(--jp-mirror-editor-operator-color);
  font-weight: bold;
}
.cm-s-jupyter span.cm-comment {
  color: var(--jp-mirror-editor-comment-color);
  font-style: italic;
}
.cm-s-jupyter span.cm-string {
  color: var(--jp-mirror-editor-string-color);
}
.cm-s-jupyter span.cm-string-2 {
  color: var(--jp-mirror-editor-string-2-color);
}
.cm-s-jupyter span.cm-meta {
  color: var(--jp-mirror-editor-meta-color);
}
.cm-s-jupyter span.cm-qualifier {
  color: var(--jp-mirror-editor-qualifier-color);
}
.cm-s-jupyter span.cm-builtin {
  color: var(--jp-mirror-editor-builtin-color);
}
.cm-s-jupyter span.cm-bracket {
  color: var(--jp-mirror-editor-bracket-color);
}
.cm-s-jupyter span.cm-tag {
  color: var(--jp-mirror-editor-tag-color);
}
.cm-s-jupyter span.cm-attribute {
  color: var(--jp-mirror-editor-attribute-color);
}
.cm-s-jupyter span.cm-header {
  color: var(--jp-mirror-editor-header-color);
}
.cm-s-jupyter span.cm-quote {
  color: var(--jp-mirror-editor-quote-color);
}
.cm-s-jupyter span.cm-link {
  color: var(--jp-mirror-editor-link-color);
}
.cm-s-jupyter span.cm-error {
  color: var(--jp-mirror-editor-error-color);
}
.cm-s-jupyter span.cm-hr {
  color: #999;
}

.cm-s-jupyter span.cm-tab {
  background: url(data:image/png;base64,iVBORw0KGgoAAAANSUhEUgAAADAAAAAMCAYAAAAkuj5RAAAAAXNSR0IArs4c6QAAAGFJREFUSMft1LsRQFAQheHPowAKoACx3IgEKtaEHujDjORSgWTH/ZOdnZOcM/sgk/kFFWY0qV8foQwS4MKBCS3qR6ixBJvElOobYAtivseIE120FaowJPN75GMu8j/LfMwNjh4HUpwg4LUAAAAASUVORK5CYII=);
  background-position: right;
  background-repeat: no-repeat;
}

.cm-s-jupyter .CodeMirror-activeline-background,
.cm-s-jupyter .CodeMirror-gutter {
  background-color: var(--jp-layout-color2);
}

/* Styles for shared cursors (remote cursor locations and selected ranges) */
.jp-CodeMirrorEditor .remote-caret {
  position: relative;
  border-left: 2px solid black;
  margin-left: -1px;
  margin-right: -1px;
  box-sizing: border-box;
}

.jp-CodeMirrorEditor .remote-caret > div {
  white-space: nowrap;
  position: absolute;
  top: -1.15em;
  padding-bottom: 0.05em;
  left: -2px;
  font-size: 0.95em;
  background-color: rgb(250, 129, 0);
  font-family: var(--jp-ui-font-family);
  font-weight: bold;
  line-height: normal;
  user-select: none;
  color: white;
  padding-left: 2px;
  padding-right: 2px;
  z-index: 3;
  transition: opacity 0.3s ease-in-out;
}

.jp-CodeMirrorEditor .remote-caret.hide-name > div {
  transition-delay: 0.7s;
  opacity: 0;
}

.jp-CodeMirrorEditor .remote-caret:hover > div {
  opacity: 1;
  transition-delay: 0s;
}

/*-----------------------------------------------------------------------------
| Copyright (c) Jupyter Development Team.
| Distributed under the terms of the Modified BSD License.
|----------------------------------------------------------------------------*/

/*-----------------------------------------------------------------------------
| RenderedText
|----------------------------------------------------------------------------*/

:root {
  /* This is the padding value to fill the gaps between lines containing spans with background color. */
  --jp-private-code-span-padding: calc(
    (var(--jp-code-line-height) - 1) * var(--jp-code-font-size) / 2
  );
}

.jp-RenderedText {
  text-align: left;
  padding-left: var(--jp-code-padding);
  line-height: var(--jp-code-line-height);
  font-family: var(--jp-code-font-family);
}

.jp-RenderedText pre,
.jp-RenderedJavaScript pre,
.jp-RenderedHTMLCommon pre {
  color: var(--jp-content-font-color1);
  font-size: var(--jp-code-font-size);
  border: none;
  margin: 0px;
  padding: 0px;
}

.jp-RenderedText pre a:link {
  text-decoration: none;
  color: var(--jp-content-link-color);
}
.jp-RenderedText pre a:hover {
  text-decoration: underline;
  color: var(--jp-content-link-color);
}
.jp-RenderedText pre a:visited {
  text-decoration: none;
  color: var(--jp-content-link-color);
}

/* console foregrounds and backgrounds */
.jp-RenderedText pre .ansi-black-fg {
  color: #3e424d;
}
.jp-RenderedText pre .ansi-red-fg {
  color: #e75c58;
}
.jp-RenderedText pre .ansi-green-fg {
  color: #00a250;
}
.jp-RenderedText pre .ansi-yellow-fg {
  color: #ddb62b;
}
.jp-RenderedText pre .ansi-blue-fg {
  color: #208ffb;
}
.jp-RenderedText pre .ansi-magenta-fg {
  color: #d160c4;
}
.jp-RenderedText pre .ansi-cyan-fg {
  color: #60c6c8;
}
.jp-RenderedText pre .ansi-white-fg {
  color: #c5c1b4;
}

.jp-RenderedText pre .ansi-black-bg {
  background-color: #3e424d;
  padding: var(--jp-private-code-span-padding) 0;
}
.jp-RenderedText pre .ansi-red-bg {
  background-color: #e75c58;
  padding: var(--jp-private-code-span-padding) 0;
}
.jp-RenderedText pre .ansi-green-bg {
  background-color: #00a250;
  padding: var(--jp-private-code-span-padding) 0;
}
.jp-RenderedText pre .ansi-yellow-bg {
  background-color: #ddb62b;
  padding: var(--jp-private-code-span-padding) 0;
}
.jp-RenderedText pre .ansi-blue-bg {
  background-color: #208ffb;
  padding: var(--jp-private-code-span-padding) 0;
}
.jp-RenderedText pre .ansi-magenta-bg {
  background-color: #d160c4;
  padding: var(--jp-private-code-span-padding) 0;
}
.jp-RenderedText pre .ansi-cyan-bg {
  background-color: #60c6c8;
  padding: var(--jp-private-code-span-padding) 0;
}
.jp-RenderedText pre .ansi-white-bg {
  background-color: #c5c1b4;
  padding: var(--jp-private-code-span-padding) 0;
}

.jp-RenderedText pre .ansi-black-intense-fg {
  color: #282c36;
}
.jp-RenderedText pre .ansi-red-intense-fg {
  color: #b22b31;
}
.jp-RenderedText pre .ansi-green-intense-fg {
  color: #007427;
}
.jp-RenderedText pre .ansi-yellow-intense-fg {
  color: #b27d12;
}
.jp-RenderedText pre .ansi-blue-intense-fg {
  color: #0065ca;
}
.jp-RenderedText pre .ansi-magenta-intense-fg {
  color: #a03196;
}
.jp-RenderedText pre .ansi-cyan-intense-fg {
  color: #258f8f;
}
.jp-RenderedText pre .ansi-white-intense-fg {
  color: #a1a6b2;
}

.jp-RenderedText pre .ansi-black-intense-bg {
  background-color: #282c36;
  padding: var(--jp-private-code-span-padding) 0;
}
.jp-RenderedText pre .ansi-red-intense-bg {
  background-color: #b22b31;
  padding: var(--jp-private-code-span-padding) 0;
}
.jp-RenderedText pre .ansi-green-intense-bg {
  background-color: #007427;
  padding: var(--jp-private-code-span-padding) 0;
}
.jp-RenderedText pre .ansi-yellow-intense-bg {
  background-color: #b27d12;
  padding: var(--jp-private-code-span-padding) 0;
}
.jp-RenderedText pre .ansi-blue-intense-bg {
  background-color: #0065ca;
  padding: var(--jp-private-code-span-padding) 0;
}
.jp-RenderedText pre .ansi-magenta-intense-bg {
  background-color: #a03196;
  padding: var(--jp-private-code-span-padding) 0;
}
.jp-RenderedText pre .ansi-cyan-intense-bg {
  background-color: #258f8f;
  padding: var(--jp-private-code-span-padding) 0;
}
.jp-RenderedText pre .ansi-white-intense-bg {
  background-color: #a1a6b2;
  padding: var(--jp-private-code-span-padding) 0;
}

.jp-RenderedText pre .ansi-default-inverse-fg {
  color: var(--jp-ui-inverse-font-color0);
}
.jp-RenderedText pre .ansi-default-inverse-bg {
  background-color: var(--jp-inverse-layout-color0);
  padding: var(--jp-private-code-span-padding) 0;
}

.jp-RenderedText pre .ansi-bold {
  font-weight: bold;
}
.jp-RenderedText pre .ansi-underline {
  text-decoration: underline;
}

.jp-RenderedText[data-mime-type='application/vnd.jupyter.stderr'] {
  background: var(--jp-rendermime-error-background);
  padding-top: var(--jp-code-padding);
}

/*-----------------------------------------------------------------------------
| RenderedLatex
|----------------------------------------------------------------------------*/

.jp-RenderedLatex {
  color: var(--jp-content-font-color1);
  font-size: var(--jp-content-font-size1);
  line-height: var(--jp-content-line-height);
}

/* Left-justify outputs.*/
.jp-OutputArea-output.jp-RenderedLatex {
  padding: var(--jp-code-padding);
  text-align: left;
}

/*-----------------------------------------------------------------------------
| RenderedHTML
|----------------------------------------------------------------------------*/

.jp-RenderedHTMLCommon {
  color: var(--jp-content-font-color1);
  font-family: var(--jp-content-font-family);
  font-size: var(--jp-content-font-size1);
  line-height: var(--jp-content-line-height);
  /* Give a bit more R padding on Markdown text to keep line lengths reasonable */
  padding-right: 20px;
}

.jp-RenderedHTMLCommon em {
  font-style: italic;
}

.jp-RenderedHTMLCommon strong {
  font-weight: bold;
}

.jp-RenderedHTMLCommon u {
  text-decoration: underline;
}

.jp-RenderedHTMLCommon a:link {
  text-decoration: none;
  color: var(--jp-content-link-color);
}

.jp-RenderedHTMLCommon a:hover {
  text-decoration: underline;
  color: var(--jp-content-link-color);
}

.jp-RenderedHTMLCommon a:visited {
  text-decoration: none;
  color: var(--jp-content-link-color);
}

/* Headings */

.jp-RenderedHTMLCommon h1,
.jp-RenderedHTMLCommon h2,
.jp-RenderedHTMLCommon h3,
.jp-RenderedHTMLCommon h4,
.jp-RenderedHTMLCommon h5,
.jp-RenderedHTMLCommon h6 {
  line-height: var(--jp-content-heading-line-height);
  font-weight: var(--jp-content-heading-font-weight);
  font-style: normal;
  margin: var(--jp-content-heading-margin-top) 0
    var(--jp-content-heading-margin-bottom) 0;
}

.jp-RenderedHTMLCommon h1:first-child,
.jp-RenderedHTMLCommon h2:first-child,
.jp-RenderedHTMLCommon h3:first-child,
.jp-RenderedHTMLCommon h4:first-child,
.jp-RenderedHTMLCommon h5:first-child,
.jp-RenderedHTMLCommon h6:first-child {
  margin-top: calc(0.5 * var(--jp-content-heading-margin-top));
}

.jp-RenderedHTMLCommon h1:last-child,
.jp-RenderedHTMLCommon h2:last-child,
.jp-RenderedHTMLCommon h3:last-child,
.jp-RenderedHTMLCommon h4:last-child,
.jp-RenderedHTMLCommon h5:last-child,
.jp-RenderedHTMLCommon h6:last-child {
  margin-bottom: calc(0.5 * var(--jp-content-heading-margin-bottom));
}

.jp-RenderedHTMLCommon h1 {
  font-size: var(--jp-content-font-size5);
}

.jp-RenderedHTMLCommon h2 {
  font-size: var(--jp-content-font-size4);
}

.jp-RenderedHTMLCommon h3 {
  font-size: var(--jp-content-font-size3);
}

.jp-RenderedHTMLCommon h4 {
  font-size: var(--jp-content-font-size2);
}

.jp-RenderedHTMLCommon h5 {
  font-size: var(--jp-content-font-size1);
}

.jp-RenderedHTMLCommon h6 {
  font-size: var(--jp-content-font-size0);
}

/* Lists */

.jp-RenderedHTMLCommon ul:not(.list-inline),
.jp-RenderedHTMLCommon ol:not(.list-inline) {
  padding-left: 2em;
}

.jp-RenderedHTMLCommon ul {
  list-style: disc;
}

.jp-RenderedHTMLCommon ul ul {
  list-style: square;
}

.jp-RenderedHTMLCommon ul ul ul {
  list-style: circle;
}

.jp-RenderedHTMLCommon ol {
  list-style: decimal;
}

.jp-RenderedHTMLCommon ol ol {
  list-style: upper-alpha;
}

.jp-RenderedHTMLCommon ol ol ol {
  list-style: lower-alpha;
}

.jp-RenderedHTMLCommon ol ol ol ol {
  list-style: lower-roman;
}

.jp-RenderedHTMLCommon ol ol ol ol ol {
  list-style: decimal;
}

.jp-RenderedHTMLCommon ol,
.jp-RenderedHTMLCommon ul {
  margin-bottom: 1em;
}

.jp-RenderedHTMLCommon ul ul,
.jp-RenderedHTMLCommon ul ol,
.jp-RenderedHTMLCommon ol ul,
.jp-RenderedHTMLCommon ol ol {
  margin-bottom: 0em;
}

.jp-RenderedHTMLCommon hr {
  color: var(--jp-border-color2);
  background-color: var(--jp-border-color1);
  margin-top: 1em;
  margin-bottom: 1em;
}

.jp-RenderedHTMLCommon > pre {
  margin: 1.5em 2em;
}

.jp-RenderedHTMLCommon pre,
.jp-RenderedHTMLCommon code {
  border: 0;
  background-color: var(--jp-layout-color0);
  color: var(--jp-content-font-color1);
  font-family: var(--jp-code-font-family);
  font-size: inherit;
  line-height: var(--jp-code-line-height);
  padding: 0;
  white-space: pre-wrap;
}

.jp-RenderedHTMLCommon :not(pre) > code {
  background-color: var(--jp-layout-color2);
  padding: 1px 5px;
}

/* Tables */

.jp-RenderedHTMLCommon table {
  border-collapse: collapse;
  border-spacing: 0;
  border: none;
  color: var(--jp-ui-font-color1);
  font-size: 12px;
  table-layout: fixed;
  margin-left: auto;
  margin-right: auto;
}

.jp-RenderedHTMLCommon thead {
  border-bottom: var(--jp-border-width) solid var(--jp-border-color1);
  vertical-align: bottom;
}

.jp-RenderedHTMLCommon td,
.jp-RenderedHTMLCommon th,
.jp-RenderedHTMLCommon tr {
  vertical-align: middle;
  padding: 0.5em 0.5em;
  line-height: normal;
  white-space: normal;
  max-width: none;
  border: none;
}

.jp-RenderedMarkdown.jp-RenderedHTMLCommon td,
.jp-RenderedMarkdown.jp-RenderedHTMLCommon th {
  max-width: none;
}

:not(.jp-RenderedMarkdown).jp-RenderedHTMLCommon td,
:not(.jp-RenderedMarkdown).jp-RenderedHTMLCommon th,
:not(.jp-RenderedMarkdown).jp-RenderedHTMLCommon tr {
  text-align: right;
}

.jp-RenderedHTMLCommon th {
  font-weight: bold;
}

.jp-RenderedHTMLCommon tbody tr:nth-child(odd) {
  background: var(--jp-layout-color0);
}

.jp-RenderedHTMLCommon tbody tr:nth-child(even) {
  background: var(--jp-rendermime-table-row-background);
}

.jp-RenderedHTMLCommon tbody tr:hover {
  background: var(--jp-rendermime-table-row-hover-background);
}

.jp-RenderedHTMLCommon table {
  margin-bottom: 1em;
}

.jp-RenderedHTMLCommon p {
  text-align: left;
  margin: 0px;
}

.jp-RenderedHTMLCommon p {
  margin-bottom: 1em;
}

.jp-RenderedHTMLCommon img {
  -moz-force-broken-image-icon: 1;
}

/* Restrict to direct children as other images could be nested in other content. */
.jp-RenderedHTMLCommon > img {
  display: block;
  margin-left: 0;
  margin-right: 0;
  margin-bottom: 1em;
}

/* Change color behind transparent images if they need it... */
[data-jp-theme-light='false'] .jp-RenderedImage img.jp-needs-light-background {
  background-color: var(--jp-inverse-layout-color1);
}
[data-jp-theme-light='true'] .jp-RenderedImage img.jp-needs-dark-background {
  background-color: var(--jp-inverse-layout-color1);
}
/* ...or leave it untouched if they don't */
[data-jp-theme-light='false'] .jp-RenderedImage img.jp-needs-dark-background {
}
[data-jp-theme-light='true'] .jp-RenderedImage img.jp-needs-light-background {
}

.jp-RenderedHTMLCommon img,
.jp-RenderedImage img,
.jp-RenderedHTMLCommon svg,
.jp-RenderedSVG svg {
  max-width: 100%;
  height: auto;
}

.jp-RenderedHTMLCommon img.jp-mod-unconfined,
.jp-RenderedImage img.jp-mod-unconfined,
.jp-RenderedHTMLCommon svg.jp-mod-unconfined,
.jp-RenderedSVG svg.jp-mod-unconfined {
  max-width: none;
}

.jp-RenderedHTMLCommon .alert {
  padding: var(--jp-notebook-padding);
  border: var(--jp-border-width) solid transparent;
  border-radius: var(--jp-border-radius);
  margin-bottom: 1em;
}

.jp-RenderedHTMLCommon .alert-info {
  color: var(--jp-info-color0);
  background-color: var(--jp-info-color3);
  border-color: var(--jp-info-color2);
}
.jp-RenderedHTMLCommon .alert-info hr {
  border-color: var(--jp-info-color3);
}
.jp-RenderedHTMLCommon .alert-info > p:last-child,
.jp-RenderedHTMLCommon .alert-info > ul:last-child {
  margin-bottom: 0;
}

.jp-RenderedHTMLCommon .alert-warning {
  color: var(--jp-warn-color0);
  background-color: var(--jp-warn-color3);
  border-color: var(--jp-warn-color2);
}
.jp-RenderedHTMLCommon .alert-warning hr {
  border-color: var(--jp-warn-color3);
}
.jp-RenderedHTMLCommon .alert-warning > p:last-child,
.jp-RenderedHTMLCommon .alert-warning > ul:last-child {
  margin-bottom: 0;
}

.jp-RenderedHTMLCommon .alert-success {
  color: var(--jp-success-color0);
  background-color: var(--jp-success-color3);
  border-color: var(--jp-success-color2);
}
.jp-RenderedHTMLCommon .alert-success hr {
  border-color: var(--jp-success-color3);
}
.jp-RenderedHTMLCommon .alert-success > p:last-child,
.jp-RenderedHTMLCommon .alert-success > ul:last-child {
  margin-bottom: 0;
}

.jp-RenderedHTMLCommon .alert-danger {
  color: var(--jp-error-color0);
  background-color: var(--jp-error-color3);
  border-color: var(--jp-error-color2);
}
.jp-RenderedHTMLCommon .alert-danger hr {
  border-color: var(--jp-error-color3);
}
.jp-RenderedHTMLCommon .alert-danger > p:last-child,
.jp-RenderedHTMLCommon .alert-danger > ul:last-child {
  margin-bottom: 0;
}

.jp-RenderedHTMLCommon blockquote {
  margin: 1em 2em;
  padding: 0 1em;
  border-left: 5px solid var(--jp-border-color2);
}

a.jp-InternalAnchorLink {
  visibility: hidden;
  margin-left: 8px;
  color: var(--md-blue-800);
}

h1:hover .jp-InternalAnchorLink,
h2:hover .jp-InternalAnchorLink,
h3:hover .jp-InternalAnchorLink,
h4:hover .jp-InternalAnchorLink,
h5:hover .jp-InternalAnchorLink,
h6:hover .jp-InternalAnchorLink {
  visibility: visible;
}

.jp-RenderedHTMLCommon kbd {
  background-color: var(--jp-rendermime-table-row-background);
  border: 1px solid var(--jp-border-color0);
  border-bottom-color: var(--jp-border-color2);
  border-radius: 3px;
  box-shadow: inset 0 -1px 0 rgba(0, 0, 0, 0.25);
  display: inline-block;
  font-size: 0.8em;
  line-height: 1em;
  padding: 0.2em 0.5em;
}

/* Most direct children of .jp-RenderedHTMLCommon have a margin-bottom of 1.0.
 * At the bottom of cells this is a bit too much as there is also spacing
 * between cells. Going all the way to 0 gets too tight between markdown and
 * code cells.
 */
.jp-RenderedHTMLCommon > *:last-child {
  margin-bottom: 0.5em;
}

/*-----------------------------------------------------------------------------
| Copyright (c) Jupyter Development Team.
| Distributed under the terms of the Modified BSD License.
|----------------------------------------------------------------------------*/

.jp-MimeDocument {
  outline: none;
}

/*-----------------------------------------------------------------------------
| Copyright (c) Jupyter Development Team.
| Distributed under the terms of the Modified BSD License.
|----------------------------------------------------------------------------*/

/*-----------------------------------------------------------------------------
| Variables
|----------------------------------------------------------------------------*/

:root {
  --jp-private-filebrowser-button-height: 28px;
  --jp-private-filebrowser-button-width: 48px;
}

/*-----------------------------------------------------------------------------
| Copyright (c) Jupyter Development Team.
| Distributed under the terms of the Modified BSD License.
|----------------------------------------------------------------------------*/

.jp-FileBrowser {
  display: flex;
  flex-direction: column;
  color: var(--jp-ui-font-color1);
  background: var(--jp-layout-color1);
  /* This is needed so that all font sizing of children done in ems is
   * relative to this base size */
  font-size: var(--jp-ui-font-size1);
}

.jp-FileBrowser-toolbar.jp-Toolbar {
  border-bottom: none;
  height: auto;
  margin: var(--jp-toolbar-header-margin);
  box-shadow: none;
}

.jp-BreadCrumbs {
  flex: 0 0 auto;
  margin: 8px 12px 8px 12px;
}

.jp-BreadCrumbs-item {
  margin: 0px 2px;
  padding: 0px 2px;
  border-radius: var(--jp-border-radius);
  cursor: pointer;
}

.jp-BreadCrumbs-item:hover {
  background-color: var(--jp-layout-color2);
}

.jp-BreadCrumbs-item:first-child {
  margin-left: 0px;
}

.jp-BreadCrumbs-item.jp-mod-dropTarget {
  background-color: var(--jp-brand-color2);
  opacity: 0.7;
}

/*-----------------------------------------------------------------------------
| Buttons
|----------------------------------------------------------------------------*/

.jp-FileBrowser-toolbar.jp-Toolbar {
  padding: 0px;
  margin: 8px 12px 0px 12px;
}

.jp-FileBrowser-toolbar.jp-Toolbar {
  justify-content: flex-start;
}

.jp-FileBrowser-toolbar.jp-Toolbar .jp-Toolbar-item {
  flex: 0 0 auto;
  padding-left: 0px;
  padding-right: 2px;
}

.jp-FileBrowser-toolbar.jp-Toolbar .jp-ToolbarButtonComponent {
  width: 40px;
}

.jp-FileBrowser-toolbar.jp-Toolbar
  .jp-Toolbar-item:first-child
  .jp-ToolbarButtonComponent {
  width: 72px;
  background: var(--jp-brand-color1);
}

.jp-FileBrowser-toolbar.jp-Toolbar
  .jp-Toolbar-item:first-child
  .jp-ToolbarButtonComponent:focus-visible {
  background-color: var(--jp-brand-color0);
}

.jp-FileBrowser-toolbar.jp-Toolbar
  .jp-Toolbar-item:first-child
  .jp-ToolbarButtonComponent
  .jp-icon3 {
  fill: white;
}

/*-----------------------------------------------------------------------------
| Other styles
|----------------------------------------------------------------------------*/

.jp-FileDialog.jp-mod-conflict input {
  color: var(--jp-error-color1);
}

.jp-FileDialog .jp-new-name-title {
  margin-top: 12px;
}

.jp-LastModified-hidden {
  display: none;
}

.jp-FileBrowser-filterBox {
  padding: 0px;
  flex: 0 0 auto;
  margin: 8px 12px 0px 12px;
}

/*-----------------------------------------------------------------------------
| DirListing
|----------------------------------------------------------------------------*/

.jp-DirListing {
  flex: 1 1 auto;
  display: flex;
  flex-direction: column;
  outline: 0;
}

.jp-DirListing:focus-visible {
  border: 1px solid var(--jp-brand-color1);
}

.jp-DirListing-header {
  flex: 0 0 auto;
  display: flex;
  flex-direction: row;
  overflow: hidden;
  border-top: var(--jp-border-width) solid var(--jp-border-color2);
  border-bottom: var(--jp-border-width) solid var(--jp-border-color1);
  box-shadow: var(--jp-toolbar-box-shadow);
  z-index: 2;
}

.jp-DirListing-headerItem {
  padding: 4px 12px 2px 12px;
  font-weight: 500;
}

.jp-DirListing-headerItem:hover {
  background: var(--jp-layout-color2);
}

.jp-DirListing-headerItem.jp-id-name {
  flex: 1 0 84px;
}

.jp-DirListing-headerItem.jp-id-modified {
  flex: 0 0 112px;
  border-left: var(--jp-border-width) solid var(--jp-border-color2);
  text-align: right;
}

.jp-id-narrow {
  display: none;
  flex: 0 0 5px;
  padding: 4px 4px;
  border-left: var(--jp-border-width) solid var(--jp-border-color2);
  text-align: right;
  color: var(--jp-border-color2);
}

.jp-DirListing-narrow .jp-id-narrow {
  display: block;
}

.jp-DirListing-narrow .jp-id-modified,
.jp-DirListing-narrow .jp-DirListing-itemModified {
  display: none;
}

.jp-DirListing-headerItem.jp-mod-selected {
  font-weight: 600;
}

/* increase specificity to override bundled default */
.jp-DirListing-content {
  flex: 1 1 auto;
  margin: 0;
  padding: 0;
  list-style-type: none;
  overflow: auto;
  background-color: var(--jp-layout-color1);
}

.jp-DirListing-content mark {
  color: var(--jp-ui-font-color0);
  background-color: transparent;
  font-weight: bold;
}

.jp-DirListing-content .jp-DirListing-item.jp-mod-selected mark {
  color: var(--jp-ui-inverse-font-color0);
}

/* Style the directory listing content when a user drops a file to upload */
.jp-DirListing.jp-mod-native-drop .jp-DirListing-content {
  outline: 5px dashed rgba(128, 128, 128, 0.5);
  outline-offset: -10px;
  cursor: copy;
}

.jp-DirListing-item {
  display: flex;
  flex-direction: row;
  padding: 4px 12px;
  -webkit-user-select: none;
  -moz-user-select: none;
  -ms-user-select: none;
  user-select: none;
}

.jp-DirListing-item[data-is-dot] {
  opacity: 75%;
}

.jp-DirListing-item.jp-mod-selected {
  color: var(--jp-ui-inverse-font-color1);
  background: var(--jp-brand-color1);
}

.jp-DirListing-item.jp-mod-dropTarget {
  background: var(--jp-brand-color3);
}

.jp-DirListing-item:hover:not(.jp-mod-selected) {
  background: var(--jp-layout-color2);
}

.jp-DirListing-itemIcon {
  flex: 0 0 20px;
  margin-right: 4px;
}

.jp-DirListing-itemText {
  flex: 1 0 64px;
  white-space: nowrap;
  overflow: hidden;
  text-overflow: ellipsis;
  user-select: none;
}

.jp-DirListing-itemModified {
  flex: 0 0 125px;
  text-align: right;
}

.jp-DirListing-editor {
  flex: 1 0 64px;
  outline: none;
  border: none;
}

.jp-DirListing-item.jp-mod-running .jp-DirListing-itemIcon:before {
  color: var(--jp-success-color1);
  content: '\25CF';
  font-size: 8px;
  position: absolute;
  left: -8px;
}

.jp-DirListing-item.jp-mod-running.jp-mod-selected
  .jp-DirListing-itemIcon:before {
  color: var(--jp-ui-inverse-font-color1);
}

.jp-DirListing-item.lm-mod-drag-image,
.jp-DirListing-item.jp-mod-selected.lm-mod-drag-image {
  font-size: var(--jp-ui-font-size1);
  padding-left: 4px;
  margin-left: 4px;
  width: 160px;
  background-color: var(--jp-ui-inverse-font-color2);
  box-shadow: var(--jp-elevation-z2);
  border-radius: 0px;
  color: var(--jp-ui-font-color1);
  transform: translateX(-40%) translateY(-58%);
}

.jp-DirListing-deadSpace {
  flex: 1 1 auto;
  margin: 0;
  padding: 0;
  list-style-type: none;
  overflow: auto;
  background-color: var(--jp-layout-color1);
}

.jp-Document {
  min-width: 120px;
  min-height: 120px;
  outline: none;
}

/*-----------------------------------------------------------------------------
| Copyright (c) Jupyter Development Team.
| Distributed under the terms of the Modified BSD License.
|----------------------------------------------------------------------------*/

/*-----------------------------------------------------------------------------
| Private CSS variables
|----------------------------------------------------------------------------*/

:root {
}

/*-----------------------------------------------------------------------------
| Main OutputArea
| OutputArea has a list of Outputs
|----------------------------------------------------------------------------*/

.jp-OutputArea {
  overflow-y: auto;
}

.jp-OutputArea-child {
  display: flex;
  flex-direction: row;
}

body[data-format='mobile'] .jp-OutputArea-child {
  flex-direction: column;
}

.jp-OutputPrompt {
  flex: 0 0 var(--jp-cell-prompt-width);
  color: var(--jp-cell-outprompt-font-color);
  font-family: var(--jp-cell-prompt-font-family);
  padding: var(--jp-code-padding);
  letter-spacing: var(--jp-cell-prompt-letter-spacing);
  line-height: var(--jp-code-line-height);
  font-size: var(--jp-code-font-size);
  border: var(--jp-border-width) solid transparent;
  opacity: var(--jp-cell-prompt-opacity);
  /* Right align prompt text, don't wrap to handle large prompt numbers */
  text-align: right;
  white-space: nowrap;
  overflow: hidden;
  text-overflow: ellipsis;
  /* Disable text selection */
  -webkit-user-select: none;
  -moz-user-select: none;
  -ms-user-select: none;
  user-select: none;
}

body[data-format='mobile'] .jp-OutputPrompt {
  flex: 0 0 auto;
  text-align: left;
}

.jp-OutputArea-output {
  height: auto;
  overflow: auto;
  user-select: text;
  -moz-user-select: text;
  -webkit-user-select: text;
  -ms-user-select: text;
}

.jp-OutputArea-child .jp-OutputArea-output {
  flex-grow: 1;
  flex-shrink: 1;
}

body[data-format='mobile'] .jp-OutputArea-child .jp-OutputArea-output {
  margin-left: var(--jp-notebook-padding);
}

/**
 * Isolated output.
 */
.jp-OutputArea-output.jp-mod-isolated {
  width: 100%;
  display: block;
}

/*
When drag events occur, `p-mod-override-cursor` is added to the body.
Because iframes steal all cursor events, the following two rules are necessary
to suppress pointer events while resize drags are occurring. There may be a
better solution to this problem.
*/
body.lm-mod-override-cursor .jp-OutputArea-output.jp-mod-isolated {
  position: relative;
}

body.lm-mod-override-cursor .jp-OutputArea-output.jp-mod-isolated:before {
  content: '';
  position: absolute;
  top: 0;
  left: 0;
  right: 0;
  bottom: 0;
  background: transparent;
}

/* pre */

.jp-OutputArea-output pre {
  border: none;
  margin: 0px;
  padding: 0px;
  overflow-x: auto;
  overflow-y: auto;
  word-break: break-all;
  word-wrap: break-word;
  white-space: pre-wrap;
}

/* tables */

.jp-OutputArea-output.jp-RenderedHTMLCommon table {
  margin-left: 0;
  margin-right: 0;
}

/* description lists */

.jp-OutputArea-output dl,
.jp-OutputArea-output dt,
.jp-OutputArea-output dd {
  display: block;
}

.jp-OutputArea-output dl {
  width: 100%;
  overflow: hidden;
  padding: 0;
  margin: 0;
}

.jp-OutputArea-output dt {
  font-weight: bold;
  float: left;
  width: 20%;
  padding: 0;
  margin: 0;
}

.jp-OutputArea-output dd {
  float: left;
  width: 80%;
  padding: 0;
  margin: 0;
}

/* Hide the gutter in case of
 *  - nested output areas (e.g. in the case of output widgets)
 *  - mirrored output areas
 */
.jp-OutputArea .jp-OutputArea .jp-OutputArea-prompt {
  display: none;
}

/*-----------------------------------------------------------------------------
| executeResult is added to any Output-result for the display of the object
| returned by a cell
|----------------------------------------------------------------------------*/

.jp-OutputArea-output.jp-OutputArea-executeResult {
  margin-left: 0px;
  flex: 1 1 auto;
}

/* Text output with the Out[] prompt needs a top padding to match the
 * alignment of the Out[] prompt itself.
 */
.jp-OutputArea-executeResult .jp-RenderedText.jp-OutputArea-output {
  padding-top: var(--jp-code-padding);
  border-top: var(--jp-border-width) solid transparent;
}

/*-----------------------------------------------------------------------------
| The Stdin output
|----------------------------------------------------------------------------*/

.jp-OutputArea-stdin {
  line-height: var(--jp-code-line-height);
  padding-top: var(--jp-code-padding);
  display: flex;
}

.jp-Stdin-prompt {
  color: var(--jp-content-font-color0);
  padding-right: var(--jp-code-padding);
  vertical-align: baseline;
  flex: 0 0 auto;
}

.jp-Stdin-input {
  font-family: var(--jp-code-font-family);
  font-size: inherit;
  color: inherit;
  background-color: inherit;
  width: 42%;
  min-width: 200px;
  /* make sure input baseline aligns with prompt */
  vertical-align: baseline;
  /* padding + margin = 0.5em between prompt and cursor */
  padding: 0em 0.25em;
  margin: 0em 0.25em;
  flex: 0 0 70%;
}

.jp-Stdin-input:focus {
  box-shadow: none;
}

/*-----------------------------------------------------------------------------
| Output Area View
|----------------------------------------------------------------------------*/

.jp-LinkedOutputView .jp-OutputArea {
  height: 100%;
  display: block;
}

.jp-LinkedOutputView .jp-OutputArea-output:only-child {
  height: 100%;
}

/*-----------------------------------------------------------------------------
| Copyright (c) Jupyter Development Team.
| Distributed under the terms of the Modified BSD License.
|----------------------------------------------------------------------------*/

.jp-Collapser {
  flex: 0 0 var(--jp-cell-collapser-width);
  padding: 0px;
  margin: 0px;
  border: none;
  outline: none;
  background: transparent;
  border-radius: var(--jp-border-radius);
  opacity: 1;
}

.jp-Collapser-child {
  display: block;
  width: 100%;
  box-sizing: border-box;
  /* height: 100% doesn't work because the height of its parent is computed from content */
  position: absolute;
  top: 0px;
  bottom: 0px;
}

/*-----------------------------------------------------------------------------
| Copyright (c) Jupyter Development Team.
| Distributed under the terms of the Modified BSD License.
|----------------------------------------------------------------------------*/

/*-----------------------------------------------------------------------------
| Header/Footer
|----------------------------------------------------------------------------*/

/* Hidden by zero height by default */
.jp-CellHeader,
.jp-CellFooter {
  height: 0px;
  width: 100%;
  padding: 0px;
  margin: 0px;
  border: none;
  outline: none;
  background: transparent;
}

/*-----------------------------------------------------------------------------
| Copyright (c) Jupyter Development Team.
| Distributed under the terms of the Modified BSD License.
|----------------------------------------------------------------------------*/

/*-----------------------------------------------------------------------------
| Input
|----------------------------------------------------------------------------*/

/* All input areas */
.jp-InputArea {
  display: flex;
  flex-direction: row;
  overflow: hidden;
}

body[data-format='mobile'] .jp-InputArea {
  flex-direction: column;
}

.jp-InputArea-editor {
  flex: 1 1 auto;
  overflow: hidden;
}

.jp-InputArea-editor {
  /* This is the non-active, default styling */
  border: var(--jp-border-width) solid var(--jp-cell-editor-border-color);
  border-radius: 0px;
  background: var(--jp-cell-editor-background);
}

body[data-format='mobile'] .jp-InputArea-editor {
  margin-left: var(--jp-notebook-padding);
}

.jp-InputPrompt {
  flex: 0 0 var(--jp-cell-prompt-width);
  color: var(--jp-cell-inprompt-font-color);
  font-family: var(--jp-cell-prompt-font-family);
  padding: var(--jp-code-padding);
  letter-spacing: var(--jp-cell-prompt-letter-spacing);
  opacity: var(--jp-cell-prompt-opacity);
  line-height: var(--jp-code-line-height);
  font-size: var(--jp-code-font-size);
  border: var(--jp-border-width) solid transparent;
  opacity: var(--jp-cell-prompt-opacity);
  /* Right align prompt text, don't wrap to handle large prompt numbers */
  text-align: right;
  white-space: nowrap;
  overflow: hidden;
  text-overflow: ellipsis;
  /* Disable text selection */
  -webkit-user-select: none;
  -moz-user-select: none;
  -ms-user-select: none;
  user-select: none;
}

body[data-format='mobile'] .jp-InputPrompt {
  flex: 0 0 auto;
  text-align: left;
}

/*-----------------------------------------------------------------------------
| Copyright (c) Jupyter Development Team.
| Distributed under the terms of the Modified BSD License.
|----------------------------------------------------------------------------*/

/*-----------------------------------------------------------------------------
| Placeholder
|----------------------------------------------------------------------------*/

.jp-Placeholder {
  display: flex;
  flex-direction: row;
  flex: 1 1 auto;
}

.jp-Placeholder-prompt {
  box-sizing: border-box;
}

.jp-Placeholder-content {
  flex: 1 1 auto;
  border: none;
  background: transparent;
  height: 20px;
  box-sizing: border-box;
}

.jp-Placeholder-content .jp-MoreHorizIcon {
  width: 32px;
  height: 16px;
  border: 1px solid transparent;
  border-radius: var(--jp-border-radius);
}

.jp-Placeholder-content .jp-MoreHorizIcon:hover {
  border: 1px solid var(--jp-border-color1);
  box-shadow: 0px 0px 2px 0px rgba(0, 0, 0, 0.25);
  background-color: var(--jp-layout-color0);
}

/*-----------------------------------------------------------------------------
| Copyright (c) Jupyter Development Team.
| Distributed under the terms of the Modified BSD License.
|----------------------------------------------------------------------------*/

/*-----------------------------------------------------------------------------
| Private CSS variables
|----------------------------------------------------------------------------*/

:root {
  --jp-private-cell-scrolling-output-offset: 5px;
}

/*-----------------------------------------------------------------------------
| Cell
|----------------------------------------------------------------------------*/

.jp-Cell {
  padding: var(--jp-cell-padding);
  margin: 0px;
  border: none;
  outline: none;
  background: transparent;
}

/*-----------------------------------------------------------------------------
| Common input/output
|----------------------------------------------------------------------------*/

.jp-Cell-inputWrapper,
.jp-Cell-outputWrapper {
  display: flex;
  flex-direction: row;
  padding: 0px;
  margin: 0px;
  /* Added to reveal the box-shadow on the input and output collapsers. */
  overflow: visible;
}

/* Only input/output areas inside cells */
.jp-Cell-inputArea,
.jp-Cell-outputArea {
  flex: 1 1 auto;
}

/*-----------------------------------------------------------------------------
| Collapser
|----------------------------------------------------------------------------*/

/* Make the output collapser disappear when there is not output, but do so
 * in a manner that leaves it in the layout and preserves its width.
 */
.jp-Cell.jp-mod-noOutputs .jp-Cell-outputCollapser {
  border: none !important;
  background: transparent !important;
}

.jp-Cell:not(.jp-mod-noOutputs) .jp-Cell-outputCollapser {
  min-height: var(--jp-cell-collapser-min-height);
}

/*-----------------------------------------------------------------------------
| Output
|----------------------------------------------------------------------------*/

/* Put a space between input and output when there IS output */
.jp-Cell:not(.jp-mod-noOutputs) .jp-Cell-outputWrapper {
  margin-top: 5px;
}

.jp-CodeCell.jp-mod-outputsScrolled .jp-Cell-outputArea {
  overflow-y: auto;
  max-height: 200px;
  box-shadow: inset 0 0 6px 2px rgba(0, 0, 0, 0.3);
  margin-left: var(--jp-private-cell-scrolling-output-offset);
}

.jp-CodeCell.jp-mod-outputsScrolled .jp-OutputArea-prompt {
  flex: 0 0
    calc(
      var(--jp-cell-prompt-width) -
        var(--jp-private-cell-scrolling-output-offset)
    );
}

/*-----------------------------------------------------------------------------
| CodeCell
|----------------------------------------------------------------------------*/

/*-----------------------------------------------------------------------------
| MarkdownCell
|----------------------------------------------------------------------------*/

.jp-MarkdownOutput {
  flex: 1 1 auto;
  margin-top: 0;
  margin-bottom: 0;
  padding-left: var(--jp-code-padding);
}

.jp-MarkdownOutput.jp-RenderedHTMLCommon {
  overflow: auto;
}

.jp-showHiddenCellsButton {
  margin-left: calc(var(--jp-cell-prompt-width) + 2 * var(--jp-code-padding));
  margin-top: var(--jp-code-padding);
  border: 1px solid var(--jp-border-color2);
  background-color: var(--jp-border-color3) !important;
  color: var(--jp-content-font-color0) !important;
}

.jp-showHiddenCellsButton:hover {
  background-color: var(--jp-border-color2) !important;
}

.jp-collapseHeadingButton {
  display: none;
}

.jp-MarkdownCell:hover .jp-collapseHeadingButton {
  display: flex;
  min-height: var(--jp-cell-collapser-min-height);
  position: absolute;
  right: 0;
  top: 0;
  bottom: 0;
}

/*-----------------------------------------------------------------------------
| Copyright (c) Jupyter Development Team.
| Distributed under the terms of the Modified BSD License.
|----------------------------------------------------------------------------*/

/*-----------------------------------------------------------------------------
| Copyright (c) Jupyter Development Team.
| Distributed under the terms of the Modified BSD License.
|----------------------------------------------------------------------------*/

/*-----------------------------------------------------------------------------
| Variables
|----------------------------------------------------------------------------*/

/*-----------------------------------------------------------------------------

/*-----------------------------------------------------------------------------
| Styles
|----------------------------------------------------------------------------*/

.jp-NotebookPanel-toolbar {
  padding: 2px;
}

.jp-Toolbar-item.jp-Notebook-toolbarCellType .jp-select-wrapper.jp-mod-focused {
  border: none;
  box-shadow: none;
}

.jp-Notebook-toolbarCellTypeDropdown select {
  height: 24px;
  font-size: var(--jp-ui-font-size1);
  line-height: 14px;
  border-radius: 0;
  display: block;
}

.jp-Notebook-toolbarCellTypeDropdown span {
  top: 5px !important;
}

/*-----------------------------------------------------------------------------
| Copyright (c) Jupyter Development Team.
| Distributed under the terms of the Modified BSD License.
|----------------------------------------------------------------------------*/

/*-----------------------------------------------------------------------------
| Private CSS variables
|----------------------------------------------------------------------------*/

:root {
  --jp-private-notebook-dragImage-width: 304px;
  --jp-private-notebook-dragImage-height: 36px;
  --jp-private-notebook-selected-color: var(--md-blue-400);
  --jp-private-notebook-active-color: var(--md-green-400);
}

/*-----------------------------------------------------------------------------
| Imports
|----------------------------------------------------------------------------*/

/*-----------------------------------------------------------------------------
| Notebook
|----------------------------------------------------------------------------*/

.jp-NotebookPanel {
  display: block;
  height: 100%;
}

.jp-NotebookPanel.jp-Document {
  min-width: 240px;
  min-height: 120px;
}

.jp-Notebook {
  padding: var(--jp-notebook-padding);
  outline: none;
  overflow: auto;
  background: var(--jp-layout-color0);
}

.jp-Notebook.jp-mod-scrollPastEnd::after {
  display: block;
  content: '';
  min-height: var(--jp-notebook-scroll-padding);
}

.jp-MainAreaWidget-ContainStrict .jp-Notebook * {
  contain: strict;
}

.jp-Notebook-render * {
  contain: none !important;
}

.jp-Notebook .jp-Cell {
  overflow: visible;
}

.jp-Notebook .jp-Cell .jp-InputPrompt {
  cursor: move;
  float: left;
}

/*-----------------------------------------------------------------------------
| Notebook state related styling
|
| The notebook and cells each have states, here are the possibilities:
|
| - Notebook
|   - Command
|   - Edit
| - Cell
|   - None
|   - Active (only one can be active)
|   - Selected (the cells actions are applied to)
|   - Multiselected (when multiple selected, the cursor)
|   - No outputs
|----------------------------------------------------------------------------*/

/* Command or edit modes */

.jp-Notebook .jp-Cell:not(.jp-mod-active) .jp-InputPrompt {
  opacity: var(--jp-cell-prompt-not-active-opacity);
  color: var(--jp-cell-prompt-not-active-font-color);
}

.jp-Notebook .jp-Cell:not(.jp-mod-active) .jp-OutputPrompt {
  opacity: var(--jp-cell-prompt-not-active-opacity);
  color: var(--jp-cell-prompt-not-active-font-color);
}

/* cell is active */
.jp-Notebook .jp-Cell.jp-mod-active .jp-Collapser {
  background: var(--jp-brand-color1);
}

/* cell is dirty */
.jp-Notebook .jp-Cell.jp-mod-dirty .jp-InputPrompt {
  color: var(--jp-warn-color1);
}
.jp-Notebook .jp-Cell.jp-mod-dirty .jp-InputPrompt:before {
  color: var(--jp-warn-color1);
  content: '•';
}

.jp-Notebook .jp-Cell.jp-mod-active.jp-mod-dirty .jp-Collapser {
  background: var(--jp-warn-color1);
}

/* collapser is hovered */
.jp-Notebook .jp-Cell .jp-Collapser:hover {
  box-shadow: var(--jp-elevation-z2);
  background: var(--jp-brand-color1);
  opacity: var(--jp-cell-collapser-not-active-hover-opacity);
}

/* cell is active and collapser is hovered */
.jp-Notebook .jp-Cell.jp-mod-active .jp-Collapser:hover {
  background: var(--jp-brand-color0);
  opacity: 1;
}

/* Command mode */

.jp-Notebook.jp-mod-commandMode .jp-Cell.jp-mod-selected {
  background: var(--jp-notebook-multiselected-color);
}

.jp-Notebook.jp-mod-commandMode
  .jp-Cell.jp-mod-active.jp-mod-selected:not(.jp-mod-multiSelected) {
  background: transparent;
}

/* Edit mode */

.jp-Notebook.jp-mod-editMode .jp-Cell.jp-mod-active .jp-InputArea-editor {
  border: var(--jp-border-width) solid var(--jp-cell-editor-active-border-color);
  box-shadow: var(--jp-input-box-shadow);
  background-color: var(--jp-cell-editor-active-background);
}

/*-----------------------------------------------------------------------------
| Notebook drag and drop
|----------------------------------------------------------------------------*/

.jp-Notebook-cell.jp-mod-dropSource {
  opacity: 0.5;
}

.jp-Notebook-cell.jp-mod-dropTarget,
.jp-Notebook.jp-mod-commandMode
  .jp-Notebook-cell.jp-mod-active.jp-mod-selected.jp-mod-dropTarget {
  border-top-color: var(--jp-private-notebook-selected-color);
  border-top-style: solid;
  border-top-width: 2px;
}

.jp-dragImage {
  display: block;
  flex-direction: row;
  width: var(--jp-private-notebook-dragImage-width);
  height: var(--jp-private-notebook-dragImage-height);
  border: var(--jp-border-width) solid var(--jp-cell-editor-border-color);
  background: var(--jp-cell-editor-background);
  overflow: visible;
}

.jp-dragImage-singlePrompt {
  box-shadow: 2px 2px 4px 0px rgba(0, 0, 0, 0.12);
}

.jp-dragImage .jp-dragImage-content {
  flex: 1 1 auto;
  z-index: 2;
  font-size: var(--jp-code-font-size);
  font-family: var(--jp-code-font-family);
  line-height: var(--jp-code-line-height);
  padding: var(--jp-code-padding);
  border: var(--jp-border-width) solid var(--jp-cell-editor-border-color);
  background: var(--jp-cell-editor-background-color);
  color: var(--jp-content-font-color3);
  text-align: left;
  margin: 4px 4px 4px 0px;
}

.jp-dragImage .jp-dragImage-prompt {
  flex: 0 0 auto;
  min-width: 36px;
  color: var(--jp-cell-inprompt-font-color);
  padding: var(--jp-code-padding);
  padding-left: 12px;
  font-family: var(--jp-cell-prompt-font-family);
  letter-spacing: var(--jp-cell-prompt-letter-spacing);
  line-height: 1.9;
  font-size: var(--jp-code-font-size);
  border: var(--jp-border-width) solid transparent;
}

.jp-dragImage-multipleBack {
  z-index: -1;
  position: absolute;
  height: 32px;
  width: 300px;
  top: 8px;
  left: 8px;
  background: var(--jp-layout-color2);
  border: var(--jp-border-width) solid var(--jp-input-border-color);
  box-shadow: 2px 2px 4px 0px rgba(0, 0, 0, 0.12);
}

/*-----------------------------------------------------------------------------
| Cell toolbar
|----------------------------------------------------------------------------*/

.jp-NotebookTools {
  display: block;
  min-width: var(--jp-sidebar-min-width);
  color: var(--jp-ui-font-color1);
  background: var(--jp-layout-color1);
  /* This is needed so that all font sizing of children done in ems is
    * relative to this base size */
  font-size: var(--jp-ui-font-size1);
  overflow: auto;
}

.jp-NotebookTools-tool {
  padding: 0px 12px 0 12px;
}

.jp-ActiveCellTool {
  padding: 12px;
  background-color: var(--jp-layout-color1);
  border-top: none !important;
}

.jp-ActiveCellTool .jp-InputArea-prompt {
  flex: 0 0 auto;
  padding-left: 0px;
}

.jp-ActiveCellTool .jp-InputArea-editor {
  flex: 1 1 auto;
  background: var(--jp-cell-editor-background);
  border-color: var(--jp-cell-editor-border-color);
}

.jp-ActiveCellTool .jp-InputArea-editor .CodeMirror {
  background: transparent;
}

.jp-MetadataEditorTool {
  flex-direction: column;
  padding: 12px 0px 12px 0px;
}

.jp-RankedPanel > :not(:first-child) {
  margin-top: 12px;
}

.jp-KeySelector select.jp-mod-styled {
  font-size: var(--jp-ui-font-size1);
  color: var(--jp-ui-font-color0);
  border: var(--jp-border-width) solid var(--jp-border-color1);
}

.jp-KeySelector label,
.jp-MetadataEditorTool label {
  line-height: 1.4;
}

.jp-NotebookTools .jp-select-wrapper {
  margin-top: 4px;
  margin-bottom: 0px;
}

.jp-NotebookTools .jp-Collapse {
  margin-top: 16px;
}

/*-----------------------------------------------------------------------------
| Presentation Mode (.jp-mod-presentationMode)
|----------------------------------------------------------------------------*/

.jp-mod-presentationMode .jp-Notebook {
  --jp-content-font-size1: var(--jp-content-presentation-font-size1);
  --jp-code-font-size: var(--jp-code-presentation-font-size);
}

.jp-mod-presentationMode .jp-Notebook .jp-Cell .jp-InputPrompt,
.jp-mod-presentationMode .jp-Notebook .jp-Cell .jp-OutputPrompt {
  flex: 0 0 110px;
}

/*-----------------------------------------------------------------------------
| Placeholder
|----------------------------------------------------------------------------*/

.jp-Cell-Placeholder {
  padding-left: 55px;
}

.jp-Cell-Placeholder-wrapper {
  background: #fff;
  border: 1px solid;
  border-color: #e5e6e9 #dfe0e4 #d0d1d5;
  border-radius: 4px;
  -webkit-border-radius: 4px;
  margin: 10px 15px;
}

.jp-Cell-Placeholder-wrapper-inner {
  padding: 15px;
  position: relative;
}

.jp-Cell-Placeholder-wrapper-body {
  background-repeat: repeat;
  background-size: 50% auto;
}

.jp-Cell-Placeholder-wrapper-body div {
  background: #f6f7f8;
  background-image: -webkit-linear-gradient(
    left,
    #f6f7f8 0%,
    #edeef1 20%,
    #f6f7f8 40%,
    #f6f7f8 100%
  );
  background-repeat: no-repeat;
  background-size: 800px 104px;
  height: 104px;
  position: relative;
}

.jp-Cell-Placeholder-wrapper-body div {
  position: absolute;
  right: 15px;
  left: 15px;
  top: 15px;
}

div.jp-Cell-Placeholder-h1 {
  top: 20px;
  height: 20px;
  left: 15px;
  width: 150px;
}

div.jp-Cell-Placeholder-h2 {
  left: 15px;
  top: 50px;
  height: 10px;
  width: 100px;
}

div.jp-Cell-Placeholder-content-1,
div.jp-Cell-Placeholder-content-2,
div.jp-Cell-Placeholder-content-3 {
  left: 15px;
  right: 15px;
  height: 10px;
}

div.jp-Cell-Placeholder-content-1 {
  top: 100px;
}

div.jp-Cell-Placeholder-content-2 {
  top: 120px;
}

div.jp-Cell-Placeholder-content-3 {
  top: 140px;
}

</style>

    <style type="text/css">
/*-----------------------------------------------------------------------------
| Copyright (c) Jupyter Development Team.
| Distributed under the terms of the Modified BSD License.
|----------------------------------------------------------------------------*/

/*
The following CSS variables define the main, public API for styling JupyterLab.
These variables should be used by all plugins wherever possible. In other
words, plugins should not define custom colors, sizes, etc unless absolutely
necessary. This enables users to change the visual theme of JupyterLab
by changing these variables.

Many variables appear in an ordered sequence (0,1,2,3). These sequences
are designed to work well together, so for example, `--jp-border-color1` should
be used with `--jp-layout-color1`. The numbers have the following meanings:

* 0: super-primary, reserved for special emphasis
* 1: primary, most important under normal situations
* 2: secondary, next most important under normal situations
* 3: tertiary, next most important under normal situations

Throughout JupyterLab, we are mostly following principles from Google's
Material Design when selecting colors. We are not, however, following
all of MD as it is not optimized for dense, information rich UIs.
*/

:root {
  /* Elevation
   *
   * We style box-shadows using Material Design's idea of elevation. These particular numbers are taken from here:
   *
   * https://github.com/material-components/material-components-web
   * https://material-components-web.appspot.com/elevation.html
   */

  --jp-shadow-base-lightness: 0;
  --jp-shadow-umbra-color: rgba(
    var(--jp-shadow-base-lightness),
    var(--jp-shadow-base-lightness),
    var(--jp-shadow-base-lightness),
    0.2
  );
  --jp-shadow-penumbra-color: rgba(
    var(--jp-shadow-base-lightness),
    var(--jp-shadow-base-lightness),
    var(--jp-shadow-base-lightness),
    0.14
  );
  --jp-shadow-ambient-color: rgba(
    var(--jp-shadow-base-lightness),
    var(--jp-shadow-base-lightness),
    var(--jp-shadow-base-lightness),
    0.12
  );
  --jp-elevation-z0: none;
  --jp-elevation-z1: 0px 2px 1px -1px var(--jp-shadow-umbra-color),
    0px 1px 1px 0px var(--jp-shadow-penumbra-color),
    0px 1px 3px 0px var(--jp-shadow-ambient-color);
  --jp-elevation-z2: 0px 3px 1px -2px var(--jp-shadow-umbra-color),
    0px 2px 2px 0px var(--jp-shadow-penumbra-color),
    0px 1px 5px 0px var(--jp-shadow-ambient-color);
  --jp-elevation-z4: 0px 2px 4px -1px var(--jp-shadow-umbra-color),
    0px 4px 5px 0px var(--jp-shadow-penumbra-color),
    0px 1px 10px 0px var(--jp-shadow-ambient-color);
  --jp-elevation-z6: 0px 3px 5px -1px var(--jp-shadow-umbra-color),
    0px 6px 10px 0px var(--jp-shadow-penumbra-color),
    0px 1px 18px 0px var(--jp-shadow-ambient-color);
  --jp-elevation-z8: 0px 5px 5px -3px var(--jp-shadow-umbra-color),
    0px 8px 10px 1px var(--jp-shadow-penumbra-color),
    0px 3px 14px 2px var(--jp-shadow-ambient-color);
  --jp-elevation-z12: 0px 7px 8px -4px var(--jp-shadow-umbra-color),
    0px 12px 17px 2px var(--jp-shadow-penumbra-color),
    0px 5px 22px 4px var(--jp-shadow-ambient-color);
  --jp-elevation-z16: 0px 8px 10px -5px var(--jp-shadow-umbra-color),
    0px 16px 24px 2px var(--jp-shadow-penumbra-color),
    0px 6px 30px 5px var(--jp-shadow-ambient-color);
  --jp-elevation-z20: 0px 10px 13px -6px var(--jp-shadow-umbra-color),
    0px 20px 31px 3px var(--jp-shadow-penumbra-color),
    0px 8px 38px 7px var(--jp-shadow-ambient-color);
  --jp-elevation-z24: 0px 11px 15px -7px var(--jp-shadow-umbra-color),
    0px 24px 38px 3px var(--jp-shadow-penumbra-color),
    0px 9px 46px 8px var(--jp-shadow-ambient-color);

  /* Borders
   *
   * The following variables, specify the visual styling of borders in JupyterLab.
   */

  --jp-border-width: 1px;
  --jp-border-color0: var(--md-grey-400);
  --jp-border-color1: var(--md-grey-400);
  --jp-border-color2: var(--md-grey-300);
  --jp-border-color3: var(--md-grey-200);
  --jp-border-radius: 2px;

  /* UI Fonts
   *
   * The UI font CSS variables are used for the typography all of the JupyterLab
   * user interface elements that are not directly user generated content.
   *
   * The font sizing here is done assuming that the body font size of --jp-ui-font-size1
   * is applied to a parent element. When children elements, such as headings, are sized
   * in em all things will be computed relative to that body size.
   */

  --jp-ui-font-scale-factor: 1.2;
  --jp-ui-font-size0: 0.83333em;
  --jp-ui-font-size1: 13px; /* Base font size */
  --jp-ui-font-size2: 1.2em;
  --jp-ui-font-size3: 1.44em;

  --jp-ui-font-family: -apple-system, BlinkMacSystemFont, 'Segoe UI', Helvetica,
    Arial, sans-serif, 'Apple Color Emoji', 'Segoe UI Emoji', 'Segoe UI Symbol';

  /*
   * Use these font colors against the corresponding main layout colors.
   * In a light theme, these go from dark to light.
   */

  /* Defaults use Material Design specification */
  --jp-ui-font-color0: rgba(0, 0, 0, 1);
  --jp-ui-font-color1: rgba(0, 0, 0, 0.87);
  --jp-ui-font-color2: rgba(0, 0, 0, 0.54);
  --jp-ui-font-color3: rgba(0, 0, 0, 0.38);

  /*
   * Use these against the brand/accent/warn/error colors.
   * These will typically go from light to darker, in both a dark and light theme.
   */

  --jp-ui-inverse-font-color0: rgba(255, 255, 255, 1);
  --jp-ui-inverse-font-color1: rgba(255, 255, 255, 1);
  --jp-ui-inverse-font-color2: rgba(255, 255, 255, 0.7);
  --jp-ui-inverse-font-color3: rgba(255, 255, 255, 0.5);

  /* Content Fonts
   *
   * Content font variables are used for typography of user generated content.
   *
   * The font sizing here is done assuming that the body font size of --jp-content-font-size1
   * is applied to a parent element. When children elements, such as headings, are sized
   * in em all things will be computed relative to that body size.
   */

  --jp-content-line-height: 1.6;
  --jp-content-font-scale-factor: 1.2;
  --jp-content-font-size0: 0.83333em;
  --jp-content-font-size1: 14px; /* Base font size */
  --jp-content-font-size2: 1.2em;
  --jp-content-font-size3: 1.44em;
  --jp-content-font-size4: 1.728em;
  --jp-content-font-size5: 2.0736em;

  /* This gives a magnification of about 125% in presentation mode over normal. */
  --jp-content-presentation-font-size1: 17px;

  --jp-content-heading-line-height: 1;
  --jp-content-heading-margin-top: 1.2em;
  --jp-content-heading-margin-bottom: 0.8em;
  --jp-content-heading-font-weight: 500;

  /* Defaults use Material Design specification */
  --jp-content-font-color0: rgba(0, 0, 0, 1);
  --jp-content-font-color1: rgba(0, 0, 0, 0.87);
  --jp-content-font-color2: rgba(0, 0, 0, 0.54);
  --jp-content-font-color3: rgba(0, 0, 0, 0.38);

  --jp-content-link-color: var(--md-blue-700);

  --jp-content-font-family: -apple-system, BlinkMacSystemFont, 'Segoe UI',
    Helvetica, Arial, sans-serif, 'Apple Color Emoji', 'Segoe UI Emoji',
    'Segoe UI Symbol';

  /*
   * Code Fonts
   *
   * Code font variables are used for typography of code and other monospaces content.
   */

  --jp-code-font-size: 13px;
  --jp-code-line-height: 1.3077; /* 17px for 13px base */
  --jp-code-padding: 5px; /* 5px for 13px base, codemirror highlighting needs integer px value */
  --jp-code-font-family-default: Menlo, Consolas, 'DejaVu Sans Mono', monospace;
  --jp-code-font-family: var(--jp-code-font-family-default);

  /* This gives a magnification of about 125% in presentation mode over normal. */
  --jp-code-presentation-font-size: 16px;

  /* may need to tweak cursor width if you change font size */
  --jp-code-cursor-width0: 1.4px;
  --jp-code-cursor-width1: 2px;
  --jp-code-cursor-width2: 4px;

  /* Layout
   *
   * The following are the main layout colors use in JupyterLab. In a light
   * theme these would go from light to dark.
   */

  --jp-layout-color0: white;
  --jp-layout-color1: white;
  --jp-layout-color2: var(--md-grey-200);
  --jp-layout-color3: var(--md-grey-400);
  --jp-layout-color4: var(--md-grey-600);

  /* Inverse Layout
   *
   * The following are the inverse layout colors use in JupyterLab. In a light
   * theme these would go from dark to light.
   */

  --jp-inverse-layout-color0: #111111;
  --jp-inverse-layout-color1: var(--md-grey-900);
  --jp-inverse-layout-color2: var(--md-grey-800);
  --jp-inverse-layout-color3: var(--md-grey-700);
  --jp-inverse-layout-color4: var(--md-grey-600);

  /* Brand/accent */

  --jp-brand-color0: var(--md-blue-900);
  --jp-brand-color1: var(--md-blue-700);
  --jp-brand-color2: var(--md-blue-300);
  --jp-brand-color3: var(--md-blue-100);
  --jp-brand-color4: var(--md-blue-50);

  --jp-accent-color0: var(--md-green-900);
  --jp-accent-color1: var(--md-green-700);
  --jp-accent-color2: var(--md-green-300);
  --jp-accent-color3: var(--md-green-100);

  /* State colors (warn, error, success, info) */

  --jp-warn-color0: var(--md-orange-900);
  --jp-warn-color1: var(--md-orange-700);
  --jp-warn-color2: var(--md-orange-300);
  --jp-warn-color3: var(--md-orange-100);

  --jp-error-color0: var(--md-red-900);
  --jp-error-color1: var(--md-red-700);
  --jp-error-color2: var(--md-red-300);
  --jp-error-color3: var(--md-red-100);

  --jp-success-color0: var(--md-green-900);
  --jp-success-color1: var(--md-green-700);
  --jp-success-color2: var(--md-green-300);
  --jp-success-color3: var(--md-green-100);

  --jp-info-color0: var(--md-cyan-900);
  --jp-info-color1: var(--md-cyan-700);
  --jp-info-color2: var(--md-cyan-300);
  --jp-info-color3: var(--md-cyan-100);

  /* Cell specific styles */

  --jp-cell-padding: 5px;

  --jp-cell-collapser-width: 8px;
  --jp-cell-collapser-min-height: 20px;
  --jp-cell-collapser-not-active-hover-opacity: 0.6;

  --jp-cell-editor-background: var(--md-grey-100);
  --jp-cell-editor-border-color: var(--md-grey-300);
  --jp-cell-editor-box-shadow: inset 0 0 2px var(--md-blue-300);
  --jp-cell-editor-active-background: var(--jp-layout-color0);
  --jp-cell-editor-active-border-color: var(--jp-brand-color1);

  --jp-cell-prompt-width: 64px;
  --jp-cell-prompt-font-family: var(--jp-code-font-family-default);
  --jp-cell-prompt-letter-spacing: 0px;
  --jp-cell-prompt-opacity: 1;
  --jp-cell-prompt-not-active-opacity: 0.5;
  --jp-cell-prompt-not-active-font-color: var(--md-grey-700);
  /* A custom blend of MD grey and blue 600
   * See https://meyerweb.com/eric/tools/color-blend/#546E7A:1E88E5:5:hex */
  --jp-cell-inprompt-font-color: #307fc1;
  /* A custom blend of MD grey and orange 600
   * https://meyerweb.com/eric/tools/color-blend/#546E7A:F4511E:5:hex */
  --jp-cell-outprompt-font-color: #bf5b3d;

  /* Notebook specific styles */

  --jp-notebook-padding: 10px;
  --jp-notebook-select-background: var(--jp-layout-color1);
  --jp-notebook-multiselected-color: var(--md-blue-50);

  /* The scroll padding is calculated to fill enough space at the bottom of the
  notebook to show one single-line cell (with appropriate padding) at the top
  when the notebook is scrolled all the way to the bottom. We also subtract one
  pixel so that no scrollbar appears if we have just one single-line cell in the
  notebook. This padding is to enable a 'scroll past end' feature in a notebook.
  */
  --jp-notebook-scroll-padding: calc(
    100% - var(--jp-code-font-size) * var(--jp-code-line-height) -
      var(--jp-code-padding) - var(--jp-cell-padding) - 1px
  );

  /* Rendermime styles */

  --jp-rendermime-error-background: #fdd;
  --jp-rendermime-table-row-background: var(--md-grey-100);
  --jp-rendermime-table-row-hover-background: var(--md-light-blue-50);

  /* Dialog specific styles */

  --jp-dialog-background: rgba(0, 0, 0, 0.25);

  /* Console specific styles */

  --jp-console-padding: 10px;

  /* Toolbar specific styles */

  --jp-toolbar-border-color: var(--jp-border-color1);
  --jp-toolbar-micro-height: 8px;
  --jp-toolbar-background: var(--jp-layout-color1);
  --jp-toolbar-box-shadow: 0px 0px 2px 0px rgba(0, 0, 0, 0.24);
  --jp-toolbar-header-margin: 4px 4px 0px 4px;
  --jp-toolbar-active-background: var(--md-grey-300);

  /* Statusbar specific styles */

  --jp-statusbar-height: 24px;

  /* Input field styles */

  --jp-input-box-shadow: inset 0 0 2px var(--md-blue-300);
  --jp-input-active-background: var(--jp-layout-color1);
  --jp-input-hover-background: var(--jp-layout-color1);
  --jp-input-background: var(--md-grey-100);
  --jp-input-border-color: var(--jp-border-color1);
  --jp-input-active-border-color: var(--jp-brand-color1);
  --jp-input-active-box-shadow-color: rgba(19, 124, 189, 0.3);

  /* General editor styles */

  --jp-editor-selected-background: #d9d9d9;
  --jp-editor-selected-focused-background: #d7d4f0;
  --jp-editor-cursor-color: var(--jp-ui-font-color0);

  /* Code mirror specific styles */

  --jp-mirror-editor-keyword-color: #008000;
  --jp-mirror-editor-atom-color: #88f;
  --jp-mirror-editor-number-color: #080;
  --jp-mirror-editor-def-color: #00f;
  --jp-mirror-editor-variable-color: var(--md-grey-900);
  --jp-mirror-editor-variable-2-color: #05a;
  --jp-mirror-editor-variable-3-color: #085;
  --jp-mirror-editor-punctuation-color: #05a;
  --jp-mirror-editor-property-color: #05a;
  --jp-mirror-editor-operator-color: #aa22ff;
  --jp-mirror-editor-comment-color: #408080;
  --jp-mirror-editor-string-color: #ba2121;
  --jp-mirror-editor-string-2-color: #708;
  --jp-mirror-editor-meta-color: #aa22ff;
  --jp-mirror-editor-qualifier-color: #555;
  --jp-mirror-editor-builtin-color: #008000;
  --jp-mirror-editor-bracket-color: #997;
  --jp-mirror-editor-tag-color: #170;
  --jp-mirror-editor-attribute-color: #00c;
  --jp-mirror-editor-header-color: blue;
  --jp-mirror-editor-quote-color: #090;
  --jp-mirror-editor-link-color: #00c;
  --jp-mirror-editor-error-color: #f00;
  --jp-mirror-editor-hr-color: #999;

  /* Vega extension styles */

  --jp-vega-background: white;

  /* Sidebar-related styles */

  --jp-sidebar-min-width: 250px;

  /* Search-related styles */

  --jp-search-toggle-off-opacity: 0.5;
  --jp-search-toggle-hover-opacity: 0.8;
  --jp-search-toggle-on-opacity: 1;
  --jp-search-selected-match-background-color: rgb(245, 200, 0);
  --jp-search-selected-match-color: black;
  --jp-search-unselected-match-background-color: var(
    --jp-inverse-layout-color0
  );
  --jp-search-unselected-match-color: var(--jp-ui-inverse-font-color0);

  /* Icon colors that work well with light or dark backgrounds */
  --jp-icon-contrast-color0: var(--md-purple-600);
  --jp-icon-contrast-color1: var(--md-green-600);
  --jp-icon-contrast-color2: var(--md-pink-600);
  --jp-icon-contrast-color3: var(--md-blue-600);
}
</style>

<style type="text/css">
/* Force rendering true colors when outputing to pdf */
* {
  -webkit-print-color-adjust: exact;
}

/* Misc */
a.anchor-link {
  display: none;
}

/* Input area styling */
.jp-InputArea {
  overflow: hidden;
}

.jp-InputArea-editor {
  overflow: hidden;
}

.CodeMirror.cm-s-jupyter .highlight pre {
/* weird, but --jp-code-padding defined to be 5px but 4px horizontal padding is hardcoded for pre.CodeMirror-line */
  padding: var(--jp-code-padding) 4px;
  margin: 0;

  font-family: inherit;
  font-size: inherit;
  line-height: inherit;
  color: inherit;

}

.jp-OutputArea-output pre {
  line-height: inherit;
  font-family: inherit;
}

.jp-RenderedText pre {
  color: var(--jp-content-font-color1);
  font-size: var(--jp-code-font-size);
}

/* Using table instead of flexbox so that we can use break-inside property */
/* CSS rules under this comment should not be required anymore after we move to the JupyterLab 4.0 CSS */


.jp-CodeCell.jp-mod-outputsScrolled .jp-OutputArea-prompt {
  min-width: calc(
    var(--jp-cell-prompt-width) - var(--jp-private-cell-scrolling-output-offset)
  );
}

.jp-OutputArea-child {
  display: table;
  width: 100%;
}

.jp-OutputPrompt {
  display: table-cell;
  vertical-align: top;
  min-width: var(--jp-cell-prompt-width);
}

body[data-format='mobile'] .jp-OutputPrompt {
  display: table-row;
}

.jp-OutputArea-output {
  display: table-cell;
  width: 100%;
}

body[data-format='mobile'] .jp-OutputArea-child .jp-OutputArea-output {
  display: table-row;
}

.jp-OutputArea-output.jp-OutputArea-executeResult {
  width: 100%;
}

/* Hiding the collapser by default */
.jp-Collapser {
  display: none;
}

@media print {
  .jp-Cell-inputWrapper,
  .jp-Cell-outputWrapper {
    display: block;
  }

  .jp-OutputArea-child {
    break-inside: avoid-page;
  }
}
</style>

<!-- Load mathjax -->
    <script src="https://cdnjs.cloudflare.com/ajax/libs/mathjax/2.7.7/latest.js?config=TeX-AMS_CHTML-full,Safe"> </script>
    <!-- MathJax configuration -->
    <script type="text/x-mathjax-config">
    init_mathjax = function() {
        if (window.MathJax) {
        // MathJax loaded
            MathJax.Hub.Config({
                TeX: {
                    equationNumbers: {
                    autoNumber: "AMS",
                    useLabelIds: true
                    }
                },
                tex2jax: {
                    inlineMath: [ ['$','$'], ["\\(","\\)"] ],
                    displayMath: [ ['$$','$$'], ["\\[","\\]"] ],
                    processEscapes: true,
                    processEnvironments: true
                },
                displayAlign: 'center',
                CommonHTML: {
                    linebreaks: {
                    automatic: true
                    }
                }
            });

            MathJax.Hub.Queue(["Typeset", MathJax.Hub]);
        }
    }
    init_mathjax();
    </script>
    <!-- End of mathjax configuration --></head>
<body class="jp-Notebook" data-jp-theme-light="true" data-jp-theme-name="JupyterLab Light">

<div class="jp-Cell jp-MarkdownCell jp-Notebook-cell">
<div class="jp-Cell-inputWrapper">
<div class="jp-Collapser jp-InputCollapser jp-Cell-inputCollapser">
</div>
<div class="jp-InputArea jp-Cell-inputArea"><div class="jp-InputPrompt jp-InputArea-prompt">
</div><div class="jp-RenderedHTMLCommon jp-RenderedMarkdown jp-MarkdownOutput " data-mime-type="text/markdown">
<p><span style="font-size: 16pt; font-weight: bold;">(PSL) Coding Assignment 2</span></p>
<br>
<br>
<p>Authors:</p>
<ul>
<li><p>Qi Zhou - qizhou8 - MCS-DS</p>
</li>
<li><p>Yogananth Mahalingam - ym24 - MCS-DS</p>
</li>
<li><p>Derek Zhang - derekz3 - MCS-DS</p>
</li>
</ul>
<p>Contributions:</p>
<p>Qi,Yoga and Derek worked on it independently. Brainstormed together &amp; created the final version.</p>

</div>
</div>
</div>
</div>
<div class="jp-Cell jp-MarkdownCell jp-Notebook-cell">
<div class="jp-Cell-inputWrapper">
<div class="jp-Collapser jp-InputCollapser jp-Cell-inputCollapser">
</div>
<div class="jp-InputArea jp-Cell-inputArea"><div class="jp-InputPrompt jp-InputArea-prompt">
</div><div class="jp-RenderedHTMLCommon jp-RenderedMarkdown jp-MarkdownOutput " data-mime-type="text/markdown">
<p><strong>Part I: Implement Lasso</strong></p>

</div>
</div>
</div>
</div><div class="jp-Cell jp-CodeCell jp-Notebook-cell jp-mod-noOutputs  ">
<div class="jp-Cell-inputWrapper">
<div class="jp-Collapser jp-InputCollapser jp-Cell-inputCollapser">
</div>
<div class="jp-InputArea jp-Cell-inputArea">
<div class="jp-InputPrompt jp-InputArea-prompt">In&nbsp;[35]:</div>
<div class="jp-CodeMirrorEditor jp-Editor jp-InputArea-editor" data-type="inline">
     <div class="CodeMirror cm-s-jupyter">
<div class=" highlight hl-ipython3"><pre><span></span><span class="kn">import</span> <span class="nn">numpy</span> <span class="k">as</span> <span class="nn">np</span>
<span class="kn">import</span> <span class="nn">pandas</span> <span class="k">as</span> <span class="nn">pd</span>
<span class="kn">import</span> <span class="nn">matplotlib.pyplot</span> <span class="k">as</span> <span class="nn">plt</span>
<span class="kn">import</span> <span class="nn">seaborn</span> <span class="k">as</span> <span class="nn">sns</span>

<span class="kn">from</span> <span class="nn">sklearn.metrics</span> <span class="kn">import</span> <span class="n">mean_squared_error</span>
<span class="kn">from</span> <span class="nn">sklearn.model_selection</span> <span class="kn">import</span> <span class="n">train_test_split</span>
<span class="kn">from</span> <span class="nn">sklearn.linear_model</span> <span class="kn">import</span> <span class="n">LinearRegression</span> <span class="k">as</span> <span class="n">lm</span>
<span class="kn">from</span> <span class="nn">sklearn.linear_model</span> <span class="kn">import</span> <span class="n">Ridge</span><span class="p">,</span> <span class="n">RidgeCV</span><span class="p">,</span> <span class="n">Lasso</span><span class="p">,</span> <span class="n">LassoCV</span>

<span class="kn">from</span> <span class="nn">sklearn.decomposition</span> <span class="kn">import</span> <span class="n">PCA</span>
<span class="kn">from</span> <span class="nn">sklearn.preprocessing</span> <span class="kn">import</span> <span class="n">StandardScaler</span>
<span class="kn">from</span> <span class="nn">sklearn.pipeline</span> <span class="kn">import</span> <span class="n">Pipeline</span>
<span class="kn">from</span> <span class="nn">tqdm</span> <span class="kn">import</span> <span class="n">tqdm</span>

<span class="kn">import</span> <span class="nn">warnings</span>
<span class="kn">from</span> <span class="nn">sklearn.exceptions</span> <span class="kn">import</span> <span class="n">ConvergenceWarning</span>
<span class="n">warnings</span><span class="o">.</span><span class="n">filterwarnings</span><span class="p">(</span><span class="s2">"ignore"</span><span class="p">,</span> <span class="n">category</span><span class="o">=</span><span class="n">ConvergenceWarning</span><span class="p">)</span>
</pre></div>

     </div>
</div>
</div>
</div>

</div><div class="jp-Cell jp-CodeCell jp-Notebook-cell jp-mod-noOutputs  ">
<div class="jp-Cell-inputWrapper">
<div class="jp-Collapser jp-InputCollapser jp-Cell-inputCollapser">
</div>
<div class="jp-InputArea jp-Cell-inputArea">
<div class="jp-InputPrompt jp-InputArea-prompt">In&nbsp;[36]:</div>
<div class="jp-CodeMirrorEditor jp-Editor jp-InputArea-editor" data-type="inline">
     <div class="CodeMirror cm-s-jupyter">
<div class=" highlight hl-ipython3"><pre><span></span><span class="n">np</span><span class="o">.</span><span class="n">random</span><span class="o">.</span><span class="n">seed</span><span class="p">(</span><span class="mi">4844</span><span class="p">)</span>
</pre></div>

     </div>
</div>
</div>
</div>

</div>
<div class="jp-Cell jp-MarkdownCell jp-Notebook-cell">
<div class="jp-Cell-inputWrapper">
<div class="jp-Collapser jp-InputCollapser jp-Cell-inputCollapser">
</div>
<div class="jp-InputArea jp-Cell-inputArea"><div class="jp-InputPrompt jp-InputArea-prompt">
</div><div class="jp-RenderedHTMLCommon jp-RenderedMarkdown jp-MarkdownOutput " data-mime-type="text/markdown">
<p>Load Data</p>

</div>
</div>
</div>
</div><div class="jp-Cell jp-CodeCell jp-Notebook-cell jp-mod-noOutputs  ">
<div class="jp-Cell-inputWrapper">
<div class="jp-Collapser jp-InputCollapser jp-Cell-inputCollapser">
</div>
<div class="jp-InputArea jp-Cell-inputArea">
<div class="jp-InputPrompt jp-InputArea-prompt">In&nbsp;[37]:</div>
<div class="jp-CodeMirrorEditor jp-Editor jp-InputArea-editor" data-type="inline">
     <div class="CodeMirror cm-s-jupyter">
<div class=" highlight hl-ipython3"><pre><span></span><span class="n">myData</span> <span class="o">=</span> <span class="n">pd</span><span class="o">.</span><span class="n">read_csv</span><span class="p">(</span><span class="s2">"PSL_data/Coding2_Data.csv"</span><span class="p">)</span>
<span class="n">var_names</span> <span class="o">=</span> <span class="n">myData</span><span class="o">.</span><span class="n">columns</span>
<span class="n">y</span> <span class="o">=</span> <span class="n">myData</span><span class="p">[[</span><span class="s1">'Y'</span><span class="p">]]</span><span class="o">.</span><span class="n">to_numpy</span><span class="p">()</span>
<span class="n">X</span> <span class="o">=</span> <span class="n">myData</span><span class="o">.</span><span class="n">drop</span><span class="p">([</span><span class="s1">'Y'</span><span class="p">],</span> <span class="n">axis</span> <span class="o">=</span> <span class="mi">1</span><span class="p">)</span><span class="o">.</span><span class="n">to_numpy</span><span class="p">()</span>
</pre></div>

     </div>
</div>
</div>
</div>

</div><div class="jp-Cell jp-CodeCell jp-Notebook-cell   ">
<div class="jp-Cell-inputWrapper">
<div class="jp-Collapser jp-InputCollapser jp-Cell-inputCollapser">
</div>
<div class="jp-InputArea jp-Cell-inputArea">
<div class="jp-InputPrompt jp-InputArea-prompt">In&nbsp;[38]:</div>
<div class="jp-CodeMirrorEditor jp-Editor jp-InputArea-editor" data-type="inline">
     <div class="CodeMirror cm-s-jupyter">
<div class=" highlight hl-ipython3"><pre><span></span><span class="n">X</span><span class="o">.</span><span class="n">shape</span><span class="p">,</span> <span class="nb">len</span><span class="p">(</span><span class="n">y</span><span class="p">)</span>
</pre></div>

     </div>
</div>
</div>
</div>

<div class="jp-Cell-outputWrapper">
<div class="jp-Collapser jp-OutputCollapser jp-Cell-outputCollapser">
</div>


<div class="jp-OutputArea jp-Cell-outputArea">
<div class="jp-OutputArea-child jp-OutputArea-executeResult">
    
    <div class="jp-OutputPrompt jp-OutputArea-prompt">Out[38]:</div>




<div class="jp-RenderedText jp-OutputArea-output jp-OutputArea-executeResult" data-mime-type="text/plain">
<pre>((506, 13), 506)</pre>
</div>

</div>

</div>

</div>

</div>
<div class="jp-Cell jp-MarkdownCell jp-Notebook-cell">
<div class="jp-Cell-inputWrapper">
<div class="jp-Collapser jp-InputCollapser jp-Cell-inputCollapser">
</div>
<div class="jp-InputArea jp-Cell-inputArea"><div class="jp-InputPrompt jp-InputArea-prompt">
</div><div class="jp-RenderedHTMLCommon jp-RenderedMarkdown jp-MarkdownOutput " data-mime-type="text/markdown">
<p>CD for Lasso</p>

</div>
</div>
</div>
</div><div class="jp-Cell jp-CodeCell jp-Notebook-cell jp-mod-noOutputs  ">
<div class="jp-Cell-inputWrapper">
<div class="jp-Collapser jp-InputCollapser jp-Cell-inputCollapser">
</div>
<div class="jp-InputArea jp-Cell-inputArea">
<div class="jp-InputPrompt jp-InputArea-prompt">In&nbsp;[39]:</div>
<div class="jp-CodeMirrorEditor jp-Editor jp-InputArea-editor" data-type="inline">
     <div class="CodeMirror cm-s-jupyter">
<div class=" highlight hl-ipython3"><pre><span></span><span class="k">def</span> <span class="nf">one_var_lasso</span><span class="p">(</span><span class="n">r</span><span class="p">,</span> <span class="n">x</span><span class="p">,</span> <span class="n">lam</span><span class="p">):</span>

    <span class="c1">#################</span>
    <span class="c1"># Your CODE</span>
    <span class="c1">#################</span>

    <span class="c1"># r shape n x 1</span>
    <span class="c1"># x shape n x 1</span>
    <span class="c1"># lam scaler</span>

    <span class="n">a</span> <span class="o">=</span> <span class="n">np</span><span class="o">.</span><span class="n">dot</span><span class="p">(</span><span class="n">r</span><span class="o">.</span><span class="n">T</span><span class="p">,</span> <span class="n">x</span><span class="p">)</span><span class="o">/</span><span class="n">np</span><span class="o">.</span><span class="n">dot</span><span class="p">(</span><span class="n">x</span><span class="o">.</span><span class="n">T</span><span class="p">,</span> <span class="n">x</span><span class="p">)</span>

    <span class="n">eta</span> <span class="o">=</span> <span class="p">(</span><span class="mi">2</span><span class="o">*</span><span class="nb">len</span><span class="p">(</span><span class="n">r</span><span class="p">)</span><span class="o">*</span><span class="n">lam</span><span class="p">)</span><span class="o">/</span><span class="n">np</span><span class="o">.</span><span class="n">dot</span><span class="p">(</span><span class="n">x</span><span class="o">.</span><span class="n">T</span><span class="p">,</span> <span class="n">x</span><span class="p">)</span>

    <span class="k">if</span> <span class="n">a</span> <span class="o">&gt;</span> <span class="n">eta</span><span class="o">/</span><span class="mi">2</span><span class="p">:</span>
      <span class="n">beta</span> <span class="o">=</span> <span class="n">a</span> <span class="o">-</span> <span class="n">eta</span><span class="o">/</span><span class="mi">2</span>
    <span class="k">elif</span> <span class="n">a</span> <span class="o">&lt;</span> <span class="o">-</span> <span class="n">eta</span><span class="o">/</span><span class="mi">2</span><span class="p">:</span>
      <span class="n">beta</span> <span class="o">=</span> <span class="n">a</span> <span class="o">+</span> <span class="n">eta</span><span class="o">/</span><span class="mi">2</span>
    <span class="k">elif</span> <span class="nb">abs</span><span class="p">(</span><span class="n">a</span><span class="p">)</span> <span class="o">&lt;=</span> <span class="n">eta</span><span class="o">/</span><span class="mi">2</span><span class="p">:</span>
      <span class="n">beta</span> <span class="o">=</span> <span class="mi">0</span>

    <span class="k">return</span> <span class="n">beta</span>
</pre></div>

     </div>
</div>
</div>
</div>

</div><div class="jp-Cell jp-CodeCell jp-Notebook-cell jp-mod-noOutputs  ">
<div class="jp-Cell-inputWrapper">
<div class="jp-Collapser jp-InputCollapser jp-Cell-inputCollapser">
</div>
<div class="jp-InputArea jp-Cell-inputArea">
<div class="jp-InputPrompt jp-InputArea-prompt">In&nbsp;[40]:</div>
<div class="jp-CodeMirrorEditor jp-Editor jp-InputArea-editor" data-type="inline">
     <div class="CodeMirror cm-s-jupyter">
<div class=" highlight hl-ipython3"><pre><span></span><span class="k">def</span> <span class="nf">MyLasso</span><span class="p">(</span><span class="n">X</span><span class="p">,</span> <span class="n">y</span><span class="p">,</span> <span class="n">lam_seq</span><span class="p">,</span> <span class="n">maxit</span> <span class="o">=</span> <span class="mi">100</span><span class="p">):</span>

    <span class="c1"># Input</span>
    <span class="c1"># X: n-by-p design matrix without the intercept</span>
    <span class="c1"># y: n-by-1 response vector</span>
    <span class="c1"># lam.seq: sequence of lambda values (arranged from large to small)</span>
    <span class="c1"># maxit: number of updates for each lambda</span>

    <span class="c1"># Output</span>
    <span class="c1"># B: a (p+1)-by-len(lam.seq) coefficient matrix</span>
    <span class="c1">#    with the first row being the intercept sequence</span>


    <span class="n">n</span><span class="p">,</span> <span class="n">p</span> <span class="o">=</span> <span class="n">X</span><span class="o">.</span><span class="n">shape</span>
    <span class="n">nlam</span> <span class="o">=</span> <span class="nb">len</span><span class="p">(</span><span class="n">lam_seq</span><span class="p">)</span>
    <span class="n">B</span> <span class="o">=</span> <span class="n">np</span><span class="o">.</span><span class="n">zeros</span><span class="p">((</span><span class="n">p</span><span class="o">+</span><span class="mi">1</span><span class="p">,</span> <span class="n">nlam</span><span class="p">))</span>

    <span class="c1">##############################</span>
    <span class="c1"># YOUR CODE:</span>
    <span class="c1"># (1) newX = Standardizad X;</span>
    <span class="c1"># (2) Record the centers and scales used in (1)</span>
    <span class="c1">##############################</span>

    <span class="n">newX</span> <span class="o">=</span> <span class="p">(</span><span class="n">X</span> <span class="o">-</span> <span class="n">X</span><span class="o">.</span><span class="n">mean</span><span class="p">(</span><span class="n">axis</span><span class="o">=</span><span class="mi">0</span><span class="p">))</span> <span class="o">/</span> <span class="n">X</span><span class="o">.</span><span class="n">std</span><span class="p">(</span><span class="n">axis</span><span class="o">=</span><span class="mi">0</span><span class="p">)</span>


    <span class="c1"># Initilize coef vector b and residual vector r</span>
    <span class="n">b</span> <span class="o">=</span> <span class="n">np</span><span class="o">.</span><span class="n">zeros</span><span class="p">(</span><span class="n">p</span><span class="p">)</span>
    <span class="n">r</span> <span class="o">=</span> <span class="n">y</span>


    <span class="c1"># Triple nested loop</span>
    <span class="k">for</span> <span class="n">m</span> <span class="ow">in</span> <span class="nb">range</span><span class="p">(</span><span class="n">nlam</span><span class="p">):</span>
        <span class="k">for</span> <span class="n">step</span> <span class="ow">in</span> <span class="nb">range</span><span class="p">(</span><span class="n">maxit</span><span class="p">):</span>
            <span class="k">for</span> <span class="n">j</span> <span class="ow">in</span> <span class="nb">range</span><span class="p">(</span><span class="n">p</span><span class="p">):</span>
                <span class="n">X_j</span> <span class="o">=</span> <span class="n">newX</span><span class="p">[:,</span> <span class="n">j</span><span class="p">]</span><span class="o">.</span><span class="n">reshape</span><span class="p">(</span><span class="o">-</span><span class="mi">1</span><span class="p">,</span><span class="mi">1</span><span class="p">)</span>
                <span class="n">r</span> <span class="o">=</span> <span class="n">r</span> <span class="o">+</span> <span class="n">X_j</span> <span class="o">*</span> <span class="n">b</span><span class="p">[</span><span class="n">j</span><span class="p">]</span>
                <span class="n">b</span><span class="p">[</span><span class="n">j</span><span class="p">]</span> <span class="o">=</span> <span class="n">one_var_lasso</span><span class="p">(</span><span class="n">r</span><span class="p">,</span> <span class="n">X_j</span><span class="p">,</span> <span class="n">lam_seq</span><span class="p">[</span><span class="n">m</span><span class="p">])</span>
                <span class="n">r</span> <span class="o">=</span> <span class="n">r</span> <span class="o">-</span> <span class="n">X_j</span> <span class="o">*</span> <span class="n">b</span><span class="p">[</span><span class="n">j</span><span class="p">]</span>
        <span class="n">B</span><span class="p">[</span><span class="mi">1</span><span class="p">:,</span> <span class="n">m</span><span class="p">]</span> <span class="o">=</span> <span class="n">b</span>

    <span class="c1">##############################</span>
    <span class="c1"># YOUR CODE:</span>
    <span class="c1"># Scale back the coefficients;</span>
    <span class="c1"># Update the intercepts stored in B[, 0]</span>
    <span class="c1">##############################</span>

    <span class="n">orginal_b</span> <span class="o">=</span> <span class="n">B</span><span class="p">[</span><span class="mi">1</span><span class="p">:,</span> <span class="p">:]</span><span class="o">.</span><span class="n">copy</span><span class="p">()</span>

    <span class="n">B</span><span class="p">[</span><span class="mi">1</span><span class="p">:,</span> <span class="p">:]</span> <span class="o">=</span> <span class="n">B</span><span class="p">[</span><span class="mi">1</span><span class="p">:,</span> <span class="p">:]</span><span class="o">/</span><span class="n">X</span><span class="o">.</span><span class="n">std</span><span class="p">(</span><span class="n">axis</span><span class="o">=</span><span class="mi">0</span><span class="p">)</span><span class="o">.</span><span class="n">reshape</span><span class="p">(</span><span class="o">-</span><span class="mi">1</span><span class="p">,</span><span class="mi">1</span><span class="p">)</span>

    <span class="n">y_lam</span> <span class="o">=</span> <span class="n">np</span><span class="o">.</span><span class="n">full</span><span class="p">(</span><span class="nb">len</span><span class="p">(</span><span class="n">lam_seq</span><span class="p">),</span> <span class="n">y</span><span class="o">.</span><span class="n">mean</span><span class="p">())</span>

    <span class="n">B</span><span class="p">[</span><span class="mi">0</span><span class="p">,:]</span> <span class="o">=</span> <span class="n">np</span><span class="o">.</span><span class="n">full</span><span class="p">(</span><span class="nb">len</span><span class="p">(</span><span class="n">lam_seq</span><span class="p">),</span> <span class="n">y</span><span class="o">.</span><span class="n">mean</span><span class="p">())</span> <span class="o">-</span> <span class="p">(</span><span class="n">np</span><span class="o">.</span><span class="n">dot</span><span class="p">(</span><span class="n">X</span><span class="o">.</span><span class="n">mean</span><span class="p">(</span><span class="n">axis</span><span class="o">=</span><span class="mi">0</span><span class="p">)</span><span class="o">/</span><span class="n">X</span><span class="o">.</span><span class="n">std</span><span class="p">(</span><span class="n">axis</span><span class="o">=</span><span class="mi">0</span><span class="p">),</span><span class="n">orginal_b</span><span class="p">))</span>

    <span class="k">return</span><span class="p">(</span><span class="n">B</span><span class="p">)</span>
</pre></div>

     </div>
</div>
</div>
</div>

</div><div class="jp-Cell jp-CodeCell jp-Notebook-cell jp-mod-noOutputs  ">
<div class="jp-Cell-inputWrapper">
<div class="jp-Collapser jp-InputCollapser jp-Cell-inputCollapser">
</div>
<div class="jp-InputArea jp-Cell-inputArea">
<div class="jp-InputPrompt jp-InputArea-prompt">In&nbsp;[41]:</div>
<div class="jp-CodeMirrorEditor jp-Editor jp-InputArea-editor" data-type="inline">
     <div class="CodeMirror cm-s-jupyter">
<div class=" highlight hl-ipython3"><pre><span></span><span class="n">log_lam_seq</span> <span class="o">=</span> <span class="n">np</span><span class="o">.</span><span class="n">linspace</span><span class="p">(</span><span class="o">-</span><span class="mi">1</span><span class="p">,</span> <span class="o">-</span><span class="mi">8</span><span class="p">,</span> <span class="n">num</span> <span class="o">=</span> <span class="mi">80</span><span class="p">)</span>
<span class="n">lam_seq</span> <span class="o">=</span> <span class="n">np</span><span class="o">.</span><span class="n">exp</span><span class="p">(</span><span class="n">log_lam_seq</span><span class="p">)</span>
<span class="n">myout</span> <span class="o">=</span> <span class="n">MyLasso</span><span class="p">(</span><span class="n">X</span><span class="p">,</span> <span class="n">y</span><span class="p">,</span> <span class="n">lam_seq</span><span class="p">,</span> <span class="n">maxit</span> <span class="o">=</span> <span class="mi">100</span><span class="p">)</span>
</pre></div>

     </div>
</div>
</div>
</div>

</div><div class="jp-Cell jp-CodeCell jp-Notebook-cell   ">
<div class="jp-Cell-inputWrapper">
<div class="jp-Collapser jp-InputCollapser jp-Cell-inputCollapser">
</div>
<div class="jp-InputArea jp-Cell-inputArea">
<div class="jp-InputPrompt jp-InputArea-prompt">In&nbsp;[42]:</div>
<div class="jp-CodeMirrorEditor jp-Editor jp-InputArea-editor" data-type="inline">
     <div class="CodeMirror cm-s-jupyter">
<div class=" highlight hl-ipython3"><pre><span></span><span class="n">p</span><span class="p">,</span> <span class="n">_</span> <span class="o">=</span> <span class="n">myout</span><span class="o">.</span><span class="n">shape</span>
<span class="n">plt</span><span class="o">.</span><span class="n">figure</span><span class="p">(</span><span class="n">figsize</span> <span class="o">=</span> <span class="p">(</span><span class="mi">12</span><span class="p">,</span><span class="mi">8</span><span class="p">))</span>

<span class="k">for</span> <span class="n">i</span> <span class="ow">in</span> <span class="nb">range</span><span class="p">(</span><span class="n">p</span><span class="o">-</span><span class="mi">1</span><span class="p">):</span>
    <span class="n">plt</span><span class="o">.</span><span class="n">plot</span><span class="p">(</span><span class="n">log_lam_seq</span><span class="p">,</span><span class="n">myout</span><span class="p">[</span><span class="n">i</span><span class="o">+</span><span class="mi">1</span><span class="p">,</span> <span class="p">:],</span> <span class="n">label</span> <span class="o">=</span> <span class="n">var_names</span><span class="p">[</span><span class="n">i</span><span class="p">])</span>


<span class="n">plt</span><span class="o">.</span><span class="n">xlabel</span><span class="p">(</span><span class="s1">'Log Lambda'</span><span class="p">)</span>
<span class="n">plt</span><span class="o">.</span><span class="n">ylabel</span><span class="p">(</span><span class="s1">'Coefficients'</span><span class="p">)</span>
<span class="n">plt</span><span class="o">.</span><span class="n">title</span><span class="p">(</span><span class="s1">'Lasso Paths - Numpy implementation'</span><span class="p">)</span>
<span class="n">plt</span><span class="o">.</span><span class="n">legend</span><span class="p">()</span>
<span class="n">plt</span><span class="o">.</span><span class="n">axis</span><span class="p">(</span><span class="s1">'tight'</span><span class="p">)</span>
</pre></div>

     </div>
</div>
</div>
</div>

<div class="jp-Cell-outputWrapper">
<div class="jp-Collapser jp-OutputCollapser jp-Cell-outputCollapser">
</div>


<div class="jp-OutputArea jp-Cell-outputArea">
<div class="jp-OutputArea-child jp-OutputArea-executeResult">
    
    <div class="jp-OutputPrompt jp-OutputArea-prompt">Out[42]:</div>




<div class="jp-RenderedText jp-OutputArea-output jp-OutputArea-executeResult" data-mime-type="text/plain">
<pre>(-8.35, -0.6499999999999999, -0.30999458351285203, 0.49974219884805027)</pre>
</div>

</div>
<div class="jp-OutputArea-child">
    
    <div class="jp-OutputPrompt jp-OutputArea-prompt"></div>




<div class="jp-RenderedImage jp-OutputArea-output ">
<img src="data:image/png;base64,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
"
class="
"
>
</div>

</div>

</div>

</div>

</div>
<div class="jp-Cell jp-MarkdownCell jp-Notebook-cell">
<div class="jp-Cell-inputWrapper">
<div class="jp-Collapser jp-InputCollapser jp-Cell-inputCollapser">
</div>
<div class="jp-InputArea jp-Cell-inputArea"><div class="jp-InputPrompt jp-InputArea-prompt">
</div><div class="jp-RenderedHTMLCommon jp-RenderedMarkdown jp-MarkdownOutput " data-mime-type="text/markdown">
<p><strong>Check the Accuracy</strong></p>
<p>Compare the accuracy of your algorithm against the output from glmnet. The maximum difference between the two coefficient matrices should be less than 0.005.</p>

</div>
</div>
</div>
</div><div class="jp-Cell jp-CodeCell jp-Notebook-cell   ">
<div class="jp-Cell-inputWrapper">
<div class="jp-Collapser jp-InputCollapser jp-Cell-inputCollapser">
</div>
<div class="jp-InputArea jp-Cell-inputArea">
<div class="jp-InputPrompt jp-InputArea-prompt">In&nbsp;[43]:</div>
<div class="jp-CodeMirrorEditor jp-Editor jp-InputArea-editor" data-type="inline">
     <div class="CodeMirror cm-s-jupyter">
<div class=" highlight hl-ipython3"><pre><span></span><span class="n">lasso_coef</span> <span class="o">=</span> <span class="n">pd</span><span class="o">.</span><span class="n">read_csv</span><span class="p">(</span><span class="s2">"PSL_data/Coding2_lasso_coefs.csv"</span><span class="p">)</span><span class="o">.</span><span class="n">to_numpy</span><span class="p">()</span>
<span class="n">lasso_coef</span><span class="o">.</span><span class="n">shape</span>
</pre></div>

     </div>
</div>
</div>
</div>

<div class="jp-Cell-outputWrapper">
<div class="jp-Collapser jp-OutputCollapser jp-Cell-outputCollapser">
</div>


<div class="jp-OutputArea jp-Cell-outputArea">
<div class="jp-OutputArea-child jp-OutputArea-executeResult">
    
    <div class="jp-OutputPrompt jp-OutputArea-prompt">Out[43]:</div>




<div class="jp-RenderedText jp-OutputArea-output jp-OutputArea-executeResult" data-mime-type="text/plain">
<pre>(14, 80)</pre>
</div>

</div>

</div>

</div>

</div><div class="jp-Cell jp-CodeCell jp-Notebook-cell   ">
<div class="jp-Cell-inputWrapper">
<div class="jp-Collapser jp-InputCollapser jp-Cell-inputCollapser">
</div>
<div class="jp-InputArea jp-Cell-inputArea">
<div class="jp-InputPrompt jp-InputArea-prompt">In&nbsp;[44]:</div>
<div class="jp-CodeMirrorEditor jp-Editor jp-InputArea-editor" data-type="inline">
     <div class="CodeMirror cm-s-jupyter">
<div class=" highlight hl-ipython3"><pre><span></span><span class="nb">abs</span><span class="p">(</span><span class="n">myout</span> <span class="o">-</span> <span class="n">lasso_coef</span><span class="p">)</span><span class="o">.</span><span class="n">max</span><span class="p">()</span>
</pre></div>

     </div>
</div>
</div>
</div>

<div class="jp-Cell-outputWrapper">
<div class="jp-Collapser jp-OutputCollapser jp-Cell-outputCollapser">
</div>


<div class="jp-OutputArea jp-Cell-outputArea">
<div class="jp-OutputArea-child jp-OutputArea-executeResult">
    
    <div class="jp-OutputPrompt jp-OutputArea-prompt">Out[44]:</div>




<div class="jp-RenderedText jp-OutputArea-output jp-OutputArea-executeResult" data-mime-type="text/plain">
<pre>0.004645317415915784</pre>
</div>

</div>

</div>

</div>

</div>
<div class="jp-Cell jp-MarkdownCell jp-Notebook-cell">
<div class="jp-Cell-inputWrapper">
<div class="jp-Collapser jp-InputCollapser jp-Cell-inputCollapser">
</div>
<div class="jp-InputArea jp-Cell-inputArea"><div class="jp-InputPrompt jp-InputArea-prompt">
</div><div class="jp-RenderedHTMLCommon jp-RenderedMarkdown jp-MarkdownOutput " data-mime-type="text/markdown">
<p>The two coefficient matrices is less than 0.005.</p>

</div>
</div>
</div>
</div>
<div class="jp-Cell jp-MarkdownCell jp-Notebook-cell">
<div class="jp-Cell-inputWrapper">
<div class="jp-Collapser jp-InputCollapser jp-Cell-inputCollapser">
</div>
<div class="jp-InputArea jp-Cell-inputArea"><div class="jp-InputPrompt jp-InputArea-prompt">
</div><div class="jp-RenderedHTMLCommon jp-RenderedMarkdown jp-MarkdownOutput " data-mime-type="text/markdown">
<h1 id="Part-II:-Simulation-Study"><strong>Part II: Simulation Study</strong><a class="anchor-link" href="#Part-II:-Simulation-Study">&#182;</a></h1>
</div>
</div>
</div>
</div><div class="jp-Cell jp-CodeCell jp-Notebook-cell jp-mod-noOutputs  ">
<div class="jp-Cell-inputWrapper">
<div class="jp-Collapser jp-InputCollapser jp-Cell-inputCollapser">
</div>
<div class="jp-InputArea jp-Cell-inputArea">
<div class="jp-InputPrompt jp-InputArea-prompt">In&nbsp;[45]:</div>
<div class="jp-CodeMirrorEditor jp-Editor jp-InputArea-editor" data-type="inline">
     <div class="CodeMirror cm-s-jupyter">
<div class=" highlight hl-ipython3"><pre><span></span><span class="k">def</span> <span class="nf">load_data</span><span class="p">(</span><span class="n">path</span><span class="p">):</span>
    <span class="n">myData</span> <span class="o">=</span> <span class="n">pd</span><span class="o">.</span><span class="n">read_csv</span><span class="p">(</span><span class="n">path</span><span class="p">)</span>
    <span class="n">Y</span> <span class="o">=</span> <span class="n">myData</span><span class="p">[</span><span class="s1">'Y'</span><span class="p">]</span>
    <span class="n">X</span> <span class="o">=</span> <span class="n">myData</span><span class="o">.</span><span class="n">drop</span><span class="p">([</span><span class="s1">'Y'</span><span class="p">],</span> <span class="n">axis</span> <span class="o">=</span> <span class="mi">1</span><span class="p">)</span>

    <span class="k">return</span> <span class="n">X</span><span class="p">,</span> <span class="n">Y</span>
</pre></div>

     </div>
</div>
</div>
</div>

</div><div class="jp-Cell jp-CodeCell jp-Notebook-cell jp-mod-noOutputs  ">
<div class="jp-Cell-inputWrapper">
<div class="jp-Collapser jp-InputCollapser jp-Cell-inputCollapser">
</div>
<div class="jp-InputArea jp-Cell-inputArea">
<div class="jp-InputPrompt jp-InputArea-prompt">In&nbsp;[46]:</div>
<div class="jp-CodeMirrorEditor jp-Editor jp-InputArea-editor" data-type="inline">
     <div class="CodeMirror cm-s-jupyter">
<div class=" highlight hl-ipython3"><pre><span></span><span class="k">def</span> <span class="nf">preprocess_data</span><span class="p">(</span><span class="n">X</span><span class="p">,</span><span class="n">Y</span><span class="p">):</span>

    <span class="n">n</span> <span class="o">=</span> <span class="nb">len</span><span class="p">(</span><span class="n">Y</span><span class="p">)</span>
    <span class="n">indices</span> <span class="o">=</span> <span class="n">np</span><span class="o">.</span><span class="n">arange</span><span class="p">(</span><span class="mi">0</span><span class="p">,</span> <span class="n">n</span><span class="p">)</span>
    <span class="n">np</span><span class="o">.</span><span class="n">random</span><span class="o">.</span><span class="n">shuffle</span><span class="p">(</span><span class="n">indices</span><span class="p">)</span>
    <span class="n">test_ind</span> <span class="o">=</span> <span class="n">indices</span><span class="p">[:</span><span class="nb">int</span><span class="p">(</span><span class="n">np</span><span class="o">.</span><span class="n">floor</span><span class="p">(</span><span class="mf">0.25</span><span class="o">*</span><span class="n">n</span><span class="p">))]</span>
    <span class="n">train_ind</span> <span class="o">=</span> <span class="n">indices</span><span class="p">[</span><span class="nb">len</span><span class="p">(</span><span class="n">test_ind</span><span class="p">):]</span>

    <span class="c1"># Splitting the data into training and testing sets</span>
    <span class="n">X_train</span> <span class="o">=</span> <span class="n">X</span><span class="o">.</span><span class="n">iloc</span><span class="p">[</span><span class="n">train_ind</span><span class="p">]</span>
    <span class="n">Y_train</span> <span class="o">=</span> <span class="n">Y</span><span class="p">[</span><span class="n">train_ind</span><span class="p">]</span>
    <span class="n">X_test</span> <span class="o">=</span> <span class="n">X</span><span class="o">.</span><span class="n">iloc</span><span class="p">[</span><span class="n">test_ind</span><span class="p">]</span>
    <span class="n">Y_test</span> <span class="o">=</span> <span class="n">Y</span><span class="p">[</span><span class="n">test_ind</span><span class="p">]</span>

    <span class="c1"># Create a StandardScaler instance and fit it on the training data,</span>
    <span class="c1"># Transform the training data using the fitted scaler and transform the test data using the same scaler</span>

    <span class="n">scaler</span> <span class="o">=</span> <span class="n">StandardScaler</span><span class="p">()</span>
    <span class="n">scaler</span><span class="o">.</span><span class="n">fit</span><span class="p">(</span><span class="n">X_train</span><span class="p">)</span>

    <span class="n">X_train_scaled</span> <span class="o">=</span> <span class="n">scaler</span><span class="o">.</span><span class="n">transform</span><span class="p">(</span><span class="n">X_train</span><span class="p">)</span>
    <span class="n">X_test_scaled</span> <span class="o">=</span> <span class="n">scaler</span><span class="o">.</span><span class="n">transform</span><span class="p">(</span><span class="n">X_test</span><span class="p">)</span>

    <span class="k">return</span> <span class="n">X_train</span><span class="p">,</span><span class="n">Y_train</span><span class="p">,</span> <span class="n">X_test</span><span class="p">,</span> <span class="n">Y_test</span><span class="p">,</span> <span class="n">X_train_scaled</span><span class="p">,</span> <span class="n">X_test_scaled</span>
</pre></div>

     </div>
</div>
</div>
</div>

</div><div class="jp-Cell jp-CodeCell jp-Notebook-cell jp-mod-noOutputs  ">
<div class="jp-Cell-inputWrapper">
<div class="jp-Collapser jp-InputCollapser jp-Cell-inputCollapser">
</div>
<div class="jp-InputArea jp-Cell-inputArea">
<div class="jp-InputPrompt jp-InputArea-prompt">In&nbsp;[47]:</div>
<div class="jp-CodeMirrorEditor jp-Editor jp-InputArea-editor" data-type="inline">
     <div class="CodeMirror cm-s-jupyter">
<div class=" highlight hl-ipython3"><pre><span></span><span class="k">def</span> <span class="nf">full_lm</span><span class="p">(</span><span class="n">X_train</span><span class="p">,</span><span class="n">Y_train</span><span class="p">,</span><span class="n">X_test</span><span class="p">,</span><span class="n">Y_test</span><span class="p">):</span>

    <span class="n">full</span> <span class="o">=</span> <span class="n">lm</span><span class="p">()</span><span class="o">.</span><span class="n">fit</span><span class="p">(</span><span class="n">X_train</span><span class="p">,</span> <span class="n">Y_train</span><span class="p">)</span>
    <span class="n">full_mse_error</span> <span class="o">=</span> <span class="n">mean_squared_error</span><span class="p">(</span><span class="n">Y_test</span><span class="p">,</span> <span class="n">full</span><span class="o">.</span><span class="n">predict</span><span class="p">(</span><span class="n">X_test</span><span class="p">))</span>

    <span class="k">return</span> <span class="n">full_mse_error</span>
</pre></div>

     </div>
</div>
</div>
</div>

</div><div class="jp-Cell jp-CodeCell jp-Notebook-cell jp-mod-noOutputs  ">
<div class="jp-Cell-inputWrapper">
<div class="jp-Collapser jp-InputCollapser jp-Cell-inputCollapser">
</div>
<div class="jp-InputArea jp-Cell-inputArea">
<div class="jp-InputPrompt jp-InputArea-prompt">In&nbsp;[48]:</div>
<div class="jp-CodeMirrorEditor jp-Editor jp-InputArea-editor" data-type="inline">
     <div class="CodeMirror cm-s-jupyter">
<div class=" highlight hl-ipython3"><pre><span></span><span class="k">def</span> <span class="nf">Ridge_Regression</span><span class="p">(</span><span class="n">X_train_scaled</span><span class="p">,</span><span class="n">X_test_scaled</span><span class="p">,</span><span class="n">Y_train</span><span class="p">,</span><span class="n">Y_test</span><span class="p">):</span>

    <span class="n">ridge_alphas</span> <span class="o">=</span> <span class="n">np</span><span class="o">.</span><span class="n">logspace</span><span class="p">(</span><span class="o">-</span><span class="mi">10</span><span class="p">,</span> <span class="mi">1</span><span class="p">,</span> <span class="mi">100</span><span class="p">)</span>
    <span class="n">ridgecv</span> <span class="o">=</span> <span class="n">RidgeCV</span><span class="p">(</span><span class="n">alphas</span> <span class="o">=</span> <span class="n">ridge_alphas</span><span class="p">,</span> <span class="n">cv</span> <span class="o">=</span> <span class="mi">10</span><span class="p">,</span>
                      <span class="n">scoring</span> <span class="o">=</span> <span class="s1">'neg_mean_squared_error'</span><span class="p">)</span>
    <span class="n">ridgecv</span><span class="o">.</span><span class="n">fit</span><span class="p">(</span><span class="n">X_train_scaled</span><span class="p">,</span> <span class="n">Y_train</span><span class="p">)</span>
    <span class="n">ridge_model</span> <span class="o">=</span> <span class="n">Ridge</span><span class="p">(</span><span class="n">alpha</span> <span class="o">=</span> <span class="n">ridgecv</span><span class="o">.</span><span class="n">alpha_</span><span class="p">)</span>
    <span class="n">ridge_model</span><span class="o">.</span><span class="n">fit</span><span class="p">(</span><span class="n">X_train_scaled</span><span class="p">,</span> <span class="n">Y_train</span><span class="p">)</span>
    <span class="n">Ridge_mse_err</span> <span class="o">=</span> <span class="n">mean_squared_error</span><span class="p">(</span><span class="n">Y_test</span><span class="p">,</span> <span class="n">ridge_model</span><span class="o">.</span><span class="n">predict</span><span class="p">(</span><span class="n">X_test_scaled</span><span class="p">))</span>

    <span class="k">return</span> <span class="n">Ridge_mse_err</span>
</pre></div>

     </div>
</div>
</div>
</div>

</div><div class="jp-Cell jp-CodeCell jp-Notebook-cell jp-mod-noOutputs  ">
<div class="jp-Cell-inputWrapper">
<div class="jp-Collapser jp-InputCollapser jp-Cell-inputCollapser">
</div>
<div class="jp-InputArea jp-Cell-inputArea">
<div class="jp-InputPrompt jp-InputArea-prompt">In&nbsp;[49]:</div>
<div class="jp-CodeMirrorEditor jp-Editor jp-InputArea-editor" data-type="inline">
     <div class="CodeMirror cm-s-jupyter">
<div class=" highlight hl-ipython3"><pre><span></span><span class="k">def</span> <span class="nf">lasso</span><span class="p">(</span><span class="n">X_train_scaled</span><span class="p">,</span><span class="n">X_test_scaled</span><span class="p">,</span><span class="n">Y_train</span><span class="p">,</span><span class="n">Y_test</span><span class="p">):</span>

    <span class="n">lasso_alphas</span> <span class="o">=</span> <span class="n">np</span><span class="o">.</span><span class="n">logspace</span><span class="p">(</span><span class="o">-</span><span class="mi">10</span><span class="p">,</span> <span class="mi">1</span><span class="p">,</span> <span class="mi">100</span><span class="p">)</span>
    <span class="n">lassocv</span> <span class="o">=</span> <span class="n">LassoCV</span><span class="p">(</span><span class="n">alphas</span> <span class="o">=</span> <span class="n">lasso_alphas</span><span class="p">,</span> <span class="n">cv</span> <span class="o">=</span> <span class="mi">10</span><span class="p">)</span>
    <span class="n">lassocv</span><span class="o">.</span><span class="n">fit</span><span class="p">(</span><span class="n">X_train_scaled</span><span class="p">,</span> <span class="n">Y_train</span><span class="p">)</span>

    <span class="n">mean_mse</span> <span class="o">=</span> <span class="n">np</span><span class="o">.</span><span class="n">mean</span><span class="p">(</span><span class="n">lassocv</span><span class="o">.</span><span class="n">mse_path_</span><span class="p">,</span> <span class="n">axis</span><span class="o">=</span><span class="mi">1</span><span class="p">)</span>
    <span class="n">std_mse</span> <span class="o">=</span> <span class="n">np</span><span class="o">.</span><span class="n">std</span><span class="p">(</span><span class="n">lassocv</span><span class="o">.</span><span class="n">mse_path_</span><span class="p">,</span> <span class="n">axis</span><span class="o">=</span><span class="mi">1</span><span class="p">)</span> <span class="o">/</span> <span class="n">np</span><span class="o">.</span><span class="n">sqrt</span><span class="p">(</span><span class="mi">10</span><span class="p">)</span>
    <span class="n">cv_alphas</span> <span class="o">=</span> <span class="n">lassocv</span><span class="o">.</span><span class="n">alphas_</span>
    <span class="n">min_idx</span> <span class="o">=</span> <span class="n">np</span><span class="o">.</span><span class="n">argmin</span><span class="p">(</span><span class="n">mean_mse</span><span class="p">)</span>
    <span class="n">alpha_min</span> <span class="o">=</span> <span class="n">cv_alphas</span><span class="p">[</span><span class="n">min_idx</span><span class="p">]</span>
    <span class="n">threshold</span> <span class="o">=</span> <span class="n">mean_mse</span><span class="p">[</span><span class="n">min_idx</span><span class="p">]</span> <span class="o">+</span> <span class="n">std_mse</span><span class="p">[</span><span class="n">min_idx</span><span class="p">]</span>
    <span class="n">alpha_1se</span> <span class="o">=</span> <span class="nb">max</span><span class="p">(</span><span class="n">cv_alphas</span><span class="p">[</span><span class="n">np</span><span class="o">.</span><span class="n">where</span><span class="p">(</span><span class="n">mean_mse</span> <span class="o">&lt;=</span> <span class="n">threshold</span><span class="p">)])</span>

    <span class="c1">#### alpha_min</span>
    <span class="n">lasso_model_min</span> <span class="o">=</span> <span class="n">Lasso</span><span class="p">(</span><span class="n">alpha</span> <span class="o">=</span> <span class="n">alpha_min</span><span class="p">,</span> <span class="n">max_iter</span><span class="o">=</span><span class="mi">10000</span><span class="p">)</span>
    <span class="n">lasso_model_min</span><span class="o">.</span><span class="n">fit</span><span class="p">(</span><span class="n">X_train_scaled</span><span class="p">,</span> <span class="n">Y_train</span><span class="p">)</span>
    <span class="n">alpha_min_mse_err</span> <span class="o">=</span> <span class="n">mean_squared_error</span><span class="p">(</span><span class="n">Y_test</span><span class="p">,</span> <span class="n">lasso_model_min</span><span class="o">.</span><span class="n">predict</span><span class="p">(</span><span class="n">X_test_scaled</span><span class="p">))</span>

    <span class="c1">#### alpha_1se</span>
    <span class="n">lasso_model_1se</span> <span class="o">=</span> <span class="n">Lasso</span><span class="p">(</span><span class="n">alpha</span> <span class="o">=</span> <span class="n">alpha_1se</span><span class="p">,</span> <span class="n">max_iter</span><span class="o">=</span><span class="mi">10000</span><span class="p">)</span>
    <span class="n">lasso_model_1se</span><span class="o">.</span><span class="n">fit</span><span class="p">(</span><span class="n">X_train_scaled</span><span class="p">,</span> <span class="n">Y_train</span><span class="p">)</span>
    <span class="n">alpha_1se_mse_err</span> <span class="o">=</span> <span class="n">mean_squared_error</span><span class="p">(</span><span class="n">Y_test</span><span class="p">,</span> <span class="n">lasso_model_1se</span><span class="o">.</span><span class="n">predict</span><span class="p">(</span><span class="n">X_test_scaled</span><span class="p">))</span>

    <span class="k">return</span> <span class="n">alpha_min_mse_err</span><span class="p">,</span><span class="n">alpha_1se_mse_err</span><span class="p">,</span> <span class="n">lasso_model_1se</span>
</pre></div>

     </div>
</div>
</div>
</div>

</div><div class="jp-Cell jp-CodeCell jp-Notebook-cell jp-mod-noOutputs  ">
<div class="jp-Cell-inputWrapper">
<div class="jp-Collapser jp-InputCollapser jp-Cell-inputCollapser">
</div>
<div class="jp-InputArea jp-Cell-inputArea">
<div class="jp-InputPrompt jp-InputArea-prompt">In&nbsp;[50]:</div>
<div class="jp-CodeMirrorEditor jp-Editor jp-InputArea-editor" data-type="inline">
     <div class="CodeMirror cm-s-jupyter">
<div class=" highlight hl-ipython3"><pre><span></span><span class="k">def</span> <span class="nf">Refit_lasso</span><span class="p">(</span><span class="n">lasso_model_1se</span><span class="p">,</span><span class="n">X_train</span><span class="p">,</span><span class="n">Y_train</span><span class="p">,</span><span class="n">X_test</span><span class="p">,</span><span class="n">Y_test</span><span class="p">):</span>
    <span class="n">nonzero_indices</span> <span class="o">=</span> <span class="n">np</span><span class="o">.</span><span class="n">where</span><span class="p">(</span><span class="n">lasso_model_1se</span><span class="o">.</span><span class="n">coef_</span> <span class="o">!=</span> <span class="mi">0</span><span class="p">)[</span><span class="mi">0</span><span class="p">]</span>
    <span class="n">lm_refit</span> <span class="o">=</span> <span class="n">lm</span><span class="p">()</span>
    <span class="n">lm_refit</span><span class="o">.</span><span class="n">fit</span><span class="p">(</span><span class="n">X_train</span><span class="o">.</span><span class="n">iloc</span><span class="p">[:,</span> <span class="n">nonzero_indices</span><span class="p">],</span> <span class="n">Y_train</span><span class="p">)</span>
    <span class="n">refit_1m_mse_err</span> <span class="o">=</span> <span class="n">mean_squared_error</span><span class="p">(</span><span class="n">Y_test</span><span class="p">,</span> <span class="n">lm_refit</span><span class="o">.</span><span class="n">predict</span><span class="p">(</span><span class="n">X_test</span><span class="o">.</span><span class="n">iloc</span><span class="p">[:,</span> <span class="n">nonzero_indices</span><span class="p">]))</span>

    <span class="k">return</span> <span class="n">refit_1m_mse_err</span>
</pre></div>

     </div>
</div>
</div>
</div>

</div><div class="jp-Cell jp-CodeCell jp-Notebook-cell jp-mod-noOutputs  ">
<div class="jp-Cell-inputWrapper">
<div class="jp-Collapser jp-InputCollapser jp-Cell-inputCollapser">
</div>
<div class="jp-InputArea jp-Cell-inputArea">
<div class="jp-InputPrompt jp-InputArea-prompt">In&nbsp;[51]:</div>
<div class="jp-CodeMirrorEditor jp-Editor jp-InputArea-editor" data-type="inline">
     <div class="CodeMirror cm-s-jupyter">
<div class=" highlight hl-ipython3"><pre><span></span><span class="k">class</span> <span class="nc">PCR</span><span class="p">(</span><span class="nb">object</span><span class="p">):</span>

    <span class="k">def</span> <span class="fm">__init__</span><span class="p">(</span><span class="bp">self</span><span class="p">,</span> <span class="n">num_folds</span><span class="o">=</span><span class="mi">10</span><span class="p">):</span>
        <span class="bp">self</span><span class="o">.</span><span class="n">folds</span> <span class="o">=</span> <span class="n">num_folds</span>

    <span class="k">def</span> <span class="nf">fit</span><span class="p">(</span><span class="bp">self</span><span class="p">,</span> <span class="n">X</span><span class="p">,</span> <span class="n">Y</span><span class="p">):</span>
        <span class="n">n</span><span class="p">,</span> <span class="n">p</span> <span class="o">=</span> <span class="n">X</span><span class="o">.</span><span class="n">shape</span>
        <span class="n">indices</span> <span class="o">=</span> <span class="n">np</span><span class="o">.</span><span class="n">arange</span><span class="p">(</span><span class="n">n</span><span class="p">)</span>
        <span class="n">np</span><span class="o">.</span><span class="n">random</span><span class="o">.</span><span class="n">shuffle</span><span class="p">(</span><span class="n">indices</span><span class="p">)</span>
        <span class="n">index_sets</span> <span class="o">=</span> <span class="n">np</span><span class="o">.</span><span class="n">array_split</span><span class="p">(</span><span class="n">indices</span><span class="p">,</span> <span class="bp">self</span><span class="o">.</span><span class="n">folds</span><span class="p">)</span>
        <span class="n">ncomp</span> <span class="o">=</span> <span class="nb">min</span><span class="p">(</span><span class="n">p</span><span class="p">,</span> <span class="n">n</span> <span class="o">-</span> <span class="mi">1</span> <span class="o">-</span> <span class="nb">max</span><span class="p">([</span><span class="nb">len</span><span class="p">(</span><span class="n">i</span><span class="p">)</span> <span class="k">for</span> <span class="n">i</span> <span class="ow">in</span> <span class="n">index_sets</span><span class="p">]))</span>
        <span class="n">cv_err</span> <span class="o">=</span> <span class="n">np</span><span class="o">.</span><span class="n">zeros</span><span class="p">(</span><span class="n">ncomp</span><span class="p">)</span>

        <span class="k">for</span> <span class="n">ifold</span> <span class="ow">in</span> <span class="nb">range</span><span class="p">(</span><span class="bp">self</span><span class="o">.</span><span class="n">folds</span><span class="p">):</span>
            <span class="n">train_inds</span> <span class="o">=</span>  <span class="n">np</span><span class="o">.</span><span class="n">delete</span><span class="p">(</span><span class="n">index_sets</span><span class="p">,</span> <span class="n">obj</span><span class="o">=</span><span class="n">ifold</span><span class="p">,</span> <span class="n">axis</span><span class="o">=</span><span class="mi">0</span><span class="p">)</span><span class="o">.</span><span class="n">ravel</span><span class="p">()</span>
            <span class="n">test_inds</span> <span class="o">=</span> <span class="n">index_sets</span><span class="p">[</span><span class="n">ifold</span><span class="p">]</span>

            <span class="n">X_train</span> <span class="o">=</span> <span class="n">X</span><span class="p">[</span><span class="n">train_inds</span><span class="p">,</span> <span class="p">:]</span>
            <span class="n">pipeline</span> <span class="o">=</span> <span class="n">Pipeline</span><span class="p">([(</span><span class="s1">'scaling'</span><span class="p">,</span> <span class="n">StandardScaler</span><span class="p">()),</span> <span class="p">(</span><span class="s1">'pca'</span><span class="p">,</span> <span class="n">PCA</span><span class="p">())])</span>
            <span class="n">pipeline</span><span class="o">.</span><span class="n">fit</span><span class="p">(</span><span class="n">X_train</span><span class="p">)</span>
            <span class="n">X_train</span> <span class="o">=</span> <span class="n">pipeline</span><span class="o">.</span><span class="n">transform</span><span class="p">(</span><span class="n">X_train</span><span class="p">)</span>
            <span class="n">coefs</span> <span class="o">=</span> <span class="n">Y</span><span class="p">[</span><span class="n">train_inds</span><span class="p">]</span><span class="o">.</span><span class="n">T</span> <span class="o">@</span> <span class="n">X_train</span> <span class="o">/</span> <span class="n">np</span><span class="o">.</span><span class="n">sum</span><span class="p">(</span><span class="n">X_train</span><span class="o">**</span><span class="mi">2</span><span class="p">,</span> <span class="n">axis</span><span class="o">=</span><span class="mi">0</span><span class="p">)</span>
            <span class="n">b0</span> <span class="o">=</span> <span class="n">np</span><span class="o">.</span><span class="n">mean</span><span class="p">(</span><span class="n">Y</span><span class="p">[</span><span class="n">train_inds</span><span class="p">])</span>

            <span class="n">X_test</span> <span class="o">=</span> <span class="n">pipeline</span><span class="o">.</span><span class="n">transform</span><span class="p">(</span><span class="n">X</span><span class="p">[</span><span class="n">test_inds</span><span class="p">,</span> <span class="p">:])</span>

            <span class="k">for</span> <span class="n">k</span> <span class="ow">in</span> <span class="n">np</span><span class="o">.</span><span class="n">arange</span><span class="p">(</span><span class="n">ncomp</span><span class="p">):</span>
                <span class="n">preds</span> <span class="o">=</span> <span class="n">X_test</span><span class="p">[:,</span> <span class="p">:</span><span class="n">k</span><span class="p">]</span> <span class="o">@</span> <span class="n">coefs</span><span class="o">.</span><span class="n">T</span><span class="p">[:</span><span class="n">k</span><span class="p">]</span> <span class="o">+</span> <span class="n">b0</span>
                <span class="n">cv_err</span><span class="p">[</span><span class="n">k</span><span class="p">]</span> <span class="o">+=</span> <span class="n">cv_err</span><span class="p">[</span><span class="n">k</span><span class="p">]</span> <span class="o">+</span> <span class="n">np</span><span class="o">.</span><span class="n">sum</span><span class="p">((</span><span class="n">Y</span><span class="p">[</span><span class="n">test_inds</span><span class="p">]</span><span class="o">-</span><span class="n">preds</span><span class="p">)</span><span class="o">**</span><span class="mi">2</span><span class="p">)</span>

        <span class="n">min_ind</span> <span class="o">=</span> <span class="n">np</span><span class="o">.</span><span class="n">argmin</span><span class="p">(</span><span class="n">cv_err</span><span class="p">)</span>
        <span class="bp">self</span><span class="o">.</span><span class="n">ncomp</span> <span class="o">=</span> <span class="n">min_ind</span><span class="o">+</span><span class="mi">1</span>
        <span class="n">pipeline</span> <span class="o">=</span> <span class="n">Pipeline</span><span class="p">([(</span><span class="s1">'scaling'</span><span class="p">,</span> <span class="n">StandardScaler</span><span class="p">()),</span> <span class="p">(</span><span class="s1">'pca'</span><span class="p">,</span> <span class="n">PCA</span><span class="p">(</span><span class="n">n_components</span><span class="o">=</span><span class="bp">self</span><span class="o">.</span><span class="n">ncomp</span><span class="p">))])</span>
        <span class="bp">self</span><span class="o">.</span><span class="n">transform</span> <span class="o">=</span> <span class="n">pipeline</span><span class="o">.</span><span class="n">fit</span><span class="p">(</span><span class="n">X</span><span class="p">)</span>
        <span class="bp">self</span><span class="o">.</span><span class="n">model</span> <span class="o">=</span> <span class="n">lm</span><span class="p">()</span><span class="o">.</span><span class="n">fit</span><span class="p">(</span><span class="bp">self</span><span class="o">.</span><span class="n">transform</span><span class="o">.</span><span class="n">transform</span><span class="p">(</span><span class="n">X</span><span class="p">),</span> <span class="n">Y</span><span class="p">)</span>

    <span class="k">def</span> <span class="nf">predict</span><span class="p">(</span><span class="bp">self</span><span class="p">,</span> <span class="n">X</span><span class="p">):</span>
        <span class="n">X_</span> <span class="o">=</span> <span class="bp">self</span><span class="o">.</span><span class="n">transform</span><span class="o">.</span><span class="n">transform</span><span class="p">(</span><span class="n">X</span><span class="p">)</span>
        <span class="k">return</span> <span class="bp">self</span><span class="o">.</span><span class="n">model</span><span class="o">.</span><span class="n">predict</span><span class="p">(</span><span class="n">X_</span><span class="p">)</span>
</pre></div>

     </div>
</div>
</div>
</div>

</div>
<div class="jp-Cell jp-MarkdownCell jp-Notebook-cell">
<div class="jp-Cell-inputWrapper">
<div class="jp-Collapser jp-InputCollapser jp-Cell-inputCollapser">
</div>
<div class="jp-InputArea jp-Cell-inputArea"><div class="jp-InputPrompt jp-InputArea-prompt">
</div><div class="jp-RenderedHTMLCommon jp-RenderedMarkdown jp-MarkdownOutput " data-mime-type="text/markdown">
<h2 id="Case-I"><strong>Case I</strong><a class="anchor-link" href="#Case-I">&#182;</a></h2><p>Download Coding2_Data2.csv. The first 14 columns are the same as the data set we used in Part I with Y being the response variable (moved to the 1st column). The additional 78 more predictors are the quadratic and interaction terms of the original 13 predictors.</p>

</div>
</div>
</div>
</div><div class="jp-Cell jp-CodeCell jp-Notebook-cell   ">
<div class="jp-Cell-inputWrapper">
<div class="jp-Collapser jp-InputCollapser jp-Cell-inputCollapser">
</div>
<div class="jp-InputArea jp-Cell-inputArea">
<div class="jp-InputPrompt jp-InputArea-prompt">In&nbsp;[52]:</div>
<div class="jp-CodeMirrorEditor jp-Editor jp-InputArea-editor" data-type="inline">
     <div class="CodeMirror cm-s-jupyter">
<div class=" highlight hl-ipython3"><pre><span></span><span class="c1"># [a] Conduct the following simulation exercise 50 times</span>

<span class="n">path</span> <span class="o">=</span> <span class="s2">"PSL_data/Coding2_Data2.csv"</span>

<span class="n">X</span><span class="p">,</span><span class="n">Y</span> <span class="o">=</span> <span class="n">load_data</span><span class="p">(</span><span class="n">path</span><span class="p">)</span>

<span class="n">MSPE1</span> <span class="o">=</span> <span class="n">np</span><span class="o">.</span><span class="n">zeros</span><span class="p">((</span><span class="mi">50</span><span class="p">,</span> <span class="mi">6</span><span class="p">))</span>

<span class="k">for</span> <span class="n">i</span> <span class="ow">in</span> <span class="n">tqdm</span><span class="p">(</span><span class="nb">range</span><span class="p">(</span><span class="mi">50</span><span class="p">)):</span>

    <span class="n">X_train</span><span class="p">,</span><span class="n">Y_train</span><span class="p">,</span> <span class="n">X_test</span><span class="p">,</span> <span class="n">Y_test</span><span class="p">,</span> <span class="n">X_train_scaled</span><span class="p">,</span> <span class="n">X_test_scaled</span> <span class="o">=</span> <span class="n">preprocess_data</span><span class="p">(</span><span class="n">X</span><span class="p">,</span><span class="n">Y</span><span class="p">)</span>

    <span class="n">full_mse_error</span> <span class="o">=</span> <span class="n">full_lm</span><span class="p">(</span><span class="n">X_train</span><span class="p">,</span><span class="n">Y_train</span><span class="p">,</span><span class="n">X_test</span><span class="p">,</span><span class="n">Y_test</span><span class="p">)</span>
    <span class="n">MSPE1</span><span class="p">[</span><span class="n">i</span><span class="p">,</span> <span class="mi">0</span><span class="p">]</span> <span class="o">=</span> <span class="n">full_mse_error</span>


    <span class="n">Ridge_mse_err</span> <span class="o">=</span> <span class="n">Ridge_Regression</span><span class="p">(</span><span class="n">X_train_scaled</span><span class="p">,</span><span class="n">X_test_scaled</span><span class="p">,</span><span class="n">Y_train</span><span class="p">,</span><span class="n">Y_test</span><span class="p">)</span>
    <span class="n">MSPE1</span><span class="p">[</span><span class="n">i</span><span class="p">,</span> <span class="mi">1</span><span class="p">]</span> <span class="o">=</span> <span class="n">Ridge_mse_err</span>


    <span class="n">alpha_min_mse_err</span><span class="p">,</span><span class="n">alpha_1se_mse_err</span><span class="p">,</span> <span class="n">lasso_model_1se</span> <span class="o">=</span> <span class="n">lasso</span><span class="p">(</span><span class="n">X_train_scaled</span><span class="p">,</span><span class="n">X_test_scaled</span><span class="p">,</span><span class="n">Y_train</span><span class="p">,</span><span class="n">Y_test</span><span class="p">)</span>
    <span class="n">MSPE1</span><span class="p">[</span><span class="n">i</span><span class="p">,</span><span class="mi">2</span><span class="p">]</span> <span class="o">=</span> <span class="n">alpha_min_mse_err</span>
    <span class="n">MSPE1</span><span class="p">[</span><span class="n">i</span><span class="p">,</span><span class="mi">3</span><span class="p">]</span> <span class="o">=</span> <span class="n">alpha_1se_mse_err</span>


    <span class="n">refit_1m_mse_err</span> <span class="o">=</span> <span class="n">Refit_lasso</span><span class="p">(</span><span class="n">lasso_model_1se</span><span class="p">,</span><span class="n">X_train</span><span class="p">,</span><span class="n">Y_train</span><span class="p">,</span><span class="n">X_test</span><span class="p">,</span><span class="n">Y_test</span><span class="p">)</span>
    <span class="n">MSPE1</span><span class="p">[</span><span class="n">i</span><span class="p">,</span><span class="mi">4</span><span class="p">]</span> <span class="o">=</span> <span class="n">refit_1m_mse_err</span>


    <span class="n">pcr</span> <span class="o">=</span> <span class="n">PCR</span><span class="p">()</span>
    <span class="n">pcr</span><span class="o">.</span><span class="n">fit</span><span class="p">(</span><span class="n">X_train</span><span class="o">.</span><span class="n">to_numpy</span><span class="p">(),</span> <span class="n">Y_train</span><span class="o">.</span><span class="n">to_numpy</span><span class="p">())</span>
    <span class="n">PCR_mse_err</span> <span class="o">=</span> <span class="n">mean_squared_error</span><span class="p">(</span><span class="n">Y_test</span><span class="p">,</span> <span class="n">pcr</span><span class="o">.</span><span class="n">predict</span><span class="p">(</span><span class="n">X_test</span><span class="o">.</span><span class="n">to_numpy</span><span class="p">()))</span>
    <span class="n">MSPE1</span><span class="p">[</span><span class="n">i</span><span class="p">,</span><span class="mi">5</span><span class="p">]</span> <span class="o">=</span> <span class="n">PCR_mse_err</span>
</pre></div>

     </div>
</div>
</div>
</div>

<div class="jp-Cell-outputWrapper">
<div class="jp-Collapser jp-OutputCollapser jp-Cell-outputCollapser">
</div>


<div class="jp-OutputArea jp-Cell-outputArea">
<div class="jp-OutputArea-child">
    
    <div class="jp-OutputPrompt jp-OutputArea-prompt"></div>


<div class="jp-RenderedText jp-OutputArea-output" data-mime-type="application/vnd.jupyter.stderr">
<pre>100%|███████████████████████████████████████████████████████████████████████████████████████████████████████████████████████████████████████████████████████████████████████| 50/50 [07:31&lt;00:00,  9.04s/it]
</pre>
</div>
</div>

</div>

</div>

</div><div class="jp-Cell jp-CodeCell jp-Notebook-cell jp-mod-noOutputs  ">
<div class="jp-Cell-inputWrapper">
<div class="jp-Collapser jp-InputCollapser jp-Cell-inputCollapser">
</div>
<div class="jp-InputArea jp-Cell-inputArea">
<div class="jp-InputPrompt jp-InputArea-prompt">In&nbsp;[53]:</div>
<div class="jp-CodeMirrorEditor jp-Editor jp-InputArea-editor" data-type="inline">
     <div class="CodeMirror cm-s-jupyter">
<div class=" highlight hl-ipython3"><pre><span></span><span class="n">MSPE1_file_path</span> <span class="o">=</span> <span class="s1">'PSL_data/MSPE1.npy'</span>

<span class="c1"># Save the MSPE</span>
<span class="n">np</span><span class="o">.</span><span class="n">save</span><span class="p">(</span><span class="n">MSPE1_file_path</span><span class="p">,</span> <span class="n">MSPE1</span><span class="p">)</span>

<span class="n">MSPE1</span> <span class="o">=</span> <span class="n">np</span><span class="o">.</span><span class="n">load</span><span class="p">(</span><span class="n">MSPE1_file_path</span><span class="p">)</span>
</pre></div>

     </div>
</div>
</div>
</div>

</div><div class="jp-Cell jp-CodeCell jp-Notebook-cell   ">
<div class="jp-Cell-inputWrapper">
<div class="jp-Collapser jp-InputCollapser jp-Cell-inputCollapser">
</div>
<div class="jp-InputArea jp-Cell-inputArea">
<div class="jp-InputPrompt jp-InputArea-prompt">In&nbsp;[54]:</div>
<div class="jp-CodeMirrorEditor jp-Editor jp-InputArea-editor" data-type="inline">
     <div class="CodeMirror cm-s-jupyter">
<div class=" highlight hl-ipython3"><pre><span></span><span class="c1"># [b] Graphically summarize findings on the MSPE using a strip chart with a boxplot overlay.</span>

<span class="n">fig</span><span class="p">,</span> <span class="n">ax</span> <span class="o">=</span> <span class="n">plt</span><span class="o">.</span><span class="n">subplots</span><span class="p">()</span>

<span class="n">bp1</span> <span class="o">=</span> <span class="n">sns</span><span class="o">.</span><span class="n">boxplot</span><span class="p">(</span><span class="n">data</span><span class="o">=</span><span class="n">MSPE1</span><span class="p">)</span>
<span class="n">g1</span> <span class="o">=</span> <span class="n">sns</span><span class="o">.</span><span class="n">stripplot</span><span class="p">(</span><span class="n">data</span><span class="o">=</span><span class="n">MSPE1</span><span class="p">,</span> <span class="n">ax</span><span class="o">=</span><span class="n">ax</span><span class="p">)</span>

<span class="n">xtick_labels</span> <span class="o">=</span> <span class="n">np</span><span class="o">.</span><span class="n">array</span><span class="p">([</span><span class="s2">"Full"</span><span class="p">,</span> <span class="s2">"Ridge.min"</span><span class="p">,</span> <span class="s2">"Lasso.min"</span><span class="p">,</span> <span class="s2">"Lasso.1se"</span><span class="p">,</span> <span class="s2">"L.Refit"</span><span class="p">,</span> <span class="s2">"PCR"</span><span class="p">])</span>
<span class="n">g1</span><span class="o">.</span><span class="n">set_xticks</span><span class="p">(</span><span class="nb">range</span><span class="p">(</span><span class="n">xtick_labels</span><span class="o">.</span><span class="n">shape</span><span class="p">[</span><span class="mi">0</span><span class="p">]),</span> <span class="n">xtick_labels</span><span class="p">)</span>
<span class="n">ax</span><span class="o">.</span><span class="n">set_ylabel</span><span class="p">(</span><span class="s1">'Mean Squared Prediction Error'</span><span class="p">)</span>


<span class="n">plt</span><span class="o">.</span><span class="n">show</span><span class="p">()</span>
</pre></div>

     </div>
</div>
</div>
</div>

<div class="jp-Cell-outputWrapper">
<div class="jp-Collapser jp-OutputCollapser jp-Cell-outputCollapser">
</div>


<div class="jp-OutputArea jp-Cell-outputArea">
<div class="jp-OutputArea-child">
    
    <div class="jp-OutputPrompt jp-OutputArea-prompt"></div>




<div class="jp-RenderedImage jp-OutputArea-output ">
<img src="data:image/png;base64,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
"
class="
"
>
</div>

</div>

</div>

</div>

</div>
<div class="jp-Cell jp-MarkdownCell jp-Notebook-cell">
<div class="jp-Cell-inputWrapper">
<div class="jp-Collapser jp-InputCollapser jp-Cell-inputCollapser">
</div>
<div class="jp-InputArea jp-Cell-inputArea"><div class="jp-InputPrompt jp-InputArea-prompt">
</div><div class="jp-RenderedHTMLCommon jp-RenderedMarkdown jp-MarkdownOutput " data-mime-type="text/markdown">
<p><strong>Which procedure or procedures yield the best performance in terms of MSPE?</strong></p>
<p>Both Ridget.min and Lasso.min  appear to exhibit the best performance in terms of MSPE because the boxplot shows that the medians of their MSPE values are the lowest among all the procedures, with Lasso.min having a more tightly packed IQR compared to Ridget.min.</p>
<p><strong>Conversely, which procedure or procedures show the poorest performance?</strong></p>
<p>Both Lasso.ise and L.Refit seem to produce the poorest performance with respect to MSPE as the boxplot displayes that their MSPE medians are comparably the highest among all the methods, and their IQR show a similar spread.</p>
<p><strong>In the context of Lasso regression, which procedure, Lasso.min or Lasso.1se, yields a better MSPE?</strong></p>
<p>Lasso.min yields a better MSPE, as indicated by the boxplot that the IQR of Lasso.min's MSPE is on a lower end compared to Lasso.1se.</p>
<p><strong>Is refitting advantageous in this case? In other words, does L.Refit outperform Lasso.1se?</strong></p>
<p>L.Refit appears to outperform Lasso.1se with lower MSPE's median and more compact IQR.</p>
<p><strong>Is variable selection or shrinkage warranted for this particular dataset? To clarify, do you find the performance of the Full model to be comparable to, or divergent from, the best-performing procedure among the other five?</strong></p>
<p>The Full model appears to perform less effectively than both Ridget.min, which applies variable shrinkage, and Lasso.min, which conducts variable selection, this simulation study suggests that both variable selection and shrinkage techniques are justified for this specific dataset.</p>

</div>
</div>
</div>
</div>
<div class="jp-Cell jp-MarkdownCell jp-Notebook-cell">
<div class="jp-Cell-inputWrapper">
<div class="jp-Collapser jp-InputCollapser jp-Cell-inputCollapser">
</div>
<div class="jp-InputArea jp-Cell-inputArea"><div class="jp-InputPrompt jp-InputArea-prompt">
</div><div class="jp-RenderedHTMLCommon jp-RenderedMarkdown jp-MarkdownOutput " data-mime-type="text/markdown">
<h1 id="Case-II"><strong>Case II</strong><a class="anchor-link" href="#Case-II">&#182;</a></h1><p>Download Coding2_Data3.csv. The first 92 columns are identical to those in Coding2_Data2.csv,
with the addition of 500 columns of artificially generated noise features.</p>

</div>
</div>
</div>
</div><div class="jp-Cell jp-CodeCell jp-Notebook-cell   ">
<div class="jp-Cell-inputWrapper">
<div class="jp-Collapser jp-InputCollapser jp-Cell-inputCollapser">
</div>
<div class="jp-InputArea jp-Cell-inputArea">
<div class="jp-InputPrompt jp-InputArea-prompt">In&nbsp;[55]:</div>
<div class="jp-CodeMirrorEditor jp-Editor jp-InputArea-editor" data-type="inline">
     <div class="CodeMirror cm-s-jupyter">
<div class=" highlight hl-ipython3"><pre><span></span><span class="c1"># [a] Conduct the following simulation exercise 50 times. Repeat [a] and [b] above for the five procedures excluding the Full procedure.</span>

<span class="n">file_path2</span> <span class="o">=</span> <span class="s1">'PSL_data/Coding2_Data3.csv'</span>

<span class="n">X2</span><span class="p">,</span><span class="n">Y2</span> <span class="o">=</span> <span class="n">load_data</span><span class="p">(</span><span class="n">file_path2</span><span class="p">)</span>

<span class="n">MSPE2</span> <span class="o">=</span> <span class="n">np</span><span class="o">.</span><span class="n">zeros</span><span class="p">((</span><span class="mi">50</span><span class="p">,</span> <span class="mi">5</span><span class="p">))</span>

<span class="k">for</span> <span class="n">i</span> <span class="ow">in</span> <span class="n">tqdm</span><span class="p">(</span><span class="nb">range</span><span class="p">(</span><span class="mi">50</span><span class="p">)):</span>

    <span class="n">X_train</span><span class="p">,</span><span class="n">Y_train</span><span class="p">,</span> <span class="n">X_test</span><span class="p">,</span> <span class="n">Y_test</span><span class="p">,</span> <span class="n">X_train_scaled</span><span class="p">,</span> <span class="n">X_test_scaled</span> <span class="o">=</span> <span class="n">preprocess_data</span><span class="p">(</span><span class="n">X2</span><span class="p">,</span><span class="n">Y2</span><span class="p">)</span>


    <span class="n">Ridge_mse_err</span> <span class="o">=</span> <span class="n">Ridge_Regression</span><span class="p">(</span><span class="n">X_train_scaled</span><span class="p">,</span><span class="n">X_test_scaled</span><span class="p">,</span><span class="n">Y_train</span><span class="p">,</span><span class="n">Y_test</span><span class="p">)</span>
    <span class="n">MSPE2</span><span class="p">[</span><span class="n">i</span><span class="p">,</span> <span class="mi">0</span><span class="p">]</span> <span class="o">=</span> <span class="n">Ridge_mse_err</span>

    <span class="n">alpha_min_mse_err</span><span class="p">,</span><span class="n">alpha_1se_mse_err</span><span class="p">,</span> <span class="n">lasso_model_1se</span> <span class="o">=</span> <span class="n">lasso</span><span class="p">(</span><span class="n">X_train_scaled</span><span class="p">,</span><span class="n">X_test_scaled</span><span class="p">,</span><span class="n">Y_train</span><span class="p">,</span><span class="n">Y_test</span><span class="p">)</span>
    <span class="n">MSPE2</span><span class="p">[</span><span class="n">i</span><span class="p">,</span><span class="mi">1</span><span class="p">]</span> <span class="o">=</span> <span class="n">alpha_min_mse_err</span>
    <span class="n">MSPE2</span><span class="p">[</span><span class="n">i</span><span class="p">,</span><span class="mi">2</span><span class="p">]</span> <span class="o">=</span> <span class="n">alpha_1se_mse_err</span>

    <span class="n">refit_1m_mse_err</span> <span class="o">=</span> <span class="n">Refit_lasso</span><span class="p">(</span><span class="n">lasso_model_1se</span><span class="p">,</span><span class="n">X_train</span><span class="p">,</span><span class="n">Y_train</span><span class="p">,</span><span class="n">X_test</span><span class="p">,</span><span class="n">Y_test</span><span class="p">)</span>
    <span class="n">MSPE2</span><span class="p">[</span><span class="n">i</span><span class="p">,</span><span class="mi">3</span><span class="p">]</span> <span class="o">=</span> <span class="n">refit_1m_mse_err</span>


    <span class="n">pcr</span> <span class="o">=</span> <span class="n">PCR</span><span class="p">()</span>
    <span class="n">pcr</span><span class="o">.</span><span class="n">fit</span><span class="p">(</span><span class="n">X_train</span><span class="o">.</span><span class="n">to_numpy</span><span class="p">(),</span> <span class="n">Y_train</span><span class="o">.</span><span class="n">to_numpy</span><span class="p">())</span>
    <span class="n">PCR_mse_err</span> <span class="o">=</span> <span class="n">mean_squared_error</span><span class="p">(</span><span class="n">Y_test</span><span class="p">,</span> <span class="n">pcr</span><span class="o">.</span><span class="n">predict</span><span class="p">(</span><span class="n">X_test</span><span class="o">.</span><span class="n">to_numpy</span><span class="p">()))</span>
    <span class="n">MSPE2</span><span class="p">[</span><span class="n">i</span><span class="p">,</span><span class="mi">4</span><span class="p">]</span> <span class="o">=</span> <span class="n">PCR_mse_err</span>
</pre></div>

     </div>
</div>
</div>
</div>

<div class="jp-Cell-outputWrapper">
<div class="jp-Collapser jp-OutputCollapser jp-Cell-outputCollapser">
</div>


<div class="jp-OutputArea jp-Cell-outputArea">
<div class="jp-OutputArea-child">
    
    <div class="jp-OutputPrompt jp-OutputArea-prompt"></div>


<div class="jp-RenderedText jp-OutputArea-output" data-mime-type="application/vnd.jupyter.stderr">
<pre>100%|███████████████████████████████████████████████████████████████████████████████████████████████████████████████████████████████████████████████████████████████████████| 50/50 [27:35&lt;00:00, 33.10s/it]
</pre>
</div>
</div>

</div>

</div>

</div><div class="jp-Cell jp-CodeCell jp-Notebook-cell jp-mod-noOutputs  ">
<div class="jp-Cell-inputWrapper">
<div class="jp-Collapser jp-InputCollapser jp-Cell-inputCollapser">
</div>
<div class="jp-InputArea jp-Cell-inputArea">
<div class="jp-InputPrompt jp-InputArea-prompt">In&nbsp;[56]:</div>
<div class="jp-CodeMirrorEditor jp-Editor jp-InputArea-editor" data-type="inline">
     <div class="CodeMirror cm-s-jupyter">
<div class=" highlight hl-ipython3"><pre><span></span><span class="n">MSPE2_file_path</span> <span class="o">=</span> <span class="s1">'PSL_data/MSPE2.npy'</span>

<span class="c1"># Save the MSPE</span>
<span class="n">np</span><span class="o">.</span><span class="n">save</span><span class="p">(</span><span class="n">MSPE2_file_path</span><span class="p">,</span> <span class="n">MSPE2</span><span class="p">)</span>

<span class="n">MSPE2</span> <span class="o">=</span> <span class="n">np</span><span class="o">.</span><span class="n">load</span><span class="p">(</span><span class="n">MSPE2_file_path</span><span class="p">)</span>
</pre></div>

     </div>
</div>
</div>
</div>

</div><div class="jp-Cell jp-CodeCell jp-Notebook-cell   ">
<div class="jp-Cell-inputWrapper">
<div class="jp-Collapser jp-InputCollapser jp-Cell-inputCollapser">
</div>
<div class="jp-InputArea jp-Cell-inputArea">
<div class="jp-InputPrompt jp-InputArea-prompt">In&nbsp;[57]:</div>
<div class="jp-CodeMirrorEditor jp-Editor jp-InputArea-editor" data-type="inline">
     <div class="CodeMirror cm-s-jupyter">
<div class=" highlight hl-ipython3"><pre><span></span><span class="c1"># [b] Graphically summarize findings on the MSPE using a strip chart with a boxplot overlay.</span>

<span class="n">fig</span><span class="p">,</span> <span class="n">ax</span> <span class="o">=</span> <span class="n">plt</span><span class="o">.</span><span class="n">subplots</span><span class="p">()</span>

<span class="n">bp2</span> <span class="o">=</span> <span class="n">sns</span><span class="o">.</span><span class="n">boxplot</span><span class="p">(</span><span class="n">data</span><span class="o">=</span><span class="n">MSPE2</span><span class="p">)</span>
<span class="n">g2</span> <span class="o">=</span> <span class="n">sns</span><span class="o">.</span><span class="n">stripplot</span><span class="p">(</span><span class="n">data</span><span class="o">=</span><span class="n">MSPE2</span><span class="p">,</span> <span class="n">ax</span><span class="o">=</span><span class="n">ax</span><span class="p">)</span>

<span class="n">xtick_labels</span> <span class="o">=</span> <span class="n">np</span><span class="o">.</span><span class="n">array</span><span class="p">([</span><span class="s2">"Ridge.min"</span><span class="p">,</span> <span class="s2">"Lasso.min"</span><span class="p">,</span> <span class="s2">"Lasso.1se"</span><span class="p">,</span> <span class="s2">"L.Refit"</span><span class="p">,</span> <span class="s2">"PCR"</span><span class="p">])</span>
<span class="n">g2</span><span class="o">.</span><span class="n">set_xticks</span><span class="p">(</span><span class="nb">range</span><span class="p">(</span><span class="n">xtick_labels</span><span class="o">.</span><span class="n">shape</span><span class="p">[</span><span class="mi">0</span><span class="p">]),</span> <span class="n">xtick_labels</span><span class="p">)</span>
<span class="n">ax</span><span class="o">.</span><span class="n">set_ylabel</span><span class="p">(</span><span class="s1">'Mean Squared Prediction Error'</span><span class="p">)</span>


<span class="n">plt</span><span class="o">.</span><span class="n">show</span><span class="p">()</span>
</pre></div>

     </div>
</div>
</div>
</div>

<div class="jp-Cell-outputWrapper">
<div class="jp-Collapser jp-OutputCollapser jp-Cell-outputCollapser">
</div>


<div class="jp-OutputArea jp-Cell-outputArea">
<div class="jp-OutputArea-child">
    
    <div class="jp-OutputPrompt jp-OutputArea-prompt"></div>




<div class="jp-RenderedImage jp-OutputArea-output ">
<img src="data:image/png;base64,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
"
class="
"
>
</div>

</div>

</div>

</div>

</div>
<div class="jp-Cell jp-MarkdownCell jp-Notebook-cell">
<div class="jp-Cell-inputWrapper">
<div class="jp-Collapser jp-InputCollapser jp-Cell-inputCollapser">
</div>
<div class="jp-InputArea jp-Cell-inputArea"><div class="jp-InputPrompt jp-InputArea-prompt">
</div><div class="jp-RenderedHTMLCommon jp-RenderedMarkdown jp-MarkdownOutput " data-mime-type="text/markdown">
<p><strong>Which procedure or procedures yield the best performance in terms of MSPE?</strong></p>
<p>Lasso.min appears to yield the best performance in terms of MSPE with lower MSPE's median and more compact IQR, as shown in the boxplot.</p>
<p><strong>Conversely, which procedure or procedures show the poorest performance?</strong></p>
<p>Ridge.min appears to yield the poorest performance in terms of MSPE because the plot shows that its MSPE is notably greater than that of all the other procedures.</p>
<p><strong>Have you observed any procedure or procedures that performed well in Case I but exhibited poorer performance in Case II, or vice versa? If so, please offer an explanation.</strong></p>
<p>Ridge.min performed well in Case I but exhibited poorer performance in Case II. This outcome is expected because Case II involves the introduction of 500 noise features into the dataset, which can have a detrimental effect on model performance. In this scenario, the use of denoising techniques becomes essential. Ridge.min, which solely provides variable shrinkage, can result in high MSP in the presence of noisy features.</p>
<p><strong>Given that Coding2_Data3.csv includes all features found in Coding2_Data2.csv, one might anticipate that the best MSPE in Case II would be equal to or lower than the best MSPE in Case I. Do your simulation results corroborate this expectation? If not, please offer an explanation.</strong></p>
<p>Our simulation results do not corroborate this expectation because the best MSPE in Case II is slightly above 0.04, while the best MSPE in Case I is lower than 0.03, as shown in the plot. One possible explanation is that while Coding2_Data3.csv encompasses all the features present in Coding2_Data2.csv, it introduces an extra set of 500 noise features into the dataset. Even when employing Lasso.min, which incorporates a feature selection technique, it's possible that the 500 noise features are not completely eliminated. Consequently, this could lead to a higher MSPE.</p>

</div>
</div>
</div>
</div><div class="jp-Cell jp-CodeCell jp-Notebook-cell jp-mod-noOutputs  ">
<div class="jp-Cell-inputWrapper">
<div class="jp-Collapser jp-InputCollapser jp-Cell-inputCollapser">
</div>
<div class="jp-InputArea jp-Cell-inputArea">
<div class="jp-InputPrompt jp-InputArea-prompt">In&nbsp;[&nbsp;]:</div>
<div class="jp-CodeMirrorEditor jp-Editor jp-InputArea-editor" data-type="inline">
     <div class="CodeMirror cm-s-jupyter">
<div class=" highlight hl-ipython3"><pre><span></span> 
</pre></div>

     </div>
</div>
</div>
</div>

</div>
</body>







</html>
